{
 "cells": [
  {
   "cell_type": "code",
   "execution_count": 1,
   "metadata": {},
   "outputs": [],
   "source": [
    "import pandas as pd\n",
    "import numpy as np\n",
    "import json\n",
    "import itertools as it"
   ]
  },
  {
   "cell_type": "markdown",
   "metadata": {},
   "source": [
    "---"
   ]
  },
  {
   "cell_type": "markdown",
   "metadata": {},
   "source": [
    "## The Sensor Data\n",
    "### Importing Sensor Data\n",
    "The file `S1sensors.csv` contains a tabulated values for sensor ID (numeric), room and sensor type."
   ]
  },
  {
   "cell_type": "code",
   "execution_count": 2,
   "metadata": {},
   "outputs": [],
   "source": [
    "dsS1Sensors = pd.read_csv('S1Sensors_preprocessed.csv', index_col = False)"
   ]
  },
  {
   "cell_type": "code",
   "execution_count": 3,
   "metadata": {},
   "outputs": [
    {
     "data": {
      "text/html": [
       "<div>\n",
       "<style scoped>\n",
       "    .dataframe tbody tr th:only-of-type {\n",
       "        vertical-align: middle;\n",
       "    }\n",
       "\n",
       "    .dataframe tbody tr th {\n",
       "        vertical-align: top;\n",
       "    }\n",
       "\n",
       "    .dataframe thead th {\n",
       "        text-align: right;\n",
       "    }\n",
       "</style>\n",
       "<table border=\"1\" class=\"dataframe\">\n",
       "  <thead>\n",
       "    <tr style=\"text-align: right;\">\n",
       "      <th></th>\n",
       "      <th>subActNum</th>\n",
       "      <th>room</th>\n",
       "      <th>activity</th>\n",
       "      <th>concat</th>\n",
       "      <th>reqElectricity</th>\n",
       "      <th>subActNumConcat</th>\n",
       "    </tr>\n",
       "  </thead>\n",
       "  <tbody>\n",
       "    <tr>\n",
       "      <th>0</th>\n",
       "      <td>100</td>\n",
       "      <td>Bathroom</td>\n",
       "      <td>Toilet Flush</td>\n",
       "      <td>bathroom_toiletflush</td>\n",
       "      <td>False</td>\n",
       "      <td>subActNum_100</td>\n",
       "    </tr>\n",
       "    <tr>\n",
       "      <th>1</th>\n",
       "      <td>101</td>\n",
       "      <td>Bathroom</td>\n",
       "      <td>Light switch</td>\n",
       "      <td>bathroom_lightswitch</td>\n",
       "      <td>True</td>\n",
       "      <td>subActNum_101</td>\n",
       "    </tr>\n",
       "    <tr>\n",
       "      <th>2</th>\n",
       "      <td>104</td>\n",
       "      <td>Foyer</td>\n",
       "      <td>Light switch</td>\n",
       "      <td>foyer_lightswitch</td>\n",
       "      <td>True</td>\n",
       "      <td>subActNum_104</td>\n",
       "    </tr>\n",
       "    <tr>\n",
       "      <th>3</th>\n",
       "      <td>105</td>\n",
       "      <td>Kitchen</td>\n",
       "      <td>Light switch</td>\n",
       "      <td>kitchen_lightswitch</td>\n",
       "      <td>True</td>\n",
       "      <td>subActNum_105</td>\n",
       "    </tr>\n",
       "    <tr>\n",
       "      <th>4</th>\n",
       "      <td>106</td>\n",
       "      <td>Kitchen</td>\n",
       "      <td>Burner</td>\n",
       "      <td>kitchen_burner</td>\n",
       "      <td>True</td>\n",
       "      <td>subActNum_106</td>\n",
       "    </tr>\n",
       "  </tbody>\n",
       "</table>\n",
       "</div>"
      ],
      "text/plain": [
       "   subActNum      room       activity                concat  reqElectricity  \\\n",
       "0        100  Bathroom  Toilet Flush   bathroom_toiletflush           False   \n",
       "1        101  Bathroom   Light switch  bathroom_lightswitch            True   \n",
       "2        104     Foyer   Light switch     foyer_lightswitch            True   \n",
       "3        105   Kitchen   Light switch   kitchen_lightswitch            True   \n",
       "4        106   Kitchen         Burner        kitchen_burner            True   \n",
       "\n",
       "  subActNumConcat  \n",
       "0   subActNum_100  \n",
       "1   subActNum_101  \n",
       "2   subActNum_104  \n",
       "3   subActNum_105  \n",
       "4   subActNum_106  "
      ]
     },
     "execution_count": 3,
     "metadata": {},
     "output_type": "execute_result"
    }
   ],
   "source": [
    "dsS1Sensors.head(n=5)                                         # Checking the dataset"
   ]
  },
  {
   "cell_type": "markdown",
   "metadata": {},
   "source": [
    "---"
   ]
  },
  {
   "cell_type": "markdown",
   "metadata": {},
   "source": [
    "# Relationships\n",
    "\n",
    "### Intersection\n",
    "<pre>\n",
    "|----EventA----|  <br>\n",
    "            |---EventB---|   \n",
    "</pre>\n",
    "\n",
    "### Separate\n",
    "<pre>\n",
    "|----EventA----|  <br>\n",
    "                    |---EventB---|   \n",
    "</pre>\n",
    "\n",
    "### Enclosed\n",
    "<pre>\n",
    "|----------EventA----------|  <br>\n",
    "           |---EventB---|   \n",
    "</pre>\n",
    "\n",
    "### Equal\n",
    "<pre>\n",
    "       |---EventA---|  <br>\n",
    "       |---EventB---|   \n",
    "</pre>\n",
    "\n",
    "### More?\n",
    "\n",
    "A & B & C\n",
    "\n",
    "A &rightarrow; B\n"
   ]
  },
  {
   "cell_type": "markdown",
   "metadata": {},
   "source": [
    "---"
   ]
  },
  {
   "cell_type": "code",
   "execution_count": 4,
   "metadata": {},
   "outputs": [
    {
     "data": {
      "text/plain": [
       "2850"
      ]
     },
     "execution_count": 4,
     "metadata": {},
     "output_type": "execute_result"
    }
   ],
   "source": [
    "iteration_2n = it.combinations(dsS1Sensors.subActNum, 2)\n",
    "array_2n = np.array(list(iteration_2n))\n",
    "len(array_2n)"
   ]
  },
  {
   "cell_type": "code",
   "execution_count": 5,
   "metadata": {},
   "outputs": [
    {
     "data": {
      "text/plain": [
       "array([[100, 101],\n",
       "       [100, 104],\n",
       "       [100, 105],\n",
       "       [100, 106]])"
      ]
     },
     "execution_count": 5,
     "metadata": {},
     "output_type": "execute_result"
    }
   ],
   "source": [
    "array_2n[0:4]"
   ]
  },
  {
   "cell_type": "code",
   "execution_count": 6,
   "metadata": {},
   "outputs": [],
   "source": [
    "dsCombin2n = pd.DataFrame({'EventA': array_2n[:, 0], \n",
    "                           'EventB': array_2n[:, 1]})"
   ]
  },
  {
   "cell_type": "code",
   "execution_count": 10,
   "metadata": {},
   "outputs": [
    {
     "data": {
      "text/html": [
       "<div>\n",
       "<style scoped>\n",
       "    .dataframe tbody tr th:only-of-type {\n",
       "        vertical-align: middle;\n",
       "    }\n",
       "\n",
       "    .dataframe tbody tr th {\n",
       "        vertical-align: top;\n",
       "    }\n",
       "\n",
       "    .dataframe thead th {\n",
       "        text-align: right;\n",
       "    }\n",
       "</style>\n",
       "<table border=\"1\" class=\"dataframe\">\n",
       "  <thead>\n",
       "    <tr style=\"text-align: right;\">\n",
       "      <th></th>\n",
       "      <th>EventA</th>\n",
       "      <th>EventB</th>\n",
       "    </tr>\n",
       "  </thead>\n",
       "  <tbody>\n",
       "    <tr>\n",
       "      <th>0</th>\n",
       "      <td>100</td>\n",
       "      <td>101</td>\n",
       "    </tr>\n",
       "    <tr>\n",
       "      <th>1</th>\n",
       "      <td>100</td>\n",
       "      <td>104</td>\n",
       "    </tr>\n",
       "    <tr>\n",
       "      <th>2</th>\n",
       "      <td>100</td>\n",
       "      <td>105</td>\n",
       "    </tr>\n",
       "    <tr>\n",
       "      <th>3</th>\n",
       "      <td>100</td>\n",
       "      <td>106</td>\n",
       "    </tr>\n",
       "    <tr>\n",
       "      <th>4</th>\n",
       "      <td>100</td>\n",
       "      <td>107</td>\n",
       "    </tr>\n",
       "  </tbody>\n",
       "</table>\n",
       "</div>"
      ],
      "text/plain": [
       "   EventA  EventB\n",
       "0     100     101\n",
       "1     100     104\n",
       "2     100     105\n",
       "3     100     106\n",
       "4     100     107"
      ]
     },
     "execution_count": 10,
     "metadata": {},
     "output_type": "execute_result"
    }
   ],
   "source": [
    "dsCombin2n.head(n=5)"
   ]
  },
  {
   "cell_type": "code",
   "execution_count": 11,
   "metadata": {},
   "outputs": [
    {
     "data": {
      "text/html": [
       "<div>\n",
       "<style scoped>\n",
       "    .dataframe tbody tr th:only-of-type {\n",
       "        vertical-align: middle;\n",
       "    }\n",
       "\n",
       "    .dataframe tbody tr th {\n",
       "        vertical-align: top;\n",
       "    }\n",
       "\n",
       "    .dataframe thead th {\n",
       "        text-align: right;\n",
       "    }\n",
       "</style>\n",
       "<table border=\"1\" class=\"dataframe\">\n",
       "  <thead>\n",
       "    <tr style=\"text-align: right;\">\n",
       "      <th></th>\n",
       "      <th>EventA</th>\n",
       "      <th>EventB</th>\n",
       "    </tr>\n",
       "  </thead>\n",
       "  <tbody>\n",
       "    <tr>\n",
       "      <th>2845</th>\n",
       "      <td>96</td>\n",
       "      <td>98</td>\n",
       "    </tr>\n",
       "    <tr>\n",
       "      <th>2846</th>\n",
       "      <td>96</td>\n",
       "      <td>99</td>\n",
       "    </tr>\n",
       "    <tr>\n",
       "      <th>2847</th>\n",
       "      <td>97</td>\n",
       "      <td>98</td>\n",
       "    </tr>\n",
       "    <tr>\n",
       "      <th>2848</th>\n",
       "      <td>97</td>\n",
       "      <td>99</td>\n",
       "    </tr>\n",
       "    <tr>\n",
       "      <th>2849</th>\n",
       "      <td>98</td>\n",
       "      <td>99</td>\n",
       "    </tr>\n",
       "  </tbody>\n",
       "</table>\n",
       "</div>"
      ],
      "text/plain": [
       "      EventA  EventB\n",
       "2845      96      98\n",
       "2846      96      99\n",
       "2847      97      98\n",
       "2848      97      99\n",
       "2849      98      99"
      ]
     },
     "execution_count": 11,
     "metadata": {},
     "output_type": "execute_result"
    }
   ],
   "source": [
    "dsCombin2n.tail(n=5)"
   ]
  },
  {
   "cell_type": "markdown",
   "metadata": {},
   "source": [
    "---"
   ]
  },
  {
   "cell_type": "code",
   "execution_count": 12,
   "metadata": {},
   "outputs": [
    {
     "data": {
      "text/plain": [
       "70300"
      ]
     },
     "execution_count": 12,
     "metadata": {},
     "output_type": "execute_result"
    }
   ],
   "source": [
    "iteration_3n = it.combinations(dsS1Sensors.subActNum, 3)\n",
    "array_3n = np.array(list(iteration_3n))\n",
    "len(array_3n)"
   ]
  },
  {
   "cell_type": "code",
   "execution_count": null,
   "metadata": {},
   "outputs": [],
   "source": [
    "array_3n[0:4]"
   ]
  },
  {
   "cell_type": "code",
   "execution_count": null,
   "metadata": {},
   "outputs": [],
   "source": [
    "dsCombin3n = pd.DataFrame({'EventA': array_3n[:, 0], \n",
    "                           'EventB': array_3n[:, 1],\n",
    "                           'EventC': array_3n[:, 2]})"
   ]
  },
  {
   "cell_type": "code",
   "execution_count": null,
   "metadata": {},
   "outputs": [],
   "source": [
    "dsCombin3n.head(n=5)"
   ]
  },
  {
   "cell_type": "code",
   "execution_count": null,
   "metadata": {},
   "outputs": [],
   "source": [
    "# Check all durations for outliers"
   ]
  },
  {
   "cell_type": "markdown",
   "metadata": {},
   "source": [
    "| EventA| EventB| Ev.A Start| Ev.A End| Ev.B Start|Ev.B End|Delta   | Descriptor | WendWday|Hour  |TimeofDay|\n",
    "|:-----:|:-----:|:--------: | :------:|:--------: |:------:|:------:| :------:   | :------:|:----:|:------: |\n",
    "| 100   | 101   | 10am      | dateTime| dateTime  |dateTime|-4      | Gap        | weekday | 6:00 |6Till8   |\n",
    "| 100   | 101   | 11am      | dateTime| dateTime  |dateTime|92      | Union      | weekend |12:00 |12Till14 |\n"
   ]
  }
 ],
 "metadata": {
  "kernelspec": {
   "display_name": "Python 3",
   "language": "python",
   "name": "python3"
  },
  "language_info": {
   "codemirror_mode": {
    "name": "ipython",
    "version": 3
   },
   "file_extension": ".py",
   "mimetype": "text/x-python",
   "name": "python",
   "nbconvert_exporter": "python",
   "pygments_lexer": "ipython3",
   "version": "3.7.4"
  },
  "toc-showmarkdowntxt": false,
  "toc-showtags": false
 },
 "nbformat": 4,
 "nbformat_minor": 4
}
