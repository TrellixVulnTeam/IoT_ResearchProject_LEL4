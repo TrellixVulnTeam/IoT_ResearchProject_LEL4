{
 "cells": [
  {
   "cell_type": "code",
   "execution_count": 1,
   "metadata": {
    "ExecuteTime": {
     "end_time": "2019-11-03T07:17:30.463358Z",
     "start_time": "2019-11-03T07:17:30.386249Z"
    }
   },
   "outputs": [],
   "source": [
    "from IPython import get_ipython;   \n",
    "get_ipython().magic('reset -sf')\n",
    "#https://github.com/kirbs-/hide_code"
   ]
  },
  {
   "cell_type": "markdown",
   "metadata": {},
   "source": [
    "# Machine Learning"
   ]
  },
  {
   "cell_type": "code",
   "execution_count": null,
   "metadata": {},
   "outputs": [],
   "source": []
  },
  {
   "cell_type": "code",
   "execution_count": 41,
   "metadata": {},
   "outputs": [],
   "source": [
    "import warnings\n",
    "warnings.filterwarnings(\"ignore\")\n",
    "import numpy as np\n",
    "import pandas as pd\n",
    "from sklearn.model_selection import train_test_split\n",
    "from sklearn.tree import DecisionTreeClassifier\n",
    "from sklearn import feature_selection as fs\n",
    "from sklearn.model_selection import RepeatedStratifiedKFold, GridSearchCV\n",
    "from sklearn.preprocessing import StandardScaler"
   ]
  },
  {
   "cell_type": "code",
   "execution_count": 42,
   "metadata": {},
   "outputs": [],
   "source": [
    "import altair as alt\n",
    "\n",
    "def plot_imp(target, best_features, scores, method_name, color):\n",
    "    \n",
    "    df = pd.DataFrame({'features': best_features, \n",
    "                       'importances': scores})\n",
    "    \n",
    "    chart = alt.Chart(df, \n",
    "                      width=500, \n",
    "                      title=target + \" \" + method_name + ' Feature Importances'\n",
    "                     ).mark_bar(opacity=0.95, \n",
    "                                color=color).encode(\n",
    "        alt.X('features', title='Feature', sort=None, axis=alt.AxisConfig(labelAngle=45)),\n",
    "        alt.Y('importances', title='Importance')\n",
    "    )\n",
    "    \n",
    "    return chart"
   ]
  },
  {
   "cell_type": "code",
   "execution_count": 43,
   "metadata": {},
   "outputs": [],
   "source": [
    "ds = pd.read_csv('S1SubAct_B_m_NoDupes.csv', index_col = \"duration\")\n",
    "ds.reset_index(drop = True, inplace = True)"
   ]
  },
  {
   "cell_type": "code",
   "execution_count": 44,
   "metadata": {},
   "outputs": [
    {
     "data": {
      "text/html": [
       "<div>\n",
       "<style scoped>\n",
       "    .dataframe tbody tr th:only-of-type {\n",
       "        vertical-align: middle;\n",
       "    }\n",
       "\n",
       "    .dataframe tbody tr th {\n",
       "        vertical-align: top;\n",
       "    }\n",
       "\n",
       "    .dataframe thead th {\n",
       "        text-align: right;\n",
       "    }\n",
       "</style>\n",
       "<table border=\"1\" class=\"dataframe\">\n",
       "  <thead>\n",
       "    <tr style=\"text-align: right;\">\n",
       "      <th></th>\n",
       "      <th>bathroom_toiletflush</th>\n",
       "      <th>bathroom_lightswitch</th>\n",
       "      <th>foyer_lightswitch</th>\n",
       "      <th>kitchen_lightswitch</th>\n",
       "      <th>kitchen_burner</th>\n",
       "      <th>livingroom_lightswitch</th>\n",
       "      <th>bedroom_lightswitch</th>\n",
       "      <th>kitchen_coffeemachine</th>\n",
       "      <th>kitchen_drawer</th>\n",
       "      <th>kitchen_refrigerator</th>\n",
       "      <th>...</th>\n",
       "      <th>bathroom_sinkfaucet-hot</th>\n",
       "      <th>kitchen_dishwasher</th>\n",
       "      <th>livingroom_lamp</th>\n",
       "      <th>study_drawer</th>\n",
       "      <th>bathroom_sinkfaucet-cold</th>\n",
       "      <th>kitchen_laundrydryer</th>\n",
       "      <th>study_lightwitch</th>\n",
       "      <th>bathroom_showerfaucet</th>\n",
       "      <th>bathroom_exhaustfan</th>\n",
       "      <th>kitchen_garbagedisposal</th>\n",
       "    </tr>\n",
       "  </thead>\n",
       "  <tbody>\n",
       "    <tr>\n",
       "      <th>0</th>\n",
       "      <td>0.0</td>\n",
       "      <td>0.0</td>\n",
       "      <td>0.0</td>\n",
       "      <td>0.0</td>\n",
       "      <td>0.0</td>\n",
       "      <td>0.0</td>\n",
       "      <td>0.0</td>\n",
       "      <td>0.0</td>\n",
       "      <td>0.0</td>\n",
       "      <td>0.0</td>\n",
       "      <td>...</td>\n",
       "      <td>0.0</td>\n",
       "      <td>0.0</td>\n",
       "      <td>0.0</td>\n",
       "      <td>0.0</td>\n",
       "      <td>0.0</td>\n",
       "      <td>0.0</td>\n",
       "      <td>0.0</td>\n",
       "      <td>0.0</td>\n",
       "      <td>0.0</td>\n",
       "      <td>0.0</td>\n",
       "    </tr>\n",
       "    <tr>\n",
       "      <th>1</th>\n",
       "      <td>1.0</td>\n",
       "      <td>1.0</td>\n",
       "      <td>0.0</td>\n",
       "      <td>0.0</td>\n",
       "      <td>0.0</td>\n",
       "      <td>0.0</td>\n",
       "      <td>0.0</td>\n",
       "      <td>0.0</td>\n",
       "      <td>0.0</td>\n",
       "      <td>0.0</td>\n",
       "      <td>...</td>\n",
       "      <td>0.0</td>\n",
       "      <td>0.0</td>\n",
       "      <td>0.0</td>\n",
       "      <td>0.0</td>\n",
       "      <td>0.0</td>\n",
       "      <td>0.0</td>\n",
       "      <td>0.0</td>\n",
       "      <td>0.0</td>\n",
       "      <td>0.0</td>\n",
       "      <td>0.0</td>\n",
       "    </tr>\n",
       "    <tr>\n",
       "      <th>2</th>\n",
       "      <td>0.0</td>\n",
       "      <td>1.0</td>\n",
       "      <td>0.0</td>\n",
       "      <td>0.0</td>\n",
       "      <td>0.0</td>\n",
       "      <td>0.0</td>\n",
       "      <td>0.0</td>\n",
       "      <td>0.0</td>\n",
       "      <td>0.0</td>\n",
       "      <td>0.0</td>\n",
       "      <td>...</td>\n",
       "      <td>0.0</td>\n",
       "      <td>0.0</td>\n",
       "      <td>0.0</td>\n",
       "      <td>1.0</td>\n",
       "      <td>0.0</td>\n",
       "      <td>0.0</td>\n",
       "      <td>0.0</td>\n",
       "      <td>0.0</td>\n",
       "      <td>0.0</td>\n",
       "      <td>0.0</td>\n",
       "    </tr>\n",
       "    <tr>\n",
       "      <th>3</th>\n",
       "      <td>0.0</td>\n",
       "      <td>1.0</td>\n",
       "      <td>0.0</td>\n",
       "      <td>0.0</td>\n",
       "      <td>0.0</td>\n",
       "      <td>0.0</td>\n",
       "      <td>0.0</td>\n",
       "      <td>0.0</td>\n",
       "      <td>0.0</td>\n",
       "      <td>0.0</td>\n",
       "      <td>...</td>\n",
       "      <td>0.0</td>\n",
       "      <td>0.0</td>\n",
       "      <td>0.0</td>\n",
       "      <td>0.0</td>\n",
       "      <td>0.0</td>\n",
       "      <td>0.0</td>\n",
       "      <td>0.0</td>\n",
       "      <td>0.0</td>\n",
       "      <td>0.0</td>\n",
       "      <td>0.0</td>\n",
       "    </tr>\n",
       "    <tr>\n",
       "      <th>4</th>\n",
       "      <td>0.0</td>\n",
       "      <td>1.0</td>\n",
       "      <td>0.0</td>\n",
       "      <td>0.0</td>\n",
       "      <td>0.0</td>\n",
       "      <td>0.0</td>\n",
       "      <td>0.0</td>\n",
       "      <td>0.0</td>\n",
       "      <td>0.0</td>\n",
       "      <td>0.0</td>\n",
       "      <td>...</td>\n",
       "      <td>0.0</td>\n",
       "      <td>0.0</td>\n",
       "      <td>0.0</td>\n",
       "      <td>0.0</td>\n",
       "      <td>0.0</td>\n",
       "      <td>0.0</td>\n",
       "      <td>0.0</td>\n",
       "      <td>0.0</td>\n",
       "      <td>0.0</td>\n",
       "      <td>0.0</td>\n",
       "    </tr>\n",
       "  </tbody>\n",
       "</table>\n",
       "<p>5 rows × 33 columns</p>\n",
       "</div>"
      ],
      "text/plain": [
       "   bathroom_toiletflush  bathroom_lightswitch  foyer_lightswitch  \\\n",
       "0                   0.0                   0.0                0.0   \n",
       "1                   1.0                   1.0                0.0   \n",
       "2                   0.0                   1.0                0.0   \n",
       "3                   0.0                   1.0                0.0   \n",
       "4                   0.0                   1.0                0.0   \n",
       "\n",
       "   kitchen_lightswitch  kitchen_burner  livingroom_lightswitch  \\\n",
       "0                  0.0             0.0                     0.0   \n",
       "1                  0.0             0.0                     0.0   \n",
       "2                  0.0             0.0                     0.0   \n",
       "3                  0.0             0.0                     0.0   \n",
       "4                  0.0             0.0                     0.0   \n",
       "\n",
       "   bedroom_lightswitch  kitchen_coffeemachine  kitchen_drawer  \\\n",
       "0                  0.0                    0.0             0.0   \n",
       "1                  0.0                    0.0             0.0   \n",
       "2                  0.0                    0.0             0.0   \n",
       "3                  0.0                    0.0             0.0   \n",
       "4                  0.0                    0.0             0.0   \n",
       "\n",
       "   kitchen_refrigerator  ...  bathroom_sinkfaucet-hot  kitchen_dishwasher  \\\n",
       "0                   0.0  ...                      0.0                 0.0   \n",
       "1                   0.0  ...                      0.0                 0.0   \n",
       "2                   0.0  ...                      0.0                 0.0   \n",
       "3                   0.0  ...                      0.0                 0.0   \n",
       "4                   0.0  ...                      0.0                 0.0   \n",
       "\n",
       "   livingroom_lamp  study_drawer  bathroom_sinkfaucet-cold  \\\n",
       "0              0.0           0.0                       0.0   \n",
       "1              0.0           0.0                       0.0   \n",
       "2              0.0           1.0                       0.0   \n",
       "3              0.0           0.0                       0.0   \n",
       "4              0.0           0.0                       0.0   \n",
       "\n",
       "   kitchen_laundrydryer  study_lightwitch  bathroom_showerfaucet  \\\n",
       "0                   0.0               0.0                    0.0   \n",
       "1                   0.0               0.0                    0.0   \n",
       "2                   0.0               0.0                    0.0   \n",
       "3                   0.0               0.0                    0.0   \n",
       "4                   0.0               0.0                    0.0   \n",
       "\n",
       "   bathroom_exhaustfan  kitchen_garbagedisposal  \n",
       "0                  0.0                      0.0  \n",
       "1                  0.0                      0.0  \n",
       "2                  0.0                      0.0  \n",
       "3                  0.0                      0.0  \n",
       "4                  0.0                      0.0  \n",
       "\n",
       "[5 rows x 33 columns]"
      ]
     },
     "execution_count": 44,
     "metadata": {},
     "output_type": "execute_result"
    }
   ],
   "source": [
    "ds.head()"
   ]
  },
  {
   "cell_type": "code",
   "execution_count": 45,
   "metadata": {},
   "outputs": [
    {
     "data": {
      "text/html": [
       "<div>\n",
       "<style scoped>\n",
       "    .dataframe tbody tr th:only-of-type {\n",
       "        vertical-align: middle;\n",
       "    }\n",
       "\n",
       "    .dataframe tbody tr th {\n",
       "        vertical-align: top;\n",
       "    }\n",
       "\n",
       "    .dataframe thead th {\n",
       "        text-align: right;\n",
       "    }\n",
       "</style>\n",
       "<table border=\"1\" class=\"dataframe\">\n",
       "  <thead>\n",
       "    <tr style=\"text-align: right;\">\n",
       "      <th></th>\n",
       "      <th>room</th>\n",
       "      <th>activity</th>\n",
       "      <th>concat</th>\n",
       "      <th>reqEnergy</th>\n",
       "      <th>subActNumConcat</th>\n",
       "      <th>wattage</th>\n",
       "    </tr>\n",
       "    <tr>\n",
       "      <th>subActNum</th>\n",
       "      <th></th>\n",
       "      <th></th>\n",
       "      <th></th>\n",
       "      <th></th>\n",
       "      <th></th>\n",
       "      <th></th>\n",
       "    </tr>\n",
       "  </thead>\n",
       "  <tbody>\n",
       "    <tr>\n",
       "      <th>100</th>\n",
       "      <td>Bathroom</td>\n",
       "      <td>Toilet Flush</td>\n",
       "      <td>bathroom_toiletflush</td>\n",
       "      <td>False</td>\n",
       "      <td>subActNum_100</td>\n",
       "      <td>100</td>\n",
       "    </tr>\n",
       "    <tr>\n",
       "      <th>101</th>\n",
       "      <td>Bathroom</td>\n",
       "      <td>Light switch</td>\n",
       "      <td>bathroom_lightswitch</td>\n",
       "      <td>True</td>\n",
       "      <td>subActNum_101</td>\n",
       "      <td>100</td>\n",
       "    </tr>\n",
       "    <tr>\n",
       "      <th>104</th>\n",
       "      <td>Foyer</td>\n",
       "      <td>Light switch</td>\n",
       "      <td>foyer_lightswitch</td>\n",
       "      <td>True</td>\n",
       "      <td>subActNum_104</td>\n",
       "      <td>100</td>\n",
       "    </tr>\n",
       "    <tr>\n",
       "      <th>105</th>\n",
       "      <td>Kitchen</td>\n",
       "      <td>Light switch</td>\n",
       "      <td>kitchen_lightswitch</td>\n",
       "      <td>True</td>\n",
       "      <td>subActNum_105</td>\n",
       "      <td>100</td>\n",
       "    </tr>\n",
       "    <tr>\n",
       "      <th>106</th>\n",
       "      <td>Kitchen</td>\n",
       "      <td>Burner</td>\n",
       "      <td>kitchen_burner</td>\n",
       "      <td>True</td>\n",
       "      <td>subActNum_106</td>\n",
       "      <td>100</td>\n",
       "    </tr>\n",
       "  </tbody>\n",
       "</table>\n",
       "</div>"
      ],
      "text/plain": [
       "               room       activity                concat  reqEnergy  \\\n",
       "subActNum                                                             \n",
       "100        Bathroom  Toilet Flush   bathroom_toiletflush      False   \n",
       "101        Bathroom   Light switch  bathroom_lightswitch       True   \n",
       "104           Foyer   Light switch     foyer_lightswitch       True   \n",
       "105         Kitchen   Light switch   kitchen_lightswitch       True   \n",
       "106         Kitchen         Burner        kitchen_burner       True   \n",
       "\n",
       "          subActNumConcat  wattage  \n",
       "subActNum                           \n",
       "100         subActNum_100      100  \n",
       "101         subActNum_101      100  \n",
       "104         subActNum_104      100  \n",
       "105         subActNum_105      100  \n",
       "106         subActNum_106      100  "
      ]
     },
     "execution_count": 45,
     "metadata": {},
     "output_type": "execute_result"
    }
   ],
   "source": [
    "ds_sensors = pd.read_csv('S1Sensors_preprocessed.csv', index_col = 'subActNum')\n",
    "#allSubActs = list(set(ds_sensors.concat)) #potentially useful but currently unused\n",
    "poweredSubActs = list(set(ds_sensors[ds_sensors.reqEnergy].concat))\n",
    "ds_sensors.head()"
   ]
  },
  {
   "cell_type": "markdown",
   "metadata": {},
   "source": [
    "## This is a loop for all powered subActs"
   ]
  },
  {
   "cell_type": "code",
   "execution_count": 46,
   "metadata": {},
   "outputs": [
    {
     "name": "stdout",
     "output_type": "stream",
     "text": [
      "livingroom_lightswitch\n",
      "0.8965952080706179\n",
      "Fitting 15 folds for each of 8 candidates, totalling 120 fits\n"
     ]
    },
    {
     "name": "stderr",
     "output_type": "stream",
     "text": [
      "[Parallel(n_jobs=1)]: Using backend SequentialBackend with 1 concurrent workers.\n",
      "[Parallel(n_jobs=1)]: Done 120 out of 120 | elapsed:    0.7s finished\n"
     ]
    },
    {
     "name": "stdout",
     "output_type": "stream",
     "text": [
      "GridSearchCV(cv=<sklearn.model_selection._split.RepeatedStratifiedKFold object at 0x000001CC81748438>,\n",
      "             error_score='raise-deprecating',\n",
      "             estimator=DecisionTreeClassifier(class_weight=None,\n",
      "                                              criterion='gini', max_depth=None,\n",
      "                                              max_features=None,\n",
      "                                              max_leaf_nodes=None,\n",
      "                                              min_impurity_decrease=0.0,\n",
      "                                              min_impurity_split=None,\n",
      "                                              min_samples_leaf=1,\n",
      "                                              min_samples_split=2,\n",
      "                                              min_weight_fraction_leaf=0.0,\n",
      "                                              presort=False, random_state=999,\n",
      "                                              splitter='best'),\n",
      "             iid='warn', n_jobs=None,\n",
      "             param_grid={'criterion': ['gini', 'entropy'],\n",
      "                         'max_depth': [2, 3, 4, 5]},\n",
      "             pre_dispatch='2*n_jobs', refit=True, return_train_score=False,\n",
      "             scoring='accuracy', verbose=1)\n",
      "{'criterion': 'gini', 'max_depth': 5}\n",
      "0.9067347710934545\n",
      "['foyer_lightswitch' 'livingroom_dvd' 'bathroom_showerfaucet'\n",
      " 'livingroom_lightswitch' 'bathroom_exhaustfan']\n",
      "[0.0328205  0.01709356 0.01685873 0.01222544 0.0077828 ]\n"
     ]
    },
    {
     "data": {
      "application/vnd.vegalite.v3+json": {
       "$schema": "https://vega.github.io/schema/vega-lite/v3.4.0.json",
       "config": {
        "mark": {
         "tooltip": null
        },
        "view": {
         "height": 300,
         "width": 400
        }
       },
       "data": {
        "name": "data-78293b25c867da622dfc0c82821828a1"
       },
       "datasets": {
        "data-78293b25c867da622dfc0c82821828a1": [
         {
          "features": "foyer_lightswitch",
          "importances": 0.03282050341857312
         },
         {
          "features": "livingroom_dvd",
          "importances": 0.017093555832856877
         },
         {
          "features": "bathroom_showerfaucet",
          "importances": 0.016858728694947755
         },
         {
          "features": "livingroom_lightswitch",
          "importances": 0.012225443244035183
         },
         {
          "features": "bathroom_exhaustfan",
          "importances": 0.007782798461784424
         }
        ]
       },
       "encoding": {
        "x": {
         "axis": {
          "labelAngle": 45
         },
         "field": "features",
         "sort": null,
         "title": "Feature",
         "type": "nominal"
        },
        "y": {
         "field": "importances",
         "title": "Importance",
         "type": "quantitative"
        }
       },
       "mark": {
        "color": "blue",
        "opacity": 0.95,
        "type": "bar"
       },
       "title": "livingroom_lightswitch Mutual Information Feature Importances",
       "width": 500
      },
      "image/png": "[encoded data removed]",
      "text/plain": [
       "<VegaLite 3 object>\n",
       "\n",
       "If you see this message, it means the renderer has not been properly enabled\n",
       "for the frontend that you are using. For more information, see\n",
       "https://altair-viz.github.io/user_guide/troubleshooting.html\n"
      ]
     },
     "metadata": {},
     "output_type": "display_data"
    },
    {
     "name": "stdout",
     "output_type": "stream",
     "text": [
      "kitchen_burner\n",
      "0.9602774274905422\n",
      "Fitting 15 folds for each of 8 candidates, totalling 120 fits\n"
     ]
    },
    {
     "name": "stderr",
     "output_type": "stream",
     "text": [
      "[Parallel(n_jobs=1)]: Using backend SequentialBackend with 1 concurrent workers.\n",
      "[Parallel(n_jobs=1)]: Done 120 out of 120 | elapsed:    0.7s finished\n"
     ]
    },
    {
     "name": "stdout",
     "output_type": "stream",
     "text": [
      "GridSearchCV(cv=<sklearn.model_selection._split.RepeatedStratifiedKFold object at 0x000001CC81A20400>,\n",
      "             error_score='raise-deprecating',\n",
      "             estimator=DecisionTreeClassifier(class_weight=None,\n",
      "                                              criterion='gini', max_depth=None,\n",
      "                                              max_features=None,\n",
      "                                              max_leaf_nodes=None,\n",
      "                                              min_impurity_decrease=0.0,\n",
      "                                              min_impurity_split=None,\n",
      "                                              min_samples_leaf=1,\n",
      "                                              min_samples_split=2,\n",
      "                                              min_weight_fraction_leaf=0.0,\n",
      "                                              presort=False, random_state=999,\n",
      "                                              splitter='best'),\n",
      "             iid='warn', n_jobs=None,\n",
      "             param_grid={'criterion': ['gini', 'entropy'],\n",
      "                         'max_depth': [2, 3, 4, 5]},\n",
      "             pre_dispatch='2*n_jobs', refit=True, return_train_score=False,\n",
      "             scoring='accuracy', verbose=1)\n",
      "{'criterion': 'gini', 'max_depth': 5}\n",
      "0.9597679404716862\n",
      "['kitchen_lightswitch' 'livingroom_lightswitch' 'kitchen_drawer'\n",
      " 'kitchen_door' 'kitchen_burner']\n",
      "[0.01577453 0.00935906 0.00866439 0.00722979 0.00697379]\n"
     ]
    },
    {
     "data": {
      "application/vnd.vegalite.v3+json": {
       "$schema": "https://vega.github.io/schema/vega-lite/v3.4.0.json",
       "config": {
        "mark": {
         "tooltip": null
        },
        "view": {
         "height": 300,
         "width": 400
        }
       },
       "data": {
        "name": "data-7cde86de38631955e746e650196aaeec"
       },
       "datasets": {
        "data-7cde86de38631955e746e650196aaeec": [
         {
          "features": "kitchen_lightswitch",
          "importances": 0.015774531772261735
         },
         {
          "features": "livingroom_lightswitch",
          "importances": 0.009359059059927288
         },
         {
          "features": "kitchen_drawer",
          "importances": 0.0086643904306829
         },
         {
          "features": "kitchen_door",
          "importances": 0.007229790319864815
         },
         {
          "features": "kitchen_burner",
          "importances": 0.0069737857707949935
         }
        ]
       },
       "encoding": {
        "x": {
         "axis": {
          "labelAngle": 45
         },
         "field": "features",
         "sort": null,
         "title": "Feature",
         "type": "nominal"
        },
        "y": {
         "field": "importances",
         "title": "Importance",
         "type": "quantitative"
        }
       },
       "mark": {
        "color": "blue",
        "opacity": 0.95,
        "type": "bar"
       },
       "title": "kitchen_burner Mutual Information Feature Importances",
       "width": 500
      },
      "image/png": "[encoded data removed]",
      "text/plain": [
       "<VegaLite 3 object>\n",
       "\n",
       "If you see this message, it means the renderer has not been properly enabled\n",
       "for the frontend that you are using. For more information, see\n",
       "https://altair-viz.github.io/user_guide/troubleshooting.html\n"
      ]
     },
     "metadata": {},
     "output_type": "display_data"
    },
    {
     "name": "stdout",
     "output_type": "stream",
     "text": [
      "kitchen_lightswitch\n",
      "0.7452711223203027\n",
      "Fitting 15 folds for each of 8 candidates, totalling 120 fits\n"
     ]
    },
    {
     "name": "stderr",
     "output_type": "stream",
     "text": [
      "[Parallel(n_jobs=1)]: Using backend SequentialBackend with 1 concurrent workers.\n",
      "[Parallel(n_jobs=1)]: Done 120 out of 120 | elapsed:    0.8s finished\n"
     ]
    },
    {
     "name": "stdout",
     "output_type": "stream",
     "text": [
      "GridSearchCV(cv=<sklearn.model_selection._split.RepeatedStratifiedKFold object at 0x000001CC817554A8>,\n",
      "             error_score='raise-deprecating',\n",
      "             estimator=DecisionTreeClassifier(class_weight=None,\n",
      "                                              criterion='gini', max_depth=None,\n",
      "                                              max_features=None,\n",
      "                                              max_leaf_nodes=None,\n",
      "                                              min_impurity_decrease=0.0,\n",
      "                                              min_impurity_split=None,\n",
      "                                              min_samples_leaf=1,\n",
      "                                              min_samples_split=2,\n",
      "                                              min_weight_fraction_leaf=0.0,\n",
      "                                              presort=False, random_state=999,\n",
      "                                              splitter='best'),\n",
      "             iid='warn', n_jobs=None,\n",
      "             param_grid={'criterion': ['gini', 'entropy'],\n",
      "                         'max_depth': [2, 3, 4, 5]},\n",
      "             pre_dispatch='2*n_jobs', refit=True, return_train_score=False,\n",
      "             scoring='accuracy', verbose=1)\n",
      "{'criterion': 'gini', 'max_depth': 5}\n",
      "0.7473199646865936\n",
      "['kitchen_lightswitch' 'livingroom_lamp' 'foyer_lightswitch'\n",
      " 'bathroom_sinkfaucet-hot' 'kitchen_laundrydryer']\n",
      "[0.01411877 0.01307963 0.01305533 0.01138569 0.01027978]\n"
     ]
    },
    {
     "data": {
      "application/vnd.vegalite.v3+json": {
       "$schema": "https://vega.github.io/schema/vega-lite/v3.4.0.json",
       "config": {
        "mark": {
         "tooltip": null
        },
        "view": {
         "height": 300,
         "width": 400
        }
       },
       "data": {
        "name": "data-78f295001e315205190299007c34f7b2"
       },
       "datasets": {
        "data-78f295001e315205190299007c34f7b2": [
         {
          "features": "kitchen_lightswitch",
          "importances": 0.014118768560918094
         },
         {
          "features": "livingroom_lamp",
          "importances": 0.013079631874205688
         },
         {
          "features": "foyer_lightswitch",
          "importances": 0.013055325310585397
         },
         {
          "features": "bathroom_sinkfaucet-hot",
          "importances": 0.011385694968476745
         },
         {
          "features": "kitchen_laundrydryer",
          "importances": 0.010279779086134644
         }
        ]
       },
       "encoding": {
        "x": {
         "axis": {
          "labelAngle": 45
         },
         "field": "features",
         "sort": null,
         "title": "Feature",
         "type": "nominal"
        },
        "y": {
         "field": "importances",
         "title": "Importance",
         "type": "quantitative"
        }
       },
       "mark": {
        "color": "blue",
        "opacity": 0.95,
        "type": "bar"
       },
       "title": "kitchen_lightswitch Mutual Information Feature Importances",
       "width": 500
      },
      "image/png": "[encoded data removed]",
      "text/plain": [
       "<VegaLite 3 object>\n",
       "\n",
       "If you see this message, it means the renderer has not been properly enabled\n",
       "for the frontend that you are using. For more information, see\n",
       "https://altair-viz.github.io/user_guide/troubleshooting.html\n"
      ]
     },
     "metadata": {},
     "output_type": "display_data"
    },
    {
     "name": "stdout",
     "output_type": "stream",
     "text": [
      "kitchen_coffeemachine\n",
      "0.998108448928121\n",
      "Fitting 15 folds for each of 8 candidates, totalling 120 fits\n"
     ]
    },
    {
     "name": "stderr",
     "output_type": "stream",
     "text": [
      "[Parallel(n_jobs=1)]: Using backend SequentialBackend with 1 concurrent workers.\n",
      "[Parallel(n_jobs=1)]: Done 120 out of 120 | elapsed:    0.6s finished\n"
     ]
    },
    {
     "name": "stdout",
     "output_type": "stream",
     "text": [
      "GridSearchCV(cv=<sklearn.model_selection._split.RepeatedStratifiedKFold object at 0x000001CC818DA7B8>,\n",
      "             error_score='raise-deprecating',\n",
      "             estimator=DecisionTreeClassifier(class_weight=None,\n",
      "                                              criterion='gini', max_depth=None,\n",
      "                                              max_features=None,\n",
      "                                              max_leaf_nodes=None,\n",
      "                                              min_impurity_decrease=0.0,\n",
      "                                              min_impurity_split=None,\n",
      "                                              min_samples_leaf=1,\n",
      "                                              min_samples_split=2,\n",
      "                                              min_weight_fraction_leaf=0.0,\n",
      "                                              presort=False, random_state=999,\n",
      "                                              splitter='best'),\n",
      "             iid='warn', n_jobs=None,\n",
      "             param_grid={'criterion': ['gini', 'entropy'],\n",
      "                         'max_depth': [2, 3, 4, 5]},\n",
      "             pre_dispatch='2*n_jobs', refit=True, return_train_score=False,\n",
      "             scoring='accuracy', verbose=1)\n",
      "{'criterion': 'gini', 'max_depth': 2}\n",
      "0.998675747256905\n",
      "['kitchen_toaster' 'foyer_door' 'kitchen_oven' 'foyer_lightswitch'\n",
      " 'kitchen_lightswitch']\n",
      "[0.0019851  0.00115596 0.00091041 0.00086602 0.00066854]\n"
     ]
    },
    {
     "data": {
      "application/vnd.vegalite.v3+json": {
       "$schema": "https://vega.github.io/schema/vega-lite/v3.4.0.json",
       "config": {
        "mark": {
         "tooltip": null
        },
        "view": {
         "height": 300,
         "width": 400
        }
       },
       "data": {
        "name": "data-f5b8852d570bff40d77078bcf8d85f20"
       },
       "datasets": {
        "data-f5b8852d570bff40d77078bcf8d85f20": [
         {
          "features": "kitchen_toaster",
          "importances": 0.0019851029781979834
         },
         {
          "features": "foyer_door",
          "importances": 0.001155959444347765
         },
         {
          "features": "kitchen_oven",
          "importances": 0.0009104109190571918
         },
         {
          "features": "foyer_lightswitch",
          "importances": 0.0008660166998484264
         },
         {
          "features": "kitchen_lightswitch",
          "importances": 0.0006685436685507362
         }
        ]
       },
       "encoding": {
        "x": {
         "axis": {
          "labelAngle": 45
         },
         "field": "features",
         "sort": null,
         "title": "Feature",
         "type": "nominal"
        },
        "y": {
         "field": "importances",
         "title": "Importance",
         "type": "quantitative"
        }
       },
       "mark": {
        "color": "blue",
        "opacity": 0.95,
        "type": "bar"
       },
       "title": "kitchen_coffeemachine Mutual Information Feature Importances",
       "width": 500
      },
      "image/png": "[encoded data removed]",
      "text/plain": [
       "<VegaLite 3 object>\n",
       "\n",
       "If you see this message, it means the renderer has not been properly enabled\n",
       "for the frontend that you are using. For more information, see\n",
       "https://altair-viz.github.io/user_guide/troubleshooting.html\n"
      ]
     },
     "metadata": {},
     "output_type": "display_data"
    },
    {
     "name": "stdout",
     "output_type": "stream",
     "text": [
      "bathroom_lightswitch\n",
      "0.8253467843631778\n",
      "Fitting 15 folds for each of 8 candidates, totalling 120 fits\n"
     ]
    },
    {
     "name": "stderr",
     "output_type": "stream",
     "text": [
      "[Parallel(n_jobs=1)]: Using backend SequentialBackend with 1 concurrent workers.\n",
      "[Parallel(n_jobs=1)]: Done 120 out of 120 | elapsed:    0.8s finished\n"
     ]
    },
    {
     "name": "stdout",
     "output_type": "stream",
     "text": [
      "GridSearchCV(cv=<sklearn.model_selection._split.RepeatedStratifiedKFold object at 0x000001CC81A20080>,\n",
      "             error_score='raise-deprecating',\n",
      "             estimator=DecisionTreeClassifier(class_weight=None,\n",
      "                                              criterion='gini', max_depth=None,\n",
      "                                              max_features=None,\n",
      "                                              max_leaf_nodes=None,\n",
      "                                              min_impurity_decrease=0.0,\n",
      "                                              min_impurity_split=None,\n",
      "                                              min_samples_leaf=1,\n",
      "                                              min_samples_split=2,\n",
      "                                              min_weight_fraction_leaf=0.0,\n",
      "                                              presort=False, random_state=999,\n",
      "                                              splitter='best'),\n",
      "             iid='warn', n_jobs=None,\n",
      "             param_grid={'criterion': ['gini', 'entropy'],\n",
      "                         'max_depth': [2, 3, 4, 5]},\n",
      "             pre_dispatch='2*n_jobs', refit=True, return_train_score=False,\n",
      "             scoring='accuracy', verbose=1)\n",
      "{'criterion': 'gini', 'max_depth': 5}\n",
      "0.8265859503089923\n",
      "['kitchen_dishwasher' 'livingroom_lightswitch' 'livingroom_dvd'\n",
      " 'bathroom_cabinet' 'livingroom_lamp']\n",
      "[0.0323701  0.02249241 0.01263657 0.01173765 0.00696705]\n"
     ]
    },
    {
     "data": {
      "application/vnd.vegalite.v3+json": {
       "$schema": "https://vega.github.io/schema/vega-lite/v3.4.0.json",
       "config": {
        "mark": {
         "tooltip": null
        },
        "view": {
         "height": 300,
         "width": 400
        }
       },
       "data": {
        "name": "data-df4106be77d35a9785cf904684dcad6f"
       },
       "datasets": {
        "data-df4106be77d35a9785cf904684dcad6f": [
         {
          "features": "kitchen_dishwasher",
          "importances": 0.03237009544169056
         },
         {
          "features": "livingroom_lightswitch",
          "importances": 0.022492405336037136
         },
         {
          "features": "livingroom_dvd",
          "importances": 0.012636568604196707
         },
         {
          "features": "bathroom_cabinet",
          "importances": 0.011737650220376983
         },
         {
          "features": "livingroom_lamp",
          "importances": 0.006967045541694583
         }
        ]
       },
       "encoding": {
        "x": {
         "axis": {
          "labelAngle": 45
         },
         "field": "features",
         "sort": null,
         "title": "Feature",
         "type": "nominal"
        },
        "y": {
         "field": "importances",
         "title": "Importance",
         "type": "quantitative"
        }
       },
       "mark": {
        "color": "blue",
        "opacity": 0.95,
        "type": "bar"
       },
       "title": "bathroom_lightswitch Mutual Information Feature Importances",
       "width": 500
      },
      "image/png": "[encoded data removed]",
      "text/plain": [
       "<VegaLite 3 object>\n",
       "\n",
       "If you see this message, it means the renderer has not been properly enabled\n",
       "for the frontend that you are using. For more information, see\n",
       "https://altair-viz.github.io/user_guide/troubleshooting.html\n"
      ]
     },
     "metadata": {},
     "output_type": "display_data"
    },
    {
     "name": "stdout",
     "output_type": "stream",
     "text": [
      "kitchen_oven\n",
      "0.9949558638083228\n",
      "Fitting 15 folds for each of 8 candidates, totalling 120 fits\n"
     ]
    },
    {
     "name": "stderr",
     "output_type": "stream",
     "text": [
      "[Parallel(n_jobs=1)]: Using backend SequentialBackend with 1 concurrent workers.\n",
      "[Parallel(n_jobs=1)]: Done 120 out of 120 | elapsed:    0.7s finished\n"
     ]
    },
    {
     "name": "stdout",
     "output_type": "stream",
     "text": [
      "GridSearchCV(cv=<sklearn.model_selection._split.RepeatedStratifiedKFold object at 0x000001CC8199E5F8>,\n",
      "             error_score='raise-deprecating',\n",
      "             estimator=DecisionTreeClassifier(class_weight=None,\n",
      "                                              criterion='gini', max_depth=None,\n",
      "                                              max_features=None,\n",
      "                                              max_leaf_nodes=None,\n",
      "                                              min_impurity_decrease=0.0,\n",
      "                                              min_impurity_split=None,\n",
      "                                              min_samples_leaf=1,\n",
      "                                              min_samples_split=2,\n",
      "                                              min_weight_fraction_leaf=0.0,\n",
      "                                              presort=False, random_state=999,\n",
      "                                              splitter='best'),\n",
      "             iid='warn', n_jobs=None,\n",
      "             param_grid={'criterion': ['gini', 'entropy'],\n",
      "                         'max_depth': [2, 3, 4, 5]},\n",
      "             pre_dispatch='2*n_jobs', refit=True, return_train_score=False,\n",
      "             scoring='accuracy', verbose=1)\n",
      "{'criterion': 'gini', 'max_depth': 2}\n",
      "0.995270525917518\n",
      "['kitchen_lightswitch' 'bedroom_lightswitch' 'kitchen_cabinet'\n",
      " 'livingroom_dvd' 'bathroom_exhaustfan']\n",
      "[0.00252723 0.00195428 0.00190205 0.00106829 0.00097726]\n"
     ]
    },
    {
     "data": {
      "application/vnd.vegalite.v3+json": {
       "$schema": "https://vega.github.io/schema/vega-lite/v3.4.0.json",
       "config": {
        "mark": {
         "tooltip": null
        },
        "view": {
         "height": 300,
         "width": 400
        }
       },
       "data": {
        "name": "data-ca86945898a375292a2985613680e918"
       },
       "datasets": {
        "data-ca86945898a375292a2985613680e918": [
         {
          "features": "kitchen_lightswitch",
          "importances": 0.0025272283639610205
         },
         {
          "features": "bedroom_lightswitch",
          "importances": 0.001954284964469255
         },
         {
          "features": "kitchen_cabinet",
          "importances": 0.0019020549525300412
         },
         {
          "features": "livingroom_dvd",
          "importances": 0.001068286399810825
         },
         {
          "features": "bathroom_exhaustfan",
          "importances": 0.0009772559032209527
         }
        ]
       },
       "encoding": {
        "x": {
         "axis": {
          "labelAngle": 45
         },
         "field": "features",
         "sort": null,
         "title": "Feature",
         "type": "nominal"
        },
        "y": {
         "field": "importances",
         "title": "Importance",
         "type": "quantitative"
        }
       },
       "mark": {
        "color": "blue",
        "opacity": 0.95,
        "type": "bar"
       },
       "title": "kitchen_oven Mutual Information Feature Importances",
       "width": 500
      },
      "image/png": "[encoded data removed]",
      "text/plain": [
       "<VegaLite 3 object>\n",
       "\n",
       "If you see this message, it means the renderer has not been properly enabled\n",
       "for the frontend that you are using. For more information, see\n",
       "https://altair-viz.github.io/user_guide/troubleshooting.html\n"
      ]
     },
     "metadata": {},
     "output_type": "display_data"
    },
    {
     "name": "stdout",
     "output_type": "stream",
     "text": [
      "kitchen_toaster\n",
      "0.9886506935687264\n",
      "Fitting 15 folds for each of 8 candidates, totalling 120 fits\n"
     ]
    },
    {
     "name": "stderr",
     "output_type": "stream",
     "text": [
      "[Parallel(n_jobs=1)]: Using backend SequentialBackend with 1 concurrent workers.\n",
      "[Parallel(n_jobs=1)]: Done 120 out of 120 | elapsed:    0.8s finished\n"
     ]
    },
    {
     "name": "stdout",
     "output_type": "stream",
     "text": [
      "GridSearchCV(cv=<sklearn.model_selection._split.RepeatedStratifiedKFold object at 0x000001CC81A20080>,\n",
      "             error_score='raise-deprecating',\n",
      "             estimator=DecisionTreeClassifier(class_weight=None,\n",
      "                                              criterion='gini', max_depth=None,\n",
      "                                              max_features=None,\n",
      "                                              max_leaf_nodes=None,\n",
      "                                              min_impurity_decrease=0.0,\n",
      "                                              min_impurity_split=None,\n",
      "                                              min_samples_leaf=1,\n",
      "                                              min_samples_split=2,\n",
      "                                              min_weight_fraction_leaf=0.0,\n",
      "                                              presort=False, random_state=999,\n",
      "                                              splitter='best'),\n",
      "             iid='warn', n_jobs=None,\n",
      "             param_grid={'criterion': ['gini', 'entropy'],\n",
      "                         'max_depth': [2, 3, 4, 5]},\n",
      "             pre_dispatch='2*n_jobs', refit=True, return_train_score=False,\n",
      "             scoring='accuracy', verbose=1)\n",
      "{'criterion': 'gini', 'max_depth': 3}\n",
      "0.9887123218564762\n",
      "['kitchen_cabinet' 'kitchen_toaster' 'bathroom_showerfaucet'\n",
      " 'bathroom_lightswitch' 'bathroom_toiletflush']\n",
      "[0.00687911 0.00345125 0.00258361 0.00207123 0.0019939 ]\n"
     ]
    },
    {
     "data": {
      "application/vnd.vegalite.v3+json": {
       "$schema": "https://vega.github.io/schema/vega-lite/v3.4.0.json",
       "config": {
        "mark": {
         "tooltip": null
        },
        "view": {
         "height": 300,
         "width": 400
        }
       },
       "data": {
        "name": "data-2fcdb4172ca6d60133181cd382790979"
       },
       "datasets": {
        "data-2fcdb4172ca6d60133181cd382790979": [
         {
          "features": "kitchen_cabinet",
          "importances": 0.006879107971279663
         },
         {
          "features": "kitchen_toaster",
          "importances": 0.0034512500078924813
         },
         {
          "features": "bathroom_showerfaucet",
          "importances": 0.002583614252299693
         },
         {
          "features": "bathroom_lightswitch",
          "importances": 0.002071228968978822
         },
         {
          "features": "bathroom_toiletflush",
          "importances": 0.0019939034036149383
         }
        ]
       },
       "encoding": {
        "x": {
         "axis": {
          "labelAngle": 45
         },
         "field": "features",
         "sort": null,
         "title": "Feature",
         "type": "nominal"
        },
        "y": {
         "field": "importances",
         "title": "Importance",
         "type": "quantitative"
        }
       },
       "mark": {
        "color": "blue",
        "opacity": 0.95,
        "type": "bar"
       },
       "title": "kitchen_toaster Mutual Information Feature Importances",
       "width": 500
      },
      "image/png": "[encoded data removed]",
      "text/plain": [
       "<VegaLite 3 object>\n",
       "\n",
       "If you see this message, it means the renderer has not been properly enabled\n",
       "for the frontend that you are using. For more information, see\n",
       "https://altair-viz.github.io/user_guide/troubleshooting.html\n"
      ]
     },
     "metadata": {},
     "output_type": "display_data"
    },
    {
     "name": "stdout",
     "output_type": "stream",
     "text": [
      "bedroom_lightswitch\n",
      "0.9791929382093316\n",
      "Fitting 15 folds for each of 8 candidates, totalling 120 fits\n"
     ]
    },
    {
     "name": "stderr",
     "output_type": "stream",
     "text": [
      "[Parallel(n_jobs=1)]: Using backend SequentialBackend with 1 concurrent workers.\n",
      "[Parallel(n_jobs=1)]: Done 120 out of 120 | elapsed:    0.8s finished\n"
     ]
    },
    {
     "name": "stdout",
     "output_type": "stream",
     "text": [
      "GridSearchCV(cv=<sklearn.model_selection._split.RepeatedStratifiedKFold object at 0x000001CC81A32E80>,\n",
      "             error_score='raise-deprecating',\n",
      "             estimator=DecisionTreeClassifier(class_weight=None,\n",
      "                                              criterion='gini', max_depth=None,\n",
      "                                              max_features=None,\n",
      "                                              max_leaf_nodes=None,\n",
      "                                              min_impurity_decrease=0.0,\n",
      "                                              min_impurity_split=None,\n",
      "                                              min_samples_leaf=1,\n",
      "                                              min_samples_split=2,\n",
      "                                              min_weight_fraction_leaf=0.0,\n",
      "                                              presort=False, random_state=999,\n",
      "                                              splitter='best'),\n",
      "             iid='warn', n_jobs=None,\n",
      "             param_grid={'criterion': ['gini', 'entropy'],\n",
      "                         'max_depth': [2, 3, 4, 5]},\n",
      "             pre_dispatch='2*n_jobs', refit=True, return_train_score=False,\n",
      "             scoring='accuracy', verbose=1)\n",
      "{'criterion': 'entropy', 'max_depth': 3}\n",
      "0.9795686719636776\n",
      "['bathroom_lightswitch' 'kitchen_dishwasher' 'kitchen_oven'\n",
      " 'livingroom_lightswitch' 'bathroom_sinkfaucet-hot']\n",
      "[0.01873825 0.00765313 0.00661853 0.00582993 0.00430014]\n"
     ]
    },
    {
     "data": {
      "application/vnd.vegalite.v3+json": {
       "$schema": "https://vega.github.io/schema/vega-lite/v3.4.0.json",
       "config": {
        "mark": {
         "tooltip": null
        },
        "view": {
         "height": 300,
         "width": 400
        }
       },
       "data": {
        "name": "data-8aede6434e271a051b026b1999cb174e"
       },
       "datasets": {
        "data-8aede6434e271a051b026b1999cb174e": [
         {
          "features": "bathroom_lightswitch",
          "importances": 0.018738254385243902
         },
         {
          "features": "kitchen_dishwasher",
          "importances": 0.007653129082556331
         },
         {
          "features": "kitchen_oven",
          "importances": 0.006618528086083986
         },
         {
          "features": "livingroom_lightswitch",
          "importances": 0.0058299287013583445
         },
         {
          "features": "bathroom_sinkfaucet-hot",
          "importances": 0.0043001384769056905
         }
        ]
       },
       "encoding": {
        "x": {
         "axis": {
          "labelAngle": 45
         },
         "field": "features",
         "sort": null,
         "title": "Feature",
         "type": "nominal"
        },
        "y": {
         "field": "importances",
         "title": "Importance",
         "type": "quantitative"
        }
       },
       "mark": {
        "color": "blue",
        "opacity": 0.95,
        "type": "bar"
       },
       "title": "bedroom_lightswitch Mutual Information Feature Importances",
       "width": 500
      },
      "image/png": "[encoded data removed]",
      "text/plain": [
       "<VegaLite 3 object>\n",
       "\n",
       "If you see this message, it means the renderer has not been properly enabled\n",
       "for the frontend that you are using. For more information, see\n",
       "https://altair-viz.github.io/user_guide/troubleshooting.html\n"
      ]
     },
     "metadata": {},
     "output_type": "display_data"
    },
    {
     "name": "stdout",
     "output_type": "stream",
     "text": [
      "kitchen_freezer\n",
      "0.9148802017654477\n",
      "Fitting 15 folds for each of 8 candidates, totalling 120 fits\n"
     ]
    },
    {
     "name": "stderr",
     "output_type": "stream",
     "text": [
      "[Parallel(n_jobs=1)]: Using backend SequentialBackend with 1 concurrent workers.\n",
      "[Parallel(n_jobs=1)]: Done 120 out of 120 | elapsed:    0.8s finished\n"
     ]
    },
    {
     "name": "stdout",
     "output_type": "stream",
     "text": [
      "GridSearchCV(cv=<sklearn.model_selection._split.RepeatedStratifiedKFold object at 0x000001CC81A3CB38>,\n",
      "             error_score='raise-deprecating',\n",
      "             estimator=DecisionTreeClassifier(class_weight=None,\n",
      "                                              criterion='gini', max_depth=None,\n",
      "                                              max_features=None,\n",
      "                                              max_leaf_nodes=None,\n",
      "                                              min_impurity_decrease=0.0,\n",
      "                                              min_impurity_split=None,\n",
      "                                              min_samples_leaf=1,\n",
      "                                              min_samples_split=2,\n",
      "                                              min_weight_fraction_leaf=0.0,\n",
      "                                              presort=False, random_state=999,\n",
      "                                              splitter='best'),\n",
      "             iid='warn', n_jobs=None,\n",
      "             param_grid={'criterion': ['gini', 'entropy'],\n",
      "                         'max_depth': [2, 3, 4, 5]},\n",
      "             pre_dispatch='2*n_jobs', refit=True, return_train_score=False,\n",
      "             scoring='accuracy', verbose=1)\n",
      "{'criterion': 'gini', 'max_depth': 5}\n",
      "0.9136713330810947\n",
      "['kitchen_refrigerator' 'kitchen_drawer' 'study_drawer' 'kitchen_toaster'\n",
      " 'bedroom_lightswitch']\n",
      "[0.02106164 0.01857261 0.00965939 0.00911161 0.00816309]\n"
     ]
    },
    {
     "data": {
      "application/vnd.vegalite.v3+json": {
       "$schema": "https://vega.github.io/schema/vega-lite/v3.4.0.json",
       "config": {
        "mark": {
         "tooltip": null
        },
        "view": {
         "height": 300,
         "width": 400
        }
       },
       "data": {
        "name": "data-f489b8d867b7caa30c299c91067d0378"
       },
       "datasets": {
        "data-f489b8d867b7caa30c299c91067d0378": [
         {
          "features": "kitchen_refrigerator",
          "importances": 0.021061636054992672
         },
         {
          "features": "kitchen_drawer",
          "importances": 0.0185726079857238
         },
         {
          "features": "study_drawer",
          "importances": 0.009659385559680711
         },
         {
          "features": "kitchen_toaster",
          "importances": 0.009111606095985048
         },
         {
          "features": "bedroom_lightswitch",
          "importances": 0.008163091078587037
         }
        ]
       },
       "encoding": {
        "x": {
         "axis": {
          "labelAngle": 45
         },
         "field": "features",
         "sort": null,
         "title": "Feature",
         "type": "nominal"
        },
        "y": {
         "field": "importances",
         "title": "Importance",
         "type": "quantitative"
        }
       },
       "mark": {
        "color": "blue",
        "opacity": 0.95,
        "type": "bar"
       },
       "title": "kitchen_freezer Mutual Information Feature Importances",
       "width": 500
      },
      "image/png": "[encoded data removed]",
      "text/plain": [
       "<VegaLite 3 object>\n",
       "\n",
       "If you see this message, it means the renderer has not been properly enabled\n",
       "for the frontend that you are using. For more information, see\n",
       "https://altair-viz.github.io/user_guide/troubleshooting.html\n"
      ]
     },
     "metadata": {},
     "output_type": "display_data"
    },
    {
     "name": "stdout",
     "output_type": "stream",
     "text": [
      "kitchen_microwave\n",
      "0.9905422446406053\n",
      "Fitting 15 folds for each of 8 candidates, totalling 120 fits\n"
     ]
    },
    {
     "name": "stderr",
     "output_type": "stream",
     "text": [
      "[Parallel(n_jobs=1)]: Using backend SequentialBackend with 1 concurrent workers.\n",
      "[Parallel(n_jobs=1)]: Done 120 out of 120 | elapsed:    0.9s finished\n"
     ]
    },
    {
     "name": "stdout",
     "output_type": "stream",
     "text": [
      "GridSearchCV(cv=<sklearn.model_selection._split.RepeatedStratifiedKFold object at 0x000001CC81A327F0>,\n",
      "             error_score='raise-deprecating',\n",
      "             estimator=DecisionTreeClassifier(class_weight=None,\n",
      "                                              criterion='gini', max_depth=None,\n",
      "                                              max_features=None,\n",
      "                                              max_leaf_nodes=None,\n",
      "                                              min_impurity_decrease=0.0,\n",
      "                                              min_impurity_split=None,\n",
      "                                              min_samples_leaf=1,\n",
      "                                              min_samples_split=2,\n",
      "                                              min_weight_fraction_leaf=0.0,\n",
      "                                              presort=False, random_state=999,\n",
      "                                              splitter='best'),\n",
      "             iid='warn', n_jobs=None,\n",
      "             param_grid={'criterion': ['gini', 'entropy'],\n",
      "                         'max_depth': [2, 3, 4, 5]},\n",
      "             pre_dispatch='2*n_jobs', refit=True, return_train_score=False,\n",
      "             scoring='accuracy', verbose=1)\n",
      "{'criterion': 'entropy', 'max_depth': 2}\n",
      "0.9892167990919409\n",
      "['kitchen_drawer' 'kitchen_cabinet' 'bathroom_showerfaucet' 'foyer_door'\n",
      " 'kitchen_refrigerator']\n",
      "[0.00478226 0.00422956 0.00299107 0.00277244 0.00218499]\n"
     ]
    },
    {
     "data": {
      "application/vnd.vegalite.v3+json": {
       "$schema": "https://vega.github.io/schema/vega-lite/v3.4.0.json",
       "config": {
        "mark": {
         "tooltip": null
        },
        "view": {
         "height": 300,
         "width": 400
        }
       },
       "data": {
        "name": "data-83c69ef4b4bceb105d4261be1d38419f"
       },
       "datasets": {
        "data-83c69ef4b4bceb105d4261be1d38419f": [
         {
          "features": "kitchen_drawer",
          "importances": 0.004782264223323063
         },
         {
          "features": "kitchen_cabinet",
          "importances": 0.004229559926407056
         },
         {
          "features": "bathroom_showerfaucet",
          "importances": 0.002991074431024865
         },
         {
          "features": "foyer_door",
          "importances": 0.002772436144709456
         },
         {
          "features": "kitchen_refrigerator",
          "importances": 0.0021849856368034715
         }
        ]
       },
       "encoding": {
        "x": {
         "axis": {
          "labelAngle": 45
         },
         "field": "features",
         "sort": null,
         "title": "Feature",
         "type": "nominal"
        },
        "y": {
         "field": "importances",
         "title": "Importance",
         "type": "quantitative"
        }
       },
       "mark": {
        "color": "blue",
        "opacity": 0.95,
        "type": "bar"
       },
       "title": "kitchen_microwave Mutual Information Feature Importances",
       "width": 500
      },
      "image/png": "[encoded data removed]",
      "text/plain": [
       "<VegaLite 3 object>\n",
       "\n",
       "If you see this message, it means the renderer has not been properly enabled\n",
       "for the frontend that you are using. For more information, see\n",
       "https://altair-viz.github.io/user_guide/troubleshooting.html\n"
      ]
     },
     "metadata": {},
     "output_type": "display_data"
    },
    {
     "name": "stdout",
     "output_type": "stream",
     "text": [
      "livingroom_dvd\n",
      "0.9993694829760403\n",
      "Fitting 15 folds for each of 8 candidates, totalling 120 fits\n"
     ]
    },
    {
     "name": "stderr",
     "output_type": "stream",
     "text": [
      "[Parallel(n_jobs=1)]: Using backend SequentialBackend with 1 concurrent workers.\n",
      "[Parallel(n_jobs=1)]: Done 120 out of 120 | elapsed:    0.6s finished\n"
     ]
    },
    {
     "name": "stdout",
     "output_type": "stream",
     "text": [
      "GridSearchCV(cv=<sklearn.model_selection._split.RepeatedStratifiedKFold object at 0x000001CC819FC5C0>,\n",
      "             error_score='raise-deprecating',\n",
      "             estimator=DecisionTreeClassifier(class_weight=None,\n",
      "                                              criterion='gini', max_depth=None,\n",
      "                                              max_features=None,\n",
      "                                              max_leaf_nodes=None,\n",
      "                                              min_impurity_decrease=0.0,\n",
      "                                              min_impurity_split=None,\n",
      "                                              min_samples_leaf=1,\n",
      "                                              min_samples_split=2,\n",
      "                                              min_weight_fraction_leaf=0.0,\n",
      "                                              presort=False, random_state=999,\n",
      "                                              splitter='best'),\n",
      "             iid='warn', n_jobs=None,\n",
      "             param_grid={'criterion': ['gini', 'entropy'],\n",
      "                         'max_depth': [2, 3, 4, 5]},\n",
      "             pre_dispatch='2*n_jobs', refit=True, return_train_score=False,\n",
      "             scoring='accuracy', verbose=1)\n",
      "{'criterion': 'gini', 'max_depth': 2}\n",
      "0.9996216420734014\n",
      "['bathroom_showerfaucet' 'kitchen_microwave' 'bathroom_medicinecabinet'\n",
      " 'study_drawer' 'kitchen_refrigerator']\n",
      "[0.00131541 0.00084711 0.00076401 0.00064195 0.00059832]\n"
     ]
    },
    {
     "data": {
      "application/vnd.vegalite.v3+json": {
       "$schema": "https://vega.github.io/schema/vega-lite/v3.4.0.json",
       "config": {
        "mark": {
         "tooltip": null
        },
        "view": {
         "height": 300,
         "width": 400
        }
       },
       "data": {
        "name": "data-4ff7f58d1fa4c922db196ae424f1366c"
       },
       "datasets": {
        "data-4ff7f58d1fa4c922db196ae424f1366c": [
         {
          "features": "bathroom_showerfaucet",
          "importances": 0.0013154109783314327
         },
         {
          "features": "kitchen_microwave",
          "importances": 0.0008471065820959689
         },
         {
          "features": "bathroom_medicinecabinet",
          "importances": 0.0007640062829769034
         },
         {
          "features": "study_drawer",
          "importances": 0.0006419455915532835
         },
         {
          "features": "kitchen_refrigerator",
          "importances": 0.000598317399572168
         }
        ]
       },
       "encoding": {
        "x": {
         "axis": {
          "labelAngle": 45
         },
         "field": "features",
         "sort": null,
         "title": "Feature",
         "type": "nominal"
        },
        "y": {
         "field": "importances",
         "title": "Importance",
         "type": "quantitative"
        }
       },
       "mark": {
        "color": "blue",
        "opacity": 0.95,
        "type": "bar"
       },
       "title": "livingroom_dvd Mutual Information Feature Importances",
       "width": 500
      },
      "image/png": "[encoded data removed]",
      "text/plain": [
       "<VegaLite 3 object>\n",
       "\n",
       "If you see this message, it means the renderer has not been properly enabled\n",
       "for the frontend that you are using. For more information, see\n",
       "https://altair-viz.github.io/user_guide/troubleshooting.html\n"
      ]
     },
     "metadata": {},
     "output_type": "display_data"
    },
    {
     "name": "stdout",
     "output_type": "stream",
     "text": [
      "bathroom_sinkfaucet-hot\n",
      "0.9754098360655737\n",
      "Fitting 15 folds for each of 8 candidates, totalling 120 fits\n"
     ]
    },
    {
     "name": "stderr",
     "output_type": "stream",
     "text": [
      "[Parallel(n_jobs=1)]: Using backend SequentialBackend with 1 concurrent workers.\n",
      "[Parallel(n_jobs=1)]: Done 120 out of 120 | elapsed:    0.8s finished\n"
     ]
    },
    {
     "name": "stdout",
     "output_type": "stream",
     "text": [
      "GridSearchCV(cv=<sklearn.model_selection._split.RepeatedStratifiedKFold object at 0x000001CC818DA4A8>,\n",
      "             error_score='raise-deprecating',\n",
      "             estimator=DecisionTreeClassifier(class_weight=None,\n",
      "                                              criterion='gini', max_depth=None,\n",
      "                                              max_features=None,\n",
      "                                              max_leaf_nodes=None,\n",
      "                                              min_impurity_decrease=0.0,\n",
      "                                              min_impurity_split=None,\n",
      "                                              min_samples_leaf=1,\n",
      "                                              min_samples_split=2,\n",
      "                                              min_weight_fraction_leaf=0.0,\n",
      "                                              presort=False, random_state=999,\n",
      "                                              splitter='best'),\n",
      "             iid='warn', n_jobs=None,\n",
      "             param_grid={'criterion': ['gini', 'entropy'],\n",
      "                         'max_depth': [2, 3, 4, 5]},\n",
      "             pre_dispatch='2*n_jobs', refit=True, return_train_score=False,\n",
      "             scoring='accuracy', verbose=1)\n",
      "{'criterion': 'entropy', 'max_depth': 4}\n",
      "0.9718123344684071\n",
      "['study_drawer' 'bathroom_toiletflush' 'bathroom_door'\n",
      " 'bathroom_medicinecabinet' 'bathroom_cabinet']\n",
      "[0.05468738 0.01044389 0.0102891  0.00963454 0.00819554]\n"
     ]
    },
    {
     "data": {
      "application/vnd.vegalite.v3+json": {
       "$schema": "https://vega.github.io/schema/vega-lite/v3.4.0.json",
       "config": {
        "mark": {
         "tooltip": null
        },
        "view": {
         "height": 300,
         "width": 400
        }
       },
       "data": {
        "name": "data-6587fa7bd08d3a018725f6453097b28b"
       },
       "datasets": {
        "data-6587fa7bd08d3a018725f6453097b28b": [
         {
          "features": "study_drawer",
          "importances": 0.05468737989347128
         },
         {
          "features": "bathroom_toiletflush",
          "importances": 0.01044388637626481
         },
         {
          "features": "bathroom_door",
          "importances": 0.010289102444054343
         },
         {
          "features": "bathroom_medicinecabinet",
          "importances": 0.009634535524919885
         },
         {
          "features": "bathroom_cabinet",
          "importances": 0.008195541507638904
         }
        ]
       },
       "encoding": {
        "x": {
         "axis": {
          "labelAngle": 45
         },
         "field": "features",
         "sort": null,
         "title": "Feature",
         "type": "nominal"
        },
        "y": {
         "field": "importances",
         "title": "Importance",
         "type": "quantitative"
        }
       },
       "mark": {
        "color": "blue",
        "opacity": 0.95,
        "type": "bar"
       },
       "title": "bathroom_sinkfaucet-hot Mutual Information Feature Importances",
       "width": 500
      },
      "image/png": "[encoded data removed]",
      "text/plain": [
       "<VegaLite 3 object>\n",
       "\n",
       "If you see this message, it means the renderer has not been properly enabled\n",
       "for the frontend that you are using. For more information, see\n",
       "https://altair-viz.github.io/user_guide/troubleshooting.html\n"
      ]
     },
     "metadata": {},
     "output_type": "display_data"
    },
    {
     "name": "stdout",
     "output_type": "stream",
     "text": [
      "foyer_lightswitch\n",
      "0.9918032786885246\n",
      "Fitting 15 folds for each of 8 candidates, totalling 120 fits\n"
     ]
    },
    {
     "name": "stderr",
     "output_type": "stream",
     "text": [
      "[Parallel(n_jobs=1)]: Using backend SequentialBackend with 1 concurrent workers.\n",
      "[Parallel(n_jobs=1)]: Done 120 out of 120 | elapsed:    0.8s finished\n"
     ]
    },
    {
     "name": "stdout",
     "output_type": "stream",
     "text": [
      "GridSearchCV(cv=<sklearn.model_selection._split.RepeatedStratifiedKFold object at 0x000001CC8199E3C8>,\n",
      "             error_score='raise-deprecating',\n",
      "             estimator=DecisionTreeClassifier(class_weight=None,\n",
      "                                              criterion='gini', max_depth=None,\n",
      "                                              max_features=None,\n",
      "                                              max_leaf_nodes=None,\n",
      "                                              min_impurity_decrease=0.0,\n",
      "                                              min_impurity_split=None,\n",
      "                                              min_samples_leaf=1,\n",
      "                                              min_samples_split=2,\n",
      "                                              min_weight_fraction_leaf=0.0,\n",
      "                                              presort=False, random_state=999,\n",
      "                                              splitter='best'),\n",
      "             iid='warn', n_jobs=None,\n",
      "             param_grid={'criterion': ['gini', 'entropy'],\n",
      "                         'max_depth': [2, 3, 4, 5]},\n",
      "             pre_dispatch='2*n_jobs', refit=True, return_train_score=False,\n",
      "             scoring='accuracy', verbose=1)\n",
      "{'criterion': 'entropy', 'max_depth': 4}\n",
      "0.9892167990919409\n",
      "['kitchen_burner' 'foyer_lightswitch' 'kitchen_dishwasher'\n",
      " 'bathroom_sinkfaucet-cold' 'livingroom_dvd']\n",
      "[0.03103705 0.01442389 0.00777343 0.00591199 0.00515568]\n"
     ]
    },
    {
     "data": {
      "application/vnd.vegalite.v3+json": {
       "$schema": "https://vega.github.io/schema/vega-lite/v3.4.0.json",
       "config": {
        "mark": {
         "tooltip": null
        },
        "view": {
         "height": 300,
         "width": 400
        }
       },
       "data": {
        "name": "data-424e1573186a74dbd69f3cdd33161d56"
       },
       "datasets": {
        "data-424e1573186a74dbd69f3cdd33161d56": [
         {
          "features": "kitchen_burner",
          "importances": 0.031037051505060198
         },
         {
          "features": "foyer_lightswitch",
          "importances": 0.014423894759149958
         },
         {
          "features": "kitchen_dishwasher",
          "importances": 0.007773429448069358
         },
         {
          "features": "bathroom_sinkfaucet-cold",
          "importances": 0.005911994051302161
         },
         {
          "features": "livingroom_dvd",
          "importances": 0.005155681113008015
         }
        ]
       },
       "encoding": {
        "x": {
         "axis": {
          "labelAngle": 45
         },
         "field": "features",
         "sort": null,
         "title": "Feature",
         "type": "nominal"
        },
        "y": {
         "field": "importances",
         "title": "Importance",
         "type": "quantitative"
        }
       },
       "mark": {
        "color": "blue",
        "opacity": 0.95,
        "type": "bar"
       },
       "title": "foyer_lightswitch Mutual Information Feature Importances",
       "width": 500
      },
      "image/png": "[encoded data removed]",
      "text/plain": [
       "<VegaLite 3 object>\n",
       "\n",
       "If you see this message, it means the renderer has not been properly enabled\n",
       "for the frontend that you are using. For more information, see\n",
       "https://altair-viz.github.io/user_guide/troubleshooting.html\n"
      ]
     },
     "metadata": {},
     "output_type": "display_data"
    },
    {
     "name": "stdout",
     "output_type": "stream",
     "text": [
      "livingroom_lamp\n",
      "0.7912988650693569\n",
      "Fitting 15 folds for each of 8 candidates, totalling 120 fits\n"
     ]
    },
    {
     "name": "stderr",
     "output_type": "stream",
     "text": [
      "[Parallel(n_jobs=1)]: Using backend SequentialBackend with 1 concurrent workers.\n",
      "[Parallel(n_jobs=1)]: Done 120 out of 120 | elapsed:    0.8s finished\n"
     ]
    },
    {
     "name": "stdout",
     "output_type": "stream",
     "text": [
      "GridSearchCV(cv=<sklearn.model_selection._split.RepeatedStratifiedKFold object at 0x000001CC811C1A20>,\n",
      "             error_score='raise-deprecating',\n",
      "             estimator=DecisionTreeClassifier(class_weight=None,\n",
      "                                              criterion='gini', max_depth=None,\n",
      "                                              max_features=None,\n",
      "                                              max_leaf_nodes=None,\n",
      "                                              min_impurity_decrease=0.0,\n",
      "                                              min_impurity_split=None,\n",
      "                                              min_samples_leaf=1,\n",
      "                                              min_samples_split=2,\n",
      "                                              min_weight_fraction_leaf=0.0,\n",
      "                                              presort=False, random_state=999,\n",
      "                                              splitter='best'),\n",
      "             iid='warn', n_jobs=None,\n",
      "             param_grid={'criterion': ['gini', 'entropy'],\n",
      "                         'max_depth': [2, 3, 4, 5]},\n",
      "             pre_dispatch='2*n_jobs', refit=True, return_train_score=False,\n",
      "             scoring='accuracy', verbose=1)\n",
      "{'criterion': 'entropy', 'max_depth': 5}\n",
      "0.8070374574347332\n",
      "['bathroom_lightswitch' 'kitchen_laundrydryer' 'study_drawer'\n",
      " 'study_lightwitch' 'foyer_door']\n",
      "[0.03866551 0.01263146 0.01201898 0.01011593 0.00950249]\n"
     ]
    },
    {
     "data": {
      "application/vnd.vegalite.v3+json": {
       "$schema": "https://vega.github.io/schema/vega-lite/v3.4.0.json",
       "config": {
        "mark": {
         "tooltip": null
        },
        "view": {
         "height": 300,
         "width": 400
        }
       },
       "data": {
        "name": "data-ed7544218432176c9bca8797e0535b50"
       },
       "datasets": {
        "data-ed7544218432176c9bca8797e0535b50": [
         {
          "features": "bathroom_lightswitch",
          "importances": 0.038665508544779126
         },
         {
          "features": "kitchen_laundrydryer",
          "importances": 0.01263146211681021
         },
         {
          "features": "study_drawer",
          "importances": 0.012018976622610644
         },
         {
          "features": "study_lightwitch",
          "importances": 0.010115925917803414
         },
         {
          "features": "foyer_door",
          "importances": 0.009502485866577981
         }
        ]
       },
       "encoding": {
        "x": {
         "axis": {
          "labelAngle": 45
         },
         "field": "features",
         "sort": null,
         "title": "Feature",
         "type": "nominal"
        },
        "y": {
         "field": "importances",
         "title": "Importance",
         "type": "quantitative"
        }
       },
       "mark": {
        "color": "blue",
        "opacity": 0.95,
        "type": "bar"
       },
       "title": "livingroom_lamp Mutual Information Feature Importances",
       "width": 500
      },
      "image/png": "[encoded data removed]",
      "text/plain": [
       "<VegaLite 3 object>\n",
       "\n",
       "If you see this message, it means the renderer has not been properly enabled\n",
       "for the frontend that you are using. For more information, see\n",
       "https://altair-viz.github.io/user_guide/troubleshooting.html\n"
      ]
     },
     "metadata": {},
     "output_type": "display_data"
    },
    {
     "name": "stdout",
     "output_type": "stream",
     "text": [
      "kitchen_laundrydryer\n",
      "0.9848675914249685\n",
      "Fitting 15 folds for each of 8 candidates, totalling 120 fits\n"
     ]
    },
    {
     "name": "stderr",
     "output_type": "stream",
     "text": [
      "[Parallel(n_jobs=1)]: Using backend SequentialBackend with 1 concurrent workers.\n",
      "[Parallel(n_jobs=1)]: Done 120 out of 120 | elapsed:    0.9s finished\n"
     ]
    },
    {
     "name": "stdout",
     "output_type": "stream",
     "text": [
      "GridSearchCV(cv=<sklearn.model_selection._split.RepeatedStratifiedKFold object at 0x000001CC81A20080>,\n",
      "             error_score='raise-deprecating',\n",
      "             estimator=DecisionTreeClassifier(class_weight=None,\n",
      "                                              criterion='gini', max_depth=None,\n",
      "                                              max_features=None,\n",
      "                                              max_leaf_nodes=None,\n",
      "                                              min_impurity_decrease=0.0,\n",
      "                                              min_impurity_split=None,\n",
      "                                              min_samples_leaf=1,\n",
      "                                              min_samples_split=2,\n",
      "                                              min_weight_fraction_leaf=0.0,\n",
      "                                              presort=False, random_state=999,\n",
      "                                              splitter='best'),\n",
      "             iid='warn', n_jobs=None,\n",
      "             param_grid={'criterion': ['gini', 'entropy'],\n",
      "                         'max_depth': [2, 3, 4, 5]},\n",
      "             pre_dispatch='2*n_jobs', refit=True, return_train_score=False,\n",
      "             scoring='accuracy', verbose=1)\n",
      "{'criterion': 'gini', 'max_depth': 5}\n",
      "0.988523142893177\n",
      "['kitchen_door' 'kitchen_washingmachine' 'bathroom_sinkfaucet-cold'\n",
      " 'kitchen_laundrydryer' 'livingroom_lightswitch']\n",
      "[0.01999469 0.01608878 0.0031332  0.00280211 0.00251979]\n"
     ]
    },
    {
     "data": {
      "application/vnd.vegalite.v3+json": {
       "$schema": "https://vega.github.io/schema/vega-lite/v3.4.0.json",
       "config": {
        "mark": {
         "tooltip": null
        },
        "view": {
         "height": 300,
         "width": 400
        }
       },
       "data": {
        "name": "data-86561547734657c299657964014081f1"
       },
       "datasets": {
        "data-86561547734657c299657964014081f1": [
         {
          "features": "kitchen_door",
          "importances": 0.019994686998668132
         },
         {
          "features": "kitchen_washingmachine",
          "importances": 0.016088784860766814
         },
         {
          "features": "bathroom_sinkfaucet-cold",
          "importances": 0.0031331968213217376
         },
         {
          "features": "kitchen_laundrydryer",
          "importances": 0.0028021069530714815
         },
         {
          "features": "livingroom_lightswitch",
          "importances": 0.002519792501481488
         }
        ]
       },
       "encoding": {
        "x": {
         "axis": {
          "labelAngle": 45
         },
         "field": "features",
         "sort": null,
         "title": "Feature",
         "type": "nominal"
        },
        "y": {
         "field": "importances",
         "title": "Importance",
         "type": "quantitative"
        }
       },
       "mark": {
        "color": "blue",
        "opacity": 0.95,
        "type": "bar"
       },
       "title": "kitchen_laundrydryer Mutual Information Feature Importances",
       "width": 500
      },
      "image/png": "[encoded data removed]",
      "text/plain": [
       "<VegaLite 3 object>\n",
       "\n",
       "If you see this message, it means the renderer has not been properly enabled\n",
       "for the frontend that you are using. For more information, see\n",
       "https://altair-viz.github.io/user_guide/troubleshooting.html\n"
      ]
     },
     "metadata": {},
     "output_type": "display_data"
    },
    {
     "name": "stdout",
     "output_type": "stream",
     "text": [
      "kitchen_garbagedisposal\n",
      "0.998108448928121\n",
      "Fitting 15 folds for each of 8 candidates, totalling 120 fits\n"
     ]
    },
    {
     "name": "stderr",
     "output_type": "stream",
     "text": [
      "[Parallel(n_jobs=1)]: Using backend SequentialBackend with 1 concurrent workers.\n",
      "[Parallel(n_jobs=1)]: Done 120 out of 120 | elapsed:    0.8s finished\n"
     ]
    },
    {
     "name": "stdout",
     "output_type": "stream",
     "text": [
      "GridSearchCV(cv=<sklearn.model_selection._split.RepeatedStratifiedKFold object at 0x000001CC81791630>,\n",
      "             error_score='raise-deprecating',\n",
      "             estimator=DecisionTreeClassifier(class_weight=None,\n",
      "                                              criterion='gini', max_depth=None,\n",
      "                                              max_features=None,\n",
      "                                              max_leaf_nodes=None,\n",
      "                                              min_impurity_decrease=0.0,\n",
      "                                              min_impurity_split=None,\n",
      "                                              min_samples_leaf=1,\n",
      "                                              min_samples_split=2,\n",
      "                                              min_weight_fraction_leaf=0.0,\n",
      "                                              presort=False, random_state=999,\n",
      "                                              splitter='best'),\n",
      "             iid='warn', n_jobs=None,\n",
      "             param_grid={'criterion': ['gini', 'entropy'],\n",
      "                         'max_depth': [2, 3, 4, 5]},\n",
      "             pre_dispatch='2*n_jobs', refit=True, return_train_score=False,\n",
      "             scoring='accuracy', verbose=1)\n",
      "{'criterion': 'gini', 'max_depth': 2}\n",
      "0.9977298524404086\n",
      "['kitchen_cabinet' 'livingroom_lightswitch' 'livingroom_dvd'\n",
      " 'kitchen_lightswitch' 'foyer_lightswitch']\n",
      "[0.00180866 0.00067064 0.00054108 0.0005221  0.00047323]\n"
     ]
    },
    {
     "data": {
      "application/vnd.vegalite.v3+json": {
       "$schema": "https://vega.github.io/schema/vega-lite/v3.4.0.json",
       "config": {
        "mark": {
         "tooltip": null
        },
        "view": {
         "height": 300,
         "width": 400
        }
       },
       "data": {
        "name": "data-c23306acd1a7aa5a03f1b86df60015ff"
       },
       "datasets": {
        "data-c23306acd1a7aa5a03f1b86df60015ff": [
         {
          "features": "kitchen_cabinet",
          "importances": 0.0018086624097957138
         },
         {
          "features": "livingroom_lightswitch",
          "importances": 0.0006706448243599672
         },
         {
          "features": "livingroom_dvd",
          "importances": 0.0005410771173740558
         },
         {
          "features": "kitchen_lightswitch",
          "importances": 0.0005220989479838289
         },
         {
          "features": "foyer_lightswitch",
          "importances": 0.000473229776112416
         }
        ]
       },
       "encoding": {
        "x": {
         "axis": {
          "labelAngle": 45
         },
         "field": "features",
         "sort": null,
         "title": "Feature",
         "type": "nominal"
        },
        "y": {
         "field": "importances",
         "title": "Importance",
         "type": "quantitative"
        }
       },
       "mark": {
        "color": "blue",
        "opacity": 0.95,
        "type": "bar"
       },
       "title": "kitchen_garbagedisposal Mutual Information Feature Importances",
       "width": 500
      },
      "image/png": "[encoded data removed]",
      "text/plain": [
       "<VegaLite 3 object>\n",
       "\n",
       "If you see this message, it means the renderer has not been properly enabled\n",
       "for the frontend that you are using. For more information, see\n",
       "https://altair-viz.github.io/user_guide/troubleshooting.html\n"
      ]
     },
     "metadata": {},
     "output_type": "display_data"
    },
    {
     "name": "stdout",
     "output_type": "stream",
     "text": [
      "kitchen_washingmachine\n",
      "0.9829760403530895\n",
      "Fitting 15 folds for each of 8 candidates, totalling 120 fits\n"
     ]
    },
    {
     "name": "stderr",
     "output_type": "stream",
     "text": [
      "[Parallel(n_jobs=1)]: Using backend SequentialBackend with 1 concurrent workers.\n",
      "[Parallel(n_jobs=1)]: Done 120 out of 120 | elapsed:    1.0s finished\n"
     ]
    },
    {
     "name": "stdout",
     "output_type": "stream",
     "text": [
      "GridSearchCV(cv=<sklearn.model_selection._split.RepeatedStratifiedKFold object at 0x000001CC819DCCF8>,\n",
      "             error_score='raise-deprecating',\n",
      "             estimator=DecisionTreeClassifier(class_weight=None,\n",
      "                                              criterion='gini', max_depth=None,\n",
      "                                              max_features=None,\n",
      "                                              max_leaf_nodes=None,\n",
      "                                              min_impurity_decrease=0.0,\n",
      "                                              min_impurity_split=None,\n",
      "                                              min_samples_leaf=1,\n",
      "                                              min_samples_split=2,\n",
      "                                              min_weight_fraction_leaf=0.0,\n",
      "                                              presort=False, random_state=999,\n",
      "                                              splitter='best'),\n",
      "             iid='warn', n_jobs=None,\n",
      "             param_grid={'criterion': ['gini', 'entropy'],\n",
      "                         'max_depth': [2, 3, 4, 5]},\n",
      "             pre_dispatch='2*n_jobs', refit=True, return_train_score=False,\n",
      "             scoring='accuracy', verbose=1)\n",
      "{'criterion': 'gini', 'max_depth': 3}\n",
      "0.9890906797830747\n",
      "['bathroom_sinkfaucet-cold' 'kitchen_door' 'kitchen_burner'\n",
      " 'bathroom_toiletflush' 'kitchen_lightswitch']\n",
      "[0.01931515 0.01200914 0.0024865  0.00179695 0.00159549]\n"
     ]
    },
    {
     "data": {
      "application/vnd.vegalite.v3+json": {
       "$schema": "https://vega.github.io/schema/vega-lite/v3.4.0.json",
       "config": {
        "mark": {
         "tooltip": null
        },
        "view": {
         "height": 300,
         "width": 400
        }
       },
       "data": {
        "name": "data-7816e77c20e98efcd60fa62101b67e59"
       },
       "datasets": {
        "data-7816e77c20e98efcd60fa62101b67e59": [
         {
          "features": "bathroom_sinkfaucet-cold",
          "importances": 0.01931514759824937
         },
         {
          "features": "kitchen_door",
          "importances": 0.01200913611528609
         },
         {
          "features": "kitchen_burner",
          "importances": 0.0024864981956510546
         },
         {
          "features": "bathroom_toiletflush",
          "importances": 0.001796954381962701
         },
         {
          "features": "kitchen_lightswitch",
          "importances": 0.0015954919429922443
         }
        ]
       },
       "encoding": {
        "x": {
         "axis": {
          "labelAngle": 45
         },
         "field": "features",
         "sort": null,
         "title": "Feature",
         "type": "nominal"
        },
        "y": {
         "field": "importances",
         "title": "Importance",
         "type": "quantitative"
        }
       },
       "mark": {
        "color": "blue",
        "opacity": 0.95,
        "type": "bar"
       },
       "title": "kitchen_washingmachine Mutual Information Feature Importances",
       "width": 500
      },
      "image/png": "[encoded data removed]",
      "text/plain": [
       "<VegaLite 3 object>\n",
       "\n",
       "If you see this message, it means the renderer has not been properly enabled\n",
       "for the frontend that you are using. For more information, see\n",
       "https://altair-viz.github.io/user_guide/troubleshooting.html\n"
      ]
     },
     "metadata": {},
     "output_type": "display_data"
    },
    {
     "name": "stdout",
     "output_type": "stream",
     "text": [
      "kitchen_dishwasher\n",
      "0.9489281210592686\n",
      "Fitting 15 folds for each of 8 candidates, totalling 120 fits\n"
     ]
    },
    {
     "name": "stderr",
     "output_type": "stream",
     "text": [
      "[Parallel(n_jobs=1)]: Using backend SequentialBackend with 1 concurrent workers.\n",
      "[Parallel(n_jobs=1)]: Done 120 out of 120 | elapsed:    1.0s finished\n"
     ]
    },
    {
     "name": "stdout",
     "output_type": "stream",
     "text": [
      "GridSearchCV(cv=<sklearn.model_selection._split.RepeatedStratifiedKFold object at 0x000001CC819FCB70>,\n",
      "             error_score='raise-deprecating',\n",
      "             estimator=DecisionTreeClassifier(class_weight=None,\n",
      "                                              criterion='gini', max_depth=None,\n",
      "                                              max_features=None,\n",
      "                                              max_leaf_nodes=None,\n",
      "                                              min_impurity_decrease=0.0,\n",
      "                                              min_impurity_split=None,\n",
      "                                              min_samples_leaf=1,\n",
      "                                              min_samples_split=2,\n",
      "                                              min_weight_fraction_leaf=0.0,\n",
      "                                              presort=False, random_state=999,\n",
      "                                              splitter='best'),\n",
      "             iid='warn', n_jobs=None,\n",
      "             param_grid={'criterion': ['gini', 'entropy'],\n",
      "                         'max_depth': [2, 3, 4, 5]},\n",
      "             pre_dispatch='2*n_jobs', refit=True, return_train_score=False,\n",
      "             scoring='accuracy', verbose=1)\n",
      "{'criterion': 'entropy', 'max_depth': 5}\n",
      "0.948858620254761\n",
      "['kitchen_lightswitch' 'study_lightwitch' 'kitchen_burner'\n",
      " 'kitchen_cabinet' 'livingroom_lightswitch']\n",
      "[0.01120385 0.0093765  0.00908117 0.00677485 0.00668702]\n"
     ]
    },
    {
     "data": {
      "application/vnd.vegalite.v3+json": {
       "$schema": "https://vega.github.io/schema/vega-lite/v3.4.0.json",
       "config": {
        "mark": {
         "tooltip": null
        },
        "view": {
         "height": 300,
         "width": 400
        }
       },
       "data": {
        "name": "data-8685e91dbee23394a61c92316d130ce0"
       },
       "datasets": {
        "data-8685e91dbee23394a61c92316d130ce0": [
         {
          "features": "kitchen_lightswitch",
          "importances": 0.011203846713252252
         },
         {
          "features": "study_lightwitch",
          "importances": 0.009376498845616865
         },
         {
          "features": "kitchen_burner",
          "importances": 0.009081165870306274
         },
         {
          "features": "kitchen_cabinet",
          "importances": 0.006774851191012843
         },
         {
          "features": "livingroom_lightswitch",
          "importances": 0.006687018669947253
         }
        ]
       },
       "encoding": {
        "x": {
         "axis": {
          "labelAngle": 45
         },
         "field": "features",
         "sort": null,
         "title": "Feature",
         "type": "nominal"
        },
        "y": {
         "field": "importances",
         "title": "Importance",
         "type": "quantitative"
        }
       },
       "mark": {
        "color": "blue",
        "opacity": 0.95,
        "type": "bar"
       },
       "title": "kitchen_dishwasher Mutual Information Feature Importances",
       "width": 500
      },
      "image/png": "[encoded data removed]",
      "text/plain": [
       "<VegaLite 3 object>\n",
       "\n",
       "If you see this message, it means the renderer has not been properly enabled\n",
       "for the frontend that you are using. For more information, see\n",
       "https://altair-viz.github.io/user_guide/troubleshooting.html\n"
      ]
     },
     "metadata": {},
     "output_type": "display_data"
    },
    {
     "name": "stdout",
     "output_type": "stream",
     "text": [
      "bathroom_exhaustfan\n",
      "0.8738965952080706\n",
      "Fitting 15 folds for each of 8 candidates, totalling 120 fits\n"
     ]
    },
    {
     "name": "stderr",
     "output_type": "stream",
     "text": [
      "[Parallel(n_jobs=1)]: Using backend SequentialBackend with 1 concurrent workers.\n",
      "[Parallel(n_jobs=1)]: Done 120 out of 120 | elapsed:    0.8s finished\n"
     ]
    },
    {
     "name": "stdout",
     "output_type": "stream",
     "text": [
      "GridSearchCV(cv=<sklearn.model_selection._split.RepeatedStratifiedKFold object at 0x000001CC8184B2E8>,\n",
      "             error_score='raise-deprecating',\n",
      "             estimator=DecisionTreeClassifier(class_weight=None,\n",
      "                                              criterion='gini', max_depth=None,\n",
      "                                              max_features=None,\n",
      "                                              max_leaf_nodes=None,\n",
      "                                              min_impurity_decrease=0.0,\n",
      "                                              min_impurity_split=None,\n",
      "                                              min_samples_leaf=1,\n",
      "                                              min_samples_split=2,\n",
      "                                              min_weight_fraction_leaf=0.0,\n",
      "                                              presort=False, random_state=999,\n",
      "                                              splitter='best'),\n",
      "             iid='warn', n_jobs=None,\n",
      "             param_grid={'criterion': ['gini', 'entropy'],\n",
      "                         'max_depth': [2, 3, 4, 5]},\n",
      "             pre_dispatch='2*n_jobs', refit=True, return_train_score=False,\n",
      "             scoring='accuracy', verbose=1)\n",
      "{'criterion': 'gini', 'max_depth': 5}\n",
      "0.8784840459074285\n",
      "['bathroom_medicinecabinet' 'kitchen_lightswitch' 'livingroom_lightswitch'\n",
      " 'bathroom_sinkfaucet-cold' 'kitchen_freezer']\n",
      "[0.01205733 0.00979328 0.00878824 0.00739425 0.00618535]\n"
     ]
    },
    {
     "data": {
      "application/vnd.vegalite.v3+json": {
       "$schema": "https://vega.github.io/schema/vega-lite/v3.4.0.json",
       "config": {
        "mark": {
         "tooltip": null
        },
        "view": {
         "height": 300,
         "width": 400
        }
       },
       "data": {
        "name": "data-e656465f26de3212a1b124b013978497"
       },
       "datasets": {
        "data-e656465f26de3212a1b124b013978497": [
         {
          "features": "bathroom_medicinecabinet",
          "importances": 0.012057325676309905
         },
         {
          "features": "kitchen_lightswitch",
          "importances": 0.009793278310188835
         },
         {
          "features": "livingroom_lightswitch",
          "importances": 0.008788239009858367
         },
         {
          "features": "bathroom_sinkfaucet-cold",
          "importances": 0.007394245034008762
         },
         {
          "features": "kitchen_freezer",
          "importances": 0.0061853512197918015
         }
        ]
       },
       "encoding": {
        "x": {
         "axis": {
          "labelAngle": 45
         },
         "field": "features",
         "sort": null,
         "title": "Feature",
         "type": "nominal"
        },
        "y": {
         "field": "importances",
         "title": "Importance",
         "type": "quantitative"
        }
       },
       "mark": {
        "color": "blue",
        "opacity": 0.95,
        "type": "bar"
       },
       "title": "bathroom_exhaustfan Mutual Information Feature Importances",
       "width": 500
      },
      "image/png": "[encoded data removed]",
      "text/plain": [
       "<VegaLite 3 object>\n",
       "\n",
       "If you see this message, it means the renderer has not been properly enabled\n",
       "for the frontend that you are using. For more information, see\n",
       "https://altair-viz.github.io/user_guide/troubleshooting.html\n"
      ]
     },
     "metadata": {},
     "output_type": "display_data"
    },
    {
     "name": "stdout",
     "output_type": "stream",
     "text": [
      "kitchen_refrigerator\n",
      "0.9590163934426229\n",
      "Fitting 15 folds for each of 8 candidates, totalling 120 fits\n"
     ]
    },
    {
     "name": "stderr",
     "output_type": "stream",
     "text": [
      "[Parallel(n_jobs=1)]: Using backend SequentialBackend with 1 concurrent workers.\n",
      "[Parallel(n_jobs=1)]: Done 120 out of 120 | elapsed:    0.8s finished\n"
     ]
    },
    {
     "name": "stdout",
     "output_type": "stream",
     "text": [
      "GridSearchCV(cv=<sklearn.model_selection._split.RepeatedStratifiedKFold object at 0x000001CC81791B38>,\n",
      "             error_score='raise-deprecating',\n",
      "             estimator=DecisionTreeClassifier(class_weight=None,\n",
      "                                              criterion='gini', max_depth=None,\n",
      "                                              max_features=None,\n",
      "                                              max_leaf_nodes=None,\n",
      "                                              min_impurity_decrease=0.0,\n",
      "                                              min_impurity_split=None,\n",
      "                                              min_samples_leaf=1,\n",
      "                                              min_samples_split=2,\n",
      "                                              min_weight_fraction_leaf=0.0,\n",
      "                                              presort=False, random_state=999,\n",
      "                                              splitter='best'),\n",
      "             iid='warn', n_jobs=None,\n",
      "             param_grid={'criterion': ['gini', 'entropy'],\n",
      "                         'max_depth': [2, 3, 4, 5]},\n",
      "             pre_dispatch='2*n_jobs', refit=True, return_train_score=False,\n",
      "             scoring='accuracy', verbose=1)\n",
      "{'criterion': 'entropy', 'max_depth': 5}\n",
      "0.962353386303443\n",
      "['kitchen_cabinet' 'kitchen_toaster' 'kitchen_burner' 'kitchen_drawer'\n",
      " 'study_drawer']\n",
      "[0.02517314 0.0179653  0.00992888 0.00951158 0.00512313]\n"
     ]
    },
    {
     "data": {
      "application/vnd.vegalite.v3+json": {
       "$schema": "https://vega.github.io/schema/vega-lite/v3.4.0.json",
       "config": {
        "mark": {
         "tooltip": null
        },
        "view": {
         "height": 300,
         "width": 400
        }
       },
       "data": {
        "name": "data-44f5f32b001c291bd9bf917ecf5cb07c"
       },
       "datasets": {
        "data-44f5f32b001c291bd9bf917ecf5cb07c": [
         {
          "features": "kitchen_cabinet",
          "importances": 0.02517314306867413
         },
         {
          "features": "kitchen_toaster",
          "importances": 0.017965297039223227
         },
         {
          "features": "kitchen_burner",
          "importances": 0.009928881565688163
         },
         {
          "features": "kitchen_drawer",
          "importances": 0.009511584675873319
         },
         {
          "features": "study_drawer",
          "importances": 0.0051231335296002545
         }
        ]
       },
       "encoding": {
        "x": {
         "axis": {
          "labelAngle": 45
         },
         "field": "features",
         "sort": null,
         "title": "Feature",
         "type": "nominal"
        },
        "y": {
         "field": "importances",
         "title": "Importance",
         "type": "quantitative"
        }
       },
       "mark": {
        "color": "blue",
        "opacity": 0.95,
        "type": "bar"
       },
       "title": "kitchen_refrigerator Mutual Information Feature Importances",
       "width": 500
      },
      "image/png": "[encoded data removed]",
      "text/plain": [
       "<VegaLite 3 object>\n",
       "\n",
       "If you see this message, it means the renderer has not been properly enabled\n",
       "for the frontend that you are using. For more information, see\n",
       "https://altair-viz.github.io/user_guide/troubleshooting.html\n"
      ]
     },
     "metadata": {},
     "output_type": "display_data"
    },
    {
     "data": {
      "text/html": [
       "<div>\n",
       "<style scoped>\n",
       "    .dataframe tbody tr th:only-of-type {\n",
       "        vertical-align: middle;\n",
       "    }\n",
       "\n",
       "    .dataframe tbody tr th {\n",
       "        vertical-align: top;\n",
       "    }\n",
       "\n",
       "    .dataframe thead th {\n",
       "        text-align: right;\n",
       "    }\n",
       "</style>\n",
       "<table border=\"1\" class=\"dataframe\">\n",
       "  <thead>\n",
       "    <tr style=\"text-align: right;\">\n",
       "      <th></th>\n",
       "      <th>Target</th>\n",
       "      <th>bathroom_cabinet</th>\n",
       "      <th>bathroom_door</th>\n",
       "      <th>bathroom_exhaustfan</th>\n",
       "      <th>bathroom_lightswitch</th>\n",
       "      <th>bathroom_medicinecabinet</th>\n",
       "      <th>bathroom_showerfaucet</th>\n",
       "      <th>bathroom_sinkfaucet-cold</th>\n",
       "      <th>bathroom_sinkfaucet-hot</th>\n",
       "      <th>bathroom_toiletflush</th>\n",
       "      <th>...</th>\n",
       "      <th>kitchen_microwave</th>\n",
       "      <th>kitchen_oven</th>\n",
       "      <th>kitchen_refrigerator</th>\n",
       "      <th>kitchen_toaster</th>\n",
       "      <th>kitchen_washingmachine</th>\n",
       "      <th>livingroom_dvd</th>\n",
       "      <th>livingroom_lamp</th>\n",
       "      <th>livingroom_lightswitch</th>\n",
       "      <th>study_drawer</th>\n",
       "      <th>study_lightwitch</th>\n",
       "    </tr>\n",
       "  </thead>\n",
       "  <tbody>\n",
       "    <tr>\n",
       "      <th>0</th>\n",
       "      <td>livingroom_lightswitch</td>\n",
       "      <td>NaN</td>\n",
       "      <td>NaN</td>\n",
       "      <td>0.007783</td>\n",
       "      <td>NaN</td>\n",
       "      <td>NaN</td>\n",
       "      <td>0.016859</td>\n",
       "      <td>NaN</td>\n",
       "      <td>NaN</td>\n",
       "      <td>NaN</td>\n",
       "      <td>...</td>\n",
       "      <td>NaN</td>\n",
       "      <td>NaN</td>\n",
       "      <td>NaN</td>\n",
       "      <td>NaN</td>\n",
       "      <td>NaN</td>\n",
       "      <td>0.017094</td>\n",
       "      <td>NaN</td>\n",
       "      <td>0.012225</td>\n",
       "      <td>NaN</td>\n",
       "      <td>NaN</td>\n",
       "    </tr>\n",
       "    <tr>\n",
       "      <th>1</th>\n",
       "      <td>kitchen_burner</td>\n",
       "      <td>NaN</td>\n",
       "      <td>NaN</td>\n",
       "      <td>NaN</td>\n",
       "      <td>NaN</td>\n",
       "      <td>NaN</td>\n",
       "      <td>NaN</td>\n",
       "      <td>NaN</td>\n",
       "      <td>NaN</td>\n",
       "      <td>NaN</td>\n",
       "      <td>...</td>\n",
       "      <td>NaN</td>\n",
       "      <td>NaN</td>\n",
       "      <td>NaN</td>\n",
       "      <td>NaN</td>\n",
       "      <td>NaN</td>\n",
       "      <td>NaN</td>\n",
       "      <td>NaN</td>\n",
       "      <td>0.009359</td>\n",
       "      <td>NaN</td>\n",
       "      <td>NaN</td>\n",
       "    </tr>\n",
       "    <tr>\n",
       "      <th>2</th>\n",
       "      <td>kitchen_lightswitch</td>\n",
       "      <td>NaN</td>\n",
       "      <td>NaN</td>\n",
       "      <td>NaN</td>\n",
       "      <td>NaN</td>\n",
       "      <td>NaN</td>\n",
       "      <td>NaN</td>\n",
       "      <td>NaN</td>\n",
       "      <td>0.011386</td>\n",
       "      <td>NaN</td>\n",
       "      <td>...</td>\n",
       "      <td>NaN</td>\n",
       "      <td>NaN</td>\n",
       "      <td>NaN</td>\n",
       "      <td>NaN</td>\n",
       "      <td>NaN</td>\n",
       "      <td>NaN</td>\n",
       "      <td>0.013080</td>\n",
       "      <td>NaN</td>\n",
       "      <td>NaN</td>\n",
       "      <td>NaN</td>\n",
       "    </tr>\n",
       "    <tr>\n",
       "      <th>3</th>\n",
       "      <td>kitchen_coffeemachine</td>\n",
       "      <td>NaN</td>\n",
       "      <td>NaN</td>\n",
       "      <td>NaN</td>\n",
       "      <td>NaN</td>\n",
       "      <td>NaN</td>\n",
       "      <td>NaN</td>\n",
       "      <td>NaN</td>\n",
       "      <td>NaN</td>\n",
       "      <td>NaN</td>\n",
       "      <td>...</td>\n",
       "      <td>NaN</td>\n",
       "      <td>0.00091</td>\n",
       "      <td>NaN</td>\n",
       "      <td>0.001985</td>\n",
       "      <td>NaN</td>\n",
       "      <td>NaN</td>\n",
       "      <td>NaN</td>\n",
       "      <td>NaN</td>\n",
       "      <td>NaN</td>\n",
       "      <td>NaN</td>\n",
       "    </tr>\n",
       "    <tr>\n",
       "      <th>4</th>\n",
       "      <td>bathroom_lightswitch</td>\n",
       "      <td>0.011738</td>\n",
       "      <td>NaN</td>\n",
       "      <td>NaN</td>\n",
       "      <td>NaN</td>\n",
       "      <td>NaN</td>\n",
       "      <td>NaN</td>\n",
       "      <td>NaN</td>\n",
       "      <td>NaN</td>\n",
       "      <td>NaN</td>\n",
       "      <td>...</td>\n",
       "      <td>NaN</td>\n",
       "      <td>NaN</td>\n",
       "      <td>NaN</td>\n",
       "      <td>NaN</td>\n",
       "      <td>NaN</td>\n",
       "      <td>0.012637</td>\n",
       "      <td>0.006967</td>\n",
       "      <td>0.022492</td>\n",
       "      <td>NaN</td>\n",
       "      <td>NaN</td>\n",
       "    </tr>\n",
       "  </tbody>\n",
       "</table>\n",
       "<p>5 rows × 31 columns</p>\n",
       "</div>"
      ],
      "text/plain": [
       "                   Target  bathroom_cabinet  bathroom_door  \\\n",
       "0  livingroom_lightswitch               NaN            NaN   \n",
       "1          kitchen_burner               NaN            NaN   \n",
       "2     kitchen_lightswitch               NaN            NaN   \n",
       "3   kitchen_coffeemachine               NaN            NaN   \n",
       "4    bathroom_lightswitch          0.011738            NaN   \n",
       "\n",
       "   bathroom_exhaustfan  bathroom_lightswitch  bathroom_medicinecabinet  \\\n",
       "0             0.007783                   NaN                       NaN   \n",
       "1                  NaN                   NaN                       NaN   \n",
       "2                  NaN                   NaN                       NaN   \n",
       "3                  NaN                   NaN                       NaN   \n",
       "4                  NaN                   NaN                       NaN   \n",
       "\n",
       "   bathroom_showerfaucet  bathroom_sinkfaucet-cold  bathroom_sinkfaucet-hot  \\\n",
       "0               0.016859                       NaN                      NaN   \n",
       "1                    NaN                       NaN                      NaN   \n",
       "2                    NaN                       NaN                 0.011386   \n",
       "3                    NaN                       NaN                      NaN   \n",
       "4                    NaN                       NaN                      NaN   \n",
       "\n",
       "   bathroom_toiletflush  ...  kitchen_microwave  kitchen_oven  \\\n",
       "0                   NaN  ...                NaN           NaN   \n",
       "1                   NaN  ...                NaN           NaN   \n",
       "2                   NaN  ...                NaN           NaN   \n",
       "3                   NaN  ...                NaN       0.00091   \n",
       "4                   NaN  ...                NaN           NaN   \n",
       "\n",
       "   kitchen_refrigerator  kitchen_toaster  kitchen_washingmachine  \\\n",
       "0                   NaN              NaN                     NaN   \n",
       "1                   NaN              NaN                     NaN   \n",
       "2                   NaN              NaN                     NaN   \n",
       "3                   NaN         0.001985                     NaN   \n",
       "4                   NaN              NaN                     NaN   \n",
       "\n",
       "   livingroom_dvd  livingroom_lamp  livingroom_lightswitch  study_drawer  \\\n",
       "0        0.017094              NaN                0.012225           NaN   \n",
       "1             NaN              NaN                0.009359           NaN   \n",
       "2             NaN         0.013080                     NaN           NaN   \n",
       "3             NaN              NaN                     NaN           NaN   \n",
       "4        0.012637         0.006967                0.022492           NaN   \n",
       "\n",
       "   study_lightwitch  \n",
       "0               NaN  \n",
       "1               NaN  \n",
       "2               NaN  \n",
       "3               NaN  \n",
       "4               NaN  \n",
       "\n",
       "[5 rows x 31 columns]"
      ]
     },
     "execution_count": 46,
     "metadata": {},
     "output_type": "execute_result"
    }
   ],
   "source": [
    "table = []\n",
    "\n",
    "for subAct in poweredSubActs:\n",
    "    print(subAct)\n",
    "    row = {\"Target\":subAct}\n",
    "    \n",
    "    Data = ds.drop(columns = subAct).values\n",
    "    target = ds[subAct]\n",
    "    D_train, D_test, t_train, t_test = train_test_split(Data, \n",
    "                                                    target, \n",
    "                                                    test_size = 0.3,\n",
    "                                                    random_state=999)\n",
    "    \n",
    "    dt_classifier = DecisionTreeClassifier(max_depth=4,\n",
    "                                       criterion='entropy',\n",
    "                                       random_state = 999)\n",
    "    \n",
    "    dt_classifier.fit(D_train, t_train)\n",
    "    print(dt_classifier.score(D_test, t_test))\n",
    "    \n",
    "    cv_method = RepeatedStratifiedKFold(n_splits = 5, \n",
    "                                    n_repeats = 3, \n",
    "                                    random_state = 999)\n",
    "\n",
    "    dt_classifier = DecisionTreeClassifier(random_state=999)\n",
    "\n",
    "    params_DT = {'criterion': ['gini', 'entropy'],\n",
    "                 'max_depth': [2, 3, 4, 5]}\n",
    "\n",
    "    gs = GridSearchCV(estimator=dt_classifier, \n",
    "                      param_grid=params_DT, \n",
    "                      cv=cv_method,\n",
    "                      verbose=1, \n",
    "                      scoring='accuracy')\n",
    "    \n",
    "    print(gs.fit(Data, target))\n",
    "    print(gs.best_params_)\n",
    "    print(gs.best_score_)\n",
    "    \n",
    "    num_features = 5\n",
    "    fs_fit_mutual_info = fs.SelectKBest(fs.mutual_info_classif, k=num_features)\n",
    "    fs_fit_mutual_info.fit_transform(Data, target)\n",
    "    fs_indices_mutual_info = np.argsort(fs_fit_mutual_info.scores_)[::-1][0:num_features]\n",
    "    best_features_mutual_info = ds.columns[fs_indices_mutual_info].values\n",
    "    print(best_features_mutual_info)\n",
    "    \n",
    "    feature_importances_mutual_info = fs_fit_mutual_info.scores_[fs_indices_mutual_info]\n",
    "    print(feature_importances_mutual_info)\n",
    "    \n",
    "    best_feats = dict(zip(best_features_mutual_info, feature_importances_mutual_info))\n",
    "    row.update(best_feats)\n",
    "    table.append(row)\n",
    "    \n",
    "    plot = plot_imp(subAct, best_features_mutual_info, feature_importances_mutual_info, 'Mutual Information', 'blue')\n",
    "    plot.display()\n",
    "    \n",
    "ds_best_feats = pd.DataFrame(table)\n",
    "ds_best_feats.head()"
   ]
  },
  {
   "cell_type": "code",
   "execution_count": null,
   "metadata": {},
   "outputs": [],
   "source": []
  },
  {
   "cell_type": "code",
   "execution_count": 6,
   "metadata": {},
   "outputs": [],
   "source": []
  },
  {
   "cell_type": "code",
   "execution_count": 7,
   "metadata": {},
   "outputs": [],
   "source": []
  },
  {
   "cell_type": "code",
   "execution_count": 8,
   "metadata": {},
   "outputs": [],
   "source": []
  },
  {
   "cell_type": "code",
   "execution_count": null,
   "metadata": {},
   "outputs": [],
   "source": []
  },
  {
   "cell_type": "code",
   "execution_count": 10,
   "metadata": {},
   "outputs": [],
   "source": []
  },
  {
   "cell_type": "code",
   "execution_count": null,
   "metadata": {},
   "outputs": [],
   "source": []
  },
  {
   "cell_type": "code",
   "execution_count": 12,
   "metadata": {},
   "outputs": [],
   "source": []
  },
  {
   "cell_type": "markdown",
   "metadata": {},
   "source": [
    "### Feature Selection Using Mutual Information"
   ]
  },
  {
   "cell_type": "markdown",
   "metadata": {},
   "source": [
    "The mutual information method is a filter feature selection method that looks at the relationship between each descriptive feature and the target feature using the concept of entropy.\n",
    "\n",
    "The code below returns the indices of the 5 features that have the highest mutual information value. As in the F-score method, the wrapper is not used in any way when selecting features using the mutual information method."
   ]
  },
  {
   "cell_type": "code",
   "execution_count": null,
   "metadata": {},
   "outputs": [],
   "source": []
  },
  {
   "cell_type": "code",
   "execution_count": null,
   "metadata": {},
   "outputs": [],
   "source": []
  },
  {
   "cell_type": "code",
   "execution_count": null,
   "metadata": {},
   "outputs": [],
   "source": []
  },
  {
   "cell_type": "markdown",
   "metadata": {},
   "source": []
  },
  {
   "cell_type": "code",
   "execution_count": 16,
   "metadata": {},
   "outputs": [],
   "source": [
    "# import datetime as dt\n",
    "# def add_DAY_WDWE_phaseII(ds):\n",
    "#     dayNumKeyWithDAYDict = pd.Series(['Mon','Tue','Wed','Thu','Fri','Sat','Sun'], ['0','1','2','3','4','5','6']).to_dict()\n",
    "#     dayNumKeyWithWDWEDict = pd.Series(['WD','WD','WD','WD','WD','WE','WE'], ['0','1','2','3','4','5','6']).to_dict()\n",
    "#     ds.set_index(ds['timestamp'], inplace = True)\n",
    "#     ds.insert((len(ds.columns)), \"DAY\", ds.index.dayofweek.astype(str), True)\n",
    "#     ds.insert((len(ds.columns)), \"WDWE\", ds.index.dayofweek.astype(str), True)\n",
    "#     ds = ds.replace({\"DAY\": dayNumKeyWithDAYDict})\n",
    "#     ds = ds.replace({\"WDWE\": dayNumKeyWithWDWEDict})\n",
    "#     ds.reset_index(drop = True, inplace = True)\n",
    "#     ds['Hour'] = ds['timestamp'].dt.hour\n",
    "#     return ds\n",
    "\n",
    "# df = add_DAY_WDWE_phaseII(df)\n",
    "# df.head()"
   ]
  },
  {
   "cell_type": "code",
   "execution_count": 17,
   "metadata": {},
   "outputs": [],
   "source": [
    "# df['Phase'] = \"Afternoon\"\n",
    "# df.loc[df['Hour'] < 9, 'Phase'] = \"Morning\"\n",
    "# df.loc[df['Hour'] >= 17, 'Phase'] = \"Evening\"\n",
    "# df.head()"
   ]
  },
  {
   "cell_type": "markdown",
   "metadata": {},
   "source": [
    "## Can we please also have summary stats - for example, 'Washine Machine on WD morning has a mean value of X with a SD of Y'"
   ]
  },
  {
   "cell_type": "code",
   "execution_count": 35,
   "metadata": {},
   "outputs": [],
   "source": [
    "import warnings\n",
    "warnings.filterwarnings(\"ignore\")\n",
    "import numpy as np\n",
    "import pandas as pd\n",
    "from sklearn.model_selection import train_test_split\n",
    "from sklearn.tree import DecisionTreeClassifier\n",
    "from sklearn import feature_selection as fs\n",
    "from sklearn.model_selection import RepeatedStratifiedKFold, GridSearchCV\n",
    "from sklearn.preprocessing import StandardScaler\n",
    "import datetime as dt\n",
    "\n",
    "df = pd.read_csv('S1Act_B_m_NoDupes.csv', index_col = \"duration\")\n",
    "df.reset_index(drop = True, inplace = True)\n",
    "\n",
    "df_sensors = pd.read_csv('S1Sensors_preprocessed.csv', index_col = None)\n",
    "df_sensors = df_sensors[df_sensors.reqEnergy]\n",
    "\n",
    "df_costs = pd.read_csv('power_costs.csv', index_col = None)\n",
    "\n",
    "def add_DAY_WDWE_phaseII(ds):\n",
    "    dayNumKeyWithDAYDict = pd.Series(['Mon','Tue','Wed','Thu','Fri','Sat','Sun'], ['0','1','2','3','4','5','6']).to_dict()\n",
    "    dayNumKeyWithWDWEDict = pd.Series(['WD','WD','WD','WD','WD','WE','WE'], ['0','1','2','3','4','5','6']).to_dict()\n",
    "    ds.set_index(ds['timestamp'], inplace = True)\n",
    "    ds.insert((len(ds.columns)), \"DAY\", ds.index.dayofweek.astype(str), True)\n",
    "    ds.insert((len(ds.columns)), \"WDWE\", ds.index.dayofweek.astype(str), True)\n",
    "    ds = ds.replace({\"DAY\": dayNumKeyWithDAYDict})\n",
    "    ds = ds.replace({\"WDWE\": dayNumKeyWithWDWEDict})\n",
    "    ds.reset_index(drop = True, inplace = True)\n",
    "    ds['Hour'] = ds['timestamp'].dt.hour\n",
    "    return ds"
   ]
  },
  {
   "cell_type": "code",
   "execution_count": 37,
   "metadata": {},
   "outputs": [
    {
     "data": {
      "text/html": [
       "<div>\n",
       "<style scoped>\n",
       "    .dataframe tbody tr th:only-of-type {\n",
       "        vertical-align: middle;\n",
       "    }\n",
       "\n",
       "    .dataframe tbody tr th {\n",
       "        vertical-align: top;\n",
       "    }\n",
       "\n",
       "    .dataframe thead th {\n",
       "        text-align: right;\n",
       "    }\n",
       "</style>\n",
       "<table border=\"1\" class=\"dataframe\">\n",
       "  <thead>\n",
       "    <tr style=\"text-align: right;\">\n",
       "      <th></th>\n",
       "      <th>subActNum</th>\n",
       "      <th>subAct</th>\n",
       "      <th>start</th>\n",
       "      <th>end</th>\n",
       "      <th>dayNumeric</th>\n",
       "      <th>DAY</th>\n",
       "      <th>WDWE</th>\n",
       "      <th>HOUR</th>\n",
       "      <th>durationSec</th>\n",
       "    </tr>\n",
       "  </thead>\n",
       "  <tbody>\n",
       "    <tr>\n",
       "      <th>0</th>\n",
       "      <td>67</td>\n",
       "      <td>bathroom_cabinet</td>\n",
       "      <td>2003-03-27 06:43:40</td>\n",
       "      <td>2003-03-27 06:43:43</td>\n",
       "      <td>3</td>\n",
       "      <td>Thu</td>\n",
       "      <td>WD</td>\n",
       "      <td>6</td>\n",
       "      <td>3</td>\n",
       "    </tr>\n",
       "    <tr>\n",
       "      <th>1</th>\n",
       "      <td>100</td>\n",
       "      <td>bathroom_toiletflush</td>\n",
       "      <td>2003-03-27 06:44:06</td>\n",
       "      <td>2003-03-27 07:12:41</td>\n",
       "      <td>3</td>\n",
       "      <td>Thu</td>\n",
       "      <td>WD</td>\n",
       "      <td>6</td>\n",
       "      <td>1715</td>\n",
       "    </tr>\n",
       "    <tr>\n",
       "      <th>2</th>\n",
       "      <td>101</td>\n",
       "      <td>bathroom_lightswitch</td>\n",
       "      <td>2003-03-27 06:44:20</td>\n",
       "      <td>2003-03-27 07:46:34</td>\n",
       "      <td>3</td>\n",
       "      <td>Thu</td>\n",
       "      <td>WD</td>\n",
       "      <td>6</td>\n",
       "      <td>3734</td>\n",
       "    </tr>\n",
       "    <tr>\n",
       "      <th>3</th>\n",
       "      <td>57</td>\n",
       "      <td>bathroom_medicinecabinet</td>\n",
       "      <td>2003-03-27 06:44:35</td>\n",
       "      <td>2003-03-27 06:44:48</td>\n",
       "      <td>3</td>\n",
       "      <td>Thu</td>\n",
       "      <td>WD</td>\n",
       "      <td>6</td>\n",
       "      <td>13</td>\n",
       "    </tr>\n",
       "    <tr>\n",
       "      <th>4</th>\n",
       "      <td>57</td>\n",
       "      <td>bathroom_medicinecabinet</td>\n",
       "      <td>2003-03-27 06:44:36</td>\n",
       "      <td>2003-03-27 06:44:48</td>\n",
       "      <td>3</td>\n",
       "      <td>Thu</td>\n",
       "      <td>WD</td>\n",
       "      <td>6</td>\n",
       "      <td>12</td>\n",
       "    </tr>\n",
       "  </tbody>\n",
       "</table>\n",
       "</div>"
      ],
      "text/plain": [
       "   subActNum                    subAct               start  \\\n",
       "0         67          bathroom_cabinet 2003-03-27 06:43:40   \n",
       "1        100      bathroom_toiletflush 2003-03-27 06:44:06   \n",
       "2        101      bathroom_lightswitch 2003-03-27 06:44:20   \n",
       "3         57  bathroom_medicinecabinet 2003-03-27 06:44:35   \n",
       "4         57  bathroom_medicinecabinet 2003-03-27 06:44:36   \n",
       "\n",
       "                  end  dayNumeric  DAY WDWE  HOUR  durationSec  \n",
       "0 2003-03-27 06:43:43           3  Thu   WD     6            3  \n",
       "1 2003-03-27 07:12:41           3  Thu   WD     6         1715  \n",
       "2 2003-03-27 07:46:34           3  Thu   WD     6         3734  \n",
       "3 2003-03-27 06:44:48           3  Thu   WD     6           13  \n",
       "4 2003-03-27 06:44:48           3  Thu   WD     6           12  "
      ]
     },
     "execution_count": 37,
     "metadata": {},
     "output_type": "execute_result"
    }
   ],
   "source": [
    "ds = pd.read_csv('S1SubActivities_temporalFeaturesNoDUPES.csv', index_col = None) \n",
    "ds.start = pd.to_datetime(ds.start, format='%Y-%m-%d %H:%M:%S')\n",
    "ds.end = pd.to_datetime(ds.end, format='%Y-%m-%d %H:%M:%S')\n",
    "ds.head()"
   ]
  },
  {
   "cell_type": "code",
   "execution_count": 39,
   "metadata": {},
   "outputs": [
    {
     "data": {
      "text/html": [
       "<div>\n",
       "<style scoped>\n",
       "    .dataframe tbody tr th:only-of-type {\n",
       "        vertical-align: middle;\n",
       "    }\n",
       "\n",
       "    .dataframe tbody tr th {\n",
       "        vertical-align: top;\n",
       "    }\n",
       "\n",
       "    .dataframe thead th {\n",
       "        text-align: right;\n",
       "    }\n",
       "</style>\n",
       "<table border=\"1\" class=\"dataframe\">\n",
       "  <thead>\n",
       "    <tr style=\"text-align: right;\">\n",
       "      <th></th>\n",
       "      <th></th>\n",
       "      <th></th>\n",
       "      <th>count</th>\n",
       "      <th>mean</th>\n",
       "      <th>std</th>\n",
       "      <th>min</th>\n",
       "      <th>25%</th>\n",
       "      <th>50%</th>\n",
       "      <th>75%</th>\n",
       "      <th>max</th>\n",
       "    </tr>\n",
       "    <tr>\n",
       "      <th>subAct</th>\n",
       "      <th>WDWE</th>\n",
       "      <th>Phase</th>\n",
       "      <th></th>\n",
       "      <th></th>\n",
       "      <th></th>\n",
       "      <th></th>\n",
       "      <th></th>\n",
       "      <th></th>\n",
       "      <th></th>\n",
       "      <th></th>\n",
       "    </tr>\n",
       "  </thead>\n",
       "  <tbody>\n",
       "    <tr>\n",
       "      <th rowspan=\"6\" valign=\"top\">bathroom_cabinet</th>\n",
       "      <th rowspan=\"3\" valign=\"top\">WD</th>\n",
       "      <th>Afternoon</th>\n",
       "      <td>29.0</td>\n",
       "      <td>691.103448</td>\n",
       "      <td>3684.014438</td>\n",
       "      <td>1.0</td>\n",
       "      <td>2.00</td>\n",
       "      <td>3.0</td>\n",
       "      <td>12.00</td>\n",
       "      <td>19846.0</td>\n",
       "    </tr>\n",
       "    <tr>\n",
       "      <th>Evening</th>\n",
       "      <td>24.0</td>\n",
       "      <td>72.166667</td>\n",
       "      <td>339.703665</td>\n",
       "      <td>1.0</td>\n",
       "      <td>1.75</td>\n",
       "      <td>3.0</td>\n",
       "      <td>3.25</td>\n",
       "      <td>1667.0</td>\n",
       "    </tr>\n",
       "    <tr>\n",
       "      <th>Morning</th>\n",
       "      <td>25.0</td>\n",
       "      <td>4.800000</td>\n",
       "      <td>3.559026</td>\n",
       "      <td>1.0</td>\n",
       "      <td>3.00</td>\n",
       "      <td>3.0</td>\n",
       "      <td>6.00</td>\n",
       "      <td>15.0</td>\n",
       "    </tr>\n",
       "    <tr>\n",
       "      <th rowspan=\"3\" valign=\"top\">WE</th>\n",
       "      <th>Afternoon</th>\n",
       "      <td>11.0</td>\n",
       "      <td>4.181818</td>\n",
       "      <td>3.763461</td>\n",
       "      <td>1.0</td>\n",
       "      <td>1.50</td>\n",
       "      <td>3.0</td>\n",
       "      <td>5.50</td>\n",
       "      <td>13.0</td>\n",
       "    </tr>\n",
       "    <tr>\n",
       "      <th>Evening</th>\n",
       "      <td>11.0</td>\n",
       "      <td>2.272727</td>\n",
       "      <td>1.489356</td>\n",
       "      <td>1.0</td>\n",
       "      <td>1.00</td>\n",
       "      <td>2.0</td>\n",
       "      <td>3.50</td>\n",
       "      <td>5.0</td>\n",
       "    </tr>\n",
       "    <tr>\n",
       "      <th>Morning</th>\n",
       "      <td>4.0</td>\n",
       "      <td>6448.500000</td>\n",
       "      <td>12884.334480</td>\n",
       "      <td>2.0</td>\n",
       "      <td>2.75</td>\n",
       "      <td>8.5</td>\n",
       "      <td>6454.25</td>\n",
       "      <td>25775.0</td>\n",
       "    </tr>\n",
       "    <tr>\n",
       "      <th rowspan=\"6\" valign=\"top\">bathroom_door</th>\n",
       "      <th rowspan=\"3\" valign=\"top\">WD</th>\n",
       "      <th>Afternoon</th>\n",
       "      <td>20.0</td>\n",
       "      <td>632.200000</td>\n",
       "      <td>2261.413498</td>\n",
       "      <td>1.0</td>\n",
       "      <td>2.00</td>\n",
       "      <td>26.0</td>\n",
       "      <td>116.50</td>\n",
       "      <td>10152.0</td>\n",
       "    </tr>\n",
       "    <tr>\n",
       "      <th>Evening</th>\n",
       "      <td>18.0</td>\n",
       "      <td>104.500000</td>\n",
       "      <td>201.793211</td>\n",
       "      <td>1.0</td>\n",
       "      <td>1.25</td>\n",
       "      <td>43.5</td>\n",
       "      <td>85.50</td>\n",
       "      <td>845.0</td>\n",
       "    </tr>\n",
       "    <tr>\n",
       "      <th>Morning</th>\n",
       "      <td>13.0</td>\n",
       "      <td>45.923077</td>\n",
       "      <td>67.082613</td>\n",
       "      <td>1.0</td>\n",
       "      <td>3.00</td>\n",
       "      <td>7.0</td>\n",
       "      <td>102.00</td>\n",
       "      <td>173.0</td>\n",
       "    </tr>\n",
       "    <tr>\n",
       "      <th rowspan=\"3\" valign=\"top\">WE</th>\n",
       "      <th>Afternoon</th>\n",
       "      <td>8.0</td>\n",
       "      <td>2154.125000</td>\n",
       "      <td>6049.168454</td>\n",
       "      <td>3.0</td>\n",
       "      <td>5.25</td>\n",
       "      <td>11.0</td>\n",
       "      <td>29.50</td>\n",
       "      <td>17125.0</td>\n",
       "    </tr>\n",
       "    <tr>\n",
       "      <th>Evening</th>\n",
       "      <td>10.0</td>\n",
       "      <td>115.400000</td>\n",
       "      <td>215.446410</td>\n",
       "      <td>2.0</td>\n",
       "      <td>3.00</td>\n",
       "      <td>9.0</td>\n",
       "      <td>47.75</td>\n",
       "      <td>575.0</td>\n",
       "    </tr>\n",
       "    <tr>\n",
       "      <th>Morning</th>\n",
       "      <td>4.0</td>\n",
       "      <td>29.000000</td>\n",
       "      <td>38.453435</td>\n",
       "      <td>2.0</td>\n",
       "      <td>9.50</td>\n",
       "      <td>14.0</td>\n",
       "      <td>33.50</td>\n",
       "      <td>86.0</td>\n",
       "    </tr>\n",
       "    <tr>\n",
       "      <th rowspan=\"6\" valign=\"top\">bathroom_exhaustfan</th>\n",
       "      <th rowspan=\"3\" valign=\"top\">WD</th>\n",
       "      <th>Afternoon</th>\n",
       "      <td>7.0</td>\n",
       "      <td>1293.857143</td>\n",
       "      <td>1206.828962</td>\n",
       "      <td>2.0</td>\n",
       "      <td>573.00</td>\n",
       "      <td>979.0</td>\n",
       "      <td>1687.00</td>\n",
       "      <td>3556.0</td>\n",
       "    </tr>\n",
       "    <tr>\n",
       "      <th>Evening</th>\n",
       "      <td>7.0</td>\n",
       "      <td>553.428571</td>\n",
       "      <td>898.082561</td>\n",
       "      <td>1.0</td>\n",
       "      <td>38.50</td>\n",
       "      <td>227.0</td>\n",
       "      <td>523.50</td>\n",
       "      <td>2522.0</td>\n",
       "    </tr>\n",
       "    <tr>\n",
       "      <th>Morning</th>\n",
       "      <td>8.0</td>\n",
       "      <td>1221.500000</td>\n",
       "      <td>929.652009</td>\n",
       "      <td>1.0</td>\n",
       "      <td>819.00</td>\n",
       "      <td>1171.5</td>\n",
       "      <td>1679.00</td>\n",
       "      <td>2706.0</td>\n",
       "    </tr>\n",
       "    <tr>\n",
       "      <th rowspan=\"3\" valign=\"top\">WE</th>\n",
       "      <th>Afternoon</th>\n",
       "      <td>6.0</td>\n",
       "      <td>1299.000000</td>\n",
       "      <td>2502.200871</td>\n",
       "      <td>1.0</td>\n",
       "      <td>41.25</td>\n",
       "      <td>298.0</td>\n",
       "      <td>731.00</td>\n",
       "      <td>6366.0</td>\n",
       "    </tr>\n",
       "    <tr>\n",
       "      <th>Evening</th>\n",
       "      <td>3.0</td>\n",
       "      <td>383.333333</td>\n",
       "      <td>282.369144</td>\n",
       "      <td>195.0</td>\n",
       "      <td>221.00</td>\n",
       "      <td>247.0</td>\n",
       "      <td>477.50</td>\n",
       "      <td>708.0</td>\n",
       "    </tr>\n",
       "    <tr>\n",
       "      <th>Morning</th>\n",
       "      <td>3.0</td>\n",
       "      <td>3413.333333</td>\n",
       "      <td>3234.205054</td>\n",
       "      <td>437.0</td>\n",
       "      <td>1692.50</td>\n",
       "      <td>2948.0</td>\n",
       "      <td>4901.50</td>\n",
       "      <td>6855.0</td>\n",
       "    </tr>\n",
       "    <tr>\n",
       "      <th rowspan=\"5\" valign=\"top\">bathroom_lightswitch</th>\n",
       "      <th rowspan=\"3\" valign=\"top\">WD</th>\n",
       "      <th>Afternoon</th>\n",
       "      <td>10.0</td>\n",
       "      <td>1726.400000</td>\n",
       "      <td>3362.940948</td>\n",
       "      <td>6.0</td>\n",
       "      <td>63.75</td>\n",
       "      <td>150.5</td>\n",
       "      <td>2001.25</td>\n",
       "      <td>10945.0</td>\n",
       "    </tr>\n",
       "    <tr>\n",
       "      <th>Evening</th>\n",
       "      <td>20.0</td>\n",
       "      <td>1019.650000</td>\n",
       "      <td>1963.498175</td>\n",
       "      <td>10.0</td>\n",
       "      <td>45.00</td>\n",
       "      <td>142.0</td>\n",
       "      <td>1410.25</td>\n",
       "      <td>8768.0</td>\n",
       "    </tr>\n",
       "    <tr>\n",
       "      <th>Morning</th>\n",
       "      <td>8.0</td>\n",
       "      <td>1430.625000</td>\n",
       "      <td>1383.578996</td>\n",
       "      <td>4.0</td>\n",
       "      <td>290.25</td>\n",
       "      <td>1071.0</td>\n",
       "      <td>2554.50</td>\n",
       "      <td>3734.0</td>\n",
       "    </tr>\n",
       "    <tr>\n",
       "      <th rowspan=\"2\" valign=\"top\">WE</th>\n",
       "      <th>Afternoon</th>\n",
       "      <td>6.0</td>\n",
       "      <td>585.333333</td>\n",
       "      <td>762.054766</td>\n",
       "      <td>2.0</td>\n",
       "      <td>86.50</td>\n",
       "      <td>375.5</td>\n",
       "      <td>648.75</td>\n",
       "      <td>2029.0</td>\n",
       "    </tr>\n",
       "    <tr>\n",
       "      <th>Evening</th>\n",
       "      <td>5.0</td>\n",
       "      <td>1734.200000</td>\n",
       "      <td>2795.616873</td>\n",
       "      <td>137.0</td>\n",
       "      <td>198.00</td>\n",
       "      <td>419.0</td>\n",
       "      <td>1245.00</td>\n",
       "      <td>6672.0</td>\n",
       "    </tr>\n",
       "    <tr>\n",
       "      <th rowspan=\"6\" valign=\"top\">bathroom_medicinecabinet</th>\n",
       "      <th rowspan=\"3\" valign=\"top\">WD</th>\n",
       "      <th>Afternoon</th>\n",
       "      <td>56.0</td>\n",
       "      <td>3814.000000</td>\n",
       "      <td>7087.517760</td>\n",
       "      <td>2.0</td>\n",
       "      <td>22.75</td>\n",
       "      <td>69.0</td>\n",
       "      <td>3090.00</td>\n",
       "      <td>26569.0</td>\n",
       "    </tr>\n",
       "    <tr>\n",
       "      <th>Evening</th>\n",
       "      <td>43.0</td>\n",
       "      <td>212.093023</td>\n",
       "      <td>389.986191</td>\n",
       "      <td>1.0</td>\n",
       "      <td>20.00</td>\n",
       "      <td>68.0</td>\n",
       "      <td>122.00</td>\n",
       "      <td>1632.0</td>\n",
       "    </tr>\n",
       "    <tr>\n",
       "      <th>Morning</th>\n",
       "      <td>46.0</td>\n",
       "      <td>5092.500000</td>\n",
       "      <td>10471.167431</td>\n",
       "      <td>1.0</td>\n",
       "      <td>35.00</td>\n",
       "      <td>88.5</td>\n",
       "      <td>2549.00</td>\n",
       "      <td>37273.0</td>\n",
       "    </tr>\n",
       "    <tr>\n",
       "      <th rowspan=\"3\" valign=\"top\">WE</th>\n",
       "      <th>Afternoon</th>\n",
       "      <td>22.0</td>\n",
       "      <td>4758.545455</td>\n",
       "      <td>7142.136440</td>\n",
       "      <td>1.0</td>\n",
       "      <td>22.75</td>\n",
       "      <td>116.0</td>\n",
       "      <td>8456.00</td>\n",
       "      <td>23600.0</td>\n",
       "    </tr>\n",
       "    <tr>\n",
       "      <th>Evening</th>\n",
       "      <td>21.0</td>\n",
       "      <td>594.523810</td>\n",
       "      <td>1632.760534</td>\n",
       "      <td>2.0</td>\n",
       "      <td>77.00</td>\n",
       "      <td>99.0</td>\n",
       "      <td>235.00</td>\n",
       "      <td>7354.0</td>\n",
       "    </tr>\n",
       "    <tr>\n",
       "      <th>Morning</th>\n",
       "      <td>6.0</td>\n",
       "      <td>7389.166667</td>\n",
       "      <td>12159.893674</td>\n",
       "      <td>1.0</td>\n",
       "      <td>310.50</td>\n",
       "      <td>1338.5</td>\n",
       "      <td>8525.50</td>\n",
       "      <td>30768.0</td>\n",
       "    </tr>\n",
       "    <tr>\n",
       "      <th>bathroom_showerfaucet</th>\n",
       "      <th>WD</th>\n",
       "      <th>Afternoon</th>\n",
       "      <td>14.0</td>\n",
       "      <td>6987.928571</td>\n",
       "      <td>12203.480377</td>\n",
       "      <td>1.0</td>\n",
       "      <td>104.50</td>\n",
       "      <td>487.5</td>\n",
       "      <td>10297.00</td>\n",
       "      <td>40029.0</td>\n",
       "    </tr>\n",
       "    <tr>\n",
       "      <th>...</th>\n",
       "      <th>...</th>\n",
       "      <th>...</th>\n",
       "      <td>...</td>\n",
       "      <td>...</td>\n",
       "      <td>...</td>\n",
       "      <td>...</td>\n",
       "      <td>...</td>\n",
       "      <td>...</td>\n",
       "      <td>...</td>\n",
       "      <td>...</td>\n",
       "    </tr>\n",
       "    <tr>\n",
       "      <th rowspan=\"5\" valign=\"top\">kitchen_toaster</th>\n",
       "      <th rowspan=\"2\" valign=\"top\">WD</th>\n",
       "      <th>Evening</th>\n",
       "      <td>10.0</td>\n",
       "      <td>10.800000</td>\n",
       "      <td>10.271860</td>\n",
       "      <td>1.0</td>\n",
       "      <td>4.25</td>\n",
       "      <td>10.0</td>\n",
       "      <td>10.00</td>\n",
       "      <td>37.0</td>\n",
       "    </tr>\n",
       "    <tr>\n",
       "      <th>Morning</th>\n",
       "      <td>11.0</td>\n",
       "      <td>2.272727</td>\n",
       "      <td>1.348400</td>\n",
       "      <td>1.0</td>\n",
       "      <td>1.00</td>\n",
       "      <td>2.0</td>\n",
       "      <td>3.50</td>\n",
       "      <td>4.0</td>\n",
       "    </tr>\n",
       "    <tr>\n",
       "      <th rowspan=\"3\" valign=\"top\">WE</th>\n",
       "      <th>Afternoon</th>\n",
       "      <td>20.0</td>\n",
       "      <td>8.450000</td>\n",
       "      <td>21.236699</td>\n",
       "      <td>1.0</td>\n",
       "      <td>1.00</td>\n",
       "      <td>2.0</td>\n",
       "      <td>5.00</td>\n",
       "      <td>96.0</td>\n",
       "    </tr>\n",
       "    <tr>\n",
       "      <th>Evening</th>\n",
       "      <td>2.0</td>\n",
       "      <td>1.000000</td>\n",
       "      <td>0.000000</td>\n",
       "      <td>1.0</td>\n",
       "      <td>1.00</td>\n",
       "      <td>1.0</td>\n",
       "      <td>1.00</td>\n",
       "      <td>1.0</td>\n",
       "    </tr>\n",
       "    <tr>\n",
       "      <th>Morning</th>\n",
       "      <td>2.0</td>\n",
       "      <td>6.000000</td>\n",
       "      <td>5.656854</td>\n",
       "      <td>2.0</td>\n",
       "      <td>4.00</td>\n",
       "      <td>6.0</td>\n",
       "      <td>8.00</td>\n",
       "      <td>10.0</td>\n",
       "    </tr>\n",
       "    <tr>\n",
       "      <th rowspan=\"5\" valign=\"top\">kitchen_washingmachine</th>\n",
       "      <th rowspan=\"3\" valign=\"top\">WD</th>\n",
       "      <th>Afternoon</th>\n",
       "      <td>13.0</td>\n",
       "      <td>44.230769</td>\n",
       "      <td>32.189941</td>\n",
       "      <td>1.0</td>\n",
       "      <td>16.00</td>\n",
       "      <td>48.0</td>\n",
       "      <td>62.00</td>\n",
       "      <td>104.0</td>\n",
       "    </tr>\n",
       "    <tr>\n",
       "      <th>Evening</th>\n",
       "      <td>8.0</td>\n",
       "      <td>40.875000</td>\n",
       "      <td>57.820998</td>\n",
       "      <td>1.0</td>\n",
       "      <td>4.00</td>\n",
       "      <td>17.0</td>\n",
       "      <td>42.75</td>\n",
       "      <td>151.0</td>\n",
       "    </tr>\n",
       "    <tr>\n",
       "      <th>Morning</th>\n",
       "      <td>2.0</td>\n",
       "      <td>22.500000</td>\n",
       "      <td>14.849242</td>\n",
       "      <td>12.0</td>\n",
       "      <td>17.25</td>\n",
       "      <td>22.5</td>\n",
       "      <td>27.75</td>\n",
       "      <td>33.0</td>\n",
       "    </tr>\n",
       "    <tr>\n",
       "      <th rowspan=\"2\" valign=\"top\">WE</th>\n",
       "      <th>Afternoon</th>\n",
       "      <td>22.0</td>\n",
       "      <td>10.272727</td>\n",
       "      <td>16.779187</td>\n",
       "      <td>1.0</td>\n",
       "      <td>1.00</td>\n",
       "      <td>2.0</td>\n",
       "      <td>12.50</td>\n",
       "      <td>64.0</td>\n",
       "    </tr>\n",
       "    <tr>\n",
       "      <th>Morning</th>\n",
       "      <td>3.0</td>\n",
       "      <td>53.000000</td>\n",
       "      <td>87.481427</td>\n",
       "      <td>1.0</td>\n",
       "      <td>2.50</td>\n",
       "      <td>4.0</td>\n",
       "      <td>79.00</td>\n",
       "      <td>154.0</td>\n",
       "    </tr>\n",
       "    <tr>\n",
       "      <th rowspan=\"2\" valign=\"top\">livingroom_dvd</th>\n",
       "      <th>WD</th>\n",
       "      <th>Evening</th>\n",
       "      <td>1.0</td>\n",
       "      <td>5.000000</td>\n",
       "      <td>NaN</td>\n",
       "      <td>5.0</td>\n",
       "      <td>5.00</td>\n",
       "      <td>5.0</td>\n",
       "      <td>5.00</td>\n",
       "      <td>5.0</td>\n",
       "    </tr>\n",
       "    <tr>\n",
       "      <th>WE</th>\n",
       "      <th>Afternoon</th>\n",
       "      <td>1.0</td>\n",
       "      <td>36.000000</td>\n",
       "      <td>NaN</td>\n",
       "      <td>36.0</td>\n",
       "      <td>36.00</td>\n",
       "      <td>36.0</td>\n",
       "      <td>36.00</td>\n",
       "      <td>36.0</td>\n",
       "    </tr>\n",
       "    <tr>\n",
       "      <th rowspan=\"4\" valign=\"top\">livingroom_lamp</th>\n",
       "      <th rowspan=\"2\" valign=\"top\">WD</th>\n",
       "      <th>Afternoon</th>\n",
       "      <td>2.0</td>\n",
       "      <td>8587.000000</td>\n",
       "      <td>0.000000</td>\n",
       "      <td>8587.0</td>\n",
       "      <td>8587.00</td>\n",
       "      <td>8587.0</td>\n",
       "      <td>8587.00</td>\n",
       "      <td>8587.0</td>\n",
       "    </tr>\n",
       "    <tr>\n",
       "      <th>Evening</th>\n",
       "      <td>2.0</td>\n",
       "      <td>10954.000000</td>\n",
       "      <td>6242.338664</td>\n",
       "      <td>6540.0</td>\n",
       "      <td>8747.00</td>\n",
       "      <td>10954.0</td>\n",
       "      <td>13161.00</td>\n",
       "      <td>15368.0</td>\n",
       "    </tr>\n",
       "    <tr>\n",
       "      <th rowspan=\"2\" valign=\"top\">WE</th>\n",
       "      <th>Afternoon</th>\n",
       "      <td>1.0</td>\n",
       "      <td>19162.000000</td>\n",
       "      <td>NaN</td>\n",
       "      <td>19162.0</td>\n",
       "      <td>19162.00</td>\n",
       "      <td>19162.0</td>\n",
       "      <td>19162.00</td>\n",
       "      <td>19162.0</td>\n",
       "    </tr>\n",
       "    <tr>\n",
       "      <th>Evening</th>\n",
       "      <td>2.0</td>\n",
       "      <td>7843.500000</td>\n",
       "      <td>6620.640792</td>\n",
       "      <td>3162.0</td>\n",
       "      <td>5502.75</td>\n",
       "      <td>7843.5</td>\n",
       "      <td>10184.25</td>\n",
       "      <td>12525.0</td>\n",
       "    </tr>\n",
       "    <tr>\n",
       "      <th rowspan=\"4\" valign=\"top\">livingroom_lightswitch</th>\n",
       "      <th rowspan=\"3\" valign=\"top\">WD</th>\n",
       "      <th>Afternoon</th>\n",
       "      <td>1.0</td>\n",
       "      <td>24595.000000</td>\n",
       "      <td>NaN</td>\n",
       "      <td>24595.0</td>\n",
       "      <td>24595.00</td>\n",
       "      <td>24595.0</td>\n",
       "      <td>24595.00</td>\n",
       "      <td>24595.0</td>\n",
       "    </tr>\n",
       "    <tr>\n",
       "      <th>Evening</th>\n",
       "      <td>5.0</td>\n",
       "      <td>5972.600000</td>\n",
       "      <td>4051.829007</td>\n",
       "      <td>2.0</td>\n",
       "      <td>5793.00</td>\n",
       "      <td>5793.0</td>\n",
       "      <td>6910.00</td>\n",
       "      <td>11365.0</td>\n",
       "    </tr>\n",
       "    <tr>\n",
       "      <th>Morning</th>\n",
       "      <td>1.0</td>\n",
       "      <td>45869.000000</td>\n",
       "      <td>NaN</td>\n",
       "      <td>45869.0</td>\n",
       "      <td>45869.00</td>\n",
       "      <td>45869.0</td>\n",
       "      <td>45869.00</td>\n",
       "      <td>45869.0</td>\n",
       "    </tr>\n",
       "    <tr>\n",
       "      <th>WE</th>\n",
       "      <th>Evening</th>\n",
       "      <td>1.0</td>\n",
       "      <td>26.000000</td>\n",
       "      <td>NaN</td>\n",
       "      <td>26.0</td>\n",
       "      <td>26.00</td>\n",
       "      <td>26.0</td>\n",
       "      <td>26.00</td>\n",
       "      <td>26.0</td>\n",
       "    </tr>\n",
       "    <tr>\n",
       "      <th rowspan=\"5\" valign=\"top\">study_drawer</th>\n",
       "      <th rowspan=\"3\" valign=\"top\">WD</th>\n",
       "      <th>Afternoon</th>\n",
       "      <td>23.0</td>\n",
       "      <td>1715.652174</td>\n",
       "      <td>3604.057557</td>\n",
       "      <td>1.0</td>\n",
       "      <td>2.00</td>\n",
       "      <td>3.0</td>\n",
       "      <td>884.50</td>\n",
       "      <td>11508.0</td>\n",
       "    </tr>\n",
       "    <tr>\n",
       "      <th>Evening</th>\n",
       "      <td>3.0</td>\n",
       "      <td>5.000000</td>\n",
       "      <td>5.291503</td>\n",
       "      <td>1.0</td>\n",
       "      <td>2.00</td>\n",
       "      <td>3.0</td>\n",
       "      <td>7.00</td>\n",
       "      <td>11.0</td>\n",
       "    </tr>\n",
       "    <tr>\n",
       "      <th>Morning</th>\n",
       "      <td>13.0</td>\n",
       "      <td>98.000000</td>\n",
       "      <td>335.630998</td>\n",
       "      <td>2.0</td>\n",
       "      <td>3.00</td>\n",
       "      <td>4.0</td>\n",
       "      <td>7.00</td>\n",
       "      <td>1215.0</td>\n",
       "    </tr>\n",
       "    <tr>\n",
       "      <th rowspan=\"2\" valign=\"top\">WE</th>\n",
       "      <th>Afternoon</th>\n",
       "      <td>3.0</td>\n",
       "      <td>10907.666667</td>\n",
       "      <td>18797.433929</td>\n",
       "      <td>6.0</td>\n",
       "      <td>55.00</td>\n",
       "      <td>104.0</td>\n",
       "      <td>16358.50</td>\n",
       "      <td>32613.0</td>\n",
       "    </tr>\n",
       "    <tr>\n",
       "      <th>Evening</th>\n",
       "      <td>3.0</td>\n",
       "      <td>11.666667</td>\n",
       "      <td>5.773503</td>\n",
       "      <td>5.0</td>\n",
       "      <td>10.00</td>\n",
       "      <td>15.0</td>\n",
       "      <td>15.00</td>\n",
       "      <td>15.0</td>\n",
       "    </tr>\n",
       "    <tr>\n",
       "      <th rowspan=\"5\" valign=\"top\">study_lightwitch</th>\n",
       "      <th rowspan=\"3\" valign=\"top\">WD</th>\n",
       "      <th>Afternoon</th>\n",
       "      <td>8.0</td>\n",
       "      <td>6045.875000</td>\n",
       "      <td>6219.924768</td>\n",
       "      <td>141.0</td>\n",
       "      <td>1943.75</td>\n",
       "      <td>2967.5</td>\n",
       "      <td>9587.25</td>\n",
       "      <td>16673.0</td>\n",
       "    </tr>\n",
       "    <tr>\n",
       "      <th>Evening</th>\n",
       "      <td>7.0</td>\n",
       "      <td>3514.428571</td>\n",
       "      <td>4253.242013</td>\n",
       "      <td>4.0</td>\n",
       "      <td>145.00</td>\n",
       "      <td>645.0</td>\n",
       "      <td>7314.50</td>\n",
       "      <td>9033.0</td>\n",
       "    </tr>\n",
       "    <tr>\n",
       "      <th>Morning</th>\n",
       "      <td>5.0</td>\n",
       "      <td>1184.800000</td>\n",
       "      <td>315.930689</td>\n",
       "      <td>891.0</td>\n",
       "      <td>891.00</td>\n",
       "      <td>1108.0</td>\n",
       "      <td>1517.00</td>\n",
       "      <td>1517.0</td>\n",
       "    </tr>\n",
       "    <tr>\n",
       "      <th rowspan=\"2\" valign=\"top\">WE</th>\n",
       "      <th>Afternoon</th>\n",
       "      <td>3.0</td>\n",
       "      <td>26895.000000</td>\n",
       "      <td>23899.265407</td>\n",
       "      <td>17.0</td>\n",
       "      <td>17466.50</td>\n",
       "      <td>34916.0</td>\n",
       "      <td>40334.00</td>\n",
       "      <td>45752.0</td>\n",
       "    </tr>\n",
       "    <tr>\n",
       "      <th>Evening</th>\n",
       "      <td>3.0</td>\n",
       "      <td>2532.000000</td>\n",
       "      <td>1394.278667</td>\n",
       "      <td>1679.0</td>\n",
       "      <td>1727.50</td>\n",
       "      <td>1776.0</td>\n",
       "      <td>2958.50</td>\n",
       "      <td>4141.0</td>\n",
       "    </tr>\n",
       "  </tbody>\n",
       "</table>\n",
       "<p>164 rows × 8 columns</p>\n",
       "</div>"
      ],
      "text/plain": [
       "                                         count          mean           std  \\\n",
       "subAct                   WDWE Phase                                          \n",
       "bathroom_cabinet         WD   Afternoon   29.0    691.103448   3684.014438   \n",
       "                              Evening     24.0     72.166667    339.703665   \n",
       "                              Morning     25.0      4.800000      3.559026   \n",
       "                         WE   Afternoon   11.0      4.181818      3.763461   \n",
       "                              Evening     11.0      2.272727      1.489356   \n",
       "                              Morning      4.0   6448.500000  12884.334480   \n",
       "bathroom_door            WD   Afternoon   20.0    632.200000   2261.413498   \n",
       "                              Evening     18.0    104.500000    201.793211   \n",
       "                              Morning     13.0     45.923077     67.082613   \n",
       "                         WE   Afternoon    8.0   2154.125000   6049.168454   \n",
       "                              Evening     10.0    115.400000    215.446410   \n",
       "                              Morning      4.0     29.000000     38.453435   \n",
       "bathroom_exhaustfan      WD   Afternoon    7.0   1293.857143   1206.828962   \n",
       "                              Evening      7.0    553.428571    898.082561   \n",
       "                              Morning      8.0   1221.500000    929.652009   \n",
       "                         WE   Afternoon    6.0   1299.000000   2502.200871   \n",
       "                              Evening      3.0    383.333333    282.369144   \n",
       "                              Morning      3.0   3413.333333   3234.205054   \n",
       "bathroom_lightswitch     WD   Afternoon   10.0   1726.400000   3362.940948   \n",
       "                              Evening     20.0   1019.650000   1963.498175   \n",
       "                              Morning      8.0   1430.625000   1383.578996   \n",
       "                         WE   Afternoon    6.0    585.333333    762.054766   \n",
       "                              Evening      5.0   1734.200000   2795.616873   \n",
       "bathroom_medicinecabinet WD   Afternoon   56.0   3814.000000   7087.517760   \n",
       "                              Evening     43.0    212.093023    389.986191   \n",
       "                              Morning     46.0   5092.500000  10471.167431   \n",
       "                         WE   Afternoon   22.0   4758.545455   7142.136440   \n",
       "                              Evening     21.0    594.523810   1632.760534   \n",
       "                              Morning      6.0   7389.166667  12159.893674   \n",
       "bathroom_showerfaucet    WD   Afternoon   14.0   6987.928571  12203.480377   \n",
       "...                                        ...           ...           ...   \n",
       "kitchen_toaster          WD   Evening     10.0     10.800000     10.271860   \n",
       "                              Morning     11.0      2.272727      1.348400   \n",
       "                         WE   Afternoon   20.0      8.450000     21.236699   \n",
       "                              Evening      2.0      1.000000      0.000000   \n",
       "                              Morning      2.0      6.000000      5.656854   \n",
       "kitchen_washingmachine   WD   Afternoon   13.0     44.230769     32.189941   \n",
       "                              Evening      8.0     40.875000     57.820998   \n",
       "                              Morning      2.0     22.500000     14.849242   \n",
       "                         WE   Afternoon   22.0     10.272727     16.779187   \n",
       "                              Morning      3.0     53.000000     87.481427   \n",
       "livingroom_dvd           WD   Evening      1.0      5.000000           NaN   \n",
       "                         WE   Afternoon    1.0     36.000000           NaN   \n",
       "livingroom_lamp          WD   Afternoon    2.0   8587.000000      0.000000   \n",
       "                              Evening      2.0  10954.000000   6242.338664   \n",
       "                         WE   Afternoon    1.0  19162.000000           NaN   \n",
       "                              Evening      2.0   7843.500000   6620.640792   \n",
       "livingroom_lightswitch   WD   Afternoon    1.0  24595.000000           NaN   \n",
       "                              Evening      5.0   5972.600000   4051.829007   \n",
       "                              Morning      1.0  45869.000000           NaN   \n",
       "                         WE   Evening      1.0     26.000000           NaN   \n",
       "study_drawer             WD   Afternoon   23.0   1715.652174   3604.057557   \n",
       "                              Evening      3.0      5.000000      5.291503   \n",
       "                              Morning     13.0     98.000000    335.630998   \n",
       "                         WE   Afternoon    3.0  10907.666667  18797.433929   \n",
       "                              Evening      3.0     11.666667      5.773503   \n",
       "study_lightwitch         WD   Afternoon    8.0   6045.875000   6219.924768   \n",
       "                              Evening      7.0   3514.428571   4253.242013   \n",
       "                              Morning      5.0   1184.800000    315.930689   \n",
       "                         WE   Afternoon    3.0  26895.000000  23899.265407   \n",
       "                              Evening      3.0   2532.000000   1394.278667   \n",
       "\n",
       "                                             min       25%      50%       75%  \\\n",
       "subAct                   WDWE Phase                                             \n",
       "bathroom_cabinet         WD   Afternoon      1.0      2.00      3.0     12.00   \n",
       "                              Evening        1.0      1.75      3.0      3.25   \n",
       "                              Morning        1.0      3.00      3.0      6.00   \n",
       "                         WE   Afternoon      1.0      1.50      3.0      5.50   \n",
       "                              Evening        1.0      1.00      2.0      3.50   \n",
       "                              Morning        2.0      2.75      8.5   6454.25   \n",
       "bathroom_door            WD   Afternoon      1.0      2.00     26.0    116.50   \n",
       "                              Evening        1.0      1.25     43.5     85.50   \n",
       "                              Morning        1.0      3.00      7.0    102.00   \n",
       "                         WE   Afternoon      3.0      5.25     11.0     29.50   \n",
       "                              Evening        2.0      3.00      9.0     47.75   \n",
       "                              Morning        2.0      9.50     14.0     33.50   \n",
       "bathroom_exhaustfan      WD   Afternoon      2.0    573.00    979.0   1687.00   \n",
       "                              Evening        1.0     38.50    227.0    523.50   \n",
       "                              Morning        1.0    819.00   1171.5   1679.00   \n",
       "                         WE   Afternoon      1.0     41.25    298.0    731.00   \n",
       "                              Evening      195.0    221.00    247.0    477.50   \n",
       "                              Morning      437.0   1692.50   2948.0   4901.50   \n",
       "bathroom_lightswitch     WD   Afternoon      6.0     63.75    150.5   2001.25   \n",
       "                              Evening       10.0     45.00    142.0   1410.25   \n",
       "                              Morning        4.0    290.25   1071.0   2554.50   \n",
       "                         WE   Afternoon      2.0     86.50    375.5    648.75   \n",
       "                              Evening      137.0    198.00    419.0   1245.00   \n",
       "bathroom_medicinecabinet WD   Afternoon      2.0     22.75     69.0   3090.00   \n",
       "                              Evening        1.0     20.00     68.0    122.00   \n",
       "                              Morning        1.0     35.00     88.5   2549.00   \n",
       "                         WE   Afternoon      1.0     22.75    116.0   8456.00   \n",
       "                              Evening        2.0     77.00     99.0    235.00   \n",
       "                              Morning        1.0    310.50   1338.5   8525.50   \n",
       "bathroom_showerfaucet    WD   Afternoon      1.0    104.50    487.5  10297.00   \n",
       "...                                          ...       ...      ...       ...   \n",
       "kitchen_toaster          WD   Evening        1.0      4.25     10.0     10.00   \n",
       "                              Morning        1.0      1.00      2.0      3.50   \n",
       "                         WE   Afternoon      1.0      1.00      2.0      5.00   \n",
       "                              Evening        1.0      1.00      1.0      1.00   \n",
       "                              Morning        2.0      4.00      6.0      8.00   \n",
       "kitchen_washingmachine   WD   Afternoon      1.0     16.00     48.0     62.00   \n",
       "                              Evening        1.0      4.00     17.0     42.75   \n",
       "                              Morning       12.0     17.25     22.5     27.75   \n",
       "                         WE   Afternoon      1.0      1.00      2.0     12.50   \n",
       "                              Morning        1.0      2.50      4.0     79.00   \n",
       "livingroom_dvd           WD   Evening        5.0      5.00      5.0      5.00   \n",
       "                         WE   Afternoon     36.0     36.00     36.0     36.00   \n",
       "livingroom_lamp          WD   Afternoon   8587.0   8587.00   8587.0   8587.00   \n",
       "                              Evening     6540.0   8747.00  10954.0  13161.00   \n",
       "                         WE   Afternoon  19162.0  19162.00  19162.0  19162.00   \n",
       "                              Evening     3162.0   5502.75   7843.5  10184.25   \n",
       "livingroom_lightswitch   WD   Afternoon  24595.0  24595.00  24595.0  24595.00   \n",
       "                              Evening        2.0   5793.00   5793.0   6910.00   \n",
       "                              Morning    45869.0  45869.00  45869.0  45869.00   \n",
       "                         WE   Evening       26.0     26.00     26.0     26.00   \n",
       "study_drawer             WD   Afternoon      1.0      2.00      3.0    884.50   \n",
       "                              Evening        1.0      2.00      3.0      7.00   \n",
       "                              Morning        2.0      3.00      4.0      7.00   \n",
       "                         WE   Afternoon      6.0     55.00    104.0  16358.50   \n",
       "                              Evening        5.0     10.00     15.0     15.00   \n",
       "study_lightwitch         WD   Afternoon    141.0   1943.75   2967.5   9587.25   \n",
       "                              Evening        4.0    145.00    645.0   7314.50   \n",
       "                              Morning      891.0    891.00   1108.0   1517.00   \n",
       "                         WE   Afternoon     17.0  17466.50  34916.0  40334.00   \n",
       "                              Evening     1679.0   1727.50   1776.0   2958.50   \n",
       "\n",
       "                                             max  \n",
       "subAct                   WDWE Phase               \n",
       "bathroom_cabinet         WD   Afternoon  19846.0  \n",
       "                              Evening     1667.0  \n",
       "                              Morning       15.0  \n",
       "                         WE   Afternoon     13.0  \n",
       "                              Evening        5.0  \n",
       "                              Morning    25775.0  \n",
       "bathroom_door            WD   Afternoon  10152.0  \n",
       "                              Evening      845.0  \n",
       "                              Morning      173.0  \n",
       "                         WE   Afternoon  17125.0  \n",
       "                              Evening      575.0  \n",
       "                              Morning       86.0  \n",
       "bathroom_exhaustfan      WD   Afternoon   3556.0  \n",
       "                              Evening     2522.0  \n",
       "                              Morning     2706.0  \n",
       "                         WE   Afternoon   6366.0  \n",
       "                              Evening      708.0  \n",
       "                              Morning     6855.0  \n",
       "bathroom_lightswitch     WD   Afternoon  10945.0  \n",
       "                              Evening     8768.0  \n",
       "                              Morning     3734.0  \n",
       "                         WE   Afternoon   2029.0  \n",
       "                              Evening     6672.0  \n",
       "bathroom_medicinecabinet WD   Afternoon  26569.0  \n",
       "                              Evening     1632.0  \n",
       "                              Morning    37273.0  \n",
       "                         WE   Afternoon  23600.0  \n",
       "                              Evening     7354.0  \n",
       "                              Morning    30768.0  \n",
       "bathroom_showerfaucet    WD   Afternoon  40029.0  \n",
       "...                                          ...  \n",
       "kitchen_toaster          WD   Evening       37.0  \n",
       "                              Morning        4.0  \n",
       "                         WE   Afternoon     96.0  \n",
       "                              Evening        1.0  \n",
       "                              Morning       10.0  \n",
       "kitchen_washingmachine   WD   Afternoon    104.0  \n",
       "                              Evening      151.0  \n",
       "                              Morning       33.0  \n",
       "                         WE   Afternoon     64.0  \n",
       "                              Morning      154.0  \n",
       "livingroom_dvd           WD   Evening        5.0  \n",
       "                         WE   Afternoon     36.0  \n",
       "livingroom_lamp          WD   Afternoon   8587.0  \n",
       "                              Evening    15368.0  \n",
       "                         WE   Afternoon  19162.0  \n",
       "                              Evening    12525.0  \n",
       "livingroom_lightswitch   WD   Afternoon  24595.0  \n",
       "                              Evening    11365.0  \n",
       "                              Morning    45869.0  \n",
       "                         WE   Evening       26.0  \n",
       "study_drawer             WD   Afternoon  11508.0  \n",
       "                              Evening       11.0  \n",
       "                              Morning     1215.0  \n",
       "                         WE   Afternoon  32613.0  \n",
       "                              Evening       15.0  \n",
       "study_lightwitch         WD   Afternoon  16673.0  \n",
       "                              Evening     9033.0  \n",
       "                              Morning     1517.0  \n",
       "                         WE   Afternoon  45752.0  \n",
       "                              Evening     4141.0  \n",
       "\n",
       "[164 rows x 8 columns]"
      ]
     },
     "execution_count": 39,
     "metadata": {},
     "output_type": "execute_result"
    }
   ],
   "source": [
    "ds_new = ds.copy()\n",
    "ds_new['Phase'] = \"Afternoon\"\n",
    "ds_new.loc[ds_new['HOUR'] < 9, 'Phase'] = \"Morning\"\n",
    "ds_new.loc[ds_new['HOUR'] >= 17, 'Phase'] = \"Evening\"\n",
    "benchmark_usage = ds_new.groupby(['subAct','WDWE','Phase'])['durationSec'].describe()\n",
    "benchmark_usage"
   ]
  },
  {
   "cell_type": "code",
   "execution_count": 19,
   "metadata": {},
   "outputs": [
    {
     "ename": "NameError",
     "evalue": "name 'benchmark_usage' is not defined",
     "output_type": "error",
     "traceback": [
      "\u001b[1;31m---------------------------------------------------------------------------\u001b[0m",
      "\u001b[1;31mNameError\u001b[0m                                 Traceback (most recent call last)",
      "\u001b[1;32m<ipython-input-19-7614d7a1e38c>\u001b[0m in \u001b[0;36m<module>\u001b[1;34m\u001b[0m\n\u001b[0;32m     96\u001b[0m     \u001b[0msubAct\u001b[0m \u001b[1;33m=\u001b[0m \u001b[0mrow\u001b[0m\u001b[1;33m[\u001b[0m\u001b[1;36m1\u001b[0m\u001b[1;33m]\u001b[0m\u001b[1;33m[\u001b[0m\u001b[1;34m'concat'\u001b[0m\u001b[1;33m]\u001b[0m\u001b[1;33m\u001b[0m\u001b[1;33m\u001b[0m\u001b[0m\n\u001b[0;32m     97\u001b[0m     \u001b[0mwattage\u001b[0m \u001b[1;33m=\u001b[0m \u001b[0mrow\u001b[0m\u001b[1;33m[\u001b[0m\u001b[1;36m1\u001b[0m\u001b[1;33m]\u001b[0m\u001b[1;33m[\u001b[0m\u001b[1;34m'wattage'\u001b[0m\u001b[1;33m]\u001b[0m\u001b[1;33m\u001b[0m\u001b[1;33m\u001b[0m\u001b[0m\n\u001b[1;32m---> 98\u001b[1;33m     \u001b[0mcalc_subAct\u001b[0m\u001b[1;33m(\u001b[0m\u001b[0mdf\u001b[0m\u001b[1;33m,\u001b[0m \u001b[0msubAct\u001b[0m\u001b[1;33m,\u001b[0m \u001b[0mwattage\u001b[0m\u001b[1;33m,\u001b[0m \u001b[0mdf_costs\u001b[0m\u001b[1;33m)\u001b[0m\u001b[1;33m\u001b[0m\u001b[1;33m\u001b[0m\u001b[0m\n\u001b[0m",
      "\u001b[1;32m<ipython-input-19-7614d7a1e38c>\u001b[0m in \u001b[0;36mcalc_subAct\u001b[1;34m(dataframe, subAct, wattage, df_costs)\u001b[0m\n\u001b[0;32m     60\u001b[0m                 \u001b[0mcancelled_interventions\u001b[0m \u001b[1;33m+=\u001b[0m \u001b[1;36m1\u001b[0m\u001b[1;33m\u001b[0m\u001b[1;33m\u001b[0m\u001b[0m\n\u001b[0;32m     61\u001b[0m             \u001b[1;32melse\u001b[0m\u001b[1;33m:\u001b[0m\u001b[1;33m\u001b[0m\u001b[1;33m\u001b[0m\u001b[0m\n\u001b[1;32m---> 62\u001b[1;33m                 \u001b[1;32mif\u001b[0m \u001b[0mrow\u001b[0m\u001b[1;33m[\u001b[0m\u001b[1;36m1\u001b[0m\u001b[1;33m]\u001b[0m\u001b[1;33m[\u001b[0m\u001b[1;34m'duration'\u001b[0m\u001b[1;33m]\u001b[0m \u001b[1;33m>\u001b[0m \u001b[0mbenchmark_usage\u001b[0m\u001b[1;33m[\u001b[0m\u001b[0msubAct\u001b[0m\u001b[1;33m]\u001b[0m\u001b[1;33m[\u001b[0m\u001b[0mrow\u001b[0m\u001b[1;33m[\u001b[0m\u001b[1;36m1\u001b[0m\u001b[1;33m]\u001b[0m\u001b[1;33m[\u001b[0m\u001b[1;34m'WDWE'\u001b[0m\u001b[1;33m]\u001b[0m\u001b[1;33m]\u001b[0m\u001b[1;33m[\u001b[0m\u001b[0mrow\u001b[0m\u001b[1;33m[\u001b[0m\u001b[1;36m1\u001b[0m\u001b[1;33m]\u001b[0m\u001b[1;33m[\u001b[0m\u001b[1;34m'Phase'\u001b[0m\u001b[1;33m]\u001b[0m\u001b[1;33m]\u001b[0m \u001b[1;33m/\u001b[0m \u001b[1;36m60\u001b[0m\u001b[1;33m:\u001b[0m\u001b[1;33m\u001b[0m\u001b[1;33m\u001b[0m\u001b[0m\n\u001b[0m\u001b[0;32m     63\u001b[0m                     \u001b[0mintervening\u001b[0m \u001b[1;33m=\u001b[0m \u001b[1;32mTrue\u001b[0m\u001b[1;33m\u001b[0m\u001b[1;33m\u001b[0m\u001b[0m\n\u001b[0;32m     64\u001b[0m                     \u001b[0mcompleted_interventions\u001b[0m \u001b[1;33m+=\u001b[0m \u001b[1;36m1\u001b[0m\u001b[1;33m\u001b[0m\u001b[1;33m\u001b[0m\u001b[0m\n",
      "\u001b[1;31mNameError\u001b[0m: name 'benchmark_usage' is not defined"
     ]
    }
   ],
   "source": [
    "#Assuming everything that is common has been pre-processed by this stage\n",
    "\n",
    "def calc_subAct(dataframe, subAct, wattage, df_costs):\n",
    "    # Duplicate the DF to avoid corrupting it\n",
    "    df = dataframe.copy()\n",
    "    \n",
    "    # First step is to train the classifier\n",
    "    Data = df.drop(columns = subAct).values\n",
    "    target = df[subAct]\n",
    "    D_train, D_test, t_train, t_test = train_test_split(Data, \n",
    "                                                        target, \n",
    "                                                        test_size = 0.3,\n",
    "                                                        random_state=999)\n",
    "    dt_classifier = DecisionTreeClassifier(max_depth=4,\n",
    "                                           criterion='entropy',\n",
    "                                           random_state = 999)\n",
    "    dt_classifier.fit(D_train, t_train)\n",
    "    confidence = dt_classifier.score(D_test, t_test)\n",
    "    df['prediction'] = dt_classifier.predict(Data)\n",
    "    df['intervention'] = (df['prediction'].diff() == -1) & (df[subAct] == 1)\n",
    "    \n",
    "    dfIDX = pd.read_csv('S1Act_B_m_NoDupes.csv', index_col = None)\n",
    "    dfIDX.duration = pd.to_datetime(dfIDX.duration, format='%Y-%m-%d %H:%M:%S')\n",
    "    df['timestamp'] = dfIDX['duration']\n",
    "\n",
    "    df = add_DAY_WDWE_phaseII(df)\n",
    "    df['Phase'] = \"Afternoon\"\n",
    "    df.loc[df['Hour'] < 12, 'Phase'] = \"Morning\"\n",
    "    df.loc[df['Hour'] >= 18, 'Phase'] = \"Evening\"\n",
    "    \n",
    "    # Calculate approx durations\n",
    "    duration = 0\n",
    "    duration_col = []\n",
    "\n",
    "    for row in df.iterrows():\n",
    "        if row[1][subAct] == 1:\n",
    "            duration += 1\n",
    "        else:\n",
    "            duration = 0\n",
    "\n",
    "        duration_col.append(duration)\n",
    "\n",
    "    df['duration'] = duration_col\n",
    "\n",
    "    cancelled_interventions = 0\n",
    "    completed_interventions = 0\n",
    "    possible_intervention = False\n",
    "    intervening = False\n",
    "\n",
    "    total_minutes_saved = 0\n",
    "    total_kwh_saved = 0\n",
    "    total_dollars_saved = 0\n",
    "\n",
    "    for row in df.iterrows():\n",
    "        if row[1]['intervention'] and not intervening:\n",
    "            possible_intervention = True\n",
    "        if possible_intervention:\n",
    "            if row[1][subAct] == 0:\n",
    "                possible_intervention = False\n",
    "                cancelled_interventions += 1\n",
    "            else:\n",
    "                if row[1]['duration'] > benchmark_usage[subAct][row[1]['WDWE']][row[1]['Phase']] / 60:\n",
    "                    intervening = True\n",
    "                    completed_interventions += 1\n",
    "                    possible_intervention = False\n",
    "        if intervening:\n",
    "            if row[1][subAct] == 0:\n",
    "                intervening = False\n",
    "            else:\n",
    "                total_minutes_saved += 1\n",
    "                kwh_saved = wattage / 60\n",
    "                total_kwh_saved += kwh_saved\n",
    "                hour = row[1]['Hour']\n",
    "                wdwe = row[1]['WDWE']\n",
    "                rate = df_costs[(df_costs['Hour'] == hour) & (df_costs['WDWE'] == wdwe)].iloc[0]['cost_per_kwh']\n",
    "                dollars_saved = rate * kwh_saved\n",
    "                total_dollars_saved += dollars_saved\n",
    "\n",
    "    # We see that we didn't quite save as many minutes of electricity but we likely annoyed the user less\n",
    "    # Note that this means our 'confidence' value is going to be more conservative than it needs to be\n",
    "    print(\"SubAct:\",subAct)\n",
    "    print(\"Classifier confidence:\", confidence)\n",
    "    print(\"Number of completed interventions:\", completed_interventions)\n",
    "    print(\"Number of interventions cancelled due to not meeting average number of minutes usage:\", \n",
    "          cancelled_interventions)\n",
    "    print(\"Total minutes saved:\", total_minutes_saved)\n",
    "    print(\"Total minutes saved, accounting for confidence:\", total_minutes_saved * confidence)\n",
    "    print(\"Total electricity saved (kwh):\", total_kwh_saved)\n",
    "    print(\"Total electricity saved, accounting for confidence (kwh):\", total_kwh_saved * confidence)\n",
    "    print(\"Total money saved: $\", total_dollars_saved)\n",
    "    print(\"Total money saved accounting for confidence:  $\", total_dollars_saved * confidence)\n",
    "    print()\n",
    "    \n",
    "\n",
    "for row in df_sensors.iterrows():\n",
    "    subAct = row[1]['concat']\n",
    "    wattage = row[1]['wattage']\n",
    "    calc_subAct(df, subAct, wattage, df_costs)"
   ]
  },
  {
   "cell_type": "markdown",
   "metadata": {},
   "source": [
    "# Discussion"
   ]
  },
  {
   "cell_type": "markdown",
   "metadata": {},
   "source": []
  },
  {
   "cell_type": "markdown",
   "metadata": {},
   "source": [
    "<img src=\"https://ourworldindata.org/uploads/2013/12/Satellite-images-of-India-by-night-–-Sala-I-Martin-paper-750x480.png\" alt=\"Satellite-images-of-India-by-night-–-Sala-I-Martin-paper\" class=\"wp-image-7749\" srcset=\"https://ourworldindata.org/uploads/2013/12/Satellite-images-of-India-by-night-–-Sala-I-Martin-paper-750x480.png 750w, https://ourworldindata.org/uploads/2013/12/Satellite-images-of-India-by-night-–-Sala-I-Martin-paper-150x96.png 150w, https://ourworldindata.org/uploads/2013/12/Satellite-images-of-India-by-night-–-Sala-I-Martin-paper-400x256.png 400w, https://ourworldindata.org/uploads/2013/12/Satellite-images-of-India-by-night-–-Sala-I-Martin-paper-768x491.png 768w\" sizes=\"(max-width: 750px) 100vw, 750px\">"
   ]
  },
  {
   "cell_type": "code",
   "execution_count": 20,
   "metadata": {},
   "outputs": [],
   "source": [
    "# !jt -l\n",
    "# !jt -t <theme>\n",
    "# !jt -r"
   ]
  },
  {
   "cell_type": "code",
   "execution_count": null,
   "metadata": {},
   "outputs": [],
   "source": []
  }
 ],
 "metadata": {
  "kernelspec": {
   "display_name": "Python 3",
   "language": "python",
   "name": "python3"
  },
  "language_info": {
   "codemirror_mode": {
    "name": "ipython",
    "version": 3
   },
   "file_extension": ".py",
   "mimetype": "text/x-python",
   "name": "python",
   "nbconvert_exporter": "python",
   "pygments_lexer": "ipython3",
   "version": "3.6.8"
  },
  "toc": {
   "nav_menu": {
    "height": "863px",
    "width": "355px"
   },
   "number_sections": true,
   "sideBar": true,
   "skip_h1_title": false,
   "title_cell": "Table of Contents",
   "title_sidebar": "Contents",
   "toc_cell": false,
   "toc_position": {
    "height": "calc(100% - 180px)",
    "left": "10px",
    "top": "150px",
    "width": "754px"
   },
   "toc_section_display": true,
   "toc_window_display": true
  },
  "varInspector": {
   "cols": {
    "lenName": 16,
    "lenType": 16,
    "lenVar": 40
   },
   "kernels_config": {
    "python": {
     "delete_cmd_postfix": "",
     "delete_cmd_prefix": "del ",
     "library": "var_list.py",
     "varRefreshCmd": "print(var_dic_list())"
    },
    "r": {
     "delete_cmd_postfix": ") ",
     "delete_cmd_prefix": "rm(",
     "library": "var_list.r",
     "varRefreshCmd": "cat(var_dic_list()) "
    }
   },
   "types_to_exclude": [
    "module",
    "function",
    "builtin_function_or_method",
    "instance",
    "_Feature"
   ],
   "window_display": false
  }
 },
 "nbformat": 4,
 "nbformat_minor": 4
}
