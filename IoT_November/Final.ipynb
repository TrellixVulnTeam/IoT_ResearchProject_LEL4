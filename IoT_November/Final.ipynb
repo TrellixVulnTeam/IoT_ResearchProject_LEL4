{
 "cells": [
  {
   "cell_type": "code",
   "execution_count": 1,
   "metadata": {
    "ExecuteTime": {
     "end_time": "2019-11-03T07:17:30.463358Z",
     "start_time": "2019-11-03T07:17:30.386249Z"
    }
   },
   "outputs": [],
   "source": [
    "from IPython import get_ipython;   \n",
    "get_ipython().magic('reset -sf')\n",
    "#https://github.com/kirbs-/hide_code"
   ]
  },
  {
   "cell_type": "code",
   "execution_count": 2,
   "metadata": {
    "ExecuteTime": {
     "end_time": "2019-11-03T07:17:34.030324Z",
     "start_time": "2019-11-03T07:17:30.477768Z"
    }
   },
   "outputs": [],
   "source": [
    "%run -i Packages.py\n",
    "%matplotlib inline\n",
    "%load_ext rpy2.ipython"
   ]
  },
  {
   "cell_type": "code",
   "execution_count": 3,
   "metadata": {
    "ExecuteTime": {
     "end_time": "2019-11-03T07:17:35.537919Z",
     "start_time": "2019-11-03T07:17:34.034791Z"
    }
   },
   "outputs": [],
   "source": [
    "%%R\n",
    "library(ggplot2)\n",
    "library(readr)\n",
    "library(lubridate)\n",
    "library(dplyr)\n",
    "library(tidyr)\n",
    "library(viridis)"
   ]
  },
  {
   "cell_type": "markdown",
   "metadata": {},
   "source": [
    "# Abstract"
   ]
  },
  {
   "cell_type": "markdown",
   "metadata": {
    "ExecuteTime": {
     "end_time": "2019-11-02T09:32:09.845752Z",
     "start_time": "2019-11-02T09:32:09.647061Z"
    }
   },
   "source": [
    "# Background"
   ]
  },
  {
   "cell_type": "markdown",
   "metadata": {
    "heading_collapsed": true
   },
   "source": [
    "## Electricity Usage"
   ]
  },
  {
   "cell_type": "markdown",
   "metadata": {
    "hidden": true
   },
   "source": [
    "- Two ways of looking at this\n",
    "1. Internet = lots of electricity\n",
    "2. Internet can save vast amounts of electricity\n",
    "\n",
    "[@article{itu2018}NOT IN LIB] In 2015, the International Telecommunication Union estimated about 3.2 billion people, or almost half of the world's population, would be online by the end of the year.\n",
    "\n",
    "[@article{haseeb2019does}NOT IN LIB] examined the impact of ICTs (i.e., internet usage and mobile cellular subscriptions), globalization, electricity consumption, financial development, and economic growth on environmental quality by using 1994–2014 panel data of BRICS economies. ... The empirical results demonstrate that rise in both internet usage and mobile cellular subscription (ICTs) likely mitigates CO2 emissions in BRICS economies.\n",
    "\n",
    "[@article{feuerriegel2016}] discuss electricity demand response - allowing the management of demand side resources in real-time.\n",
    "\n",
    "_Demand Response allows for the management of demand side resources in real-time; i.e. shifting electricity demand according to fluctuating supply. When integrated into electricity markets, Demand Response can be used for load shifting and as a replacement for both control reserve and balancing energy. These three usage scenarios are compared based on historic German data from 2011 to determine that load shifting provides the highest benefit: its annual financial savings accumulate to €3.110M for both households and the service sector. This equals to relative savings of 2.83\\% compared to a scenario without load shifting._\n",
    "\n",
    "& [@article{palensky2011demand}NOT IN LIB]\n",
    "\n",
    "Talk broadly about \n",
    "- Internet\n",
    "- End Users (household demand for electricity)\n",
    "- IoT\n",
    "\n",
    "[@article{bober2009distributed}NOT IN LIB] - As recently as 2009 it was posited that \"The proposed model allows for introduction of power  priorities for consumer’s electrical-equipments by the importance of their functions. The relevance of the functions carried out by the data device is evaluated by each consumer individually. The relevance of functions and priorities assigned to power mode / groups of electrical equipments can be changed over time.\"  \n",
    "\n",
    "'Haseeb et al [@article{haseeb2019does}NOT IN LIB] have (through review) shown that at a macro scale, global adoption of internet reduces energy consumption' + At the micro scale (that is, the behavior of individuals...)\n",
    "\n",
    "Consider COST OF IOT SERVICES??? Link this back to the aformentioned increased in global internet users\n",
    "\n",
    "Pivot into micro - end users... As previously mentioned, demand shifting \n",
    "\n",
    "HMI = Human-Machine Interface\n",
    "\n",
    "'How smart do smart meters need to be?' - this is fundamentally at odds with the vision described above. In this scenario, end users would still be having to interact with HMIs. \n",
    "- From a behavioural point of view, moving forward this type of behaviour will become increasingly anachronistic (think about tuning a television set)\n",
    "- Additionally, there is associated resouce (time of end user & physical resource to make the HMI) which contributes to environmental burden (this is a NULL point, as authors specifically mention interaction via a tablet computer) ALTHOUGH, the point can still be made that interaction with \n",
    "\n",
    "(J.-S. Chou and N.-S. Truong) posit that 'A user’s ignorance of methods for saving energy is generally attributable to a lack of relevant feedback.' \n",
    "\n",
    "Review of available literature (bad?) has shown that currently, consumer convenience and consumer energy consumption are considered in relative isolation from one-another (detached, disjoined). For example, analysis of texts X Y Z yield only T mention of convenience, whilst analysis of texts A B C yield only S mentions of energy consumption.\n",
    "\n",
    "This work aims to 'bridge the gap' between these two areas of consideration.\n",
    "\n",
    "Bring it back to the idea that previous forecasting / intervention models have focussed on \n",
    "\n",
    "\n",
    "@article{huang2018} dis\n",
    "\n",
    "@article{kobus2015} et al contend that _Today’s major developments in the production and demand of electricity in domestic areas make it increasingly important that domestic electricity demand can respond to the availability of electricity_. They also note that _the benefits resulting from domestic demand response depend on household acceptance and behavioural change_\n",
    "- Aim is to investigate if households can shift their electricity demand to times when electricity is abundantly available\n",
    "- Two major developments in the coming decades\n",
    "1. The amount of distributed renewable electricity generation will increase (e.g., growing number of installed photovoltaic (PV) panels)\n",
    "2. Significant increase in electricity demand - due to widespread introduction of energy-reliant (albeit more efficient) technologies\n",
    "\n",
    "Smart grids: Consideration of power greid in real time to drive efficiency in the power grid at a macro-level (NOT: We will define macro as ...) ADD PROPER DEFINITION for SMARTGRID\n",
    "HOWEVER _the effects of smart grids strongly depend on the successful implementation of demand response programs_ Demand Response = _Demand response as a household action (automated, manual, orboth) due to which electricity use is shifted in time in response to a price signal or other stimuli._\n",
    "Factors\n",
    "- Availability of PV electricity\n",
    "- Availability of other renewable energy\n",
    "- 'Peak' electricity grid time (this may vary)\n",
    "- Weather / climate considerations (e.g., heatwave)\n",
    "- Interaction with Energy Management System (EMS)\n",
    "\n",
    "_An example of a price signal that several countries have in place is aday- and night pricing scheme. In this scheme, electricity is cheaperduring the night, when demand is low._\n",
    "_Households were also equipped with PV panels, an Energy Management System (EMS), and a dynamic tariff._\n",
    "DEMAND RESPONSE - 'Demand response of a household'\n",
    "\n",
    "_The usage of wet appliances, such as dishwashers, washing machines and dryers, is in general not very time critical and therefore can be shifted._\n",
    "\n",
    "_The user defines an ultimate finish time and within this time frame, the smart applianceautomatically defines the most appropriate starting time_\n",
    "\n",
    "*Overall - concept that 'end user' will mediate power consumption between various appliances...\n",
    "\n",
    "---\n",
    "Novelty: This work USES sensor data (which could conceivably have been derived from a sensor-rich IoT smarthome) and considers the interplay between \n",
    "- End User Convenience\n",
    "- Predictive Analytics\n",
    "- Predictive Service Offering\n",
    "- Energy Consumption\n",
    "- Demand Response\n",
    "- Smart Electricity Grids\n",
    "OTHER WORKS TYPICALLY CONSIDER ELECTRICAL APPLIANCES ONLY\n",
    "- In this work, we use the sensor data from both electrical (energy consumption activity - ECA) and activities that do not require electrical consumption (non energy consuming activity - nECA). \n",
    "- The predictive capability of our ML model shows that this is an extremely robust methodology\n",
    "\n",
    "---\n",
    "\n",
    "**Based on Darby and McKenna (REF), we define demand response and a household action (automated, manual, or both) due to which electricity use is shifted in time in response to a price signal of other stimuli. This can result in more efficient usage of the available sustainable electricity, like self-consumption of on-site PV electricity (REF) and peak demand reductions (REF) - all from @article{kobus2015}**\n",
    "\n",
    "**Assumptions**\n",
    "1. The cost of the sensors is negligible (EXCEPT for discussion later RE top 5 features)\n",
    "2. The energy requirement for the sensors is negligible\n",
    "3. In our proposed model, computation is performed in the cloud\n",
    "4. An app is available to interact with the smart home\n",
    "5. All of the electrical appliances in our smart home can be remote controlled to some extent\n",
    "\n",
    "- What about, instead of responding to the average time, the antagonistic AI responded to price signals in the market?\n",
    "\n",
    "**Huang et al proposed a novel service mining framework to personalize services in an IoT based smart home (REF). \n",
    "\n",
    "<cite data-cite=\"granger2013\">(Granger, 2013)</cite>\n",
    "\n",
    "---"
   ]
  },
  {
   "cell_type": "markdown",
   "metadata": {},
   "source": [
    "## General IoT + Internet"
   ]
  },
  {
   "cell_type": "markdown",
   "metadata": {},
   "source": [
    "Since the inception of the first home computers in 1977 (REF), modern society has become utterly dependent on and indeed, inexorably bound to digital technology. The rapid and widespread adoption of computational technology has led to the fastest rate of development (societal, economic, e.t.c.,) our species has ever experienced. Indeed, our quest for exponentially greater computational power and digital storage capacity has led to a new and utterly ubiquitous technological paradigm; Cloud Computing (REF), defined as; The practice of using a network of remote servers hosted on the Internet to store, manage, and process data, rather than a local server or a personal computer (https://www.dictionary.com/browse/cloud-computing). <br>\n",
    "\n",
    "Cloud Computing (enabled by the adoption of another ubiquitous computational technology, the World Wide Web) essentially commodifies compute and store, providing on-demand resources for anything from making a social media post, all the way to, searching the Milky Way Galaxy for new planets (https://mast-labs.stsci.io/2018/12/tess-data-available-on-aws). <br>\n",
    "\n",
    "As with any new technology, Cloud Computing brings with it both new opportunities and new challenges. One such opportunity is the Internet of Things (BRIDGING STATEMENT). The 'Internet of Things' can be surmised as the extension of the Internet and the Web into the physical realm, by means of the widespread deployment of spatially distributed devices with embedded identification, sensing and/or actuation capabilities [@article{miorandi2012}]. <br>\n",
    "\n",
    "The Internet of Things (IoT) paradigm enables physical devices to connect and exchange information, and also allows objects to be sensed or controlled remotely through the internet (@article{huang2018} @ 1 of @article{huang2018}). Huang et al explore the idea of Service-oriented Computing (SOC) whereby the inherent complexity associated with networking and programming is abstracted away, shifting the focus from dealing with technical details to a focus on how the services are to be used. For example, under this paradigm, a light connected to the Internet is represented as a light service or a heater connected to the internet is represented as a heating service... 'realm of smart home'... A smart home can be considered as any regular home which has been augmented with various types of IoT services, the purpose of which is to make residents' life more convenient and efficient (@article{huang2018} @ 15/17 of @article{huang2018}). <br>\n",
    "\n",
    "**Discuss IoT**\n",
    "_The term ‘‘Internet-of-Things’’ is used as an umbrella keyword for covering various aspects related to the extension of the Internet and the Web into the physical realm, by means ofthe widespread deployment of spatially distributed devices with embedded identification,sensing and/or actuation capabilities. Internet-of-Things envisions a future in which digitaland physical entities can be linked, by means of appropriate information and communica-tion technologies, to enable a whole new class of applications and services. In this article,we present a survey of technologies, applications and research challenges for Internet-of-Things_ <br>\n",
    "\n",
    "[IMAGE - Old Paradigm = user sitting at computer terminal] <br>\n",
    "[IMAGE - New Paradigm = user surrounded by services] <br>\n",
    "\n",
    "This work aims to bridge the gap between CONVENIENCE and ENERGY USAGE, a previously neglected consideration (these two haven't been directly considered side-by-side, as it were) <br>\n",
    "\n",
    "Here we observe that the internet is evolving from interconnecting computers to interconnecting things [@article{atzori2010}]. <br>\n",
    "\n",
    "The Internet of Things (IoT) paradigm enables physical devices to connect and exchange information. IoT devices allow objects to be sensed or con-trolled remotely through the Internet [@article{atzori2010}]. <br>"
   ]
  },
  {
   "cell_type": "markdown",
   "metadata": {},
   "source": []
  },
  {
   "cell_type": "markdown",
   "metadata": {},
   "source": [
    "## Datasets"
   ]
  },
  {
   "cell_type": "markdown",
   "metadata": {},
   "source": [
    "The datasets were created during the thesis _Activity Recognition with End-User Sensor Installation in the Home_ by Randy Joseph Rockinson, Submitted to the Program of Media Arts and Sciences, School of Architecture and Planning, in partial fulfillment of the requirement for the degree of Master of Science in Media Arts and Sciences at the Massachusetts Institute of Technology (MIT) February 2008 <cite data-cite=\"7169703/SHM9GDKN\"></cite>. The work considered the effect of end user versus professional installation of a sensor array in the home - on the basis that, if installation of sensors is to be considered as a high initial cost, and a barrier to entry for end users wanting this technology, is there a difference if a professional versus an end user performs the installation?\n",
    "\n",
    "- End user installation method is prposed using \"stick on\" wireless sensors\n",
    "- Wireless sensors in the home environment\n",
    "- Data collected from such sensors can be used by software to automatically infer context, such as the activities of daily living.\n",
    "- This context inference can then be exploited in novel applications for health-care, communication, education, and entertainment.\n",
    "- Determination of \n",
    "\n",
    "In this thesis, between 80-100 reed switch sensors where installed in two single-person apartments collecting data about human activity for two weeks. The sensors were installed in everyday objects such as drawers, refrigerators, containers, etc to record opening-closing events (activation deactivation events) as the subject carried out everyday activities.\n",
    "\n",
    "**Based on the two explorator** <br>\n",
    "\n",
    "**The PlaceLab**\n",
    "The mission of House_n is to conduct research by designing and building real living environments - \"living labs\" - that are used to study technology and design strategies in context. The PlaceLab is a joint MIT and TIAX, LLC initiative. It is a residential condominium in Cambridge, Massachusetts\n",
    "\n",
    "GET WEATHER DATA"
   ]
  },
  {
   "cell_type": "markdown",
   "metadata": {},
   "source": [
    "## Previous Work"
   ]
  },
  {
   "cell_type": "markdown",
   "metadata": {},
   "source": [
    "<center>\n",
    "<img src=\"images/huangA.jpg\" title=\"Test Title\" alt=\"Alt text\" width=\"400\" height=\"400\" />\n",
    "</center> \n",
    "<i> This text is italic. </i> <br>\n",
    "Fig 1. DESCRIBE\n",
    "\n",
    "<center>\n",
    "<img src=\"images/huangC.jpg\" title=\"Test Title\" alt=\"Alt text\" width=\"400\" height=\"400\" />\n",
    "</center> \n",
    "<i> This text is italic. </i> <br>\n",
    "Fig 1. The work of Huang et al provided initial direction for our data preprocessing. Because we had NO INFORMATION / IT IS A TINY APARTMENT - JUSTIFY the reason for alternate approach RE data processing\n",
    "\n",
    "\\begin{equation}\n",
    "S = \n",
    "<Seq,T,L> = \n",
    " \\begin{Bmatrix}\n",
    "  \\alpha_{1} & \\cdots & \\alpha_{i} & \\cdots & \\alpha_{2n} \\\\\n",
    "  t_{1}      & \\cdots & t_{i}      & \\cdots & t_{2n}      \\\\\n",
    "  l_{1}      & \\cdots & l_{i}      & \\cdots & l_{2n}      \\\\\n",
    " \\end{Bmatrix}\n",
    "\\end{equation}\n",
    "\n",
    "\\begin{equation}\n",
    " \\begin{Bmatrix}\n",
    "  s_{2}^{+} & s_{1}^{+} & s_{3}^{+} & s_{1}^{-} & s_{3}^{-} & s_{2}^{-} \\\\\n",
    "  48        & 50        & 58        & 65        & 70        & 75        \\\\\n",
    "  l_{2}     & l_{1}     & l_{3}     & l_{1}     & l_{3}     & l_{2}     \\\\\n",
    " \\end{Bmatrix}\n",
    " (i.e., l_{1} = (1,2), l_{2} = (2,4), l_{3} = (3,5))\n",
    "\\end{equation}\n"
   ]
  },
  {
   "cell_type": "markdown",
   "metadata": {},
   "source": [
    "# Data Preprocessing and Visualisation"
   ]
  },
  {
   "cell_type": "markdown",
   "metadata": {},
   "source": [
    "## Importing & Preprocessing the Activities Meta Data"
   ]
  },
  {
   "cell_type": "markdown",
   "metadata": {},
   "source": [
    "The dataset `S1Activities.csv` was imported into the Jupyter interactive environment. These data contains a tabulated summary of Heading, Category, Subcategory and a corresponding code. After importation, the dataset has dimensionality of [3, 33], with `Heading`, `Category` & `Subcategory` present as non-null objects. The attribute `Code` (which codefies the unique set of Heading, Category) was imported as an index value. At this time, the activities data will not be subject to preprocessing."
   ]
  },
  {
   "cell_type": "code",
   "execution_count": 22,
   "metadata": {
    "ExecuteTime": {
     "end_time": "2019-11-03T07:32:25.877102Z",
     "start_time": "2019-11-03T07:32:25.848065Z"
    }
   },
   "outputs": [
    {
     "data": {
      "text/html": [
       "<div>\n",
       "<style scoped>\n",
       "    .dataframe tbody tr th:only-of-type {\n",
       "        vertical-align: middle;\n",
       "    }\n",
       "\n",
       "    .dataframe tbody tr th {\n",
       "        vertical-align: top;\n",
       "    }\n",
       "\n",
       "    .dataframe thead th {\n",
       "        text-align: right;\n",
       "    }\n",
       "</style>\n",
       "<table border=\"1\" class=\"dataframe\">\n",
       "  <thead>\n",
       "    <tr style=\"text-align: right;\">\n",
       "      <th></th>\n",
       "      <th>Heading</th>\n",
       "      <th>Category</th>\n",
       "      <th>Subcategory</th>\n",
       "    </tr>\n",
       "    <tr>\n",
       "      <th>Code</th>\n",
       "      <th></th>\n",
       "      <th></th>\n",
       "      <th></th>\n",
       "    </tr>\n",
       "  </thead>\n",
       "  <tbody>\n",
       "    <tr>\n",
       "      <th>1</th>\n",
       "      <td>Employment related</td>\n",
       "      <td>Employment work at home</td>\n",
       "      <td>Work at home</td>\n",
       "    </tr>\n",
       "    <tr>\n",
       "      <th>5</th>\n",
       "      <td>Employment related</td>\n",
       "      <td>Travel employment</td>\n",
       "      <td>Going out to work</td>\n",
       "    </tr>\n",
       "    <tr>\n",
       "      <th>10</th>\n",
       "      <td>Personal needs</td>\n",
       "      <td>Eating</td>\n",
       "      <td>Eating</td>\n",
       "    </tr>\n",
       "    <tr>\n",
       "      <th>15</th>\n",
       "      <td>Personal needs</td>\n",
       "      <td>Personal hygiene</td>\n",
       "      <td>Toileting</td>\n",
       "    </tr>\n",
       "    <tr>\n",
       "      <th>20</th>\n",
       "      <td>Personal needs</td>\n",
       "      <td>Personal hygiene</td>\n",
       "      <td>Bathing</td>\n",
       "    </tr>\n",
       "  </tbody>\n",
       "</table>\n",
       "</div>"
      ],
      "text/plain": [
       "                 Heading                 Category        Subcategory\n",
       "Code                                                                \n",
       "1     Employment related  Employment work at home       Work at home\n",
       "5     Employment related        Travel employment  Going out to work\n",
       "10        Personal needs                   Eating             Eating\n",
       "15        Personal needs         Personal hygiene          Toileting\n",
       "20        Personal needs         Personal hygiene            Bathing"
      ]
     },
     "execution_count": 22,
     "metadata": {},
     "output_type": "execute_result"
    }
   ],
   "source": [
    "ds = pd.read_csv(PATH + '/datasets/S1Activities.csv', index_col = 'Code') \n",
    "ds.head(n=5)  "
   ]
  },
  {
   "cell_type": "markdown",
   "metadata": {},
   "source": [
    "## Importing & Preprocessing the Sensor Meta Data"
   ]
  },
  {
   "cell_type": "markdown",
   "metadata": {},
   "source": [
    "The dataset `S1sensors.csv` was imported into the Jupyter interactive environment. These data contains a tabulated values for Sensor ID, Room and Sensor Activity Type, with no header row present in the original dataset. After importation, the dataset has dimensionality of [3, 76], with header `0`, `1` & `2` corresponding to `SensorID`, `Room` & `Sensor Activity Type`, respectively. All attributes are nominal, and were imported as dtype str, accordingly. Note that it can be immediately seen (`dsS1Sensors.head()`) that attribute `1` & `2` contain degenerate values. This will be addressed in the subsequent data preprocessing.\n",
    "\n",
    "The preprocessing of the sensor data is a critical step in our analysis. Careful consideration of the data, including the presence of duplicates. This is because if we dont have a sufficient understanding of where and why duplicates exist, we will not be able to satisfactorarily preprocess them. Failure to do so we mean that there is potentail degeneracy in our source dataset, leading to unknown issues with our downstream analysis."
   ]
  },
  {
   "cell_type": "code",
   "execution_count": 23,
   "metadata": {
    "ExecuteTime": {
     "end_time": "2019-11-03T07:32:48.146843Z",
     "start_time": "2019-11-03T07:32:48.127413Z"
    }
   },
   "outputs": [
    {
     "data": {
      "text/html": [
       "<div>\n",
       "<style scoped>\n",
       "    .dataframe tbody tr th:only-of-type {\n",
       "        vertical-align: middle;\n",
       "    }\n",
       "\n",
       "    .dataframe tbody tr th {\n",
       "        vertical-align: top;\n",
       "    }\n",
       "\n",
       "    .dataframe thead th {\n",
       "        text-align: right;\n",
       "    }\n",
       "</style>\n",
       "<table border=\"1\" class=\"dataframe\">\n",
       "  <thead>\n",
       "    <tr style=\"text-align: right;\">\n",
       "      <th></th>\n",
       "      <th>0</th>\n",
       "      <th>1</th>\n",
       "      <th>2</th>\n",
       "    </tr>\n",
       "  </thead>\n",
       "  <tbody>\n",
       "    <tr>\n",
       "      <th>0</th>\n",
       "      <td>100</td>\n",
       "      <td>Bathroom</td>\n",
       "      <td>Toilet Flush</td>\n",
       "    </tr>\n",
       "    <tr>\n",
       "      <th>1</th>\n",
       "      <td>101</td>\n",
       "      <td>Bathroom</td>\n",
       "      <td>Light switch</td>\n",
       "    </tr>\n",
       "    <tr>\n",
       "      <th>2</th>\n",
       "      <td>104</td>\n",
       "      <td>Foyer</td>\n",
       "      <td>Light switch</td>\n",
       "    </tr>\n",
       "    <tr>\n",
       "      <th>3</th>\n",
       "      <td>105</td>\n",
       "      <td>Kitchen</td>\n",
       "      <td>Light switch</td>\n",
       "    </tr>\n",
       "    <tr>\n",
       "      <th>4</th>\n",
       "      <td>106</td>\n",
       "      <td>Kitchen</td>\n",
       "      <td>Burner</td>\n",
       "    </tr>\n",
       "  </tbody>\n",
       "</table>\n",
       "</div>"
      ],
      "text/plain": [
       "     0         1              2\n",
       "0  100  Bathroom  Toilet Flush \n",
       "1  101  Bathroom   Light switch\n",
       "2  104     Foyer   Light switch\n",
       "3  105   Kitchen   Light switch\n",
       "4  106   Kitchen         Burner"
      ]
     },
     "execution_count": 23,
     "metadata": {},
     "output_type": "execute_result"
    }
   ],
   "source": [
    "# Importing the dataset\n",
    "dsS1Sensors = pd.read_csv(PATH + '/datasets/S1sensors.csv', \n",
    "                          dtype={0:str, 1:str, 2:str},\n",
    "                          index_col = None, header = None)\n",
    "dsS1Sensors.head()"
   ]
  },
  {
   "cell_type": "markdown",
   "metadata": {},
   "source": [
    "Column [1] & Column [2] of the sensor data will be concatenated, whitespace will be removed, all text will be cast to lowercase and a final whitespace strip will be performed. <br>\n",
    "The python script `S1sensorsPreprocessing.py` is run perform several preprocessing steps in these data. The script concatenates the attributes `dsS1Sensors[1]` and `dsS1Sensors[2]`, with an underscore. Whitespace is then stripped and all string values are coerced to lowercase. This newly created attribute is then added to the dataframe, as seen below (REF). Additionally, the attributes `0`, `1` & `2` are renamed `subActNum`, `room` & `activity`, respectively. <br>\n",
    "- Data types\n",
    "- IF a sub-act requires electricity"
   ]
  },
  {
   "cell_type": "code",
   "execution_count": 24,
   "metadata": {
    "ExecuteTime": {
     "end_time": "2019-11-03T07:33:07.068265Z",
     "start_time": "2019-11-03T07:33:07.042384Z"
    }
   },
   "outputs": [],
   "source": [
    "%run -i S1sensorsPreprocessing.py"
   ]
  },
  {
   "cell_type": "code",
   "execution_count": 25,
   "metadata": {
    "ExecuteTime": {
     "end_time": "2019-11-03T07:33:25.454922Z",
     "start_time": "2019-11-03T07:33:25.434743Z"
    }
   },
   "outputs": [
    {
     "data": {
      "text/html": [
       "<div>\n",
       "<style scoped>\n",
       "    .dataframe tbody tr th:only-of-type {\n",
       "        vertical-align: middle;\n",
       "    }\n",
       "\n",
       "    .dataframe tbody tr th {\n",
       "        vertical-align: top;\n",
       "    }\n",
       "\n",
       "    .dataframe thead th {\n",
       "        text-align: right;\n",
       "    }\n",
       "</style>\n",
       "<table border=\"1\" class=\"dataframe\">\n",
       "  <thead>\n",
       "    <tr style=\"text-align: right;\">\n",
       "      <th></th>\n",
       "      <th>subActNum</th>\n",
       "      <th>room</th>\n",
       "      <th>activity</th>\n",
       "      <th>concat</th>\n",
       "    </tr>\n",
       "  </thead>\n",
       "  <tbody>\n",
       "    <tr>\n",
       "      <th>0</th>\n",
       "      <td>100</td>\n",
       "      <td>Bathroom</td>\n",
       "      <td>Toilet Flush</td>\n",
       "      <td>bathroom_toiletflush</td>\n",
       "    </tr>\n",
       "    <tr>\n",
       "      <th>1</th>\n",
       "      <td>101</td>\n",
       "      <td>Bathroom</td>\n",
       "      <td>Light switch</td>\n",
       "      <td>bathroom_lightswitch</td>\n",
       "    </tr>\n",
       "    <tr>\n",
       "      <th>2</th>\n",
       "      <td>104</td>\n",
       "      <td>Foyer</td>\n",
       "      <td>Light switch</td>\n",
       "      <td>foyer_lightswitch</td>\n",
       "    </tr>\n",
       "    <tr>\n",
       "      <th>3</th>\n",
       "      <td>105</td>\n",
       "      <td>Kitchen</td>\n",
       "      <td>Light switch</td>\n",
       "      <td>kitchen_lightswitch</td>\n",
       "    </tr>\n",
       "    <tr>\n",
       "      <th>4</th>\n",
       "      <td>106</td>\n",
       "      <td>Kitchen</td>\n",
       "      <td>Burner</td>\n",
       "      <td>kitchen_burner</td>\n",
       "    </tr>\n",
       "  </tbody>\n",
       "</table>\n",
       "</div>"
      ],
      "text/plain": [
       "  subActNum      room       activity                concat\n",
       "0       100  Bathroom  Toilet Flush   bathroom_toiletflush\n",
       "1       101  Bathroom   Light switch  bathroom_lightswitch\n",
       "2       104     Foyer   Light switch     foyer_lightswitch\n",
       "3       105   Kitchen   Light switch   kitchen_lightswitch\n",
       "4       106   Kitchen         Burner        kitchen_burner"
      ]
     },
     "execution_count": 25,
     "metadata": {},
     "output_type": "execute_result"
    }
   ],
   "source": [
    "dsS1Sensors.head()"
   ]
  },
  {
   "cell_type": "markdown",
   "metadata": {},
   "source": [
    "The function `getUniqueValues.py` is invoked to provide a means of capturing a list of unique values in a given column of a dataset. The newly created `dsS1Sensors` is then checked for duplicates in two attributes, `subActNum` & `concat`. The number of unique values in `dsS1Sensors.subActNum` is found to be 76, demonstrating that this attribute contains a set of completely unique values (recall n(rows) = 76). The number of unique values in `dsS1Sensors.concat` is found to be 41, demonstrating that despite the concatenation methodology, their are still duplicate values in the dataframe. These duplicate values warrant further investigation. The function `seen_dupes_dsS1Sensors.py` is used to list counts with their corresponding values."
   ]
  },
  {
   "cell_type": "code",
   "execution_count": 8,
   "metadata": {
    "ExecuteTime": {
     "end_time": "2019-11-03T07:17:35.720592Z",
     "start_time": "2019-11-03T07:17:35.709601Z"
    }
   },
   "outputs": [],
   "source": [
    "%run -i getUniqueValues.py"
   ]
  },
  {
   "cell_type": "code",
   "execution_count": 9,
   "metadata": {
    "ExecuteTime": {
     "end_time": "2019-11-03T07:17:35.739713Z",
     "start_time": "2019-11-03T07:17:35.725550Z"
    }
   },
   "outputs": [
    {
     "data": {
      "text/plain": [
       "76"
      ]
     },
     "execution_count": 9,
     "metadata": {},
     "output_type": "execute_result"
    }
   ],
   "source": [
    "uniqueS1SubActNum = getUniqueValues(dsS1Sensors.iloc[:,0])\n",
    "len(uniqueS1SubActNum)"
   ]
  },
  {
   "cell_type": "code",
   "execution_count": 10,
   "metadata": {
    "ExecuteTime": {
     "end_time": "2019-11-03T07:17:35.759079Z",
     "start_time": "2019-11-03T07:17:35.743183Z"
    }
   },
   "outputs": [
    {
     "data": {
      "text/plain": [
       "41"
      ]
     },
     "execution_count": 10,
     "metadata": {},
     "output_type": "execute_result"
    }
   ],
   "source": [
    "uniqueS1Sensors = getUniqueValues(dsS1Sensors.iloc[:,3])\n",
    "len(uniqueS1Sensors)"
   ]
  },
  {
   "cell_type": "code",
   "execution_count": 11,
   "metadata": {
    "ExecuteTime": {
     "end_time": "2019-11-03T07:17:35.778275Z",
     "start_time": "2019-11-03T07:17:35.762593Z"
    }
   },
   "outputs": [
    {
     "name": "stdout",
     "output_type": "stream",
     "text": [
      "3   kitchen_lightswitch\n",
      "4   kitchen_burner\n",
      "2   livingroom_lightswitch\n",
      "7   kitchen_drawer\n",
      "3   kitchen_refrigerator\n",
      "15  kitchen_cabinet\n",
      "2   kitchen_door\n",
      "5   bedroom_drawer\n",
      "2   bathroom_medicinecabinet\n",
      "2   bathroom_cabinet\n"
     ]
    }
   ],
   "source": [
    "%run -i seen_dupes_dsS1Sensors.py"
   ]
  },
  {
   "cell_type": "markdown",
   "metadata": {},
   "source": [
    "Upon compilation of the above summary list, and with reference to the original work <cite data-cite=\"7169703/SHM9GDKN\"></cite> is was determined that these values result from multiple sensors with extremely similar functionality. For example, kitchen_burner has a value of n=4 - this is because on the burner in the apartment under investigation, there were 4 individual burners present. Similarly, kitchen_cabinet has a value of n=15, indicating that for the various cabinets in the apartment, each were given sensors. On the one-hand, this level of granularity may provide fertile grounds for advanced analysis, HOWEVER, for the purposes of this research project, such values will serve to increase the dimensionality of the overall dataset. High dimensionality can lead to difficulties with plotting, .... ML (REF) and thus IN A SUBSEQUENT PREPROCESSING exercise these values will be collapsed down to have n=1. <br>\n",
    "\n",
    "**Creation of JSON Catalogues PRIOR to dup removal** - why? Because even if a key-value pair cannot be matched it will simply be ignored\n",
    "**Prior to dupe removal** As this work is largely concerned with energy usage in the home, the sub-activities will be categorized based on their energy requirement. That is, if a sub-activity requires an input of energy beyond what the end user alone can provide, it will be classified as `energyReq` = true. Whereas, if a sub-activity is able to be performed through only interaction with the end user, it will be classified as `energyReq` = false. By way of example, the sub-activity `bathroom_toiletflush` will have an `energyReq` equal to false, while the sub-activity `bathroom_lightswitch` will have an `energyReq` equal to true. Each row (n=76) needs to be inspected manually to determine if the activity requires electricity. <br>\n",
    "\n",
    "Function `reqEnergy_containSpecialChar.py` is run\n",
    "- After visual inspection, uses `reqEnergy = 'ligh|burn|mach|toas|freez|dvd|lamp|washer|dry|exh|disp|frig|oven|hot|micro'` to find subActivities which require energy input beyond that of the end user\n",
    "- Checked below for SPECIAL CHAR\n",
    "- Special CHARs removed"
   ]
  },
  {
   "cell_type": "code",
   "execution_count": 12,
   "metadata": {
    "ExecuteTime": {
     "end_time": "2019-11-03T07:17:35.795263Z",
     "start_time": "2019-11-03T07:17:35.781923Z"
    }
   },
   "outputs": [],
   "source": [
    "%run -i reqEnergy_containSpecialChar.py"
   ]
  },
  {
   "cell_type": "code",
   "execution_count": 13,
   "metadata": {
    "ExecuteTime": {
     "end_time": "2019-11-03T07:17:35.816119Z",
     "start_time": "2019-11-03T07:17:35.799564Z"
    }
   },
   "outputs": [
    {
     "data": {
      "text/html": [
       "<div>\n",
       "<style scoped>\n",
       "    .dataframe tbody tr th:only-of-type {\n",
       "        vertical-align: middle;\n",
       "    }\n",
       "\n",
       "    .dataframe tbody tr th {\n",
       "        vertical-align: top;\n",
       "    }\n",
       "\n",
       "    .dataframe thead th {\n",
       "        text-align: right;\n",
       "    }\n",
       "</style>\n",
       "<table border=\"1\" class=\"dataframe\">\n",
       "  <thead>\n",
       "    <tr style=\"text-align: right;\">\n",
       "      <th></th>\n",
       "      <th>subActNum</th>\n",
       "      <th>room</th>\n",
       "      <th>activity</th>\n",
       "      <th>concat</th>\n",
       "      <th>reqEnergy</th>\n",
       "      <th>specialChar</th>\n",
       "    </tr>\n",
       "  </thead>\n",
       "  <tbody>\n",
       "    <tr>\n",
       "      <th>58</th>\n",
       "      <td>82</td>\n",
       "      <td>Office/study</td>\n",
       "      <td>Drawer</td>\n",
       "      <td>office/study_drawer</td>\n",
       "      <td>False</td>\n",
       "      <td>True</td>\n",
       "    </tr>\n",
       "    <tr>\n",
       "      <th>68</th>\n",
       "      <td>92</td>\n",
       "      <td>Office/study</td>\n",
       "      <td>Light switch</td>\n",
       "      <td>office/study_lightswitch</td>\n",
       "      <td>True</td>\n",
       "      <td>True</td>\n",
       "    </tr>\n",
       "  </tbody>\n",
       "</table>\n",
       "</div>"
      ],
      "text/plain": [
       "   subActNum          room      activity                    concat  reqEnergy  \\\n",
       "58        82  Office/study        Drawer       office/study_drawer      False   \n",
       "68        92  Office/study  Light switch  office/study_lightswitch       True   \n",
       "\n",
       "    specialChar  \n",
       "58         True  \n",
       "68         True  "
      ]
     },
     "execution_count": 13,
     "metadata": {},
     "output_type": "execute_result"
    }
   ],
   "source": [
    "dsS1Sensors.loc[dsS1Sensors['specialChar'] == True]                           # Filter for true"
   ]
  },
  {
   "cell_type": "code",
   "execution_count": 14,
   "metadata": {
    "ExecuteTime": {
     "end_time": "2019-11-03T07:17:35.831226Z",
     "start_time": "2019-11-03T07:17:35.818991Z"
    }
   },
   "outputs": [],
   "source": [
    "%run -i reqEnergy_containSpecialCharClean.py"
   ]
  },
  {
   "cell_type": "markdown",
   "metadata": {},
   "source": [
    "Comment: Later the ## values for subActNum will become subActNum_##"
   ]
  },
  {
   "cell_type": "code",
   "execution_count": 15,
   "metadata": {
    "ExecuteTime": {
     "end_time": "2019-11-03T07:17:35.848015Z",
     "start_time": "2019-11-03T07:17:35.834404Z"
    }
   },
   "outputs": [
    {
     "data": {
      "text/html": [
       "<div>\n",
       "<style scoped>\n",
       "    .dataframe tbody tr th:only-of-type {\n",
       "        vertical-align: middle;\n",
       "    }\n",
       "\n",
       "    .dataframe tbody tr th {\n",
       "        vertical-align: top;\n",
       "    }\n",
       "\n",
       "    .dataframe thead th {\n",
       "        text-align: right;\n",
       "    }\n",
       "</style>\n",
       "<table border=\"1\" class=\"dataframe\">\n",
       "  <thead>\n",
       "    <tr style=\"text-align: right;\">\n",
       "      <th></th>\n",
       "      <th>subActNum</th>\n",
       "      <th>room</th>\n",
       "      <th>activity</th>\n",
       "      <th>concat</th>\n",
       "      <th>reqEnergy</th>\n",
       "      <th>subActNumConcat</th>\n",
       "    </tr>\n",
       "  </thead>\n",
       "  <tbody>\n",
       "    <tr>\n",
       "      <th>58</th>\n",
       "      <td>82</td>\n",
       "      <td>Study</td>\n",
       "      <td>Drawer</td>\n",
       "      <td>study_drawer</td>\n",
       "      <td>False</td>\n",
       "      <td>subActNum_82</td>\n",
       "    </tr>\n",
       "  </tbody>\n",
       "</table>\n",
       "</div>"
      ],
      "text/plain": [
       "   subActNum   room activity        concat  reqEnergy subActNumConcat\n",
       "58        82  Study   Drawer  study_drawer      False    subActNum_82"
      ]
     },
     "execution_count": 15,
     "metadata": {},
     "output_type": "execute_result"
    }
   ],
   "source": [
    "dsS1Sensors[58:59] # STORE IN VARIABLE AND CALL IN APPENDIX"
   ]
  },
  {
   "cell_type": "code",
   "execution_count": 16,
   "metadata": {
    "ExecuteTime": {
     "end_time": "2019-11-03T07:17:36.049020Z",
     "start_time": "2019-11-03T07:17:35.852225Z"
    }
   },
   "outputs": [],
   "source": [
    "# ALL JSON NOTES ADDED TO .py file\n",
    "%run -i sensorDataJSONwDUPES.py"
   ]
  },
  {
   "cell_type": "markdown",
   "metadata": {},
   "source": [
    "```JSON\n",
    "{\"bathroom_toiletflush\": false, \n",
    " \"bathroom_lightswitch\": true, \n",
    " \"foyer_lightswitch\"   : true, ...\n",
    "```"
   ]
  },
  {
   "cell_type": "markdown",
   "metadata": {},
   "source": [
    "- Special CHAR dropped\n",
    "- Dupes not dropped (no point) (????) <br>\n",
    "\n",
    "**Example DUPES** <br>\n",
    "132,Kitchen,Cabinet,kitchen_cabinet,False,subActNum_132 <br>\n",
    "133,Kitchen,Cabinet,kitchen_cabinet,False,subActNum_133\n"
   ]
  },
  {
   "cell_type": "code",
   "execution_count": 17,
   "metadata": {
    "ExecuteTime": {
     "end_time": "2019-11-03T07:17:36.068525Z",
     "start_time": "2019-11-03T07:17:36.055534Z"
    }
   },
   "outputs": [],
   "source": [
    "dsS1Sensors.to_csv(PATH + '/intermediate_datasets/S1Sensors_preprocessed.csv',index = False)"
   ]
  },
  {
   "cell_type": "markdown",
   "metadata": {},
   "source": [
    "## Importing & Preprocessing the Activities Data"
   ]
  },
  {
   "cell_type": "markdown",
   "metadata": {},
   "source": [
    "<p style='text-align: justify;'> \n",
    "The activities data set `S1activities.csv` will be imported, evaluated and cleaned. The goal of the pre-processing will be\n",
    "to restructure the dataset into a 'tidy' format, that is, where the attributes are columns, the rows are instances, and each cell contains only one value. Given that the data is time-series, timestamps will be used as indexes. The data will also be cast into continuous 24 hour segments, with timestamps in the form `YYYY-MM-DD hh:mm:ss` (using datetime data type)\n",
    "\n",
    "<center>\n",
    "<img src=\"images/huangC.jpg\" title=\"Test Title\" alt=\"Alt text\" width=\"400\" height=\"400\" />\n",
    "<i> MENTION THIS FROM Huang et al. </i> <br>\n",
    "</center> \n",
    "\n",
    "\n",
    "We aim to perform the preprocessing in such a way that is\n",
    "* minimally computationally intensive\n",
    "* reproducible / traceable code\n",
    "* reasonable checks (validation)\n",
    "</p>\n",
    "\n",
    "<center>\n",
    "<img src=\"images/s1act.png\" title=\"Test\" alt=\"Alt text\" width=\"1100\" height=\"1100\" />\n",
    "<i> Example of ds when opened in Microsoft excel. </i> <br>\n",
    "</center> \n",
    "\n",
    "\n",
    "<p style='text-align: justify;'> \n",
    "The activities data was imported into an indexed dataframe, containing only one column, with 1475 rows, with all values comma-separated (per row). This style of import had to be used, due to the varying number of comma-separated elements in each row (as seen in figure X, above).\n",
    "\n",
    "\n",
    "* A array of strings, instead of an array of arrays\n",
    "Analysis of the original dataset, and exploration during pre-processing to this point, shows us that the original dataset follows a structure such that each 5 rows of data contains is one discrete set of data. In this structure,\n",
    "* Row 1 = Activity, Date, Start Time, End Time\n",
    "* Row 2 = Sub-activity (an action that can be executed as part of performing the activity) code-values\n",
    "* Row 3 = Sub-activity descriptive values\n",
    "* Row 4 = Sub-activity start time\n",
    "* Row 5 = Sub-activity end time\n",
    "In order to access the values programmatically, we will now turn the 1D array list back into a 2D array list, where each element array[i] contains the 5 rows of information, as described above.\n",
    "</p>\n",
    "\n",
    "\n",
    "The activities data set `S1activities.csv` will be imported, evaluated and cleaned. The goal of the pre-processing will be to restructure the dataset into a 'tidy' format, that is, where the attributes are columns, the rows are instances, and each cell contains only one value. Given that the data is time-series, timestamps will be used as indexes. The data will also be cast into continuous 24 hour segments, with timestamps in the form `YYYY-MM-DD hh:mm:ss` (using datetime data type)\n",
    "\n",
    "We aim to perform the preprocessing in such a way that is * minimally computationally intensive * reproducible / traceable code * reasonable checks (validation)\n",
    "The activities data was imported into an indexed dataframe, containing only one column, with 1475 rows, with all values comma-separated (per row). This style of import had to be used, due to the varying number of comma-separated elements in each row (as seen in figure X, above). * A array of strings, instead of an array of arrays Analysis of the original dataset, and exploration during pre-processing to this point, shows us that the original dataset follows a structure such that each 5 rows of data contains is one discrete set of data. In this structure, * Row 1 = Activity, Date, Start Time, End Time * Row 2 = Sub-activity (an action that can be executed as part of performing the activity) code-values * Row 3 = Sub-activity descriptive values * Row 4 = Sub-activity start time * Row 5 = Sub-activity end time In order to access the values programmatically, we will now turn the 1D array list back into a 2D array list, where each element array[i] contains the 5 rows of information, as described above."
   ]
  },
  {
   "cell_type": "code",
   "execution_count": 18,
   "metadata": {
    "ExecuteTime": {
     "end_time": "2019-11-03T07:17:36.100958Z",
     "start_time": "2019-11-03T07:17:36.071341Z"
    }
   },
   "outputs": [
    {
     "data": {
      "text/html": [
       "<div>\n",
       "<style scoped>\n",
       "    .dataframe tbody tr th:only-of-type {\n",
       "        vertical-align: middle;\n",
       "    }\n",
       "\n",
       "    .dataframe tbody tr th {\n",
       "        vertical-align: top;\n",
       "    }\n",
       "\n",
       "    .dataframe thead th {\n",
       "        text-align: right;\n",
       "    }\n",
       "</style>\n",
       "<table border=\"1\" class=\"dataframe\">\n",
       "  <thead>\n",
       "    <tr style=\"text-align: right;\">\n",
       "      <th></th>\n",
       "      <th>Type</th>\n",
       "      <th>Description</th>\n",
       "      <th>Desired Type</th>\n",
       "    </tr>\n",
       "  </thead>\n",
       "  <tbody>\n",
       "    <tr>\n",
       "      <th>0</th>\n",
       "      <td>An array of comma-sep strings</td>\n",
       "      <td>Activity information, date, start time, end time</td>\n",
       "      <td>...</td>\n",
       "    </tr>\n",
       "    <tr>\n",
       "      <th>1</th>\n",
       "      <td>An array of comma-sep strings</td>\n",
       "      <td>Sub-activity reference value</td>\n",
       "      <td>Levels</td>\n",
       "    </tr>\n",
       "    <tr>\n",
       "      <th>2</th>\n",
       "      <td>An array of comma-sep strings</td>\n",
       "      <td>Sub-activity descriptive value</td>\n",
       "      <td>Levels</td>\n",
       "    </tr>\n",
       "    <tr>\n",
       "      <th>3</th>\n",
       "      <td>An array of comma-sep strings</td>\n",
       "      <td>Sub-activity start time</td>\n",
       "      <td>Datetime including the date extracted from the...</td>\n",
       "    </tr>\n",
       "    <tr>\n",
       "      <th>4</th>\n",
       "      <td>An array of comma-sep strings</td>\n",
       "      <td>Sub-activity end time</td>\n",
       "      <td>Datetime including the date extracted from the...</td>\n",
       "    </tr>\n",
       "  </tbody>\n",
       "</table>\n",
       "</div>"
      ],
      "text/plain": [
       "                            Type  \\\n",
       "0  An array of comma-sep strings   \n",
       "1  An array of comma-sep strings   \n",
       "2  An array of comma-sep strings   \n",
       "3  An array of comma-sep strings   \n",
       "4  An array of comma-sep strings   \n",
       "\n",
       "                                       Description   \\\n",
       "0  Activity information, date, start time, end time   \n",
       "1                      Sub-activity reference value   \n",
       "2                    Sub-activity descriptive value   \n",
       "3                           Sub-activity start time   \n",
       "4                             Sub-activity end time   \n",
       "\n",
       "                                        Desired Type  \n",
       "0                                                ...  \n",
       "1                                             Levels  \n",
       "2                                             Levels  \n",
       "3  Datetime including the date extracted from the...  \n",
       "4  Datetime including the date extracted from the...  "
      ]
     },
     "execution_count": 18,
     "metadata": {},
     "output_type": "execute_result"
    }
   ],
   "source": [
    "%run -i dsS1Activities_processingExample.py\n",
    "df.head()"
   ]
  },
  {
   "cell_type": "markdown",
   "metadata": {},
   "source": [
    "As mentioned above, in order to work with these data, they need to be in a 'tidy' format [ref], that is, the attributes are columns, the rows are instances, and each cell contains only one value. * Note: An array of arrays * An array where each element is an array (list?) * Between each increment of 5 (0 - 4), the sub-arrays have different lengths Table [ref], below, contains a summary of the data structure after the operation `np.array(dsS1)` is performed. In order to continue pre-processing, the array had to be flattened from a 2D structure to a 1D structure, using `flatten()`."
   ]
  },
  {
   "cell_type": "code",
   "execution_count": 19,
   "metadata": {
    "ExecuteTime": {
     "end_time": "2019-11-03T07:17:36.138662Z",
     "start_time": "2019-11-03T07:17:36.106447Z"
    }
   },
   "outputs": [],
   "source": [
    "dsS1 = pd.read_csv(PATH + '/datasets/S1activities_data.csv', sep = 'delimiter', header = None, engine = 'python')"
   ]
  },
  {
   "cell_type": "code",
   "execution_count": 20,
   "metadata": {
    "ExecuteTime": {
     "end_time": "2019-11-03T07:17:36.160475Z",
     "start_time": "2019-11-03T07:17:36.143453Z"
    }
   },
   "outputs": [
    {
     "data": {
      "text/html": [
       "<div>\n",
       "<style scoped>\n",
       "    .dataframe tbody tr th:only-of-type {\n",
       "        vertical-align: middle;\n",
       "    }\n",
       "\n",
       "    .dataframe tbody tr th {\n",
       "        vertical-align: top;\n",
       "    }\n",
       "\n",
       "    .dataframe thead th {\n",
       "        text-align: right;\n",
       "    }\n",
       "</style>\n",
       "<table border=\"1\" class=\"dataframe\">\n",
       "  <thead>\n",
       "    <tr style=\"text-align: right;\">\n",
       "      <th></th>\n",
       "      <th>0</th>\n",
       "    </tr>\n",
       "  </thead>\n",
       "  <tbody>\n",
       "    <tr>\n",
       "      <th>0</th>\n",
       "      <td>Bathing,4/1/2003,20:41:35,21:32:50</td>\n",
       "    </tr>\n",
       "    <tr>\n",
       "      <th>1</th>\n",
       "      <td>100,68,81,101,93,137,93,58,57,67,93,58,68,88,5...</td>\n",
       "    </tr>\n",
       "    <tr>\n",
       "      <th>2</th>\n",
       "      <td>Toilet Flush,Sink faucet - hot,Closet,Light sw...</td>\n",
       "    </tr>\n",
       "    <tr>\n",
       "      <th>3</th>\n",
       "      <td>20:51:52,20:51:58,20:53:36,20:53:49,20:53:52,2...</td>\n",
       "    </tr>\n",
       "    <tr>\n",
       "      <th>4</th>\n",
       "      <td>21:5:20,20:52:5,20:53:43,21:21:43,20:58:42,20:...</td>\n",
       "    </tr>\n",
       "  </tbody>\n",
       "</table>\n",
       "</div>"
      ],
      "text/plain": [
       "                                                   0\n",
       "0                 Bathing,4/1/2003,20:41:35,21:32:50\n",
       "1  100,68,81,101,93,137,93,58,57,67,93,58,68,88,5...\n",
       "2  Toilet Flush,Sink faucet - hot,Closet,Light sw...\n",
       "3  20:51:52,20:51:58,20:53:36,20:53:49,20:53:52,2...\n",
       "4  21:5:20,20:52:5,20:53:43,21:21:43,20:58:42,20:..."
      ]
     },
     "execution_count": 20,
     "metadata": {},
     "output_type": "execute_result"
    }
   ],
   "source": [
    "dsS1.head()"
   ]
  },
  {
   "cell_type": "code",
   "execution_count": 21,
   "metadata": {
    "ExecuteTime": {
     "end_time": "2019-11-03T07:17:36.171258Z",
     "start_time": "2019-11-03T07:17:36.164497Z"
    }
   },
   "outputs": [
    {
     "data": {
      "text/plain": [
       "1475"
      ]
     },
     "execution_count": 21,
     "metadata": {},
     "output_type": "execute_result"
    }
   ],
   "source": [
    "# Confirming the length of the dataframe\n",
    "len(dsS1)"
   ]
  },
  {
   "cell_type": "code",
   "execution_count": 22,
   "metadata": {
    "ExecuteTime": {
     "end_time": "2019-11-03T07:17:36.265668Z",
     "start_time": "2019-11-03T07:17:36.174257Z"
    }
   },
   "outputs": [],
   "source": [
    "%run -i dsS1Activities_processing.py"
   ]
  },
  {
   "cell_type": "markdown",
   "metadata": {},
   "source": [
    "<p style='text-align: justify;'>\n",
    "The function `dsS1Activities_processing.py` was run in-line to perform the required preprocessing. The dataframe was then converted to a 2D array, using `np.array()`, here, each row from the dataframe became an array within the 2D array [Step 1]. The 2D array was flattened to a 1D array using `.flatten()` [Step 2]. each group of observations was then chunked into a list of 5 [Step 3] </p> \n",
    "\n",
    "\n",
    "Mention sanity checking here\n",
    "\n",
    "```Python\n",
    "i = 0\n",
    "while i < 5:\n",
    "    print(stepX[i])\n",
    "    i += 1\n",
    "```\n",
    "\n",
    "|StepX|Returns    |\n",
    "|-----|-----      |\n",
    "|Step1|5 array structures corresponding to one row each from the original dataset                 |\n",
    "|Step2|5 elements from one array structure (no longer associated with rows)                       |\n",
    "|Step3|5 array structures, with each array containing a set of related activity and temporal data |\n",
    "\n",
    "<p style='text-align: justify;'>\n",
    "We used the Step 3 data structure to then extract the values for `activity`, `date`, `startTime` and `endTime`. These values were populated into a series of temporary arrays, which were then compiled into a dataset with the four attributes previously listed. We then used `Step3[i][j]` to access all the required elements and parse them into the arrays. </p>"
   ]
  },
  {
   "cell_type": "code",
   "execution_count": 23,
   "metadata": {
    "ExecuteTime": {
     "end_time": "2019-11-03T07:17:36.294288Z",
     "start_time": "2019-11-03T07:17:36.276774Z"
    }
   },
   "outputs": [
    {
     "data": {
      "text/html": [
       "<div>\n",
       "<style scoped>\n",
       "    .dataframe tbody tr th:only-of-type {\n",
       "        vertical-align: middle;\n",
       "    }\n",
       "\n",
       "    .dataframe tbody tr th {\n",
       "        vertical-align: top;\n",
       "    }\n",
       "\n",
       "    .dataframe thead th {\n",
       "        text-align: right;\n",
       "    }\n",
       "</style>\n",
       "<table border=\"1\" class=\"dataframe\">\n",
       "  <thead>\n",
       "    <tr style=\"text-align: right;\">\n",
       "      <th></th>\n",
       "      <th>activity</th>\n",
       "      <th>date</th>\n",
       "      <th>startTime</th>\n",
       "      <th>endTime</th>\n",
       "    </tr>\n",
       "  </thead>\n",
       "  <tbody>\n",
       "    <tr>\n",
       "      <th>0</th>\n",
       "      <td>Bathing</td>\n",
       "      <td>4/1/2003</td>\n",
       "      <td>20:41:35</td>\n",
       "      <td>21:32:50</td>\n",
       "    </tr>\n",
       "    <tr>\n",
       "      <th>1</th>\n",
       "      <td>Toileting</td>\n",
       "      <td>4/1/2003</td>\n",
       "      <td>17:30:36</td>\n",
       "      <td>17:46:41</td>\n",
       "    </tr>\n",
       "    <tr>\n",
       "      <th>2</th>\n",
       "      <td>Toileting</td>\n",
       "      <td>4/1/2003</td>\n",
       "      <td>18:4:43</td>\n",
       "      <td>18:18:2</td>\n",
       "    </tr>\n",
       "    <tr>\n",
       "      <th>3</th>\n",
       "      <td>Toileting</td>\n",
       "      <td>4/1/2003</td>\n",
       "      <td>11:52:1</td>\n",
       "      <td>11:58:50</td>\n",
       "    </tr>\n",
       "    <tr>\n",
       "      <th>4</th>\n",
       "      <td>Going out to work</td>\n",
       "      <td>4/1/2003</td>\n",
       "      <td>12:11:26</td>\n",
       "      <td>12:15:12</td>\n",
       "    </tr>\n",
       "  </tbody>\n",
       "</table>\n",
       "</div>"
      ],
      "text/plain": [
       "            activity      date startTime   endTime\n",
       "0            Bathing  4/1/2003  20:41:35  21:32:50\n",
       "1          Toileting  4/1/2003  17:30:36  17:46:41\n",
       "2          Toileting  4/1/2003   18:4:43   18:18:2\n",
       "3          Toileting  4/1/2003   11:52:1  11:58:50\n",
       "4  Going out to work  4/1/2003  12:11:26  12:15:12"
      ]
     },
     "execution_count": 23,
     "metadata": {},
     "output_type": "execute_result"
    }
   ],
   "source": [
    "dsIntermediate.head()"
   ]
  },
  {
   "cell_type": "markdown",
   "metadata": {},
   "source": [
    "**Extracting the Activity, Time and Data** </br>\n",
    "If we run `a[0][0]`, we get `'Bathing,4/1/2003,20:41:35,21:32:50'`\n",
    "* A string with 4 comma-separated 'items'\n",
    "* We won't check the entire DF, rather, will rely on errors thrown back to confirm validity ('validation of the method')\n",
    "\n",
    "**Constructing the while loop** </br>\n",
    "* Create empty lists\n",
    "* Extracts the relevant elements\n",
    "* Adds (appends) the elements to the lists\n",
    "\n",
    "**Sanity Checks** \n",
    "* We won't check the entire DF, rather, will rely on errors thrown back to confirm validity ('validation of the method')\n",
    "* Divisible by 5"
   ]
  },
  {
   "cell_type": "code",
   "execution_count": 24,
   "metadata": {
    "ExecuteTime": {
     "end_time": "2019-11-03T07:17:36.317488Z",
     "start_time": "2019-11-03T07:17:36.299122Z"
    }
   },
   "outputs": [
    {
     "data": {
      "text/html": [
       "<div>\n",
       "<style scoped>\n",
       "    .dataframe tbody tr th:only-of-type {\n",
       "        vertical-align: middle;\n",
       "    }\n",
       "\n",
       "    .dataframe tbody tr th {\n",
       "        vertical-align: top;\n",
       "    }\n",
       "\n",
       "    .dataframe thead th {\n",
       "        text-align: right;\n",
       "    }\n",
       "</style>\n",
       "<table border=\"1\" class=\"dataframe\">\n",
       "  <thead>\n",
       "    <tr style=\"text-align: right;\">\n",
       "      <th></th>\n",
       "      <th>activity</th>\n",
       "      <th>start</th>\n",
       "      <th>end</th>\n",
       "    </tr>\n",
       "  </thead>\n",
       "  <tbody>\n",
       "    <tr>\n",
       "      <th>0</th>\n",
       "      <td>Bathing</td>\n",
       "      <td>2003-04-01 20:41:35</td>\n",
       "      <td>2003-04-01 21:32:50</td>\n",
       "    </tr>\n",
       "    <tr>\n",
       "      <th>1</th>\n",
       "      <td>Toileting</td>\n",
       "      <td>2003-04-01 17:30:36</td>\n",
       "      <td>2003-04-01 17:46:41</td>\n",
       "    </tr>\n",
       "    <tr>\n",
       "      <th>2</th>\n",
       "      <td>Toileting</td>\n",
       "      <td>2003-04-01 18:04:43</td>\n",
       "      <td>2003-04-01 18:18:02</td>\n",
       "    </tr>\n",
       "    <tr>\n",
       "      <th>3</th>\n",
       "      <td>Toileting</td>\n",
       "      <td>2003-04-01 11:52:01</td>\n",
       "      <td>2003-04-01 11:58:50</td>\n",
       "    </tr>\n",
       "    <tr>\n",
       "      <th>4</th>\n",
       "      <td>Going out to work</td>\n",
       "      <td>2003-04-01 12:11:26</td>\n",
       "      <td>2003-04-01 12:15:12</td>\n",
       "    </tr>\n",
       "  </tbody>\n",
       "</table>\n",
       "</div>"
      ],
      "text/plain": [
       "            activity               start                 end\n",
       "0            Bathing 2003-04-01 20:41:35 2003-04-01 21:32:50\n",
       "1          Toileting 2003-04-01 17:30:36 2003-04-01 17:46:41\n",
       "2          Toileting 2003-04-01 18:04:43 2003-04-01 18:18:02\n",
       "3          Toileting 2003-04-01 11:52:01 2003-04-01 11:58:50\n",
       "4  Going out to work 2003-04-01 12:11:26 2003-04-01 12:15:12"
      ]
     },
     "execution_count": 24,
     "metadata": {},
     "output_type": "execute_result"
    }
   ],
   "source": [
    "ds.head()"
   ]
  },
  {
   "cell_type": "code",
   "execution_count": 25,
   "metadata": {
    "ExecuteTime": {
     "end_time": "2019-11-03T07:17:36.341819Z",
     "start_time": "2019-11-03T07:17:36.326694Z"
    }
   },
   "outputs": [],
   "source": [
    "ds.to_csv(PATH + '/intermediate_datasets/S1Activities_preprocessed.csv', index = False)"
   ]
  },
  {
   "cell_type": "markdown",
   "metadata": {},
   "source": [
    "## Importing, Visualizing and Preprocessing the SubActivities Data"
   ]
  },
  {
   "cell_type": "markdown",
   "metadata": {},
   "source": [
    "<p style='text-align: justify;'>\n",
    "Importing `S1Activities_data.csv`, convert df to an array (list?), flatten to a 1D array (list?), chunk the array [5], extract subActNum, subActivity, time & date. Merge time and date into datetime elements, determine start and end time. The variable `dsS1` was used (still on stack from previous section). As previously observed (FIGURE X, TABLE Y), data was all in one column. A processing method with additional steps BLAH BLAH. \n",
    "    </p>"
   ]
  },
  {
   "cell_type": "code",
   "execution_count": 26,
   "metadata": {
    "ExecuteTime": {
     "end_time": "2019-11-03T07:17:37.259103Z",
     "start_time": "2019-11-03T07:17:36.350395Z"
    }
   },
   "outputs": [],
   "source": [
    "%run -i dsS1SubActivities_processing.py"
   ]
  },
  {
   "cell_type": "code",
   "execution_count": 27,
   "metadata": {
    "ExecuteTime": {
     "end_time": "2019-11-03T07:17:37.293557Z",
     "start_time": "2019-11-03T07:17:37.265708Z"
    }
   },
   "outputs": [
    {
     "data": {
      "text/html": [
       "<div>\n",
       "<style scoped>\n",
       "    .dataframe tbody tr th:only-of-type {\n",
       "        vertical-align: middle;\n",
       "    }\n",
       "\n",
       "    .dataframe tbody tr th {\n",
       "        vertical-align: top;\n",
       "    }\n",
       "\n",
       "    .dataframe thead th {\n",
       "        text-align: right;\n",
       "    }\n",
       "</style>\n",
       "<table border=\"1\" class=\"dataframe\">\n",
       "  <thead>\n",
       "    <tr style=\"text-align: right;\">\n",
       "      <th></th>\n",
       "      <th>subActNum</th>\n",
       "      <th>subAct</th>\n",
       "      <th>date</th>\n",
       "      <th>startTime</th>\n",
       "      <th>endTime</th>\n",
       "    </tr>\n",
       "  </thead>\n",
       "  <tbody>\n",
       "    <tr>\n",
       "      <th>0</th>\n",
       "      <td>100</td>\n",
       "      <td>Toilet Flush</td>\n",
       "      <td>4/1/2003</td>\n",
       "      <td>20:51:52</td>\n",
       "      <td>21:5:20</td>\n",
       "    </tr>\n",
       "    <tr>\n",
       "      <th>1</th>\n",
       "      <td>68</td>\n",
       "      <td>Sink faucet - hot</td>\n",
       "      <td>4/1/2003</td>\n",
       "      <td>20:51:58</td>\n",
       "      <td>20:52:5</td>\n",
       "    </tr>\n",
       "    <tr>\n",
       "      <th>2</th>\n",
       "      <td>81</td>\n",
       "      <td>Closet</td>\n",
       "      <td>4/1/2003</td>\n",
       "      <td>20:53:36</td>\n",
       "      <td>20:53:43</td>\n",
       "    </tr>\n",
       "    <tr>\n",
       "      <th>3</th>\n",
       "      <td>101</td>\n",
       "      <td>Light switch</td>\n",
       "      <td>4/1/2003</td>\n",
       "      <td>20:53:49</td>\n",
       "      <td>21:21:43</td>\n",
       "    </tr>\n",
       "    <tr>\n",
       "      <th>4</th>\n",
       "      <td>93</td>\n",
       "      <td>Shower faucet</td>\n",
       "      <td>4/1/2003</td>\n",
       "      <td>20:53:52</td>\n",
       "      <td>20:58:42</td>\n",
       "    </tr>\n",
       "  </tbody>\n",
       "</table>\n",
       "</div>"
      ],
      "text/plain": [
       "  subActNum             subAct      date startTime   endTime\n",
       "0       100       Toilet Flush  4/1/2003  20:51:52   21:5:20\n",
       "1        68  Sink faucet - hot  4/1/2003  20:51:58   20:52:5\n",
       "2        81             Closet  4/1/2003  20:53:36  20:53:43\n",
       "3       101       Light switch  4/1/2003  20:53:49  21:21:43\n",
       "4        93      Shower faucet  4/1/2003  20:53:52  20:58:42"
      ]
     },
     "execution_count": 27,
     "metadata": {},
     "output_type": "execute_result"
    }
   ],
   "source": [
    "dsIntermediate.head()"
   ]
  },
  {
   "cell_type": "code",
   "execution_count": 28,
   "metadata": {
    "ExecuteTime": {
     "end_time": "2019-11-03T07:17:37.320828Z",
     "start_time": "2019-11-03T07:17:37.302500Z"
    }
   },
   "outputs": [
    {
     "data": {
      "text/html": [
       "<div>\n",
       "<style scoped>\n",
       "    .dataframe tbody tr th:only-of-type {\n",
       "        vertical-align: middle;\n",
       "    }\n",
       "\n",
       "    .dataframe tbody tr th {\n",
       "        vertical-align: top;\n",
       "    }\n",
       "\n",
       "    .dataframe thead th {\n",
       "        text-align: right;\n",
       "    }\n",
       "</style>\n",
       "<table border=\"1\" class=\"dataframe\">\n",
       "  <thead>\n",
       "    <tr style=\"text-align: right;\">\n",
       "      <th></th>\n",
       "      <th>subActNum</th>\n",
       "      <th>subAct</th>\n",
       "      <th>start</th>\n",
       "      <th>end</th>\n",
       "    </tr>\n",
       "  </thead>\n",
       "  <tbody>\n",
       "    <tr>\n",
       "      <th>0</th>\n",
       "      <td>67</td>\n",
       "      <td>Cabinet</td>\n",
       "      <td>2003-03-27 06:43:40</td>\n",
       "      <td>2003-03-27 06:43:43</td>\n",
       "    </tr>\n",
       "    <tr>\n",
       "      <th>1</th>\n",
       "      <td>100</td>\n",
       "      <td>Toilet Flush</td>\n",
       "      <td>2003-03-27 06:44:06</td>\n",
       "      <td>2003-03-27 07:12:41</td>\n",
       "    </tr>\n",
       "    <tr>\n",
       "      <th>2</th>\n",
       "      <td>101</td>\n",
       "      <td>Light switch</td>\n",
       "      <td>2003-03-27 06:44:20</td>\n",
       "      <td>2003-03-27 07:46:34</td>\n",
       "    </tr>\n",
       "    <tr>\n",
       "      <th>3</th>\n",
       "      <td>57</td>\n",
       "      <td>Medicine cabinet</td>\n",
       "      <td>2003-03-27 06:44:35</td>\n",
       "      <td>2003-03-27 06:44:48</td>\n",
       "    </tr>\n",
       "    <tr>\n",
       "      <th>4</th>\n",
       "      <td>58</td>\n",
       "      <td>Medicine cabinet</td>\n",
       "      <td>2003-03-27 06:44:36</td>\n",
       "      <td>2003-03-27 06:44:48</td>\n",
       "    </tr>\n",
       "  </tbody>\n",
       "</table>\n",
       "</div>"
      ],
      "text/plain": [
       "   subActNum            subAct               start                 end\n",
       "0         67           Cabinet 2003-03-27 06:43:40 2003-03-27 06:43:43\n",
       "1        100      Toilet Flush 2003-03-27 06:44:06 2003-03-27 07:12:41\n",
       "2        101      Light switch 2003-03-27 06:44:20 2003-03-27 07:46:34\n",
       "3         57  Medicine cabinet 2003-03-27 06:44:35 2003-03-27 06:44:48\n",
       "4         58  Medicine cabinet 2003-03-27 06:44:36 2003-03-27 06:44:48"
      ]
     },
     "execution_count": 28,
     "metadata": {},
     "output_type": "execute_result"
    }
   ],
   "source": [
    "ds.head()"
   ]
  },
  {
   "cell_type": "code",
   "execution_count": 29,
   "metadata": {
    "ExecuteTime": {
     "end_time": "2019-11-03T07:17:37.341309Z",
     "start_time": "2019-11-03T07:17:37.327166Z"
    }
   },
   "outputs": [
    {
     "name": "stdout",
     "output_type": "stream",
     "text": [
      "3   kitchen_lightswitch\n",
      "4   kitchen_burner\n",
      "2   livingroom_lightswitch\n",
      "7   kitchen_drawer\n",
      "3   kitchen_refrigerator\n",
      "15  kitchen_cabinet\n",
      "2   kitchen_door\n",
      "5   bedroom_drawer\n",
      "2   bathroom_medicinecabinet\n",
      "2   bathroom_cabinet\n"
     ]
    }
   ],
   "source": [
    "#ds.info()\n",
    "%run -i seen_dupes_dsS1Sensors.py"
   ]
  },
  {
   "cell_type": "markdown",
   "metadata": {
    "heading_collapsed": true
   },
   "source": [
    "### Sub Activity Preprocessing - Duplicate sub activities"
   ]
  },
  {
   "cell_type": "markdown",
   "metadata": {
    "hidden": true
   },
   "source": [
    "<p style='text-align: justify;'>\n",
    "The following duplicate sensors were identified in section XX\n",
    "    </p>\n",
    "\n",
    "* From `S1Sensors_preprocessed.csv` I need to find the numbers associated with these - SUBACTNUM\n",
    "* 'Arbitrarily' choose one number to represent all of them\n",
    "* Fill them all with that one number\n",
    "\n",
    "<p style='text-align: justify;'>\n",
    "**For dicussion later** - The kitchen cabinets have 15 sensors, say one of these cabinets just contains a blender, so there will always be a one-to-one between the cabinet opening and the blendor being used. This isn't particularly helpful to us. Also, more sensors could always be added... Better to do analysis with less (explain?)\n",
    "Note for discussion, S1Sensors_preprocessed itself should no longer be modified, EXAMPLE, going back upstream to remove the 'dupes', would perhaps cause an lack of traceability downstream later, Importing S1Sensors_preprecessed now has been done to inform, how to remove 'dupes' from the current ds\n",
    "</p>\n"
   ]
  },
  {
   "cell_type": "code",
   "execution_count": 30,
   "metadata": {
    "ExecuteTime": {
     "end_time": "2019-11-03T07:17:37.363526Z",
     "start_time": "2019-11-03T07:17:37.344421Z"
    },
    "hidden": true
   },
   "outputs": [],
   "source": [
    "%run -i cleanDupesSubAct.py\n",
    "%run -i add_DAY_WDWE_phaseII.py"
   ]
  },
  {
   "cell_type": "markdown",
   "metadata": {
    "hidden": true
   },
   "source": [
    "Replace the `ds.subAct` values with `dsS1Sensors.concat` values using the `subActNum` key\n",
    "* Join OR\n",
    "* Dict? USE THIS - cleaner"
   ]
  },
  {
   "cell_type": "code",
   "execution_count": 31,
   "metadata": {
    "ExecuteTime": {
     "end_time": "2019-11-03T07:17:37.390582Z",
     "start_time": "2019-11-03T07:17:37.368588Z"
    },
    "hidden": true
   },
   "outputs": [
    {
     "name": "stdout",
     "output_type": "stream",
     "text": [
      "[91, 126, 144]\n"
     ]
    }
   ],
   "source": [
    "%run -i refrigeratorDupes.py"
   ]
  },
  {
   "cell_type": "code",
   "execution_count": 32,
   "metadata": {
    "ExecuteTime": {
     "end_time": "2019-11-03T07:17:37.407327Z",
     "start_time": "2019-11-03T07:17:37.396523Z"
    },
    "hidden": true
   },
   "outputs": [],
   "source": [
    "%run -i removeDupesJSON.py"
   ]
  },
  {
   "cell_type": "code",
   "execution_count": 33,
   "metadata": {
    "ExecuteTime": {
     "end_time": "2019-11-03T07:17:37.424386Z",
     "start_time": "2019-11-03T07:17:37.410468Z"
    },
    "hidden": true
   },
   "outputs": [
    {
     "name": "stdout",
     "output_type": "stream",
     "text": [
      "[126]\n"
     ]
    }
   ],
   "source": [
    "%run -i refrigeratorDupes.py"
   ]
  },
  {
   "cell_type": "code",
   "execution_count": 34,
   "metadata": {
    "ExecuteTime": {
     "end_time": "2019-11-03T07:17:37.440701Z",
     "start_time": "2019-11-03T07:17:37.429495Z"
    },
    "hidden": true
   },
   "outputs": [
    {
     "data": {
      "text/plain": [
       "{100: 'bathroom_toiletflush',\n",
       " 101: 'bathroom_lightswitch',\n",
       " 104: 'foyer_lightswitch',\n",
       " 105: 'kitchen_lightswitch',\n",
       " 106: 'kitchen_burner',\n",
       " 107: 'livingroom_lightswitch',\n",
       " 108: 'bedroom_lightswitch',\n",
       " 109: 'porch_lightswitch',\n",
       " 119: 'kitchen_coffeemachine',\n",
       " 125: 'kitchen_drawer',\n",
       " 126: 'kitchen_refrigerator',\n",
       " 129: 'kitchen_oven',\n",
       " 130: 'bathroom_door',\n",
       " 131: 'kitchen_toaster',\n",
       " 132: 'kitchen_cabinet',\n",
       " 136: 'kitchen_window',\n",
       " 137: 'kitchen_freezer',\n",
       " 139: 'bedroom_jewelrybox',\n",
       " 140: 'foyer_door',\n",
       " 141: 'kitchen_door',\n",
       " 142: 'kitchen_washingmachine',\n",
       " 143: 'kitchen_microwave',\n",
       " 145: 'kitchen_cereal',\n",
       " 146: 'bedroom_drawer',\n",
       " 56: 'livingroom_dvd',\n",
       " 57: 'bathroom_medicinecabinet',\n",
       " 60: 'kitchen_containers',\n",
       " 64: 'bedroom_lamp',\n",
       " 67: 'bathroom_cabinet',\n",
       " 68: 'bathroom_sinkfaucet-hot',\n",
       " 70: 'kitchen_dishwasher',\n",
       " 76: 'livingroom_lamp',\n",
       " 81: 'foyer_closet',\n",
       " 82: 'study_drawer',\n",
       " 85: 'bedroom_window',\n",
       " 88: 'bathroom_sinkfaucet-cold',\n",
       " 90: 'kitchen_laundrydryer',\n",
       " 92: 'study_lightwitch',\n",
       " 93: 'bathroom_showerfaucet',\n",
       " 96: 'bathroom_exhaustfan',\n",
       " 98: 'kitchen_garbagedisposal'}"
      ]
     },
     "execution_count": 34,
     "metadata": {},
     "output_type": "execute_result"
    }
   ],
   "source": [
    "subActNumKeyWithStringDictNoDupes"
   ]
  },
  {
   "cell_type": "code",
   "execution_count": 35,
   "metadata": {
    "ExecuteTime": {
     "end_time": "2019-11-03T07:17:37.620090Z",
     "start_time": "2019-11-03T07:17:37.443550Z"
    },
    "hidden": true
   },
   "outputs": [],
   "source": [
    "ds.to_csv('S1SubActivities_preprocessed.csv', index = False)\n",
    "%run add_DAY_WDWE_phaseI.py\n",
    "ds = add_DAY_WDWE_phaseI(ds)\n",
    "ds.to_csv('S1SubActivities_preprocessedR.csv', index = False)"
   ]
  },
  {
   "cell_type": "markdown",
   "metadata": {
    "heading_collapsed": true
   },
   "source": [
    "###  SubActivity Preprocessing Comparison and Outliers"
   ]
  },
  {
   "cell_type": "markdown",
   "metadata": {
    "hidden": true
   },
   "source": [
    "INSERT R CODE - Magic or Text?\n",
    "```R\n",
    "myVar <- 6\n",
    "```"
   ]
  },
  {
   "cell_type": "markdown",
   "metadata": {
    "heading_collapsed": true,
    "hidden": true
   },
   "source": [
    "#### Loading the Data"
   ]
  },
  {
   "cell_type": "code",
   "execution_count": 36,
   "metadata": {
    "ExecuteTime": {
     "end_time": "2019-11-03T07:17:38.228891Z",
     "start_time": "2019-11-03T07:17:37.623062Z"
    },
    "hidden": true
   },
   "outputs": [],
   "source": [
    "%%R\n",
    "ds <- read_csv('S1SubActivities_preprocessedR.csv', col_types = cols(subActNum = col_character(),\n",
    "                                                                     dayNumeric = col_character(),\n",
    "                                                                     HOUR = col_character()))\n",
    "ds$start <- ymd_hms(ds$start)\n",
    "ds$start <- force_tz(ds$start, \"America/New_York\")\n",
    "ds$end <- ymd_hms(ds$end)\n",
    "ds$end <- force_tz(ds$end, \"America/New_York\")\n",
    "ds$subAct <- as.factor(ds$subAct)\n",
    "\n",
    "total_counts <- ds %>% group_by(DAY, subAct) %>% summarise(count=n())"
   ]
  },
  {
   "cell_type": "markdown",
   "metadata": {
    "heading_collapsed": true,
    "hidden": true
   },
   "source": [
    "#### Aggregated Line Chart"
   ]
  },
  {
   "cell_type": "code",
   "execution_count": 37,
   "metadata": {
    "ExecuteTime": {
     "end_time": "2019-11-03T07:17:40.822253Z",
     "start_time": "2019-11-03T07:17:38.233214Z"
    },
    "hidden": true
   },
   "outputs": [],
   "source": [
    "%%R\n",
    "p <- ggplot(total_counts, aes(x = subAct, y = count, group = DAY, color = DAY))\n",
    "p <- p + geom_line()\n",
    "p <- p + geom_point()\n",
    "p <- p + coord_flip() + labs(title = \"Plot of SubActivity Count versus SubActivity\",\n",
    "                             subtitle = \"ADD SUBTITLE - Preprocessing Stage?\",\n",
    "                             caption = \"Source: TBU\",\n",
    "                             x = \"SubActivity\",\n",
    "                             y = \"Aggregated Count\")\n",
    "ggsave(\"images/lineChart.png\", plot = last_plot(), device = png(), \n",
    "       scale = 1.5, width = 18, height = 16, units = c(\"cm\"), dpi = 300)"
   ]
  },
  {
   "cell_type": "markdown",
   "metadata": {
    "ExecuteTime": {
     "end_time": "2019-11-02T11:09:02.521879Z",
     "start_time": "2019-11-02T11:09:02.504276Z"
    },
    "hidden": true
   },
   "source": [
    "<center>\n",
    "<img src=\"images/lineChart.png\" title=\"Test Title\" alt=\"Alt text\" />\n",
    "<i> MENTION THIS FROM Huang et al. </i> <br>\n",
    "</center> "
   ]
  },
  {
   "cell_type": "markdown",
   "metadata": {
    "heading_collapsed": true,
    "hidden": true
   },
   "source": [
    "#### Aggregated Box Plot"
   ]
  },
  {
   "cell_type": "code",
   "execution_count": 38,
   "metadata": {
    "ExecuteTime": {
     "end_time": "2019-11-03T07:17:43.636993Z",
     "start_time": "2019-11-03T07:17:40.834851Z"
    },
    "hidden": true
   },
   "outputs": [],
   "source": [
    "%%R\n",
    "p <- ggplot(ds, aes(subAct, durationSec))\n",
    "p <- p + geom_boxplot(fill= \"plum\", outlier.alpha = 0.8) # aes(colour = WDWE) #, outlier.size = 1\n",
    "p <- p + theme(legend.position = \"right\") + coord_flip() +\n",
    "  labs(title = \"Box Plots\",\n",
    "       subtitle = \"Subactivity Duraiton\",\n",
    "       caption = \"Source: TBU\",\n",
    "       x = \"SubActivity\",\n",
    "       y = \"Duration (sec)\")\n",
    "ggsave(\"images/boxPlots.png\", plot = last_plot(), device = png(), \n",
    "       scale = 1.5, width = 18, height = 16, units = c(\"cm\"), dpi = 300)"
   ]
  },
  {
   "cell_type": "markdown",
   "metadata": {
    "ExecuteTime": {
     "end_time": "2019-11-02T11:09:02.521879Z",
     "start_time": "2019-11-02T11:09:02.504276Z"
    },
    "hidden": true
   },
   "source": [
    "<center>\n",
    "<img src=\"images/boxPlots.png\" title=\"Test Title\" alt=\"Alt text\" />\n",
    "<i> MENTION THIS FROM Huang et al. </i> <br>\n",
    "</center> "
   ]
  },
  {
   "cell_type": "markdown",
   "metadata": {
    "heading_collapsed": true,
    "hidden": true
   },
   "source": [
    "#### Strip Plots"
   ]
  },
  {
   "cell_type": "code",
   "execution_count": 39,
   "metadata": {
    "ExecuteTime": {
     "end_time": "2019-11-03T07:17:45.365614Z",
     "start_time": "2019-11-03T07:17:43.639998Z"
    },
    "hidden": true
   },
   "outputs": [],
   "source": [
    "%run -i altairDurationCharts.py"
   ]
  },
  {
   "cell_type": "code",
   "execution_count": 40,
   "metadata": {
    "ExecuteTime": {
     "end_time": "2019-11-03T07:17:45.423224Z",
     "start_time": "2019-11-03T07:17:45.370078Z"
    },
    "hidden": true
   },
   "outputs": [
    {
     "data": {
      "application/vnd.vegalite.v3+json": {
       "$schema": "https://vega.github.io/schema/vega-lite/v3.4.0.json",
       "config": {
        "mark": {
         "tooltip": null
        },
        "view": {
         "height": 300,
         "width": 400
        }
       },
       "data": {
        "name": "data-a92ac1bde1a73d84417dee493c5e5a06"
       },
       "datasets": {
        "data-a92ac1bde1a73d84417dee493c5e5a06": [
         {
          "day": "3",
          "end": "2003-03-27T07:12:41",
          "index": 1,
          "start": "2003-03-27T06:44:06"
         },
         {
          "day": "3",
          "end": "2003-03-27T12:26:27",
          "index": 17,
          "start": "2003-03-27T07:34:47"
         },
         {
          "day": "3",
          "end": "2003-03-27T18:41:03",
          "index": 77,
          "start": "2003-03-27T17:43:13"
         },
         {
          "day": "4",
          "end": "2003-03-28T16:34:50",
          "index": 98,
          "start": "2003-03-28T12:31:01"
         },
         {
          "day": "4",
          "end": "2003-03-28T16:34:50",
          "index": 99,
          "start": "2003-03-28T12:31:01"
         },
         {
          "day": "4",
          "end": "2003-03-28T18:37:06",
          "index": 126,
          "start": "2003-03-28T17:42:41"
         },
         {
          "day": "4",
          "end": "2003-03-28T22:16:00",
          "index": 168,
          "start": "2003-03-28T20:51:02"
         },
         {
          "day": "4",
          "end": "2003-03-28T22:16:00",
          "index": 169,
          "start": "2003-03-28T20:51:02"
         },
         {
          "day": "5",
          "end": "2003-03-29T08:24:52",
          "index": 206,
          "start": "2003-03-29T08:24:51"
         },
         {
          "day": "5",
          "end": "2003-03-29T09:45:17",
          "index": 207,
          "start": "2003-03-29T08:55:18"
         },
         {
          "day": "5",
          "end": "2003-03-29T15:37:10",
          "index": 243,
          "start": "2003-03-29T12:00:31"
         },
         {
          "day": "5",
          "end": "2003-03-29T15:43:20",
          "index": 510,
          "start": "2003-03-29T15:43:19"
         },
         {
          "day": "5",
          "end": "2003-03-29T17:13:54",
          "index": 641,
          "start": "2003-03-29T16:48:03"
         },
         {
          "day": "5",
          "end": "2003-03-29T22:16:01",
          "index": 645,
          "start": "2003-03-29T18:19:51"
         },
         {
          "day": "5",
          "end": "2003-03-29T22:28:41",
          "index": 679,
          "start": "2003-03-29T22:28:40"
         },
         {
          "day": "5",
          "end": "2003-03-29T23:10:49",
          "index": 685,
          "start": "2003-03-29T23:10:48"
         },
         {
          "day": "6",
          "end": "2003-03-30T08:01:56",
          "index": 722,
          "start": "2003-03-30T08:01:55"
         },
         {
          "day": "6",
          "end": "2003-03-30T08:44:10",
          "index": 724,
          "start": "2003-03-30T08:14:05"
         },
         {
          "day": "6",
          "end": "2003-03-30T12:45:21",
          "index": 740,
          "start": "2003-03-30T11:00:19"
         },
         {
          "day": "6",
          "end": "2003-03-30T13:19:01",
          "index": 760,
          "start": "2003-03-30T13:05:48"
         },
         {
          "day": "6",
          "end": "2003-03-30T21:10:42",
          "index": 806,
          "start": "2003-03-30T15:52:34"
         },
         {
          "day": "0",
          "end": "2003-03-31T09:13:45",
          "index": 839,
          "start": "2003-03-31T08:58:54"
         },
         {
          "day": "0",
          "end": "2003-03-31T17:13:53",
          "index": 865,
          "start": "2003-03-31T12:05:27"
         },
         {
          "day": "0",
          "end": "2003-03-31T19:43:39",
          "index": 888,
          "start": "2003-03-31T19:36:38"
         },
         {
          "day": "1",
          "end": "2003-04-01T06:57:39",
          "index": 901,
          "start": "2003-04-01T06:14:36"
         },
         {
          "day": "1",
          "end": "2003-04-01T16:35:49",
          "index": 938,
          "start": "2003-04-01T11:55:43"
         },
         {
          "day": "1",
          "end": "2003-04-01T18:10:57",
          "index": 961,
          "start": "2003-04-01T17:39:37"
         },
         {
          "day": "1",
          "end": "2003-04-01T21:05:20",
          "index": 965,
          "start": "2003-04-01T20:51:52"
         },
         {
          "day": "1",
          "end": "2003-04-01T23:10:23",
          "index": 981,
          "start": "2003-04-01T21:21:13"
         },
         {
          "day": "2",
          "end": "2003-04-02T11:25:03",
          "index": 994,
          "start": "2003-04-02T07:13:48"
         },
         {
          "day": "2",
          "end": "2003-04-02T16:44:37",
          "index": 1119,
          "start": "2003-04-02T12:12:04"
         },
         {
          "day": "3",
          "end": "2003-04-03T08:05:19",
          "index": 1197,
          "start": "2003-04-03T08:05:17"
         },
         {
          "day": "3",
          "end": "2003-04-03T09:26:08",
          "index": 1204,
          "start": "2003-04-03T08:47:33"
         },
         {
          "day": "3",
          "end": "2003-04-03T17:47:37",
          "index": 1265,
          "start": "2003-04-03T13:57:31"
         },
         {
          "day": "3",
          "end": "2003-04-03T22:08:48",
          "index": 1311,
          "start": "2003-04-03T20:20:51"
         },
         {
          "day": "4",
          "end": "2003-04-04T06:42:22",
          "index": 1342,
          "start": "2003-04-04T06:12:20"
         },
         {
          "day": "4",
          "end": "2003-04-04T14:02:12",
          "index": 1419,
          "start": "2003-04-04T12:30:30"
         },
         {
          "day": "4",
          "end": "2003-04-04T14:02:12",
          "index": 1420,
          "start": "2003-04-04T12:30:30"
         },
         {
          "day": "4",
          "end": "2003-04-04T16:43:31",
          "index": 1454,
          "start": "2003-04-04T14:56:40"
         },
         {
          "day": "5",
          "end": "2003-04-05T17:23:41",
          "index": 1603,
          "start": "2003-04-05T16:09:08"
         },
         {
          "day": "5",
          "end": "2003-04-05T20:27:32",
          "index": 1630,
          "start": "2003-04-05T17:57:19"
         },
         {
          "day": "5",
          "end": "2003-04-05T22:45:58",
          "index": 1657,
          "start": "2003-04-05T22:16:30"
         },
         {
          "day": "5",
          "end": "2003-04-05T22:45:58",
          "index": 1658,
          "start": "2003-04-05T22:16:30"
         },
         {
          "day": "6",
          "end": "2003-04-06T08:19:47",
          "index": 1687,
          "start": "2003-04-06T08:04:57"
         },
         {
          "day": "6",
          "end": "2003-04-06T09:42:16",
          "index": 1697,
          "start": "2003-04-06T08:53:48"
         },
         {
          "day": "6",
          "end": "2003-04-06T16:57:15",
          "index": 1800,
          "start": "2003-04-06T15:33:28"
         },
         {
          "day": "6",
          "end": "2003-04-06T17:39:31",
          "index": 1813,
          "start": "2003-04-06T17:38:08"
         },
         {
          "day": "6",
          "end": "2003-04-06T18:16:06",
          "index": 1817,
          "start": "2003-04-06T17:39:32"
         },
         {
          "day": "6",
          "end": "2003-04-06T18:22:56",
          "index": 1826,
          "start": "2003-04-06T18:17:47"
         },
         {
          "day": "6",
          "end": "2003-04-06T21:36:22",
          "index": 1873,
          "start": "2003-04-06T20:58:32"
         },
         {
          "day": "0",
          "end": "2003-04-07T07:11:58",
          "index": 1880,
          "start": "2003-04-07T04:40:01"
         },
         {
          "day": "0",
          "end": "2003-04-07T07:53:49",
          "index": 1900,
          "start": "2003-04-07T07:29:55"
         },
         {
          "day": "0",
          "end": "2003-04-07T16:41:39",
          "index": 1956,
          "start": "2003-04-07T13:14:18"
         },
         {
          "day": "0",
          "end": "2003-04-07T17:45:55",
          "index": 1970,
          "start": "2003-04-07T16:43:29"
         },
         {
          "day": "0",
          "end": "2003-04-07T20:17:55",
          "index": 1994,
          "start": "2003-04-07T18:51:34"
         },
         {
          "day": "0",
          "end": "2003-04-07T20:17:55",
          "index": 1995,
          "start": "2003-04-07T18:51:34"
         },
         {
          "day": "1",
          "end": "2003-04-08T11:26:00",
          "index": 2039,
          "start": "2003-04-08T07:10:13"
         },
         {
          "day": "1",
          "end": "2003-04-08T17:16:43",
          "index": 2066,
          "start": "2003-04-08T15:41:39"
         },
         {
          "day": "1",
          "end": "2003-04-08T21:16:11",
          "index": 2098,
          "start": "2003-04-08T20:54:30"
         },
         {
          "day": "2",
          "end": "2003-04-09T08:05:49",
          "index": 2135,
          "start": "2003-04-09T07:12:47"
         },
         {
          "day": "2",
          "end": "2003-04-09T10:54:55",
          "index": 2148,
          "start": "2003-04-09T08:43:32"
         },
         {
          "day": "2",
          "end": "2003-04-09T16:03:54",
          "index": 2234,
          "start": "2003-04-09T15:07:49"
         },
         {
          "day": "2",
          "end": "2003-04-09T18:44:58",
          "index": 2257,
          "start": "2003-04-09T16:23:59"
         },
         {
          "day": "2",
          "end": "2003-04-09T20:11:12",
          "index": 2279,
          "start": "2003-04-09T19:44:39"
         },
         {
          "day": "2",
          "end": "2003-04-09T21:37:58",
          "index": 2298,
          "start": "2003-04-09T21:20:20"
         },
         {
          "day": "2",
          "end": "2003-04-09T21:37:58",
          "index": 2299,
          "start": "2003-04-09T21:20:20"
         },
         {
          "day": "3",
          "end": "2003-04-10T11:20:51",
          "index": 2306,
          "start": "2003-04-10T08:19:09"
         },
         {
          "day": "3",
          "end": "2003-04-10T13:02:12",
          "index": 2457,
          "start": "2003-04-10T13:00:03"
         },
         {
          "day": "3",
          "end": "2003-04-10T14:43:00",
          "index": 2468,
          "start": "2003-04-10T13:23:47"
         },
         {
          "day": "3",
          "end": "2003-04-10T18:29:51",
          "index": 2487,
          "start": "2003-04-10T18:02:46"
         },
         {
          "day": "3",
          "end": "2003-04-10T19:59:44",
          "index": 2516,
          "start": "2003-04-10T19:16:03"
         },
         {
          "day": "3",
          "end": "2003-04-10T19:59:44",
          "index": 2517,
          "start": "2003-04-10T19:16:03"
         },
         {
          "day": "3",
          "end": "2003-04-10T21:11:10",
          "index": 2538,
          "start": "2003-04-10T20:28:23"
         },
         {
          "day": "4",
          "end": "2003-04-11T08:26:12",
          "index": 2556,
          "start": "2003-04-11T08:26:11"
         },
         {
          "day": "4",
          "end": "2003-04-11T09:07:45",
          "index": 2560,
          "start": "2003-04-11T09:06:17"
         },
         {
          "day": "4",
          "end": "2003-04-11T09:40:21",
          "index": 2563,
          "start": "2003-04-11T09:40:20"
         },
         {
          "day": "4",
          "end": "2003-04-11T17:47:59",
          "index": 2699,
          "start": "2003-04-11T15:55:13"
         },
         {
          "day": "4",
          "end": "2003-04-11T17:47:59",
          "index": 2700,
          "start": "2003-04-11T15:55:13"
         },
         {
          "day": "4",
          "end": "2003-04-11T20:04:54",
          "index": 2720,
          "start": "2003-04-11T19:31:10"
         }
        ]
       },
       "encoding": {
        "color": {
         "condition": {
          "test": "(datum.day > 4)",
          "value": "orange"
         },
         "value": "grey"
        },
        "detail": {
         "field": "index",
         "type": "quantitative"
        },
        "x": {
         "field": "start",
         "timeUnit": "hoursminutes",
         "type": "temporal"
        },
        "x2": {
         "field": "end",
         "timeUnit": "hoursminutes"
        },
        "y": {
         "field": "start",
         "timeUnit": "date",
         "type": "ordinal"
        }
       },
       "mark": "bar",
       "selection": {
        "selector002": {
         "bind": "scales",
         "encodings": [
          "x",
          "y"
         ],
         "type": "interval"
        }
       },
       "title": "Sub-activity: bathroom_toiletflush // Sub-activity number: 100",
       "width": 680
      },
      "text/plain": [
       "<VegaLite 3 object>\n",
       "\n",
       "If you see this message, it means the renderer has not been properly enabled\n",
       "for the frontend that you are using. For more information, see\n",
       "https://altair-viz.github.io/user_guide/troubleshooting.html\n"
      ]
     },
     "execution_count": 40,
     "metadata": {},
     "output_type": "execute_result"
    }
   ],
   "source": [
    "# Example charts\n",
    "charts[1]"
   ]
  },
  {
   "cell_type": "markdown",
   "metadata": {
    "hidden": true
   },
   "source": []
  },
  {
   "cell_type": "markdown",
   "metadata": {
    "hidden": true
   },
   "source": [
    "1. Set specified column as index\n",
    "2. Extract dayofweek from index (ds.index.dayofweek.astype(str)), as this as an attribute\n",
    "3. Replace '0' with 'mon' and so on\n",
    "4. Duplicate...\n",
    "* Intermittant and persistant??? Definitions..."
   ]
  },
  {
   "cell_type": "markdown",
   "metadata": {
    "heading_collapsed": true
   },
   "source": [
    "###  SubActivity Cleansing - Outlier Removal"
   ]
  },
  {
   "cell_type": "markdown",
   "metadata": {
    "hidden": true
   },
   "source": [
    "TEXT"
   ]
  },
  {
   "cell_type": "markdown",
   "metadata": {
    "heading_collapsed": true,
    "hidden": true
   },
   "source": [
    "#### Bathroom - Toilet Flush, Sub-activity # 100"
   ]
  },
  {
   "cell_type": "code",
   "execution_count": 41,
   "metadata": {
    "ExecuteTime": {
     "end_time": "2019-11-03T07:17:45.438171Z",
     "start_time": "2019-11-03T07:17:45.432552Z"
    },
    "hidden": true
   },
   "outputs": [],
   "source": [
    "# Toilet Duration Chart"
   ]
  },
  {
   "cell_type": "markdown",
   "metadata": {
    "hidden": true
   },
   "source": [
    "Text"
   ]
  },
  {
   "cell_type": "code",
   "execution_count": 42,
   "metadata": {
    "ExecuteTime": {
     "end_time": "2019-11-03T07:17:45.478520Z",
     "start_time": "2019-11-03T07:17:45.443707Z"
    },
    "hidden": true
   },
   "outputs": [],
   "source": [
    "%run -i cleanToilet.py"
   ]
  },
  {
   "cell_type": "markdown",
   "metadata": {
    "heading_collapsed": true,
    "hidden": true
   },
   "source": [
    "#### Dropping Values"
   ]
  },
  {
   "cell_type": "markdown",
   "metadata": {
    "hidden": true
   },
   "source": []
  },
  {
   "cell_type": "code",
   "execution_count": 43,
   "metadata": {
    "ExecuteTime": {
     "end_time": "2019-11-03T07:17:45.500702Z",
     "start_time": "2019-11-03T07:17:45.486734Z"
    },
    "hidden": true
   },
   "outputs": [
    {
     "name": "stdout",
     "output_type": "stream",
     "text": [
      "38\n"
     ]
    }
   ],
   "source": [
    "%run -i countUnique.py"
   ]
  },
  {
   "cell_type": "markdown",
   "metadata": {
    "hidden": true
   },
   "source": [
    "Based on the investigation of the strip plots + XYZ\n",
    "\n",
    "```Python\n",
    "# valueDrop.py\n",
    "ds = ds[ds.subAct != 'bedroom_jewelrybox']\n",
    "ds = ds[ds.subAct != 'foyer_closet']\n",
    "ds = ds[ds.subAct != 'kitchen_cereal']\n",
    "ds = ds[ds.subAct != 'kitchen_containers']\n",
    "ds = ds[ds.subAct != 'bedroom_lamp']\n",
    "ds = ds[ds.subAct != 'livingroom_dvd']\n",
    "```"
   ]
  },
  {
   "cell_type": "code",
   "execution_count": 44,
   "metadata": {
    "ExecuteTime": {
     "end_time": "2019-11-03T07:17:45.527329Z",
     "start_time": "2019-11-03T07:17:45.505868Z"
    },
    "hidden": true
   },
   "outputs": [],
   "source": [
    "# Jewelry + foyer closet + cereal + containers + lamp\n",
    "%run -i valueDrop.py"
   ]
  },
  {
   "cell_type": "code",
   "execution_count": 45,
   "metadata": {
    "ExecuteTime": {
     "end_time": "2019-11-03T07:17:45.542459Z",
     "start_time": "2019-11-03T07:17:45.533812Z"
    },
    "hidden": true
   },
   "outputs": [
    {
     "name": "stdout",
     "output_type": "stream",
     "text": [
      "32\n"
     ]
    }
   ],
   "source": [
    "%run -i countUnique.py"
   ]
  },
  {
   "cell_type": "code",
   "execution_count": 46,
   "metadata": {
    "ExecuteTime": {
     "end_time": "2019-11-03T07:17:45.603742Z",
     "start_time": "2019-11-03T07:17:45.546164Z"
    },
    "hidden": true
   },
   "outputs": [],
   "source": [
    "# NAME CHANGE?\n",
    "ds.to_csv('S1SubActivities_temporalFeaturesNoDUPES.csv', index = False)"
   ]
  },
  {
   "cell_type": "markdown",
   "metadata": {
    "heading_collapsed": true,
    "hidden": true
   },
   "source": [
    "#### Filling outliers with Median"
   ]
  },
  {
   "cell_type": "markdown",
   "metadata": {
    "hidden": true
   },
   "source": [
    "Based on strip plot and so on"
   ]
  },
  {
   "cell_type": "code",
   "execution_count": 47,
   "metadata": {
    "ExecuteTime": {
     "end_time": "2019-11-03T07:17:45.618315Z",
     "start_time": "2019-11-03T07:17:45.608415Z"
    },
    "hidden": true
   },
   "outputs": [],
   "source": [
    "subActNames = ['bathroom_cabinet', 'bathroom_medicinecabinet', 'study_drawer',\n",
    "               'bedroom_drawer', 'kitchen_cabinet', 'kitchen_microwave',\n",
    "               'kitchen_door', 'bathroom_showerfaucet', 'kitchen_drawer',\n",
    "               'bathroom_sinkfaucet-hot', 'kitchen_freezer', 'bathroom_door',\n",
    "               'kitchen_toaster', 'kitchen_lightswitch', 'study_lightwitch',\n",
    "               'kitchen_dishwasher', 'livingroom_lightswitch']"
   ]
  },
  {
   "cell_type": "code",
   "execution_count": 48,
   "metadata": {
    "ExecuteTime": {
     "end_time": "2019-11-03T07:17:45.801506Z",
     "start_time": "2019-11-03T07:17:45.620902Z"
    },
    "hidden": true
   },
   "outputs": [],
   "source": [
    "%run -i determineMeanMedian.py"
   ]
  },
  {
   "cell_type": "code",
   "execution_count": 49,
   "metadata": {
    "ExecuteTime": {
     "end_time": "2019-11-03T07:17:45.843020Z",
     "start_time": "2019-11-03T07:17:45.806224Z"
    },
    "hidden": true
   },
   "outputs": [
    {
     "data": {
      "text/html": [
       "<div>\n",
       "<style scoped>\n",
       "    .dataframe tbody tr th:only-of-type {\n",
       "        vertical-align: middle;\n",
       "    }\n",
       "\n",
       "    .dataframe tbody tr th {\n",
       "        vertical-align: top;\n",
       "    }\n",
       "\n",
       "    .dataframe thead th {\n",
       "        text-align: right;\n",
       "    }\n",
       "</style>\n",
       "<table border=\"1\" class=\"dataframe\">\n",
       "  <thead>\n",
       "    <tr style=\"text-align: right;\">\n",
       "      <th></th>\n",
       "      <th>SubAct</th>\n",
       "      <th>Count</th>\n",
       "      <th>Median</th>\n",
       "      <th>Mean</th>\n",
       "      <th>Std</th>\n",
       "    </tr>\n",
       "  </thead>\n",
       "  <tbody>\n",
       "    <tr>\n",
       "      <th>0</th>\n",
       "      <td>bathroom_cabinet</td>\n",
       "      <td>104</td>\n",
       "      <td>3.0</td>\n",
       "      <td>459.221154</td>\n",
       "      <td>3176.163323</td>\n",
       "    </tr>\n",
       "    <tr>\n",
       "      <th>1</th>\n",
       "      <td>bathroom_medicinecabinet</td>\n",
       "      <td>194</td>\n",
       "      <td>87.0</td>\n",
       "      <td>3187.974227</td>\n",
       "      <td>7354.142408</td>\n",
       "    </tr>\n",
       "    <tr>\n",
       "      <th>2</th>\n",
       "      <td>study_drawer</td>\n",
       "      <td>45</td>\n",
       "      <td>5.0</td>\n",
       "      <td>1633.488889</td>\n",
       "      <td>5432.406346</td>\n",
       "    </tr>\n",
       "    <tr>\n",
       "      <th>3</th>\n",
       "      <td>bedroom_drawer</td>\n",
       "      <td>99</td>\n",
       "      <td>9.0</td>\n",
       "      <td>272.474747</td>\n",
       "      <td>1918.726179</td>\n",
       "    </tr>\n",
       "    <tr>\n",
       "      <th>4</th>\n",
       "      <td>kitchen_cabinet</td>\n",
       "      <td>406</td>\n",
       "      <td>6.0</td>\n",
       "      <td>111.820197</td>\n",
       "      <td>1864.012246</td>\n",
       "    </tr>\n",
       "    <tr>\n",
       "      <th>5</th>\n",
       "      <td>kitchen_microwave</td>\n",
       "      <td>61</td>\n",
       "      <td>5.0</td>\n",
       "      <td>376.409836</td>\n",
       "      <td>2868.667916</td>\n",
       "    </tr>\n",
       "    <tr>\n",
       "      <th>6</th>\n",
       "      <td>kitchen_door</td>\n",
       "      <td>134</td>\n",
       "      <td>3.0</td>\n",
       "      <td>45.111940</td>\n",
       "      <td>174.185652</td>\n",
       "    </tr>\n",
       "    <tr>\n",
       "      <th>7</th>\n",
       "      <td>bathroom_showerfaucet</td>\n",
       "      <td>88</td>\n",
       "      <td>14.0</td>\n",
       "      <td>1753.352273</td>\n",
       "      <td>6540.729518</td>\n",
       "    </tr>\n",
       "    <tr>\n",
       "      <th>8</th>\n",
       "      <td>kitchen_drawer</td>\n",
       "      <td>208</td>\n",
       "      <td>3.0</td>\n",
       "      <td>144.062500</td>\n",
       "      <td>1727.576706</td>\n",
       "    </tr>\n",
       "    <tr>\n",
       "      <th>9</th>\n",
       "      <td>bathroom_sinkfaucet-hot</td>\n",
       "      <td>169</td>\n",
       "      <td>10.0</td>\n",
       "      <td>56.905325</td>\n",
       "      <td>501.272871</td>\n",
       "    </tr>\n",
       "    <tr>\n",
       "      <th>10</th>\n",
       "      <td>kitchen_freezer</td>\n",
       "      <td>130</td>\n",
       "      <td>38.0</td>\n",
       "      <td>1737.107692</td>\n",
       "      <td>4512.573808</td>\n",
       "    </tr>\n",
       "    <tr>\n",
       "      <th>11</th>\n",
       "      <td>bathroom_door</td>\n",
       "      <td>73</td>\n",
       "      <td>16.0</td>\n",
       "      <td>460.616438</td>\n",
       "      <td>2310.811556</td>\n",
       "    </tr>\n",
       "    <tr>\n",
       "      <th>12</th>\n",
       "      <td>kitchen_toaster</td>\n",
       "      <td>71</td>\n",
       "      <td>4.0</td>\n",
       "      <td>789.366197</td>\n",
       "      <td>3793.674375</td>\n",
       "    </tr>\n",
       "    <tr>\n",
       "      <th>13</th>\n",
       "      <td>kitchen_lightswitch</td>\n",
       "      <td>32</td>\n",
       "      <td>4453.0</td>\n",
       "      <td>9317.718750</td>\n",
       "      <td>13081.340412</td>\n",
       "    </tr>\n",
       "    <tr>\n",
       "      <th>14</th>\n",
       "      <td>study_lightwitch</td>\n",
       "      <td>26</td>\n",
       "      <td>1727.5</td>\n",
       "      <td>6429.730769</td>\n",
       "      <td>11002.302517</td>\n",
       "    </tr>\n",
       "    <tr>\n",
       "      <th>15</th>\n",
       "      <td>kitchen_dishwasher</td>\n",
       "      <td>86</td>\n",
       "      <td>62.5</td>\n",
       "      <td>1517.406977</td>\n",
       "      <td>4146.637482</td>\n",
       "    </tr>\n",
       "    <tr>\n",
       "      <th>16</th>\n",
       "      <td>livingroom_lightswitch</td>\n",
       "      <td>8</td>\n",
       "      <td>6351.5</td>\n",
       "      <td>12544.125000</td>\n",
       "      <td>15556.662849</td>\n",
       "    </tr>\n",
       "  </tbody>\n",
       "</table>\n",
       "</div>"
      ],
      "text/plain": [
       "                      SubAct  Count  Median          Mean           Std\n",
       "0           bathroom_cabinet    104     3.0    459.221154   3176.163323\n",
       "1   bathroom_medicinecabinet    194    87.0   3187.974227   7354.142408\n",
       "2               study_drawer     45     5.0   1633.488889   5432.406346\n",
       "3             bedroom_drawer     99     9.0    272.474747   1918.726179\n",
       "4            kitchen_cabinet    406     6.0    111.820197   1864.012246\n",
       "5          kitchen_microwave     61     5.0    376.409836   2868.667916\n",
       "6               kitchen_door    134     3.0     45.111940    174.185652\n",
       "7      bathroom_showerfaucet     88    14.0   1753.352273   6540.729518\n",
       "8             kitchen_drawer    208     3.0    144.062500   1727.576706\n",
       "9    bathroom_sinkfaucet-hot    169    10.0     56.905325    501.272871\n",
       "10           kitchen_freezer    130    38.0   1737.107692   4512.573808\n",
       "11             bathroom_door     73    16.0    460.616438   2310.811556\n",
       "12           kitchen_toaster     71     4.0    789.366197   3793.674375\n",
       "13       kitchen_lightswitch     32  4453.0   9317.718750  13081.340412\n",
       "14          study_lightwitch     26  1727.5   6429.730769  11002.302517\n",
       "15        kitchen_dishwasher     86    62.5   1517.406977   4146.637482\n",
       "16    livingroom_lightswitch      8  6351.5  12544.125000  15556.662849"
      ]
     },
     "execution_count": 49,
     "metadata": {},
     "output_type": "execute_result"
    }
   ],
   "source": [
    "allMedianValues"
   ]
  },
  {
   "cell_type": "code",
   "execution_count": 50,
   "metadata": {
    "ExecuteTime": {
     "end_time": "2019-11-03T07:17:46.303799Z",
     "start_time": "2019-11-03T07:17:45.850907Z"
    },
    "hidden": true
   },
   "outputs": [],
   "source": [
    "%run -i cleanseOutliers.py"
   ]
  },
  {
   "cell_type": "code",
   "execution_count": 51,
   "metadata": {
    "ExecuteTime": {
     "end_time": "2019-11-03T07:17:46.351756Z",
     "start_time": "2019-11-03T07:17:46.306659Z"
    },
    "hidden": true
   },
   "outputs": [
    {
     "data": {
      "text/html": [
       "<div>\n",
       "<style scoped>\n",
       "    .dataframe tbody tr th:only-of-type {\n",
       "        vertical-align: middle;\n",
       "    }\n",
       "\n",
       "    .dataframe tbody tr th {\n",
       "        vertical-align: top;\n",
       "    }\n",
       "\n",
       "    .dataframe thead th {\n",
       "        text-align: right;\n",
       "    }\n",
       "</style>\n",
       "<table border=\"1\" class=\"dataframe\">\n",
       "  <thead>\n",
       "    <tr style=\"text-align: right;\">\n",
       "      <th></th>\n",
       "      <th>subActNum</th>\n",
       "      <th>subAct</th>\n",
       "      <th>start</th>\n",
       "      <th>end</th>\n",
       "      <th>dayNumeric</th>\n",
       "      <th>DAY</th>\n",
       "      <th>WDWE</th>\n",
       "      <th>HOUR</th>\n",
       "      <th>durationSec</th>\n",
       "    </tr>\n",
       "  </thead>\n",
       "  <tbody>\n",
       "    <tr>\n",
       "      <th>0</th>\n",
       "      <td>67</td>\n",
       "      <td>bathroom_cabinet</td>\n",
       "      <td>2003-03-27 06:43:40</td>\n",
       "      <td>2003-03-27 06:43:43</td>\n",
       "      <td>3</td>\n",
       "      <td>Thu</td>\n",
       "      <td>WD</td>\n",
       "      <td>6</td>\n",
       "      <td>4</td>\n",
       "    </tr>\n",
       "    <tr>\n",
       "      <th>1</th>\n",
       "      <td>100</td>\n",
       "      <td>bathroom_toiletflush</td>\n",
       "      <td>2003-03-27 06:44:06</td>\n",
       "      <td>2003-03-27 06:44:07</td>\n",
       "      <td>3</td>\n",
       "      <td>Thu</td>\n",
       "      <td>WD</td>\n",
       "      <td>6</td>\n",
       "      <td>2</td>\n",
       "    </tr>\n",
       "    <tr>\n",
       "      <th>2</th>\n",
       "      <td>101</td>\n",
       "      <td>bathroom_lightswitch</td>\n",
       "      <td>2003-03-27 06:44:20</td>\n",
       "      <td>2003-03-27 07:46:34</td>\n",
       "      <td>3</td>\n",
       "      <td>Thu</td>\n",
       "      <td>WD</td>\n",
       "      <td>6</td>\n",
       "      <td>3735</td>\n",
       "    </tr>\n",
       "    <tr>\n",
       "      <th>3</th>\n",
       "      <td>57</td>\n",
       "      <td>bathroom_medicinecabinet</td>\n",
       "      <td>2003-03-27 06:44:35</td>\n",
       "      <td>2003-03-27 06:44:48</td>\n",
       "      <td>3</td>\n",
       "      <td>Thu</td>\n",
       "      <td>WD</td>\n",
       "      <td>6</td>\n",
       "      <td>14</td>\n",
       "    </tr>\n",
       "    <tr>\n",
       "      <th>4</th>\n",
       "      <td>57</td>\n",
       "      <td>bathroom_medicinecabinet</td>\n",
       "      <td>2003-03-27 06:44:36</td>\n",
       "      <td>2003-03-27 06:44:48</td>\n",
       "      <td>3</td>\n",
       "      <td>Thu</td>\n",
       "      <td>WD</td>\n",
       "      <td>6</td>\n",
       "      <td>13</td>\n",
       "    </tr>\n",
       "  </tbody>\n",
       "</table>\n",
       "</div>"
      ],
      "text/plain": [
       "   subActNum                    subAct               start  \\\n",
       "0         67          bathroom_cabinet 2003-03-27 06:43:40   \n",
       "1        100      bathroom_toiletflush 2003-03-27 06:44:06   \n",
       "2        101      bathroom_lightswitch 2003-03-27 06:44:20   \n",
       "3         57  bathroom_medicinecabinet 2003-03-27 06:44:35   \n",
       "4         57  bathroom_medicinecabinet 2003-03-27 06:44:36   \n",
       "\n",
       "                  end dayNumeric  DAY WDWE  HOUR  durationSec  \n",
       "0 2003-03-27 06:43:43          3  Thu   WD     6            4  \n",
       "1 2003-03-27 06:44:07          3  Thu   WD     6            2  \n",
       "2 2003-03-27 07:46:34          3  Thu   WD     6         3735  \n",
       "3 2003-03-27 06:44:48          3  Thu   WD     6           14  \n",
       "4 2003-03-27 06:44:48          3  Thu   WD     6           13  "
      ]
     },
     "execution_count": 51,
     "metadata": {},
     "output_type": "execute_result"
    }
   ],
   "source": [
    "ds.head()"
   ]
  },
  {
   "cell_type": "code",
   "execution_count": 52,
   "metadata": {
    "ExecuteTime": {
     "end_time": "2019-11-03T07:17:46.447859Z",
     "start_time": "2019-11-03T07:17:46.361198Z"
    },
    "hidden": true
   },
   "outputs": [],
   "source": [
    "ds.to_csv('S1SubActivities_temporalFeaturesCLEANSED.csv', index = False)"
   ]
  },
  {
   "cell_type": "markdown",
   "metadata": {
    "heading_collapsed": true
   },
   "source": [
    "### Subactivity Visualisation "
   ]
  },
  {
   "cell_type": "markdown",
   "metadata": {
    "hidden": true
   },
   "source": []
  },
  {
   "cell_type": "code",
   "execution_count": null,
   "metadata": {
    "hidden": true
   },
   "outputs": [],
   "source": []
  },
  {
   "cell_type": "markdown",
   "metadata": {
    "hidden": true
   },
   "source": [
    "##### Livingroom DVD"
   ]
  },
  {
   "cell_type": "markdown",
   "metadata": {
    "hidden": true
   },
   "source": [
    "DROPPED - One value only * 2"
   ]
  },
  {
   "cell_type": "markdown",
   "metadata": {
    "ExecuteTime": {
     "end_time": "2019-11-02T11:09:02.521879Z",
     "start_time": "2019-11-02T11:09:02.504276Z"
    },
    "hidden": true
   },
   "source": [
    "<center>\n",
    "    <img src=\"images/subAct56.png\" title=\"Test Title\" alt=\"Alt text\" />\n",
    "    <i> MENTION THIS FROM Huang et al. </i> <br>\n",
    "</center>\n",
    "\n",
    "---"
   ]
  },
  {
   "cell_type": "markdown",
   "metadata": {
    "ExecuteTime": {
     "end_time": "2019-11-02T14:24:56.955718Z",
     "start_time": "2019-11-02T14:24:56.931925Z"
    },
    "code_folding": [],
    "hidden": true
   },
   "source": [
    "##### Bathroom Medicine Cabinet"
   ]
  },
  {
   "cell_type": "markdown",
   "metadata": {
    "hidden": true
   },
   "source": [
    "Text"
   ]
  },
  {
   "cell_type": "markdown",
   "metadata": {
    "ExecuteTime": {
     "end_time": "2019-11-02T11:09:02.521879Z",
     "start_time": "2019-11-02T11:09:02.504276Z"
    },
    "hidden": true
   },
   "source": [
    "<center>\n",
    "    <img src=\"images/subAct57.png\" title=\"Test Title\" alt=\"Alt text\" />\n",
    "    <img src=\"images/subAct57_cleansed.png\" title=\"Test Title\" alt=\"Alt text\" />\n",
    "    <i> MENTION THIS FROM Huang et al. </i> <br>\n",
    "</center>\n",
    "\n",
    "---"
   ]
  },
  {
   "cell_type": "markdown",
   "metadata": {
    "hidden": true
   },
   "source": [
    "##### Kitchen Containers"
   ]
  },
  {
   "cell_type": "markdown",
   "metadata": {
    "hidden": true
   },
   "source": [
    "DROPPED"
   ]
  },
  {
   "cell_type": "markdown",
   "metadata": {
    "ExecuteTime": {
     "end_time": "2019-11-02T11:09:02.521879Z",
     "start_time": "2019-11-02T11:09:02.504276Z"
    },
    "hidden": true
   },
   "source": [
    "<center>\n",
    "    <img src=\"images/subAct60.png\" title=\"Test Title\" alt=\"Alt text\" />\n",
    "    <i> MENTION THIS FROM Huang et al. </i> <br>\n",
    "</center> \n",
    "\n",
    "---"
   ]
  },
  {
   "cell_type": "markdown",
   "metadata": {
    "hidden": true
   },
   "source": [
    "##### Bedroom Lamp"
   ]
  },
  {
   "cell_type": "markdown",
   "metadata": {
    "hidden": true
   },
   "source": [
    "DROPPED"
   ]
  },
  {
   "cell_type": "markdown",
   "metadata": {
    "ExecuteTime": {
     "end_time": "2019-11-02T11:09:02.521879Z",
     "start_time": "2019-11-02T11:09:02.504276Z"
    },
    "hidden": true
   },
   "source": [
    "<center>\n",
    "    <img src=\"images/subAct64.png\" title=\"Test Title\" alt=\"Alt text\" />\n",
    "    <i> MENTION THIS FROM Huang et al. </i> <br>\n",
    "</center> \n",
    "\n",
    "---"
   ]
  },
  {
   "cell_type": "markdown",
   "metadata": {
    "hidden": true
   },
   "source": [
    "##### Bathroom Cabinet"
   ]
  },
  {
   "cell_type": "markdown",
   "metadata": {
    "hidden": true
   },
   "source": [
    "Text"
   ]
  },
  {
   "cell_type": "markdown",
   "metadata": {
    "ExecuteTime": {
     "end_time": "2019-11-02T11:09:02.521879Z",
     "start_time": "2019-11-02T11:09:02.504276Z"
    },
    "hidden": true
   },
   "source": [
    "<center>\n",
    "    <img src=\"images/subAct67.png\" title=\"Test Title\" alt=\"Alt text\" />\n",
    "    <img src=\"images/subAct67_cleansed.png\" title=\"Test Title\" alt=\"Alt text\" />\n",
    "    <i> MENTION THIS FROM Huang et al. </i> <br>\n",
    "</center> \n",
    "\n",
    "---"
   ]
  },
  {
   "cell_type": "markdown",
   "metadata": {
    "hidden": true
   },
   "source": [
    "##### Bathroom Sickfaucet - Hot"
   ]
  },
  {
   "cell_type": "markdown",
   "metadata": {
    "hidden": true
   },
   "source": [
    "Text"
   ]
  },
  {
   "cell_type": "markdown",
   "metadata": {
    "ExecuteTime": {
     "end_time": "2019-11-02T11:09:02.521879Z",
     "start_time": "2019-11-02T11:09:02.504276Z"
    },
    "hidden": true
   },
   "source": [
    "<center>\n",
    "    <img src=\"images/subAct68.png\" title=\"Test Title\" alt=\"Alt text\" />\n",
    "    <img src=\"images/subAct68_cleansed.png\" title=\"Test Title\" alt=\"Alt text\" />\n",
    "    <i> MENTION THIS FROM Huang et al. </i> <br>\n",
    "</center> \n",
    "\n",
    "---"
   ]
  },
  {
   "cell_type": "markdown",
   "metadata": {
    "hidden": true
   },
   "source": [
    "##### Kitchen Dishwasher"
   ]
  },
  {
   "cell_type": "markdown",
   "metadata": {
    "hidden": true
   },
   "source": [
    "Text"
   ]
  },
  {
   "cell_type": "markdown",
   "metadata": {
    "ExecuteTime": {
     "end_time": "2019-11-02T11:09:02.521879Z",
     "start_time": "2019-11-02T11:09:02.504276Z"
    },
    "hidden": true
   },
   "source": [
    "<center>\n",
    "    <img src=\"images/subAct70.png\" title=\"Test Title\" alt=\"Alt text\" />\n",
    "    <img src=\"images/subAct70_cleansed.png\" title=\"Test Title\" alt=\"Alt text\" />\n",
    "    <i> MENTION THIS FROM Huang et al. </i> <br>\n",
    "</center>\n",
    "\n",
    "---"
   ]
  },
  {
   "cell_type": "markdown",
   "metadata": {
    "hidden": true
   },
   "source": [
    "##### Livingroom Lamp"
   ]
  },
  {
   "cell_type": "markdown",
   "metadata": {
    "hidden": true
   },
   "source": [
    "Text"
   ]
  },
  {
   "cell_type": "markdown",
   "metadata": {
    "ExecuteTime": {
     "end_time": "2019-11-02T11:09:02.521879Z",
     "start_time": "2019-11-02T11:09:02.504276Z"
    },
    "hidden": true
   },
   "source": [
    "<center>\n",
    "    <img src=\"images/subAct76.png\" title=\"Test Title\" alt=\"Alt text\" />\n",
    "    <i> MENTION THIS FROM Huang et al. </i> <br>\n",
    "</center>\n",
    "\n",
    "---"
   ]
  },
  {
   "cell_type": "markdown",
   "metadata": {
    "hidden": true
   },
   "source": [
    "##### Foyer Closet"
   ]
  },
  {
   "cell_type": "markdown",
   "metadata": {
    "hidden": true
   },
   "source": [
    "DROPPED"
   ]
  },
  {
   "cell_type": "markdown",
   "metadata": {
    "ExecuteTime": {
     "end_time": "2019-11-02T11:09:02.521879Z",
     "start_time": "2019-11-02T11:09:02.504276Z"
    },
    "hidden": true
   },
   "source": [
    "<center>\n",
    "    <img src=\"images/subAct81.png\" title=\"Test Title\" alt=\"Alt text\" />\n",
    "    <i> MENTION THIS FROM Huang et al. </i> <br>\n",
    "</center> \n",
    "\n",
    "---"
   ]
  },
  {
   "cell_type": "markdown",
   "metadata": {
    "hidden": true
   },
   "source": [
    "##### Study Drawer"
   ]
  },
  {
   "cell_type": "markdown",
   "metadata": {
    "hidden": true
   },
   "source": [
    "Text"
   ]
  },
  {
   "cell_type": "markdown",
   "metadata": {
    "ExecuteTime": {
     "end_time": "2019-11-02T11:09:02.521879Z",
     "start_time": "2019-11-02T11:09:02.504276Z"
    },
    "hidden": true
   },
   "source": [
    "<center>\n",
    "    <img src=\"images/subAct82.png\" title=\"Test Title\" alt=\"Alt text\" />\n",
    "    <img src=\"images/subAct82_cleansed.png\" title=\"Test Title\" alt=\"Alt text\" />\n",
    "    <i> MENTION THIS FROM Huang et al. </i> <br>\n",
    "</center> \n",
    "\n",
    "---"
   ]
  },
  {
   "cell_type": "markdown",
   "metadata": {
    "hidden": true
   },
   "source": [
    "##### Bathroom Sickfaucet - Cold"
   ]
  },
  {
   "cell_type": "markdown",
   "metadata": {
    "hidden": true
   },
   "source": [
    "Text"
   ]
  },
  {
   "cell_type": "markdown",
   "metadata": {
    "ExecuteTime": {
     "end_time": "2019-11-02T11:09:02.521879Z",
     "start_time": "2019-11-02T11:09:02.504276Z"
    },
    "hidden": true
   },
   "source": [
    "<center>\n",
    "<img src=\"images/subAct88.png\" title=\"Test Title\" alt=\"Alt text\" />\n",
    "<i> MENTION THIS FROM Huang et al. </i> <br>\n",
    "</center> \n",
    "\n",
    "---"
   ]
  },
  {
   "cell_type": "markdown",
   "metadata": {
    "hidden": true
   },
   "source": [
    "##### Kitchen Laundry Dryer"
   ]
  },
  {
   "cell_type": "markdown",
   "metadata": {
    "hidden": true
   },
   "source": [
    "Text"
   ]
  },
  {
   "cell_type": "markdown",
   "metadata": {
    "ExecuteTime": {
     "end_time": "2019-11-02T11:09:02.521879Z",
     "start_time": "2019-11-02T11:09:02.504276Z"
    },
    "hidden": true
   },
   "source": [
    "<center>\n",
    "    <img src=\"images/subAct90.png\" title=\"Test Title\" alt=\"Alt text\" />\n",
    "    <i> MENTION THIS FROM Huang et al. </i> <br>\n",
    "</center> \n",
    "\n",
    "---"
   ]
  },
  {
   "cell_type": "markdown",
   "metadata": {
    "hidden": true
   },
   "source": [
    "##### Study Lightswitch"
   ]
  },
  {
   "cell_type": "markdown",
   "metadata": {
    "hidden": true
   },
   "source": [
    "Text"
   ]
  },
  {
   "cell_type": "markdown",
   "metadata": {
    "ExecuteTime": {
     "end_time": "2019-11-02T11:09:02.521879Z",
     "start_time": "2019-11-02T11:09:02.504276Z"
    },
    "hidden": true
   },
   "source": [
    "<center>\n",
    "    <img src=\"images/subAct92.png\" title=\"Test Title\" alt=\"Alt text\" />\n",
    "    <img src=\"images/subAct92_cleansed.png\" title=\"Test Title\" alt=\"Alt text\" />\n",
    "    <i> MENTION THIS FROM Huang et al. </i> <br>\n",
    "</center> \n",
    "\n",
    "---"
   ]
  },
  {
   "cell_type": "markdown",
   "metadata": {
    "hidden": true
   },
   "source": [
    "##### Bathroom Shower Faucet"
   ]
  },
  {
   "cell_type": "markdown",
   "metadata": {
    "hidden": true
   },
   "source": [
    "Text"
   ]
  },
  {
   "cell_type": "markdown",
   "metadata": {
    "ExecuteTime": {
     "end_time": "2019-11-02T11:09:02.521879Z",
     "start_time": "2019-11-02T11:09:02.504276Z"
    },
    "hidden": true
   },
   "source": [
    "<center>\n",
    "    <img src=\"images/subAct93.png\" title=\"Test Title\" alt=\"Alt text\" />\n",
    "    <img src=\"images/subAct93_cleansed.png\" title=\"Test Title\" alt=\"Alt text\" />\n",
    "    <i> MENTION THIS FROM Huang et al. </i> <br>\n",
    "</center> \n",
    "\n",
    "---"
   ]
  },
  {
   "cell_type": "markdown",
   "metadata": {
    "hidden": true
   },
   "source": [
    "##### Bathroom Exhaust Fan"
   ]
  },
  {
   "cell_type": "markdown",
   "metadata": {
    "hidden": true
   },
   "source": [
    "Text"
   ]
  },
  {
   "cell_type": "markdown",
   "metadata": {
    "ExecuteTime": {
     "end_time": "2019-11-02T11:09:02.521879Z",
     "start_time": "2019-11-02T11:09:02.504276Z"
    },
    "hidden": true
   },
   "source": [
    "<center>\n",
    "    <img src=\"images/subAct96.png\" title=\"Test Title\" alt=\"Alt text\" />\n",
    "    <i> MENTION THIS FROM Huang et al. </i> <br>\n",
    "</center> \n",
    "\n",
    "---"
   ]
  },
  {
   "cell_type": "markdown",
   "metadata": {
    "hidden": true
   },
   "source": [
    "##### Kitchen Garbage Disposal"
   ]
  },
  {
   "cell_type": "markdown",
   "metadata": {
    "hidden": true
   },
   "source": [
    "Text"
   ]
  },
  {
   "cell_type": "markdown",
   "metadata": {
    "ExecuteTime": {
     "end_time": "2019-11-02T11:09:02.521879Z",
     "start_time": "2019-11-02T11:09:02.504276Z"
    },
    "hidden": true
   },
   "source": [
    "<center>\n",
    "    <img src=\"images/subAct98.png\" title=\"Test Title\" alt=\"Alt text\" />\n",
    "    <i> MENTION THIS FROM Huang et al. </i> <br>\n",
    "</center>\n",
    "\n",
    "---"
   ]
  },
  {
   "cell_type": "markdown",
   "metadata": {
    "hidden": true
   },
   "source": [
    "##### Bathroom Toiletflush"
   ]
  },
  {
   "cell_type": "markdown",
   "metadata": {
    "hidden": true
   },
   "source": [
    "Text - ADD LINE SEGMENT CHART"
   ]
  },
  {
   "cell_type": "markdown",
   "metadata": {
    "ExecuteTime": {
     "end_time": "2019-11-02T11:09:02.521879Z",
     "start_time": "2019-11-02T11:09:02.504276Z"
    },
    "hidden": true
   },
   "source": [
    "<center>\n",
    "    <img src=\"images/subAct100.png\" title=\"Test Title\" alt=\"Alt text\" />\n",
    "    <img src=\"images/subAct100_cleansed.png\" title=\"Test Title\" alt=\"Alt text\" />\n",
    "    <i> MENTION THIS FROM Huang et al. </i> <br>\n",
    "</center> \n",
    "\n",
    "**ADD line segment chart**\n",
    "\n",
    "---"
   ]
  },
  {
   "cell_type": "markdown",
   "metadata": {
    "hidden": true
   },
   "source": [
    "##### Bathroom Lightswitch"
   ]
  },
  {
   "cell_type": "markdown",
   "metadata": {
    "hidden": true
   },
   "source": [
    "Text"
   ]
  },
  {
   "cell_type": "markdown",
   "metadata": {
    "ExecuteTime": {
     "end_time": "2019-11-02T11:09:02.521879Z",
     "start_time": "2019-11-02T11:09:02.504276Z"
    },
    "hidden": true
   },
   "source": [
    "<center>\n",
    "    <img src=\"images/subAct101.png\" title=\"Test Title\" alt=\"Alt text\" />\n",
    "    <i> MENTION THIS FROM Huang et al. </i> <br>\n",
    "</center> \n",
    "\n",
    "---"
   ]
  },
  {
   "cell_type": "markdown",
   "metadata": {
    "hidden": true
   },
   "source": [
    "##### Foyer Lightswitch"
   ]
  },
  {
   "cell_type": "markdown",
   "metadata": {
    "hidden": true
   },
   "source": [
    "Text"
   ]
  },
  {
   "cell_type": "markdown",
   "metadata": {
    "ExecuteTime": {
     "end_time": "2019-11-02T11:09:02.521879Z",
     "start_time": "2019-11-02T11:09:02.504276Z"
    },
    "hidden": true
   },
   "source": [
    "<center>\n",
    "    <img src=\"images/subAct104.png\" title=\"Test Title\" alt=\"Alt text\" />\n",
    "    <i> MENTION THIS FROM Huang et al. </i> <br>\n",
    "</center>\n",
    "\n",
    "---"
   ]
  },
  {
   "cell_type": "markdown",
   "metadata": {
    "hidden": true
   },
   "source": [
    "##### Kitchen Lightswitch"
   ]
  },
  {
   "cell_type": "markdown",
   "metadata": {
    "hidden": true
   },
   "source": [
    "Text"
   ]
  },
  {
   "cell_type": "markdown",
   "metadata": {
    "ExecuteTime": {
     "end_time": "2019-11-02T11:09:02.521879Z",
     "start_time": "2019-11-02T11:09:02.504276Z"
    },
    "hidden": true
   },
   "source": [
    "<center>\n",
    "    <img src=\"images/subAct105.png\" title=\"Test Title\" alt=\"Alt text\" />\n",
    "    <img src=\"images/subAct105_cleansed.png\" title=\"Test Title\" alt=\"Alt text\" />\n",
    "    <i> MENTION THIS FROM Huang et al. </i> <br>\n",
    "</center> \n",
    "\n",
    "---"
   ]
  },
  {
   "cell_type": "markdown",
   "metadata": {
    "hidden": true
   },
   "source": [
    "##### Kitchen Burner"
   ]
  },
  {
   "cell_type": "markdown",
   "metadata": {
    "hidden": true
   },
   "source": [
    "Text"
   ]
  },
  {
   "cell_type": "markdown",
   "metadata": {
    "hidden": true
   },
   "source": [
    "<center>\n",
    "    <img src=\"images/subAct106.png\" title=\"Test Title\" alt=\"Alt text\" />\n",
    "    <i> MENTION THIS FROM Huang et al. </i> <br>\n",
    "</center>\n",
    "\n",
    "---"
   ]
  },
  {
   "cell_type": "markdown",
   "metadata": {
    "hidden": true
   },
   "source": [
    "##### Livingroom Lightswitch"
   ]
  },
  {
   "cell_type": "markdown",
   "metadata": {
    "hidden": true
   },
   "source": [
    "Text"
   ]
  },
  {
   "cell_type": "markdown",
   "metadata": {
    "ExecuteTime": {
     "end_time": "2019-11-02T11:09:02.521879Z",
     "start_time": "2019-11-02T11:09:02.504276Z"
    },
    "hidden": true
   },
   "source": [
    "<center>\n",
    "    <img src=\"images/subAct107.png\" title=\"Test Title\" alt=\"Alt text\" />\n",
    "    <img src=\"images/subAct107_cleansed.png\" title=\"Test Title\" alt=\"Alt text\" />\n",
    "    <i> MENTION THIS FROM Huang et al. </i> <br>\n",
    "</center> \n",
    "\n",
    "---"
   ]
  },
  {
   "cell_type": "markdown",
   "metadata": {
    "hidden": true
   },
   "source": [
    "##### Bedroom Lightswitch"
   ]
  },
  {
   "cell_type": "markdown",
   "metadata": {
    "hidden": true
   },
   "source": [
    "Text"
   ]
  },
  {
   "cell_type": "markdown",
   "metadata": {
    "ExecuteTime": {
     "end_time": "2019-11-02T11:09:02.521879Z",
     "start_time": "2019-11-02T11:09:02.504276Z"
    },
    "hidden": true
   },
   "source": [
    "<center>\n",
    "    <img src=\"images/subAct108.png\" title=\"Test Title\" alt=\"Alt text\" />\n",
    "    <i> MENTION THIS FROM Huang et al. </i> <br>\n",
    "</center> \n",
    "\n",
    "---"
   ]
  },
  {
   "cell_type": "markdown",
   "metadata": {
    "hidden": true
   },
   "source": [
    "##### Kitchen Coffee Machine"
   ]
  },
  {
   "cell_type": "markdown",
   "metadata": {
    "hidden": true
   },
   "source": [
    "Text"
   ]
  },
  {
   "cell_type": "markdown",
   "metadata": {
    "ExecuteTime": {
     "end_time": "2019-11-02T11:09:02.521879Z",
     "start_time": "2019-11-02T11:09:02.504276Z"
    },
    "hidden": true
   },
   "source": [
    "<center>\n",
    "    <img src=\"images/subAct119.png\" title=\"Test Title\" alt=\"Alt text\" />\n",
    "    <i> MENTION THIS FROM Huang et al. </i> <br>\n",
    "</center> \n",
    "\n",
    "---"
   ]
  },
  {
   "cell_type": "markdown",
   "metadata": {
    "hidden": true
   },
   "source": [
    "##### Kitchen Drawer"
   ]
  },
  {
   "cell_type": "markdown",
   "metadata": {
    "hidden": true
   },
   "source": [
    "Text"
   ]
  },
  {
   "cell_type": "markdown",
   "metadata": {
    "ExecuteTime": {
     "end_time": "2019-11-02T11:09:02.521879Z",
     "start_time": "2019-11-02T11:09:02.504276Z"
    },
    "hidden": true
   },
   "source": [
    "<center>\n",
    "    <img src=\"images/subAct125.png\" title=\"Test Title\" alt=\"Alt text\" />\n",
    "    <img src=\"images/subAct125_cleansed.png\" title=\"Test Title\" alt=\"Alt text\" />\n",
    "    <i> MENTION THIS FROM Huang et al. </i> <br>\n",
    "</center> \n",
    "\n",
    "---"
   ]
  },
  {
   "cell_type": "markdown",
   "metadata": {
    "hidden": true
   },
   "source": [
    "##### Kitchen Refrigerator"
   ]
  },
  {
   "cell_type": "markdown",
   "metadata": {
    "hidden": true
   },
   "source": [
    "Text"
   ]
  },
  {
   "cell_type": "markdown",
   "metadata": {
    "hidden": true
   },
   "source": [
    "<center>\n",
    "    <img src=\"images/subAct126.png\" title=\"Test Title\" alt=\"Alt text\" />\n",
    "    <i> MENTION THIS FROM Huang et al. </i> <br>\n",
    "</center> \n",
    "\n",
    "---"
   ]
  },
  {
   "cell_type": "markdown",
   "metadata": {
    "hidden": true
   },
   "source": [
    "##### Kitchen Oven"
   ]
  },
  {
   "cell_type": "markdown",
   "metadata": {
    "hidden": true
   },
   "source": [
    "Text"
   ]
  },
  {
   "cell_type": "markdown",
   "metadata": {
    "ExecuteTime": {
     "end_time": "2019-11-02T11:09:02.521879Z",
     "start_time": "2019-11-02T11:09:02.504276Z"
    },
    "hidden": true
   },
   "source": [
    "<center>\n",
    "    <img src=\"images/subAct129.png\" title=\"Test Title\" alt=\"Alt text\" />\n",
    "    <i> MENTION THIS FROM Huang et al. </i> <br>\n",
    "</center> \n",
    "\n",
    "---"
   ]
  },
  {
   "cell_type": "markdown",
   "metadata": {
    "hidden": true
   },
   "source": [
    "##### Bathroom Door"
   ]
  },
  {
   "cell_type": "markdown",
   "metadata": {
    "hidden": true
   },
   "source": [
    "Text"
   ]
  },
  {
   "cell_type": "markdown",
   "metadata": {
    "ExecuteTime": {
     "end_time": "2019-11-02T11:09:02.521879Z",
     "start_time": "2019-11-02T11:09:02.504276Z"
    },
    "hidden": true
   },
   "source": [
    "<center>\n",
    "    <img src=\"images/subAct130.png\" title=\"Test Title\" alt=\"Alt text\" />\n",
    "    <img src=\"images/subAct130_cleansed.png\" title=\"Test Title\" alt=\"Alt text\" />\n",
    "    <i> MENTION THIS FROM Huang et al. </i> <br>\n",
    "</center> \n",
    "\n",
    "---"
   ]
  },
  {
   "cell_type": "markdown",
   "metadata": {
    "hidden": true
   },
   "source": [
    "##### Kitchen Toaster"
   ]
  },
  {
   "cell_type": "markdown",
   "metadata": {
    "hidden": true
   },
   "source": [
    "Text"
   ]
  },
  {
   "cell_type": "markdown",
   "metadata": {
    "ExecuteTime": {
     "end_time": "2019-11-02T11:09:02.521879Z",
     "start_time": "2019-11-02T11:09:02.504276Z"
    },
    "hidden": true
   },
   "source": [
    "<center>\n",
    "    <img src=\"images/subAct131.png\" title=\"Test Title\" alt=\"Alt text\" />\n",
    "    <img src=\"images/subAct131_cleansed.png\" title=\"Test Title\" alt=\"Alt text\" />\n",
    "    <i> MENTION THIS FROM Huang et al. </i> <br>\n",
    "</center> \n",
    "\n",
    "---"
   ]
  },
  {
   "cell_type": "markdown",
   "metadata": {
    "hidden": true
   },
   "source": [
    "##### Kitchen Cabinet"
   ]
  },
  {
   "cell_type": "markdown",
   "metadata": {
    "hidden": true
   },
   "source": [
    "Text"
   ]
  },
  {
   "cell_type": "markdown",
   "metadata": {
    "ExecuteTime": {
     "end_time": "2019-11-02T11:09:02.521879Z",
     "start_time": "2019-11-02T11:09:02.504276Z"
    },
    "hidden": true
   },
   "source": [
    "<center>\n",
    "    <img src=\"images/subAct132.png\" title=\"Test Title\" alt=\"Alt text\" />\n",
    "    <i> MENTION THIS FROM Huang et al. </i> <br>\n",
    "</center> \n",
    "\n",
    "---"
   ]
  },
  {
   "cell_type": "markdown",
   "metadata": {
    "hidden": true
   },
   "source": [
    "##### Kitchen Freezer"
   ]
  },
  {
   "cell_type": "markdown",
   "metadata": {
    "hidden": true
   },
   "source": [
    "Text"
   ]
  },
  {
   "cell_type": "markdown",
   "metadata": {
    "ExecuteTime": {
     "end_time": "2019-11-02T11:09:02.521879Z",
     "start_time": "2019-11-02T11:09:02.504276Z"
    },
    "hidden": true
   },
   "source": [
    "<center>\n",
    "    <img src=\"images/subAct137.png\" title=\"Test Title\" alt=\"Alt text\" />\n",
    "    <img src=\"images/subAct137_cleansed.png\" title=\"Test Title\" alt=\"Alt text\" />\n",
    "    <i> MENTION THIS FROM Huang et al. </i> <br>\n",
    "</center> \n",
    "\n",
    "---"
   ]
  },
  {
   "cell_type": "markdown",
   "metadata": {
    "hidden": true
   },
   "source": [
    "##### Bedroom Jewelrybox"
   ]
  },
  {
   "cell_type": "markdown",
   "metadata": {
    "hidden": true
   },
   "source": [
    "DROPPED"
   ]
  },
  {
   "cell_type": "markdown",
   "metadata": {
    "ExecuteTime": {
     "end_time": "2019-11-02T11:09:02.521879Z",
     "start_time": "2019-11-02T11:09:02.504276Z"
    },
    "hidden": true
   },
   "source": [
    "<center>\n",
    "    <img src=\"images/subAct139.png\" title=\"Test Title\" alt=\"Alt text\" />\n",
    "    <i> MENTION THIS FROM Huang et al. </i> <br>\n",
    "</center> \n",
    "\n",
    "---"
   ]
  },
  {
   "cell_type": "markdown",
   "metadata": {
    "hidden": true
   },
   "source": [
    "##### Foyer Door"
   ]
  },
  {
   "cell_type": "markdown",
   "metadata": {
    "hidden": true
   },
   "source": [
    "Text"
   ]
  },
  {
   "cell_type": "markdown",
   "metadata": {
    "ExecuteTime": {
     "end_time": "2019-11-02T11:09:02.521879Z",
     "start_time": "2019-11-02T11:09:02.504276Z"
    },
    "hidden": true
   },
   "source": [
    "<center>\n",
    "<img src=\"images/subAct140.png\" title=\"Test Title\" alt=\"Alt text\" />\n",
    "<i> MENTION THIS FROM Huang et al. </i> <br>\n",
    "</center> \n",
    "\n",
    "---"
   ]
  },
  {
   "cell_type": "markdown",
   "metadata": {
    "hidden": true
   },
   "source": [
    "##### Kitchen Door - CORRECT TYPO"
   ]
  },
  {
   "cell_type": "markdown",
   "metadata": {
    "hidden": true
   },
   "source": [
    "Text"
   ]
  },
  {
   "cell_type": "markdown",
   "metadata": {
    "ExecuteTime": {
     "end_time": "2019-11-02T11:09:02.521879Z",
     "start_time": "2019-11-02T11:09:02.504276Z"
    },
    "hidden": true
   },
   "source": [
    "<center>\n",
    "    <img src=\"images/subAct141.png\" title=\"Test Title\" alt=\"Alt text\" />\n",
    "    <img src=\"images/subAct141_cleansed.png\" title=\"Test Title\" alt=\"Alt text\" />\n",
    "    <i> MENTION THIS FROM Huang et al. </i> <br>\n",
    "</center> \n",
    "\n",
    "---"
   ]
  },
  {
   "cell_type": "markdown",
   "metadata": {
    "hidden": true
   },
   "source": [
    "##### Kitchen Washingmachine"
   ]
  },
  {
   "cell_type": "markdown",
   "metadata": {
    "hidden": true
   },
   "source": [
    "Text"
   ]
  },
  {
   "cell_type": "markdown",
   "metadata": {
    "ExecuteTime": {
     "end_time": "2019-11-02T11:09:02.521879Z",
     "start_time": "2019-11-02T11:09:02.504276Z"
    },
    "hidden": true
   },
   "source": [
    "<center>\n",
    "    <img src=\"images/subAct142.png\" title=\"Test Title\" alt=\"Alt text\" />\n",
    "    <i> MENTION THIS FROM Huang et al. </i> <br>\n",
    "</center> \n",
    "\n",
    "---"
   ]
  },
  {
   "cell_type": "markdown",
   "metadata": {
    "hidden": true
   },
   "source": [
    "##### Kitchen Microwave"
   ]
  },
  {
   "cell_type": "markdown",
   "metadata": {
    "hidden": true
   },
   "source": [
    "Text"
   ]
  },
  {
   "cell_type": "markdown",
   "metadata": {
    "ExecuteTime": {
     "end_time": "2019-11-02T11:09:02.521879Z",
     "start_time": "2019-11-02T11:09:02.504276Z"
    },
    "hidden": true
   },
   "source": [
    "<center>\n",
    "    <img src=\"images/subAct143.png\" title=\"Test Title\" alt=\"Alt text\" />\n",
    "    <img src=\"images/subAct143_cleansed.png\" title=\"Test Title\" alt=\"Alt text\" />\n",
    "    <i> MENTION THIS FROM Huang et al. </i> <br>\n",
    "</center> \n",
    "\n",
    "---"
   ]
  },
  {
   "cell_type": "markdown",
   "metadata": {
    "hidden": true
   },
   "source": [
    "##### Kitchen Cereal"
   ]
  },
  {
   "cell_type": "markdown",
   "metadata": {
    "hidden": true
   },
   "source": [
    "DROPPED"
   ]
  },
  {
   "cell_type": "markdown",
   "metadata": {
    "ExecuteTime": {
     "end_time": "2019-11-02T11:09:02.521879Z",
     "start_time": "2019-11-02T11:09:02.504276Z"
    },
    "hidden": true
   },
   "source": [
    "<center>\n",
    "<img src=\"images/subAct145.png\" title=\"Test Title\" alt=\"Alt text\" />\n",
    "<i> MENTION THIS FROM Huang et al. </i> <br>\n",
    "</center> \n",
    "\n",
    "---"
   ]
  },
  {
   "cell_type": "markdown",
   "metadata": {
    "hidden": true
   },
   "source": [
    "##### Bedroom Drawer"
   ]
  },
  {
   "cell_type": "markdown",
   "metadata": {
    "hidden": true
   },
   "source": [
    "Text"
   ]
  },
  {
   "cell_type": "markdown",
   "metadata": {
    "ExecuteTime": {
     "end_time": "2019-11-02T11:09:02.521879Z",
     "start_time": "2019-11-02T11:09:02.504276Z"
    },
    "hidden": true
   },
   "source": [
    "<center>\n",
    "    <img src=\"images/subAct146.png\" title=\"Test Title\" alt=\"Alt text\" />\n",
    "    <img src=\"images/subAct146_cleansed.png\" title=\"Test Title\" alt=\"Alt text\" />\n",
    "    <i> MENTION THIS FROM Huang et al. </i> <br>\n",
    "</center> \n",
    "\n",
    "---"
   ]
  },
  {
   "cell_type": "markdown",
   "metadata": {},
   "source": [
    "# Data Analysis & Manipulation"
   ]
  },
  {
   "cell_type": "markdown",
   "metadata": {},
   "source": [
    "## Determination of the most 'effective' data structure - NOT HERE"
   ]
  },
  {
   "cell_type": "markdown",
   "metadata": {},
   "source": [
    "**Key finding = data structure most amenable...**\n",
    "\n",
    "- Driven by two main concepts (main?)\n",
    "- Driven by two competing concepts (competing?)\n",
    "\n",
    "<center>\n",
    "<img src=\"images/huangC.jpg\" title=\"Test Title\" alt=\"Alt text\" width=\"400\" height=\"400\" />\n",
    "<i> MENTION THIS FROM Huang et al. </i> <br>\n",
    "</center> "
   ]
  },
  {
   "cell_type": "code",
   "execution_count": 53,
   "metadata": {
    "ExecuteTime": {
     "end_time": "2019-11-03T07:17:46.478246Z",
     "start_time": "2019-11-03T07:17:46.459975Z"
    }
   },
   "outputs": [
    {
     "name": "stdout",
     "output_type": "stream",
     "text": [
      "The rpy2.ipython extension is already loaded. To reload it, use:\n",
      "  %reload_ext rpy2.ipython\n"
     ]
    }
   ],
   "source": [
    "%run -i Packages.py\n",
    "%matplotlib inline\n",
    "%load_ext rpy2.ipython"
   ]
  },
  {
   "cell_type": "code",
   "execution_count": 54,
   "metadata": {
    "ExecuteTime": {
     "end_time": "2019-11-03T07:17:47.884949Z",
     "start_time": "2019-11-03T07:17:46.484089Z"
    }
   },
   "outputs": [],
   "source": [
    "%run -i PlotlyPackages.py\n",
    "ds = pd.read_csv('S1SubActivities_temporalFeaturesCLEANSED.csv', index_col = None)\n",
    "ds.start = pd.to_datetime(ds.start, format='%Y-%m-%d %H:%M:%S')\n",
    "ds.end = pd.to_datetime(ds.end, format='%Y-%m-%d %H:%M:%S')\n",
    "ds = ds.sort_values('start')\n",
    "ds.reset_index(drop = True, inplace = True)"
   ]
  },
  {
   "cell_type": "code",
   "execution_count": 55,
   "metadata": {
    "ExecuteTime": {
     "end_time": "2019-11-03T07:17:48.006745Z",
     "start_time": "2019-11-03T07:17:47.891101Z"
    }
   },
   "outputs": [
    {
     "data": {
      "text/html": [
       "<div>\n",
       "<style scoped>\n",
       "    .dataframe tbody tr th:only-of-type {\n",
       "        vertical-align: middle;\n",
       "    }\n",
       "\n",
       "    .dataframe tbody tr th {\n",
       "        vertical-align: top;\n",
       "    }\n",
       "\n",
       "    .dataframe thead th {\n",
       "        text-align: right;\n",
       "    }\n",
       "</style>\n",
       "<table border=\"1\" class=\"dataframe\">\n",
       "  <thead>\n",
       "    <tr style=\"text-align: right;\">\n",
       "      <th></th>\n",
       "      <th>subActNum</th>\n",
       "      <th>subAct</th>\n",
       "      <th>start</th>\n",
       "      <th>end</th>\n",
       "      <th>dayNumeric</th>\n",
       "      <th>DAY</th>\n",
       "      <th>WDWE</th>\n",
       "      <th>HOUR</th>\n",
       "      <th>durationSec</th>\n",
       "    </tr>\n",
       "  </thead>\n",
       "  <tbody>\n",
       "    <tr>\n",
       "      <th>0</th>\n",
       "      <td>67</td>\n",
       "      <td>bathroom_cabinet</td>\n",
       "      <td>2003-03-27 06:43:40</td>\n",
       "      <td>2003-03-27 06:43:43</td>\n",
       "      <td>3</td>\n",
       "      <td>Thu</td>\n",
       "      <td>WD</td>\n",
       "      <td>6</td>\n",
       "      <td>4</td>\n",
       "    </tr>\n",
       "    <tr>\n",
       "      <th>1</th>\n",
       "      <td>100</td>\n",
       "      <td>bathroom_toiletflush</td>\n",
       "      <td>2003-03-27 06:44:06</td>\n",
       "      <td>2003-03-27 06:44:07</td>\n",
       "      <td>3</td>\n",
       "      <td>Thu</td>\n",
       "      <td>WD</td>\n",
       "      <td>6</td>\n",
       "      <td>2</td>\n",
       "    </tr>\n",
       "    <tr>\n",
       "      <th>2</th>\n",
       "      <td>101</td>\n",
       "      <td>bathroom_lightswitch</td>\n",
       "      <td>2003-03-27 06:44:20</td>\n",
       "      <td>2003-03-27 07:46:34</td>\n",
       "      <td>3</td>\n",
       "      <td>Thu</td>\n",
       "      <td>WD</td>\n",
       "      <td>6</td>\n",
       "      <td>3735</td>\n",
       "    </tr>\n",
       "    <tr>\n",
       "      <th>3</th>\n",
       "      <td>57</td>\n",
       "      <td>bathroom_medicinecabinet</td>\n",
       "      <td>2003-03-27 06:44:35</td>\n",
       "      <td>2003-03-27 06:44:48</td>\n",
       "      <td>3</td>\n",
       "      <td>Thu</td>\n",
       "      <td>WD</td>\n",
       "      <td>6</td>\n",
       "      <td>14</td>\n",
       "    </tr>\n",
       "    <tr>\n",
       "      <th>4</th>\n",
       "      <td>57</td>\n",
       "      <td>bathroom_medicinecabinet</td>\n",
       "      <td>2003-03-27 06:44:36</td>\n",
       "      <td>2003-03-27 06:44:48</td>\n",
       "      <td>3</td>\n",
       "      <td>Thu</td>\n",
       "      <td>WD</td>\n",
       "      <td>6</td>\n",
       "      <td>13</td>\n",
       "    </tr>\n",
       "  </tbody>\n",
       "</table>\n",
       "</div>"
      ],
      "text/plain": [
       "   subActNum                    subAct               start  \\\n",
       "0         67          bathroom_cabinet 2003-03-27 06:43:40   \n",
       "1        100      bathroom_toiletflush 2003-03-27 06:44:06   \n",
       "2        101      bathroom_lightswitch 2003-03-27 06:44:20   \n",
       "3         57  bathroom_medicinecabinet 2003-03-27 06:44:35   \n",
       "4         57  bathroom_medicinecabinet 2003-03-27 06:44:36   \n",
       "\n",
       "                  end  dayNumeric  DAY WDWE  HOUR  durationSec  \n",
       "0 2003-03-27 06:43:43           3  Thu   WD     6            4  \n",
       "1 2003-03-27 06:44:07           3  Thu   WD     6            2  \n",
       "2 2003-03-27 07:46:34           3  Thu   WD     6         3735  \n",
       "3 2003-03-27 06:44:48           3  Thu   WD     6           14  \n",
       "4 2003-03-27 06:44:48           3  Thu   WD     6           13  "
      ]
     },
     "execution_count": 55,
     "metadata": {},
     "output_type": "execute_result"
    }
   ],
   "source": [
    "ds.head() # REALLY RE-IMPORT???"
   ]
  },
  {
   "cell_type": "markdown",
   "metadata": {},
   "source": [
    "MENTION SEGMETNATION HERE OF 3 PARTS OF DAY\n",
    "- Morning\n",
    "- Afternoon\n",
    "- Evening"
   ]
  },
  {
   "cell_type": "markdown",
   "metadata": {},
   "source": [
    "## ADD DAY SEGMENTATION SECTION"
   ]
  },
  {
   "cell_type": "markdown",
   "metadata": {},
   "source": [
    "### Temporal segmentation consideration"
   ]
  },
  {
   "cell_type": "markdown",
   "metadata": {},
   "source": [
    "Problem Statement\n",
    "**If start EVENTA between X and Y on a WD/WE the PR that I will start EVENTB within Z minutes is Q.**\n",
    "\n",
    ">_If I switch on the bathroom light switch between 6am and 7am on a weekday, the probability that I will use my razor is X._\n",
    "\n",
    "- Relationships\n",
    "\n",
    "- Intersection\n",
    "<pre>\n",
    "|----EventA----|  <br>\n",
    "            |---EventB---|   \n",
    "</pre>\n",
    "\n",
    "- Separate\n",
    "<pre>\n",
    "|----EventA----|  <br>\n",
    "                    |---EventB---|   \n",
    "</pre>\n",
    "\n",
    "- Enclosed\n",
    "<pre>\n",
    "|----------EventA----------|  <br>\n",
    "           |---EventB---|   \n",
    "</pre>\n",
    "\n",
    "- Equal\n",
    "<pre>\n",
    "       |---EventA---|  <br>\n",
    "       |---EventB---|   \n",
    "</pre>\n",
    "\n",
    "---\n",
    "- Pr(EventA delta eventB)\n",
    "\n",
    "- Delta Negative\n",
    "<pre>\n",
    "|----EventA----|  <br>\n",
    "                -Gap- <br>\n",
    "                     |---EventB---|   \n",
    "</pre>\n",
    "\n",
    "- Delta Positive\n",
    "<pre>\n",
    "|------EventA------|  <br>\n",
    "            -Union-   <br>\n",
    "            |---EventB---|   \n",
    "</pre>\n",
    "\n",
    "- Delta Zero\n",
    "<pre>\n",
    "|--EventA--|  <br>\n",
    "\n",
    "           |------EventB------|   \n",
    "</pre>\n",
    "\n",
    "- Equal Start\n",
    "<pre>\n",
    "|--EventA--|  <br>\n",
    "\n",
    "|------EventB------|   \n",
    "</pre>\n",
    "\n",
    "**Input A:** S1SubActivities_preprocessed.csv\n",
    "\n",
    "| Event    | EventStart | EventEnd   |        \n",
    "|:--------:|:--------:  | :--------: |        \n",
    "| 100      | dateTime   | dateTime   |        \n",
    "| 101      | dateTime   | dateTime   |        \n",
    "| 104      | dateTime   | dateTime   |  \n",
    "| 105      | dateTime   | dateTime   |  \n",
    "\n",
    "**Input B:** dsCombin2n\n",
    "\n",
    "| EventA   | EventB  | \n",
    "|:--------:|:-------:| \n",
    "| 100      | 101     | \n",
    "| 100      | 104     | \n",
    "| 100      | 105     | \n",
    "| 100      | 106     | \n",
    "\n",
    "**Function:** def id_delta(InputA, InputB)  <br>\n",
    "**Output:**\n",
    "\n",
    "| EventA   | EventB   |  Ev.A Start | Ev.A End | Ev.B Start | Ev.B End | Delta    | Descriptor |\n",
    "|:--------:|:--------:| :--------:  | :------: |:--------:  | :------: | :------: | :------:   |\n",
    "| 100      | 101      |  dateTime   | dateTime | dateTime   | dateTime | -4       | Gap        |\n",
    "| 100      | 104      |  dateTime   | dateTime | dateTime   | dateTime | 92       | Union      |\n",
    "| 100      | 105      |  dateTime   | dateTime | dateTime   | dateTime | 0        | Zero       | \n",
    "| 100      | 106      |  dateTime   | dateTime | dateTime   | dateTime | ???      | EqualStart | \n",
    "\n",
    "**Function:** def add_temporalFeatures(): <br>\n",
    "**Output:**\n",
    "\n",
    "| EventA| EventB| Ev.A Start| Ev.A End| Ev.B Start|Ev.B End|Delta   | Descriptor | WendWday|Hour  |TimeofDay|\n",
    "|:-----:|:-----:|:--------: | :------:|:--------: |:------:|:------:| :------:   | :------:|:----:|:------: |\n",
    "| 100   | 101   | dateTime  | dateTime| dateTime  |dateTime|-4      | Gap        | weekday | 6:00 |6Till8   |\n",
    "| 100   | 104   | dateTime  | dateTime| dateTime  |dateTime|92      | Union      | weekend |12:00 |12Till14 |\n",
    "| 100   | 105   | dateTime  | dateTime| dateTime  |dateTime|0       | Zero       | weekday |15:00 |15Till17 |\n",
    "| 100   | 106   | dateTime  | dateTime| dateTime  |dateTime|???     | EqualStart | weekday |15:00 |15Till17 |\n",
    "\n",
    "- def id_delta(InputA, InputB)\n",
    "\n",
    "* WHERE event A is followed/ union/ gap (first )  by event B\n",
    "* IF (event A end < event B start)\n",
    "* SUM (event B start - event A end) = delta\n",
    "* Add delta attribute to df\n",
    "* RETURN df\n",
    "\n",
    "---\n",
    "\n",
    "1. Equal Start\n",
    "2. Delta positive (the highest)\n",
    "3. Delta Zero (the first)\n",
    "4. Delta Negative (closest to zero)\n",
    "\n",
    "\n",
    "And nearest 5 \n",
    "\n",
    "The dataset <br>\n",
    "@SANKEY\n",
    "The sankey diagrams show the sequences such that certain activities (NOT requiring electricity) mostly [always?] come before those that require electricity. In other words, 'energy poor' activities often act of preparative in the lead up to 'energy intensive' activities. The Sankey can show this by looking at the 'terminal events'.\n",
    "\n",
    "- Discuss the THREE PHASE"
   ]
  },
  {
   "cell_type": "markdown",
   "metadata": {},
   "source": [
    "### Three-phase ds segmentation"
   ]
  },
  {
   "cell_type": "markdown",
   "metadata": {},
   "source": [
    "### Statistical analysis of three phases"
   ]
  },
  {
   "cell_type": "code",
   "execution_count": null,
   "metadata": {},
   "outputs": [],
   "source": []
  },
  {
   "cell_type": "code",
   "execution_count": null,
   "metadata": {},
   "outputs": [],
   "source": [
    "# https://iotproject-s3644119.notebooks.azure.com/j/notebooks/05.%20S1a%20SubAct%20Duration%20Plots-Copy1.ipynb\n",
    "# subActRows = []\n",
    "\n",
    "# for subActName in subActNames:\n",
    "#     dsNew = ds[ds.subAct == subActName]\n",
    "#     dsNew = ds[ds.subAct == subActName]\n",
    "#     count = dsNew.durationSec.count()\n",
    "#     median = dsNew.durationSec.median()\n",
    "#     mean = dsNew.durationSec.mean() \n",
    "#     std = dsNew.durationSec.std()\n",
    "#     #outliers = detect_outlier(dsNew['durationSec'])\n",
    "    \n",
    "#     column = {'SubAct': subActName,'Count': count,'Median': median, 'Mean': mean, 'Std': std}\n",
    "#     subActRows.append(column)\n",
    "\n",
    "# allMedianValues = pd.DataFrame(subActRows, index=None, \n",
    "#                             columns=['SubAct', 'Count', 'Median', 'Mean', \"Std\"])"
   ]
  },
  {
   "cell_type": "markdown",
   "metadata": {},
   "source": [
    "## Sequential Analysis"
   ]
  },
  {
   "cell_type": "markdown",
   "metadata": {},
   "source": [
    "Reasoning"
   ]
  },
  {
   "cell_type": "code",
   "execution_count": 56,
   "metadata": {
    "ExecuteTime": {
     "end_time": "2019-11-03T07:17:48.042332Z",
     "start_time": "2019-11-03T07:17:48.016121Z"
    }
   },
   "outputs": [],
   "source": [
    "import datetime as dt\n",
    "\n",
    "def id_delta(events, n=1, delta_threshold=dt.timedelta(-99)):\n",
    "    nns = []\n",
    "    for row in events.itertuples():\n",
    "        #print(row)\n",
    "        start_time = getattr(row, 'start')\n",
    "        end_time = getattr(row, 'end')\n",
    "        subActNum = getattr(row, 'subActNum')\n",
    "        row_index = getattr(row, 'Index')\n",
    "        \n",
    "        nn = events[(events.start >= start_time) & \n",
    "                    (events.index != row_index) & \n",
    "                    ((start_time - events.start) > delta_threshold)][:n]\n",
    "        #print(len(nn))\n",
    "        ordered = pd.DataFrame()\n",
    "        ordered['Dummy'] = nn['subActNum']\n",
    "        ordered['EventA'] = subActNum\n",
    "        ordered['EventB'] = nn['subActNum']\n",
    "        ordered['EvA_Start'] = start_time\n",
    "        ordered['EvB_Start'] = nn['start']\n",
    "        ordered['EvA_End'] = end_time\n",
    "        ordered['EvB_End'] = nn['end']\n",
    "        del ordered['Dummy']\n",
    "        nns.append(ordered)\n",
    "  \n",
    "    #print(nns)\n",
    "    result = pd.concat(nns)\n",
    "    result['Delta'] = np.where(result['EvA_Start']==result['EvB_Start'], \n",
    "                               0,\n",
    "                               (result['EvB_Start'] - result['EvA_Start']))\n",
    "    result['Delta'] = result['Delta'].dt.total_seconds()\n",
    "    return result\n",
    "\n",
    "#ds_1n_25s['Delta'].dt.total_seconds()"
   ]
  },
  {
   "cell_type": "code",
   "execution_count": 57,
   "metadata": {
    "ExecuteTime": {
     "end_time": "2019-11-03T07:17:48.057463Z",
     "start_time": "2019-11-03T07:17:48.047013Z"
    }
   },
   "outputs": [],
   "source": [
    "%run -i add_DAY_WDWE_phaseII.py"
   ]
  },
  {
   "cell_type": "code",
   "execution_count": 58,
   "metadata": {
    "ExecuteTime": {
     "end_time": "2019-11-03T07:18:15.291063Z",
     "start_time": "2019-11-03T07:17:48.060569Z"
    }
   },
   "outputs": [],
   "source": [
    "ds_1n_60s = id_delta(ds, 1, dt.timedelta(0,-60))    # Creating DS with specified time and n \n",
    "ds_1n_60s = add_DAY_WDWE_phaseII(ds_1n_60s)         # Adding temporal features\n",
    "# SHOULD I LIMIT TO 60 SECONDS?"
   ]
  },
  {
   "cell_type": "code",
   "execution_count": 59,
   "metadata": {
    "ExecuteTime": {
     "end_time": "2019-11-03T07:18:15.339191Z",
     "start_time": "2019-11-03T07:18:15.294301Z"
    }
   },
   "outputs": [
    {
     "data": {
      "text/html": [
       "<div>\n",
       "<style scoped>\n",
       "    .dataframe tbody tr th:only-of-type {\n",
       "        vertical-align: middle;\n",
       "    }\n",
       "\n",
       "    .dataframe tbody tr th {\n",
       "        vertical-align: top;\n",
       "    }\n",
       "\n",
       "    .dataframe thead th {\n",
       "        text-align: right;\n",
       "    }\n",
       "</style>\n",
       "<table border=\"1\" class=\"dataframe\">\n",
       "  <thead>\n",
       "    <tr style=\"text-align: right;\">\n",
       "      <th></th>\n",
       "      <th>EventA</th>\n",
       "      <th>EventB</th>\n",
       "      <th>EvA_Start</th>\n",
       "      <th>EvB_Start</th>\n",
       "      <th>EvA_End</th>\n",
       "      <th>EvB_End</th>\n",
       "      <th>Delta</th>\n",
       "      <th>DAY</th>\n",
       "      <th>WDWE</th>\n",
       "      <th>Hour</th>\n",
       "    </tr>\n",
       "  </thead>\n",
       "  <tbody>\n",
       "    <tr>\n",
       "      <th>0</th>\n",
       "      <td>67</td>\n",
       "      <td>100</td>\n",
       "      <td>2003-03-27 06:43:40</td>\n",
       "      <td>2003-03-27 06:44:06</td>\n",
       "      <td>2003-03-27 06:43:43</td>\n",
       "      <td>2003-03-27 06:44:07</td>\n",
       "      <td>26.0</td>\n",
       "      <td>Thu</td>\n",
       "      <td>WD</td>\n",
       "      <td>6</td>\n",
       "    </tr>\n",
       "    <tr>\n",
       "      <th>1</th>\n",
       "      <td>100</td>\n",
       "      <td>101</td>\n",
       "      <td>2003-03-27 06:44:06</td>\n",
       "      <td>2003-03-27 06:44:20</td>\n",
       "      <td>2003-03-27 06:44:07</td>\n",
       "      <td>2003-03-27 07:46:34</td>\n",
       "      <td>14.0</td>\n",
       "      <td>Thu</td>\n",
       "      <td>WD</td>\n",
       "      <td>6</td>\n",
       "    </tr>\n",
       "    <tr>\n",
       "      <th>2</th>\n",
       "      <td>101</td>\n",
       "      <td>57</td>\n",
       "      <td>2003-03-27 06:44:20</td>\n",
       "      <td>2003-03-27 06:44:35</td>\n",
       "      <td>2003-03-27 07:46:34</td>\n",
       "      <td>2003-03-27 06:44:48</td>\n",
       "      <td>15.0</td>\n",
       "      <td>Thu</td>\n",
       "      <td>WD</td>\n",
       "      <td>6</td>\n",
       "    </tr>\n",
       "    <tr>\n",
       "      <th>3</th>\n",
       "      <td>57</td>\n",
       "      <td>57</td>\n",
       "      <td>2003-03-27 06:44:35</td>\n",
       "      <td>2003-03-27 06:44:36</td>\n",
       "      <td>2003-03-27 06:44:48</td>\n",
       "      <td>2003-03-27 06:44:48</td>\n",
       "      <td>1.0</td>\n",
       "      <td>Thu</td>\n",
       "      <td>WD</td>\n",
       "      <td>6</td>\n",
       "    </tr>\n",
       "    <tr>\n",
       "      <th>4</th>\n",
       "      <td>57</td>\n",
       "      <td>67</td>\n",
       "      <td>2003-03-27 06:44:36</td>\n",
       "      <td>2003-03-27 06:44:49</td>\n",
       "      <td>2003-03-27 06:44:48</td>\n",
       "      <td>2003-03-27 06:44:56</td>\n",
       "      <td>13.0</td>\n",
       "      <td>Thu</td>\n",
       "      <td>WD</td>\n",
       "      <td>6</td>\n",
       "    </tr>\n",
       "    <tr>\n",
       "      <th>5</th>\n",
       "      <td>67</td>\n",
       "      <td>82</td>\n",
       "      <td>2003-03-27 06:44:49</td>\n",
       "      <td>2003-03-27 06:45:45</td>\n",
       "      <td>2003-03-27 06:44:56</td>\n",
       "      <td>2003-03-27 06:45:48</td>\n",
       "      <td>56.0</td>\n",
       "      <td>Thu</td>\n",
       "      <td>WD</td>\n",
       "      <td>6</td>\n",
       "    </tr>\n",
       "    <tr>\n",
       "      <th>6</th>\n",
       "      <td>82</td>\n",
       "      <td>146</td>\n",
       "      <td>2003-03-27 06:45:45</td>\n",
       "      <td>2003-03-27 06:46:12</td>\n",
       "      <td>2003-03-27 06:45:48</td>\n",
       "      <td>2003-03-27 06:46:20</td>\n",
       "      <td>27.0</td>\n",
       "      <td>Thu</td>\n",
       "      <td>WD</td>\n",
       "      <td>6</td>\n",
       "    </tr>\n",
       "    <tr>\n",
       "      <th>7</th>\n",
       "      <td>143</td>\n",
       "      <td>132</td>\n",
       "      <td>2003-03-27 06:54:09</td>\n",
       "      <td>2003-03-27 06:54:16</td>\n",
       "      <td>2003-03-27 06:54:14</td>\n",
       "      <td>2003-03-27 06:54:19</td>\n",
       "      <td>7.0</td>\n",
       "      <td>Thu</td>\n",
       "      <td>WD</td>\n",
       "      <td>6</td>\n",
       "    </tr>\n",
       "    <tr>\n",
       "      <th>8</th>\n",
       "      <td>141</td>\n",
       "      <td>93</td>\n",
       "      <td>2003-03-27 07:04:55</td>\n",
       "      <td>2003-03-27 07:05:22</td>\n",
       "      <td>2003-03-27 07:04:57</td>\n",
       "      <td>2003-03-27 07:05:24</td>\n",
       "      <td>27.0</td>\n",
       "      <td>Thu</td>\n",
       "      <td>WD</td>\n",
       "      <td>7</td>\n",
       "    </tr>\n",
       "    <tr>\n",
       "      <th>9</th>\n",
       "      <td>93</td>\n",
       "      <td>132</td>\n",
       "      <td>2003-03-27 07:05:22</td>\n",
       "      <td>2003-03-27 07:05:39</td>\n",
       "      <td>2003-03-27 07:05:24</td>\n",
       "      <td>2003-03-27 07:05:57</td>\n",
       "      <td>17.0</td>\n",
       "      <td>Thu</td>\n",
       "      <td>WD</td>\n",
       "      <td>7</td>\n",
       "    </tr>\n",
       "  </tbody>\n",
       "</table>\n",
       "</div>"
      ],
      "text/plain": [
       "   EventA  EventB           EvA_Start           EvB_Start             EvA_End  \\\n",
       "0      67     100 2003-03-27 06:43:40 2003-03-27 06:44:06 2003-03-27 06:43:43   \n",
       "1     100     101 2003-03-27 06:44:06 2003-03-27 06:44:20 2003-03-27 06:44:07   \n",
       "2     101      57 2003-03-27 06:44:20 2003-03-27 06:44:35 2003-03-27 07:46:34   \n",
       "3      57      57 2003-03-27 06:44:35 2003-03-27 06:44:36 2003-03-27 06:44:48   \n",
       "4      57      67 2003-03-27 06:44:36 2003-03-27 06:44:49 2003-03-27 06:44:48   \n",
       "5      67      82 2003-03-27 06:44:49 2003-03-27 06:45:45 2003-03-27 06:44:56   \n",
       "6      82     146 2003-03-27 06:45:45 2003-03-27 06:46:12 2003-03-27 06:45:48   \n",
       "7     143     132 2003-03-27 06:54:09 2003-03-27 06:54:16 2003-03-27 06:54:14   \n",
       "8     141      93 2003-03-27 07:04:55 2003-03-27 07:05:22 2003-03-27 07:04:57   \n",
       "9      93     132 2003-03-27 07:05:22 2003-03-27 07:05:39 2003-03-27 07:05:24   \n",
       "\n",
       "              EvB_End  Delta  DAY WDWE  Hour  \n",
       "0 2003-03-27 06:44:07   26.0  Thu   WD     6  \n",
       "1 2003-03-27 07:46:34   14.0  Thu   WD     6  \n",
       "2 2003-03-27 06:44:48   15.0  Thu   WD     6  \n",
       "3 2003-03-27 06:44:48    1.0  Thu   WD     6  \n",
       "4 2003-03-27 06:44:56   13.0  Thu   WD     6  \n",
       "5 2003-03-27 06:45:48   56.0  Thu   WD     6  \n",
       "6 2003-03-27 06:46:20   27.0  Thu   WD     6  \n",
       "7 2003-03-27 06:54:19    7.0  Thu   WD     6  \n",
       "8 2003-03-27 07:05:24   27.0  Thu   WD     7  \n",
       "9 2003-03-27 07:05:57   17.0  Thu   WD     7  "
      ]
     },
     "execution_count": 59,
     "metadata": {},
     "output_type": "execute_result"
    }
   ],
   "source": [
    "ds_1n_60s.head(n=10) # MENTION THAT OWING TO TIME CONSTAINTS, COULD NOT DO TEMPORAL EVALUATION"
   ]
  },
  {
   "cell_type": "code",
   "execution_count": 60,
   "metadata": {
    "ExecuteTime": {
     "end_time": "2019-11-03T07:18:41.361908Z",
     "start_time": "2019-11-03T07:18:15.347310Z"
    }
   },
   "outputs": [],
   "source": [
    "ds_10n_60s = id_delta(ds, 10, dt.timedelta(0,-60))    # Creating DS with specified time and n \n",
    "ds_10n_60s = add_DAY_WDWE_phaseII(ds_10n_60s)         # Adding temporal features\n",
    "# SHOULD I LIMIT TO 60 SECONDS?"
   ]
  },
  {
   "cell_type": "code",
   "execution_count": 61,
   "metadata": {
    "ExecuteTime": {
     "end_time": "2019-11-03T07:18:41.391121Z",
     "start_time": "2019-11-03T07:18:41.364642Z"
    }
   },
   "outputs": [
    {
     "data": {
      "text/html": [
       "<div>\n",
       "<style scoped>\n",
       "    .dataframe tbody tr th:only-of-type {\n",
       "        vertical-align: middle;\n",
       "    }\n",
       "\n",
       "    .dataframe tbody tr th {\n",
       "        vertical-align: top;\n",
       "    }\n",
       "\n",
       "    .dataframe thead th {\n",
       "        text-align: right;\n",
       "    }\n",
       "</style>\n",
       "<table border=\"1\" class=\"dataframe\">\n",
       "  <thead>\n",
       "    <tr style=\"text-align: right;\">\n",
       "      <th></th>\n",
       "      <th>EventA</th>\n",
       "      <th>EventB</th>\n",
       "      <th>EvA_Start</th>\n",
       "      <th>EvB_Start</th>\n",
       "      <th>EvA_End</th>\n",
       "      <th>EvB_End</th>\n",
       "      <th>Delta</th>\n",
       "      <th>DAY</th>\n",
       "      <th>WDWE</th>\n",
       "      <th>Hour</th>\n",
       "    </tr>\n",
       "  </thead>\n",
       "  <tbody>\n",
       "    <tr>\n",
       "      <th>0</th>\n",
       "      <td>67</td>\n",
       "      <td>100</td>\n",
       "      <td>2003-03-27 06:43:40</td>\n",
       "      <td>2003-03-27 06:44:06</td>\n",
       "      <td>2003-03-27 06:43:43</td>\n",
       "      <td>2003-03-27 06:44:07</td>\n",
       "      <td>26.0</td>\n",
       "      <td>Thu</td>\n",
       "      <td>WD</td>\n",
       "      <td>6</td>\n",
       "    </tr>\n",
       "    <tr>\n",
       "      <th>1</th>\n",
       "      <td>67</td>\n",
       "      <td>101</td>\n",
       "      <td>2003-03-27 06:43:40</td>\n",
       "      <td>2003-03-27 06:44:20</td>\n",
       "      <td>2003-03-27 06:43:43</td>\n",
       "      <td>2003-03-27 07:46:34</td>\n",
       "      <td>40.0</td>\n",
       "      <td>Thu</td>\n",
       "      <td>WD</td>\n",
       "      <td>6</td>\n",
       "    </tr>\n",
       "    <tr>\n",
       "      <th>2</th>\n",
       "      <td>67</td>\n",
       "      <td>57</td>\n",
       "      <td>2003-03-27 06:43:40</td>\n",
       "      <td>2003-03-27 06:44:35</td>\n",
       "      <td>2003-03-27 06:43:43</td>\n",
       "      <td>2003-03-27 06:44:48</td>\n",
       "      <td>55.0</td>\n",
       "      <td>Thu</td>\n",
       "      <td>WD</td>\n",
       "      <td>6</td>\n",
       "    </tr>\n",
       "    <tr>\n",
       "      <th>3</th>\n",
       "      <td>67</td>\n",
       "      <td>57</td>\n",
       "      <td>2003-03-27 06:43:40</td>\n",
       "      <td>2003-03-27 06:44:36</td>\n",
       "      <td>2003-03-27 06:43:43</td>\n",
       "      <td>2003-03-27 06:44:48</td>\n",
       "      <td>56.0</td>\n",
       "      <td>Thu</td>\n",
       "      <td>WD</td>\n",
       "      <td>6</td>\n",
       "    </tr>\n",
       "    <tr>\n",
       "      <th>4</th>\n",
       "      <td>100</td>\n",
       "      <td>101</td>\n",
       "      <td>2003-03-27 06:44:06</td>\n",
       "      <td>2003-03-27 06:44:20</td>\n",
       "      <td>2003-03-27 06:44:07</td>\n",
       "      <td>2003-03-27 07:46:34</td>\n",
       "      <td>14.0</td>\n",
       "      <td>Thu</td>\n",
       "      <td>WD</td>\n",
       "      <td>6</td>\n",
       "    </tr>\n",
       "    <tr>\n",
       "      <th>5</th>\n",
       "      <td>100</td>\n",
       "      <td>57</td>\n",
       "      <td>2003-03-27 06:44:06</td>\n",
       "      <td>2003-03-27 06:44:35</td>\n",
       "      <td>2003-03-27 06:44:07</td>\n",
       "      <td>2003-03-27 06:44:48</td>\n",
       "      <td>29.0</td>\n",
       "      <td>Thu</td>\n",
       "      <td>WD</td>\n",
       "      <td>6</td>\n",
       "    </tr>\n",
       "    <tr>\n",
       "      <th>6</th>\n",
       "      <td>100</td>\n",
       "      <td>57</td>\n",
       "      <td>2003-03-27 06:44:06</td>\n",
       "      <td>2003-03-27 06:44:36</td>\n",
       "      <td>2003-03-27 06:44:07</td>\n",
       "      <td>2003-03-27 06:44:48</td>\n",
       "      <td>30.0</td>\n",
       "      <td>Thu</td>\n",
       "      <td>WD</td>\n",
       "      <td>6</td>\n",
       "    </tr>\n",
       "    <tr>\n",
       "      <th>7</th>\n",
       "      <td>100</td>\n",
       "      <td>67</td>\n",
       "      <td>2003-03-27 06:44:06</td>\n",
       "      <td>2003-03-27 06:44:49</td>\n",
       "      <td>2003-03-27 06:44:07</td>\n",
       "      <td>2003-03-27 06:44:56</td>\n",
       "      <td>43.0</td>\n",
       "      <td>Thu</td>\n",
       "      <td>WD</td>\n",
       "      <td>6</td>\n",
       "    </tr>\n",
       "    <tr>\n",
       "      <th>8</th>\n",
       "      <td>101</td>\n",
       "      <td>57</td>\n",
       "      <td>2003-03-27 06:44:20</td>\n",
       "      <td>2003-03-27 06:44:35</td>\n",
       "      <td>2003-03-27 07:46:34</td>\n",
       "      <td>2003-03-27 06:44:48</td>\n",
       "      <td>15.0</td>\n",
       "      <td>Thu</td>\n",
       "      <td>WD</td>\n",
       "      <td>6</td>\n",
       "    </tr>\n",
       "    <tr>\n",
       "      <th>9</th>\n",
       "      <td>101</td>\n",
       "      <td>57</td>\n",
       "      <td>2003-03-27 06:44:20</td>\n",
       "      <td>2003-03-27 06:44:36</td>\n",
       "      <td>2003-03-27 07:46:34</td>\n",
       "      <td>2003-03-27 06:44:48</td>\n",
       "      <td>16.0</td>\n",
       "      <td>Thu</td>\n",
       "      <td>WD</td>\n",
       "      <td>6</td>\n",
       "    </tr>\n",
       "  </tbody>\n",
       "</table>\n",
       "</div>"
      ],
      "text/plain": [
       "   EventA  EventB           EvA_Start           EvB_Start             EvA_End  \\\n",
       "0      67     100 2003-03-27 06:43:40 2003-03-27 06:44:06 2003-03-27 06:43:43   \n",
       "1      67     101 2003-03-27 06:43:40 2003-03-27 06:44:20 2003-03-27 06:43:43   \n",
       "2      67      57 2003-03-27 06:43:40 2003-03-27 06:44:35 2003-03-27 06:43:43   \n",
       "3      67      57 2003-03-27 06:43:40 2003-03-27 06:44:36 2003-03-27 06:43:43   \n",
       "4     100     101 2003-03-27 06:44:06 2003-03-27 06:44:20 2003-03-27 06:44:07   \n",
       "5     100      57 2003-03-27 06:44:06 2003-03-27 06:44:35 2003-03-27 06:44:07   \n",
       "6     100      57 2003-03-27 06:44:06 2003-03-27 06:44:36 2003-03-27 06:44:07   \n",
       "7     100      67 2003-03-27 06:44:06 2003-03-27 06:44:49 2003-03-27 06:44:07   \n",
       "8     101      57 2003-03-27 06:44:20 2003-03-27 06:44:35 2003-03-27 07:46:34   \n",
       "9     101      57 2003-03-27 06:44:20 2003-03-27 06:44:36 2003-03-27 07:46:34   \n",
       "\n",
       "              EvB_End  Delta  DAY WDWE  Hour  \n",
       "0 2003-03-27 06:44:07   26.0  Thu   WD     6  \n",
       "1 2003-03-27 07:46:34   40.0  Thu   WD     6  \n",
       "2 2003-03-27 06:44:48   55.0  Thu   WD     6  \n",
       "3 2003-03-27 06:44:48   56.0  Thu   WD     6  \n",
       "4 2003-03-27 07:46:34   14.0  Thu   WD     6  \n",
       "5 2003-03-27 06:44:48   29.0  Thu   WD     6  \n",
       "6 2003-03-27 06:44:48   30.0  Thu   WD     6  \n",
       "7 2003-03-27 06:44:56   43.0  Thu   WD     6  \n",
       "8 2003-03-27 06:44:48   15.0  Thu   WD     6  \n",
       "9 2003-03-27 06:44:48   16.0  Thu   WD     6  "
      ]
     },
     "execution_count": 61,
     "metadata": {},
     "output_type": "execute_result"
    }
   ],
   "source": [
    "ds_10n_60s.head(n=10) # MENTION THAT OWING TO TIME CONSTAINTS, COULD NOT DO TEMPORAL EVALUATION"
   ]
  },
  {
   "cell_type": "code",
   "execution_count": 62,
   "metadata": {
    "ExecuteTime": {
     "end_time": "2019-11-03T07:18:41.421454Z",
     "start_time": "2019-11-03T07:18:41.400900Z"
    }
   },
   "outputs": [],
   "source": [
    "# SAVE THE CSV AND CB (below)!!!"
   ]
  },
  {
   "cell_type": "code",
   "execution_count": null,
   "metadata": {},
   "outputs": [],
   "source": []
  },
  {
   "cell_type": "markdown",
   "metadata": {},
   "source": [
    "## Sankey Diagrams - Qualitative Assessment"
   ]
  },
  {
   "cell_type": "code",
   "execution_count": null,
   "metadata": {},
   "outputs": [],
   "source": []
  },
  {
   "cell_type": "code",
   "execution_count": 63,
   "metadata": {
    "ExecuteTime": {
     "end_time": "2019-11-03T07:18:41.457538Z",
     "start_time": "2019-11-03T07:18:41.428882Z"
    }
   },
   "outputs": [],
   "source": [
    "def genSankey(df,cat_cols=[],value_cols='',title='Sankey Diagram'):\n",
    "    # maximum of 6 value cols -> 6 colors\n",
    "    labelList = []\n",
    "    colorNumList = []\n",
    "    for catCol in cat_cols:\n",
    "        labelListTemp =  list(set(df[catCol].values))\n",
    "        colorNumList.append(len(labelListTemp))\n",
    "        labelList = labelList + labelListTemp\n",
    "        \n",
    "    # remove duplicates from labelList\n",
    "    labelList = list(dict.fromkeys(labelList))\n",
    "        \n",
    "    ds = pd.read_csv('S1Sensors_preprocessed.csv', index_col = 'subActNum')\n",
    "    \n",
    "    colorList = []\n",
    "    for subActNum in labelList:\n",
    "        if ds.loc[subActNum, 'reqEnergy']:\n",
    "            colorList.append(\"red\")\n",
    "        else:\n",
    "            colorList.append(\"blue\")\n",
    "    \n",
    "    newLabelList = []\n",
    "    for subActNum in labelList:\n",
    "        newLabelList.append(ds.loc[subActNum, 'room'] + \" - \" + ds.loc[subActNum, 'activity'])\n",
    "    \n",
    "    # transform df into a source-target pair\n",
    "    for i in range(len(cat_cols)-1):\n",
    "        if i==0:\n",
    "            sourceTargetDf = df[[cat_cols[i],cat_cols[i+1],value_cols]]\n",
    "            sourceTargetDf.columns = ['source','target','count']\n",
    "        else:\n",
    "            tempDf = df[[cat_cols[i],cat_cols[i+1],value_cols]]\n",
    "            tempDf.columns = ['source','target','count']\n",
    "            sourceTargetDf = pd.concat([sourceTargetDf,tempDf])\n",
    "        sourceTargetDf = sourceTargetDf.groupby(['source','target']).agg({'count':'sum'}).reset_index()\n",
    "        \n",
    "    # add index for source-target pair\n",
    "    sourceTargetDf['sourceID'] = sourceTargetDf['source'].apply(lambda x: labelList.index(x))\n",
    "    sourceTargetDf['targetID'] = sourceTargetDf['target'].apply(lambda x: labelList.index(x))\n",
    "    \n",
    "    labelList = newLabelList\n",
    "    \n",
    "    # creating the sankey diagram\n",
    "    data = dict(type='sankey', \n",
    "                node = dict(pad = 15, thickness = 20, line = dict(color = \"black\", width = 0.5),\n",
    "                            label = labelList,\n",
    "                            color = colorList),\n",
    "                link = dict(source = sourceTargetDf['sourceID'],\n",
    "                            target = sourceTargetDf['targetID'],\n",
    "                            value = sourceTargetDf['count']))\n",
    "    \n",
    "    layout =  dict(title = title, font = dict(size = 10))\n",
    "    fig = dict(data=[data], layout=layout)\n",
    "    \n",
    "    return fig\n",
    "# COLOUR - https://stackoverflow.com/questions/55862005/plotly-sankey-diagram-group-label-and-color \n",
    "# https://medium.com/plotly/4-interactive-sankey-diagram-made-in-python-3057b9ee8616\n",
    "# https://community.periscopedata.com/t/63nx0x/sankey-diagrams-with-plot-ly-in-periscope\n",
    "# https://medium.com/kenlok/how-to-create-sankey-diagrams-from-dataframes-in-python-e221c1b4d6b0\n",
    "# https://community.periscopedata.com/t/k9s9mg/sankey-plot-ly\n",
    "# https://plot.ly/python/sankey-diagram/"
   ]
  },
  {
   "cell_type": "code",
   "execution_count": 64,
   "metadata": {
    "ExecuteTime": {
     "end_time": "2019-11-03T07:18:41.480589Z",
     "start_time": "2019-11-03T07:18:41.461499Z"
    }
   },
   "outputs": [],
   "source": [
    "#fig = genSankey(ds_1n_25s, cat_cols=['EventA', 'EventB'], value_cols='Delta', title='ds')\n",
    "#py.iplot(go.Figure(fig))\n",
    "# CLEAN UP - SCALING + COLOURS + NUMBERS CONVERTED TO WORDS (or KEY?)"
   ]
  },
  {
   "cell_type": "code",
   "execution_count": 65,
   "metadata": {
    "ExecuteTime": {
     "end_time": "2019-11-03T07:18:53.780794Z",
     "start_time": "2019-11-03T07:18:41.500132Z"
    }
   },
   "outputs": [],
   "source": [
    "wdwe_title = {\"WD\":\"Weekday\", \"WE\":\"Weekend\"}\n",
    "\n",
    "def addPhase(df):    \n",
    "    df['Phase'] = \"Afternoon\"\n",
    "    df.loc[df['Hour'] < 12, 'Phase'] = \"Morning\"\n",
    "    df.loc[df['Hour'] >= 18, 'Phase'] = \"Evening\"\n",
    "\n",
    "def plotASankey(df, wdwe, phase):\n",
    "    df = df[(df.WDWE==wdwe) & (df.Phase==phase)]\n",
    "    fig = genSankey(df, cat_cols=['EventA', 'EventB'], value_cols='Delta', title=wdwe_title[wdwe] + ' ' + \n",
    "                    phase + ' ' + 'ds_1n_60s')\n",
    "    py.plot(go.Figure(fig), filename=wdwe_title[wdwe] + phase + 'ds_1n_60s' + '.html')\n",
    "\n",
    "addPhase(ds_1n_60s)\n",
    "\n",
    "for wdwe in ['WD','WE']:\n",
    "    for phase in ['Morning', 'Afternoon', 'Evening']:\n",
    "        plotASankey(ds_1n_60s, wdwe, phase)"
   ]
  },
  {
   "cell_type": "code",
   "execution_count": 66,
   "metadata": {
    "ExecuteTime": {
     "end_time": "2019-11-03T07:18:53.811891Z",
     "start_time": "2019-11-03T07:18:53.792292Z"
    }
   },
   "outputs": [],
   "source": [
    "# SEGMENT TIMES 3 for WD and WE"
   ]
  },
  {
   "cell_type": "code",
   "execution_count": 67,
   "metadata": {
    "ExecuteTime": {
     "end_time": "2019-11-03T07:19:09.800625Z",
     "start_time": "2019-11-03T07:18:53.826950Z"
    }
   },
   "outputs": [],
   "source": [
    "wdwe_title = {\"WD\":\"Weekday\", \"WE\":\"Weekend\"}\n",
    "\n",
    "def addPhase(df):    \n",
    "    df['Phase'] = \"Afternoon\"\n",
    "    df.loc[df['Hour'] < 12, 'Phase'] = \"Morning\"\n",
    "    df.loc[df['Hour'] >= 18, 'Phase'] = \"Evening\"\n",
    "\n",
    "def plotASankey(df, wdwe, phase):\n",
    "    df = df[(df.WDWE==wdwe) & (df.Phase==phase)]\n",
    "    fig = genSankey(df, cat_cols=['EventA', 'EventB'], value_cols='Delta', title=wdwe_title[wdwe] + ' ' + \n",
    "                    phase + ' ' + 'ds_10n_60s')\n",
    "    py.plot(go.Figure(fig), filename=wdwe_title[wdwe] + phase + 'ds_10n_60s' + '.html')\n",
    "\n",
    "addPhase(ds_10n_60s)\n",
    "\n",
    "for wdwe in ['WD','WE']:\n",
    "    for phase in ['Morning', 'Afternoon', 'Evening']:\n",
    "        plotASankey(ds_10n_60s, wdwe, phase)"
   ]
  },
  {
   "cell_type": "code",
   "execution_count": 68,
   "metadata": {
    "ExecuteTime": {
     "end_time": "2019-11-03T07:19:09.824752Z",
     "start_time": "2019-11-03T07:19:09.804480Z"
    }
   },
   "outputs": [
    {
     "data": {
      "text/html": [
       "\n",
       "        <iframe\n",
       "            width=\"1000\"\n",
       "            height=\"600\"\n",
       "            src=\"WeekdayAfternoonds_1n_60s.html\"\n",
       "            frameborder=\"0\"\n",
       "            allowfullscreen\n",
       "        ></iframe>\n",
       "        "
      ],
      "text/plain": [
       "<IPython.lib.display.IFrame at 0x12a26e210>"
      ]
     },
     "execution_count": 68,
     "metadata": {},
     "output_type": "execute_result"
    }
   ],
   "source": [
    "from IPython.display import IFrame\n",
    "IFrame(src='WeekdayAfternoonds_1n_60s.html', width=1000, height=600)"
   ]
  },
  {
   "cell_type": "code",
   "execution_count": 69,
   "metadata": {
    "ExecuteTime": {
     "end_time": "2019-11-03T07:19:09.868251Z",
     "start_time": "2019-11-03T07:19:09.831168Z"
    }
   },
   "outputs": [
    {
     "data": {
      "text/html": [
       "\n",
       "        <iframe\n",
       "            width=\"1000\"\n",
       "            height=\"600\"\n",
       "            src=\"WeekdayAfternoonds_10n_60s.html\"\n",
       "            frameborder=\"0\"\n",
       "            allowfullscreen\n",
       "        ></iframe>\n",
       "        "
      ],
      "text/plain": [
       "<IPython.lib.display.IFrame at 0x12a11b3d0>"
      ]
     },
     "execution_count": 69,
     "metadata": {},
     "output_type": "execute_result"
    }
   ],
   "source": [
    "from IPython.display import IFrame\n",
    "IFrame(src='WeekdayAfternoonds_10n_60s.html', width=1000, height=600)"
   ]
  },
  {
   "cell_type": "code",
   "execution_count": 2,
   "metadata": {
    "ExecuteTime": {
     "end_time": "2019-11-03T07:20:15.599407Z",
     "start_time": "2019-11-03T07:20:15.544116Z"
    }
   },
   "outputs": [
    {
     "data": {
      "text/plain": [
       "822"
      ]
     },
     "execution_count": 2,
     "metadata": {},
     "output_type": "execute_result"
    }
   ],
   "source": [
    "import gc\n",
    "gc.collect()"
   ]
  },
  {
   "cell_type": "code",
   "execution_count": 3,
   "metadata": {
    "ExecuteTime": {
     "end_time": "2019-11-03T07:20:16.744338Z",
     "start_time": "2019-11-03T07:20:16.708738Z"
    }
   },
   "outputs": [],
   "source": [
    "from IPython import get_ipython;   \n",
    "get_ipython().magic('reset -sf')"
   ]
  },
  {
   "cell_type": "code",
   "execution_count": 4,
   "metadata": {
    "ExecuteTime": {
     "end_time": "2019-11-03T07:20:22.229010Z",
     "start_time": "2019-11-03T07:20:17.994678Z"
    }
   },
   "outputs": [],
   "source": [
    "%run -i Packages.py\n",
    "%matplotlib inline"
   ]
  },
  {
   "cell_type": "markdown",
   "metadata": {},
   "source": [
    "## Timestamp Structure with Boolean"
   ]
  },
  {
   "cell_type": "markdown",
   "metadata": {},
   "source": [
    "### Constructing Boolean Array"
   ]
  },
  {
   "cell_type": "markdown",
   "metadata": {},
   "source": [
    "Discuss"
   ]
  },
  {
   "cell_type": "markdown",
   "metadata": {},
   "source": [
    "### Technique"
   ]
  },
  {
   "cell_type": "markdown",
   "metadata": {},
   "source": [
    "**Input** `ds = pd.read_csv('S1SubActivities_preprocessed.csv', index_col = None) `\n",
    "**Output** `ds.to_csv('S1SubActivities_timeStampRanges.csv',index=False)`\n",
    "\n",
    "- WHY\n",
    "1. This enables us to calculate the FREQUENCY per hour (which in the end was just used to inform later analysis)\n",
    "\n",
    "**Must convert subActNum FROM dtype `int64` to `string` in order for `pd.get_dummies()` to execute.**\n",
    "\n",
    "**Input** `ds = pd.read_csv('S1SubActivities_timeRangeMelt.csv', index_col = None)`\n",
    "**Output** `ds.to_csv('S1SubActivities_timeRangeBoolean_DuplicateIndex.csv',index='duration')` <br>\n",
    "**Output** `ds.to_csv('S1SubActivities_timeRangeBoolean.csv',index='duration')`\n",
    "\n",
    "???"
   ]
  },
  {
   "cell_type": "code",
   "execution_count": 5,
   "metadata": {
    "ExecuteTime": {
     "end_time": "2019-11-03T07:20:24.961433Z",
     "start_time": "2019-11-03T07:20:24.929398Z"
    }
   },
   "outputs": [],
   "source": [
    "ds = pd.read_csv(PATH + '/intermediate_datasets/S1SubActivities_temporalFeaturesCLEANSED.csv', \n",
    "                 index_col = None)"
   ]
  },
  {
   "cell_type": "code",
   "execution_count": 6,
   "metadata": {
    "ExecuteTime": {
     "end_time": "2019-11-03T07:21:27.579200Z",
     "start_time": "2019-11-03T07:20:28.059151Z"
    }
   },
   "outputs": [],
   "source": [
    "%run -i test.py"
   ]
  },
  {
   "cell_type": "code",
   "execution_count": 7,
   "metadata": {
    "ExecuteTime": {
     "end_time": "2019-11-03T07:21:53.663346Z",
     "start_time": "2019-11-03T07:21:53.646461Z"
    }
   },
   "outputs": [
    {
     "data": {
      "text/html": [
       "<div>\n",
       "<style scoped>\n",
       "    .dataframe tbody tr th:only-of-type {\n",
       "        vertical-align: middle;\n",
       "    }\n",
       "\n",
       "    .dataframe tbody tr th {\n",
       "        vertical-align: top;\n",
       "    }\n",
       "\n",
       "    .dataframe thead th {\n",
       "        text-align: right;\n",
       "    }\n",
       "</style>\n",
       "<table border=\"1\" class=\"dataframe\">\n",
       "  <thead>\n",
       "    <tr style=\"text-align: right;\">\n",
       "      <th></th>\n",
       "      <th>subActNum</th>\n",
       "      <th>subAct</th>\n",
       "      <th>start</th>\n",
       "      <th>end</th>\n",
       "      <th>dayNumeric</th>\n",
       "      <th>DAY</th>\n",
       "      <th>WDWE</th>\n",
       "      <th>HOUR</th>\n",
       "      <th>durationSec</th>\n",
       "    </tr>\n",
       "  </thead>\n",
       "  <tbody>\n",
       "    <tr>\n",
       "      <th>0</th>\n",
       "      <td>67</td>\n",
       "      <td>bathroom_cabinet</td>\n",
       "      <td>2003-03-27 06:43:40</td>\n",
       "      <td>2003-03-27 06:43:43</td>\n",
       "      <td>3</td>\n",
       "      <td>Thu</td>\n",
       "      <td>WD</td>\n",
       "      <td>6</td>\n",
       "      <td>4</td>\n",
       "    </tr>\n",
       "    <tr>\n",
       "      <th>1</th>\n",
       "      <td>100</td>\n",
       "      <td>bathroom_toiletflush</td>\n",
       "      <td>2003-03-27 06:44:06</td>\n",
       "      <td>2003-03-27 06:44:07</td>\n",
       "      <td>3</td>\n",
       "      <td>Thu</td>\n",
       "      <td>WD</td>\n",
       "      <td>6</td>\n",
       "      <td>2</td>\n",
       "    </tr>\n",
       "    <tr>\n",
       "      <th>2</th>\n",
       "      <td>101</td>\n",
       "      <td>bathroom_lightswitch</td>\n",
       "      <td>2003-03-27 06:44:20</td>\n",
       "      <td>2003-03-27 07:46:34</td>\n",
       "      <td>3</td>\n",
       "      <td>Thu</td>\n",
       "      <td>WD</td>\n",
       "      <td>6</td>\n",
       "      <td>3735</td>\n",
       "    </tr>\n",
       "    <tr>\n",
       "      <th>3</th>\n",
       "      <td>57</td>\n",
       "      <td>bathroom_medicinecabinet</td>\n",
       "      <td>2003-03-27 06:44:35</td>\n",
       "      <td>2003-03-27 06:44:48</td>\n",
       "      <td>3</td>\n",
       "      <td>Thu</td>\n",
       "      <td>WD</td>\n",
       "      <td>6</td>\n",
       "      <td>14</td>\n",
       "    </tr>\n",
       "    <tr>\n",
       "      <th>4</th>\n",
       "      <td>57</td>\n",
       "      <td>bathroom_medicinecabinet</td>\n",
       "      <td>2003-03-27 06:44:36</td>\n",
       "      <td>2003-03-27 06:44:48</td>\n",
       "      <td>3</td>\n",
       "      <td>Thu</td>\n",
       "      <td>WD</td>\n",
       "      <td>6</td>\n",
       "      <td>13</td>\n",
       "    </tr>\n",
       "  </tbody>\n",
       "</table>\n",
       "</div>"
      ],
      "text/plain": [
       "   subActNum                    subAct                start  \\\n",
       "0         67          bathroom_cabinet  2003-03-27 06:43:40   \n",
       "1        100      bathroom_toiletflush  2003-03-27 06:44:06   \n",
       "2        101      bathroom_lightswitch  2003-03-27 06:44:20   \n",
       "3         57  bathroom_medicinecabinet  2003-03-27 06:44:35   \n",
       "4         57  bathroom_medicinecabinet  2003-03-27 06:44:36   \n",
       "\n",
       "                   end  dayNumeric  DAY WDWE  HOUR  durationSec  \n",
       "0  2003-03-27 06:43:43           3  Thu   WD     6            4  \n",
       "1  2003-03-27 06:44:07           3  Thu   WD     6            2  \n",
       "2  2003-03-27 07:46:34           3  Thu   WD     6         3735  \n",
       "3  2003-03-27 06:44:48           3  Thu   WD     6           14  \n",
       "4  2003-03-27 06:44:48           3  Thu   WD     6           13  "
      ]
     },
     "execution_count": 7,
     "metadata": {},
     "output_type": "execute_result"
    }
   ],
   "source": [
    "ds_initial.head()"
   ]
  },
  {
   "cell_type": "code",
   "execution_count": 8,
   "metadata": {
    "ExecuteTime": {
     "end_time": "2019-11-03T07:22:18.686247Z",
     "start_time": "2019-11-03T07:22:18.657701Z"
    }
   },
   "outputs": [
    {
     "data": {
      "text/html": [
       "<div>\n",
       "<style scoped>\n",
       "    .dataframe tbody tr th:only-of-type {\n",
       "        vertical-align: middle;\n",
       "    }\n",
       "\n",
       "    .dataframe tbody tr th {\n",
       "        vertical-align: top;\n",
       "    }\n",
       "\n",
       "    .dataframe thead th {\n",
       "        text-align: right;\n",
       "    }\n",
       "</style>\n",
       "<table border=\"1\" class=\"dataframe\">\n",
       "  <thead>\n",
       "    <tr style=\"text-align: right;\">\n",
       "      <th></th>\n",
       "      <th>subActNum</th>\n",
       "      <th>subAct</th>\n",
       "      <th>start</th>\n",
       "      <th>end</th>\n",
       "      <th>dayNumeric</th>\n",
       "      <th>DAY</th>\n",
       "      <th>WDWE</th>\n",
       "      <th>HOUR</th>\n",
       "      <th>actDuration</th>\n",
       "      <th>timeStampArrayList</th>\n",
       "    </tr>\n",
       "  </thead>\n",
       "  <tbody>\n",
       "    <tr>\n",
       "      <th>0</th>\n",
       "      <td>67</td>\n",
       "      <td>bathroom_cabinet</td>\n",
       "      <td>2003-03-27 06:43:40</td>\n",
       "      <td>2003-03-27 06:43:43</td>\n",
       "      <td>3</td>\n",
       "      <td>Thu</td>\n",
       "      <td>WD</td>\n",
       "      <td>6</td>\n",
       "      <td>4</td>\n",
       "      <td>[2003-03-27 06:43:40, 2003-03-27 06:43:41, 200...</td>\n",
       "    </tr>\n",
       "    <tr>\n",
       "      <th>1</th>\n",
       "      <td>100</td>\n",
       "      <td>bathroom_toiletflush</td>\n",
       "      <td>2003-03-27 06:44:06</td>\n",
       "      <td>2003-03-27 06:44:07</td>\n",
       "      <td>3</td>\n",
       "      <td>Thu</td>\n",
       "      <td>WD</td>\n",
       "      <td>6</td>\n",
       "      <td>2</td>\n",
       "      <td>[2003-03-27 06:44:06, 2003-03-27 06:44:07]</td>\n",
       "    </tr>\n",
       "    <tr>\n",
       "      <th>2</th>\n",
       "      <td>101</td>\n",
       "      <td>bathroom_lightswitch</td>\n",
       "      <td>2003-03-27 06:44:20</td>\n",
       "      <td>2003-03-27 07:46:34</td>\n",
       "      <td>3</td>\n",
       "      <td>Thu</td>\n",
       "      <td>WD</td>\n",
       "      <td>6</td>\n",
       "      <td>3735</td>\n",
       "      <td>[2003-03-27 06:44:20, 2003-03-27 06:44:21, 200...</td>\n",
       "    </tr>\n",
       "    <tr>\n",
       "      <th>3</th>\n",
       "      <td>57</td>\n",
       "      <td>bathroom_medicinecabinet</td>\n",
       "      <td>2003-03-27 06:44:35</td>\n",
       "      <td>2003-03-27 06:44:48</td>\n",
       "      <td>3</td>\n",
       "      <td>Thu</td>\n",
       "      <td>WD</td>\n",
       "      <td>6</td>\n",
       "      <td>14</td>\n",
       "      <td>[2003-03-27 06:44:35, 2003-03-27 06:44:36, 200...</td>\n",
       "    </tr>\n",
       "    <tr>\n",
       "      <th>4</th>\n",
       "      <td>57</td>\n",
       "      <td>bathroom_medicinecabinet</td>\n",
       "      <td>2003-03-27 06:44:36</td>\n",
       "      <td>2003-03-27 06:44:48</td>\n",
       "      <td>3</td>\n",
       "      <td>Thu</td>\n",
       "      <td>WD</td>\n",
       "      <td>6</td>\n",
       "      <td>13</td>\n",
       "      <td>[2003-03-27 06:44:36, 2003-03-27 06:44:37, 200...</td>\n",
       "    </tr>\n",
       "  </tbody>\n",
       "</table>\n",
       "</div>"
      ],
      "text/plain": [
       "   subActNum                    subAct                start  \\\n",
       "0         67          bathroom_cabinet  2003-03-27 06:43:40   \n",
       "1        100      bathroom_toiletflush  2003-03-27 06:44:06   \n",
       "2        101      bathroom_lightswitch  2003-03-27 06:44:20   \n",
       "3         57  bathroom_medicinecabinet  2003-03-27 06:44:35   \n",
       "4         57  bathroom_medicinecabinet  2003-03-27 06:44:36   \n",
       "\n",
       "                   end  dayNumeric  DAY WDWE  HOUR  actDuration  \\\n",
       "0  2003-03-27 06:43:43           3  Thu   WD     6            4   \n",
       "1  2003-03-27 06:44:07           3  Thu   WD     6            2   \n",
       "2  2003-03-27 07:46:34           3  Thu   WD     6         3735   \n",
       "3  2003-03-27 06:44:48           3  Thu   WD     6           14   \n",
       "4  2003-03-27 06:44:48           3  Thu   WD     6           13   \n",
       "\n",
       "                                  timeStampArrayList  \n",
       "0  [2003-03-27 06:43:40, 2003-03-27 06:43:41, 200...  \n",
       "1         [2003-03-27 06:44:06, 2003-03-27 06:44:07]  \n",
       "2  [2003-03-27 06:44:20, 2003-03-27 06:44:21, 200...  \n",
       "3  [2003-03-27 06:44:35, 2003-03-27 06:44:36, 200...  \n",
       "4  [2003-03-27 06:44:36, 2003-03-27 06:44:37, 200...  "
      ]
     },
     "execution_count": 8,
     "metadata": {},
     "output_type": "execute_result"
    }
   ],
   "source": [
    "ds_int_one.head()"
   ]
  },
  {
   "cell_type": "code",
   "execution_count": 9,
   "metadata": {
    "ExecuteTime": {
     "end_time": "2019-11-03T07:22:45.807063Z",
     "start_time": "2019-11-03T07:22:45.779669Z"
    }
   },
   "outputs": [
    {
     "data": {
      "text/html": [
       "<div>\n",
       "<style scoped>\n",
       "    .dataframe tbody tr th:only-of-type {\n",
       "        vertical-align: middle;\n",
       "    }\n",
       "\n",
       "    .dataframe tbody tr th {\n",
       "        vertical-align: top;\n",
       "    }\n",
       "\n",
       "    .dataframe thead th {\n",
       "        text-align: right;\n",
       "    }\n",
       "</style>\n",
       "<table border=\"1\" class=\"dataframe\">\n",
       "  <thead>\n",
       "    <tr style=\"text-align: right;\">\n",
       "      <th></th>\n",
       "      <th>subActNum</th>\n",
       "      <th>end</th>\n",
       "      <th>actDuration</th>\n",
       "      <th>timeStampArrayList</th>\n",
       "    </tr>\n",
       "    <tr>\n",
       "      <th>start</th>\n",
       "      <th></th>\n",
       "      <th></th>\n",
       "      <th></th>\n",
       "      <th></th>\n",
       "    </tr>\n",
       "  </thead>\n",
       "  <tbody>\n",
       "    <tr>\n",
       "      <th>2003-03-27 06:43:40</th>\n",
       "      <td>67</td>\n",
       "      <td>2003-03-27 06:43:43</td>\n",
       "      <td>4</td>\n",
       "      <td>[2003-03-27 06:43:40, 2003-03-27 06:43:41, 200...</td>\n",
       "    </tr>\n",
       "    <tr>\n",
       "      <th>2003-03-27 06:44:06</th>\n",
       "      <td>100</td>\n",
       "      <td>2003-03-27 06:44:07</td>\n",
       "      <td>2</td>\n",
       "      <td>[2003-03-27 06:44:06, 2003-03-27 06:44:07]</td>\n",
       "    </tr>\n",
       "    <tr>\n",
       "      <th>2003-03-27 06:44:20</th>\n",
       "      <td>101</td>\n",
       "      <td>2003-03-27 07:46:34</td>\n",
       "      <td>3735</td>\n",
       "      <td>[2003-03-27 06:44:20, 2003-03-27 06:44:21, 200...</td>\n",
       "    </tr>\n",
       "    <tr>\n",
       "      <th>2003-03-27 06:44:35</th>\n",
       "      <td>57</td>\n",
       "      <td>2003-03-27 06:44:48</td>\n",
       "      <td>14</td>\n",
       "      <td>[2003-03-27 06:44:35, 2003-03-27 06:44:36, 200...</td>\n",
       "    </tr>\n",
       "    <tr>\n",
       "      <th>2003-03-27 06:44:36</th>\n",
       "      <td>57</td>\n",
       "      <td>2003-03-27 06:44:48</td>\n",
       "      <td>13</td>\n",
       "      <td>[2003-03-27 06:44:36, 2003-03-27 06:44:37, 200...</td>\n",
       "    </tr>\n",
       "  </tbody>\n",
       "</table>\n",
       "</div>"
      ],
      "text/plain": [
       "                     subActNum                  end  actDuration  \\\n",
       "start                                                              \n",
       "2003-03-27 06:43:40         67  2003-03-27 06:43:43            4   \n",
       "2003-03-27 06:44:06        100  2003-03-27 06:44:07            2   \n",
       "2003-03-27 06:44:20        101  2003-03-27 07:46:34         3735   \n",
       "2003-03-27 06:44:35         57  2003-03-27 06:44:48           14   \n",
       "2003-03-27 06:44:36         57  2003-03-27 06:44:48           13   \n",
       "\n",
       "                                                    timeStampArrayList  \n",
       "start                                                                   \n",
       "2003-03-27 06:43:40  [2003-03-27 06:43:40, 2003-03-27 06:43:41, 200...  \n",
       "2003-03-27 06:44:06         [2003-03-27 06:44:06, 2003-03-27 06:44:07]  \n",
       "2003-03-27 06:44:20  [2003-03-27 06:44:20, 2003-03-27 06:44:21, 200...  \n",
       "2003-03-27 06:44:35  [2003-03-27 06:44:35, 2003-03-27 06:44:36, 200...  \n",
       "2003-03-27 06:44:36  [2003-03-27 06:44:36, 2003-03-27 06:44:37, 200...  "
      ]
     },
     "execution_count": 9,
     "metadata": {},
     "output_type": "execute_result"
    }
   ],
   "source": [
    "ds_int_two.head()"
   ]
  },
  {
   "cell_type": "code",
   "execution_count": 10,
   "metadata": {
    "ExecuteTime": {
     "end_time": "2019-11-03T07:23:08.646609Z",
     "start_time": "2019-11-03T07:23:08.630154Z"
    }
   },
   "outputs": [
    {
     "data": {
      "text/html": [
       "<div>\n",
       "<style scoped>\n",
       "    .dataframe tbody tr th:only-of-type {\n",
       "        vertical-align: middle;\n",
       "    }\n",
       "\n",
       "    .dataframe tbody tr th {\n",
       "        vertical-align: top;\n",
       "    }\n",
       "\n",
       "    .dataframe thead th {\n",
       "        text-align: right;\n",
       "    }\n",
       "</style>\n",
       "<table border=\"1\" class=\"dataframe\">\n",
       "  <thead>\n",
       "    <tr style=\"text-align: right;\">\n",
       "      <th></th>\n",
       "      <th>subActNum</th>\n",
       "      <th>actDuration</th>\n",
       "      <th>timeStampArrayList</th>\n",
       "      <th>duration</th>\n",
       "    </tr>\n",
       "    <tr>\n",
       "      <th>start</th>\n",
       "      <th></th>\n",
       "      <th></th>\n",
       "      <th></th>\n",
       "      <th></th>\n",
       "    </tr>\n",
       "  </thead>\n",
       "  <tbody>\n",
       "    <tr>\n",
       "      <th>2003-03-27 06:43:40</th>\n",
       "      <td>67</td>\n",
       "      <td>4</td>\n",
       "      <td>[2003-03-27 06:43:40, 2003-03-27 06:43:41, 200...</td>\n",
       "      <td>2003-03-27 06:43:40</td>\n",
       "    </tr>\n",
       "    <tr>\n",
       "      <th>2003-03-27 06:43:40</th>\n",
       "      <td>67</td>\n",
       "      <td>4</td>\n",
       "      <td>[2003-03-27 06:43:40, 2003-03-27 06:43:41, 200...</td>\n",
       "      <td>2003-03-27 06:43:41</td>\n",
       "    </tr>\n",
       "    <tr>\n",
       "      <th>2003-03-27 06:43:40</th>\n",
       "      <td>67</td>\n",
       "      <td>4</td>\n",
       "      <td>[2003-03-27 06:43:40, 2003-03-27 06:43:41, 200...</td>\n",
       "      <td>2003-03-27 06:43:42</td>\n",
       "    </tr>\n",
       "    <tr>\n",
       "      <th>2003-03-27 06:43:40</th>\n",
       "      <td>67</td>\n",
       "      <td>4</td>\n",
       "      <td>[2003-03-27 06:43:40, 2003-03-27 06:43:41, 200...</td>\n",
       "      <td>2003-03-27 06:43:43</td>\n",
       "    </tr>\n",
       "    <tr>\n",
       "      <th>2003-03-27 06:44:06</th>\n",
       "      <td>100</td>\n",
       "      <td>2</td>\n",
       "      <td>[2003-03-27 06:44:06, 2003-03-27 06:44:07]</td>\n",
       "      <td>2003-03-27 06:44:06</td>\n",
       "    </tr>\n",
       "  </tbody>\n",
       "</table>\n",
       "</div>"
      ],
      "text/plain": [
       "                     subActNum  actDuration  \\\n",
       "start                                         \n",
       "2003-03-27 06:43:40         67            4   \n",
       "2003-03-27 06:43:40         67            4   \n",
       "2003-03-27 06:43:40         67            4   \n",
       "2003-03-27 06:43:40         67            4   \n",
       "2003-03-27 06:44:06        100            2   \n",
       "\n",
       "                                                    timeStampArrayList  \\\n",
       "start                                                                    \n",
       "2003-03-27 06:43:40  [2003-03-27 06:43:40, 2003-03-27 06:43:41, 200...   \n",
       "2003-03-27 06:43:40  [2003-03-27 06:43:40, 2003-03-27 06:43:41, 200...   \n",
       "2003-03-27 06:43:40  [2003-03-27 06:43:40, 2003-03-27 06:43:41, 200...   \n",
       "2003-03-27 06:43:40  [2003-03-27 06:43:40, 2003-03-27 06:43:41, 200...   \n",
       "2003-03-27 06:44:06         [2003-03-27 06:44:06, 2003-03-27 06:44:07]   \n",
       "\n",
       "                               duration  \n",
       "start                                    \n",
       "2003-03-27 06:43:40 2003-03-27 06:43:40  \n",
       "2003-03-27 06:43:40 2003-03-27 06:43:41  \n",
       "2003-03-27 06:43:40 2003-03-27 06:43:42  \n",
       "2003-03-27 06:43:40 2003-03-27 06:43:43  \n",
       "2003-03-27 06:44:06 2003-03-27 06:44:06  "
      ]
     },
     "execution_count": 10,
     "metadata": {},
     "output_type": "execute_result"
    }
   ],
   "source": [
    "ds_int_three.head()"
   ]
  },
  {
   "cell_type": "code",
   "execution_count": 11,
   "metadata": {
    "ExecuteTime": {
     "end_time": "2019-11-03T07:23:32.210153Z",
     "start_time": "2019-11-03T07:23:32.013696Z"
    }
   },
   "outputs": [
    {
     "data": {
      "text/html": [
       "<div>\n",
       "<style scoped>\n",
       "    .dataframe tbody tr th:only-of-type {\n",
       "        vertical-align: middle;\n",
       "    }\n",
       "\n",
       "    .dataframe tbody tr th {\n",
       "        vertical-align: top;\n",
       "    }\n",
       "\n",
       "    .dataframe thead th {\n",
       "        text-align: right;\n",
       "    }\n",
       "</style>\n",
       "<table border=\"1\" class=\"dataframe\">\n",
       "  <thead>\n",
       "    <tr style=\"text-align: right;\">\n",
       "      <th></th>\n",
       "      <th>subActNum</th>\n",
       "      <th>actDuration</th>\n",
       "    </tr>\n",
       "    <tr>\n",
       "      <th>duration</th>\n",
       "      <th></th>\n",
       "      <th></th>\n",
       "    </tr>\n",
       "  </thead>\n",
       "  <tbody>\n",
       "    <tr>\n",
       "      <th>2003-03-27 06:43:40</th>\n",
       "      <td>67</td>\n",
       "      <td>4</td>\n",
       "    </tr>\n",
       "    <tr>\n",
       "      <th>2003-03-27 06:43:41</th>\n",
       "      <td>67</td>\n",
       "      <td>4</td>\n",
       "    </tr>\n",
       "    <tr>\n",
       "      <th>2003-03-27 06:43:42</th>\n",
       "      <td>67</td>\n",
       "      <td>4</td>\n",
       "    </tr>\n",
       "    <tr>\n",
       "      <th>2003-03-27 06:43:43</th>\n",
       "      <td>67</td>\n",
       "      <td>4</td>\n",
       "    </tr>\n",
       "    <tr>\n",
       "      <th>2003-03-27 06:44:06</th>\n",
       "      <td>100</td>\n",
       "      <td>2</td>\n",
       "    </tr>\n",
       "  </tbody>\n",
       "</table>\n",
       "</div>"
      ],
      "text/plain": [
       "                     subActNum  actDuration\n",
       "duration                                   \n",
       "2003-03-27 06:43:40         67            4\n",
       "2003-03-27 06:43:41         67            4\n",
       "2003-03-27 06:43:42         67            4\n",
       "2003-03-27 06:43:43         67            4\n",
       "2003-03-27 06:44:06        100            2"
      ]
     },
     "execution_count": 11,
     "metadata": {},
     "output_type": "execute_result"
    }
   ],
   "source": [
    "ds_int_four.head()"
   ]
  },
  {
   "cell_type": "code",
   "execution_count": 13,
   "metadata": {
    "ExecuteTime": {
     "end_time": "2019-11-03T07:24:20.043964Z",
     "start_time": "2019-11-03T07:24:19.824331Z"
    }
   },
   "outputs": [
    {
     "name": "stdout",
     "output_type": "stream",
     "text": [
      "<class 'pandas.core.frame.DataFrame'>\n",
      "DatetimeIndex: 665091 entries, 2003-03-27 06:43:40 to 2003-04-11 22:24:17\n",
      "Data columns (total 33 columns):\n",
      "subActNum_100    665091 non-null uint8\n",
      "subActNum_101    665091 non-null uint8\n",
      "subActNum_104    665091 non-null uint8\n",
      "subActNum_105    665091 non-null uint8\n",
      "subActNum_106    665091 non-null uint8\n",
      "subActNum_107    665091 non-null uint8\n",
      "subActNum_108    665091 non-null uint8\n",
      "subActNum_119    665091 non-null uint8\n",
      "subActNum_125    665091 non-null uint8\n",
      "subActNum_126    665091 non-null uint8\n",
      "subActNum_129    665091 non-null uint8\n",
      "subActNum_130    665091 non-null uint8\n",
      "subActNum_131    665091 non-null uint8\n",
      "subActNum_132    665091 non-null uint8\n",
      "subActNum_137    665091 non-null uint8\n",
      "subActNum_140    665091 non-null uint8\n",
      "subActNum_141    665091 non-null uint8\n",
      "subActNum_142    665091 non-null uint8\n",
      "subActNum_143    665091 non-null uint8\n",
      "subActNum_146    665091 non-null uint8\n",
      "subActNum_56     665091 non-null uint8\n",
      "subActNum_57     665091 non-null uint8\n",
      "subActNum_67     665091 non-null uint8\n",
      "subActNum_68     665091 non-null uint8\n",
      "subActNum_70     665091 non-null uint8\n",
      "subActNum_76     665091 non-null uint8\n",
      "subActNum_82     665091 non-null uint8\n",
      "subActNum_88     665091 non-null uint8\n",
      "subActNum_90     665091 non-null uint8\n",
      "subActNum_92     665091 non-null uint8\n",
      "subActNum_93     665091 non-null uint8\n",
      "subActNum_96     665091 non-null uint8\n",
      "subActNum_98     665091 non-null uint8\n",
      "dtypes: uint8(33)\n",
      "memory usage: 26.0 MB\n"
     ]
    }
   ],
   "source": [
    "ds_final.info()"
   ]
  },
  {
   "cell_type": "markdown",
   "metadata": {
    "ExecuteTime": {
     "end_time": "2019-11-03T06:13:53.173967Z",
     "start_time": "2019-11-03T06:13:53.098400Z"
    }
   },
   "source": [
    "### Preprocessing"
   ]
  },
  {
   "cell_type": "markdown",
   "metadata": {},
   "source": [
    "* `len(ds)` = 3085839\n",
    "*  (16 * 24 * 60 * 60) < len(ds) = This shows that their are duplicate INDEX values - this is GOOD"
   ]
  },
  {
   "cell_type": "code",
   "execution_count": null,
   "metadata": {
    "ExecuteTime": {
     "start_time": "2019-11-03T07:17:31.063Z"
    }
   },
   "outputs": [],
   "source": [
    "len(ds)"
   ]
  },
  {
   "cell_type": "code",
   "execution_count": null,
   "metadata": {
    "ExecuteTime": {
     "start_time": "2019-11-03T07:17:31.071Z"
    }
   },
   "outputs": [],
   "source": [
    "16 * 24 * 60 * 60"
   ]
  },
  {
   "cell_type": "code",
   "execution_count": 14,
   "metadata": {
    "ExecuteTime": {
     "end_time": "2019-11-03T07:24:45.670286Z",
     "start_time": "2019-11-03T07:24:44.401237Z"
    }
   },
   "outputs": [],
   "source": [
    "ds = ds.groupby(['duration']).agg('sum')"
   ]
  },
  {
   "cell_type": "code",
   "execution_count": 15,
   "metadata": {
    "ExecuteTime": {
     "end_time": "2019-11-03T07:25:07.457560Z",
     "start_time": "2019-11-03T07:25:07.306349Z"
    }
   },
   "outputs": [],
   "source": [
    "ds = ds.dropna(how = 'all')"
   ]
  },
  {
   "cell_type": "code",
   "execution_count": 20,
   "metadata": {
    "ExecuteTime": {
     "end_time": "2019-11-03T07:28:42.476424Z",
     "start_time": "2019-11-03T07:28:42.457870Z"
    }
   },
   "outputs": [
    {
     "data": {
      "text/plain": [
       "297624"
      ]
     },
     "execution_count": 20,
     "metadata": {},
     "output_type": "execute_result"
    }
   ],
   "source": [
    "len(ds)"
   ]
  },
  {
   "cell_type": "code",
   "execution_count": 16,
   "metadata": {
    "ExecuteTime": {
     "end_time": "2019-11-03T07:25:30.016802Z",
     "start_time": "2019-11-03T07:25:29.995436Z"
    }
   },
   "outputs": [
    {
     "data": {
      "text/plain": [
       "16"
      ]
     },
     "execution_count": 16,
     "metadata": {},
     "output_type": "execute_result"
    }
   ],
   "source": [
    "maxValues = ds.max()                              # Checking for max values in df\n",
    "maxValues.max()                                   # The maximum value of max values"
   ]
  },
  {
   "cell_type": "markdown",
   "metadata": {},
   "source": [
    "* Values greater than 1 are attributed to duplication in the original dataset\n",
    "* Values greater than 1 represent only x% - extremely insignificant\n",
    "* All values greater than 1 will be converted to 1"
   ]
  },
  {
   "cell_type": "code",
   "execution_count": 17,
   "metadata": {
    "ExecuteTime": {
     "end_time": "2019-11-03T07:25:56.962314Z",
     "start_time": "2019-11-03T07:25:52.526422Z"
    }
   },
   "outputs": [],
   "source": [
    "ds = ds.replace(to_replace =[2, 3, 4, 5, 6, 7, 8, \n",
    "                             9, 10, 11, 12, 13, 14, 15, 16], value = 1) "
   ]
  },
  {
   "cell_type": "code",
   "execution_count": 18,
   "metadata": {
    "ExecuteTime": {
     "end_time": "2019-11-03T07:26:21.020967Z",
     "start_time": "2019-11-03T07:26:20.993474Z"
    }
   },
   "outputs": [
    {
     "data": {
      "text/plain": [
       "1"
      ]
     },
     "execution_count": 18,
     "metadata": {},
     "output_type": "execute_result"
    }
   ],
   "source": [
    "maxValues = ds.max()                              # Checking for max values in df\n",
    "maxValues.max()                                   # The maximum value of max values"
   ]
  },
  {
   "cell_type": "code",
   "execution_count": 21,
   "metadata": {
    "ExecuteTime": {
     "end_time": "2019-11-03T07:29:22.433010Z",
     "start_time": "2019-11-03T07:29:08.912968Z"
    }
   },
   "outputs": [],
   "source": [
    "ds.to_csv(PATH + '/intermediate_datasets/S1SubAct_B_s_NoDupes.csv', index='duration')"
   ]
  },
  {
   "cell_type": "code",
   "execution_count": null,
   "metadata": {
    "ExecuteTime": {
     "start_time": "2019-11-03T07:17:31.678Z"
    }
   },
   "outputs": [],
   "source": [
    "import gc\n",
    "gc.collect()\n",
    "from IPython import get_ipython;\n",
    "get_ipython().magic('reset -sf') "
   ]
  },
  {
   "cell_type": "code",
   "execution_count": null,
   "metadata": {
    "ExecuteTime": {
     "start_time": "2019-11-03T07:17:31.698Z"
    }
   },
   "outputs": [],
   "source": [
    "%run -i Packages.py\n",
    "%matplotlib inline"
   ]
  },
  {
   "cell_type": "markdown",
   "metadata": {},
   "source": [
    "## Collapse S1a SubActivities into Minutes - VALUE OF 60!!!"
   ]
  },
  {
   "cell_type": "markdown",
   "metadata": {},
   "source": [
    "Why?\n",
    "\n",
    "**Input** `ds = pd.read_csv('S1SubActivities_timeRangeBoolean.csv', index_col = 'duration')` <br>\n",
    "**Input pt II** `ds.index = pd.to_datetime(ds.index)`\n",
    "\n",
    "---\n",
    "\n",
    "**Example preprocessed output:**\n",
    "\n",
    "**ADD DIM**\n",
    "\n",
    "idx (duration)      | subActNum_100 | subActNum_101 | subActNum_104 | subActNum_105 | subActNum_106 |  \n",
    "----------          | ---------     | ----------    | ---------     | ---------     | ---------     |\n",
    "2003-03-27 06:43:00 | 0.0           | 0.0           | 0.0           | 0.0           | 0.0           |\n",
    "2003-03-27 06:44:00 | 1.0           | 1.0           | 0.0           | 0.0           | 0.0           |\n",
    "2003-03-27 06:45:00 | 1.0           | 1.0           | 0.0           | 0.0           | 0.0           |\n",
    "2003-03-27 06:46:00 | 1.0           | 1.0           | 0.0           | 0.0           | 0.0           |\n",
    "2003-03-27 06:47:00 | 1.0           | 1.0           | 0.0           | 0.0           | 0.0           |\n",
    "\n",
    "---\n",
    "\n",
    "**Output** `ds.to_csv('S1SubActivities_timeRangeBooleanMinutes.csv', index = 'duration')` <br>\n",
    "**Output** `ds.to_csv('S1SubActivities_timeRangeBooleanMinutesDropNA.csv', index = 'duration')`\n",
    "\n",
    "* Use in-built Pandas function\n",
    "* `resample('min').max()` "
   ]
  },
  {
   "cell_type": "code",
   "execution_count": null,
   "metadata": {
    "ExecuteTime": {
     "start_time": "2019-11-03T07:17:31.716Z"
    }
   },
   "outputs": [],
   "source": [
    "ds = pd.read_csv('intermediate_datasets/S1SubAct_B_s_NoDupes.csv', index_col = 'duration')\n",
    "#ds.index = pd.to_datetime(ds.index)"
   ]
  },
  {
   "cell_type": "code",
   "execution_count": null,
   "metadata": {
    "ExecuteTime": {
     "start_time": "2019-11-03T07:17:31.733Z"
    }
   },
   "outputs": [],
   "source": [
    "%run -i script_4_6.py"
   ]
  },
  {
   "cell_type": "code",
   "execution_count": null,
   "metadata": {
    "ExecuteTime": {
     "start_time": "2019-11-03T07:17:31.743Z"
    }
   },
   "outputs": [],
   "source": [
    "summary = dsMin.describe()\n",
    "summary = summary.transpose()\n",
    "summary.head(n=5)"
   ]
  },
  {
   "cell_type": "code",
   "execution_count": null,
   "metadata": {
    "ExecuteTime": {
     "start_time": "2019-11-03T07:17:31.755Z"
    }
   },
   "outputs": [],
   "source": [
    "summary = dsHour.describe()\n",
    "summary = summary.transpose()\n",
    "summary.head(n=5)"
   ]
  },
  {
   "cell_type": "code",
   "execution_count": null,
   "metadata": {
    "ExecuteTime": {
     "start_time": "2019-11-03T07:17:31.767Z"
    }
   },
   "outputs": [],
   "source": [
    "dsHourFreqMelt.head(n=4)"
   ]
  },
  {
   "cell_type": "code",
   "execution_count": null,
   "metadata": {
    "ExecuteTime": {
     "start_time": "2019-11-03T07:17:31.786Z"
    }
   },
   "outputs": [],
   "source": [
    "import pandas as pd\n",
    "import numpy as np\n",
    "import time\n",
    "from datetime import datetime\n",
    "import pandas as pd\n",
    "\n",
    "def add_DAY_WDWE_phaseX(ds):\n",
    "    dayNumKeyWithDAYDict = pd.Series(['Mon','Tue','Wed','Thu','Fri','Sat','Sun'], ['0','1','2','3','4','5','6']).to_dict()\n",
    "    dayNumKeyWithWDWEDict = pd.Series(['WD','WD','WD','WD','WD','WE','WE'], ['0','1','2','3','4','5','6']).to_dict()\n",
    "    ds.set_index(ds.timeStamp, inplace = True)\n",
    "    ds.insert((len(ds.columns)), \"dayNumeric\", ds.index.dayofweek.astype(str), True)\n",
    "    ds.insert((len(ds.columns)), \"DAY\", ds.index.dayofweek.astype(str), True)\n",
    "    ds.insert((len(ds.columns)), \"WDWE\", ds.index.dayofweek.astype(str), True)\n",
    "    ds = ds.replace({\"DAY\": dayNumKeyWithDAYDict})\n",
    "    ds = ds.replace({\"WDWE\": dayNumKeyWithWDWEDict})\n",
    "    ds.reset_index(drop = True, inplace = True)\n",
    "    ds['HOUR'] = ds['timeStamp'].dt.hour\n",
    "    return ds"
   ]
  },
  {
   "cell_type": "code",
   "execution_count": null,
   "metadata": {
    "ExecuteTime": {
     "start_time": "2019-11-03T07:17:31.814Z"
    }
   },
   "outputs": [],
   "source": [
    "dsHourFreqMelt = add_DAY_WDWE_phaseX(dsHourFreqMelt)"
   ]
  },
  {
   "cell_type": "code",
   "execution_count": null,
   "metadata": {
    "ExecuteTime": {
     "start_time": "2019-11-03T07:17:31.826Z"
    }
   },
   "outputs": [],
   "source": [
    "dsHourFreqMelt.head()"
   ]
  },
  {
   "cell_type": "code",
   "execution_count": null,
   "metadata": {
    "ExecuteTime": {
     "start_time": "2019-11-03T07:17:31.846Z"
    }
   },
   "outputs": [],
   "source": [
    "dsHourFreqMelt = dsHourFreqMelt.set_index('timeStamp', drop = True)"
   ]
  },
  {
   "cell_type": "code",
   "execution_count": null,
   "metadata": {
    "ExecuteTime": {
     "start_time": "2019-11-03T07:17:31.862Z"
    }
   },
   "outputs": [],
   "source": [
    "dsHourFreqMelt.to_csv('ds_resampled_freq.csv',index = True)"
   ]
  },
  {
   "cell_type": "code",
   "execution_count": null,
   "metadata": {
    "ExecuteTime": {
     "start_time": "2019-11-03T07:17:31.875Z"
    }
   },
   "outputs": [],
   "source": [
    "%%R\n",
    "ds <- read_csv(\"ds_resampled_freq.csv\")"
   ]
  },
  {
   "cell_type": "code",
   "execution_count": null,
   "metadata": {
    "ExecuteTime": {
     "start_time": "2019-11-03T07:17:31.888Z"
    }
   },
   "outputs": [],
   "source": [
    "%%R\n",
    "colnames(ds)"
   ]
  },
  {
   "cell_type": "code",
   "execution_count": null,
   "metadata": {
    "ExecuteTime": {
     "start_time": "2019-11-03T07:17:31.904Z"
    }
   },
   "outputs": [],
   "source": [
    "%%R\n",
    "ds$DATE <- date(ds$timeStamp)"
   ]
  },
  {
   "cell_type": "code",
   "execution_count": null,
   "metadata": {
    "ExecuteTime": {
     "start_time": "2019-11-03T07:17:31.920Z"
    }
   },
   "outputs": [],
   "source": [
    "%%R -u px -w 1000 -h 1000\n",
    "p <- ggplot()\n",
    "p <- p + geom_point(data = ds, aes(x = HOUR, y = freq, colour = DAY))\n",
    "p <- p + facet_wrap(facets = vars(subAct)) + theme(legend.position=\"bottom\")\n",
    "p"
   ]
  },
  {
   "cell_type": "code",
   "execution_count": null,
   "metadata": {
    "ExecuteTime": {
     "start_time": "2019-11-03T07:17:31.933Z"
    }
   },
   "outputs": [],
   "source": [
    "%%R -u px -w 1000 -h 1000\n",
    "p <- ggplot()\n",
    "p <- p + geom_point(data = ds, aes(x = HOUR, y = freq, colour = WDWE))\n",
    "p <- p + facet_wrap(facets = vars(subAct)) + theme(legend.position=\"bottom\")\n",
    "p"
   ]
  },
  {
   "cell_type": "code",
   "execution_count": null,
   "metadata": {},
   "outputs": [],
   "source": []
  },
  {
   "cell_type": "code",
   "execution_count": null,
   "metadata": {},
   "outputs": [],
   "source": []
  },
  {
   "cell_type": "code",
   "execution_count": null,
   "metadata": {},
   "outputs": [],
   "source": []
  },
  {
   "cell_type": "code",
   "execution_count": null,
   "metadata": {},
   "outputs": [],
   "source": []
  },
  {
   "cell_type": "code",
   "execution_count": null,
   "metadata": {},
   "outputs": [],
   "source": []
  },
  {
   "cell_type": "code",
   "execution_count": null,
   "metadata": {},
   "outputs": [],
   "source": []
  },
  {
   "cell_type": "code",
   "execution_count": null,
   "metadata": {},
   "outputs": [],
   "source": []
  },
  {
   "cell_type": "code",
   "execution_count": null,
   "metadata": {},
   "outputs": [],
   "source": []
  },
  {
   "cell_type": "markdown",
   "metadata": {},
   "source": [
    "# Machine Learning"
   ]
  },
  {
   "cell_type": "markdown",
   "metadata": {},
   "source": [
    "Text\n",
    "- Past work ('in the literature survery', which was pulled from a broad range of areas) = no consideration of NON-energy consuming activities in XYZ\n",
    "- First point of difference = in both Event Row Structure and Boolean array structure, energy and non-enery will be considered"
   ]
  },
  {
   "cell_type": "markdown",
   "metadata": {},
   "source": [
    "### Addition DS = DS with energy amounts"
   ]
  },
  {
   "cell_type": "markdown",
   "metadata": {},
   "source": [
    "- Discuss\n",
    "- Explore"
   ]
  },
  {
   "cell_type": "code",
   "execution_count": null,
   "metadata": {},
   "outputs": [],
   "source": []
  },
  {
   "cell_type": "markdown",
   "metadata": {},
   "source": [
    "## Machine Learning using Event Row Structure - Benchmark"
   ]
  },
  {
   "cell_type": "code",
   "execution_count": null,
   "metadata": {},
   "outputs": [],
   "source": []
  },
  {
   "cell_type": "markdown",
   "metadata": {},
   "source": [
    "## Machine Learning Using Boolean Array Structure - Benchmark"
   ]
  },
  {
   "cell_type": "code",
   "execution_count": null,
   "metadata": {},
   "outputs": [],
   "source": [
    "import warnings\n",
    "warnings.filterwarnings(\"ignore\")\n",
    "import numpy as np\n",
    "import pandas as pd\n",
    "from sklearn.model_selection import train_test_split\n",
    "from sklearn.tree import DecisionTreeClassifier\n",
    "from sklearn import feature_selection as fs\n",
    "from sklearn.model_selection import RepeatedStratifiedKFold, GridSearchCV\n",
    "from sklearn.preprocessing import StandardScaler"
   ]
  },
  {
   "cell_type": "code",
   "execution_count": null,
   "metadata": {},
   "outputs": [],
   "source": [
    "ds = pd.read_csv('S1Act_B_m_NoDupes.csv', index_col = \"duration\")\n",
    "ds.reset_index(drop = True, inplace = True)"
   ]
  },
  {
   "cell_type": "code",
   "execution_count": null,
   "metadata": {},
   "outputs": [],
   "source": [
    "ds.head()"
   ]
  },
  {
   "cell_type": "code",
   "execution_count": null,
   "metadata": {},
   "outputs": [],
   "source": [
    "Data = ds.drop(columns = 'kitchen_toaster').values   #\n",
    "target = ds['kitchen_toaster']                       #"
   ]
  },
  {
   "cell_type": "code",
   "execution_count": null,
   "metadata": {},
   "outputs": [],
   "source": [
    "D_train, D_test, t_train, t_test = train_test_split(Data, \n",
    "                                                    target, \n",
    "                                                    test_size = 0.3,\n",
    "                                                    random_state=999)"
   ]
  },
  {
   "cell_type": "code",
   "execution_count": null,
   "metadata": {},
   "outputs": [],
   "source": [
    "dt_classifier = DecisionTreeClassifier(max_depth=4,\n",
    "                                       criterion='entropy',\n",
    "                                       random_state = 999)"
   ]
  },
  {
   "cell_type": "code",
   "execution_count": null,
   "metadata": {},
   "outputs": [],
   "source": [
    "dt_classifier.fit(D_train, t_train);"
   ]
  },
  {
   "cell_type": "code",
   "execution_count": null,
   "metadata": {},
   "outputs": [],
   "source": [
    "dt_classifier.score(D_test, t_test)"
   ]
  },
  {
   "cell_type": "code",
   "execution_count": null,
   "metadata": {},
   "outputs": [],
   "source": [
    "cv_method = RepeatedStratifiedKFold(n_splits = 5, \n",
    "                                    n_repeats = 3, \n",
    "                                    random_state = 999)\n",
    "\n",
    "dt_classifier = DecisionTreeClassifier(random_state=999)\n",
    "\n",
    "params_DT = {'criterion': ['gini', 'entropy'],\n",
    "             'max_depth': [2, 3, 4, 5]}\n",
    "\n",
    "gs = GridSearchCV(estimator=dt_classifier, \n",
    "                  param_grid=params_DT, \n",
    "                  cv=cv_method,\n",
    "                  verbose=1, \n",
    "                  scoring='accuracy')"
   ]
  },
  {
   "cell_type": "code",
   "execution_count": null,
   "metadata": {},
   "outputs": [],
   "source": [
    "print(gs.fit(Data, target))\n",
    "print(gs.best_params_)\n",
    "print(gs.best_score_)"
   ]
  },
  {
   "cell_type": "code",
   "execution_count": null,
   "metadata": {},
   "outputs": [],
   "source": [
    "import altair as alt\n",
    "\n",
    "def plot_imp(best_features, scores, method_name, color):\n",
    "    \n",
    "    df = pd.DataFrame({'features': best_features, \n",
    "                       'importances': scores})\n",
    "    \n",
    "    chart = alt.Chart(df, \n",
    "                      width=500, \n",
    "                      title=method_name + ' Feature Importances'\n",
    "                     ).mark_bar(opacity=0.95, \n",
    "                                color=color).encode(\n",
    "        alt.X('features', title='Feature', sort=None, axis=alt.AxisConfig(labelAngle=45)),\n",
    "        alt.Y('importances', title='Importance')\n",
    "    )\n",
    "    \n",
    "    return chart"
   ]
  },
  {
   "cell_type": "markdown",
   "metadata": {},
   "source": [
    "### Feature Selection Using Mutual Information"
   ]
  },
  {
   "cell_type": "markdown",
   "metadata": {},
   "source": [
    "The mutual information method is a filter feature selection method that looks at the relationship between each descriptive feature and the target feature using the concept of entropy.\n",
    "\n",
    "The code below returns the indices of the 5 features that have the highest mutual information value. As in the F-score method, the wrapper is not used in any way when selecting features using the mutual information method."
   ]
  },
  {
   "cell_type": "code",
   "execution_count": null,
   "metadata": {},
   "outputs": [],
   "source": [
    "num_features = 5\n",
    "fs_fit_mutual_info = fs.SelectKBest(fs.mutual_info_classif, k=num_features)\n",
    "fs_fit_mutual_info.fit_transform(Data, target)\n",
    "fs_indices_mutual_info = np.argsort(fs_fit_mutual_info.scores_)[::-1][0:num_features]\n",
    "best_features_mutual_info = ds.columns[fs_indices_mutual_info].values\n",
    "best_features_mutual_info"
   ]
  },
  {
   "cell_type": "code",
   "execution_count": null,
   "metadata": {},
   "outputs": [],
   "source": [
    "feature_importances_mutual_info = fs_fit_mutual_info.scores_[fs_indices_mutual_info]\n",
    "feature_importances_mutual_info"
   ]
  },
  {
   "cell_type": "code",
   "execution_count": null,
   "metadata": {},
   "outputs": [],
   "source": [
    "plot_imp(best_features_mutual_info, feature_importances_mutual_info, 'Mutual Information', 'blue')"
   ]
  },
  {
   "cell_type": "markdown",
   "metadata": {},
   "source": [
    "https://en.wikipedia.org/wiki/Mutual_information\n",
    "\n",
    "2019-08-25 Talk about abstracting away methods using %run -i 'script.py'\n",
    "Key Finding It is far more straightforward (efficient) to simply plot all subactivities as attributes and then use boolean structure. This gives an 'out of the box' model that can be fed to a machine learning algorithm with minial pre-processing. That in and un or itself is not such a big deal - more so the accuracy level that is returned, plus the reduced requirement to perform matrice operations and using spatial proximity, temporal proximity.\n",
    "\n",
    "Key finding Using sensor-based technology on items that operate when given energy by the end user (eg opening a door), as compared with JUST looking at subActivities that requires external power.\n",
    "\n",
    "https://bokeh.pydata.org/en/latest/docs/gallery/les_mis.html"
   ]
  },
  {
   "cell_type": "code",
   "execution_count": null,
   "metadata": {},
   "outputs": [],
   "source": []
  },
  {
   "cell_type": "markdown",
   "metadata": {},
   "source": [
    "## Antagonistic AI for Power Reduction"
   ]
  },
  {
   "cell_type": "markdown",
   "metadata": {},
   "source": [
    "https://iotproject-s3644119.notebooks.azure.com/j/notebooks/05.%20S1a%20SubAct%20Duration%20Plots-Copy1.ipynb \n",
    "- Mention 'phased' approach"
   ]
  },
  {
   "cell_type": "code",
   "execution_count": null,
   "metadata": {},
   "outputs": [],
   "source": [
    "# dfIDX = pd.read_csv('S1Act_B_m_NoDupes.csv', index_col = None)\n",
    "# dfIDX.duration = pd.to_datetime(dfIDX.duration, format='%Y-%m-%d %H:%M:%S')\n",
    "# dfIDX.head()\n",
    "# dfIDX['duration']\n",
    "# df['timestamp'] = dfIDX['duration']"
   ]
  },
  {
   "cell_type": "code",
   "execution_count": null,
   "metadata": {},
   "outputs": [],
   "source": [
    "# import datetime as dt\n",
    "# def add_DAY_WDWE_phaseII(ds):\n",
    "#     dayNumKeyWithDAYDict = pd.Series(['Mon','Tue','Wed','Thu','Fri','Sat','Sun'], ['0','1','2','3','4','5','6']).to_dict()\n",
    "#     dayNumKeyWithWDWEDict = pd.Series(['WD','WD','WD','WD','WD','WE','WE'], ['0','1','2','3','4','5','6']).to_dict()\n",
    "#     ds.set_index(ds['timestamp'], inplace = True)\n",
    "#     ds.insert((len(ds.columns)), \"DAY\", ds.index.dayofweek.astype(str), True)\n",
    "#     ds.insert((len(ds.columns)), \"WDWE\", ds.index.dayofweek.astype(str), True)\n",
    "#     ds = ds.replace({\"DAY\": dayNumKeyWithDAYDict})\n",
    "#     ds = ds.replace({\"WDWE\": dayNumKeyWithWDWEDict})\n",
    "#     ds.reset_index(drop = True, inplace = True)\n",
    "#     ds['Hour'] = ds['timestamp'].dt.hour\n",
    "#     return ds\n",
    "\n",
    "# df = add_DAY_WDWE_phaseII(df)\n",
    "# df.head()"
   ]
  },
  {
   "cell_type": "code",
   "execution_count": null,
   "metadata": {},
   "outputs": [],
   "source": [
    "# df['Phase'] = \"Afternoon\"\n",
    "# df.loc[df['Hour'] < 9, 'Phase'] = \"Morning\"\n",
    "# df.loc[df['Hour'] >= 17, 'Phase'] = \"Evening\"\n",
    "# df.head()"
   ]
  },
  {
   "cell_type": "code",
   "execution_count": null,
   "metadata": {},
   "outputs": [],
   "source": [
    "import warnings\n",
    "warnings.filterwarnings(\"ignore\")\n",
    "import numpy as np\n",
    "import pandas as pd\n",
    "from sklearn.model_selection import train_test_split\n",
    "from sklearn.tree import DecisionTreeClassifier\n",
    "from sklearn import feature_selection as fs\n",
    "from sklearn.model_selection import RepeatedStratifiedKFold, GridSearchCV\n",
    "from sklearn.preprocessing import StandardScaler\n",
    "import datetime as dt\n",
    "\n",
    "df = pd.read_csv('S1Act_B_m_NoDupes.csv', index_col = \"duration\")\n",
    "df.reset_index(drop = True, inplace = True)\n",
    "\n",
    "df_sensors = pd.read_csv('S1Sensors_preprocessed.csv', index_col = None)\n",
    "df_sensors = df_sensors[df_sensors.reqEnergy]\n",
    "\n",
    "df_costs = pd.read_csv('power_costs.csv', index_col = None)\n",
    "\n",
    "def add_DAY_WDWE_phaseII(ds):\n",
    "    dayNumKeyWithDAYDict = pd.Series(['Mon','Tue','Wed','Thu','Fri','Sat','Sun'], ['0','1','2','3','4','5','6']).to_dict()\n",
    "    dayNumKeyWithWDWEDict = pd.Series(['WD','WD','WD','WD','WD','WE','WE'], ['0','1','2','3','4','5','6']).to_dict()\n",
    "    ds.set_index(ds['timestamp'], inplace = True)\n",
    "    ds.insert((len(ds.columns)), \"DAY\", ds.index.dayofweek.astype(str), True)\n",
    "    ds.insert((len(ds.columns)), \"WDWE\", ds.index.dayofweek.astype(str), True)\n",
    "    ds = ds.replace({\"DAY\": dayNumKeyWithDAYDict})\n",
    "    ds = ds.replace({\"WDWE\": dayNumKeyWithWDWEDict})\n",
    "    ds.reset_index(drop = True, inplace = True)\n",
    "    ds['Hour'] = ds['timestamp'].dt.hour\n",
    "    return ds"
   ]
  },
  {
   "cell_type": "code",
   "execution_count": null,
   "metadata": {},
   "outputs": [],
   "source": [
    "#Assuming everything that is common has been pre-processed by this stage\n",
    "\n",
    "def calc_subAct(dataframe, subAct, wattage, df_costs):\n",
    "    # Duplicate the DF to avoid corrupting it\n",
    "    df = dataframe.copy()\n",
    "    \n",
    "    # First step is to train the classifier\n",
    "    Data = df.drop(columns = subAct).values\n",
    "    target = df[subAct]\n",
    "    D_train, D_test, t_train, t_test = train_test_split(Data, \n",
    "                                                        target, \n",
    "                                                        test_size = 0.3,\n",
    "                                                        random_state=999)\n",
    "    dt_classifier = DecisionTreeClassifier(max_depth=4,\n",
    "                                           criterion='entropy',\n",
    "                                           random_state = 999)\n",
    "    dt_classifier.fit(D_train, t_train)\n",
    "    confidence = dt_classifier.score(D_test, t_test)\n",
    "    df['prediction'] = dt_classifier.predict(Data)\n",
    "    df['intervention'] = (df['prediction'].diff() == -1) & (df[subAct] == 1)\n",
    "    \n",
    "    dfIDX = pd.read_csv('S1Act_B_m_NoDupes.csv', index_col = None)\n",
    "    dfIDX.duration = pd.to_datetime(dfIDX.duration, format='%Y-%m-%d %H:%M:%S')\n",
    "    df['timestamp'] = dfIDX['duration']\n",
    "\n",
    "    df = add_DAY_WDWE_phaseII(df)\n",
    "    df['Phase'] = \"Afternoon\"\n",
    "    df.loc[df['Hour'] < 12, 'Phase'] = \"Morning\"\n",
    "    df.loc[df['Hour'] >= 18, 'Phase'] = \"Evening\"\n",
    "    \n",
    "    # Calculate approx durations\n",
    "    duration = 0\n",
    "    duration_col = []\n",
    "\n",
    "    for row in df.iterrows():\n",
    "        if row[1][subAct] == 1:\n",
    "            duration += 1\n",
    "        else:\n",
    "            duration = 0\n",
    "\n",
    "        duration_col.append(duration)\n",
    "\n",
    "    df['duration'] = duration_col\n",
    "\n",
    "    cancelled_interventions = 0\n",
    "    completed_interventions = 0\n",
    "    possible_intervention = False\n",
    "    intervening = False\n",
    "\n",
    "    total_minutes_saved = 0\n",
    "    total_kwh_saved = 0\n",
    "    total_dollars_saved = 0\n",
    "\n",
    "    for row in df.iterrows():\n",
    "        if row[1]['intervention'] and not intervening:\n",
    "            possible_intervention = True\n",
    "        if possible_intervention:\n",
    "            if row[1][subAct] == 0:\n",
    "                possible_intervention = False\n",
    "                cancelled_interventions += 1\n",
    "            else:\n",
    "                if row[1]['duration'] > benchmark_usage[subAct][row[1]['WDWE']][row[1]['Phase']] / 60:\n",
    "                    intervening = True\n",
    "                    completed_interventions += 1\n",
    "                    possible_intervention = False\n",
    "        if intervening:\n",
    "            if row[1][subAct] == 0:\n",
    "                intervening = False\n",
    "            else:\n",
    "                total_minutes_saved += 1\n",
    "                kwh_saved = wattage / 60\n",
    "                total_kwh_saved += kwh_saved\n",
    "                hour = row[1]['Hour']\n",
    "                wdwe = row[1]['WDWE']\n",
    "                rate = df_costs[(df_costs['Hour'] == hour) & (df_costs['WDWE'] == wdwe)].iloc[0]['cost_per_kwh']\n",
    "                dollars_saved = rate * kwh_saved\n",
    "                total_dollars_saved += dollars_saved\n",
    "\n",
    "    # We see that we didn't quite save as many minutes of electricity but we likely annoyed the user less\n",
    "    # Note that this means our 'confidence' value is going to be more conservative than it needs to be\n",
    "    print(\"SubAct:\",subAct)\n",
    "    print(\"Classifier confidence:\", confidence)\n",
    "    print(\"Number of completed interventions:\", completed_interventions)\n",
    "    print(\"Number of interventions cancelled due to not meeting average number of minutes usage:\", \n",
    "          cancelled_interventions)\n",
    "    print(\"Total minutes saved:\", total_minutes_saved)\n",
    "    print(\"Total minutes saved, accounting for confidence:\", total_minutes_saved * confidence)\n",
    "    print(\"Total electricity saved (kwh):\", total_kwh_saved)\n",
    "    print(\"Total electricity saved, accounting for confidence (kwh):\", total_kwh_saved * confidence)\n",
    "    print(\"Total money saved: $\", total_dollars_saved)\n",
    "    print(\"Total money saved accounting for confidence:  $\", total_dollars_saved * confidence)\n",
    "    print()\n",
    "    \n",
    "\n",
    "for row in df_sensors.iterrows():\n",
    "    subAct = row[1]['concat']\n",
    "    wattage = row[1]['wattage']\n",
    "    calc_subAct(df, subAct, wattage, df_costs)"
   ]
  },
  {
   "cell_type": "code",
   "execution_count": null,
   "metadata": {},
   "outputs": [],
   "source": []
  }
 ],
 "metadata": {
  "kernelspec": {
   "display_name": "Python 3",
   "language": "python",
   "name": "python3"
  },
  "language_info": {
   "codemirror_mode": {
    "name": "ipython",
    "version": 3
   },
   "file_extension": ".py",
   "mimetype": "text/x-python",
   "name": "python",
   "nbconvert_exporter": "python",
   "pygments_lexer": "ipython3",
   "version": "3.7.4"
  },
  "toc": {
   "nav_menu": {},
   "number_sections": true,
   "sideBar": true,
   "skip_h1_title": false,
   "title_cell": "Table of Contents",
   "title_sidebar": "Contents",
   "toc_cell": false,
   "toc_position": {},
   "toc_section_display": true,
   "toc_window_display": true
  },
  "varInspector": {
   "cols": {
    "lenName": 16,
    "lenType": 16,
    "lenVar": 40
   },
   "kernels_config": {
    "python": {
     "delete_cmd_postfix": "",
     "delete_cmd_prefix": "del ",
     "library": "var_list.py",
     "varRefreshCmd": "print(var_dic_list())"
    },
    "r": {
     "delete_cmd_postfix": ") ",
     "delete_cmd_prefix": "rm(",
     "library": "var_list.r",
     "varRefreshCmd": "cat(var_dic_list()) "
    }
   },
   "types_to_exclude": [
    "module",
    "function",
    "builtin_function_or_method",
    "instance",
    "_Feature"
   ],
   "window_display": false
  }
 },
 "nbformat": 4,
 "nbformat_minor": 2
}
