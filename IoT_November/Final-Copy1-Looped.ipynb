{
 "cells": [
  {
   "cell_type": "code",
   "execution_count": 1,
   "metadata": {
    "ExecuteTime": {
     "end_time": "2019-11-03T07:17:30.463358Z",
     "start_time": "2019-11-03T07:17:30.386249Z"
    }
   },
   "outputs": [],
   "source": [
    "from IPython import get_ipython;   \n",
    "get_ipython().magic('reset -sf')\n",
    "#https://github.com/kirbs-/hide_code"
   ]
  },
  {
   "cell_type": "markdown",
   "metadata": {},
   "source": [
    "# Machine Learning"
   ]
  },
  {
   "cell_type": "code",
   "execution_count": null,
   "metadata": {},
   "outputs": [],
   "source": []
  },
  {
   "cell_type": "code",
   "execution_count": 2,
   "metadata": {},
   "outputs": [],
   "source": [
    "import warnings\n",
    "warnings.filterwarnings(\"ignore\")\n",
    "import numpy as np\n",
    "import pandas as pd\n",
    "from sklearn.model_selection import train_test_split\n",
    "from sklearn.tree import DecisionTreeClassifier\n",
    "from sklearn import feature_selection as fs\n",
    "from sklearn.model_selection import RepeatedStratifiedKFold, GridSearchCV\n",
    "from sklearn.preprocessing import StandardScaler"
   ]
  },
  {
   "cell_type": "code",
   "execution_count": 3,
   "metadata": {},
   "outputs": [],
   "source": [
    "import altair as alt\n",
    "\n",
    "def plot_imp(target, best_features, scores, method_name, color):\n",
    "    \n",
    "    df = pd.DataFrame({'features': best_features, \n",
    "                       'importances': scores})\n",
    "    \n",
    "    chart = alt.Chart(df, \n",
    "                      width=500, \n",
    "                      title=target + \" \" + method_name + ' Feature Importances'\n",
    "                     ).mark_bar(opacity=0.95, \n",
    "                                color=color).encode(\n",
    "        alt.X('features', title='Feature', sort=None, axis=alt.AxisConfig(labelAngle=45)),\n",
    "        alt.Y('importances', title='Importance')\n",
    "    )\n",
    "    \n",
    "    return chart"
   ]
  },
  {
   "cell_type": "code",
   "execution_count": 4,
   "metadata": {},
   "outputs": [],
   "source": [
    "ds = pd.read_csv('S1SubAct_B_m_NoDupes.csv', index_col = \"duration\")\n",
    "ds.reset_index(drop = True, inplace = True)"
   ]
  },
  {
   "cell_type": "code",
   "execution_count": 5,
   "metadata": {},
   "outputs": [
    {
     "data": {
      "text/html": [
       "<div>\n",
       "<style scoped>\n",
       "    .dataframe tbody tr th:only-of-type {\n",
       "        vertical-align: middle;\n",
       "    }\n",
       "\n",
       "    .dataframe tbody tr th {\n",
       "        vertical-align: top;\n",
       "    }\n",
       "\n",
       "    .dataframe thead th {\n",
       "        text-align: right;\n",
       "    }\n",
       "</style>\n",
       "<table border=\"1\" class=\"dataframe\">\n",
       "  <thead>\n",
       "    <tr style=\"text-align: right;\">\n",
       "      <th></th>\n",
       "      <th>bathroom_toiletflush</th>\n",
       "      <th>bathroom_lightswitch</th>\n",
       "      <th>foyer_lightswitch</th>\n",
       "      <th>kitchen_lightswitch</th>\n",
       "      <th>kitchen_burner</th>\n",
       "      <th>livingroom_lightswitch</th>\n",
       "      <th>bedroom_lightswitch</th>\n",
       "      <th>kitchen_coffeemachine</th>\n",
       "      <th>kitchen_drawer</th>\n",
       "      <th>kitchen_refrigerator</th>\n",
       "      <th>...</th>\n",
       "      <th>bathroom_sinkfaucet-hot</th>\n",
       "      <th>kitchen_dishwasher</th>\n",
       "      <th>livingroom_lamp</th>\n",
       "      <th>study_drawer</th>\n",
       "      <th>bathroom_sinkfaucet-cold</th>\n",
       "      <th>kitchen_laundrydryer</th>\n",
       "      <th>study_lightwitch</th>\n",
       "      <th>bathroom_showerfaucet</th>\n",
       "      <th>bathroom_exhaustfan</th>\n",
       "      <th>kitchen_garbagedisposal</th>\n",
       "    </tr>\n",
       "  </thead>\n",
       "  <tbody>\n",
       "    <tr>\n",
       "      <th>0</th>\n",
       "      <td>0.0</td>\n",
       "      <td>0.0</td>\n",
       "      <td>0.0</td>\n",
       "      <td>0.0</td>\n",
       "      <td>0.0</td>\n",
       "      <td>0.0</td>\n",
       "      <td>0.0</td>\n",
       "      <td>0.0</td>\n",
       "      <td>0.0</td>\n",
       "      <td>0.0</td>\n",
       "      <td>...</td>\n",
       "      <td>0.0</td>\n",
       "      <td>0.0</td>\n",
       "      <td>0.0</td>\n",
       "      <td>0.0</td>\n",
       "      <td>0.0</td>\n",
       "      <td>0.0</td>\n",
       "      <td>0.0</td>\n",
       "      <td>0.0</td>\n",
       "      <td>0.0</td>\n",
       "      <td>0.0</td>\n",
       "    </tr>\n",
       "    <tr>\n",
       "      <th>1</th>\n",
       "      <td>1.0</td>\n",
       "      <td>1.0</td>\n",
       "      <td>0.0</td>\n",
       "      <td>0.0</td>\n",
       "      <td>0.0</td>\n",
       "      <td>0.0</td>\n",
       "      <td>0.0</td>\n",
       "      <td>0.0</td>\n",
       "      <td>0.0</td>\n",
       "      <td>0.0</td>\n",
       "      <td>...</td>\n",
       "      <td>0.0</td>\n",
       "      <td>0.0</td>\n",
       "      <td>0.0</td>\n",
       "      <td>0.0</td>\n",
       "      <td>0.0</td>\n",
       "      <td>0.0</td>\n",
       "      <td>0.0</td>\n",
       "      <td>0.0</td>\n",
       "      <td>0.0</td>\n",
       "      <td>0.0</td>\n",
       "    </tr>\n",
       "    <tr>\n",
       "      <th>2</th>\n",
       "      <td>0.0</td>\n",
       "      <td>1.0</td>\n",
       "      <td>0.0</td>\n",
       "      <td>0.0</td>\n",
       "      <td>0.0</td>\n",
       "      <td>0.0</td>\n",
       "      <td>0.0</td>\n",
       "      <td>0.0</td>\n",
       "      <td>0.0</td>\n",
       "      <td>0.0</td>\n",
       "      <td>...</td>\n",
       "      <td>0.0</td>\n",
       "      <td>0.0</td>\n",
       "      <td>0.0</td>\n",
       "      <td>1.0</td>\n",
       "      <td>0.0</td>\n",
       "      <td>0.0</td>\n",
       "      <td>0.0</td>\n",
       "      <td>0.0</td>\n",
       "      <td>0.0</td>\n",
       "      <td>0.0</td>\n",
       "    </tr>\n",
       "    <tr>\n",
       "      <th>3</th>\n",
       "      <td>0.0</td>\n",
       "      <td>1.0</td>\n",
       "      <td>0.0</td>\n",
       "      <td>0.0</td>\n",
       "      <td>0.0</td>\n",
       "      <td>0.0</td>\n",
       "      <td>0.0</td>\n",
       "      <td>0.0</td>\n",
       "      <td>0.0</td>\n",
       "      <td>0.0</td>\n",
       "      <td>...</td>\n",
       "      <td>0.0</td>\n",
       "      <td>0.0</td>\n",
       "      <td>0.0</td>\n",
       "      <td>0.0</td>\n",
       "      <td>0.0</td>\n",
       "      <td>0.0</td>\n",
       "      <td>0.0</td>\n",
       "      <td>0.0</td>\n",
       "      <td>0.0</td>\n",
       "      <td>0.0</td>\n",
       "    </tr>\n",
       "    <tr>\n",
       "      <th>4</th>\n",
       "      <td>0.0</td>\n",
       "      <td>1.0</td>\n",
       "      <td>0.0</td>\n",
       "      <td>0.0</td>\n",
       "      <td>0.0</td>\n",
       "      <td>0.0</td>\n",
       "      <td>0.0</td>\n",
       "      <td>0.0</td>\n",
       "      <td>0.0</td>\n",
       "      <td>0.0</td>\n",
       "      <td>...</td>\n",
       "      <td>0.0</td>\n",
       "      <td>0.0</td>\n",
       "      <td>0.0</td>\n",
       "      <td>0.0</td>\n",
       "      <td>0.0</td>\n",
       "      <td>0.0</td>\n",
       "      <td>0.0</td>\n",
       "      <td>0.0</td>\n",
       "      <td>0.0</td>\n",
       "      <td>0.0</td>\n",
       "    </tr>\n",
       "  </tbody>\n",
       "</table>\n",
       "<p>5 rows × 33 columns</p>\n",
       "</div>"
      ],
      "text/plain": [
       "   bathroom_toiletflush  bathroom_lightswitch  foyer_lightswitch  \\\n",
       "0                   0.0                   0.0                0.0   \n",
       "1                   1.0                   1.0                0.0   \n",
       "2                   0.0                   1.0                0.0   \n",
       "3                   0.0                   1.0                0.0   \n",
       "4                   0.0                   1.0                0.0   \n",
       "\n",
       "   kitchen_lightswitch  kitchen_burner  livingroom_lightswitch  \\\n",
       "0                  0.0             0.0                     0.0   \n",
       "1                  0.0             0.0                     0.0   \n",
       "2                  0.0             0.0                     0.0   \n",
       "3                  0.0             0.0                     0.0   \n",
       "4                  0.0             0.0                     0.0   \n",
       "\n",
       "   bedroom_lightswitch  kitchen_coffeemachine  kitchen_drawer  \\\n",
       "0                  0.0                    0.0             0.0   \n",
       "1                  0.0                    0.0             0.0   \n",
       "2                  0.0                    0.0             0.0   \n",
       "3                  0.0                    0.0             0.0   \n",
       "4                  0.0                    0.0             0.0   \n",
       "\n",
       "   kitchen_refrigerator  ...  bathroom_sinkfaucet-hot  kitchen_dishwasher  \\\n",
       "0                   0.0  ...                      0.0                 0.0   \n",
       "1                   0.0  ...                      0.0                 0.0   \n",
       "2                   0.0  ...                      0.0                 0.0   \n",
       "3                   0.0  ...                      0.0                 0.0   \n",
       "4                   0.0  ...                      0.0                 0.0   \n",
       "\n",
       "   livingroom_lamp  study_drawer  bathroom_sinkfaucet-cold  \\\n",
       "0              0.0           0.0                       0.0   \n",
       "1              0.0           0.0                       0.0   \n",
       "2              0.0           1.0                       0.0   \n",
       "3              0.0           0.0                       0.0   \n",
       "4              0.0           0.0                       0.0   \n",
       "\n",
       "   kitchen_laundrydryer  study_lightwitch  bathroom_showerfaucet  \\\n",
       "0                   0.0               0.0                    0.0   \n",
       "1                   0.0               0.0                    0.0   \n",
       "2                   0.0               0.0                    0.0   \n",
       "3                   0.0               0.0                    0.0   \n",
       "4                   0.0               0.0                    0.0   \n",
       "\n",
       "   bathroom_exhaustfan  kitchen_garbagedisposal  \n",
       "0                  0.0                      0.0  \n",
       "1                  0.0                      0.0  \n",
       "2                  0.0                      0.0  \n",
       "3                  0.0                      0.0  \n",
       "4                  0.0                      0.0  \n",
       "\n",
       "[5 rows x 33 columns]"
      ]
     },
     "execution_count": 5,
     "metadata": {},
     "output_type": "execute_result"
    }
   ],
   "source": [
    "ds.head()"
   ]
  },
  {
   "cell_type": "code",
   "execution_count": 6,
   "metadata": {},
   "outputs": [
    {
     "data": {
      "text/html": [
       "<div>\n",
       "<style scoped>\n",
       "    .dataframe tbody tr th:only-of-type {\n",
       "        vertical-align: middle;\n",
       "    }\n",
       "\n",
       "    .dataframe tbody tr th {\n",
       "        vertical-align: top;\n",
       "    }\n",
       "\n",
       "    .dataframe thead th {\n",
       "        text-align: right;\n",
       "    }\n",
       "</style>\n",
       "<table border=\"1\" class=\"dataframe\">\n",
       "  <thead>\n",
       "    <tr style=\"text-align: right;\">\n",
       "      <th></th>\n",
       "      <th>room</th>\n",
       "      <th>activity</th>\n",
       "      <th>concat</th>\n",
       "      <th>reqEnergy</th>\n",
       "      <th>subActNumConcat</th>\n",
       "    </tr>\n",
       "    <tr>\n",
       "      <th>subActNum</th>\n",
       "      <th></th>\n",
       "      <th></th>\n",
       "      <th></th>\n",
       "      <th></th>\n",
       "      <th></th>\n",
       "    </tr>\n",
       "  </thead>\n",
       "  <tbody>\n",
       "    <tr>\n",
       "      <th>100</th>\n",
       "      <td>Bathroom</td>\n",
       "      <td>Toilet Flush</td>\n",
       "      <td>bathroom_toiletflush</td>\n",
       "      <td>False</td>\n",
       "      <td>subActNum_100</td>\n",
       "    </tr>\n",
       "    <tr>\n",
       "      <th>101</th>\n",
       "      <td>Bathroom</td>\n",
       "      <td>Light switch</td>\n",
       "      <td>bathroom_lightswitch</td>\n",
       "      <td>True</td>\n",
       "      <td>subActNum_101</td>\n",
       "    </tr>\n",
       "    <tr>\n",
       "      <th>104</th>\n",
       "      <td>Foyer</td>\n",
       "      <td>Light switch</td>\n",
       "      <td>foyer_lightswitch</td>\n",
       "      <td>True</td>\n",
       "      <td>subActNum_104</td>\n",
       "    </tr>\n",
       "    <tr>\n",
       "      <th>105</th>\n",
       "      <td>Kitchen</td>\n",
       "      <td>Light switch</td>\n",
       "      <td>kitchen_lightswitch</td>\n",
       "      <td>True</td>\n",
       "      <td>subActNum_105</td>\n",
       "    </tr>\n",
       "    <tr>\n",
       "      <th>106</th>\n",
       "      <td>Kitchen</td>\n",
       "      <td>Burner</td>\n",
       "      <td>kitchen_burner</td>\n",
       "      <td>True</td>\n",
       "      <td>subActNum_106</td>\n",
       "    </tr>\n",
       "  </tbody>\n",
       "</table>\n",
       "</div>"
      ],
      "text/plain": [
       "               room       activity                concat  reqEnergy  \\\n",
       "subActNum                                                             \n",
       "100        Bathroom  Toilet Flush   bathroom_toiletflush      False   \n",
       "101        Bathroom   Light switch  bathroom_lightswitch       True   \n",
       "104           Foyer   Light switch     foyer_lightswitch       True   \n",
       "105         Kitchen   Light switch   kitchen_lightswitch       True   \n",
       "106         Kitchen         Burner        kitchen_burner       True   \n",
       "\n",
       "          subActNumConcat  \n",
       "subActNum                  \n",
       "100         subActNum_100  \n",
       "101         subActNum_101  \n",
       "104         subActNum_104  \n",
       "105         subActNum_105  \n",
       "106         subActNum_106  "
      ]
     },
     "execution_count": 6,
     "metadata": {},
     "output_type": "execute_result"
    }
   ],
   "source": [
    "ds_sensors = pd.read_csv('S1Sensors_preprocessed.csv', index_col = 'subActNum')\n",
    "#allSubActs = list(set(ds_sensors.concat)) #potentially useful but currently unused\n",
    "poweredSubActs = list(set(ds_sensors[ds_sensors.reqEnergy].concat))\n",
    "ds_sensors.head()"
   ]
  },
  {
   "cell_type": "markdown",
   "metadata": {},
   "source": [
    "## This is a loop for all powered subActs"
   ]
  },
  {
   "cell_type": "code",
   "execution_count": 7,
   "metadata": {},
   "outputs": [
    {
     "name": "stdout",
     "output_type": "stream",
     "text": [
      "kitchen_oven\n",
      "0.9949558638083228\n",
      "Fitting 15 folds for each of 8 candidates, totalling 120 fits\n"
     ]
    },
    {
     "name": "stderr",
     "output_type": "stream",
     "text": [
      "[Parallel(n_jobs=1)]: Using backend SequentialBackend with 1 concurrent workers.\n",
      "[Parallel(n_jobs=1)]: Done 120 out of 120 | elapsed:    0.9s finished\n"
     ]
    },
    {
     "name": "stdout",
     "output_type": "stream",
     "text": [
      "GridSearchCV(cv=<sklearn.model_selection._split.RepeatedStratifiedKFold object at 0x1a1b42e450>,\n",
      "             error_score='raise-deprecating',\n",
      "             estimator=DecisionTreeClassifier(class_weight=None,\n",
      "                                              criterion='gini', max_depth=None,\n",
      "                                              max_features=None,\n",
      "                                              max_leaf_nodes=None,\n",
      "                                              min_impurity_decrease=0.0,\n",
      "                                              min_impurity_split=None,\n",
      "                                              min_samples_leaf=1,\n",
      "                                              min_samples_split=2,\n",
      "                                              min_weight_fraction_leaf=0.0,\n",
      "                                              presort=False, random_state=999,\n",
      "                                              splitter='best'),\n",
      "             iid='warn', n_jobs=None,\n",
      "             param_grid={'criterion': ['gini', 'entropy'],\n",
      "                         'max_depth': [2, 3, 4, 5]},\n",
      "             pre_dispatch='2*n_jobs', refit=True, return_train_score=False,\n",
      "             scoring='accuracy', verbose=1)\n",
      "{'criterion': 'gini', 'max_depth': 2}\n",
      "0.995270525917518\n",
      "['foyer_lightswitch' 'kitchen_cabinet' 'bedroom_lightswitch'\n",
      " 'bathroom_showerfaucet' 'bathroom_lightswitch']\n",
      "[0.00269146 0.00264666 0.00226828 0.00157338 0.00131959]\n"
     ]
    },
    {
     "data": {
      "application/vnd.vegalite.v3+json": {
       "$schema": "https://vega.github.io/schema/vega-lite/v3.4.0.json",
       "config": {
        "mark": {
         "tooltip": null
        },
        "view": {
         "height": 300,
         "width": 400
        }
       },
       "data": {
        "name": "data-98b2d6585a35a3e44010bf08850e3c12"
       },
       "datasets": {
        "data-98b2d6585a35a3e44010bf08850e3c12": [
         {
          "features": "foyer_lightswitch",
          "importances": 0.002691457712729939
         },
         {
          "features": "kitchen_cabinet",
          "importances": 0.002646661512410886
         },
         {
          "features": "bedroom_lightswitch",
          "importances": 0.0022682769082904564
         },
         {
          "features": "bathroom_showerfaucet",
          "importances": 0.0015733771906419891
         },
         {
          "features": "bathroom_lightswitch",
          "importances": 0.001319594737872798
         }
        ]
       },
       "encoding": {
        "x": {
         "axis": {
          "labelAngle": 45
         },
         "field": "features",
         "sort": null,
         "title": "Feature",
         "type": "nominal"
        },
        "y": {
         "field": "importances",
         "title": "Importance",
         "type": "quantitative"
        }
       },
       "mark": {
        "color": "blue",
        "opacity": 0.95,
        "type": "bar"
       },
       "title": "kitchen_oven Mutual Information Feature Importances",
       "width": 500
      },
      "image/png": "[encoded data removed]",
      "text/plain": [
       "<VegaLite 3 object>\n",
       "\n",
       "If you see this message, it means the renderer has not been properly enabled\n",
       "for the frontend that you are using. For more information, see\n",
       "https://altair-viz.github.io/user_guide/troubleshooting.html\n"
      ]
     },
     "metadata": {},
     "output_type": "display_data"
    },
    {
     "name": "stdout",
     "output_type": "stream",
     "text": [
      "kitchen_lightswitch\n",
      "0.7452711223203027\n",
      "Fitting 15 folds for each of 8 candidates, totalling 120 fits\n"
     ]
    },
    {
     "name": "stderr",
     "output_type": "stream",
     "text": [
      "[Parallel(n_jobs=1)]: Using backend SequentialBackend with 1 concurrent workers.\n",
      "[Parallel(n_jobs=1)]: Done 120 out of 120 | elapsed:    0.7s finished\n"
     ]
    },
    {
     "name": "stdout",
     "output_type": "stream",
     "text": [
      "GridSearchCV(cv=<sklearn.model_selection._split.RepeatedStratifiedKFold object at 0x1a1b42e7d0>,\n",
      "             error_score='raise-deprecating',\n",
      "             estimator=DecisionTreeClassifier(class_weight=None,\n",
      "                                              criterion='gini', max_depth=None,\n",
      "                                              max_features=None,\n",
      "                                              max_leaf_nodes=None,\n",
      "                                              min_impurity_decrease=0.0,\n",
      "                                              min_impurity_split=None,\n",
      "                                              min_samples_leaf=1,\n",
      "                                              min_samples_split=2,\n",
      "                                              min_weight_fraction_leaf=0.0,\n",
      "                                              presort=False, random_state=999,\n",
      "                                              splitter='best'),\n",
      "             iid='warn', n_jobs=None,\n",
      "             param_grid={'criterion': ['gini', 'entropy'],\n",
      "                         'max_depth': [2, 3, 4, 5]},\n",
      "             pre_dispatch='2*n_jobs', refit=True, return_train_score=False,\n",
      "             scoring='accuracy', verbose=1)\n",
      "{'criterion': 'gini', 'max_depth': 5}\n",
      "0.7473199646865936\n",
      "['kitchen_lightswitch' 'foyer_lightswitch' 'bathroom_sinkfaucet-cold'\n",
      " 'kitchen_burner' 'bedroom_lightswitch']\n",
      "[0.0220412  0.01765503 0.00932178 0.00780679 0.00748013]\n"
     ]
    },
    {
     "data": {
      "application/vnd.vegalite.v3+json": {
       "$schema": "https://vega.github.io/schema/vega-lite/v3.4.0.json",
       "config": {
        "mark": {
         "tooltip": null
        },
        "view": {
         "height": 300,
         "width": 400
        }
       },
       "data": {
        "name": "data-8e45db340b332d77b5a420a822a971f3"
       },
       "datasets": {
        "data-8e45db340b332d77b5a420a822a971f3": [
         {
          "features": "kitchen_lightswitch",
          "importances": 0.022041203402272336
         },
         {
          "features": "foyer_lightswitch",
          "importances": 0.017655030944899952
         },
         {
          "features": "bathroom_sinkfaucet-cold",
          "importances": 0.009321782602799367
         },
         {
          "features": "kitchen_burner",
          "importances": 0.0078067914367445645
         },
         {
          "features": "bedroom_lightswitch",
          "importances": 0.0074801349351445445
         }
        ]
       },
       "encoding": {
        "x": {
         "axis": {
          "labelAngle": 45
         },
         "field": "features",
         "sort": null,
         "title": "Feature",
         "type": "nominal"
        },
        "y": {
         "field": "importances",
         "title": "Importance",
         "type": "quantitative"
        }
       },
       "mark": {
        "color": "blue",
        "opacity": 0.95,
        "type": "bar"
       },
       "title": "kitchen_lightswitch Mutual Information Feature Importances",
       "width": 500
      },
      "image/png": "[encoded data removed]",
      "text/plain": [
       "<VegaLite 3 object>\n",
       "\n",
       "If you see this message, it means the renderer has not been properly enabled\n",
       "for the frontend that you are using. For more information, see\n",
       "https://altair-viz.github.io/user_guide/troubleshooting.html\n"
      ]
     },
     "metadata": {},
     "output_type": "display_data"
    },
    {
     "name": "stdout",
     "output_type": "stream",
     "text": [
      "kitchen_coffeemachine\n",
      "0.998108448928121\n",
      "Fitting 15 folds for each of 8 candidates, totalling 120 fits\n"
     ]
    },
    {
     "name": "stderr",
     "output_type": "stream",
     "text": [
      "[Parallel(n_jobs=1)]: Using backend SequentialBackend with 1 concurrent workers.\n",
      "[Parallel(n_jobs=1)]: Done 120 out of 120 | elapsed:    0.6s finished\n"
     ]
    },
    {
     "name": "stdout",
     "output_type": "stream",
     "text": [
      "GridSearchCV(cv=<sklearn.model_selection._split.RepeatedStratifiedKFold object at 0x1a1b481390>,\n",
      "             error_score='raise-deprecating',\n",
      "             estimator=DecisionTreeClassifier(class_weight=None,\n",
      "                                              criterion='gini', max_depth=None,\n",
      "                                              max_features=None,\n",
      "                                              max_leaf_nodes=None,\n",
      "                                              min_impurity_decrease=0.0,\n",
      "                                              min_impurity_split=None,\n",
      "                                              min_samples_leaf=1,\n",
      "                                              min_samples_split=2,\n",
      "                                              min_weight_fraction_leaf=0.0,\n",
      "                                              presort=False, random_state=999,\n",
      "                                              splitter='best'),\n",
      "             iid='warn', n_jobs=None,\n",
      "             param_grid={'criterion': ['gini', 'entropy'],\n",
      "                         'max_depth': [2, 3, 4, 5]},\n",
      "             pre_dispatch='2*n_jobs', refit=True, return_train_score=False,\n",
      "             scoring='accuracy', verbose=1)\n",
      "{'criterion': 'gini', 'max_depth': 2}\n",
      "0.998675747256905\n",
      "['kitchen_toaster' 'kitchen_freezer' 'kitchen_refrigerator' 'kitchen_oven'\n",
      " 'kitchen_washingmachine']\n",
      "[0.00172791 0.00107986 0.00070222 0.0004504  0.00043868]\n"
     ]
    },
    {
     "data": {
      "application/vnd.vegalite.v3+json": {
       "$schema": "https://vega.github.io/schema/vega-lite/v3.4.0.json",
       "config": {
        "mark": {
         "tooltip": null
        },
        "view": {
         "height": 300,
         "width": 400
        }
       },
       "data": {
        "name": "data-6614a981f72695590619f930f791ec9a"
       },
       "datasets": {
        "data-6614a981f72695590619f930f791ec9a": [
         {
          "features": "kitchen_toaster",
          "importances": 0.0017279091502839794
         },
         {
          "features": "kitchen_freezer",
          "importances": 0.001079864326034241
         },
         {
          "features": "kitchen_refrigerator",
          "importances": 0.0007022201257784744
         },
         {
          "features": "kitchen_oven",
          "importances": 0.00045040169131160823
         },
         {
          "features": "kitchen_washingmachine",
          "importances": 0.00043868175677796994
         }
        ]
       },
       "encoding": {
        "x": {
         "axis": {
          "labelAngle": 45
         },
         "field": "features",
         "sort": null,
         "title": "Feature",
         "type": "nominal"
        },
        "y": {
         "field": "importances",
         "title": "Importance",
         "type": "quantitative"
        }
       },
       "mark": {
        "color": "blue",
        "opacity": 0.95,
        "type": "bar"
       },
       "title": "kitchen_coffeemachine Mutual Information Feature Importances",
       "width": 500
      },
      "image/png": "[encoded data removed]",
      "text/plain": [
       "<VegaLite 3 object>\n",
       "\n",
       "If you see this message, it means the renderer has not been properly enabled\n",
       "for the frontend that you are using. For more information, see\n",
       "https://altair-viz.github.io/user_guide/troubleshooting.html\n"
      ]
     },
     "metadata": {},
     "output_type": "display_data"
    },
    {
     "name": "stdout",
     "output_type": "stream",
     "text": [
      "foyer_lightswitch\n",
      "0.9918032786885246\n",
      "Fitting 15 folds for each of 8 candidates, totalling 120 fits\n"
     ]
    },
    {
     "name": "stderr",
     "output_type": "stream",
     "text": [
      "[Parallel(n_jobs=1)]: Using backend SequentialBackend with 1 concurrent workers.\n",
      "[Parallel(n_jobs=1)]: Done 120 out of 120 | elapsed:    0.9s finished\n"
     ]
    },
    {
     "name": "stdout",
     "output_type": "stream",
     "text": [
      "GridSearchCV(cv=<sklearn.model_selection._split.RepeatedStratifiedKFold object at 0x1a1bcb0ad0>,\n",
      "             error_score='raise-deprecating',\n",
      "             estimator=DecisionTreeClassifier(class_weight=None,\n",
      "                                              criterion='gini', max_depth=None,\n",
      "                                              max_features=None,\n",
      "                                              max_leaf_nodes=None,\n",
      "                                              min_impurity_decrease=0.0,\n",
      "                                              min_impurity_split=None,\n",
      "                                              min_samples_leaf=1,\n",
      "                                              min_samples_split=2,\n",
      "                                              min_weight_fraction_leaf=0.0,\n",
      "                                              presort=False, random_state=999,\n",
      "                                              splitter='best'),\n",
      "             iid='warn', n_jobs=None,\n",
      "             param_grid={'criterion': ['gini', 'entropy'],\n",
      "                         'max_depth': [2, 3, 4, 5]},\n",
      "             pre_dispatch='2*n_jobs', refit=True, return_train_score=False,\n",
      "             scoring='accuracy', verbose=1)\n",
      "{'criterion': 'entropy', 'max_depth': 4}\n",
      "0.9892167990919409\n",
      "['kitchen_burner' 'foyer_lightswitch' 'kitchen_dishwasher'\n",
      " 'bathroom_lightswitch' 'foyer_door']\n",
      "[0.03185706 0.01961782 0.00766417 0.00753346 0.00725707]\n"
     ]
    },
    {
     "data": {
      "application/vnd.vegalite.v3+json": {
       "$schema": "https://vega.github.io/schema/vega-lite/v3.4.0.json",
       "config": {
        "mark": {
         "tooltip": null
        },
        "view": {
         "height": 300,
         "width": 400
        }
       },
       "data": {
        "name": "data-5e5eb1bf57ddbda6b7818ad2d9b8328f"
       },
       "datasets": {
        "data-5e5eb1bf57ddbda6b7818ad2d9b8328f": [
         {
          "features": "kitchen_burner",
          "importances": 0.03185705962448471
         },
         {
          "features": "foyer_lightswitch",
          "importances": 0.019617821517337264
         },
         {
          "features": "kitchen_dishwasher",
          "importances": 0.007664167138436095
         },
         {
          "features": "bathroom_lightswitch",
          "importances": 0.007533462433670479
         },
         {
          "features": "foyer_door",
          "importances": 0.0072570650381940105
         }
        ]
       },
       "encoding": {
        "x": {
         "axis": {
          "labelAngle": 45
         },
         "field": "features",
         "sort": null,
         "title": "Feature",
         "type": "nominal"
        },
        "y": {
         "field": "importances",
         "title": "Importance",
         "type": "quantitative"
        }
       },
       "mark": {
        "color": "blue",
        "opacity": 0.95,
        "type": "bar"
       },
       "title": "foyer_lightswitch Mutual Information Feature Importances",
       "width": 500
      },
      "image/png": "[encoded data removed]",
      "text/plain": [
       "<VegaLite 3 object>\n",
       "\n",
       "If you see this message, it means the renderer has not been properly enabled\n",
       "for the frontend that you are using. For more information, see\n",
       "https://altair-viz.github.io/user_guide/troubleshooting.html\n"
      ]
     },
     "metadata": {},
     "output_type": "display_data"
    },
    {
     "name": "stdout",
     "output_type": "stream",
     "text": [
      "livingroom_dvd\n",
      "0.9993694829760403\n",
      "Fitting 15 folds for each of 8 candidates, totalling 120 fits\n"
     ]
    },
    {
     "name": "stderr",
     "output_type": "stream",
     "text": [
      "[Parallel(n_jobs=1)]: Using backend SequentialBackend with 1 concurrent workers.\n",
      "[Parallel(n_jobs=1)]: Done 120 out of 120 | elapsed:    0.6s finished\n"
     ]
    },
    {
     "name": "stdout",
     "output_type": "stream",
     "text": [
      "GridSearchCV(cv=<sklearn.model_selection._split.RepeatedStratifiedKFold object at 0x1a1b42edd0>,\n",
      "             error_score='raise-deprecating',\n",
      "             estimator=DecisionTreeClassifier(class_weight=None,\n",
      "                                              criterion='gini', max_depth=None,\n",
      "                                              max_features=None,\n",
      "                                              max_leaf_nodes=None,\n",
      "                                              min_impurity_decrease=0.0,\n",
      "                                              min_impurity_split=None,\n",
      "                                              min_samples_leaf=1,\n",
      "                                              min_samples_split=2,\n",
      "                                              min_weight_fraction_leaf=0.0,\n",
      "                                              presort=False, random_state=999,\n",
      "                                              splitter='best'),\n",
      "             iid='warn', n_jobs=None,\n",
      "             param_grid={'criterion': ['gini', 'entropy'],\n",
      "                         'max_depth': [2, 3, 4, 5]},\n",
      "             pre_dispatch='2*n_jobs', refit=True, return_train_score=False,\n",
      "             scoring='accuracy', verbose=1)\n",
      "{'criterion': 'gini', 'max_depth': 2}\n",
      "0.9996216420734014\n",
      "['kitchen_refrigerator' 'kitchen_drawer' 'kitchen_door' 'foyer_door'\n",
      " 'bathroom_door']\n",
      "[0.00110233 0.00094652 0.00064659 0.00059545 0.00039792]\n"
     ]
    },
    {
     "data": {
      "application/vnd.vegalite.v3+json": {
       "$schema": "https://vega.github.io/schema/vega-lite/v3.4.0.json",
       "config": {
        "mark": {
         "tooltip": null
        },
        "view": {
         "height": 300,
         "width": 400
        }
       },
       "data": {
        "name": "data-f55c039ccdf28a7bec87fb5b6bf9f947"
       },
       "datasets": {
        "data-f55c039ccdf28a7bec87fb5b6bf9f947": [
         {
          "features": "kitchen_refrigerator",
          "importances": 0.0011023329351138589
         },
         {
          "features": "kitchen_drawer",
          "importances": 0.0009465199005213032
         },
         {
          "features": "kitchen_door",
          "importances": 0.0006465905509381864
         },
         {
          "features": "foyer_door",
          "importances": 0.0005954537322840903
         },
         {
          "features": "bathroom_door",
          "importances": 0.0003979246454117735
         }
        ]
       },
       "encoding": {
        "x": {
         "axis": {
          "labelAngle": 45
         },
         "field": "features",
         "sort": null,
         "title": "Feature",
         "type": "nominal"
        },
        "y": {
         "field": "importances",
         "title": "Importance",
         "type": "quantitative"
        }
       },
       "mark": {
        "color": "blue",
        "opacity": 0.95,
        "type": "bar"
       },
       "title": "livingroom_dvd Mutual Information Feature Importances",
       "width": 500
      },
      "image/png": "[encoded data removed]",
      "text/plain": [
       "<VegaLite 3 object>\n",
       "\n",
       "If you see this message, it means the renderer has not been properly enabled\n",
       "for the frontend that you are using. For more information, see\n",
       "https://altair-viz.github.io/user_guide/troubleshooting.html\n"
      ]
     },
     "metadata": {},
     "output_type": "display_data"
    },
    {
     "name": "stdout",
     "output_type": "stream",
     "text": [
      "kitchen_washingmachine\n",
      "0.9829760403530895\n",
      "Fitting 15 folds for each of 8 candidates, totalling 120 fits\n"
     ]
    },
    {
     "name": "stderr",
     "output_type": "stream",
     "text": [
      "[Parallel(n_jobs=1)]: Using backend SequentialBackend with 1 concurrent workers.\n",
      "[Parallel(n_jobs=1)]: Done 120 out of 120 | elapsed:    0.9s finished\n"
     ]
    },
    {
     "name": "stdout",
     "output_type": "stream",
     "text": [
      "GridSearchCV(cv=<sklearn.model_selection._split.RepeatedStratifiedKFold object at 0x1a1bcb4a10>,\n",
      "             error_score='raise-deprecating',\n",
      "             estimator=DecisionTreeClassifier(class_weight=None,\n",
      "                                              criterion='gini', max_depth=None,\n",
      "                                              max_features=None,\n",
      "                                              max_leaf_nodes=None,\n",
      "                                              min_impurity_decrease=0.0,\n",
      "                                              min_impurity_split=None,\n",
      "                                              min_samples_leaf=1,\n",
      "                                              min_samples_split=2,\n",
      "                                              min_weight_fraction_leaf=0.0,\n",
      "                                              presort=False, random_state=999,\n",
      "                                              splitter='best'),\n",
      "             iid='warn', n_jobs=None,\n",
      "             param_grid={'criterion': ['gini', 'entropy'],\n",
      "                         'max_depth': [2, 3, 4, 5]},\n",
      "             pre_dispatch='2*n_jobs', refit=True, return_train_score=False,\n",
      "             scoring='accuracy', verbose=1)\n",
      "{'criterion': 'gini', 'max_depth': 3}\n",
      "0.9890906797830747\n",
      "['bathroom_sinkfaucet-cold' 'kitchen_door' 'kitchen_burner'\n",
      " 'bathroom_sinkfaucet-hot' 'livingroom_lamp']\n",
      "[0.01922568 0.01066329 0.00417476 0.003058   0.0024776 ]\n"
     ]
    },
    {
     "data": {
      "application/vnd.vegalite.v3+json": {
       "$schema": "https://vega.github.io/schema/vega-lite/v3.4.0.json",
       "config": {
        "mark": {
         "tooltip": null
        },
        "view": {
         "height": 300,
         "width": 400
        }
       },
       "data": {
        "name": "data-cc9fd8057d9428b458e8b52fba13c469"
       },
       "datasets": {
        "data-cc9fd8057d9428b458e8b52fba13c469": [
         {
          "features": "bathroom_sinkfaucet-cold",
          "importances": 0.01922567918303031
         },
         {
          "features": "kitchen_door",
          "importances": 0.010663286742302325
         },
         {
          "features": "kitchen_burner",
          "importances": 0.004174755481453185
         },
         {
          "features": "bathroom_sinkfaucet-hot",
          "importances": 0.0030579973430581164
         },
         {
          "features": "livingroom_lamp",
          "importances": 0.002477604105082798
         }
        ]
       },
       "encoding": {
        "x": {
         "axis": {
          "labelAngle": 45
         },
         "field": "features",
         "sort": null,
         "title": "Feature",
         "type": "nominal"
        },
        "y": {
         "field": "importances",
         "title": "Importance",
         "type": "quantitative"
        }
       },
       "mark": {
        "color": "blue",
        "opacity": 0.95,
        "type": "bar"
       },
       "title": "kitchen_washingmachine Mutual Information Feature Importances",
       "width": 500
      },
      "image/png": "[encoded data removed]",
      "text/plain": [
       "<VegaLite 3 object>\n",
       "\n",
       "If you see this message, it means the renderer has not been properly enabled\n",
       "for the frontend that you are using. For more information, see\n",
       "https://altair-viz.github.io/user_guide/troubleshooting.html\n"
      ]
     },
     "metadata": {},
     "output_type": "display_data"
    },
    {
     "name": "stdout",
     "output_type": "stream",
     "text": [
      "bathroom_lightswitch\n",
      "0.8253467843631778\n",
      "Fitting 15 folds for each of 8 candidates, totalling 120 fits\n"
     ]
    },
    {
     "name": "stderr",
     "output_type": "stream",
     "text": [
      "[Parallel(n_jobs=1)]: Using backend SequentialBackend with 1 concurrent workers.\n",
      "[Parallel(n_jobs=1)]: Done 120 out of 120 | elapsed:    0.7s finished\n"
     ]
    },
    {
     "name": "stdout",
     "output_type": "stream",
     "text": [
      "GridSearchCV(cv=<sklearn.model_selection._split.RepeatedStratifiedKFold object at 0x1a1bcdcc90>,\n",
      "             error_score='raise-deprecating',\n",
      "             estimator=DecisionTreeClassifier(class_weight=None,\n",
      "                                              criterion='gini', max_depth=None,\n",
      "                                              max_features=None,\n",
      "                                              max_leaf_nodes=None,\n",
      "                                              min_impurity_decrease=0.0,\n",
      "                                              min_impurity_split=None,\n",
      "                                              min_samples_leaf=1,\n",
      "                                              min_samples_split=2,\n",
      "                                              min_weight_fraction_leaf=0.0,\n",
      "                                              presort=False, random_state=999,\n",
      "                                              splitter='best'),\n",
      "             iid='warn', n_jobs=None,\n",
      "             param_grid={'criterion': ['gini', 'entropy'],\n",
      "                         'max_depth': [2, 3, 4, 5]},\n",
      "             pre_dispatch='2*n_jobs', refit=True, return_train_score=False,\n",
      "             scoring='accuracy', verbose=1)\n",
      "{'criterion': 'gini', 'max_depth': 5}\n",
      "0.8265859503089923\n",
      "['livingroom_dvd' 'kitchen_dishwasher' 'livingroom_lightswitch'\n",
      " 'kitchen_burner' 'kitchen_toaster']\n",
      "[0.0261201  0.02611289 0.01699112 0.01410334 0.01404784]\n"
     ]
    },
    {
     "data": {
      "application/vnd.vegalite.v3+json": {
       "$schema": "https://vega.github.io/schema/vega-lite/v3.4.0.json",
       "config": {
        "mark": {
         "tooltip": null
        },
        "view": {
         "height": 300,
         "width": 400
        }
       },
       "data": {
        "name": "data-cc372da57cdf34c8860eabab18e44a52"
       },
       "datasets": {
        "data-cc372da57cdf34c8860eabab18e44a52": [
         {
          "features": "livingroom_dvd",
          "importances": 0.02612009709634644
         },
         {
          "features": "kitchen_dishwasher",
          "importances": 0.026112892050672576
         },
         {
          "features": "livingroom_lightswitch",
          "importances": 0.016991119769220298
         },
         {
          "features": "kitchen_burner",
          "importances": 0.014103344019403385
         },
         {
          "features": "kitchen_toaster",
          "importances": 0.014047838260706547
         }
        ]
       },
       "encoding": {
        "x": {
         "axis": {
          "labelAngle": 45
         },
         "field": "features",
         "sort": null,
         "title": "Feature",
         "type": "nominal"
        },
        "y": {
         "field": "importances",
         "title": "Importance",
         "type": "quantitative"
        }
       },
       "mark": {
        "color": "blue",
        "opacity": 0.95,
        "type": "bar"
       },
       "title": "bathroom_lightswitch Mutual Information Feature Importances",
       "width": 500
      },
      "image/png": "[encoded data removed]",
      "text/plain": [
       "<VegaLite 3 object>\n",
       "\n",
       "If you see this message, it means the renderer has not been properly enabled\n",
       "for the frontend that you are using. For more information, see\n",
       "https://altair-viz.github.io/user_guide/troubleshooting.html\n"
      ]
     },
     "metadata": {},
     "output_type": "display_data"
    },
    {
     "name": "stdout",
     "output_type": "stream",
     "text": [
      "bedroom_lightswitch\n",
      "0.9791929382093316\n",
      "Fitting 15 folds for each of 8 candidates, totalling 120 fits\n"
     ]
    },
    {
     "name": "stderr",
     "output_type": "stream",
     "text": [
      "[Parallel(n_jobs=1)]: Using backend SequentialBackend with 1 concurrent workers.\n",
      "[Parallel(n_jobs=1)]: Done 120 out of 120 | elapsed:    0.8s finished\n"
     ]
    },
    {
     "name": "stdout",
     "output_type": "stream",
     "text": [
      "GridSearchCV(cv=<sklearn.model_selection._split.RepeatedStratifiedKFold object at 0x1a1bcb4ad0>,\n",
      "             error_score='raise-deprecating',\n",
      "             estimator=DecisionTreeClassifier(class_weight=None,\n",
      "                                              criterion='gini', max_depth=None,\n",
      "                                              max_features=None,\n",
      "                                              max_leaf_nodes=None,\n",
      "                                              min_impurity_decrease=0.0,\n",
      "                                              min_impurity_split=None,\n",
      "                                              min_samples_leaf=1,\n",
      "                                              min_samples_split=2,\n",
      "                                              min_weight_fraction_leaf=0.0,\n",
      "                                              presort=False, random_state=999,\n",
      "                                              splitter='best'),\n",
      "             iid='warn', n_jobs=None,\n",
      "             param_grid={'criterion': ['gini', 'entropy'],\n",
      "                         'max_depth': [2, 3, 4, 5]},\n",
      "             pre_dispatch='2*n_jobs', refit=True, return_train_score=False,\n",
      "             scoring='accuracy', verbose=1)\n",
      "{'criterion': 'entropy', 'max_depth': 3}\n",
      "0.9795686719636776\n",
      "['bathroom_lightswitch' 'kitchen_dishwasher' 'livingroom_lightswitch'\n",
      " 'bathroom_sinkfaucet-cold' 'foyer_lightswitch']\n",
      "[0.01956439 0.00642154 0.00567275 0.0048155  0.0044756 ]\n"
     ]
    },
    {
     "data": {
      "application/vnd.vegalite.v3+json": {
       "$schema": "https://vega.github.io/schema/vega-lite/v3.4.0.json",
       "config": {
        "mark": {
         "tooltip": null
        },
        "view": {
         "height": 300,
         "width": 400
        }
       },
       "data": {
        "name": "data-19ecbf7e8f8f04eba006b12d1d7c8b1d"
       },
       "datasets": {
        "data-19ecbf7e8f8f04eba006b12d1d7c8b1d": [
         {
          "features": "bathroom_lightswitch",
          "importances": 0.01956439266926302
         },
         {
          "features": "kitchen_dishwasher",
          "importances": 0.006421539907253138
         },
         {
          "features": "livingroom_lightswitch",
          "importances": 0.005672747270000222
         },
         {
          "features": "bathroom_sinkfaucet-cold",
          "importances": 0.0048155044466735575
         },
         {
          "features": "foyer_lightswitch",
          "importances": 0.004475604284891466
         }
        ]
       },
       "encoding": {
        "x": {
         "axis": {
          "labelAngle": 45
         },
         "field": "features",
         "sort": null,
         "title": "Feature",
         "type": "nominal"
        },
        "y": {
         "field": "importances",
         "title": "Importance",
         "type": "quantitative"
        }
       },
       "mark": {
        "color": "blue",
        "opacity": 0.95,
        "type": "bar"
       },
       "title": "bedroom_lightswitch Mutual Information Feature Importances",
       "width": 500
      },
      "image/png": "[encoded data removed]",
      "text/plain": [
       "<VegaLite 3 object>\n",
       "\n",
       "If you see this message, it means the renderer has not been properly enabled\n",
       "for the frontend that you are using. For more information, see\n",
       "https://altair-viz.github.io/user_guide/troubleshooting.html\n"
      ]
     },
     "metadata": {},
     "output_type": "display_data"
    },
    {
     "name": "stdout",
     "output_type": "stream",
     "text": [
      "livingroom_lightswitch\n",
      "0.8965952080706179\n",
      "Fitting 15 folds for each of 8 candidates, totalling 120 fits\n"
     ]
    },
    {
     "name": "stderr",
     "output_type": "stream",
     "text": [
      "[Parallel(n_jobs=1)]: Using backend SequentialBackend with 1 concurrent workers.\n",
      "[Parallel(n_jobs=1)]: Done 120 out of 120 | elapsed:    0.8s finished\n"
     ]
    },
    {
     "name": "stdout",
     "output_type": "stream",
     "text": [
      "GridSearchCV(cv=<sklearn.model_selection._split.RepeatedStratifiedKFold object at 0x1a1bcb4450>,\n",
      "             error_score='raise-deprecating',\n",
      "             estimator=DecisionTreeClassifier(class_weight=None,\n",
      "                                              criterion='gini', max_depth=None,\n",
      "                                              max_features=None,\n",
      "                                              max_leaf_nodes=None,\n",
      "                                              min_impurity_decrease=0.0,\n",
      "                                              min_impurity_split=None,\n",
      "                                              min_samples_leaf=1,\n",
      "                                              min_samples_split=2,\n",
      "                                              min_weight_fraction_leaf=0.0,\n",
      "                                              presort=False, random_state=999,\n",
      "                                              splitter='best'),\n",
      "             iid='warn', n_jobs=None,\n",
      "             param_grid={'criterion': ['gini', 'entropy'],\n",
      "                         'max_depth': [2, 3, 4, 5]},\n",
      "             pre_dispatch='2*n_jobs', refit=True, return_train_score=False,\n",
      "             scoring='accuracy', verbose=1)\n",
      "{'criterion': 'gini', 'max_depth': 5}\n",
      "0.9067347710934545\n",
      "['foyer_lightswitch' 'bathroom_showerfaucet' 'livingroom_dvd'\n",
      " 'kitchen_burner' 'livingroom_lightswitch']\n",
      "[0.027603   0.01262695 0.01159873 0.01083861 0.01030883]\n"
     ]
    },
    {
     "data": {
      "application/vnd.vegalite.v3+json": {
       "$schema": "https://vega.github.io/schema/vega-lite/v3.4.0.json",
       "config": {
        "mark": {
         "tooltip": null
        },
        "view": {
         "height": 300,
         "width": 400
        }
       },
       "data": {
        "name": "data-29aed88fa1e6099b83d71594f3e21be5"
       },
       "datasets": {
        "data-29aed88fa1e6099b83d71594f3e21be5": [
         {
          "features": "foyer_lightswitch",
          "importances": 0.027602998924723288
         },
         {
          "features": "bathroom_showerfaucet",
          "importances": 0.012626950685866056
         },
         {
          "features": "livingroom_dvd",
          "importances": 0.011598734017927992
         },
         {
          "features": "kitchen_burner",
          "importances": 0.010838612150408489
         },
         {
          "features": "livingroom_lightswitch",
          "importances": 0.010308828456326191
         }
        ]
       },
       "encoding": {
        "x": {
         "axis": {
          "labelAngle": 45
         },
         "field": "features",
         "sort": null,
         "title": "Feature",
         "type": "nominal"
        },
        "y": {
         "field": "importances",
         "title": "Importance",
         "type": "quantitative"
        }
       },
       "mark": {
        "color": "blue",
        "opacity": 0.95,
        "type": "bar"
       },
       "title": "livingroom_lightswitch Mutual Information Feature Importances",
       "width": 500
      },
      "image/png": "[encoded data removed]",
      "text/plain": [
       "<VegaLite 3 object>\n",
       "\n",
       "If you see this message, it means the renderer has not been properly enabled\n",
       "for the frontend that you are using. For more information, see\n",
       "https://altair-viz.github.io/user_guide/troubleshooting.html\n"
      ]
     },
     "metadata": {},
     "output_type": "display_data"
    },
    {
     "name": "stdout",
     "output_type": "stream",
     "text": [
      "bathroom_sinkfaucet-hot\n",
      "0.9754098360655737\n",
      "Fitting 15 folds for each of 8 candidates, totalling 120 fits\n"
     ]
    },
    {
     "name": "stderr",
     "output_type": "stream",
     "text": [
      "[Parallel(n_jobs=1)]: Using backend SequentialBackend with 1 concurrent workers.\n",
      "[Parallel(n_jobs=1)]: Done 120 out of 120 | elapsed:    0.8s finished\n"
     ]
    },
    {
     "name": "stdout",
     "output_type": "stream",
     "text": [
      "GridSearchCV(cv=<sklearn.model_selection._split.RepeatedStratifiedKFold object at 0x1a1bca0810>,\n",
      "             error_score='raise-deprecating',\n",
      "             estimator=DecisionTreeClassifier(class_weight=None,\n",
      "                                              criterion='gini', max_depth=None,\n",
      "                                              max_features=None,\n",
      "                                              max_leaf_nodes=None,\n",
      "                                              min_impurity_decrease=0.0,\n",
      "                                              min_impurity_split=None,\n",
      "                                              min_samples_leaf=1,\n",
      "                                              min_samples_split=2,\n",
      "                                              min_weight_fraction_leaf=0.0,\n",
      "                                              presort=False, random_state=999,\n",
      "                                              splitter='best'),\n",
      "             iid='warn', n_jobs=None,\n",
      "             param_grid={'criterion': ['gini', 'entropy'],\n",
      "                         'max_depth': [2, 3, 4, 5]},\n",
      "             pre_dispatch='2*n_jobs', refit=True, return_train_score=False,\n",
      "             scoring='accuracy', verbose=1)\n",
      "{'criterion': 'entropy', 'max_depth': 4}\n",
      "0.9718123344684071\n",
      "['study_drawer' 'bathroom_toiletflush' 'bathroom_medicinecabinet'\n",
      " 'bathroom_door' 'bathroom_lightswitch']\n",
      "[0.05710111 0.01466405 0.01117749 0.01094103 0.00918074]\n"
     ]
    },
    {
     "data": {
      "application/vnd.vegalite.v3+json": {
       "$schema": "https://vega.github.io/schema/vega-lite/v3.4.0.json",
       "config": {
        "mark": {
         "tooltip": null
        },
        "view": {
         "height": 300,
         "width": 400
        }
       },
       "data": {
        "name": "data-c22d3fe7dff37a6901c117c6e3d702fe"
       },
       "datasets": {
        "data-c22d3fe7dff37a6901c117c6e3d702fe": [
         {
          "features": "study_drawer",
          "importances": 0.057101105290533694
         },
         {
          "features": "bathroom_toiletflush",
          "importances": 0.014664053757121875
         },
         {
          "features": "bathroom_medicinecabinet",
          "importances": 0.011177494090967466
         },
         {
          "features": "bathroom_door",
          "importances": 0.010941025279087357
         },
         {
          "features": "bathroom_lightswitch",
          "importances": 0.009180737479883794
         }
        ]
       },
       "encoding": {
        "x": {
         "axis": {
          "labelAngle": 45
         },
         "field": "features",
         "sort": null,
         "title": "Feature",
         "type": "nominal"
        },
        "y": {
         "field": "importances",
         "title": "Importance",
         "type": "quantitative"
        }
       },
       "mark": {
        "color": "blue",
        "opacity": 0.95,
        "type": "bar"
       },
       "title": "bathroom_sinkfaucet-hot Mutual Information Feature Importances",
       "width": 500
      },
      "image/png": "[encoded data removed]",
      "text/plain": [
       "<VegaLite 3 object>\n",
       "\n",
       "If you see this message, it means the renderer has not been properly enabled\n",
       "for the frontend that you are using. For more information, see\n",
       "https://altair-viz.github.io/user_guide/troubleshooting.html\n"
      ]
     },
     "metadata": {},
     "output_type": "display_data"
    },
    {
     "name": "stdout",
     "output_type": "stream",
     "text": [
      "study_lightwitch\n",
      "0.8865069356872636\n",
      "Fitting 15 folds for each of 8 candidates, totalling 120 fits\n"
     ]
    },
    {
     "name": "stderr",
     "output_type": "stream",
     "text": [
      "[Parallel(n_jobs=1)]: Using backend SequentialBackend with 1 concurrent workers.\n",
      "[Parallel(n_jobs=1)]: Done 120 out of 120 | elapsed:    0.8s finished\n"
     ]
    },
    {
     "name": "stdout",
     "output_type": "stream",
     "text": [
      "GridSearchCV(cv=<sklearn.model_selection._split.RepeatedStratifiedKFold object at 0x1a1bcdc690>,\n",
      "             error_score='raise-deprecating',\n",
      "             estimator=DecisionTreeClassifier(class_weight=None,\n",
      "                                              criterion='gini', max_depth=None,\n",
      "                                              max_features=None,\n",
      "                                              max_leaf_nodes=None,\n",
      "                                              min_impurity_decrease=0.0,\n",
      "                                              min_impurity_split=None,\n",
      "                                              min_samples_leaf=1,\n",
      "                                              min_samples_split=2,\n",
      "                                              min_weight_fraction_leaf=0.0,\n",
      "                                              presort=False, random_state=999,\n",
      "                                              splitter='best'),\n",
      "             iid='warn', n_jobs=None,\n",
      "             param_grid={'criterion': ['gini', 'entropy'],\n",
      "                         'max_depth': [2, 3, 4, 5]},\n",
      "             pre_dispatch='2*n_jobs', refit=True, return_train_score=False,\n",
      "             scoring='accuracy', verbose=1)\n",
      "{'criterion': 'gini', 'max_depth': 5}\n",
      "0.8852314289317694\n",
      "['kitchen_lightswitch' 'livingroom_lightswitch' 'kitchen_drawer'\n",
      " 'bathroom_cabinet' 'bathroom_exhaustfan']\n",
      "[0.01298812 0.00991083 0.00747114 0.0070043  0.00686909]\n"
     ]
    },
    {
     "data": {
      "application/vnd.vegalite.v3+json": {
       "$schema": "https://vega.github.io/schema/vega-lite/v3.4.0.json",
       "config": {
        "mark": {
         "tooltip": null
        },
        "view": {
         "height": 300,
         "width": 400
        }
       },
       "data": {
        "name": "data-42ca01b328b7f17c394663612d410581"
       },
       "datasets": {
        "data-42ca01b328b7f17c394663612d410581": [
         {
          "features": "kitchen_lightswitch",
          "importances": 0.01298811593545457
         },
         {
          "features": "livingroom_lightswitch",
          "importances": 0.009910834895618281
         },
         {
          "features": "kitchen_drawer",
          "importances": 0.007471137655185478
         },
         {
          "features": "bathroom_cabinet",
          "importances": 0.00700429551500803
         },
         {
          "features": "bathroom_exhaustfan",
          "importances": 0.0068690932142077
         }
        ]
       },
       "encoding": {
        "x": {
         "axis": {
          "labelAngle": 45
         },
         "field": "features",
         "sort": null,
         "title": "Feature",
         "type": "nominal"
        },
        "y": {
         "field": "importances",
         "title": "Importance",
         "type": "quantitative"
        }
       },
       "mark": {
        "color": "blue",
        "opacity": 0.95,
        "type": "bar"
       },
       "title": "study_lightwitch Mutual Information Feature Importances",
       "width": 500
      },
      "image/png": "[encoded data removed]",
      "text/plain": [
       "<VegaLite 3 object>\n",
       "\n",
       "If you see this message, it means the renderer has not been properly enabled\n",
       "for the frontend that you are using. For more information, see\n",
       "https://altair-viz.github.io/user_guide/troubleshooting.html\n"
      ]
     },
     "metadata": {},
     "output_type": "display_data"
    },
    {
     "name": "stdout",
     "output_type": "stream",
     "text": [
      "bathroom_exhaustfan\n",
      "0.8738965952080706\n",
      "Fitting 15 folds for each of 8 candidates, totalling 120 fits\n"
     ]
    },
    {
     "name": "stderr",
     "output_type": "stream",
     "text": [
      "[Parallel(n_jobs=1)]: Using backend SequentialBackend with 1 concurrent workers.\n",
      "[Parallel(n_jobs=1)]: Done 120 out of 120 | elapsed:    0.8s finished\n"
     ]
    },
    {
     "name": "stdout",
     "output_type": "stream",
     "text": [
      "GridSearchCV(cv=<sklearn.model_selection._split.RepeatedStratifiedKFold object at 0x1a1bcdc510>,\n",
      "             error_score='raise-deprecating',\n",
      "             estimator=DecisionTreeClassifier(class_weight=None,\n",
      "                                              criterion='gini', max_depth=None,\n",
      "                                              max_features=None,\n",
      "                                              max_leaf_nodes=None,\n",
      "                                              min_impurity_decrease=0.0,\n",
      "                                              min_impurity_split=None,\n",
      "                                              min_samples_leaf=1,\n",
      "                                              min_samples_split=2,\n",
      "                                              min_weight_fraction_leaf=0.0,\n",
      "                                              presort=False, random_state=999,\n",
      "                                              splitter='best'),\n",
      "             iid='warn', n_jobs=None,\n",
      "             param_grid={'criterion': ['gini', 'entropy'],\n",
      "                         'max_depth': [2, 3, 4, 5]},\n",
      "             pre_dispatch='2*n_jobs', refit=True, return_train_score=False,\n",
      "             scoring='accuracy', verbose=1)\n",
      "{'criterion': 'gini', 'max_depth': 5}\n",
      "0.8784840459074285\n",
      "['bathroom_medicinecabinet' 'kitchen_lightswitch' 'livingroom_lightswitch'\n",
      " 'kitchen_dishwasher' 'livingroom_lamp']\n",
      "[0.0211634  0.01569972 0.0142389  0.01039753 0.00850603]\n"
     ]
    },
    {
     "data": {
      "application/vnd.vegalite.v3+json": {
       "$schema": "https://vega.github.io/schema/vega-lite/v3.4.0.json",
       "config": {
        "mark": {
         "tooltip": null
        },
        "view": {
         "height": 300,
         "width": 400
        }
       },
       "data": {
        "name": "data-40a1f62d75baa0c36a48ebf737f51bd1"
       },
       "datasets": {
        "data-40a1f62d75baa0c36a48ebf737f51bd1": [
         {
          "features": "bathroom_medicinecabinet",
          "importances": 0.021163400976188518
         },
         {
          "features": "kitchen_lightswitch",
          "importances": 0.015699721531582833
         },
         {
          "features": "livingroom_lightswitch",
          "importances": 0.014238898877070971
         },
         {
          "features": "kitchen_dishwasher",
          "importances": 0.010397529476270817
         },
         {
          "features": "livingroom_lamp",
          "importances": 0.008506030855381486
         }
        ]
       },
       "encoding": {
        "x": {
         "axis": {
          "labelAngle": 45
         },
         "field": "features",
         "sort": null,
         "title": "Feature",
         "type": "nominal"
        },
        "y": {
         "field": "importances",
         "title": "Importance",
         "type": "quantitative"
        }
       },
       "mark": {
        "color": "blue",
        "opacity": 0.95,
        "type": "bar"
       },
       "title": "bathroom_exhaustfan Mutual Information Feature Importances",
       "width": 500
      },
      "image/png": "[encoded data removed]",
      "text/plain": [
       "<VegaLite 3 object>\n",
       "\n",
       "If you see this message, it means the renderer has not been properly enabled\n",
       "for the frontend that you are using. For more information, see\n",
       "https://altair-viz.github.io/user_guide/troubleshooting.html\n"
      ]
     },
     "metadata": {},
     "output_type": "display_data"
    },
    {
     "name": "stdout",
     "output_type": "stream",
     "text": [
      "kitchen_refrigerator\n",
      "0.9590163934426229\n",
      "Fitting 15 folds for each of 8 candidates, totalling 120 fits\n"
     ]
    },
    {
     "name": "stderr",
     "output_type": "stream",
     "text": [
      "[Parallel(n_jobs=1)]: Using backend SequentialBackend with 1 concurrent workers.\n",
      "[Parallel(n_jobs=1)]: Done 120 out of 120 | elapsed:    1.0s finished\n"
     ]
    },
    {
     "name": "stdout",
     "output_type": "stream",
     "text": [
      "GridSearchCV(cv=<sklearn.model_selection._split.RepeatedStratifiedKFold object at 0x1a1bcb0ad0>,\n",
      "             error_score='raise-deprecating',\n",
      "             estimator=DecisionTreeClassifier(class_weight=None,\n",
      "                                              criterion='gini', max_depth=None,\n",
      "                                              max_features=None,\n",
      "                                              max_leaf_nodes=None,\n",
      "                                              min_impurity_decrease=0.0,\n",
      "                                              min_impurity_split=None,\n",
      "                                              min_samples_leaf=1,\n",
      "                                              min_samples_split=2,\n",
      "                                              min_weight_fraction_leaf=0.0,\n",
      "                                              presort=False, random_state=999,\n",
      "                                              splitter='best'),\n",
      "             iid='warn', n_jobs=None,\n",
      "             param_grid={'criterion': ['gini', 'entropy'],\n",
      "                         'max_depth': [2, 3, 4, 5]},\n",
      "             pre_dispatch='2*n_jobs', refit=True, return_train_score=False,\n",
      "             scoring='accuracy', verbose=1)\n",
      "{'criterion': 'entropy', 'max_depth': 5}\n",
      "0.962353386303443\n",
      "['kitchen_cabinet' 'kitchen_toaster' 'kitchen_drawer' 'kitchen_burner'\n",
      " 'kitchen_washingmachine']\n",
      "[0.0297358  0.01790741 0.01580963 0.008193   0.00726673]\n"
     ]
    },
    {
     "data": {
      "application/vnd.vegalite.v3+json": {
       "$schema": "https://vega.github.io/schema/vega-lite/v3.4.0.json",
       "config": {
        "mark": {
         "tooltip": null
        },
        "view": {
         "height": 300,
         "width": 400
        }
       },
       "data": {
        "name": "data-84a36650aeae6dac1cdf38ee33ed2595"
       },
       "datasets": {
        "data-84a36650aeae6dac1cdf38ee33ed2595": [
         {
          "features": "kitchen_cabinet",
          "importances": 0.02973579839682161
         },
         {
          "features": "kitchen_toaster",
          "importances": 0.017907411518185423
         },
         {
          "features": "kitchen_drawer",
          "importances": 0.01580962778872741
         },
         {
          "features": "kitchen_burner",
          "importances": 0.008193004390699477
         },
         {
          "features": "kitchen_washingmachine",
          "importances": 0.0072667291676906665
         }
        ]
       },
       "encoding": {
        "x": {
         "axis": {
          "labelAngle": 45
         },
         "field": "features",
         "sort": null,
         "title": "Feature",
         "type": "nominal"
        },
        "y": {
         "field": "importances",
         "title": "Importance",
         "type": "quantitative"
        }
       },
       "mark": {
        "color": "blue",
        "opacity": 0.95,
        "type": "bar"
       },
       "title": "kitchen_refrigerator Mutual Information Feature Importances",
       "width": 500
      },
      "image/png": "[encoded data removed]",
      "text/plain": [
       "<VegaLite 3 object>\n",
       "\n",
       "If you see this message, it means the renderer has not been properly enabled\n",
       "for the frontend that you are using. For more information, see\n",
       "https://altair-viz.github.io/user_guide/troubleshooting.html\n"
      ]
     },
     "metadata": {},
     "output_type": "display_data"
    },
    {
     "name": "stdout",
     "output_type": "stream",
     "text": [
      "porch_lightswitch\n"
     ]
    },
    {
     "ename": "KeyError",
     "evalue": "\"['porch_lightswitch'] not found in axis\"",
     "output_type": "error",
     "traceback": [
      "\u001b[0;31m---------------------------------------------------------------------------\u001b[0m",
      "\u001b[0;31mKeyError\u001b[0m                                  Traceback (most recent call last)",
      "\u001b[0;32m<ipython-input-7-8750888a5b08>\u001b[0m in \u001b[0;36m<module>\u001b[0;34m\u001b[0m\n\u001b[1;32m      5\u001b[0m     \u001b[0mrow\u001b[0m \u001b[0;34m=\u001b[0m \u001b[0;34m{\u001b[0m\u001b[0;34m\"Target\"\u001b[0m\u001b[0;34m:\u001b[0m\u001b[0msubAct\u001b[0m\u001b[0;34m}\u001b[0m\u001b[0;34m\u001b[0m\u001b[0;34m\u001b[0m\u001b[0m\n\u001b[1;32m      6\u001b[0m \u001b[0;34m\u001b[0m\u001b[0m\n\u001b[0;32m----> 7\u001b[0;31m     \u001b[0mData\u001b[0m \u001b[0;34m=\u001b[0m \u001b[0mds\u001b[0m\u001b[0;34m.\u001b[0m\u001b[0mdrop\u001b[0m\u001b[0;34m(\u001b[0m\u001b[0mcolumns\u001b[0m \u001b[0;34m=\u001b[0m \u001b[0msubAct\u001b[0m\u001b[0;34m)\u001b[0m\u001b[0;34m.\u001b[0m\u001b[0mvalues\u001b[0m\u001b[0;34m\u001b[0m\u001b[0;34m\u001b[0m\u001b[0m\n\u001b[0m\u001b[1;32m      8\u001b[0m     \u001b[0mtarget\u001b[0m \u001b[0;34m=\u001b[0m \u001b[0mds\u001b[0m\u001b[0;34m[\u001b[0m\u001b[0msubAct\u001b[0m\u001b[0;34m]\u001b[0m\u001b[0;34m\u001b[0m\u001b[0;34m\u001b[0m\u001b[0m\n\u001b[1;32m      9\u001b[0m     D_train, D_test, t_train, t_test = train_test_split(Data, \n",
      "\u001b[0;32m//anaconda3/envs/IoT_ResearchProject/lib/python3.7/site-packages/pandas/core/frame.py\u001b[0m in \u001b[0;36mdrop\u001b[0;34m(self, labels, axis, index, columns, level, inplace, errors)\u001b[0m\n\u001b[1;32m   4095\u001b[0m             \u001b[0mlevel\u001b[0m\u001b[0;34m=\u001b[0m\u001b[0mlevel\u001b[0m\u001b[0;34m,\u001b[0m\u001b[0;34m\u001b[0m\u001b[0;34m\u001b[0m\u001b[0m\n\u001b[1;32m   4096\u001b[0m             \u001b[0minplace\u001b[0m\u001b[0;34m=\u001b[0m\u001b[0minplace\u001b[0m\u001b[0;34m,\u001b[0m\u001b[0;34m\u001b[0m\u001b[0;34m\u001b[0m\u001b[0m\n\u001b[0;32m-> 4097\u001b[0;31m             \u001b[0merrors\u001b[0m\u001b[0;34m=\u001b[0m\u001b[0merrors\u001b[0m\u001b[0;34m,\u001b[0m\u001b[0;34m\u001b[0m\u001b[0;34m\u001b[0m\u001b[0m\n\u001b[0m\u001b[1;32m   4098\u001b[0m         )\n\u001b[1;32m   4099\u001b[0m \u001b[0;34m\u001b[0m\u001b[0m\n",
      "\u001b[0;32m//anaconda3/envs/IoT_ResearchProject/lib/python3.7/site-packages/pandas/core/generic.py\u001b[0m in \u001b[0;36mdrop\u001b[0;34m(self, labels, axis, index, columns, level, inplace, errors)\u001b[0m\n\u001b[1;32m   3913\u001b[0m         \u001b[0;32mfor\u001b[0m \u001b[0maxis\u001b[0m\u001b[0;34m,\u001b[0m \u001b[0mlabels\u001b[0m \u001b[0;32min\u001b[0m \u001b[0maxes\u001b[0m\u001b[0;34m.\u001b[0m\u001b[0mitems\u001b[0m\u001b[0;34m(\u001b[0m\u001b[0;34m)\u001b[0m\u001b[0;34m:\u001b[0m\u001b[0;34m\u001b[0m\u001b[0;34m\u001b[0m\u001b[0m\n\u001b[1;32m   3914\u001b[0m             \u001b[0;32mif\u001b[0m \u001b[0mlabels\u001b[0m \u001b[0;32mis\u001b[0m \u001b[0;32mnot\u001b[0m \u001b[0;32mNone\u001b[0m\u001b[0;34m:\u001b[0m\u001b[0;34m\u001b[0m\u001b[0;34m\u001b[0m\u001b[0m\n\u001b[0;32m-> 3915\u001b[0;31m                 \u001b[0mobj\u001b[0m \u001b[0;34m=\u001b[0m \u001b[0mobj\u001b[0m\u001b[0;34m.\u001b[0m\u001b[0m_drop_axis\u001b[0m\u001b[0;34m(\u001b[0m\u001b[0mlabels\u001b[0m\u001b[0;34m,\u001b[0m \u001b[0maxis\u001b[0m\u001b[0;34m,\u001b[0m \u001b[0mlevel\u001b[0m\u001b[0;34m=\u001b[0m\u001b[0mlevel\u001b[0m\u001b[0;34m,\u001b[0m \u001b[0merrors\u001b[0m\u001b[0;34m=\u001b[0m\u001b[0merrors\u001b[0m\u001b[0;34m)\u001b[0m\u001b[0;34m\u001b[0m\u001b[0;34m\u001b[0m\u001b[0m\n\u001b[0m\u001b[1;32m   3916\u001b[0m \u001b[0;34m\u001b[0m\u001b[0m\n\u001b[1;32m   3917\u001b[0m         \u001b[0;32mif\u001b[0m \u001b[0minplace\u001b[0m\u001b[0;34m:\u001b[0m\u001b[0;34m\u001b[0m\u001b[0;34m\u001b[0m\u001b[0m\n",
      "\u001b[0;32m//anaconda3/envs/IoT_ResearchProject/lib/python3.7/site-packages/pandas/core/generic.py\u001b[0m in \u001b[0;36m_drop_axis\u001b[0;34m(self, labels, axis, level, errors)\u001b[0m\n\u001b[1;32m   3945\u001b[0m                 \u001b[0mnew_axis\u001b[0m \u001b[0;34m=\u001b[0m \u001b[0maxis\u001b[0m\u001b[0;34m.\u001b[0m\u001b[0mdrop\u001b[0m\u001b[0;34m(\u001b[0m\u001b[0mlabels\u001b[0m\u001b[0;34m,\u001b[0m \u001b[0mlevel\u001b[0m\u001b[0;34m=\u001b[0m\u001b[0mlevel\u001b[0m\u001b[0;34m,\u001b[0m \u001b[0merrors\u001b[0m\u001b[0;34m=\u001b[0m\u001b[0merrors\u001b[0m\u001b[0;34m)\u001b[0m\u001b[0;34m\u001b[0m\u001b[0;34m\u001b[0m\u001b[0m\n\u001b[1;32m   3946\u001b[0m             \u001b[0;32melse\u001b[0m\u001b[0;34m:\u001b[0m\u001b[0;34m\u001b[0m\u001b[0;34m\u001b[0m\u001b[0m\n\u001b[0;32m-> 3947\u001b[0;31m                 \u001b[0mnew_axis\u001b[0m \u001b[0;34m=\u001b[0m \u001b[0maxis\u001b[0m\u001b[0;34m.\u001b[0m\u001b[0mdrop\u001b[0m\u001b[0;34m(\u001b[0m\u001b[0mlabels\u001b[0m\u001b[0;34m,\u001b[0m \u001b[0merrors\u001b[0m\u001b[0;34m=\u001b[0m\u001b[0merrors\u001b[0m\u001b[0;34m)\u001b[0m\u001b[0;34m\u001b[0m\u001b[0;34m\u001b[0m\u001b[0m\n\u001b[0m\u001b[1;32m   3948\u001b[0m             \u001b[0mresult\u001b[0m \u001b[0;34m=\u001b[0m \u001b[0mself\u001b[0m\u001b[0;34m.\u001b[0m\u001b[0mreindex\u001b[0m\u001b[0;34m(\u001b[0m\u001b[0;34m**\u001b[0m\u001b[0;34m{\u001b[0m\u001b[0maxis_name\u001b[0m\u001b[0;34m:\u001b[0m \u001b[0mnew_axis\u001b[0m\u001b[0;34m}\u001b[0m\u001b[0;34m)\u001b[0m\u001b[0;34m\u001b[0m\u001b[0;34m\u001b[0m\u001b[0m\n\u001b[1;32m   3949\u001b[0m \u001b[0;34m\u001b[0m\u001b[0m\n",
      "\u001b[0;32m//anaconda3/envs/IoT_ResearchProject/lib/python3.7/site-packages/pandas/core/indexes/base.py\u001b[0m in \u001b[0;36mdrop\u001b[0;34m(self, labels, errors)\u001b[0m\n\u001b[1;32m   5331\u001b[0m         \u001b[0;32mif\u001b[0m \u001b[0mmask\u001b[0m\u001b[0;34m.\u001b[0m\u001b[0many\u001b[0m\u001b[0;34m(\u001b[0m\u001b[0;34m)\u001b[0m\u001b[0;34m:\u001b[0m\u001b[0;34m\u001b[0m\u001b[0;34m\u001b[0m\u001b[0m\n\u001b[1;32m   5332\u001b[0m             \u001b[0;32mif\u001b[0m \u001b[0merrors\u001b[0m \u001b[0;34m!=\u001b[0m \u001b[0;34m\"ignore\"\u001b[0m\u001b[0;34m:\u001b[0m\u001b[0;34m\u001b[0m\u001b[0;34m\u001b[0m\u001b[0m\n\u001b[0;32m-> 5333\u001b[0;31m                 \u001b[0;32mraise\u001b[0m \u001b[0mKeyError\u001b[0m\u001b[0;34m(\u001b[0m\u001b[0;34m\"{} not found in axis\"\u001b[0m\u001b[0;34m.\u001b[0m\u001b[0mformat\u001b[0m\u001b[0;34m(\u001b[0m\u001b[0mlabels\u001b[0m\u001b[0;34m[\u001b[0m\u001b[0mmask\u001b[0m\u001b[0;34m]\u001b[0m\u001b[0;34m)\u001b[0m\u001b[0;34m)\u001b[0m\u001b[0;34m\u001b[0m\u001b[0;34m\u001b[0m\u001b[0m\n\u001b[0m\u001b[1;32m   5334\u001b[0m             \u001b[0mindexer\u001b[0m \u001b[0;34m=\u001b[0m \u001b[0mindexer\u001b[0m\u001b[0;34m[\u001b[0m\u001b[0;34m~\u001b[0m\u001b[0mmask\u001b[0m\u001b[0;34m]\u001b[0m\u001b[0;34m\u001b[0m\u001b[0;34m\u001b[0m\u001b[0m\n\u001b[1;32m   5335\u001b[0m         \u001b[0;32mreturn\u001b[0m \u001b[0mself\u001b[0m\u001b[0;34m.\u001b[0m\u001b[0mdelete\u001b[0m\u001b[0;34m(\u001b[0m\u001b[0mindexer\u001b[0m\u001b[0;34m)\u001b[0m\u001b[0;34m\u001b[0m\u001b[0;34m\u001b[0m\u001b[0m\n",
      "\u001b[0;31mKeyError\u001b[0m: \"['porch_lightswitch'] not found in axis\""
     ]
    }
   ],
   "source": [
    "table = []\n",
    "\n",
    "for subAct in poweredSubActs:\n",
    "    print(subAct)\n",
    "    row = {\"Target\":subAct}\n",
    "    \n",
    "    Data = ds.drop(columns = subAct).values\n",
    "    target = ds[subAct]\n",
    "    D_train, D_test, t_train, t_test = train_test_split(Data, \n",
    "                                                    target, \n",
    "                                                    test_size = 0.3,\n",
    "                                                    random_state=999)\n",
    "    \n",
    "    dt_classifier = DecisionTreeClassifier(max_depth=4,\n",
    "                                       criterion='entropy',\n",
    "                                       random_state = 999)\n",
    "    \n",
    "    dt_classifier.fit(D_train, t_train)\n",
    "    print(dt_classifier.score(D_test, t_test))\n",
    "    \n",
    "    cv_method = RepeatedStratifiedKFold(n_splits = 5, \n",
    "                                    n_repeats = 3, \n",
    "                                    random_state = 999)\n",
    "\n",
    "    dt_classifier = DecisionTreeClassifier(random_state=999)\n",
    "\n",
    "    params_DT = {'criterion': ['gini', 'entropy'],\n",
    "                 'max_depth': [2, 3, 4, 5]}\n",
    "\n",
    "    gs = GridSearchCV(estimator=dt_classifier, \n",
    "                      param_grid=params_DT, \n",
    "                      cv=cv_method,\n",
    "                      verbose=1, \n",
    "                      scoring='accuracy')\n",
    "    \n",
    "    print(gs.fit(Data, target))\n",
    "    print(gs.best_params_)\n",
    "    print(gs.best_score_)\n",
    "    \n",
    "    num_features = 5\n",
    "    fs_fit_mutual_info = fs.SelectKBest(fs.mutual_info_classif, k=num_features)\n",
    "    fs_fit_mutual_info.fit_transform(Data, target)\n",
    "    fs_indices_mutual_info = np.argsort(fs_fit_mutual_info.scores_)[::-1][0:num_features]\n",
    "    best_features_mutual_info = ds.columns[fs_indices_mutual_info].values\n",
    "    print(best_features_mutual_info)\n",
    "    \n",
    "    feature_importances_mutual_info = fs_fit_mutual_info.scores_[fs_indices_mutual_info]\n",
    "    print(feature_importances_mutual_info)\n",
    "    \n",
    "    best_feats = dict(zip(best_features_mutual_info, feature_importances_mutual_info))\n",
    "    row.update(best_feats)\n",
    "    table.append(row)\n",
    "    \n",
    "    plot = plot_imp(subAct, best_features_mutual_info, feature_importances_mutual_info, 'Mutual Information', 'blue')\n",
    "    plot.display()\n",
    "    \n",
    "ds_best_feats = pd.DataFrame(table)\n",
    "ds_best_feats.head()"
   ]
  },
  {
   "cell_type": "code",
   "execution_count": null,
   "metadata": {},
   "outputs": [],
   "source": []
  },
  {
   "cell_type": "code",
   "execution_count": null,
   "metadata": {},
   "outputs": [],
   "source": []
  },
  {
   "cell_type": "code",
   "execution_count": 6,
   "metadata": {},
   "outputs": [],
   "source": []
  },
  {
   "cell_type": "code",
   "execution_count": 7,
   "metadata": {},
   "outputs": [],
   "source": []
  },
  {
   "cell_type": "code",
   "execution_count": 8,
   "metadata": {},
   "outputs": [],
   "source": []
  },
  {
   "cell_type": "code",
   "execution_count": null,
   "metadata": {},
   "outputs": [],
   "source": []
  },
  {
   "cell_type": "code",
   "execution_count": 10,
   "metadata": {},
   "outputs": [],
   "source": []
  },
  {
   "cell_type": "code",
   "execution_count": null,
   "metadata": {},
   "outputs": [],
   "source": []
  },
  {
   "cell_type": "code",
   "execution_count": 12,
   "metadata": {},
   "outputs": [],
   "source": []
  },
  {
   "cell_type": "markdown",
   "metadata": {},
   "source": [
    "### Feature Selection Using Mutual Information"
   ]
  },
  {
   "cell_type": "markdown",
   "metadata": {},
   "source": [
    "The mutual information method is a filter feature selection method that looks at the relationship between each descriptive feature and the target feature using the concept of entropy.\n",
    "\n",
    "The code below returns the indices of the 5 features that have the highest mutual information value. As in the F-score method, the wrapper is not used in any way when selecting features using the mutual information method."
   ]
  },
  {
   "cell_type": "code",
   "execution_count": null,
   "metadata": {},
   "outputs": [],
   "source": []
  },
  {
   "cell_type": "code",
   "execution_count": null,
   "metadata": {},
   "outputs": [],
   "source": []
  },
  {
   "cell_type": "code",
   "execution_count": null,
   "metadata": {},
   "outputs": [],
   "source": []
  },
  {
   "cell_type": "markdown",
   "metadata": {},
   "source": []
  },
  {
   "cell_type": "code",
   "execution_count": 16,
   "metadata": {},
   "outputs": [],
   "source": [
    "# import datetime as dt\n",
    "# def add_DAY_WDWE_phaseII(ds):\n",
    "#     dayNumKeyWithDAYDict = pd.Series(['Mon','Tue','Wed','Thu','Fri','Sat','Sun'], ['0','1','2','3','4','5','6']).to_dict()\n",
    "#     dayNumKeyWithWDWEDict = pd.Series(['WD','WD','WD','WD','WD','WE','WE'], ['0','1','2','3','4','5','6']).to_dict()\n",
    "#     ds.set_index(ds['timestamp'], inplace = True)\n",
    "#     ds.insert((len(ds.columns)), \"DAY\", ds.index.dayofweek.astype(str), True)\n",
    "#     ds.insert((len(ds.columns)), \"WDWE\", ds.index.dayofweek.astype(str), True)\n",
    "#     ds = ds.replace({\"DAY\": dayNumKeyWithDAYDict})\n",
    "#     ds = ds.replace({\"WDWE\": dayNumKeyWithWDWEDict})\n",
    "#     ds.reset_index(drop = True, inplace = True)\n",
    "#     ds['Hour'] = ds['timestamp'].dt.hour\n",
    "#     return ds\n",
    "\n",
    "# df = add_DAY_WDWE_phaseII(df)\n",
    "# df.head()"
   ]
  },
  {
   "cell_type": "code",
   "execution_count": 17,
   "metadata": {},
   "outputs": [],
   "source": [
    "# df['Phase'] = \"Afternoon\"\n",
    "# df.loc[df['Hour'] < 9, 'Phase'] = \"Morning\"\n",
    "# df.loc[df['Hour'] >= 17, 'Phase'] = \"Evening\"\n",
    "# df.head()"
   ]
  },
  {
   "cell_type": "markdown",
   "metadata": {},
   "source": [
    "## Can we please also have summary stats - for example, 'Washine Machine on WD morning has a mean value of X with a SD of Y'"
   ]
  },
  {
   "cell_type": "code",
   "execution_count": 35,
   "metadata": {},
   "outputs": [],
   "source": [
    "import warnings\n",
    "warnings.filterwarnings(\"ignore\")\n",
    "import numpy as np\n",
    "import pandas as pd\n",
    "from sklearn.model_selection import train_test_split\n",
    "from sklearn.tree import DecisionTreeClassifier\n",
    "from sklearn import feature_selection as fs\n",
    "from sklearn.model_selection import RepeatedStratifiedKFold, GridSearchCV\n",
    "from sklearn.preprocessing import StandardScaler\n",
    "import datetime as dt\n",
    "\n",
    "df = pd.read_csv('S1Act_B_m_NoDupes.csv', index_col = \"duration\")\n",
    "df.reset_index(drop = True, inplace = True)\n",
    "\n",
    "df_sensors = pd.read_csv('S1Sensors_preprocessed.csv', index_col = None)\n",
    "df_sensors = df_sensors[df_sensors.reqEnergy]\n",
    "\n",
    "df_costs = pd.read_csv('power_costs.csv', index_col = None)\n",
    "\n",
    "def add_DAY_WDWE_phaseII(ds):\n",
    "    dayNumKeyWithDAYDict = pd.Series(['Mon','Tue','Wed','Thu','Fri','Sat','Sun'], ['0','1','2','3','4','5','6']).to_dict()\n",
    "    dayNumKeyWithWDWEDict = pd.Series(['WD','WD','WD','WD','WD','WE','WE'], ['0','1','2','3','4','5','6']).to_dict()\n",
    "    ds.set_index(ds['timestamp'], inplace = True)\n",
    "    ds.insert((len(ds.columns)), \"DAY\", ds.index.dayofweek.astype(str), True)\n",
    "    ds.insert((len(ds.columns)), \"WDWE\", ds.index.dayofweek.astype(str), True)\n",
    "    ds = ds.replace({\"DAY\": dayNumKeyWithDAYDict})\n",
    "    ds = ds.replace({\"WDWE\": dayNumKeyWithWDWEDict})\n",
    "    ds.reset_index(drop = True, inplace = True)\n",
    "    ds['Hour'] = ds['timestamp'].dt.hour\n",
    "    return ds"
   ]
  },
  {
   "cell_type": "code",
   "execution_count": 37,
   "metadata": {},
   "outputs": [
    {
     "data": {
      "text/html": [
       "<div>\n",
       "<style scoped>\n",
       "    .dataframe tbody tr th:only-of-type {\n",
       "        vertical-align: middle;\n",
       "    }\n",
       "\n",
       "    .dataframe tbody tr th {\n",
       "        vertical-align: top;\n",
       "    }\n",
       "\n",
       "    .dataframe thead th {\n",
       "        text-align: right;\n",
       "    }\n",
       "</style>\n",
       "<table border=\"1\" class=\"dataframe\">\n",
       "  <thead>\n",
       "    <tr style=\"text-align: right;\">\n",
       "      <th></th>\n",
       "      <th>subActNum</th>\n",
       "      <th>subAct</th>\n",
       "      <th>start</th>\n",
       "      <th>end</th>\n",
       "      <th>dayNumeric</th>\n",
       "      <th>DAY</th>\n",
       "      <th>WDWE</th>\n",
       "      <th>HOUR</th>\n",
       "      <th>durationSec</th>\n",
       "    </tr>\n",
       "  </thead>\n",
       "  <tbody>\n",
       "    <tr>\n",
       "      <th>0</th>\n",
       "      <td>67</td>\n",
       "      <td>bathroom_cabinet</td>\n",
       "      <td>2003-03-27 06:43:40</td>\n",
       "      <td>2003-03-27 06:43:43</td>\n",
       "      <td>3</td>\n",
       "      <td>Thu</td>\n",
       "      <td>WD</td>\n",
       "      <td>6</td>\n",
       "      <td>3</td>\n",
       "    </tr>\n",
       "    <tr>\n",
       "      <th>1</th>\n",
       "      <td>100</td>\n",
       "      <td>bathroom_toiletflush</td>\n",
       "      <td>2003-03-27 06:44:06</td>\n",
       "      <td>2003-03-27 07:12:41</td>\n",
       "      <td>3</td>\n",
       "      <td>Thu</td>\n",
       "      <td>WD</td>\n",
       "      <td>6</td>\n",
       "      <td>1715</td>\n",
       "    </tr>\n",
       "    <tr>\n",
       "      <th>2</th>\n",
       "      <td>101</td>\n",
       "      <td>bathroom_lightswitch</td>\n",
       "      <td>2003-03-27 06:44:20</td>\n",
       "      <td>2003-03-27 07:46:34</td>\n",
       "      <td>3</td>\n",
       "      <td>Thu</td>\n",
       "      <td>WD</td>\n",
       "      <td>6</td>\n",
       "      <td>3734</td>\n",
       "    </tr>\n",
       "    <tr>\n",
       "      <th>3</th>\n",
       "      <td>57</td>\n",
       "      <td>bathroom_medicinecabinet</td>\n",
       "      <td>2003-03-27 06:44:35</td>\n",
       "      <td>2003-03-27 06:44:48</td>\n",
       "      <td>3</td>\n",
       "      <td>Thu</td>\n",
       "      <td>WD</td>\n",
       "      <td>6</td>\n",
       "      <td>13</td>\n",
       "    </tr>\n",
       "    <tr>\n",
       "      <th>4</th>\n",
       "      <td>57</td>\n",
       "      <td>bathroom_medicinecabinet</td>\n",
       "      <td>2003-03-27 06:44:36</td>\n",
       "      <td>2003-03-27 06:44:48</td>\n",
       "      <td>3</td>\n",
       "      <td>Thu</td>\n",
       "      <td>WD</td>\n",
       "      <td>6</td>\n",
       "      <td>12</td>\n",
       "    </tr>\n",
       "  </tbody>\n",
       "</table>\n",
       "</div>"
      ],
      "text/plain": [
       "   subActNum                    subAct               start  \\\n",
       "0         67          bathroom_cabinet 2003-03-27 06:43:40   \n",
       "1        100      bathroom_toiletflush 2003-03-27 06:44:06   \n",
       "2        101      bathroom_lightswitch 2003-03-27 06:44:20   \n",
       "3         57  bathroom_medicinecabinet 2003-03-27 06:44:35   \n",
       "4         57  bathroom_medicinecabinet 2003-03-27 06:44:36   \n",
       "\n",
       "                  end  dayNumeric  DAY WDWE  HOUR  durationSec  \n",
       "0 2003-03-27 06:43:43           3  Thu   WD     6            3  \n",
       "1 2003-03-27 07:12:41           3  Thu   WD     6         1715  \n",
       "2 2003-03-27 07:46:34           3  Thu   WD     6         3734  \n",
       "3 2003-03-27 06:44:48           3  Thu   WD     6           13  \n",
       "4 2003-03-27 06:44:48           3  Thu   WD     6           12  "
      ]
     },
     "execution_count": 37,
     "metadata": {},
     "output_type": "execute_result"
    }
   ],
   "source": [
    "ds = pd.read_csv('S1SubActivities_temporalFeaturesNoDUPES.csv', index_col = None) \n",
    "ds.start = pd.to_datetime(ds.start, format='%Y-%m-%d %H:%M:%S')\n",
    "ds.end = pd.to_datetime(ds.end, format='%Y-%m-%d %H:%M:%S')\n",
    "ds.head()"
   ]
  },
  {
   "cell_type": "code",
   "execution_count": 39,
   "metadata": {},
   "outputs": [
    {
     "data": {
      "text/html": [
       "<div>\n",
       "<style scoped>\n",
       "    .dataframe tbody tr th:only-of-type {\n",
       "        vertical-align: middle;\n",
       "    }\n",
       "\n",
       "    .dataframe tbody tr th {\n",
       "        vertical-align: top;\n",
       "    }\n",
       "\n",
       "    .dataframe thead th {\n",
       "        text-align: right;\n",
       "    }\n",
       "</style>\n",
       "<table border=\"1\" class=\"dataframe\">\n",
       "  <thead>\n",
       "    <tr style=\"text-align: right;\">\n",
       "      <th></th>\n",
       "      <th></th>\n",
       "      <th></th>\n",
       "      <th>count</th>\n",
       "      <th>mean</th>\n",
       "      <th>std</th>\n",
       "      <th>min</th>\n",
       "      <th>25%</th>\n",
       "      <th>50%</th>\n",
       "      <th>75%</th>\n",
       "      <th>max</th>\n",
       "    </tr>\n",
       "    <tr>\n",
       "      <th>subAct</th>\n",
       "      <th>WDWE</th>\n",
       "      <th>Phase</th>\n",
       "      <th></th>\n",
       "      <th></th>\n",
       "      <th></th>\n",
       "      <th></th>\n",
       "      <th></th>\n",
       "      <th></th>\n",
       "      <th></th>\n",
       "      <th></th>\n",
       "    </tr>\n",
       "  </thead>\n",
       "  <tbody>\n",
       "    <tr>\n",
       "      <th rowspan=\"6\" valign=\"top\">bathroom_cabinet</th>\n",
       "      <th rowspan=\"3\" valign=\"top\">WD</th>\n",
       "      <th>Afternoon</th>\n",
       "      <td>29.0</td>\n",
       "      <td>691.103448</td>\n",
       "      <td>3684.014438</td>\n",
       "      <td>1.0</td>\n",
       "      <td>2.00</td>\n",
       "      <td>3.0</td>\n",
       "      <td>12.00</td>\n",
       "      <td>19846.0</td>\n",
       "    </tr>\n",
       "    <tr>\n",
       "      <th>Evening</th>\n",
       "      <td>24.0</td>\n",
       "      <td>72.166667</td>\n",
       "      <td>339.703665</td>\n",
       "      <td>1.0</td>\n",
       "      <td>1.75</td>\n",
       "      <td>3.0</td>\n",
       "      <td>3.25</td>\n",
       "      <td>1667.0</td>\n",
       "    </tr>\n",
       "    <tr>\n",
       "      <th>Morning</th>\n",
       "      <td>25.0</td>\n",
       "      <td>4.800000</td>\n",
       "      <td>3.559026</td>\n",
       "      <td>1.0</td>\n",
       "      <td>3.00</td>\n",
       "      <td>3.0</td>\n",
       "      <td>6.00</td>\n",
       "      <td>15.0</td>\n",
       "    </tr>\n",
       "    <tr>\n",
       "      <th rowspan=\"3\" valign=\"top\">WE</th>\n",
       "      <th>Afternoon</th>\n",
       "      <td>11.0</td>\n",
       "      <td>4.181818</td>\n",
       "      <td>3.763461</td>\n",
       "      <td>1.0</td>\n",
       "      <td>1.50</td>\n",
       "      <td>3.0</td>\n",
       "      <td>5.50</td>\n",
       "      <td>13.0</td>\n",
       "    </tr>\n",
       "    <tr>\n",
       "      <th>Evening</th>\n",
       "      <td>11.0</td>\n",
       "      <td>2.272727</td>\n",
       "      <td>1.489356</td>\n",
       "      <td>1.0</td>\n",
       "      <td>1.00</td>\n",
       "      <td>2.0</td>\n",
       "      <td>3.50</td>\n",
       "      <td>5.0</td>\n",
       "    </tr>\n",
       "    <tr>\n",
       "      <th>Morning</th>\n",
       "      <td>4.0</td>\n",
       "      <td>6448.500000</td>\n",
       "      <td>12884.334480</td>\n",
       "      <td>2.0</td>\n",
       "      <td>2.75</td>\n",
       "      <td>8.5</td>\n",
       "      <td>6454.25</td>\n",
       "      <td>25775.0</td>\n",
       "    </tr>\n",
       "    <tr>\n",
       "      <th rowspan=\"6\" valign=\"top\">bathroom_door</th>\n",
       "      <th rowspan=\"3\" valign=\"top\">WD</th>\n",
       "      <th>Afternoon</th>\n",
       "      <td>20.0</td>\n",
       "      <td>632.200000</td>\n",
       "      <td>2261.413498</td>\n",
       "      <td>1.0</td>\n",
       "      <td>2.00</td>\n",
       "      <td>26.0</td>\n",
       "      <td>116.50</td>\n",
       "      <td>10152.0</td>\n",
       "    </tr>\n",
       "    <tr>\n",
       "      <th>Evening</th>\n",
       "      <td>18.0</td>\n",
       "      <td>104.500000</td>\n",
       "      <td>201.793211</td>\n",
       "      <td>1.0</td>\n",
       "      <td>1.25</td>\n",
       "      <td>43.5</td>\n",
       "      <td>85.50</td>\n",
       "      <td>845.0</td>\n",
       "    </tr>\n",
       "    <tr>\n",
       "      <th>Morning</th>\n",
       "      <td>13.0</td>\n",
       "      <td>45.923077</td>\n",
       "      <td>67.082613</td>\n",
       "      <td>1.0</td>\n",
       "      <td>3.00</td>\n",
       "      <td>7.0</td>\n",
       "      <td>102.00</td>\n",
       "      <td>173.0</td>\n",
       "    </tr>\n",
       "    <tr>\n",
       "      <th rowspan=\"3\" valign=\"top\">WE</th>\n",
       "      <th>Afternoon</th>\n",
       "      <td>8.0</td>\n",
       "      <td>2154.125000</td>\n",
       "      <td>6049.168454</td>\n",
       "      <td>3.0</td>\n",
       "      <td>5.25</td>\n",
       "      <td>11.0</td>\n",
       "      <td>29.50</td>\n",
       "      <td>17125.0</td>\n",
       "    </tr>\n",
       "    <tr>\n",
       "      <th>Evening</th>\n",
       "      <td>10.0</td>\n",
       "      <td>115.400000</td>\n",
       "      <td>215.446410</td>\n",
       "      <td>2.0</td>\n",
       "      <td>3.00</td>\n",
       "      <td>9.0</td>\n",
       "      <td>47.75</td>\n",
       "      <td>575.0</td>\n",
       "    </tr>\n",
       "    <tr>\n",
       "      <th>Morning</th>\n",
       "      <td>4.0</td>\n",
       "      <td>29.000000</td>\n",
       "      <td>38.453435</td>\n",
       "      <td>2.0</td>\n",
       "      <td>9.50</td>\n",
       "      <td>14.0</td>\n",
       "      <td>33.50</td>\n",
       "      <td>86.0</td>\n",
       "    </tr>\n",
       "    <tr>\n",
       "      <th rowspan=\"6\" valign=\"top\">bathroom_exhaustfan</th>\n",
       "      <th rowspan=\"3\" valign=\"top\">WD</th>\n",
       "      <th>Afternoon</th>\n",
       "      <td>7.0</td>\n",
       "      <td>1293.857143</td>\n",
       "      <td>1206.828962</td>\n",
       "      <td>2.0</td>\n",
       "      <td>573.00</td>\n",
       "      <td>979.0</td>\n",
       "      <td>1687.00</td>\n",
       "      <td>3556.0</td>\n",
       "    </tr>\n",
       "    <tr>\n",
       "      <th>Evening</th>\n",
       "      <td>7.0</td>\n",
       "      <td>553.428571</td>\n",
       "      <td>898.082561</td>\n",
       "      <td>1.0</td>\n",
       "      <td>38.50</td>\n",
       "      <td>227.0</td>\n",
       "      <td>523.50</td>\n",
       "      <td>2522.0</td>\n",
       "    </tr>\n",
       "    <tr>\n",
       "      <th>Morning</th>\n",
       "      <td>8.0</td>\n",
       "      <td>1221.500000</td>\n",
       "      <td>929.652009</td>\n",
       "      <td>1.0</td>\n",
       "      <td>819.00</td>\n",
       "      <td>1171.5</td>\n",
       "      <td>1679.00</td>\n",
       "      <td>2706.0</td>\n",
       "    </tr>\n",
       "    <tr>\n",
       "      <th rowspan=\"3\" valign=\"top\">WE</th>\n",
       "      <th>Afternoon</th>\n",
       "      <td>6.0</td>\n",
       "      <td>1299.000000</td>\n",
       "      <td>2502.200871</td>\n",
       "      <td>1.0</td>\n",
       "      <td>41.25</td>\n",
       "      <td>298.0</td>\n",
       "      <td>731.00</td>\n",
       "      <td>6366.0</td>\n",
       "    </tr>\n",
       "    <tr>\n",
       "      <th>Evening</th>\n",
       "      <td>3.0</td>\n",
       "      <td>383.333333</td>\n",
       "      <td>282.369144</td>\n",
       "      <td>195.0</td>\n",
       "      <td>221.00</td>\n",
       "      <td>247.0</td>\n",
       "      <td>477.50</td>\n",
       "      <td>708.0</td>\n",
       "    </tr>\n",
       "    <tr>\n",
       "      <th>Morning</th>\n",
       "      <td>3.0</td>\n",
       "      <td>3413.333333</td>\n",
       "      <td>3234.205054</td>\n",
       "      <td>437.0</td>\n",
       "      <td>1692.50</td>\n",
       "      <td>2948.0</td>\n",
       "      <td>4901.50</td>\n",
       "      <td>6855.0</td>\n",
       "    </tr>\n",
       "    <tr>\n",
       "      <th rowspan=\"5\" valign=\"top\">bathroom_lightswitch</th>\n",
       "      <th rowspan=\"3\" valign=\"top\">WD</th>\n",
       "      <th>Afternoon</th>\n",
       "      <td>10.0</td>\n",
       "      <td>1726.400000</td>\n",
       "      <td>3362.940948</td>\n",
       "      <td>6.0</td>\n",
       "      <td>63.75</td>\n",
       "      <td>150.5</td>\n",
       "      <td>2001.25</td>\n",
       "      <td>10945.0</td>\n",
       "    </tr>\n",
       "    <tr>\n",
       "      <th>Evening</th>\n",
       "      <td>20.0</td>\n",
       "      <td>1019.650000</td>\n",
       "      <td>1963.498175</td>\n",
       "      <td>10.0</td>\n",
       "      <td>45.00</td>\n",
       "      <td>142.0</td>\n",
       "      <td>1410.25</td>\n",
       "      <td>8768.0</td>\n",
       "    </tr>\n",
       "    <tr>\n",
       "      <th>Morning</th>\n",
       "      <td>8.0</td>\n",
       "      <td>1430.625000</td>\n",
       "      <td>1383.578996</td>\n",
       "      <td>4.0</td>\n",
       "      <td>290.25</td>\n",
       "      <td>1071.0</td>\n",
       "      <td>2554.50</td>\n",
       "      <td>3734.0</td>\n",
       "    </tr>\n",
       "    <tr>\n",
       "      <th rowspan=\"2\" valign=\"top\">WE</th>\n",
       "      <th>Afternoon</th>\n",
       "      <td>6.0</td>\n",
       "      <td>585.333333</td>\n",
       "      <td>762.054766</td>\n",
       "      <td>2.0</td>\n",
       "      <td>86.50</td>\n",
       "      <td>375.5</td>\n",
       "      <td>648.75</td>\n",
       "      <td>2029.0</td>\n",
       "    </tr>\n",
       "    <tr>\n",
       "      <th>Evening</th>\n",
       "      <td>5.0</td>\n",
       "      <td>1734.200000</td>\n",
       "      <td>2795.616873</td>\n",
       "      <td>137.0</td>\n",
       "      <td>198.00</td>\n",
       "      <td>419.0</td>\n",
       "      <td>1245.00</td>\n",
       "      <td>6672.0</td>\n",
       "    </tr>\n",
       "    <tr>\n",
       "      <th rowspan=\"6\" valign=\"top\">bathroom_medicinecabinet</th>\n",
       "      <th rowspan=\"3\" valign=\"top\">WD</th>\n",
       "      <th>Afternoon</th>\n",
       "      <td>56.0</td>\n",
       "      <td>3814.000000</td>\n",
       "      <td>7087.517760</td>\n",
       "      <td>2.0</td>\n",
       "      <td>22.75</td>\n",
       "      <td>69.0</td>\n",
       "      <td>3090.00</td>\n",
       "      <td>26569.0</td>\n",
       "    </tr>\n",
       "    <tr>\n",
       "      <th>Evening</th>\n",
       "      <td>43.0</td>\n",
       "      <td>212.093023</td>\n",
       "      <td>389.986191</td>\n",
       "      <td>1.0</td>\n",
       "      <td>20.00</td>\n",
       "      <td>68.0</td>\n",
       "      <td>122.00</td>\n",
       "      <td>1632.0</td>\n",
       "    </tr>\n",
       "    <tr>\n",
       "      <th>Morning</th>\n",
       "      <td>46.0</td>\n",
       "      <td>5092.500000</td>\n",
       "      <td>10471.167431</td>\n",
       "      <td>1.0</td>\n",
       "      <td>35.00</td>\n",
       "      <td>88.5</td>\n",
       "      <td>2549.00</td>\n",
       "      <td>37273.0</td>\n",
       "    </tr>\n",
       "    <tr>\n",
       "      <th rowspan=\"3\" valign=\"top\">WE</th>\n",
       "      <th>Afternoon</th>\n",
       "      <td>22.0</td>\n",
       "      <td>4758.545455</td>\n",
       "      <td>7142.136440</td>\n",
       "      <td>1.0</td>\n",
       "      <td>22.75</td>\n",
       "      <td>116.0</td>\n",
       "      <td>8456.00</td>\n",
       "      <td>23600.0</td>\n",
       "    </tr>\n",
       "    <tr>\n",
       "      <th>Evening</th>\n",
       "      <td>21.0</td>\n",
       "      <td>594.523810</td>\n",
       "      <td>1632.760534</td>\n",
       "      <td>2.0</td>\n",
       "      <td>77.00</td>\n",
       "      <td>99.0</td>\n",
       "      <td>235.00</td>\n",
       "      <td>7354.0</td>\n",
       "    </tr>\n",
       "    <tr>\n",
       "      <th>Morning</th>\n",
       "      <td>6.0</td>\n",
       "      <td>7389.166667</td>\n",
       "      <td>12159.893674</td>\n",
       "      <td>1.0</td>\n",
       "      <td>310.50</td>\n",
       "      <td>1338.5</td>\n",
       "      <td>8525.50</td>\n",
       "      <td>30768.0</td>\n",
       "    </tr>\n",
       "    <tr>\n",
       "      <th>bathroom_showerfaucet</th>\n",
       "      <th>WD</th>\n",
       "      <th>Afternoon</th>\n",
       "      <td>14.0</td>\n",
       "      <td>6987.928571</td>\n",
       "      <td>12203.480377</td>\n",
       "      <td>1.0</td>\n",
       "      <td>104.50</td>\n",
       "      <td>487.5</td>\n",
       "      <td>10297.00</td>\n",
       "      <td>40029.0</td>\n",
       "    </tr>\n",
       "    <tr>\n",
       "      <th>...</th>\n",
       "      <th>...</th>\n",
       "      <th>...</th>\n",
       "      <td>...</td>\n",
       "      <td>...</td>\n",
       "      <td>...</td>\n",
       "      <td>...</td>\n",
       "      <td>...</td>\n",
       "      <td>...</td>\n",
       "      <td>...</td>\n",
       "      <td>...</td>\n",
       "    </tr>\n",
       "    <tr>\n",
       "      <th rowspan=\"5\" valign=\"top\">kitchen_toaster</th>\n",
       "      <th rowspan=\"2\" valign=\"top\">WD</th>\n",
       "      <th>Evening</th>\n",
       "      <td>10.0</td>\n",
       "      <td>10.800000</td>\n",
       "      <td>10.271860</td>\n",
       "      <td>1.0</td>\n",
       "      <td>4.25</td>\n",
       "      <td>10.0</td>\n",
       "      <td>10.00</td>\n",
       "      <td>37.0</td>\n",
       "    </tr>\n",
       "    <tr>\n",
       "      <th>Morning</th>\n",
       "      <td>11.0</td>\n",
       "      <td>2.272727</td>\n",
       "      <td>1.348400</td>\n",
       "      <td>1.0</td>\n",
       "      <td>1.00</td>\n",
       "      <td>2.0</td>\n",
       "      <td>3.50</td>\n",
       "      <td>4.0</td>\n",
       "    </tr>\n",
       "    <tr>\n",
       "      <th rowspan=\"3\" valign=\"top\">WE</th>\n",
       "      <th>Afternoon</th>\n",
       "      <td>20.0</td>\n",
       "      <td>8.450000</td>\n",
       "      <td>21.236699</td>\n",
       "      <td>1.0</td>\n",
       "      <td>1.00</td>\n",
       "      <td>2.0</td>\n",
       "      <td>5.00</td>\n",
       "      <td>96.0</td>\n",
       "    </tr>\n",
       "    <tr>\n",
       "      <th>Evening</th>\n",
       "      <td>2.0</td>\n",
       "      <td>1.000000</td>\n",
       "      <td>0.000000</td>\n",
       "      <td>1.0</td>\n",
       "      <td>1.00</td>\n",
       "      <td>1.0</td>\n",
       "      <td>1.00</td>\n",
       "      <td>1.0</td>\n",
       "    </tr>\n",
       "    <tr>\n",
       "      <th>Morning</th>\n",
       "      <td>2.0</td>\n",
       "      <td>6.000000</td>\n",
       "      <td>5.656854</td>\n",
       "      <td>2.0</td>\n",
       "      <td>4.00</td>\n",
       "      <td>6.0</td>\n",
       "      <td>8.00</td>\n",
       "      <td>10.0</td>\n",
       "    </tr>\n",
       "    <tr>\n",
       "      <th rowspan=\"5\" valign=\"top\">kitchen_washingmachine</th>\n",
       "      <th rowspan=\"3\" valign=\"top\">WD</th>\n",
       "      <th>Afternoon</th>\n",
       "      <td>13.0</td>\n",
       "      <td>44.230769</td>\n",
       "      <td>32.189941</td>\n",
       "      <td>1.0</td>\n",
       "      <td>16.00</td>\n",
       "      <td>48.0</td>\n",
       "      <td>62.00</td>\n",
       "      <td>104.0</td>\n",
       "    </tr>\n",
       "    <tr>\n",
       "      <th>Evening</th>\n",
       "      <td>8.0</td>\n",
       "      <td>40.875000</td>\n",
       "      <td>57.820998</td>\n",
       "      <td>1.0</td>\n",
       "      <td>4.00</td>\n",
       "      <td>17.0</td>\n",
       "      <td>42.75</td>\n",
       "      <td>151.0</td>\n",
       "    </tr>\n",
       "    <tr>\n",
       "      <th>Morning</th>\n",
       "      <td>2.0</td>\n",
       "      <td>22.500000</td>\n",
       "      <td>14.849242</td>\n",
       "      <td>12.0</td>\n",
       "      <td>17.25</td>\n",
       "      <td>22.5</td>\n",
       "      <td>27.75</td>\n",
       "      <td>33.0</td>\n",
       "    </tr>\n",
       "    <tr>\n",
       "      <th rowspan=\"2\" valign=\"top\">WE</th>\n",
       "      <th>Afternoon</th>\n",
       "      <td>22.0</td>\n",
       "      <td>10.272727</td>\n",
       "      <td>16.779187</td>\n",
       "      <td>1.0</td>\n",
       "      <td>1.00</td>\n",
       "      <td>2.0</td>\n",
       "      <td>12.50</td>\n",
       "      <td>64.0</td>\n",
       "    </tr>\n",
       "    <tr>\n",
       "      <th>Morning</th>\n",
       "      <td>3.0</td>\n",
       "      <td>53.000000</td>\n",
       "      <td>87.481427</td>\n",
       "      <td>1.0</td>\n",
       "      <td>2.50</td>\n",
       "      <td>4.0</td>\n",
       "      <td>79.00</td>\n",
       "      <td>154.0</td>\n",
       "    </tr>\n",
       "    <tr>\n",
       "      <th rowspan=\"2\" valign=\"top\">livingroom_dvd</th>\n",
       "      <th>WD</th>\n",
       "      <th>Evening</th>\n",
       "      <td>1.0</td>\n",
       "      <td>5.000000</td>\n",
       "      <td>NaN</td>\n",
       "      <td>5.0</td>\n",
       "      <td>5.00</td>\n",
       "      <td>5.0</td>\n",
       "      <td>5.00</td>\n",
       "      <td>5.0</td>\n",
       "    </tr>\n",
       "    <tr>\n",
       "      <th>WE</th>\n",
       "      <th>Afternoon</th>\n",
       "      <td>1.0</td>\n",
       "      <td>36.000000</td>\n",
       "      <td>NaN</td>\n",
       "      <td>36.0</td>\n",
       "      <td>36.00</td>\n",
       "      <td>36.0</td>\n",
       "      <td>36.00</td>\n",
       "      <td>36.0</td>\n",
       "    </tr>\n",
       "    <tr>\n",
       "      <th rowspan=\"4\" valign=\"top\">livingroom_lamp</th>\n",
       "      <th rowspan=\"2\" valign=\"top\">WD</th>\n",
       "      <th>Afternoon</th>\n",
       "      <td>2.0</td>\n",
       "      <td>8587.000000</td>\n",
       "      <td>0.000000</td>\n",
       "      <td>8587.0</td>\n",
       "      <td>8587.00</td>\n",
       "      <td>8587.0</td>\n",
       "      <td>8587.00</td>\n",
       "      <td>8587.0</td>\n",
       "    </tr>\n",
       "    <tr>\n",
       "      <th>Evening</th>\n",
       "      <td>2.0</td>\n",
       "      <td>10954.000000</td>\n",
       "      <td>6242.338664</td>\n",
       "      <td>6540.0</td>\n",
       "      <td>8747.00</td>\n",
       "      <td>10954.0</td>\n",
       "      <td>13161.00</td>\n",
       "      <td>15368.0</td>\n",
       "    </tr>\n",
       "    <tr>\n",
       "      <th rowspan=\"2\" valign=\"top\">WE</th>\n",
       "      <th>Afternoon</th>\n",
       "      <td>1.0</td>\n",
       "      <td>19162.000000</td>\n",
       "      <td>NaN</td>\n",
       "      <td>19162.0</td>\n",
       "      <td>19162.00</td>\n",
       "      <td>19162.0</td>\n",
       "      <td>19162.00</td>\n",
       "      <td>19162.0</td>\n",
       "    </tr>\n",
       "    <tr>\n",
       "      <th>Evening</th>\n",
       "      <td>2.0</td>\n",
       "      <td>7843.500000</td>\n",
       "      <td>6620.640792</td>\n",
       "      <td>3162.0</td>\n",
       "      <td>5502.75</td>\n",
       "      <td>7843.5</td>\n",
       "      <td>10184.25</td>\n",
       "      <td>12525.0</td>\n",
       "    </tr>\n",
       "    <tr>\n",
       "      <th rowspan=\"4\" valign=\"top\">livingroom_lightswitch</th>\n",
       "      <th rowspan=\"3\" valign=\"top\">WD</th>\n",
       "      <th>Afternoon</th>\n",
       "      <td>1.0</td>\n",
       "      <td>24595.000000</td>\n",
       "      <td>NaN</td>\n",
       "      <td>24595.0</td>\n",
       "      <td>24595.00</td>\n",
       "      <td>24595.0</td>\n",
       "      <td>24595.00</td>\n",
       "      <td>24595.0</td>\n",
       "    </tr>\n",
       "    <tr>\n",
       "      <th>Evening</th>\n",
       "      <td>5.0</td>\n",
       "      <td>5972.600000</td>\n",
       "      <td>4051.829007</td>\n",
       "      <td>2.0</td>\n",
       "      <td>5793.00</td>\n",
       "      <td>5793.0</td>\n",
       "      <td>6910.00</td>\n",
       "      <td>11365.0</td>\n",
       "    </tr>\n",
       "    <tr>\n",
       "      <th>Morning</th>\n",
       "      <td>1.0</td>\n",
       "      <td>45869.000000</td>\n",
       "      <td>NaN</td>\n",
       "      <td>45869.0</td>\n",
       "      <td>45869.00</td>\n",
       "      <td>45869.0</td>\n",
       "      <td>45869.00</td>\n",
       "      <td>45869.0</td>\n",
       "    </tr>\n",
       "    <tr>\n",
       "      <th>WE</th>\n",
       "      <th>Evening</th>\n",
       "      <td>1.0</td>\n",
       "      <td>26.000000</td>\n",
       "      <td>NaN</td>\n",
       "      <td>26.0</td>\n",
       "      <td>26.00</td>\n",
       "      <td>26.0</td>\n",
       "      <td>26.00</td>\n",
       "      <td>26.0</td>\n",
       "    </tr>\n",
       "    <tr>\n",
       "      <th rowspan=\"5\" valign=\"top\">study_drawer</th>\n",
       "      <th rowspan=\"3\" valign=\"top\">WD</th>\n",
       "      <th>Afternoon</th>\n",
       "      <td>23.0</td>\n",
       "      <td>1715.652174</td>\n",
       "      <td>3604.057557</td>\n",
       "      <td>1.0</td>\n",
       "      <td>2.00</td>\n",
       "      <td>3.0</td>\n",
       "      <td>884.50</td>\n",
       "      <td>11508.0</td>\n",
       "    </tr>\n",
       "    <tr>\n",
       "      <th>Evening</th>\n",
       "      <td>3.0</td>\n",
       "      <td>5.000000</td>\n",
       "      <td>5.291503</td>\n",
       "      <td>1.0</td>\n",
       "      <td>2.00</td>\n",
       "      <td>3.0</td>\n",
       "      <td>7.00</td>\n",
       "      <td>11.0</td>\n",
       "    </tr>\n",
       "    <tr>\n",
       "      <th>Morning</th>\n",
       "      <td>13.0</td>\n",
       "      <td>98.000000</td>\n",
       "      <td>335.630998</td>\n",
       "      <td>2.0</td>\n",
       "      <td>3.00</td>\n",
       "      <td>4.0</td>\n",
       "      <td>7.00</td>\n",
       "      <td>1215.0</td>\n",
       "    </tr>\n",
       "    <tr>\n",
       "      <th rowspan=\"2\" valign=\"top\">WE</th>\n",
       "      <th>Afternoon</th>\n",
       "      <td>3.0</td>\n",
       "      <td>10907.666667</td>\n",
       "      <td>18797.433929</td>\n",
       "      <td>6.0</td>\n",
       "      <td>55.00</td>\n",
       "      <td>104.0</td>\n",
       "      <td>16358.50</td>\n",
       "      <td>32613.0</td>\n",
       "    </tr>\n",
       "    <tr>\n",
       "      <th>Evening</th>\n",
       "      <td>3.0</td>\n",
       "      <td>11.666667</td>\n",
       "      <td>5.773503</td>\n",
       "      <td>5.0</td>\n",
       "      <td>10.00</td>\n",
       "      <td>15.0</td>\n",
       "      <td>15.00</td>\n",
       "      <td>15.0</td>\n",
       "    </tr>\n",
       "    <tr>\n",
       "      <th rowspan=\"5\" valign=\"top\">study_lightwitch</th>\n",
       "      <th rowspan=\"3\" valign=\"top\">WD</th>\n",
       "      <th>Afternoon</th>\n",
       "      <td>8.0</td>\n",
       "      <td>6045.875000</td>\n",
       "      <td>6219.924768</td>\n",
       "      <td>141.0</td>\n",
       "      <td>1943.75</td>\n",
       "      <td>2967.5</td>\n",
       "      <td>9587.25</td>\n",
       "      <td>16673.0</td>\n",
       "    </tr>\n",
       "    <tr>\n",
       "      <th>Evening</th>\n",
       "      <td>7.0</td>\n",
       "      <td>3514.428571</td>\n",
       "      <td>4253.242013</td>\n",
       "      <td>4.0</td>\n",
       "      <td>145.00</td>\n",
       "      <td>645.0</td>\n",
       "      <td>7314.50</td>\n",
       "      <td>9033.0</td>\n",
       "    </tr>\n",
       "    <tr>\n",
       "      <th>Morning</th>\n",
       "      <td>5.0</td>\n",
       "      <td>1184.800000</td>\n",
       "      <td>315.930689</td>\n",
       "      <td>891.0</td>\n",
       "      <td>891.00</td>\n",
       "      <td>1108.0</td>\n",
       "      <td>1517.00</td>\n",
       "      <td>1517.0</td>\n",
       "    </tr>\n",
       "    <tr>\n",
       "      <th rowspan=\"2\" valign=\"top\">WE</th>\n",
       "      <th>Afternoon</th>\n",
       "      <td>3.0</td>\n",
       "      <td>26895.000000</td>\n",
       "      <td>23899.265407</td>\n",
       "      <td>17.0</td>\n",
       "      <td>17466.50</td>\n",
       "      <td>34916.0</td>\n",
       "      <td>40334.00</td>\n",
       "      <td>45752.0</td>\n",
       "    </tr>\n",
       "    <tr>\n",
       "      <th>Evening</th>\n",
       "      <td>3.0</td>\n",
       "      <td>2532.000000</td>\n",
       "      <td>1394.278667</td>\n",
       "      <td>1679.0</td>\n",
       "      <td>1727.50</td>\n",
       "      <td>1776.0</td>\n",
       "      <td>2958.50</td>\n",
       "      <td>4141.0</td>\n",
       "    </tr>\n",
       "  </tbody>\n",
       "</table>\n",
       "<p>164 rows × 8 columns</p>\n",
       "</div>"
      ],
      "text/plain": [
       "                                         count          mean           std  \\\n",
       "subAct                   WDWE Phase                                          \n",
       "bathroom_cabinet         WD   Afternoon   29.0    691.103448   3684.014438   \n",
       "                              Evening     24.0     72.166667    339.703665   \n",
       "                              Morning     25.0      4.800000      3.559026   \n",
       "                         WE   Afternoon   11.0      4.181818      3.763461   \n",
       "                              Evening     11.0      2.272727      1.489356   \n",
       "                              Morning      4.0   6448.500000  12884.334480   \n",
       "bathroom_door            WD   Afternoon   20.0    632.200000   2261.413498   \n",
       "                              Evening     18.0    104.500000    201.793211   \n",
       "                              Morning     13.0     45.923077     67.082613   \n",
       "                         WE   Afternoon    8.0   2154.125000   6049.168454   \n",
       "                              Evening     10.0    115.400000    215.446410   \n",
       "                              Morning      4.0     29.000000     38.453435   \n",
       "bathroom_exhaustfan      WD   Afternoon    7.0   1293.857143   1206.828962   \n",
       "                              Evening      7.0    553.428571    898.082561   \n",
       "                              Morning      8.0   1221.500000    929.652009   \n",
       "                         WE   Afternoon    6.0   1299.000000   2502.200871   \n",
       "                              Evening      3.0    383.333333    282.369144   \n",
       "                              Morning      3.0   3413.333333   3234.205054   \n",
       "bathroom_lightswitch     WD   Afternoon   10.0   1726.400000   3362.940948   \n",
       "                              Evening     20.0   1019.650000   1963.498175   \n",
       "                              Morning      8.0   1430.625000   1383.578996   \n",
       "                         WE   Afternoon    6.0    585.333333    762.054766   \n",
       "                              Evening      5.0   1734.200000   2795.616873   \n",
       "bathroom_medicinecabinet WD   Afternoon   56.0   3814.000000   7087.517760   \n",
       "                              Evening     43.0    212.093023    389.986191   \n",
       "                              Morning     46.0   5092.500000  10471.167431   \n",
       "                         WE   Afternoon   22.0   4758.545455   7142.136440   \n",
       "                              Evening     21.0    594.523810   1632.760534   \n",
       "                              Morning      6.0   7389.166667  12159.893674   \n",
       "bathroom_showerfaucet    WD   Afternoon   14.0   6987.928571  12203.480377   \n",
       "...                                        ...           ...           ...   \n",
       "kitchen_toaster          WD   Evening     10.0     10.800000     10.271860   \n",
       "                              Morning     11.0      2.272727      1.348400   \n",
       "                         WE   Afternoon   20.0      8.450000     21.236699   \n",
       "                              Evening      2.0      1.000000      0.000000   \n",
       "                              Morning      2.0      6.000000      5.656854   \n",
       "kitchen_washingmachine   WD   Afternoon   13.0     44.230769     32.189941   \n",
       "                              Evening      8.0     40.875000     57.820998   \n",
       "                              Morning      2.0     22.500000     14.849242   \n",
       "                         WE   Afternoon   22.0     10.272727     16.779187   \n",
       "                              Morning      3.0     53.000000     87.481427   \n",
       "livingroom_dvd           WD   Evening      1.0      5.000000           NaN   \n",
       "                         WE   Afternoon    1.0     36.000000           NaN   \n",
       "livingroom_lamp          WD   Afternoon    2.0   8587.000000      0.000000   \n",
       "                              Evening      2.0  10954.000000   6242.338664   \n",
       "                         WE   Afternoon    1.0  19162.000000           NaN   \n",
       "                              Evening      2.0   7843.500000   6620.640792   \n",
       "livingroom_lightswitch   WD   Afternoon    1.0  24595.000000           NaN   \n",
       "                              Evening      5.0   5972.600000   4051.829007   \n",
       "                              Morning      1.0  45869.000000           NaN   \n",
       "                         WE   Evening      1.0     26.000000           NaN   \n",
       "study_drawer             WD   Afternoon   23.0   1715.652174   3604.057557   \n",
       "                              Evening      3.0      5.000000      5.291503   \n",
       "                              Morning     13.0     98.000000    335.630998   \n",
       "                         WE   Afternoon    3.0  10907.666667  18797.433929   \n",
       "                              Evening      3.0     11.666667      5.773503   \n",
       "study_lightwitch         WD   Afternoon    8.0   6045.875000   6219.924768   \n",
       "                              Evening      7.0   3514.428571   4253.242013   \n",
       "                              Morning      5.0   1184.800000    315.930689   \n",
       "                         WE   Afternoon    3.0  26895.000000  23899.265407   \n",
       "                              Evening      3.0   2532.000000   1394.278667   \n",
       "\n",
       "                                             min       25%      50%       75%  \\\n",
       "subAct                   WDWE Phase                                             \n",
       "bathroom_cabinet         WD   Afternoon      1.0      2.00      3.0     12.00   \n",
       "                              Evening        1.0      1.75      3.0      3.25   \n",
       "                              Morning        1.0      3.00      3.0      6.00   \n",
       "                         WE   Afternoon      1.0      1.50      3.0      5.50   \n",
       "                              Evening        1.0      1.00      2.0      3.50   \n",
       "                              Morning        2.0      2.75      8.5   6454.25   \n",
       "bathroom_door            WD   Afternoon      1.0      2.00     26.0    116.50   \n",
       "                              Evening        1.0      1.25     43.5     85.50   \n",
       "                              Morning        1.0      3.00      7.0    102.00   \n",
       "                         WE   Afternoon      3.0      5.25     11.0     29.50   \n",
       "                              Evening        2.0      3.00      9.0     47.75   \n",
       "                              Morning        2.0      9.50     14.0     33.50   \n",
       "bathroom_exhaustfan      WD   Afternoon      2.0    573.00    979.0   1687.00   \n",
       "                              Evening        1.0     38.50    227.0    523.50   \n",
       "                              Morning        1.0    819.00   1171.5   1679.00   \n",
       "                         WE   Afternoon      1.0     41.25    298.0    731.00   \n",
       "                              Evening      195.0    221.00    247.0    477.50   \n",
       "                              Morning      437.0   1692.50   2948.0   4901.50   \n",
       "bathroom_lightswitch     WD   Afternoon      6.0     63.75    150.5   2001.25   \n",
       "                              Evening       10.0     45.00    142.0   1410.25   \n",
       "                              Morning        4.0    290.25   1071.0   2554.50   \n",
       "                         WE   Afternoon      2.0     86.50    375.5    648.75   \n",
       "                              Evening      137.0    198.00    419.0   1245.00   \n",
       "bathroom_medicinecabinet WD   Afternoon      2.0     22.75     69.0   3090.00   \n",
       "                              Evening        1.0     20.00     68.0    122.00   \n",
       "                              Morning        1.0     35.00     88.5   2549.00   \n",
       "                         WE   Afternoon      1.0     22.75    116.0   8456.00   \n",
       "                              Evening        2.0     77.00     99.0    235.00   \n",
       "                              Morning        1.0    310.50   1338.5   8525.50   \n",
       "bathroom_showerfaucet    WD   Afternoon      1.0    104.50    487.5  10297.00   \n",
       "...                                          ...       ...      ...       ...   \n",
       "kitchen_toaster          WD   Evening        1.0      4.25     10.0     10.00   \n",
       "                              Morning        1.0      1.00      2.0      3.50   \n",
       "                         WE   Afternoon      1.0      1.00      2.0      5.00   \n",
       "                              Evening        1.0      1.00      1.0      1.00   \n",
       "                              Morning        2.0      4.00      6.0      8.00   \n",
       "kitchen_washingmachine   WD   Afternoon      1.0     16.00     48.0     62.00   \n",
       "                              Evening        1.0      4.00     17.0     42.75   \n",
       "                              Morning       12.0     17.25     22.5     27.75   \n",
       "                         WE   Afternoon      1.0      1.00      2.0     12.50   \n",
       "                              Morning        1.0      2.50      4.0     79.00   \n",
       "livingroom_dvd           WD   Evening        5.0      5.00      5.0      5.00   \n",
       "                         WE   Afternoon     36.0     36.00     36.0     36.00   \n",
       "livingroom_lamp          WD   Afternoon   8587.0   8587.00   8587.0   8587.00   \n",
       "                              Evening     6540.0   8747.00  10954.0  13161.00   \n",
       "                         WE   Afternoon  19162.0  19162.00  19162.0  19162.00   \n",
       "                              Evening     3162.0   5502.75   7843.5  10184.25   \n",
       "livingroom_lightswitch   WD   Afternoon  24595.0  24595.00  24595.0  24595.00   \n",
       "                              Evening        2.0   5793.00   5793.0   6910.00   \n",
       "                              Morning    45869.0  45869.00  45869.0  45869.00   \n",
       "                         WE   Evening       26.0     26.00     26.0     26.00   \n",
       "study_drawer             WD   Afternoon      1.0      2.00      3.0    884.50   \n",
       "                              Evening        1.0      2.00      3.0      7.00   \n",
       "                              Morning        2.0      3.00      4.0      7.00   \n",
       "                         WE   Afternoon      6.0     55.00    104.0  16358.50   \n",
       "                              Evening        5.0     10.00     15.0     15.00   \n",
       "study_lightwitch         WD   Afternoon    141.0   1943.75   2967.5   9587.25   \n",
       "                              Evening        4.0    145.00    645.0   7314.50   \n",
       "                              Morning      891.0    891.00   1108.0   1517.00   \n",
       "                         WE   Afternoon     17.0  17466.50  34916.0  40334.00   \n",
       "                              Evening     1679.0   1727.50   1776.0   2958.50   \n",
       "\n",
       "                                             max  \n",
       "subAct                   WDWE Phase               \n",
       "bathroom_cabinet         WD   Afternoon  19846.0  \n",
       "                              Evening     1667.0  \n",
       "                              Morning       15.0  \n",
       "                         WE   Afternoon     13.0  \n",
       "                              Evening        5.0  \n",
       "                              Morning    25775.0  \n",
       "bathroom_door            WD   Afternoon  10152.0  \n",
       "                              Evening      845.0  \n",
       "                              Morning      173.0  \n",
       "                         WE   Afternoon  17125.0  \n",
       "                              Evening      575.0  \n",
       "                              Morning       86.0  \n",
       "bathroom_exhaustfan      WD   Afternoon   3556.0  \n",
       "                              Evening     2522.0  \n",
       "                              Morning     2706.0  \n",
       "                         WE   Afternoon   6366.0  \n",
       "                              Evening      708.0  \n",
       "                              Morning     6855.0  \n",
       "bathroom_lightswitch     WD   Afternoon  10945.0  \n",
       "                              Evening     8768.0  \n",
       "                              Morning     3734.0  \n",
       "                         WE   Afternoon   2029.0  \n",
       "                              Evening     6672.0  \n",
       "bathroom_medicinecabinet WD   Afternoon  26569.0  \n",
       "                              Evening     1632.0  \n",
       "                              Morning    37273.0  \n",
       "                         WE   Afternoon  23600.0  \n",
       "                              Evening     7354.0  \n",
       "                              Morning    30768.0  \n",
       "bathroom_showerfaucet    WD   Afternoon  40029.0  \n",
       "...                                          ...  \n",
       "kitchen_toaster          WD   Evening       37.0  \n",
       "                              Morning        4.0  \n",
       "                         WE   Afternoon     96.0  \n",
       "                              Evening        1.0  \n",
       "                              Morning       10.0  \n",
       "kitchen_washingmachine   WD   Afternoon    104.0  \n",
       "                              Evening      151.0  \n",
       "                              Morning       33.0  \n",
       "                         WE   Afternoon     64.0  \n",
       "                              Morning      154.0  \n",
       "livingroom_dvd           WD   Evening        5.0  \n",
       "                         WE   Afternoon     36.0  \n",
       "livingroom_lamp          WD   Afternoon   8587.0  \n",
       "                              Evening    15368.0  \n",
       "                         WE   Afternoon  19162.0  \n",
       "                              Evening    12525.0  \n",
       "livingroom_lightswitch   WD   Afternoon  24595.0  \n",
       "                              Evening    11365.0  \n",
       "                              Morning    45869.0  \n",
       "                         WE   Evening       26.0  \n",
       "study_drawer             WD   Afternoon  11508.0  \n",
       "                              Evening       11.0  \n",
       "                              Morning     1215.0  \n",
       "                         WE   Afternoon  32613.0  \n",
       "                              Evening       15.0  \n",
       "study_lightwitch         WD   Afternoon  16673.0  \n",
       "                              Evening     9033.0  \n",
       "                              Morning     1517.0  \n",
       "                         WE   Afternoon  45752.0  \n",
       "                              Evening     4141.0  \n",
       "\n",
       "[164 rows x 8 columns]"
      ]
     },
     "execution_count": 39,
     "metadata": {},
     "output_type": "execute_result"
    }
   ],
   "source": [
    "ds_new = ds.copy()\n",
    "ds_new['Phase'] = \"Afternoon\"\n",
    "ds_new.loc[ds_new['HOUR'] < 9, 'Phase'] = \"Morning\"\n",
    "ds_new.loc[ds_new['HOUR'] >= 17, 'Phase'] = \"Evening\"\n",
    "benchmark_usage = ds_new.groupby(['subAct','WDWE','Phase'])['durationSec'].describe()\n",
    "benchmark_usage"
   ]
  },
  {
   "cell_type": "code",
   "execution_count": 19,
   "metadata": {},
   "outputs": [
    {
     "ename": "NameError",
     "evalue": "name 'benchmark_usage' is not defined",
     "output_type": "error",
     "traceback": [
      "\u001b[1;31m---------------------------------------------------------------------------\u001b[0m",
      "\u001b[1;31mNameError\u001b[0m                                 Traceback (most recent call last)",
      "\u001b[1;32m<ipython-input-19-7614d7a1e38c>\u001b[0m in \u001b[0;36m<module>\u001b[1;34m\u001b[0m\n\u001b[0;32m     96\u001b[0m     \u001b[0msubAct\u001b[0m \u001b[1;33m=\u001b[0m \u001b[0mrow\u001b[0m\u001b[1;33m[\u001b[0m\u001b[1;36m1\u001b[0m\u001b[1;33m]\u001b[0m\u001b[1;33m[\u001b[0m\u001b[1;34m'concat'\u001b[0m\u001b[1;33m]\u001b[0m\u001b[1;33m\u001b[0m\u001b[1;33m\u001b[0m\u001b[0m\n\u001b[0;32m     97\u001b[0m     \u001b[0mwattage\u001b[0m \u001b[1;33m=\u001b[0m \u001b[0mrow\u001b[0m\u001b[1;33m[\u001b[0m\u001b[1;36m1\u001b[0m\u001b[1;33m]\u001b[0m\u001b[1;33m[\u001b[0m\u001b[1;34m'wattage'\u001b[0m\u001b[1;33m]\u001b[0m\u001b[1;33m\u001b[0m\u001b[1;33m\u001b[0m\u001b[0m\n\u001b[1;32m---> 98\u001b[1;33m     \u001b[0mcalc_subAct\u001b[0m\u001b[1;33m(\u001b[0m\u001b[0mdf\u001b[0m\u001b[1;33m,\u001b[0m \u001b[0msubAct\u001b[0m\u001b[1;33m,\u001b[0m \u001b[0mwattage\u001b[0m\u001b[1;33m,\u001b[0m \u001b[0mdf_costs\u001b[0m\u001b[1;33m)\u001b[0m\u001b[1;33m\u001b[0m\u001b[1;33m\u001b[0m\u001b[0m\n\u001b[0m",
      "\u001b[1;32m<ipython-input-19-7614d7a1e38c>\u001b[0m in \u001b[0;36mcalc_subAct\u001b[1;34m(dataframe, subAct, wattage, df_costs)\u001b[0m\n\u001b[0;32m     60\u001b[0m                 \u001b[0mcancelled_interventions\u001b[0m \u001b[1;33m+=\u001b[0m \u001b[1;36m1\u001b[0m\u001b[1;33m\u001b[0m\u001b[1;33m\u001b[0m\u001b[0m\n\u001b[0;32m     61\u001b[0m             \u001b[1;32melse\u001b[0m\u001b[1;33m:\u001b[0m\u001b[1;33m\u001b[0m\u001b[1;33m\u001b[0m\u001b[0m\n\u001b[1;32m---> 62\u001b[1;33m                 \u001b[1;32mif\u001b[0m \u001b[0mrow\u001b[0m\u001b[1;33m[\u001b[0m\u001b[1;36m1\u001b[0m\u001b[1;33m]\u001b[0m\u001b[1;33m[\u001b[0m\u001b[1;34m'duration'\u001b[0m\u001b[1;33m]\u001b[0m \u001b[1;33m>\u001b[0m \u001b[0mbenchmark_usage\u001b[0m\u001b[1;33m[\u001b[0m\u001b[0msubAct\u001b[0m\u001b[1;33m]\u001b[0m\u001b[1;33m[\u001b[0m\u001b[0mrow\u001b[0m\u001b[1;33m[\u001b[0m\u001b[1;36m1\u001b[0m\u001b[1;33m]\u001b[0m\u001b[1;33m[\u001b[0m\u001b[1;34m'WDWE'\u001b[0m\u001b[1;33m]\u001b[0m\u001b[1;33m]\u001b[0m\u001b[1;33m[\u001b[0m\u001b[0mrow\u001b[0m\u001b[1;33m[\u001b[0m\u001b[1;36m1\u001b[0m\u001b[1;33m]\u001b[0m\u001b[1;33m[\u001b[0m\u001b[1;34m'Phase'\u001b[0m\u001b[1;33m]\u001b[0m\u001b[1;33m]\u001b[0m \u001b[1;33m/\u001b[0m \u001b[1;36m60\u001b[0m\u001b[1;33m:\u001b[0m\u001b[1;33m\u001b[0m\u001b[1;33m\u001b[0m\u001b[0m\n\u001b[0m\u001b[0;32m     63\u001b[0m                     \u001b[0mintervening\u001b[0m \u001b[1;33m=\u001b[0m \u001b[1;32mTrue\u001b[0m\u001b[1;33m\u001b[0m\u001b[1;33m\u001b[0m\u001b[0m\n\u001b[0;32m     64\u001b[0m                     \u001b[0mcompleted_interventions\u001b[0m \u001b[1;33m+=\u001b[0m \u001b[1;36m1\u001b[0m\u001b[1;33m\u001b[0m\u001b[1;33m\u001b[0m\u001b[0m\n",
      "\u001b[1;31mNameError\u001b[0m: name 'benchmark_usage' is not defined"
     ]
    }
   ],
   "source": [
    "#Assuming everything that is common has been pre-processed by this stage\n",
    "\n",
    "def calc_subAct(dataframe, subAct, wattage, df_costs):\n",
    "    # Duplicate the DF to avoid corrupting it\n",
    "    df = dataframe.copy()\n",
    "    \n",
    "    # First step is to train the classifier\n",
    "    Data = df.drop(columns = subAct).values\n",
    "    target = df[subAct]\n",
    "    D_train, D_test, t_train, t_test = train_test_split(Data, \n",
    "                                                        target, \n",
    "                                                        test_size = 0.3,\n",
    "                                                        random_state=999)\n",
    "    dt_classifier = DecisionTreeClassifier(max_depth=4,\n",
    "                                           criterion='entropy',\n",
    "                                           random_state = 999)\n",
    "    dt_classifier.fit(D_train, t_train)\n",
    "    confidence = dt_classifier.score(D_test, t_test)\n",
    "    df['prediction'] = dt_classifier.predict(Data)\n",
    "    df['intervention'] = (df['prediction'].diff() == -1) & (df[subAct] == 1)\n",
    "    \n",
    "    dfIDX = pd.read_csv('S1Act_B_m_NoDupes.csv', index_col = None)\n",
    "    dfIDX.duration = pd.to_datetime(dfIDX.duration, format='%Y-%m-%d %H:%M:%S')\n",
    "    df['timestamp'] = dfIDX['duration']\n",
    "\n",
    "    df = add_DAY_WDWE_phaseII(df)\n",
    "    df['Phase'] = \"Afternoon\"\n",
    "    df.loc[df['Hour'] < 12, 'Phase'] = \"Morning\"\n",
    "    df.loc[df['Hour'] >= 18, 'Phase'] = \"Evening\"\n",
    "    \n",
    "    # Calculate approx durations\n",
    "    duration = 0\n",
    "    duration_col = []\n",
    "\n",
    "    for row in df.iterrows():\n",
    "        if row[1][subAct] == 1:\n",
    "            duration += 1\n",
    "        else:\n",
    "            duration = 0\n",
    "\n",
    "        duration_col.append(duration)\n",
    "\n",
    "    df['duration'] = duration_col\n",
    "\n",
    "    cancelled_interventions = 0\n",
    "    completed_interventions = 0\n",
    "    possible_intervention = False\n",
    "    intervening = False\n",
    "\n",
    "    total_minutes_saved = 0\n",
    "    total_kwh_saved = 0\n",
    "    total_dollars_saved = 0\n",
    "\n",
    "    for row in df.iterrows():\n",
    "        if row[1]['intervention'] and not intervening:\n",
    "            possible_intervention = True\n",
    "        if possible_intervention:\n",
    "            if row[1][subAct] == 0:\n",
    "                possible_intervention = False\n",
    "                cancelled_interventions += 1\n",
    "            else:\n",
    "                if row[1]['duration'] > benchmark_usage[subAct][row[1]['WDWE']][row[1]['Phase']] / 60:\n",
    "                    intervening = True\n",
    "                    completed_interventions += 1\n",
    "                    possible_intervention = False\n",
    "        if intervening:\n",
    "            if row[1][subAct] == 0:\n",
    "                intervening = False\n",
    "            else:\n",
    "                total_minutes_saved += 1\n",
    "                kwh_saved = wattage / 60\n",
    "                total_kwh_saved += kwh_saved\n",
    "                hour = row[1]['Hour']\n",
    "                wdwe = row[1]['WDWE']\n",
    "                rate = df_costs[(df_costs['Hour'] == hour) & (df_costs['WDWE'] == wdwe)].iloc[0]['cost_per_kwh']\n",
    "                dollars_saved = rate * kwh_saved\n",
    "                total_dollars_saved += dollars_saved\n",
    "\n",
    "    # We see that we didn't quite save as many minutes of electricity but we likely annoyed the user less\n",
    "    # Note that this means our 'confidence' value is going to be more conservative than it needs to be\n",
    "    print(\"SubAct:\",subAct)\n",
    "    print(\"Classifier confidence:\", confidence)\n",
    "    print(\"Number of completed interventions:\", completed_interventions)\n",
    "    print(\"Number of interventions cancelled due to not meeting average number of minutes usage:\", \n",
    "          cancelled_interventions)\n",
    "    print(\"Total minutes saved:\", total_minutes_saved)\n",
    "    print(\"Total minutes saved, accounting for confidence:\", total_minutes_saved * confidence)\n",
    "    print(\"Total electricity saved (kwh):\", total_kwh_saved)\n",
    "    print(\"Total electricity saved, accounting for confidence (kwh):\", total_kwh_saved * confidence)\n",
    "    print(\"Total money saved: $\", total_dollars_saved)\n",
    "    print(\"Total money saved accounting for confidence:  $\", total_dollars_saved * confidence)\n",
    "    print()\n",
    "    \n",
    "\n",
    "for row in df_sensors.iterrows():\n",
    "    subAct = row[1]['concat']\n",
    "    wattage = row[1]['wattage']\n",
    "    calc_subAct(df, subAct, wattage, df_costs)"
   ]
  },
  {
   "cell_type": "markdown",
   "metadata": {},
   "source": [
    "# Discussion"
   ]
  },
  {
   "cell_type": "markdown",
   "metadata": {},
   "source": []
  },
  {
   "cell_type": "markdown",
   "metadata": {},
   "source": [
    "<img src=\"https://ourworldindata.org/uploads/2013/12/Satellite-images-of-India-by-night-–-Sala-I-Martin-paper-750x480.png\" alt=\"Satellite-images-of-India-by-night-–-Sala-I-Martin-paper\" class=\"wp-image-7749\" srcset=\"https://ourworldindata.org/uploads/2013/12/Satellite-images-of-India-by-night-–-Sala-I-Martin-paper-750x480.png 750w, https://ourworldindata.org/uploads/2013/12/Satellite-images-of-India-by-night-–-Sala-I-Martin-paper-150x96.png 150w, https://ourworldindata.org/uploads/2013/12/Satellite-images-of-India-by-night-–-Sala-I-Martin-paper-400x256.png 400w, https://ourworldindata.org/uploads/2013/12/Satellite-images-of-India-by-night-–-Sala-I-Martin-paper-768x491.png 768w\" sizes=\"(max-width: 750px) 100vw, 750px\">"
   ]
  },
  {
   "cell_type": "code",
   "execution_count": 20,
   "metadata": {},
   "outputs": [],
   "source": [
    "# !jt -l\n",
    "# !jt -t <theme>\n",
    "# !jt -r"
   ]
  },
  {
   "cell_type": "code",
   "execution_count": null,
   "metadata": {},
   "outputs": [],
   "source": []
  }
 ],
 "metadata": {
  "kernelspec": {
   "display_name": "Python 3",
   "language": "python",
   "name": "python3"
  },
  "language_info": {
   "codemirror_mode": {
    "name": "ipython",
    "version": 3
   },
   "file_extension": ".py",
   "mimetype": "text/x-python",
   "name": "python",
   "nbconvert_exporter": "python",
   "pygments_lexer": "ipython3",
   "version": "3.7.4"
  },
  "latex_envs": {
   "LaTeX_envs_menu_present": true,
   "autoclose": false,
   "autocomplete": true,
   "bibliofile": "biblio.bib",
   "cite_by": "apalike",
   "current_citInitial": 1,
   "eqLabelWithNumbers": true,
   "eqNumInitial": 1,
   "hotkeys": {
    "equation": "Ctrl-E",
    "itemize": "Ctrl-I"
   },
   "labels_anchors": false,
   "latex_user_defs": false,
   "report_style_numbering": false,
   "user_envs_cfg": false
  },
  "toc": {
   "base_numbering": 1,
   "nav_menu": {
    "height": "863px",
    "width": "355px"
   },
   "number_sections": true,
   "sideBar": true,
   "skip_h1_title": false,
   "title_cell": "Table of Contents",
   "title_sidebar": "Contents",
   "toc_cell": false,
   "toc_position": {
    "height": "calc(100% - 180px)",
    "left": "10px",
    "top": "150px",
    "width": "581px"
   },
   "toc_section_display": true,
   "toc_window_display": true
  },
  "varInspector": {
   "cols": {
    "lenName": 16,
    "lenType": 16,
    "lenVar": 40
   },
   "kernels_config": {
    "python": {
     "delete_cmd_postfix": "",
     "delete_cmd_prefix": "del ",
     "library": "var_list.py",
     "varRefreshCmd": "print(var_dic_list())"
    },
    "r": {
     "delete_cmd_postfix": ") ",
     "delete_cmd_prefix": "rm(",
     "library": "var_list.r",
     "varRefreshCmd": "cat(var_dic_list()) "
    }
   },
   "types_to_exclude": [
    "module",
    "function",
    "builtin_function_or_method",
    "instance",
    "_Feature"
   ],
   "window_display": false
  }
 },
 "nbformat": 4,
 "nbformat_minor": 4
}
