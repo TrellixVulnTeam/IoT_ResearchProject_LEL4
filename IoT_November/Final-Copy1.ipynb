{
 "cells": [
  {
   "cell_type": "code",
   "execution_count": 1,
   "metadata": {
    "ExecuteTime": {
     "end_time": "2019-11-03T07:17:30.463358Z",
     "start_time": "2019-11-03T07:17:30.386249Z"
    }
   },
   "outputs": [],
   "source": [
    "from IPython import get_ipython;   \n",
    "get_ipython().magic('reset -sf')\n",
    "#https://github.com/kirbs-/hide_code"
   ]
  },
  {
   "cell_type": "markdown",
   "metadata": {},
   "source": [
    "# Machine Learning"
   ]
  },
  {
   "cell_type": "code",
   "execution_count": null,
   "metadata": {},
   "outputs": [],
   "source": []
  },
  {
   "cell_type": "code",
   "execution_count": 5,
   "metadata": {},
   "outputs": [],
   "source": [
    "import warnings\n",
    "warnings.filterwarnings(\"ignore\")\n",
    "import numpy as np\n",
    "import pandas as pd\n",
    "from sklearn.model_selection import train_test_split\n",
    "from sklearn.tree import DecisionTreeClassifier\n",
    "from sklearn import feature_selection as fs\n",
    "from sklearn.model_selection import RepeatedStratifiedKFold, GridSearchCV\n",
    "from sklearn.preprocessing import StandardScaler"
   ]
  },
  {
   "cell_type": "code",
   "execution_count": 11,
   "metadata": {},
   "outputs": [],
   "source": [
    "ds = pd.read_csv('S1SubAct_B_m_NoDupes.csv', index_col = \"duration\")\n",
    "ds.reset_index(drop = True, inplace = True)"
   ]
  },
  {
   "cell_type": "code",
   "execution_count": 12,
   "metadata": {},
   "outputs": [
    {
     "data": {
      "text/html": [
       "<div>\n",
       "<style scoped>\n",
       "    .dataframe tbody tr th:only-of-type {\n",
       "        vertical-align: middle;\n",
       "    }\n",
       "\n",
       "    .dataframe tbody tr th {\n",
       "        vertical-align: top;\n",
       "    }\n",
       "\n",
       "    .dataframe thead th {\n",
       "        text-align: right;\n",
       "    }\n",
       "</style>\n",
       "<table border=\"1\" class=\"dataframe\">\n",
       "  <thead>\n",
       "    <tr style=\"text-align: right;\">\n",
       "      <th></th>\n",
       "      <th>bathroom_toiletflush</th>\n",
       "      <th>bathroom_lightswitch</th>\n",
       "      <th>foyer_lightswitch</th>\n",
       "      <th>kitchen_lightswitch</th>\n",
       "      <th>kitchen_burner</th>\n",
       "      <th>livingroom_lightswitch</th>\n",
       "      <th>bedroom_lightswitch</th>\n",
       "      <th>kitchen_coffeemachine</th>\n",
       "      <th>kitchen_drawer</th>\n",
       "      <th>kitchen_refrigerator</th>\n",
       "      <th>...</th>\n",
       "      <th>bathroom_sinkfaucet-hot</th>\n",
       "      <th>kitchen_dishwasher</th>\n",
       "      <th>livingroom_lamp</th>\n",
       "      <th>study_drawer</th>\n",
       "      <th>bathroom_sinkfaucet-cold</th>\n",
       "      <th>kitchen_laundrydryer</th>\n",
       "      <th>study_lightwitch</th>\n",
       "      <th>bathroom_showerfaucet</th>\n",
       "      <th>bathroom_exhaustfan</th>\n",
       "      <th>kitchen_garbagedisposal</th>\n",
       "    </tr>\n",
       "  </thead>\n",
       "  <tbody>\n",
       "    <tr>\n",
       "      <th>0</th>\n",
       "      <td>0.0</td>\n",
       "      <td>0.0</td>\n",
       "      <td>0.0</td>\n",
       "      <td>0.0</td>\n",
       "      <td>0.0</td>\n",
       "      <td>0.0</td>\n",
       "      <td>0.0</td>\n",
       "      <td>0.0</td>\n",
       "      <td>0.0</td>\n",
       "      <td>0.0</td>\n",
       "      <td>...</td>\n",
       "      <td>0.0</td>\n",
       "      <td>0.0</td>\n",
       "      <td>0.0</td>\n",
       "      <td>0.0</td>\n",
       "      <td>0.0</td>\n",
       "      <td>0.0</td>\n",
       "      <td>0.0</td>\n",
       "      <td>0.0</td>\n",
       "      <td>0.0</td>\n",
       "      <td>0.0</td>\n",
       "    </tr>\n",
       "    <tr>\n",
       "      <th>1</th>\n",
       "      <td>1.0</td>\n",
       "      <td>1.0</td>\n",
       "      <td>0.0</td>\n",
       "      <td>0.0</td>\n",
       "      <td>0.0</td>\n",
       "      <td>0.0</td>\n",
       "      <td>0.0</td>\n",
       "      <td>0.0</td>\n",
       "      <td>0.0</td>\n",
       "      <td>0.0</td>\n",
       "      <td>...</td>\n",
       "      <td>0.0</td>\n",
       "      <td>0.0</td>\n",
       "      <td>0.0</td>\n",
       "      <td>0.0</td>\n",
       "      <td>0.0</td>\n",
       "      <td>0.0</td>\n",
       "      <td>0.0</td>\n",
       "      <td>0.0</td>\n",
       "      <td>0.0</td>\n",
       "      <td>0.0</td>\n",
       "    </tr>\n",
       "    <tr>\n",
       "      <th>2</th>\n",
       "      <td>0.0</td>\n",
       "      <td>1.0</td>\n",
       "      <td>0.0</td>\n",
       "      <td>0.0</td>\n",
       "      <td>0.0</td>\n",
       "      <td>0.0</td>\n",
       "      <td>0.0</td>\n",
       "      <td>0.0</td>\n",
       "      <td>0.0</td>\n",
       "      <td>0.0</td>\n",
       "      <td>...</td>\n",
       "      <td>0.0</td>\n",
       "      <td>0.0</td>\n",
       "      <td>0.0</td>\n",
       "      <td>1.0</td>\n",
       "      <td>0.0</td>\n",
       "      <td>0.0</td>\n",
       "      <td>0.0</td>\n",
       "      <td>0.0</td>\n",
       "      <td>0.0</td>\n",
       "      <td>0.0</td>\n",
       "    </tr>\n",
       "    <tr>\n",
       "      <th>3</th>\n",
       "      <td>0.0</td>\n",
       "      <td>1.0</td>\n",
       "      <td>0.0</td>\n",
       "      <td>0.0</td>\n",
       "      <td>0.0</td>\n",
       "      <td>0.0</td>\n",
       "      <td>0.0</td>\n",
       "      <td>0.0</td>\n",
       "      <td>0.0</td>\n",
       "      <td>0.0</td>\n",
       "      <td>...</td>\n",
       "      <td>0.0</td>\n",
       "      <td>0.0</td>\n",
       "      <td>0.0</td>\n",
       "      <td>0.0</td>\n",
       "      <td>0.0</td>\n",
       "      <td>0.0</td>\n",
       "      <td>0.0</td>\n",
       "      <td>0.0</td>\n",
       "      <td>0.0</td>\n",
       "      <td>0.0</td>\n",
       "    </tr>\n",
       "    <tr>\n",
       "      <th>4</th>\n",
       "      <td>0.0</td>\n",
       "      <td>1.0</td>\n",
       "      <td>0.0</td>\n",
       "      <td>0.0</td>\n",
       "      <td>0.0</td>\n",
       "      <td>0.0</td>\n",
       "      <td>0.0</td>\n",
       "      <td>0.0</td>\n",
       "      <td>0.0</td>\n",
       "      <td>0.0</td>\n",
       "      <td>...</td>\n",
       "      <td>0.0</td>\n",
       "      <td>0.0</td>\n",
       "      <td>0.0</td>\n",
       "      <td>0.0</td>\n",
       "      <td>0.0</td>\n",
       "      <td>0.0</td>\n",
       "      <td>0.0</td>\n",
       "      <td>0.0</td>\n",
       "      <td>0.0</td>\n",
       "      <td>0.0</td>\n",
       "    </tr>\n",
       "  </tbody>\n",
       "</table>\n",
       "<p>5 rows × 33 columns</p>\n",
       "</div>"
      ],
      "text/plain": [
       "   bathroom_toiletflush  bathroom_lightswitch  foyer_lightswitch  \\\n",
       "0                   0.0                   0.0                0.0   \n",
       "1                   1.0                   1.0                0.0   \n",
       "2                   0.0                   1.0                0.0   \n",
       "3                   0.0                   1.0                0.0   \n",
       "4                   0.0                   1.0                0.0   \n",
       "\n",
       "   kitchen_lightswitch  kitchen_burner  livingroom_lightswitch  \\\n",
       "0                  0.0             0.0                     0.0   \n",
       "1                  0.0             0.0                     0.0   \n",
       "2                  0.0             0.0                     0.0   \n",
       "3                  0.0             0.0                     0.0   \n",
       "4                  0.0             0.0                     0.0   \n",
       "\n",
       "   bedroom_lightswitch  kitchen_coffeemachine  kitchen_drawer  \\\n",
       "0                  0.0                    0.0             0.0   \n",
       "1                  0.0                    0.0             0.0   \n",
       "2                  0.0                    0.0             0.0   \n",
       "3                  0.0                    0.0             0.0   \n",
       "4                  0.0                    0.0             0.0   \n",
       "\n",
       "   kitchen_refrigerator  ...  bathroom_sinkfaucet-hot  kitchen_dishwasher  \\\n",
       "0                   0.0  ...                      0.0                 0.0   \n",
       "1                   0.0  ...                      0.0                 0.0   \n",
       "2                   0.0  ...                      0.0                 0.0   \n",
       "3                   0.0  ...                      0.0                 0.0   \n",
       "4                   0.0  ...                      0.0                 0.0   \n",
       "\n",
       "   livingroom_lamp  study_drawer  bathroom_sinkfaucet-cold  \\\n",
       "0              0.0           0.0                       0.0   \n",
       "1              0.0           0.0                       0.0   \n",
       "2              0.0           1.0                       0.0   \n",
       "3              0.0           0.0                       0.0   \n",
       "4              0.0           0.0                       0.0   \n",
       "\n",
       "   kitchen_laundrydryer  study_lightwitch  bathroom_showerfaucet  \\\n",
       "0                   0.0               0.0                    0.0   \n",
       "1                   0.0               0.0                    0.0   \n",
       "2                   0.0               0.0                    0.0   \n",
       "3                   0.0               0.0                    0.0   \n",
       "4                   0.0               0.0                    0.0   \n",
       "\n",
       "   bathroom_exhaustfan  kitchen_garbagedisposal  \n",
       "0                  0.0                      0.0  \n",
       "1                  0.0                      0.0  \n",
       "2                  0.0                      0.0  \n",
       "3                  0.0                      0.0  \n",
       "4                  0.0                      0.0  \n",
       "\n",
       "[5 rows x 33 columns]"
      ]
     },
     "execution_count": 12,
     "metadata": {},
     "output_type": "execute_result"
    }
   ],
   "source": [
    "ds.head()"
   ]
  },
  {
   "cell_type": "markdown",
   "metadata": {},
   "source": [
    "## This is for TOASTER - can we please have a loop that does all the below steps "
   ]
  },
  {
   "cell_type": "code",
   "execution_count": 13,
   "metadata": {},
   "outputs": [],
   "source": [
    "Data = ds.drop(columns = 'kitchen_toaster').values   #\n",
    "target = ds['kitchen_toaster']                       #"
   ]
  },
  {
   "cell_type": "code",
   "execution_count": 14,
   "metadata": {},
   "outputs": [],
   "source": [
    "D_train, D_test, t_train, t_test = train_test_split(Data, \n",
    "                                                    target, \n",
    "                                                    test_size = 0.3,\n",
    "                                                    random_state=999)"
   ]
  },
  {
   "cell_type": "code",
   "execution_count": 15,
   "metadata": {},
   "outputs": [],
   "source": [
    "dt_classifier = DecisionTreeClassifier(max_depth=4,\n",
    "                                       criterion='entropy',\n",
    "                                       random_state = 999)"
   ]
  },
  {
   "cell_type": "code",
   "execution_count": 16,
   "metadata": {},
   "outputs": [],
   "source": [
    "dt_classifier.fit(D_train, t_train);"
   ]
  },
  {
   "cell_type": "code",
   "execution_count": 17,
   "metadata": {},
   "outputs": [
    {
     "data": {
      "text/plain": [
       "0.9886506935687264"
      ]
     },
     "execution_count": 17,
     "metadata": {},
     "output_type": "execute_result"
    }
   ],
   "source": [
    "dt_classifier.score(D_test, t_test)"
   ]
  },
  {
   "cell_type": "code",
   "execution_count": 18,
   "metadata": {},
   "outputs": [],
   "source": [
    "cv_method = RepeatedStratifiedKFold(n_splits = 5, \n",
    "                                    n_repeats = 3, \n",
    "                                    random_state = 999)\n",
    "\n",
    "dt_classifier = DecisionTreeClassifier(random_state=999)\n",
    "\n",
    "params_DT = {'criterion': ['gini', 'entropy'],\n",
    "             'max_depth': [2, 3, 4, 5]}\n",
    "\n",
    "gs = GridSearchCV(estimator=dt_classifier, \n",
    "                  param_grid=params_DT, \n",
    "                  cv=cv_method,\n",
    "                  verbose=1, \n",
    "                  scoring='accuracy')"
   ]
  },
  {
   "cell_type": "code",
   "execution_count": 19,
   "metadata": {},
   "outputs": [
    {
     "name": "stdout",
     "output_type": "stream",
     "text": [
      "Fitting 15 folds for each of 8 candidates, totalling 120 fits\n"
     ]
    },
    {
     "name": "stderr",
     "output_type": "stream",
     "text": [
      "[Parallel(n_jobs=1)]: Using backend SequentialBackend with 1 concurrent workers.\n"
     ]
    },
    {
     "name": "stdout",
     "output_type": "stream",
     "text": [
      "GridSearchCV(cv=<sklearn.model_selection._split.RepeatedStratifiedKFold object at 0x128973910>,\n",
      "             error_score='raise-deprecating',\n",
      "             estimator=DecisionTreeClassifier(class_weight=None,\n",
      "                                              criterion='gini', max_depth=None,\n",
      "                                              max_features=None,\n",
      "                                              max_leaf_nodes=None,\n",
      "                                              min_impurity_decrease=0.0,\n",
      "                                              min_impurity_split=None,\n",
      "                                              min_samples_leaf=1,\n",
      "                                              min_samples_split=2,\n",
      "                                              min_weight_fraction_leaf=0.0,\n",
      "                                              presort=False, random_state=999,\n",
      "                                              splitter='best'),\n",
      "             iid='warn', n_jobs=None,\n",
      "             param_grid={'criterion': ['gini', 'entropy'],\n",
      "                         'max_depth': [2, 3, 4, 5]},\n",
      "             pre_dispatch='2*n_jobs', refit=True, return_train_score=False,\n",
      "             scoring='accuracy', verbose=1)\n",
      "{'criterion': 'gini', 'max_depth': 3}\n",
      "0.9887123218564762\n"
     ]
    },
    {
     "name": "stderr",
     "output_type": "stream",
     "text": [
      "[Parallel(n_jobs=1)]: Done 120 out of 120 | elapsed:    1.0s finished\n"
     ]
    }
   ],
   "source": [
    "print(gs.fit(Data, target))\n",
    "print(gs.best_params_)\n",
    "print(gs.best_score_)"
   ]
  },
  {
   "cell_type": "code",
   "execution_count": 22,
   "metadata": {},
   "outputs": [],
   "source": [
    "import altair as alt\n",
    "\n",
    "def plot_imp(best_features, scores, method_name, color):\n",
    "    \n",
    "    df = pd.DataFrame({'features': best_features, \n",
    "                       'importances': scores})\n",
    "    \n",
    "    chart = alt.Chart(df, \n",
    "                      width=500, \n",
    "                      title=method_name + ' Feature Importances'\n",
    "                     ).mark_bar(opacity=0.95, \n",
    "                                color=color).encode(\n",
    "        alt.X('features', title='Feature', sort=None, axis=alt.AxisConfig(labelAngle=45)),\n",
    "        alt.Y('importances', title='Importance')\n",
    "    )\n",
    "    \n",
    "    return chart"
   ]
  },
  {
   "cell_type": "markdown",
   "metadata": {},
   "source": [
    "### Feature Selection Using Mutual Information"
   ]
  },
  {
   "cell_type": "markdown",
   "metadata": {},
   "source": [
    "The mutual information method is a filter feature selection method that looks at the relationship between each descriptive feature and the target feature using the concept of entropy.\n",
    "\n",
    "The code below returns the indices of the 5 features that have the highest mutual information value. As in the F-score method, the wrapper is not used in any way when selecting features using the mutual information method."
   ]
  },
  {
   "cell_type": "code",
   "execution_count": 29,
   "metadata": {},
   "outputs": [
    {
     "data": {
      "text/plain": [
       "array(['kitchen_cabinet', 'livingroom_lightswitch', 'study_drawer',\n",
       "       'bathroom_showerfaucet', 'kitchen_toaster'], dtype=object)"
      ]
     },
     "execution_count": 29,
     "metadata": {},
     "output_type": "execute_result"
    }
   ],
   "source": [
    "num_features = 5\n",
    "fs_fit_mutual_info = fs.SelectKBest(fs.mutual_info_classif, k=num_features)\n",
    "fs_fit_mutual_info.fit_transform(Data, target)\n",
    "fs_indices_mutual_info = np.argsort(fs_fit_mutual_info.scores_)[::-1][0:num_features]\n",
    "best_features_mutual_info = ds.columns[fs_indices_mutual_info].values\n",
    "best_features_mutual_info"
   ]
  },
  {
   "cell_type": "code",
   "execution_count": 30,
   "metadata": {},
   "outputs": [
    {
     "data": {
      "text/plain": [
       "array([0.00566719, 0.00345697, 0.00268585, 0.00265539, 0.00254629])"
      ]
     },
     "execution_count": 30,
     "metadata": {},
     "output_type": "execute_result"
    }
   ],
   "source": [
    "feature_importances_mutual_info = fs_fit_mutual_info.scores_[fs_indices_mutual_info]\n",
    "feature_importances_mutual_info"
   ]
  },
  {
   "cell_type": "code",
   "execution_count": 28,
   "metadata": {},
   "outputs": [
    {
     "data": {
      "application/vnd.vegalite.v3+json": {
       "$schema": "https://vega.github.io/schema/vega-lite/v3.4.0.json",
       "config": {
        "mark": {
         "tooltip": null
        },
        "view": {
         "height": 300,
         "width": 400
        }
       },
       "data": {
        "name": "data-3c501a37a6bf39196c565c29c0565c0e"
       },
       "datasets": {
        "data-3c501a37a6bf39196c565c29c0565c0e": [
         {
          "features": "kitchen_cabinet",
          "importances": 0.009123076556500909
         },
         {
          "features": "bathroom_medicinecabinet",
          "importances": 0.003298847950201522
         },
         {
          "features": "kitchen_refrigerator",
          "importances": 0.0020413173996296496
         },
         {
          "features": "bathroom_cabinet",
          "importances": 0.0020132385465473357
         },
         {
          "features": "kitchen_drawer",
          "importances": 0.0018630474813438047
         },
         {
          "features": "kitchen_toaster",
          "importances": 0.001779093994319414
         },
         {
          "features": "kitchen_lightswitch",
          "importances": 0.0012108761251974354
         },
         {
          "features": "kitchen_laundrydryer",
          "importances": 0.0010740327816961548
         }
        ]
       },
       "encoding": {
        "x": {
         "axis": {
          "labelAngle": 45
         },
         "field": "features",
         "sort": null,
         "title": "Feature",
         "type": "nominal"
        },
        "y": {
         "field": "importances",
         "title": "Importance",
         "type": "quantitative"
        }
       },
       "mark": {
        "color": "blue",
        "opacity": 0.95,
        "type": "bar"
       },
       "title": "Mutual Information Feature Importances",
       "width": 500
      },
      "image/png": "[encoded data removed]",
      "text/plain": [
       "<VegaLite 3 object>\n",
       "\n",
       "If you see this message, it means the renderer has not been properly enabled\n",
       "for the frontend that you are using. For more information, see\n",
       "https://altair-viz.github.io/user_guide/troubleshooting.html\n"
      ]
     },
     "execution_count": 28,
     "metadata": {},
     "output_type": "execute_result"
    }
   ],
   "source": [
    "plot_imp(best_features_mutual_info, feature_importances_mutual_info, 'Mutual Information', 'blue')"
   ]
  },
  {
   "cell_type": "markdown",
   "metadata": {},
   "source": []
  },
  {
   "cell_type": "code",
   "execution_count": null,
   "metadata": {},
   "outputs": [],
   "source": [
    "# import datetime as dt\n",
    "# def add_DAY_WDWE_phaseII(ds):\n",
    "#     dayNumKeyWithDAYDict = pd.Series(['Mon','Tue','Wed','Thu','Fri','Sat','Sun'], ['0','1','2','3','4','5','6']).to_dict()\n",
    "#     dayNumKeyWithWDWEDict = pd.Series(['WD','WD','WD','WD','WD','WE','WE'], ['0','1','2','3','4','5','6']).to_dict()\n",
    "#     ds.set_index(ds['timestamp'], inplace = True)\n",
    "#     ds.insert((len(ds.columns)), \"DAY\", ds.index.dayofweek.astype(str), True)\n",
    "#     ds.insert((len(ds.columns)), \"WDWE\", ds.index.dayofweek.astype(str), True)\n",
    "#     ds = ds.replace({\"DAY\": dayNumKeyWithDAYDict})\n",
    "#     ds = ds.replace({\"WDWE\": dayNumKeyWithWDWEDict})\n",
    "#     ds.reset_index(drop = True, inplace = True)\n",
    "#     ds['Hour'] = ds['timestamp'].dt.hour\n",
    "#     return ds\n",
    "\n",
    "# df = add_DAY_WDWE_phaseII(df)\n",
    "# df.head()"
   ]
  },
  {
   "cell_type": "code",
   "execution_count": null,
   "metadata": {},
   "outputs": [],
   "source": [
    "# df['Phase'] = \"Afternoon\"\n",
    "# df.loc[df['Hour'] < 9, 'Phase'] = \"Morning\"\n",
    "# df.loc[df['Hour'] >= 17, 'Phase'] = \"Evening\"\n",
    "# df.head()"
   ]
  },
  {
   "cell_type": "markdown",
   "metadata": {},
   "source": [
    "## Can we please also have summary stats - for example, 'Washine Machine on WD morning has a mean value of X with a SD of Y'"
   ]
  },
  {
   "cell_type": "code",
   "execution_count": null,
   "metadata": {},
   "outputs": [],
   "source": [
    "import warnings\n",
    "warnings.filterwarnings(\"ignore\")\n",
    "import numpy as np\n",
    "import pandas as pd\n",
    "from sklearn.model_selection import train_test_split\n",
    "from sklearn.tree import DecisionTreeClassifier\n",
    "from sklearn import feature_selection as fs\n",
    "from sklearn.model_selection import RepeatedStratifiedKFold, GridSearchCV\n",
    "from sklearn.preprocessing import StandardScaler\n",
    "import datetime as dt\n",
    "\n",
    "df = pd.read_csv('S1Act_B_m_NoDupes.csv', index_col = \"duration\")\n",
    "df.reset_index(drop = True, inplace = True)\n",
    "\n",
    "df_sensors = pd.read_csv('S1Sensors_preprocessed.csv', index_col = None)\n",
    "df_sensors = df_sensors[df_sensors.reqEnergy]\n",
    "\n",
    "df_costs = pd.read_csv('power_costs.csv', index_col = None)\n",
    "\n",
    "def add_DAY_WDWE_phaseII(ds):\n",
    "    dayNumKeyWithDAYDict = pd.Series(['Mon','Tue','Wed','Thu','Fri','Sat','Sun'], ['0','1','2','3','4','5','6']).to_dict()\n",
    "    dayNumKeyWithWDWEDict = pd.Series(['WD','WD','WD','WD','WD','WE','WE'], ['0','1','2','3','4','5','6']).to_dict()\n",
    "    ds.set_index(ds['timestamp'], inplace = True)\n",
    "    ds.insert((len(ds.columns)), \"DAY\", ds.index.dayofweek.astype(str), True)\n",
    "    ds.insert((len(ds.columns)), \"WDWE\", ds.index.dayofweek.astype(str), True)\n",
    "    ds = ds.replace({\"DAY\": dayNumKeyWithDAYDict})\n",
    "    ds = ds.replace({\"WDWE\": dayNumKeyWithWDWEDict})\n",
    "    ds.reset_index(drop = True, inplace = True)\n",
    "    ds['Hour'] = ds['timestamp'].dt.hour\n",
    "    return ds"
   ]
  },
  {
   "cell_type": "code",
   "execution_count": null,
   "metadata": {},
   "outputs": [],
   "source": [
    "#Assuming everything that is common has been pre-processed by this stage\n",
    "\n",
    "def calc_subAct(dataframe, subAct, wattage, df_costs):\n",
    "    # Duplicate the DF to avoid corrupting it\n",
    "    df = dataframe.copy()\n",
    "    \n",
    "    # First step is to train the classifier\n",
    "    Data = df.drop(columns = subAct).values\n",
    "    target = df[subAct]\n",
    "    D_train, D_test, t_train, t_test = train_test_split(Data, \n",
    "                                                        target, \n",
    "                                                        test_size = 0.3,\n",
    "                                                        random_state=999)\n",
    "    dt_classifier = DecisionTreeClassifier(max_depth=4,\n",
    "                                           criterion='entropy',\n",
    "                                           random_state = 999)\n",
    "    dt_classifier.fit(D_train, t_train)\n",
    "    confidence = dt_classifier.score(D_test, t_test)\n",
    "    df['prediction'] = dt_classifier.predict(Data)\n",
    "    df['intervention'] = (df['prediction'].diff() == -1) & (df[subAct] == 1)\n",
    "    \n",
    "    dfIDX = pd.read_csv('S1Act_B_m_NoDupes.csv', index_col = None)\n",
    "    dfIDX.duration = pd.to_datetime(dfIDX.duration, format='%Y-%m-%d %H:%M:%S')\n",
    "    df['timestamp'] = dfIDX['duration']\n",
    "\n",
    "    df = add_DAY_WDWE_phaseII(df)\n",
    "    df['Phase'] = \"Afternoon\"\n",
    "    df.loc[df['Hour'] < 12, 'Phase'] = \"Morning\"\n",
    "    df.loc[df['Hour'] >= 18, 'Phase'] = \"Evening\"\n",
    "    \n",
    "    # Calculate approx durations\n",
    "    duration = 0\n",
    "    duration_col = []\n",
    "\n",
    "    for row in df.iterrows():\n",
    "        if row[1][subAct] == 1:\n",
    "            duration += 1\n",
    "        else:\n",
    "            duration = 0\n",
    "\n",
    "        duration_col.append(duration)\n",
    "\n",
    "    df['duration'] = duration_col\n",
    "\n",
    "    cancelled_interventions = 0\n",
    "    completed_interventions = 0\n",
    "    possible_intervention = False\n",
    "    intervening = False\n",
    "\n",
    "    total_minutes_saved = 0\n",
    "    total_kwh_saved = 0\n",
    "    total_dollars_saved = 0\n",
    "\n",
    "    for row in df.iterrows():\n",
    "        if row[1]['intervention'] and not intervening:\n",
    "            possible_intervention = True\n",
    "        if possible_intervention:\n",
    "            if row[1][subAct] == 0:\n",
    "                possible_intervention = False\n",
    "                cancelled_interventions += 1\n",
    "            else:\n",
    "                if row[1]['duration'] > benchmark_usage[subAct][row[1]['WDWE']][row[1]['Phase']] / 60:\n",
    "                    intervening = True\n",
    "                    completed_interventions += 1\n",
    "                    possible_intervention = False\n",
    "        if intervening:\n",
    "            if row[1][subAct] == 0:\n",
    "                intervening = False\n",
    "            else:\n",
    "                total_minutes_saved += 1\n",
    "                kwh_saved = wattage / 60\n",
    "                total_kwh_saved += kwh_saved\n",
    "                hour = row[1]['Hour']\n",
    "                wdwe = row[1]['WDWE']\n",
    "                rate = df_costs[(df_costs['Hour'] == hour) & (df_costs['WDWE'] == wdwe)].iloc[0]['cost_per_kwh']\n",
    "                dollars_saved = rate * kwh_saved\n",
    "                total_dollars_saved += dollars_saved\n",
    "\n",
    "    # We see that we didn't quite save as many minutes of electricity but we likely annoyed the user less\n",
    "    # Note that this means our 'confidence' value is going to be more conservative than it needs to be\n",
    "    print(\"SubAct:\",subAct)\n",
    "    print(\"Classifier confidence:\", confidence)\n",
    "    print(\"Number of completed interventions:\", completed_interventions)\n",
    "    print(\"Number of interventions cancelled due to not meeting average number of minutes usage:\", \n",
    "          cancelled_interventions)\n",
    "    print(\"Total minutes saved:\", total_minutes_saved)\n",
    "    print(\"Total minutes saved, accounting for confidence:\", total_minutes_saved * confidence)\n",
    "    print(\"Total electricity saved (kwh):\", total_kwh_saved)\n",
    "    print(\"Total electricity saved, accounting for confidence (kwh):\", total_kwh_saved * confidence)\n",
    "    print(\"Total money saved: $\", total_dollars_saved)\n",
    "    print(\"Total money saved accounting for confidence:  $\", total_dollars_saved * confidence)\n",
    "    print()\n",
    "    \n",
    "\n",
    "for row in df_sensors.iterrows():\n",
    "    subAct = row[1]['concat']\n",
    "    wattage = row[1]['wattage']\n",
    "    calc_subAct(df, subAct, wattage, df_costs)"
   ]
  },
  {
   "cell_type": "markdown",
   "metadata": {},
   "source": [
    "# Discussion"
   ]
  },
  {
   "cell_type": "markdown",
   "metadata": {},
   "source": []
  },
  {
   "cell_type": "markdown",
   "metadata": {},
   "source": [
    "<img src=\"https://ourworldindata.org/uploads/2013/12/Satellite-images-of-India-by-night-–-Sala-I-Martin-paper-750x480.png\" alt=\"Satellite-images-of-India-by-night-–-Sala-I-Martin-paper\" class=\"wp-image-7749\" srcset=\"https://ourworldindata.org/uploads/2013/12/Satellite-images-of-India-by-night-–-Sala-I-Martin-paper-750x480.png 750w, https://ourworldindata.org/uploads/2013/12/Satellite-images-of-India-by-night-–-Sala-I-Martin-paper-150x96.png 150w, https://ourworldindata.org/uploads/2013/12/Satellite-images-of-India-by-night-–-Sala-I-Martin-paper-400x256.png 400w, https://ourworldindata.org/uploads/2013/12/Satellite-images-of-India-by-night-–-Sala-I-Martin-paper-768x491.png 768w\" sizes=\"(max-width: 750px) 100vw, 750px\">"
   ]
  },
  {
   "cell_type": "code",
   "execution_count": null,
   "metadata": {},
   "outputs": [],
   "source": [
    "# !jt -l\n",
    "# !jt -t <theme>\n",
    "# !jt -r"
   ]
  }
 ],
 "metadata": {
  "kernelspec": {
   "display_name": "Python 3",
   "language": "python",
   "name": "python3"
  },
  "language_info": {
   "codemirror_mode": {
    "name": "ipython",
    "version": 3
   },
   "file_extension": ".py",
   "mimetype": "text/x-python",
   "name": "python",
   "nbconvert_exporter": "python",
   "pygments_lexer": "ipython3",
   "version": "3.7.4"
  },
  "toc": {
   "nav_menu": {
    "height": "863px",
    "width": "355px"
   },
   "number_sections": true,
   "sideBar": true,
   "skip_h1_title": false,
   "title_cell": "Table of Contents",
   "title_sidebar": "Contents",
   "toc_cell": false,
   "toc_position": {
    "height": "calc(100% - 180px)",
    "left": "10px",
    "top": "150px",
    "width": "754px"
   },
   "toc_section_display": true,
   "toc_window_display": true
  },
  "varInspector": {
   "cols": {
    "lenName": 16,
    "lenType": 16,
    "lenVar": 40
   },
   "kernels_config": {
    "python": {
     "delete_cmd_postfix": "",
     "delete_cmd_prefix": "del ",
     "library": "var_list.py",
     "varRefreshCmd": "print(var_dic_list())"
    },
    "r": {
     "delete_cmd_postfix": ") ",
     "delete_cmd_prefix": "rm(",
     "library": "var_list.r",
     "varRefreshCmd": "cat(var_dic_list()) "
    }
   },
   "types_to_exclude": [
    "module",
    "function",
    "builtin_function_or_method",
    "instance",
    "_Feature"
   ],
   "window_display": false
  }
 },
 "nbformat": 4,
 "nbformat_minor": 4
}
