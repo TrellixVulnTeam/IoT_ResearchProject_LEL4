{
 "cells": [
  {
   "cell_type": "code",
   "execution_count": 5,
   "metadata": {},
   "outputs": [],
   "source": [
    "import pandas as pd\n",
    "import numpy as np\n",
    "from datetime import datetime"
   ]
  },
  {
   "cell_type": "markdown",
   "metadata": {},
   "source": [
    "---"
   ]
  },
  {
   "cell_type": "code",
   "execution_count": 6,
   "metadata": {},
   "outputs": [],
   "source": [
    "dsS1 = pd.read_csv('S1activities_data.csv', sep = 'delimiter', header = None, engine = 'python')"
   ]
  },
  {
   "cell_type": "code",
   "execution_count": 7,
   "metadata": {},
   "outputs": [],
   "source": [
    "a = np.array(dsS1)\n",
    "a = a.flatten()                                        # Flattening the 2D array to a 1D array\n",
    "from more_itertools import chunked                     # Importing the required packages\n",
    "a = list(chunked(a, 5))                                # Chunking the array by a unit of 5 "
   ]
  },
  {
   "cell_type": "code",
   "execution_count": 8,
   "metadata": {},
   "outputs": [],
   "source": [
    "dimLength = []\n",
    "i = 0\n",
    "while i < len(a):\n",
    "    dimLength.append(len(a[i]))\n",
    "    i = i + 1"
   ]
  },
  {
   "cell_type": "code",
   "execution_count": 9,
   "metadata": {},
   "outputs": [
    {
     "data": {
      "text/plain": [
       "295"
      ]
     },
     "execution_count": 9,
     "metadata": {},
     "output_type": "execute_result"
    }
   ],
   "source": [
    "len(dimLength)"
   ]
  },
  {
   "cell_type": "markdown",
   "metadata": {},
   "source": [
    "### Extracting the Sub-Activities"
   ]
  },
  {
   "cell_type": "code",
   "execution_count": 10,
   "metadata": {},
   "outputs": [],
   "source": [
    "tempStringList = []                       # Temporary string list\n",
    "tempStripList = []                        # Temporary \n",
    "activityList = []\n",
    "dateList = []\n",
    "tempStartTimeList = []\n",
    "tempEndTimeList = []\n",
    "\n",
    "i = 0\n",
    "while i < len(dimLength):\n",
    "    tempStringList.append(a[i][0])\n",
    "    tempStripList.append([x.strip() for x in tempStringList[i].split(',')])\n",
    "    activityList.append(tempStripList[i][0])\n",
    "    dateList.append(tempStripList[i][1])\n",
    "    tempStartTimeList.append(tempStripList[i][2])\n",
    "    tempEndTimeList.append(tempStripList[i][3])\n",
    "    i = i + 1"
   ]
  },
  {
   "cell_type": "code",
   "execution_count": 11,
   "metadata": {},
   "outputs": [],
   "source": [
    "numericConcat = []\n",
    "numericSep = []\n",
    "actConcat = []\n",
    "actSep = []\n",
    "startConcat = []\n",
    "startSep = []\n",
    "endConcat = []\n",
    "endSep = []\n",
    "\n",
    "i = 0\n",
    "while i < len(a):\n",
    "    numericConcat.append(a[i][1])\n",
    "    numericSep.append([x.strip() for x in numericConcat[i].split(',')])\n",
    "    actConcat.append(a[i][2])\n",
    "    actSep.append([x.strip() for x in actConcat[i].split(',')])\n",
    "    startConcat.append(a[i][3])\n",
    "    startSep.append([x.strip() for x in startConcat[i].split(',')])\n",
    "    endConcat.append(a[i][4])\n",
    "    endSep.append([x.strip() for x in endConcat[i].split(',')])\n",
    "    i = i + 1"
   ]
  },
  {
   "cell_type": "code",
   "execution_count": 12,
   "metadata": {},
   "outputs": [
    {
     "data": {
      "text/plain": [
       "2772"
      ]
     },
     "execution_count": 12,
     "metadata": {},
     "output_type": "execute_result"
    }
   ],
   "source": [
    "dateStringList = []\n",
    "\n",
    "i = 0\n",
    "while i < len(a):\n",
    "    for x in range(len(numericSep[i])):\n",
    "        dateStringList.append(dateList[i])\n",
    "    i = i + 1\n",
    "\n",
    "len(dateStringList)"
   ]
  },
  {
   "cell_type": "code",
   "execution_count": 13,
   "metadata": {},
   "outputs": [],
   "source": [
    "flat_numericSep = []                                    # Constructing an array \n",
    "for sublist in numericSep:\n",
    "    for item in sublist:\n",
    "        flat_numericSep.append(item)"
   ]
  },
  {
   "cell_type": "code",
   "execution_count": 14,
   "metadata": {},
   "outputs": [],
   "source": [
    "flat_actSep = []\n",
    "for sublist in actSep:\n",
    "    for item in sublist:\n",
    "        flat_actSep.append(item)"
   ]
  },
  {
   "cell_type": "code",
   "execution_count": 15,
   "metadata": {},
   "outputs": [],
   "source": [
    "flat_startSep = []\n",
    "for sublist in startSep:\n",
    "    for item in sublist:\n",
    "        flat_startSep.append(item)"
   ]
  },
  {
   "cell_type": "code",
   "execution_count": 16,
   "metadata": {},
   "outputs": [],
   "source": [
    "flat_endSep = []\n",
    "for sublist in endSep:\n",
    "    for item in sublist:\n",
    "        flat_endSep.append(item)"
   ]
  },
  {
   "cell_type": "code",
   "execution_count": 17,
   "metadata": {},
   "outputs": [
    {
     "data": {
      "text/plain": [
       "(2772, 2772, 2772, 2772)"
      ]
     },
     "execution_count": 17,
     "metadata": {},
     "output_type": "execute_result"
    }
   ],
   "source": [
    "len(flat_numericSep), len(flat_actSep), len(flat_startSep), len(flat_endSep)"
   ]
  },
  {
   "cell_type": "code",
   "execution_count": 18,
   "metadata": {},
   "outputs": [],
   "source": [
    "zippedList = list(zip(flat_numericSep, flat_actSep, dateStringList, flat_startSep, flat_endSep))\n",
    "ds = pd.DataFrame(zippedList, columns = ['subActNum', 'subAct', 'date', 'startTime', 'endTime'])"
   ]
  },
  {
   "cell_type": "code",
   "execution_count": 19,
   "metadata": {},
   "outputs": [],
   "source": [
    "start = (ds.date + \" \" + ds.startTime)\n",
    "end = (ds.date + \" \" + ds.endTime)"
   ]
  },
  {
   "cell_type": "code",
   "execution_count": 20,
   "metadata": {},
   "outputs": [],
   "source": [
    "startList = []\n",
    "endList = []\n",
    "\n",
    "i = 0\n",
    "while i < len(start):\n",
    "    startList.append(datetime.strptime(start[i], '%m/%d/%Y %H:%M:%S'))\n",
    "    endList.append(datetime.strptime(end[i], '%m/%d/%Y %H:%M:%S'))\n",
    "    i = i + 1"
   ]
  },
  {
   "cell_type": "code",
   "execution_count": 21,
   "metadata": {},
   "outputs": [
    {
     "data": {
      "text/html": [
       "<div>\n",
       "<style scoped>\n",
       "    .dataframe tbody tr th:only-of-type {\n",
       "        vertical-align: middle;\n",
       "    }\n",
       "\n",
       "    .dataframe tbody tr th {\n",
       "        vertical-align: top;\n",
       "    }\n",
       "\n",
       "    .dataframe thead th {\n",
       "        text-align: right;\n",
       "    }\n",
       "</style>\n",
       "<table border=\"1\" class=\"dataframe\">\n",
       "  <thead>\n",
       "    <tr style=\"text-align: right;\">\n",
       "      <th></th>\n",
       "      <th>subActNum</th>\n",
       "      <th>subAct</th>\n",
       "      <th>start</th>\n",
       "      <th>end</th>\n",
       "    </tr>\n",
       "  </thead>\n",
       "  <tbody>\n",
       "    <tr>\n",
       "      <th>0</th>\n",
       "      <td>100</td>\n",
       "      <td>Toilet Flush</td>\n",
       "      <td>2003-04-01 20:51:52</td>\n",
       "      <td>2003-04-01 21:05:20</td>\n",
       "    </tr>\n",
       "    <tr>\n",
       "      <th>1</th>\n",
       "      <td>68</td>\n",
       "      <td>Sink faucet - hot</td>\n",
       "      <td>2003-04-01 20:51:58</td>\n",
       "      <td>2003-04-01 20:52:05</td>\n",
       "    </tr>\n",
       "    <tr>\n",
       "      <th>2</th>\n",
       "      <td>81</td>\n",
       "      <td>Closet</td>\n",
       "      <td>2003-04-01 20:53:36</td>\n",
       "      <td>2003-04-01 20:53:43</td>\n",
       "    </tr>\n",
       "    <tr>\n",
       "      <th>3</th>\n",
       "      <td>101</td>\n",
       "      <td>Light switch</td>\n",
       "      <td>2003-04-01 20:53:49</td>\n",
       "      <td>2003-04-01 21:21:43</td>\n",
       "    </tr>\n",
       "    <tr>\n",
       "      <th>4</th>\n",
       "      <td>93</td>\n",
       "      <td>Shower faucet</td>\n",
       "      <td>2003-04-01 20:53:52</td>\n",
       "      <td>2003-04-01 20:58:42</td>\n",
       "    </tr>\n",
       "  </tbody>\n",
       "</table>\n",
       "</div>"
      ],
      "text/plain": [
       "  subActNum             subAct               start                 end\n",
       "0       100       Toilet Flush 2003-04-01 20:51:52 2003-04-01 21:05:20\n",
       "1        68  Sink faucet - hot 2003-04-01 20:51:58 2003-04-01 20:52:05\n",
       "2        81             Closet 2003-04-01 20:53:36 2003-04-01 20:53:43\n",
       "3       101       Light switch 2003-04-01 20:53:49 2003-04-01 21:21:43\n",
       "4        93      Shower faucet 2003-04-01 20:53:52 2003-04-01 20:58:42"
      ]
     },
     "execution_count": 21,
     "metadata": {},
     "output_type": "execute_result"
    }
   ],
   "source": [
    "zippedList = list(zip(flat_numericSep, flat_actSep, startList, endList))\n",
    "ds = pd.DataFrame(zippedList, columns = ['subActNum', 'subAct', 'start', 'end'])\n",
    "ds.head(n=5)"
   ]
  },
  {
   "cell_type": "code",
   "execution_count": 22,
   "metadata": {},
   "outputs": [
    {
     "data": {
      "text/html": [
       "<div>\n",
       "<style scoped>\n",
       "    .dataframe tbody tr th:only-of-type {\n",
       "        vertical-align: middle;\n",
       "    }\n",
       "\n",
       "    .dataframe tbody tr th {\n",
       "        vertical-align: top;\n",
       "    }\n",
       "\n",
       "    .dataframe thead th {\n",
       "        text-align: right;\n",
       "    }\n",
       "</style>\n",
       "<table border=\"1\" class=\"dataframe\">\n",
       "  <thead>\n",
       "    <tr style=\"text-align: right;\">\n",
       "      <th></th>\n",
       "      <th>subActNum</th>\n",
       "      <th>subAct</th>\n",
       "      <th>start</th>\n",
       "      <th>end</th>\n",
       "    </tr>\n",
       "  </thead>\n",
       "  <tbody>\n",
       "    <tr>\n",
       "      <th>0</th>\n",
       "      <td>100</td>\n",
       "      <td>Toilet Flush</td>\n",
       "      <td>2003-04-01 20:51:52</td>\n",
       "      <td>2003-04-01 21:05:20</td>\n",
       "    </tr>\n",
       "    <tr>\n",
       "      <th>1</th>\n",
       "      <td>68</td>\n",
       "      <td>Sink faucet - hot</td>\n",
       "      <td>2003-04-01 20:51:58</td>\n",
       "      <td>2003-04-01 20:52:05</td>\n",
       "    </tr>\n",
       "    <tr>\n",
       "      <th>2</th>\n",
       "      <td>81</td>\n",
       "      <td>Closet</td>\n",
       "      <td>2003-04-01 20:53:36</td>\n",
       "      <td>2003-04-01 20:53:43</td>\n",
       "    </tr>\n",
       "    <tr>\n",
       "      <th>3</th>\n",
       "      <td>101</td>\n",
       "      <td>Light switch</td>\n",
       "      <td>2003-04-01 20:53:49</td>\n",
       "      <td>2003-04-01 21:21:43</td>\n",
       "    </tr>\n",
       "  </tbody>\n",
       "</table>\n",
       "</div>"
      ],
      "text/plain": [
       "  subActNum             subAct               start                 end\n",
       "0       100       Toilet Flush 2003-04-01 20:51:52 2003-04-01 21:05:20\n",
       "1        68  Sink faucet - hot 2003-04-01 20:51:58 2003-04-01 20:52:05\n",
       "2        81             Closet 2003-04-01 20:53:36 2003-04-01 20:53:43\n",
       "3       101       Light switch 2003-04-01 20:53:49 2003-04-01 21:21:43"
      ]
     },
     "execution_count": 22,
     "metadata": {},
     "output_type": "execute_result"
    }
   ],
   "source": [
    "ds.head(n=4)"
   ]
  },
  {
   "cell_type": "code",
   "execution_count": 23,
   "metadata": {},
   "outputs": [],
   "source": [
    "ds['subAct'].replace('Office/study', 'Study', inplace=True)"
   ]
  },
  {
   "cell_type": "code",
   "execution_count": 24,
   "metadata": {},
   "outputs": [
    {
     "name": "stdout",
     "output_type": "stream",
     "text": [
      "<class 'pandas.core.frame.DataFrame'>\n",
      "RangeIndex: 2772 entries, 0 to 2771\n",
      "Data columns (total 4 columns):\n",
      "subActNum    2772 non-null object\n",
      "subAct       2772 non-null object\n",
      "start        2772 non-null datetime64[ns]\n",
      "end          2772 non-null datetime64[ns]\n",
      "dtypes: datetime64[ns](2), object(2)\n",
      "memory usage: 86.8+ KB\n"
     ]
    }
   ],
   "source": [
    "ds.info()"
   ]
  },
  {
   "cell_type": "markdown",
   "metadata": {},
   "source": [
    "## Considerations for 'duplicate' sub activities\n",
    "The following duplicate sensors were identified in section 1\n",
    "\n",
    "**Create table**\n",
    "<br>\n",
    "3   kitchen_lightswitch <br>\n",
    "4   kitchen_burner <br>\n",
    "2   livingroom_lightswitch <br>\n",
    "7   kitchen_drawer <br>\n",
    "3   kitchen_refrigerator <br>\n",
    "15  kitchen_cabinet <br>\n",
    "2   kitchen_door <br>\n",
    "5   bedroom_drawer <br>\n",
    "2   bathroom_medicinecabinet <br>\n",
    "2   bathroom_cabinet <br>\n",
    "\n",
    "# Add explanation as to how these will be dealt with\n",
    "\n",
    "* From `S1Sensors_preprocessed.csv` I need to find the numbers associated with these - SUBACTNUM\n",
    "* 'Arbitrarily' choose one number to represent all of them\n",
    "* Fill them all with that one number\n",
    "\n",
    "**For dicussion later** - The kitchen cabinets have 15 sensors, say one of these cabinets just contains a blender, so there will always be a one-to-one between the cabinet opening and the blendor being used. This isn't particularly helpful to us. Also, more sensors could always be added... Better to do analysis with less (explain?)\n",
    "\n"
   ]
  },
  {
   "cell_type": "code",
   "execution_count": null,
   "metadata": {},
   "outputs": [],
   "source": []
  },
  {
   "cell_type": "code",
   "execution_count": null,
   "metadata": {},
   "outputs": [],
   "source": []
  },
  {
   "cell_type": "code",
   "execution_count": null,
   "metadata": {},
   "outputs": [],
   "source": []
  },
  {
   "cell_type": "code",
   "execution_count": 22,
   "metadata": {},
   "outputs": [],
   "source": [
    "ds.to_csv('S1SubActivities_preprocessed.csv', index = False)"
   ]
  },
  {
   "cell_type": "markdown",
   "metadata": {},
   "source": [
    "---"
   ]
  }
 ],
 "metadata": {
  "kernelspec": {
   "display_name": "Python 3",
   "language": "python",
   "name": "python3"
  },
  "language_info": {
   "codemirror_mode": {
    "name": "ipython",
    "version": 3
   },
   "file_extension": ".py",
   "mimetype": "text/x-python",
   "name": "python",
   "nbconvert_exporter": "python",
   "pygments_lexer": "ipython3",
   "version": "3.7.4"
  },
  "toc": {
   "base_numbering": 1,
   "nav_menu": {
    "height": "212px",
    "width": "581px"
   },
   "number_sections": true,
   "sideBar": true,
   "skip_h1_title": false,
   "title_cell": "Table of Contents",
   "title_sidebar": "Contents",
   "toc_cell": false,
   "toc_position": {},
   "toc_section_display": true,
   "toc_window_display": true
  },
  "varInspector": {
   "cols": {
    "lenName": 16,
    "lenType": 16,
    "lenVar": 40
   },
   "kernels_config": {
    "python": {
     "delete_cmd_postfix": "",
     "delete_cmd_prefix": "del ",
     "library": "var_list.py",
     "varRefreshCmd": "print(var_dic_list())"
    },
    "r": {
     "delete_cmd_postfix": ") ",
     "delete_cmd_prefix": "rm(",
     "library": "var_list.r",
     "varRefreshCmd": "cat(var_dic_list()) "
    }
   },
   "types_to_exclude": [
    "module",
    "function",
    "builtin_function_or_method",
    "instance",
    "_Feature"
   ],
   "window_display": false
  }
 },
 "nbformat": 4,
 "nbformat_minor": 4
}
