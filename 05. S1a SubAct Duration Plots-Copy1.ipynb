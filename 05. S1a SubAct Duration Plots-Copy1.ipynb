{
 "cells": [
  {
   "cell_type": "code",
   "execution_count": 76,
   "metadata": {},
   "outputs": [],
   "source": [
    "import pandas as pd\n",
    "import numpy as np\n",
    "import time\n",
    "import datetime\n",
    "import altair as alt\n",
    "import pandas as pd"
   ]
  },
  {
   "cell_type": "code",
   "execution_count": 77,
   "metadata": {},
   "outputs": [],
   "source": [
    "ds = pd.read_csv('S1SubActivities_preprocessed.csv', index_col = None) \n",
    "ds.start = pd.to_datetime(ds.start, format='%Y-%m-%d %H:%M:%S')\n",
    "ds.end = pd.to_datetime(ds.end, format='%Y-%m-%d %H:%M:%S')\n",
    "ds = ds.sort_values('start')\n",
    "ds.reset_index(drop = True, inplace = True)"
   ]
  },
  {
   "cell_type": "code",
   "execution_count": 78,
   "metadata": {},
   "outputs": [],
   "source": [
    "def add_DAY_WDWE_phaseI(ds):\n",
    "    dayNumKeyWithDAYDict = pd.Series(['Mon','Tue','Wed','Thu','Fri','Sat','Sun'], ['0','1','2','3','4','5','6']).to_dict()\n",
    "    dayNumKeyWithWDWEDict = pd.Series(['WD','WD','WD','WD','WD','WE','WE'], ['0','1','2','3','4','5','6']).to_dict()\n",
    "    ds.set_index(ds.start, inplace = True)\n",
    "    ds.insert((len(ds.columns)), \"dayNumeric\", ds.index.dayofweek.astype(str), True)\n",
    "    ds.insert((len(ds.columns)), \"DAY\", ds.index.dayofweek.astype(str), True)\n",
    "    ds.insert((len(ds.columns)), \"WDWE\", ds.index.dayofweek.astype(str), True)\n",
    "    ds = ds.replace({\"DAY\": dayNumKeyWithDAYDict})\n",
    "    ds = ds.replace({\"WDWE\": dayNumKeyWithWDWEDict})\n",
    "    ds.reset_index(drop = True, inplace = True)\n",
    "    ds['HOUR'] = ds['start'].dt.hour\n",
    "    ds['durationSec'] = ds['end'] - ds['start']\n",
    "    ds['durationSec'] = ds['durationSec'].dt.total_seconds()\n",
    "    ds['durationSec'] = ds.durationSec.astype(int)\n",
    "    return ds"
   ]
  },
  {
   "cell_type": "code",
   "execution_count": 79,
   "metadata": {},
   "outputs": [],
   "source": [
    "ds = add_DAY_WDWE_phaseI(ds)"
   ]
  },
  {
   "cell_type": "code",
   "execution_count": 80,
   "metadata": {},
   "outputs": [],
   "source": [
    "# Unique subActNum list\n",
    "unique_list = []\n",
    "for x in ds.subActNum:                  # Traverse for all elements \n",
    "    if x not in unique_list:            # Check if exists in unique_list or not \n",
    "        unique_list.append(x)     "
   ]
  },
  {
   "cell_type": "code",
   "execution_count": 81,
   "metadata": {},
   "outputs": [],
   "source": [
    "# Should this be done earlier?\n",
    "ds = ds[ds.subAct != 'bedroom_jewelrybox']\n",
    "ds = ds[ds.subAct != 'foyer_closet']\n",
    "ds = ds[ds.subAct != 'kitchen_cereal']\n",
    "ds = ds[ds.subAct != 'kitchen_containers']\n",
    "ds = ds[ds.subAct != 'bedroom_lamp']"
   ]
  },
  {
   "cell_type": "code",
   "execution_count": 82,
   "metadata": {},
   "outputs": [
    {
     "data": {
      "text/html": [
       "<div>\n",
       "<style scoped>\n",
       "    .dataframe tbody tr th:only-of-type {\n",
       "        vertical-align: middle;\n",
       "    }\n",
       "\n",
       "    .dataframe tbody tr th {\n",
       "        vertical-align: top;\n",
       "    }\n",
       "\n",
       "    .dataframe thead th {\n",
       "        text-align: right;\n",
       "    }\n",
       "</style>\n",
       "<table border=\"1\" class=\"dataframe\">\n",
       "  <thead>\n",
       "    <tr style=\"text-align: right;\">\n",
       "      <th></th>\n",
       "      <th>subActNum</th>\n",
       "      <th>subAct</th>\n",
       "      <th>start</th>\n",
       "      <th>end</th>\n",
       "      <th>dayNumeric</th>\n",
       "      <th>DAY</th>\n",
       "      <th>WDWE</th>\n",
       "      <th>HOUR</th>\n",
       "      <th>durationSec</th>\n",
       "    </tr>\n",
       "  </thead>\n",
       "  <tbody>\n",
       "    <tr>\n",
       "      <th>0</th>\n",
       "      <td>67</td>\n",
       "      <td>bathroom_cabinet</td>\n",
       "      <td>2003-03-27 06:43:40</td>\n",
       "      <td>2003-03-27 06:43:43</td>\n",
       "      <td>3</td>\n",
       "      <td>Thu</td>\n",
       "      <td>WD</td>\n",
       "      <td>6</td>\n",
       "      <td>3</td>\n",
       "    </tr>\n",
       "    <tr>\n",
       "      <th>1</th>\n",
       "      <td>100</td>\n",
       "      <td>bathroom_toiletflush</td>\n",
       "      <td>2003-03-27 06:44:06</td>\n",
       "      <td>2003-03-27 07:12:41</td>\n",
       "      <td>3</td>\n",
       "      <td>Thu</td>\n",
       "      <td>WD</td>\n",
       "      <td>6</td>\n",
       "      <td>1715</td>\n",
       "    </tr>\n",
       "    <tr>\n",
       "      <th>2</th>\n",
       "      <td>101</td>\n",
       "      <td>bathroom_lightswitch</td>\n",
       "      <td>2003-03-27 06:44:20</td>\n",
       "      <td>2003-03-27 07:46:34</td>\n",
       "      <td>3</td>\n",
       "      <td>Thu</td>\n",
       "      <td>WD</td>\n",
       "      <td>6</td>\n",
       "      <td>3734</td>\n",
       "    </tr>\n",
       "    <tr>\n",
       "      <th>3</th>\n",
       "      <td>57</td>\n",
       "      <td>bathroom_medicinecabinet</td>\n",
       "      <td>2003-03-27 06:44:35</td>\n",
       "      <td>2003-03-27 06:44:48</td>\n",
       "      <td>3</td>\n",
       "      <td>Thu</td>\n",
       "      <td>WD</td>\n",
       "      <td>6</td>\n",
       "      <td>13</td>\n",
       "    </tr>\n",
       "    <tr>\n",
       "      <th>4</th>\n",
       "      <td>57</td>\n",
       "      <td>bathroom_medicinecabinet</td>\n",
       "      <td>2003-03-27 06:44:36</td>\n",
       "      <td>2003-03-27 06:44:48</td>\n",
       "      <td>3</td>\n",
       "      <td>Thu</td>\n",
       "      <td>WD</td>\n",
       "      <td>6</td>\n",
       "      <td>12</td>\n",
       "    </tr>\n",
       "  </tbody>\n",
       "</table>\n",
       "</div>"
      ],
      "text/plain": [
       "   subActNum                    subAct               start  \\\n",
       "0         67          bathroom_cabinet 2003-03-27 06:43:40   \n",
       "1        100      bathroom_toiletflush 2003-03-27 06:44:06   \n",
       "2        101      bathroom_lightswitch 2003-03-27 06:44:20   \n",
       "3         57  bathroom_medicinecabinet 2003-03-27 06:44:35   \n",
       "4         57  bathroom_medicinecabinet 2003-03-27 06:44:36   \n",
       "\n",
       "                  end dayNumeric  DAY WDWE  HOUR  durationSec  \n",
       "0 2003-03-27 06:43:43          3  Thu   WD     6            3  \n",
       "1 2003-03-27 07:12:41          3  Thu   WD     6         1715  \n",
       "2 2003-03-27 07:46:34          3  Thu   WD     6         3734  \n",
       "3 2003-03-27 06:44:48          3  Thu   WD     6           13  \n",
       "4 2003-03-27 06:44:48          3  Thu   WD     6           12  "
      ]
     },
     "execution_count": 82,
     "metadata": {},
     "output_type": "execute_result"
    }
   ],
   "source": [
    "ds.head(n=5)"
   ]
  },
  {
   "cell_type": "code",
   "execution_count": 83,
   "metadata": {},
   "outputs": [],
   "source": [
    "ds['durationSec'] = np.where(ds['subActNum'] == 100, 1, ds['durationSec'])"
   ]
  },
  {
   "cell_type": "code",
   "execution_count": 84,
   "metadata": {},
   "outputs": [],
   "source": [
    "from datetime import datetime, timedelta\n",
    "ds['end'] = np.where(ds['subActNum'] == 100, \n",
    "                     ds['start'] + timedelta(seconds=1), ds['end'])"
   ]
  },
  {
   "cell_type": "code",
   "execution_count": 85,
   "metadata": {},
   "outputs": [
    {
     "data": {
      "text/html": [
       "<div>\n",
       "<style scoped>\n",
       "    .dataframe tbody tr th:only-of-type {\n",
       "        vertical-align: middle;\n",
       "    }\n",
       "\n",
       "    .dataframe tbody tr th {\n",
       "        vertical-align: top;\n",
       "    }\n",
       "\n",
       "    .dataframe thead th {\n",
       "        text-align: right;\n",
       "    }\n",
       "</style>\n",
       "<table border=\"1\" class=\"dataframe\">\n",
       "  <thead>\n",
       "    <tr style=\"text-align: right;\">\n",
       "      <th></th>\n",
       "      <th>subActNum</th>\n",
       "      <th>subAct</th>\n",
       "      <th>start</th>\n",
       "      <th>end</th>\n",
       "      <th>dayNumeric</th>\n",
       "      <th>DAY</th>\n",
       "      <th>WDWE</th>\n",
       "      <th>HOUR</th>\n",
       "      <th>durationSec</th>\n",
       "    </tr>\n",
       "  </thead>\n",
       "  <tbody>\n",
       "    <tr>\n",
       "      <th>1</th>\n",
       "      <td>100</td>\n",
       "      <td>bathroom_toiletflush</td>\n",
       "      <td>2003-03-27 06:44:06</td>\n",
       "      <td>2003-03-27 06:44:07</td>\n",
       "      <td>3</td>\n",
       "      <td>Thu</td>\n",
       "      <td>WD</td>\n",
       "      <td>6</td>\n",
       "      <td>1</td>\n",
       "    </tr>\n",
       "    <tr>\n",
       "      <th>17</th>\n",
       "      <td>100</td>\n",
       "      <td>bathroom_toiletflush</td>\n",
       "      <td>2003-03-27 07:34:47</td>\n",
       "      <td>2003-03-27 07:34:48</td>\n",
       "      <td>3</td>\n",
       "      <td>Thu</td>\n",
       "      <td>WD</td>\n",
       "      <td>7</td>\n",
       "      <td>1</td>\n",
       "    </tr>\n",
       "    <tr>\n",
       "      <th>77</th>\n",
       "      <td>100</td>\n",
       "      <td>bathroom_toiletflush</td>\n",
       "      <td>2003-03-27 17:43:13</td>\n",
       "      <td>2003-03-27 17:43:14</td>\n",
       "      <td>3</td>\n",
       "      <td>Thu</td>\n",
       "      <td>WD</td>\n",
       "      <td>17</td>\n",
       "      <td>1</td>\n",
       "    </tr>\n",
       "    <tr>\n",
       "      <th>98</th>\n",
       "      <td>100</td>\n",
       "      <td>bathroom_toiletflush</td>\n",
       "      <td>2003-03-28 12:31:01</td>\n",
       "      <td>2003-03-28 12:31:02</td>\n",
       "      <td>4</td>\n",
       "      <td>Fri</td>\n",
       "      <td>WD</td>\n",
       "      <td>12</td>\n",
       "      <td>1</td>\n",
       "    </tr>\n",
       "    <tr>\n",
       "      <th>99</th>\n",
       "      <td>100</td>\n",
       "      <td>bathroom_toiletflush</td>\n",
       "      <td>2003-03-28 12:31:01</td>\n",
       "      <td>2003-03-28 12:31:02</td>\n",
       "      <td>4</td>\n",
       "      <td>Fri</td>\n",
       "      <td>WD</td>\n",
       "      <td>12</td>\n",
       "      <td>1</td>\n",
       "    </tr>\n",
       "  </tbody>\n",
       "</table>\n",
       "</div>"
      ],
      "text/plain": [
       "    subActNum                subAct               start                 end  \\\n",
       "1         100  bathroom_toiletflush 2003-03-27 06:44:06 2003-03-27 06:44:07   \n",
       "17        100  bathroom_toiletflush 2003-03-27 07:34:47 2003-03-27 07:34:48   \n",
       "77        100  bathroom_toiletflush 2003-03-27 17:43:13 2003-03-27 17:43:14   \n",
       "98        100  bathroom_toiletflush 2003-03-28 12:31:01 2003-03-28 12:31:02   \n",
       "99        100  bathroom_toiletflush 2003-03-28 12:31:01 2003-03-28 12:31:02   \n",
       "\n",
       "   dayNumeric  DAY WDWE  HOUR  durationSec  \n",
       "1           3  Thu   WD     6            1  \n",
       "17          3  Thu   WD     7            1  \n",
       "77          3  Thu   WD    17            1  \n",
       "98          4  Fri   WD    12            1  \n",
       "99          4  Fri   WD    12            1  "
      ]
     },
     "execution_count": 85,
     "metadata": {},
     "output_type": "execute_result"
    }
   ],
   "source": [
    "dsCheck = ds[ds.subActNum == 100]\n",
    "dsCheck.head()"
   ]
  },
  {
   "cell_type": "code",
   "execution_count": 86,
   "metadata": {},
   "outputs": [],
   "source": [
    "subActNames = ['bathroom_cabinet', 'bathroom_medicinecabinet', 'study_drawer', \n",
    "                'bedroom_drawer', 'kitchen_cabinet', 'kitchen_microwave', \n",
    "                'kitchen_door', 'bathroom_showerfaucet', 'kitchen_drawer', \n",
    "                'bathroom_sinkfaucet-hot', 'kitchen_freezer', 'bathroom_door',\n",
    "                'kitchen_toaster']"
   ]
  },
  {
   "cell_type": "code",
   "execution_count": 87,
   "metadata": {},
   "outputs": [],
   "source": [
    "# https://medium.com/datadriveninvestor/finding-outliers-in-dataset-using-python-efc3fce6ce32\n",
    "\n",
    "import numpy as np\n",
    "import pandas as pd\n",
    "\n",
    "def detect_outlier(data_1):\n",
    "    outliers=[]\n",
    "    threshold = 1\n",
    "    mean_1 = np.mean(data_1)\n",
    "    std_1 =np.std(data_1)\n",
    "    \n",
    "    \n",
    "    for y in data_1:\n",
    "        z_score = (y - mean_1)/std_1 \n",
    "        if np.abs(z_score) > threshold:\n",
    "            outliers.append(y)\n",
    "    return outliers"
   ]
  },
  {
   "cell_type": "code",
   "execution_count": 88,
   "metadata": {},
   "outputs": [],
   "source": [
    "subActRows = []\n",
    "\n",
    "for subActName in subActNames:\n",
    "    dsNew = ds[ds.subAct == subActName]\n",
    "    dsNew = dsNew[dsNew.WDWE == 'WD']\n",
    "    count = dsNew.durationSec.count()\n",
    "    median = dsNew.durationSec.median() \n",
    "    outliers = detect_outlier(dsNew['durationSec'])\n",
    "    \n",
    "    column = {'SubAct': subActName,'Count': count,'Median': median, 'Outliers': outliers}\n",
    "    subActRows.append(column)\n",
    "\n",
    "weekDayMedianValues = pd.DataFrame(subActRows, index=None, \n",
    "                            columns=['SubAct', 'Count', 'Median', 'Outliers'])"
   ]
  },
  {
   "cell_type": "code",
   "execution_count": 89,
   "metadata": {},
   "outputs": [
    {
     "data": {
      "text/html": [
       "<div>\n",
       "<style scoped>\n",
       "    .dataframe tbody tr th:only-of-type {\n",
       "        vertical-align: middle;\n",
       "    }\n",
       "\n",
       "    .dataframe tbody tr th {\n",
       "        vertical-align: top;\n",
       "    }\n",
       "\n",
       "    .dataframe thead th {\n",
       "        text-align: right;\n",
       "    }\n",
       "</style>\n",
       "<table border=\"1\" class=\"dataframe\">\n",
       "  <thead>\n",
       "    <tr style=\"text-align: right;\">\n",
       "      <th></th>\n",
       "      <th>SubAct</th>\n",
       "      <th>Count</th>\n",
       "      <th>Median</th>\n",
       "      <th>Outliers</th>\n",
       "    </tr>\n",
       "  </thead>\n",
       "  <tbody>\n",
       "    <tr>\n",
       "      <th>0</th>\n",
       "      <td>bathroom_cabinet</td>\n",
       "      <td>78</td>\n",
       "      <td>3.0</td>\n",
       "      <td>[19846]</td>\n",
       "    </tr>\n",
       "    <tr>\n",
       "      <th>1</th>\n",
       "      <td>bathroom_medicinecabinet</td>\n",
       "      <td>145</td>\n",
       "      <td>74.0</td>\n",
       "      <td>[16960, 22446, 26569, 35314, 15572, 30019, 300...</td>\n",
       "    </tr>\n",
       "    <tr>\n",
       "      <th>2</th>\n",
       "      <td>study_drawer</td>\n",
       "      <td>39</td>\n",
       "      <td>4.0</td>\n",
       "      <td>[9924, 5547, 11508, 9401]</td>\n",
       "    </tr>\n",
       "    <tr>\n",
       "      <th>3</th>\n",
       "      <td>bedroom_drawer</td>\n",
       "      <td>73</td>\n",
       "      <td>9.0</td>\n",
       "      <td>[16787, 9291]</td>\n",
       "    </tr>\n",
       "    <tr>\n",
       "      <th>4</th>\n",
       "      <td>kitchen_cabinet</td>\n",
       "      <td>255</td>\n",
       "      <td>6.0</td>\n",
       "      <td>[37569]</td>\n",
       "    </tr>\n",
       "    <tr>\n",
       "      <th>5</th>\n",
       "      <td>kitchen_microwave</td>\n",
       "      <td>40</td>\n",
       "      <td>6.0</td>\n",
       "      <td>[22414]</td>\n",
       "    </tr>\n",
       "    <tr>\n",
       "      <th>6</th>\n",
       "      <td>kitchen_door</td>\n",
       "      <td>42</td>\n",
       "      <td>18.0</td>\n",
       "      <td>[1815, 588]</td>\n",
       "    </tr>\n",
       "    <tr>\n",
       "      <th>7</th>\n",
       "      <td>bathroom_showerfaucet</td>\n",
       "      <td>48</td>\n",
       "      <td>176.0</td>\n",
       "      <td>[40029, 15741, 12569, 33495, 12498, 26214]</td>\n",
       "    </tr>\n",
       "    <tr>\n",
       "      <th>8</th>\n",
       "      <td>kitchen_drawer</td>\n",
       "      <td>92</td>\n",
       "      <td>3.5</td>\n",
       "      <td>[41, 95, 48, 120, 54, 41, 116, 116]</td>\n",
       "    </tr>\n",
       "    <tr>\n",
       "      <th>9</th>\n",
       "      <td>bathroom_sinkfaucet-hot</td>\n",
       "      <td>126</td>\n",
       "      <td>10.0</td>\n",
       "      <td>[97, 67, 68, 53, 64, 92, 83, 51, 46, 173, 144,...</td>\n",
       "    </tr>\n",
       "    <tr>\n",
       "      <th>10</th>\n",
       "      <td>kitchen_freezer</td>\n",
       "      <td>81</td>\n",
       "      <td>28.0</td>\n",
       "      <td>[16704, 26629, 11721, 19192, 8415, 12571, 1142...</td>\n",
       "    </tr>\n",
       "    <tr>\n",
       "      <th>11</th>\n",
       "      <td>bathroom_door</td>\n",
       "      <td>51</td>\n",
       "      <td>19.0</td>\n",
       "      <td>[10152]</td>\n",
       "    </tr>\n",
       "    <tr>\n",
       "      <th>12</th>\n",
       "      <td>kitchen_toaster</td>\n",
       "      <td>47</td>\n",
       "      <td>5.0</td>\n",
       "      <td>[9496, 9496, 7943, 28429]</td>\n",
       "    </tr>\n",
       "  </tbody>\n",
       "</table>\n",
       "</div>"
      ],
      "text/plain": [
       "                      SubAct  Count  Median  \\\n",
       "0           bathroom_cabinet     78     3.0   \n",
       "1   bathroom_medicinecabinet    145    74.0   \n",
       "2               study_drawer     39     4.0   \n",
       "3             bedroom_drawer     73     9.0   \n",
       "4            kitchen_cabinet    255     6.0   \n",
       "5          kitchen_microwave     40     6.0   \n",
       "6               kitchen_door     42    18.0   \n",
       "7      bathroom_showerfaucet     48   176.0   \n",
       "8             kitchen_drawer     92     3.5   \n",
       "9    bathroom_sinkfaucet-hot    126    10.0   \n",
       "10           kitchen_freezer     81    28.0   \n",
       "11             bathroom_door     51    19.0   \n",
       "12           kitchen_toaster     47     5.0   \n",
       "\n",
       "                                             Outliers  \n",
       "0                                             [19846]  \n",
       "1   [16960, 22446, 26569, 35314, 15572, 30019, 300...  \n",
       "2                           [9924, 5547, 11508, 9401]  \n",
       "3                                       [16787, 9291]  \n",
       "4                                             [37569]  \n",
       "5                                             [22414]  \n",
       "6                                         [1815, 588]  \n",
       "7          [40029, 15741, 12569, 33495, 12498, 26214]  \n",
       "8                 [41, 95, 48, 120, 54, 41, 116, 116]  \n",
       "9   [97, 67, 68, 53, 64, 92, 83, 51, 46, 173, 144,...  \n",
       "10  [16704, 26629, 11721, 19192, 8415, 12571, 1142...  \n",
       "11                                            [10152]  \n",
       "12                          [9496, 9496, 7943, 28429]  "
      ]
     },
     "execution_count": 89,
     "metadata": {},
     "output_type": "execute_result"
    }
   ],
   "source": [
    "weekDayMedianValues"
   ]
  },
  {
   "cell_type": "code",
   "execution_count": 90,
   "metadata": {},
   "outputs": [],
   "source": [
    "s = weekDayMedianValues.apply(lambda x: pd.Series(x['Outliers']), \n",
    "                              axis=1).stack().reset_index(level=1, drop=True)\n",
    "s.name = 'durationValues'\n",
    "weekDayValues = weekDayMedianValues.drop('Outliers', axis=1).join(s)"
   ]
  },
  {
   "cell_type": "code",
   "execution_count": 91,
   "metadata": {},
   "outputs": [],
   "source": [
    "weekDayValues['WDWE'] = 'WD'\n",
    "weekDayValues['durationValues'] = weekDayValues.durationValues.astype(int)\n",
    "weekDayValues['Median'] = weekDayValues.Median.astype(int)"
   ]
  },
  {
   "cell_type": "code",
   "execution_count": 92,
   "metadata": {},
   "outputs": [
    {
     "data": {
      "text/html": [
       "<div>\n",
       "<style scoped>\n",
       "    .dataframe tbody tr th:only-of-type {\n",
       "        vertical-align: middle;\n",
       "    }\n",
       "\n",
       "    .dataframe tbody tr th {\n",
       "        vertical-align: top;\n",
       "    }\n",
       "\n",
       "    .dataframe thead th {\n",
       "        text-align: right;\n",
       "    }\n",
       "</style>\n",
       "<table border=\"1\" class=\"dataframe\">\n",
       "  <thead>\n",
       "    <tr style=\"text-align: right;\">\n",
       "      <th></th>\n",
       "      <th>SubAct</th>\n",
       "      <th>Count</th>\n",
       "      <th>Median</th>\n",
       "      <th>durationValues</th>\n",
       "      <th>WDWE</th>\n",
       "    </tr>\n",
       "  </thead>\n",
       "  <tbody>\n",
       "    <tr>\n",
       "      <th>0</th>\n",
       "      <td>bathroom_cabinet</td>\n",
       "      <td>78</td>\n",
       "      <td>3</td>\n",
       "      <td>19846</td>\n",
       "      <td>WD</td>\n",
       "    </tr>\n",
       "    <tr>\n",
       "      <th>1</th>\n",
       "      <td>bathroom_medicinecabinet</td>\n",
       "      <td>145</td>\n",
       "      <td>74</td>\n",
       "      <td>16960</td>\n",
       "      <td>WD</td>\n",
       "    </tr>\n",
       "    <tr>\n",
       "      <th>1</th>\n",
       "      <td>bathroom_medicinecabinet</td>\n",
       "      <td>145</td>\n",
       "      <td>74</td>\n",
       "      <td>22446</td>\n",
       "      <td>WD</td>\n",
       "    </tr>\n",
       "    <tr>\n",
       "      <th>1</th>\n",
       "      <td>bathroom_medicinecabinet</td>\n",
       "      <td>145</td>\n",
       "      <td>74</td>\n",
       "      <td>26569</td>\n",
       "      <td>WD</td>\n",
       "    </tr>\n",
       "    <tr>\n",
       "      <th>1</th>\n",
       "      <td>bathroom_medicinecabinet</td>\n",
       "      <td>145</td>\n",
       "      <td>74</td>\n",
       "      <td>35314</td>\n",
       "      <td>WD</td>\n",
       "    </tr>\n",
       "    <tr>\n",
       "      <th>1</th>\n",
       "      <td>bathroom_medicinecabinet</td>\n",
       "      <td>145</td>\n",
       "      <td>74</td>\n",
       "      <td>15572</td>\n",
       "      <td>WD</td>\n",
       "    </tr>\n",
       "    <tr>\n",
       "      <th>1</th>\n",
       "      <td>bathroom_medicinecabinet</td>\n",
       "      <td>145</td>\n",
       "      <td>74</td>\n",
       "      <td>30019</td>\n",
       "      <td>WD</td>\n",
       "    </tr>\n",
       "    <tr>\n",
       "      <th>1</th>\n",
       "      <td>bathroom_medicinecabinet</td>\n",
       "      <td>145</td>\n",
       "      <td>74</td>\n",
       "      <td>30019</td>\n",
       "      <td>WD</td>\n",
       "    </tr>\n",
       "    <tr>\n",
       "      <th>1</th>\n",
       "      <td>bathroom_medicinecabinet</td>\n",
       "      <td>145</td>\n",
       "      <td>74</td>\n",
       "      <td>14769</td>\n",
       "      <td>WD</td>\n",
       "    </tr>\n",
       "    <tr>\n",
       "      <th>1</th>\n",
       "      <td>bathroom_medicinecabinet</td>\n",
       "      <td>145</td>\n",
       "      <td>74</td>\n",
       "      <td>14769</td>\n",
       "      <td>WD</td>\n",
       "    </tr>\n",
       "    <tr>\n",
       "      <th>1</th>\n",
       "      <td>bathroom_medicinecabinet</td>\n",
       "      <td>145</td>\n",
       "      <td>74</td>\n",
       "      <td>16193</td>\n",
       "      <td>WD</td>\n",
       "    </tr>\n",
       "    <tr>\n",
       "      <th>1</th>\n",
       "      <td>bathroom_medicinecabinet</td>\n",
       "      <td>145</td>\n",
       "      <td>74</td>\n",
       "      <td>22870</td>\n",
       "      <td>WD</td>\n",
       "    </tr>\n",
       "    <tr>\n",
       "      <th>1</th>\n",
       "      <td>bathroom_medicinecabinet</td>\n",
       "      <td>145</td>\n",
       "      <td>74</td>\n",
       "      <td>13636</td>\n",
       "      <td>WD</td>\n",
       "    </tr>\n",
       "    <tr>\n",
       "      <th>1</th>\n",
       "      <td>bathroom_medicinecabinet</td>\n",
       "      <td>145</td>\n",
       "      <td>74</td>\n",
       "      <td>31540</td>\n",
       "      <td>WD</td>\n",
       "    </tr>\n",
       "    <tr>\n",
       "      <th>1</th>\n",
       "      <td>bathroom_medicinecabinet</td>\n",
       "      <td>145</td>\n",
       "      <td>74</td>\n",
       "      <td>14545</td>\n",
       "      <td>WD</td>\n",
       "    </tr>\n",
       "    <tr>\n",
       "      <th>1</th>\n",
       "      <td>bathroom_medicinecabinet</td>\n",
       "      <td>145</td>\n",
       "      <td>74</td>\n",
       "      <td>37273</td>\n",
       "      <td>WD</td>\n",
       "    </tr>\n",
       "    <tr>\n",
       "      <th>1</th>\n",
       "      <td>bathroom_medicinecabinet</td>\n",
       "      <td>145</td>\n",
       "      <td>74</td>\n",
       "      <td>17207</td>\n",
       "      <td>WD</td>\n",
       "    </tr>\n",
       "    <tr>\n",
       "      <th>1</th>\n",
       "      <td>bathroom_medicinecabinet</td>\n",
       "      <td>145</td>\n",
       "      <td>74</td>\n",
       "      <td>14278</td>\n",
       "      <td>WD</td>\n",
       "    </tr>\n",
       "    <tr>\n",
       "      <th>2</th>\n",
       "      <td>study_drawer</td>\n",
       "      <td>39</td>\n",
       "      <td>4</td>\n",
       "      <td>9924</td>\n",
       "      <td>WD</td>\n",
       "    </tr>\n",
       "    <tr>\n",
       "      <th>2</th>\n",
       "      <td>study_drawer</td>\n",
       "      <td>39</td>\n",
       "      <td>4</td>\n",
       "      <td>5547</td>\n",
       "      <td>WD</td>\n",
       "    </tr>\n",
       "    <tr>\n",
       "      <th>2</th>\n",
       "      <td>study_drawer</td>\n",
       "      <td>39</td>\n",
       "      <td>4</td>\n",
       "      <td>11508</td>\n",
       "      <td>WD</td>\n",
       "    </tr>\n",
       "    <tr>\n",
       "      <th>2</th>\n",
       "      <td>study_drawer</td>\n",
       "      <td>39</td>\n",
       "      <td>4</td>\n",
       "      <td>9401</td>\n",
       "      <td>WD</td>\n",
       "    </tr>\n",
       "    <tr>\n",
       "      <th>3</th>\n",
       "      <td>bedroom_drawer</td>\n",
       "      <td>73</td>\n",
       "      <td>9</td>\n",
       "      <td>16787</td>\n",
       "      <td>WD</td>\n",
       "    </tr>\n",
       "    <tr>\n",
       "      <th>3</th>\n",
       "      <td>bedroom_drawer</td>\n",
       "      <td>73</td>\n",
       "      <td>9</td>\n",
       "      <td>9291</td>\n",
       "      <td>WD</td>\n",
       "    </tr>\n",
       "    <tr>\n",
       "      <th>4</th>\n",
       "      <td>kitchen_cabinet</td>\n",
       "      <td>255</td>\n",
       "      <td>6</td>\n",
       "      <td>37569</td>\n",
       "      <td>WD</td>\n",
       "    </tr>\n",
       "    <tr>\n",
       "      <th>5</th>\n",
       "      <td>kitchen_microwave</td>\n",
       "      <td>40</td>\n",
       "      <td>6</td>\n",
       "      <td>22414</td>\n",
       "      <td>WD</td>\n",
       "    </tr>\n",
       "    <tr>\n",
       "      <th>6</th>\n",
       "      <td>kitchen_door</td>\n",
       "      <td>42</td>\n",
       "      <td>18</td>\n",
       "      <td>1815</td>\n",
       "      <td>WD</td>\n",
       "    </tr>\n",
       "    <tr>\n",
       "      <th>6</th>\n",
       "      <td>kitchen_door</td>\n",
       "      <td>42</td>\n",
       "      <td>18</td>\n",
       "      <td>588</td>\n",
       "      <td>WD</td>\n",
       "    </tr>\n",
       "    <tr>\n",
       "      <th>7</th>\n",
       "      <td>bathroom_showerfaucet</td>\n",
       "      <td>48</td>\n",
       "      <td>176</td>\n",
       "      <td>40029</td>\n",
       "      <td>WD</td>\n",
       "    </tr>\n",
       "    <tr>\n",
       "      <th>7</th>\n",
       "      <td>bathroom_showerfaucet</td>\n",
       "      <td>48</td>\n",
       "      <td>176</td>\n",
       "      <td>15741</td>\n",
       "      <td>WD</td>\n",
       "    </tr>\n",
       "    <tr>\n",
       "      <th>...</th>\n",
       "      <td>...</td>\n",
       "      <td>...</td>\n",
       "      <td>...</td>\n",
       "      <td>...</td>\n",
       "      <td>...</td>\n",
       "    </tr>\n",
       "    <tr>\n",
       "      <th>8</th>\n",
       "      <td>kitchen_drawer</td>\n",
       "      <td>92</td>\n",
       "      <td>3</td>\n",
       "      <td>54</td>\n",
       "      <td>WD</td>\n",
       "    </tr>\n",
       "    <tr>\n",
       "      <th>8</th>\n",
       "      <td>kitchen_drawer</td>\n",
       "      <td>92</td>\n",
       "      <td>3</td>\n",
       "      <td>41</td>\n",
       "      <td>WD</td>\n",
       "    </tr>\n",
       "    <tr>\n",
       "      <th>8</th>\n",
       "      <td>kitchen_drawer</td>\n",
       "      <td>92</td>\n",
       "      <td>3</td>\n",
       "      <td>116</td>\n",
       "      <td>WD</td>\n",
       "    </tr>\n",
       "    <tr>\n",
       "      <th>8</th>\n",
       "      <td>kitchen_drawer</td>\n",
       "      <td>92</td>\n",
       "      <td>3</td>\n",
       "      <td>116</td>\n",
       "      <td>WD</td>\n",
       "    </tr>\n",
       "    <tr>\n",
       "      <th>9</th>\n",
       "      <td>bathroom_sinkfaucet-hot</td>\n",
       "      <td>126</td>\n",
       "      <td>10</td>\n",
       "      <td>97</td>\n",
       "      <td>WD</td>\n",
       "    </tr>\n",
       "    <tr>\n",
       "      <th>9</th>\n",
       "      <td>bathroom_sinkfaucet-hot</td>\n",
       "      <td>126</td>\n",
       "      <td>10</td>\n",
       "      <td>67</td>\n",
       "      <td>WD</td>\n",
       "    </tr>\n",
       "    <tr>\n",
       "      <th>9</th>\n",
       "      <td>bathroom_sinkfaucet-hot</td>\n",
       "      <td>126</td>\n",
       "      <td>10</td>\n",
       "      <td>68</td>\n",
       "      <td>WD</td>\n",
       "    </tr>\n",
       "    <tr>\n",
       "      <th>9</th>\n",
       "      <td>bathroom_sinkfaucet-hot</td>\n",
       "      <td>126</td>\n",
       "      <td>10</td>\n",
       "      <td>53</td>\n",
       "      <td>WD</td>\n",
       "    </tr>\n",
       "    <tr>\n",
       "      <th>9</th>\n",
       "      <td>bathroom_sinkfaucet-hot</td>\n",
       "      <td>126</td>\n",
       "      <td>10</td>\n",
       "      <td>64</td>\n",
       "      <td>WD</td>\n",
       "    </tr>\n",
       "    <tr>\n",
       "      <th>9</th>\n",
       "      <td>bathroom_sinkfaucet-hot</td>\n",
       "      <td>126</td>\n",
       "      <td>10</td>\n",
       "      <td>92</td>\n",
       "      <td>WD</td>\n",
       "    </tr>\n",
       "    <tr>\n",
       "      <th>9</th>\n",
       "      <td>bathroom_sinkfaucet-hot</td>\n",
       "      <td>126</td>\n",
       "      <td>10</td>\n",
       "      <td>83</td>\n",
       "      <td>WD</td>\n",
       "    </tr>\n",
       "    <tr>\n",
       "      <th>9</th>\n",
       "      <td>bathroom_sinkfaucet-hot</td>\n",
       "      <td>126</td>\n",
       "      <td>10</td>\n",
       "      <td>51</td>\n",
       "      <td>WD</td>\n",
       "    </tr>\n",
       "    <tr>\n",
       "      <th>9</th>\n",
       "      <td>bathroom_sinkfaucet-hot</td>\n",
       "      <td>126</td>\n",
       "      <td>10</td>\n",
       "      <td>46</td>\n",
       "      <td>WD</td>\n",
       "    </tr>\n",
       "    <tr>\n",
       "      <th>9</th>\n",
       "      <td>bathroom_sinkfaucet-hot</td>\n",
       "      <td>126</td>\n",
       "      <td>10</td>\n",
       "      <td>173</td>\n",
       "      <td>WD</td>\n",
       "    </tr>\n",
       "    <tr>\n",
       "      <th>9</th>\n",
       "      <td>bathroom_sinkfaucet-hot</td>\n",
       "      <td>126</td>\n",
       "      <td>10</td>\n",
       "      <td>144</td>\n",
       "      <td>WD</td>\n",
       "    </tr>\n",
       "    <tr>\n",
       "      <th>9</th>\n",
       "      <td>bathroom_sinkfaucet-hot</td>\n",
       "      <td>126</td>\n",
       "      <td>10</td>\n",
       "      <td>50</td>\n",
       "      <td>WD</td>\n",
       "    </tr>\n",
       "    <tr>\n",
       "      <th>10</th>\n",
       "      <td>kitchen_freezer</td>\n",
       "      <td>81</td>\n",
       "      <td>28</td>\n",
       "      <td>16704</td>\n",
       "      <td>WD</td>\n",
       "    </tr>\n",
       "    <tr>\n",
       "      <th>10</th>\n",
       "      <td>kitchen_freezer</td>\n",
       "      <td>81</td>\n",
       "      <td>28</td>\n",
       "      <td>26629</td>\n",
       "      <td>WD</td>\n",
       "    </tr>\n",
       "    <tr>\n",
       "      <th>10</th>\n",
       "      <td>kitchen_freezer</td>\n",
       "      <td>81</td>\n",
       "      <td>28</td>\n",
       "      <td>11721</td>\n",
       "      <td>WD</td>\n",
       "    </tr>\n",
       "    <tr>\n",
       "      <th>10</th>\n",
       "      <td>kitchen_freezer</td>\n",
       "      <td>81</td>\n",
       "      <td>28</td>\n",
       "      <td>19192</td>\n",
       "      <td>WD</td>\n",
       "    </tr>\n",
       "    <tr>\n",
       "      <th>10</th>\n",
       "      <td>kitchen_freezer</td>\n",
       "      <td>81</td>\n",
       "      <td>28</td>\n",
       "      <td>8415</td>\n",
       "      <td>WD</td>\n",
       "    </tr>\n",
       "    <tr>\n",
       "      <th>10</th>\n",
       "      <td>kitchen_freezer</td>\n",
       "      <td>81</td>\n",
       "      <td>28</td>\n",
       "      <td>12571</td>\n",
       "      <td>WD</td>\n",
       "    </tr>\n",
       "    <tr>\n",
       "      <th>10</th>\n",
       "      <td>kitchen_freezer</td>\n",
       "      <td>81</td>\n",
       "      <td>28</td>\n",
       "      <td>11427</td>\n",
       "      <td>WD</td>\n",
       "    </tr>\n",
       "    <tr>\n",
       "      <th>10</th>\n",
       "      <td>kitchen_freezer</td>\n",
       "      <td>81</td>\n",
       "      <td>28</td>\n",
       "      <td>12078</td>\n",
       "      <td>WD</td>\n",
       "    </tr>\n",
       "    <tr>\n",
       "      <th>10</th>\n",
       "      <td>kitchen_freezer</td>\n",
       "      <td>81</td>\n",
       "      <td>28</td>\n",
       "      <td>19468</td>\n",
       "      <td>WD</td>\n",
       "    </tr>\n",
       "    <tr>\n",
       "      <th>11</th>\n",
       "      <td>bathroom_door</td>\n",
       "      <td>51</td>\n",
       "      <td>19</td>\n",
       "      <td>10152</td>\n",
       "      <td>WD</td>\n",
       "    </tr>\n",
       "    <tr>\n",
       "      <th>12</th>\n",
       "      <td>kitchen_toaster</td>\n",
       "      <td>47</td>\n",
       "      <td>5</td>\n",
       "      <td>9496</td>\n",
       "      <td>WD</td>\n",
       "    </tr>\n",
       "    <tr>\n",
       "      <th>12</th>\n",
       "      <td>kitchen_toaster</td>\n",
       "      <td>47</td>\n",
       "      <td>5</td>\n",
       "      <td>9496</td>\n",
       "      <td>WD</td>\n",
       "    </tr>\n",
       "    <tr>\n",
       "      <th>12</th>\n",
       "      <td>kitchen_toaster</td>\n",
       "      <td>47</td>\n",
       "      <td>5</td>\n",
       "      <td>7943</td>\n",
       "      <td>WD</td>\n",
       "    </tr>\n",
       "    <tr>\n",
       "      <th>12</th>\n",
       "      <td>kitchen_toaster</td>\n",
       "      <td>47</td>\n",
       "      <td>5</td>\n",
       "      <td>28429</td>\n",
       "      <td>WD</td>\n",
       "    </tr>\n",
       "  </tbody>\n",
       "</table>\n",
       "<p>68 rows × 5 columns</p>\n",
       "</div>"
      ],
      "text/plain": [
       "                      SubAct  Count  Median  durationValues WDWE\n",
       "0           bathroom_cabinet     78       3           19846   WD\n",
       "1   bathroom_medicinecabinet    145      74           16960   WD\n",
       "1   bathroom_medicinecabinet    145      74           22446   WD\n",
       "1   bathroom_medicinecabinet    145      74           26569   WD\n",
       "1   bathroom_medicinecabinet    145      74           35314   WD\n",
       "..                       ...    ...     ...             ...  ...\n",
       "11             bathroom_door     51      19           10152   WD\n",
       "12           kitchen_toaster     47       5            9496   WD\n",
       "12           kitchen_toaster     47       5            9496   WD\n",
       "12           kitchen_toaster     47       5            7943   WD\n",
       "12           kitchen_toaster     47       5           28429   WD\n",
       "\n",
       "[68 rows x 5 columns]"
      ]
     },
     "execution_count": 92,
     "metadata": {},
     "output_type": "execute_result"
    }
   ],
   "source": [
    "weekDayValues"
   ]
  },
  {
   "cell_type": "code",
   "execution_count": 93,
   "metadata": {},
   "outputs": [],
   "source": [
    "subActRows = []\n",
    "for subActName in subActNames:\n",
    "    dsNew = ds[ds.subAct == subActName]\n",
    "    dsNew = dsNew[dsNew.WDWE == 'WE']\n",
    "    count = dsNew.durationSec.count()\n",
    "    median = dsNew.durationSec.median() \n",
    "    outliers = detect_outlier(dsNew['durationSec'])\n",
    "    \n",
    "    column = {'SubAct': subActName,'Count': count,'Median': median, 'Outliers': outliers}\n",
    "    subActRows.append(column)\n",
    "\n",
    "weekendMedianValues = pd.DataFrame(subActRows, index=None, \n",
    "                            columns=['SubAct', 'Count', 'Median', 'Outliers'])"
   ]
  },
  {
   "cell_type": "code",
   "execution_count": 94,
   "metadata": {},
   "outputs": [],
   "source": [
    "s = weekendMedianValues.apply(lambda x: pd.Series(x['Outliers']), \n",
    "                              axis=1).stack().reset_index(level=1, drop=True)\n",
    "s.name = 'durationValues'\n",
    "weekendValues = weekendMedianValues.drop('Outliers', axis=1).join(s)"
   ]
  },
  {
   "cell_type": "code",
   "execution_count": 95,
   "metadata": {},
   "outputs": [],
   "source": [
    "weekendValues['WDWE'] = 'WE'\n",
    "weekendValues['durationValues'] = weekendValues.durationValues.astype(int)\n",
    "weekendValues['Median'] = weekendValues.Median.astype(int)"
   ]
  },
  {
   "cell_type": "code",
   "execution_count": 96,
   "metadata": {},
   "outputs": [
    {
     "data": {
      "text/html": [
       "<div>\n",
       "<style scoped>\n",
       "    .dataframe tbody tr th:only-of-type {\n",
       "        vertical-align: middle;\n",
       "    }\n",
       "\n",
       "    .dataframe tbody tr th {\n",
       "        vertical-align: top;\n",
       "    }\n",
       "\n",
       "    .dataframe thead th {\n",
       "        text-align: right;\n",
       "    }\n",
       "</style>\n",
       "<table border=\"1\" class=\"dataframe\">\n",
       "  <thead>\n",
       "    <tr style=\"text-align: right;\">\n",
       "      <th></th>\n",
       "      <th>SubAct</th>\n",
       "      <th>Count</th>\n",
       "      <th>Median</th>\n",
       "      <th>durationValues</th>\n",
       "      <th>WDWE</th>\n",
       "    </tr>\n",
       "  </thead>\n",
       "  <tbody>\n",
       "    <tr>\n",
       "      <th>0</th>\n",
       "      <td>bathroom_cabinet</td>\n",
       "      <td>26</td>\n",
       "      <td>2</td>\n",
       "      <td>25775</td>\n",
       "      <td>WE</td>\n",
       "    </tr>\n",
       "    <tr>\n",
       "      <th>1</th>\n",
       "      <td>bathroom_medicinecabinet</td>\n",
       "      <td>49</td>\n",
       "      <td>104</td>\n",
       "      <td>14473</td>\n",
       "      <td>WE</td>\n",
       "    </tr>\n",
       "    <tr>\n",
       "      <th>1</th>\n",
       "      <td>bathroom_medicinecabinet</td>\n",
       "      <td>49</td>\n",
       "      <td>104</td>\n",
       "      <td>10785</td>\n",
       "      <td>WE</td>\n",
       "    </tr>\n",
       "    <tr>\n",
       "      <th>1</th>\n",
       "      <td>bathroom_medicinecabinet</td>\n",
       "      <td>49</td>\n",
       "      <td>104</td>\n",
       "      <td>19324</td>\n",
       "      <td>WE</td>\n",
       "    </tr>\n",
       "    <tr>\n",
       "      <th>1</th>\n",
       "      <td>bathroom_medicinecabinet</td>\n",
       "      <td>49</td>\n",
       "      <td>104</td>\n",
       "      <td>23600</td>\n",
       "      <td>WE</td>\n",
       "    </tr>\n",
       "    <tr>\n",
       "      <th>1</th>\n",
       "      <td>bathroom_medicinecabinet</td>\n",
       "      <td>49</td>\n",
       "      <td>104</td>\n",
       "      <td>30768</td>\n",
       "      <td>WE</td>\n",
       "    </tr>\n",
       "    <tr>\n",
       "      <th>1</th>\n",
       "      <td>bathroom_medicinecabinet</td>\n",
       "      <td>49</td>\n",
       "      <td>104</td>\n",
       "      <td>12307</td>\n",
       "      <td>WE</td>\n",
       "    </tr>\n",
       "    <tr>\n",
       "      <th>1</th>\n",
       "      <td>bathroom_medicinecabinet</td>\n",
       "      <td>49</td>\n",
       "      <td>104</td>\n",
       "      <td>10813</td>\n",
       "      <td>WE</td>\n",
       "    </tr>\n",
       "    <tr>\n",
       "      <th>2</th>\n",
       "      <td>study_drawer</td>\n",
       "      <td>6</td>\n",
       "      <td>15</td>\n",
       "      <td>32613</td>\n",
       "      <td>WE</td>\n",
       "    </tr>\n",
       "    <tr>\n",
       "      <th>3</th>\n",
       "      <td>bedroom_drawer</td>\n",
       "      <td>26</td>\n",
       "      <td>7</td>\n",
       "      <td>1</td>\n",
       "      <td>WE</td>\n",
       "    </tr>\n",
       "    <tr>\n",
       "      <th>3</th>\n",
       "      <td>bedroom_drawer</td>\n",
       "      <td>26</td>\n",
       "      <td>7</td>\n",
       "      <td>25</td>\n",
       "      <td>WE</td>\n",
       "    </tr>\n",
       "    <tr>\n",
       "      <th>3</th>\n",
       "      <td>bedroom_drawer</td>\n",
       "      <td>26</td>\n",
       "      <td>7</td>\n",
       "      <td>1</td>\n",
       "      <td>WE</td>\n",
       "    </tr>\n",
       "    <tr>\n",
       "      <th>3</th>\n",
       "      <td>bedroom_drawer</td>\n",
       "      <td>26</td>\n",
       "      <td>7</td>\n",
       "      <td>31</td>\n",
       "      <td>WE</td>\n",
       "    </tr>\n",
       "    <tr>\n",
       "      <th>3</th>\n",
       "      <td>bedroom_drawer</td>\n",
       "      <td>26</td>\n",
       "      <td>7</td>\n",
       "      <td>26</td>\n",
       "      <td>WE</td>\n",
       "    </tr>\n",
       "    <tr>\n",
       "      <th>3</th>\n",
       "      <td>bedroom_drawer</td>\n",
       "      <td>26</td>\n",
       "      <td>7</td>\n",
       "      <td>1</td>\n",
       "      <td>WE</td>\n",
       "    </tr>\n",
       "    <tr>\n",
       "      <th>3</th>\n",
       "      <td>bedroom_drawer</td>\n",
       "      <td>26</td>\n",
       "      <td>7</td>\n",
       "      <td>21</td>\n",
       "      <td>WE</td>\n",
       "    </tr>\n",
       "    <tr>\n",
       "      <th>4</th>\n",
       "      <td>kitchen_cabinet</td>\n",
       "      <td>151</td>\n",
       "      <td>6</td>\n",
       "      <td>132</td>\n",
       "      <td>WE</td>\n",
       "    </tr>\n",
       "    <tr>\n",
       "      <th>4</th>\n",
       "      <td>kitchen_cabinet</td>\n",
       "      <td>151</td>\n",
       "      <td>6</td>\n",
       "      <td>122</td>\n",
       "      <td>WE</td>\n",
       "    </tr>\n",
       "    <tr>\n",
       "      <th>4</th>\n",
       "      <td>kitchen_cabinet</td>\n",
       "      <td>151</td>\n",
       "      <td>6</td>\n",
       "      <td>288</td>\n",
       "      <td>WE</td>\n",
       "    </tr>\n",
       "    <tr>\n",
       "      <th>4</th>\n",
       "      <td>kitchen_cabinet</td>\n",
       "      <td>151</td>\n",
       "      <td>6</td>\n",
       "      <td>245</td>\n",
       "      <td>WE</td>\n",
       "    </tr>\n",
       "    <tr>\n",
       "      <th>4</th>\n",
       "      <td>kitchen_cabinet</td>\n",
       "      <td>151</td>\n",
       "      <td>6</td>\n",
       "      <td>179</td>\n",
       "      <td>WE</td>\n",
       "    </tr>\n",
       "    <tr>\n",
       "      <th>4</th>\n",
       "      <td>kitchen_cabinet</td>\n",
       "      <td>151</td>\n",
       "      <td>6</td>\n",
       "      <td>173</td>\n",
       "      <td>WE</td>\n",
       "    </tr>\n",
       "    <tr>\n",
       "      <th>4</th>\n",
       "      <td>kitchen_cabinet</td>\n",
       "      <td>151</td>\n",
       "      <td>6</td>\n",
       "      <td>201</td>\n",
       "      <td>WE</td>\n",
       "    </tr>\n",
       "    <tr>\n",
       "      <th>4</th>\n",
       "      <td>kitchen_cabinet</td>\n",
       "      <td>151</td>\n",
       "      <td>6</td>\n",
       "      <td>198</td>\n",
       "      <td>WE</td>\n",
       "    </tr>\n",
       "    <tr>\n",
       "      <th>4</th>\n",
       "      <td>kitchen_cabinet</td>\n",
       "      <td>151</td>\n",
       "      <td>6</td>\n",
       "      <td>85</td>\n",
       "      <td>WE</td>\n",
       "    </tr>\n",
       "    <tr>\n",
       "      <th>4</th>\n",
       "      <td>kitchen_cabinet</td>\n",
       "      <td>151</td>\n",
       "      <td>6</td>\n",
       "      <td>214</td>\n",
       "      <td>WE</td>\n",
       "    </tr>\n",
       "    <tr>\n",
       "      <th>4</th>\n",
       "      <td>kitchen_cabinet</td>\n",
       "      <td>151</td>\n",
       "      <td>6</td>\n",
       "      <td>174</td>\n",
       "      <td>WE</td>\n",
       "    </tr>\n",
       "    <tr>\n",
       "      <th>4</th>\n",
       "      <td>kitchen_cabinet</td>\n",
       "      <td>151</td>\n",
       "      <td>6</td>\n",
       "      <td>336</td>\n",
       "      <td>WE</td>\n",
       "    </tr>\n",
       "    <tr>\n",
       "      <th>5</th>\n",
       "      <td>kitchen_microwave</td>\n",
       "      <td>21</td>\n",
       "      <td>3</td>\n",
       "      <td>48</td>\n",
       "      <td>WE</td>\n",
       "    </tr>\n",
       "    <tr>\n",
       "      <th>5</th>\n",
       "      <td>kitchen_microwave</td>\n",
       "      <td>21</td>\n",
       "      <td>3</td>\n",
       "      <td>24</td>\n",
       "      <td>WE</td>\n",
       "    </tr>\n",
       "    <tr>\n",
       "      <th>5</th>\n",
       "      <td>kitchen_microwave</td>\n",
       "      <td>21</td>\n",
       "      <td>3</td>\n",
       "      <td>26</td>\n",
       "      <td>WE</td>\n",
       "    </tr>\n",
       "    <tr>\n",
       "      <th>6</th>\n",
       "      <td>kitchen_door</td>\n",
       "      <td>92</td>\n",
       "      <td>3</td>\n",
       "      <td>486</td>\n",
       "      <td>WE</td>\n",
       "    </tr>\n",
       "    <tr>\n",
       "      <th>6</th>\n",
       "      <td>kitchen_door</td>\n",
       "      <td>92</td>\n",
       "      <td>3</td>\n",
       "      <td>159</td>\n",
       "      <td>WE</td>\n",
       "    </tr>\n",
       "    <tr>\n",
       "      <th>6</th>\n",
       "      <td>kitchen_door</td>\n",
       "      <td>92</td>\n",
       "      <td>3</td>\n",
       "      <td>167</td>\n",
       "      <td>WE</td>\n",
       "    </tr>\n",
       "    <tr>\n",
       "      <th>7</th>\n",
       "      <td>bathroom_showerfaucet</td>\n",
       "      <td>40</td>\n",
       "      <td>1</td>\n",
       "      <td>222</td>\n",
       "      <td>WE</td>\n",
       "    </tr>\n",
       "    <tr>\n",
       "      <th>7</th>\n",
       "      <td>bathroom_showerfaucet</td>\n",
       "      <td>40</td>\n",
       "      <td>1</td>\n",
       "      <td>124</td>\n",
       "      <td>WE</td>\n",
       "    </tr>\n",
       "    <tr>\n",
       "      <th>7</th>\n",
       "      <td>bathroom_showerfaucet</td>\n",
       "      <td>40</td>\n",
       "      <td>1</td>\n",
       "      <td>177</td>\n",
       "      <td>WE</td>\n",
       "    </tr>\n",
       "    <tr>\n",
       "      <th>8</th>\n",
       "      <td>kitchen_drawer</td>\n",
       "      <td>116</td>\n",
       "      <td>3</td>\n",
       "      <td>24895</td>\n",
       "      <td>WE</td>\n",
       "    </tr>\n",
       "    <tr>\n",
       "      <th>9</th>\n",
       "      <td>bathroom_sinkfaucet-hot</td>\n",
       "      <td>43</td>\n",
       "      <td>9</td>\n",
       "      <td>6528</td>\n",
       "      <td>WE</td>\n",
       "    </tr>\n",
       "    <tr>\n",
       "      <th>10</th>\n",
       "      <td>kitchen_freezer</td>\n",
       "      <td>49</td>\n",
       "      <td>51</td>\n",
       "      <td>6478</td>\n",
       "      <td>WE</td>\n",
       "    </tr>\n",
       "    <tr>\n",
       "      <th>10</th>\n",
       "      <td>kitchen_freezer</td>\n",
       "      <td>49</td>\n",
       "      <td>51</td>\n",
       "      <td>15269</td>\n",
       "      <td>WE</td>\n",
       "    </tr>\n",
       "    <tr>\n",
       "      <th>10</th>\n",
       "      <td>kitchen_freezer</td>\n",
       "      <td>49</td>\n",
       "      <td>51</td>\n",
       "      <td>14394</td>\n",
       "      <td>WE</td>\n",
       "    </tr>\n",
       "    <tr>\n",
       "      <th>11</th>\n",
       "      <td>bathroom_door</td>\n",
       "      <td>22</td>\n",
       "      <td>11</td>\n",
       "      <td>17125</td>\n",
       "      <td>WE</td>\n",
       "    </tr>\n",
       "    <tr>\n",
       "      <th>12</th>\n",
       "      <td>kitchen_toaster</td>\n",
       "      <td>24</td>\n",
       "      <td>2</td>\n",
       "      <td>96</td>\n",
       "      <td>WE</td>\n",
       "    </tr>\n",
       "  </tbody>\n",
       "</table>\n",
       "</div>"
      ],
      "text/plain": [
       "                      SubAct  Count  Median  durationValues WDWE\n",
       "0           bathroom_cabinet     26       2           25775   WE\n",
       "1   bathroom_medicinecabinet     49     104           14473   WE\n",
       "1   bathroom_medicinecabinet     49     104           10785   WE\n",
       "1   bathroom_medicinecabinet     49     104           19324   WE\n",
       "1   bathroom_medicinecabinet     49     104           23600   WE\n",
       "1   bathroom_medicinecabinet     49     104           30768   WE\n",
       "1   bathroom_medicinecabinet     49     104           12307   WE\n",
       "1   bathroom_medicinecabinet     49     104           10813   WE\n",
       "2               study_drawer      6      15           32613   WE\n",
       "3             bedroom_drawer     26       7               1   WE\n",
       "3             bedroom_drawer     26       7              25   WE\n",
       "3             bedroom_drawer     26       7               1   WE\n",
       "3             bedroom_drawer     26       7              31   WE\n",
       "3             bedroom_drawer     26       7              26   WE\n",
       "3             bedroom_drawer     26       7               1   WE\n",
       "3             bedroom_drawer     26       7              21   WE\n",
       "4            kitchen_cabinet    151       6             132   WE\n",
       "4            kitchen_cabinet    151       6             122   WE\n",
       "4            kitchen_cabinet    151       6             288   WE\n",
       "4            kitchen_cabinet    151       6             245   WE\n",
       "4            kitchen_cabinet    151       6             179   WE\n",
       "4            kitchen_cabinet    151       6             173   WE\n",
       "4            kitchen_cabinet    151       6             201   WE\n",
       "4            kitchen_cabinet    151       6             198   WE\n",
       "4            kitchen_cabinet    151       6              85   WE\n",
       "4            kitchen_cabinet    151       6             214   WE\n",
       "4            kitchen_cabinet    151       6             174   WE\n",
       "4            kitchen_cabinet    151       6             336   WE\n",
       "5          kitchen_microwave     21       3              48   WE\n",
       "5          kitchen_microwave     21       3              24   WE\n",
       "5          kitchen_microwave     21       3              26   WE\n",
       "6               kitchen_door     92       3             486   WE\n",
       "6               kitchen_door     92       3             159   WE\n",
       "6               kitchen_door     92       3             167   WE\n",
       "7      bathroom_showerfaucet     40       1             222   WE\n",
       "7      bathroom_showerfaucet     40       1             124   WE\n",
       "7      bathroom_showerfaucet     40       1             177   WE\n",
       "8             kitchen_drawer    116       3           24895   WE\n",
       "9    bathroom_sinkfaucet-hot     43       9            6528   WE\n",
       "10           kitchen_freezer     49      51            6478   WE\n",
       "10           kitchen_freezer     49      51           15269   WE\n",
       "10           kitchen_freezer     49      51           14394   WE\n",
       "11             bathroom_door     22      11           17125   WE\n",
       "12           kitchen_toaster     24       2              96   WE"
      ]
     },
     "execution_count": 96,
     "metadata": {},
     "output_type": "execute_result"
    }
   ],
   "source": [
    "weekendValues"
   ]
  },
  {
   "cell_type": "code",
   "execution_count": 101,
   "metadata": {},
   "outputs": [
    {
     "data": {
      "text/html": [
       "<div>\n",
       "<style scoped>\n",
       "    .dataframe tbody tr th:only-of-type {\n",
       "        vertical-align: middle;\n",
       "    }\n",
       "\n",
       "    .dataframe tbody tr th {\n",
       "        vertical-align: top;\n",
       "    }\n",
       "\n",
       "    .dataframe thead th {\n",
       "        text-align: right;\n",
       "    }\n",
       "</style>\n",
       "<table border=\"1\" class=\"dataframe\">\n",
       "  <thead>\n",
       "    <tr style=\"text-align: right;\">\n",
       "      <th></th>\n",
       "      <th>subActNum</th>\n",
       "      <th>subAct</th>\n",
       "      <th>start</th>\n",
       "      <th>end</th>\n",
       "      <th>dayNumeric</th>\n",
       "      <th>DAY</th>\n",
       "      <th>WDWE</th>\n",
       "      <th>HOUR</th>\n",
       "      <th>durationSec</th>\n",
       "    </tr>\n",
       "  </thead>\n",
       "  <tbody>\n",
       "  </tbody>\n",
       "</table>\n",
       "</div>"
      ],
      "text/plain": [
       "Empty DataFrame\n",
       "Columns: [subActNum, subAct, start, end, dayNumeric, DAY, WDWE, HOUR, durationSec]\n",
       "Index: []"
      ]
     },
     "execution_count": 101,
     "metadata": {},
     "output_type": "execute_result"
    }
   ],
   "source": [
    "ds.head(n=50)\n",
    "ds[ds['durationSec'] == 25775]"
   ]
  },
  {
   "cell_type": "code",
   "execution_count": 98,
   "metadata": {},
   "outputs": [
    {
     "data": {
      "text/html": [
       "<div>\n",
       "<style scoped>\n",
       "    .dataframe tbody tr th:only-of-type {\n",
       "        vertical-align: middle;\n",
       "    }\n",
       "\n",
       "    .dataframe tbody tr th {\n",
       "        vertical-align: top;\n",
       "    }\n",
       "\n",
       "    .dataframe thead th {\n",
       "        text-align: right;\n",
       "    }\n",
       "</style>\n",
       "<table border=\"1\" class=\"dataframe\">\n",
       "  <thead>\n",
       "    <tr style=\"text-align: right;\">\n",
       "      <th></th>\n",
       "      <th>SubAct</th>\n",
       "      <th>Count</th>\n",
       "      <th>Median</th>\n",
       "      <th>durationValues</th>\n",
       "      <th>WDWE</th>\n",
       "    </tr>\n",
       "  </thead>\n",
       "  <tbody>\n",
       "    <tr>\n",
       "      <th>0</th>\n",
       "      <td>bathroom_cabinet</td>\n",
       "      <td>26</td>\n",
       "      <td>2</td>\n",
       "      <td>25775</td>\n",
       "      <td>WE</td>\n",
       "    </tr>\n",
       "    <tr>\n",
       "      <th>1</th>\n",
       "      <td>bathroom_medicinecabinet</td>\n",
       "      <td>49</td>\n",
       "      <td>104</td>\n",
       "      <td>14473</td>\n",
       "      <td>WE</td>\n",
       "    </tr>\n",
       "    <tr>\n",
       "      <th>1</th>\n",
       "      <td>bathroom_medicinecabinet</td>\n",
       "      <td>49</td>\n",
       "      <td>104</td>\n",
       "      <td>10785</td>\n",
       "      <td>WE</td>\n",
       "    </tr>\n",
       "    <tr>\n",
       "      <th>1</th>\n",
       "      <td>bathroom_medicinecabinet</td>\n",
       "      <td>49</td>\n",
       "      <td>104</td>\n",
       "      <td>19324</td>\n",
       "      <td>WE</td>\n",
       "    </tr>\n",
       "    <tr>\n",
       "      <th>1</th>\n",
       "      <td>bathroom_medicinecabinet</td>\n",
       "      <td>49</td>\n",
       "      <td>104</td>\n",
       "      <td>23600</td>\n",
       "      <td>WE</td>\n",
       "    </tr>\n",
       "  </tbody>\n",
       "</table>\n",
       "</div>"
      ],
      "text/plain": [
       "                     SubAct  Count  Median  durationValues WDWE\n",
       "0          bathroom_cabinet     26       2           25775   WE\n",
       "1  bathroom_medicinecabinet     49     104           14473   WE\n",
       "1  bathroom_medicinecabinet     49     104           10785   WE\n",
       "1  bathroom_medicinecabinet     49     104           19324   WE\n",
       "1  bathroom_medicinecabinet     49     104           23600   WE"
      ]
     },
     "execution_count": 98,
     "metadata": {},
     "output_type": "execute_result"
    }
   ],
   "source": [
    "weekendValues.head(n=5)"
   ]
  },
  {
   "cell_type": "code",
   "execution_count": 99,
   "metadata": {},
   "outputs": [],
   "source": [
    "for i in weekendValues.iterrows():\n",
    "    ds.loc[(ds['subAct'] == i[1].SubAct) & \n",
    "      (ds['durationSec'] == i[1].durationValues), 'durationSec'] = i[1].Median "
   ]
  },
  {
   "cell_type": "code",
   "execution_count": 103,
   "metadata": {},
   "outputs": [
    {
     "data": {
      "text/html": [
       "<div>\n",
       "<style scoped>\n",
       "    .dataframe tbody tr th:only-of-type {\n",
       "        vertical-align: middle;\n",
       "    }\n",
       "\n",
       "    .dataframe tbody tr th {\n",
       "        vertical-align: top;\n",
       "    }\n",
       "\n",
       "    .dataframe thead th {\n",
       "        text-align: right;\n",
       "    }\n",
       "</style>\n",
       "<table border=\"1\" class=\"dataframe\">\n",
       "  <thead>\n",
       "    <tr style=\"text-align: right;\">\n",
       "      <th></th>\n",
       "      <th>subActNum</th>\n",
       "      <th>subAct</th>\n",
       "      <th>start</th>\n",
       "      <th>end</th>\n",
       "      <th>dayNumeric</th>\n",
       "      <th>DAY</th>\n",
       "      <th>WDWE</th>\n",
       "      <th>HOUR</th>\n",
       "      <th>durationSec</th>\n",
       "    </tr>\n",
       "  </thead>\n",
       "  <tbody>\n",
       "    <tr>\n",
       "      <th>0</th>\n",
       "      <td>67</td>\n",
       "      <td>bathroom_cabinet</td>\n",
       "      <td>2003-03-27 06:43:40</td>\n",
       "      <td>2003-03-27 06:43:43</td>\n",
       "      <td>3</td>\n",
       "      <td>Thu</td>\n",
       "      <td>WD</td>\n",
       "      <td>6</td>\n",
       "      <td>3</td>\n",
       "    </tr>\n",
       "    <tr>\n",
       "      <th>1</th>\n",
       "      <td>100</td>\n",
       "      <td>bathroom_toiletflush</td>\n",
       "      <td>2003-03-27 06:44:06</td>\n",
       "      <td>2003-03-27 06:44:07</td>\n",
       "      <td>3</td>\n",
       "      <td>Thu</td>\n",
       "      <td>WD</td>\n",
       "      <td>6</td>\n",
       "      <td>1</td>\n",
       "    </tr>\n",
       "    <tr>\n",
       "      <th>2</th>\n",
       "      <td>101</td>\n",
       "      <td>bathroom_lightswitch</td>\n",
       "      <td>2003-03-27 06:44:20</td>\n",
       "      <td>2003-03-27 07:46:34</td>\n",
       "      <td>3</td>\n",
       "      <td>Thu</td>\n",
       "      <td>WD</td>\n",
       "      <td>6</td>\n",
       "      <td>3734</td>\n",
       "    </tr>\n",
       "    <tr>\n",
       "      <th>3</th>\n",
       "      <td>57</td>\n",
       "      <td>bathroom_medicinecabinet</td>\n",
       "      <td>2003-03-27 06:44:35</td>\n",
       "      <td>2003-03-27 06:44:48</td>\n",
       "      <td>3</td>\n",
       "      <td>Thu</td>\n",
       "      <td>WD</td>\n",
       "      <td>6</td>\n",
       "      <td>13</td>\n",
       "    </tr>\n",
       "    <tr>\n",
       "      <th>4</th>\n",
       "      <td>57</td>\n",
       "      <td>bathroom_medicinecabinet</td>\n",
       "      <td>2003-03-27 06:44:36</td>\n",
       "      <td>2003-03-27 06:44:48</td>\n",
       "      <td>3</td>\n",
       "      <td>Thu</td>\n",
       "      <td>WD</td>\n",
       "      <td>6</td>\n",
       "      <td>12</td>\n",
       "    </tr>\n",
       "  </tbody>\n",
       "</table>\n",
       "</div>"
      ],
      "text/plain": [
       "   subActNum                    subAct               start  \\\n",
       "0         67          bathroom_cabinet 2003-03-27 06:43:40   \n",
       "1        100      bathroom_toiletflush 2003-03-27 06:44:06   \n",
       "2        101      bathroom_lightswitch 2003-03-27 06:44:20   \n",
       "3         57  bathroom_medicinecabinet 2003-03-27 06:44:35   \n",
       "4         57  bathroom_medicinecabinet 2003-03-27 06:44:36   \n",
       "\n",
       "                  end dayNumeric  DAY WDWE  HOUR  durationSec  \n",
       "0 2003-03-27 06:43:43          3  Thu   WD     6            3  \n",
       "1 2003-03-27 06:44:07          3  Thu   WD     6            1  \n",
       "2 2003-03-27 07:46:34          3  Thu   WD     6         3734  \n",
       "3 2003-03-27 06:44:48          3  Thu   WD     6           13  \n",
       "4 2003-03-27 06:44:48          3  Thu   WD     6           12  "
      ]
     },
     "execution_count": 103,
     "metadata": {},
     "output_type": "execute_result"
    }
   ],
   "source": [
    "ds.head(n=5)"
   ]
  },
  {
   "cell_type": "code",
   "execution_count": 104,
   "metadata": {},
   "outputs": [],
   "source": [
    "from datetime import datetime, timedelta\n",
    "ds['end'] = np.where(ds['subActNum'] == 57, \n",
    "                     ds['start'] + timedelta(seconds=1), ds['end'])"
   ]
  },
  {
   "cell_type": "code",
   "execution_count": 105,
   "metadata": {},
   "outputs": [
    {
     "data": {
      "application/vnd.vegalite.v3+json": {
       "$schema": "https://vega.github.io/schema/vega-lite/v3.4.0.json",
       "config": {
        "mark": {
         "tooltip": null
        },
        "view": {
         "height": 300,
         "width": 400
        }
       },
       "data": {
        "name": "data-511e83a78b8e0b2663444ebc2df6fb33"
       },
       "datasets": {
        "data-511e83a78b8e0b2663444ebc2df6fb33": [
         {
          "end": "2003-03-27T06:44:36",
          "index": 3,
          "start": "2003-03-27T06:44:35"
         },
         {
          "end": "2003-03-27T06:44:37",
          "index": 4,
          "start": "2003-03-27T06:44:36"
         },
         {
          "end": "2003-03-27T07:34:06",
          "index": 16,
          "start": "2003-03-27T07:34:05"
         },
         {
          "end": "2003-03-27T07:42:39",
          "index": 31,
          "start": "2003-03-27T07:42:38"
         },
         {
          "end": "2003-03-27T07:42:39",
          "index": 32,
          "start": "2003-03-27T07:42:38"
         },
         {
          "end": "2003-03-27T07:43:53",
          "index": 35,
          "start": "2003-03-27T07:43:52"
         },
         {
          "end": "2003-03-27T07:44:11",
          "index": 36,
          "start": "2003-03-27T07:44:10"
         },
         {
          "end": "2003-03-27T12:27:12",
          "index": 68,
          "start": "2003-03-27T12:27:11"
         },
         {
          "end": "2003-03-27T18:41:18",
          "index": 80,
          "start": "2003-03-27T18:41:17"
         },
         {
          "end": "2003-03-27T18:41:34",
          "index": 81,
          "start": "2003-03-27T18:41:33"
         },
         {
          "end": "2003-03-28T16:34:17",
          "index": 117,
          "start": "2003-03-28T16:34:16"
         },
         {
          "end": "2003-03-28T18:36:09",
          "index": 138,
          "start": "2003-03-28T18:36:08"
         },
         {
          "end": "2003-03-28T19:01:53",
          "index": 143,
          "start": "2003-03-28T19:01:52"
         },
         {
          "end": "2003-03-28T19:06:42",
          "index": 146,
          "start": "2003-03-28T19:06:41"
         },
         {
          "end": "2003-03-28T19:06:42",
          "index": 147,
          "start": "2003-03-28T19:06:41"
         },
         {
          "end": "2003-03-28T22:12:29",
          "index": 190,
          "start": "2003-03-28T22:12:28"
         },
         {
          "end": "2003-03-28T22:13:47",
          "index": 191,
          "start": "2003-03-28T22:13:46"
         },
         {
          "end": "2003-03-28T22:27:23",
          "index": 195,
          "start": "2003-03-28T22:27:22"
         },
         {
          "end": "2003-03-28T22:29:33",
          "index": 196,
          "start": "2003-03-28T22:29:32"
         },
         {
          "end": "2003-03-29T08:55:30",
          "index": 209,
          "start": "2003-03-29T08:55:29"
         },
         {
          "end": "2003-03-29T09:10:29",
          "index": 211,
          "start": "2003-03-29T09:10:28"
         },
         {
          "end": "2003-03-29T09:12:04",
          "index": 213,
          "start": "2003-03-29T09:12:03"
         },
         {
          "end": "2003-03-29T09:44:06",
          "index": 220,
          "start": "2003-03-29T09:44:05"
         },
         {
          "end": "2003-03-29T09:44:27",
          "index": 221,
          "start": "2003-03-29T09:44:26"
         },
         {
          "end": "2003-03-29T09:44:54",
          "index": 222,
          "start": "2003-03-29T09:44:53"
         },
         {
          "end": "2003-03-29T11:59:37",
          "index": 241,
          "start": "2003-03-29T11:59:36"
         },
         {
          "end": "2003-03-29T12:00:10",
          "index": 242,
          "start": "2003-03-29T12:00:09"
         },
         {
          "end": "2003-03-29T16:01:25",
          "index": 598,
          "start": "2003-03-29T16:01:24"
         },
         {
          "end": "2003-03-29T16:01:45",
          "index": 599,
          "start": "2003-03-29T16:01:44"
         },
         {
          "end": "2003-03-29T18:23:33",
          "index": 649,
          "start": "2003-03-29T18:23:32"
         },
         {
          "end": "2003-03-29T18:25:01",
          "index": 653,
          "start": "2003-03-29T18:25:00"
         },
         {
          "end": "2003-03-29T18:34:21",
          "index": 662,
          "start": "2003-03-29T18:34:20"
         },
         {
          "end": "2003-03-29T18:34:36",
          "index": 663,
          "start": "2003-03-29T18:34:35"
         },
         {
          "end": "2003-03-29T18:36:14",
          "index": 665,
          "start": "2003-03-29T18:36:13"
         },
         {
          "end": "2003-03-29T22:27:35",
          "index": 677,
          "start": "2003-03-29T22:27:34"
         },
         {
          "end": "2003-03-29T23:07:47",
          "index": 684,
          "start": "2003-03-29T23:07:46"
         },
         {
          "end": "2003-03-30T07:31:13",
          "index": 686,
          "start": "2003-03-30T07:31:12"
         },
         {
          "end": "2003-03-30T08:00:52",
          "index": 721,
          "start": "2003-03-30T08:00:51"
         },
         {
          "end": "2003-03-30T11:00:39",
          "index": 743,
          "start": "2003-03-30T11:00:38"
         },
         {
          "end": "2003-03-30T15:52:58",
          "index": 808,
          "start": "2003-03-30T15:52:57"
         },
         {
          "end": "2003-03-30T16:22:20",
          "index": 809,
          "start": "2003-03-30T16:22:19"
         },
         {
          "end": "2003-03-30T16:23:56",
          "index": 811,
          "start": "2003-03-30T16:23:55"
         },
         {
          "end": "2003-03-30T22:57:17",
          "index": 820,
          "start": "2003-03-30T22:57:16"
         },
         {
          "end": "2003-03-31T07:36:51",
          "index": 829,
          "start": "2003-03-31T07:36:50"
         },
         {
          "end": "2003-03-31T07:36:53",
          "index": 830,
          "start": "2003-03-31T07:36:52"
         },
         {
          "end": "2003-03-31T09:11:40",
          "index": 843,
          "start": "2003-03-31T09:11:39"
         },
         {
          "end": "2003-03-31T09:32:07",
          "index": 857,
          "start": "2003-03-31T09:32:06"
         },
         {
          "end": "2003-03-31T09:34:05",
          "index": 859,
          "start": "2003-03-31T09:34:04"
         },
         {
          "end": "2003-03-31T09:34:20",
          "index": 861,
          "start": "2003-03-31T09:34:19"
         },
         {
          "end": "2003-03-31T12:18:27",
          "index": 869,
          "start": "2003-03-31T12:18:26"
         },
         {
          "end": "2003-03-31T12:18:49",
          "index": 870,
          "start": "2003-03-31T12:18:48"
         },
         {
          "end": "2003-03-31T19:41:38",
          "index": 891,
          "start": "2003-03-31T19:41:37"
         },
         {
          "end": "2003-04-01T06:09:48",
          "index": 898,
          "start": "2003-04-01T06:09:47"
         },
         {
          "end": "2003-04-01T06:09:49",
          "index": 899,
          "start": "2003-04-01T06:09:48"
         },
         {
          "end": "2003-04-01T06:53:30",
          "index": 920,
          "start": "2003-04-01T06:53:29"
         },
         {
          "end": "2003-04-01T06:55:37",
          "index": 924,
          "start": "2003-04-01T06:55:36"
         },
         {
          "end": "2003-04-01T06:56:13",
          "index": 925,
          "start": "2003-04-01T06:56:12"
         },
         {
          "end": "2003-04-01T06:57:15",
          "index": 926,
          "start": "2003-04-01T06:57:14"
         },
         {
          "end": "2003-04-01T16:45:50",
          "index": 945,
          "start": "2003-04-01T16:45:49"
         },
         {
          "end": "2003-04-01T21:05:24",
          "index": 972,
          "start": "2003-04-01T21:05:23"
         },
         {
          "end": "2003-04-01T21:05:47",
          "index": 973,
          "start": "2003-04-01T21:05:46"
         },
         {
          "end": "2003-04-01T21:18:56",
          "index": 976,
          "start": "2003-04-01T21:18:55"
         },
         {
          "end": "2003-04-01T21:20:39",
          "index": 979,
          "start": "2003-04-01T21:20:38"
         },
         {
          "end": "2003-04-02T07:13:57",
          "index": 996,
          "start": "2003-04-02T07:13:56"
         },
         {
          "end": "2003-04-02T07:39:04",
          "index": 1005,
          "start": "2003-04-02T07:39:03"
         },
         {
          "end": "2003-04-02T07:39:50",
          "index": 1007,
          "start": "2003-04-02T07:39:49"
         },
         {
          "end": "2003-04-02T07:58:59",
          "index": 1009,
          "start": "2003-04-02T07:58:58"
         },
         {
          "end": "2003-04-02T08:19:47",
          "index": 1025,
          "start": "2003-04-02T08:19:46"
         },
         {
          "end": "2003-04-02T08:21:07",
          "index": 1026,
          "start": "2003-04-02T08:21:06"
         },
         {
          "end": "2003-04-02T08:22:35",
          "index": 1028,
          "start": "2003-04-02T08:22:34"
         },
         {
          "end": "2003-04-02T08:24:50",
          "index": 1031,
          "start": "2003-04-02T08:24:49"
         },
         {
          "end": "2003-04-02T08:24:50",
          "index": 1032,
          "start": "2003-04-02T08:24:49"
         },
         {
          "end": "2003-04-02T16:45:10",
          "index": 1126,
          "start": "2003-04-02T16:45:09"
         },
         {
          "end": "2003-04-02T16:45:10",
          "index": 1127,
          "start": "2003-04-02T16:45:09"
         },
         {
          "end": "2003-04-02T16:45:44",
          "index": 1128,
          "start": "2003-04-02T16:45:43"
         },
         {
          "end": "2003-04-02T16:45:44",
          "index": 1129,
          "start": "2003-04-02T16:45:43"
         },
         {
          "end": "2003-04-02T21:05:45",
          "index": 1172,
          "start": "2003-04-02T21:05:44"
         },
         {
          "end": "2003-04-02T21:25:35",
          "index": 1176,
          "start": "2003-04-02T21:25:34"
         },
         {
          "end": "2003-04-02T21:27:25",
          "index": 1179,
          "start": "2003-04-02T21:27:24"
         },
         {
          "end": "2003-04-02T21:45:12",
          "index": 1186,
          "start": "2003-04-02T21:45:11"
         },
         {
          "end": "2003-04-03T08:47:57",
          "index": 1207,
          "start": "2003-04-03T08:47:56"
         },
         {
          "end": "2003-04-03T09:13:07",
          "index": 1224,
          "start": "2003-04-03T09:13:06"
         },
         {
          "end": "2003-04-03T09:13:07",
          "index": 1225,
          "start": "2003-04-03T09:13:06"
         },
         {
          "end": "2003-04-03T09:26:58",
          "index": 1243,
          "start": "2003-04-03T09:26:57"
         },
         {
          "end": "2003-04-03T09:28:11",
          "index": 1245,
          "start": "2003-04-03T09:28:10"
         },
         {
          "end": "2003-04-03T13:58:04",
          "index": 1267,
          "start": "2003-04-03T13:58:03"
         },
         {
          "end": "2003-04-03T13:58:22",
          "index": 1268,
          "start": "2003-04-03T13:58:21"
         },
         {
          "end": "2003-04-03T20:20:10",
          "index": 1310,
          "start": "2003-04-03T20:20:09"
         },
         {
          "end": "2003-04-03T20:48:14",
          "index": 1313,
          "start": "2003-04-03T20:48:13"
         },
         {
          "end": "2003-04-04T06:12:35",
          "index": 1345,
          "start": "2003-04-04T06:12:34"
         },
         {
          "end": "2003-04-04T06:12:37",
          "index": 1346,
          "start": "2003-04-04T06:12:36"
         },
         {
          "end": "2003-04-04T07:04:58",
          "index": 1357,
          "start": "2003-04-04T07:04:57"
         },
         {
          "end": "2003-04-04T07:04:58",
          "index": 1358,
          "start": "2003-04-04T07:04:57"
         },
         {
          "end": "2003-04-04T07:21:38",
          "index": 1375,
          "start": "2003-04-04T07:21:37"
         },
         {
          "end": "2003-04-04T07:21:38",
          "index": 1376,
          "start": "2003-04-04T07:21:37"
         },
         {
          "end": "2003-04-04T07:22:45",
          "index": 1381,
          "start": "2003-04-04T07:22:44"
         },
         {
          "end": "2003-04-04T11:10:01",
          "index": 1396,
          "start": "2003-04-04T11:10:00"
         },
         {
          "end": "2003-04-04T15:30:08",
          "index": 1461,
          "start": "2003-04-04T15:30:07"
         },
         {
          "end": "2003-04-04T17:47:50",
          "index": 1473,
          "start": "2003-04-04T17:47:49"
         },
         {
          "end": "2003-04-04T17:47:50",
          "index": 1474,
          "start": "2003-04-04T17:47:49"
         },
         {
          "end": "2003-04-04T17:47:50",
          "index": 1475,
          "start": "2003-04-04T17:47:49"
         },
         {
          "end": "2003-04-04T17:47:50",
          "index": 1476,
          "start": "2003-04-04T17:47:49"
         },
         {
          "end": "2003-04-05T10:57:22",
          "index": 1486,
          "start": "2003-04-05T10:57:21"
         },
         {
          "end": "2003-04-05T17:56:56",
          "index": 1629,
          "start": "2003-04-05T17:56:55"
         },
         {
          "end": "2003-04-05T19:44:19",
          "index": 1640,
          "start": "2003-04-05T19:44:18"
         },
         {
          "end": "2003-04-05T19:44:20",
          "index": 1642,
          "start": "2003-04-05T19:44:19"
         },
         {
          "end": "2003-04-05T21:02:53",
          "index": 1651,
          "start": "2003-04-05T21:02:52"
         },
         {
          "end": "2003-04-05T22:43:56",
          "index": 1662,
          "start": "2003-04-05T22:43:55"
         },
         {
          "end": "2003-04-05T22:43:57",
          "index": 1664,
          "start": "2003-04-05T22:43:56"
         },
         {
          "end": "2003-04-05T22:45:31",
          "index": 1667,
          "start": "2003-04-05T22:45:30"
         },
         {
          "end": "2003-04-06T00:58:45",
          "index": 1681,
          "start": "2003-04-06T00:58:44"
         },
         {
          "end": "2003-04-06T00:58:45",
          "index": 1682,
          "start": "2003-04-06T00:58:44"
         },
         {
          "end": "2003-04-06T01:00:30",
          "index": 1684,
          "start": "2003-04-06T01:00:29"
         },
         {
          "end": "2003-04-06T09:33:52",
          "index": 1714,
          "start": "2003-04-06T09:33:51"
         },
         {
          "end": "2003-04-06T09:41:00",
          "index": 1719,
          "start": "2003-04-06T09:40:59"
         },
         {
          "end": "2003-04-06T09:41:17",
          "index": 1720,
          "start": "2003-04-06T09:41:16"
         },
         {
          "end": "2003-04-06T09:43:06",
          "index": 1722,
          "start": "2003-04-06T09:43:05"
         },
         {
          "end": "2003-04-06T09:45:09",
          "index": 1730,
          "start": "2003-04-06T09:45:08"
         },
         {
          "end": "2003-04-06T13:10:17",
          "index": 1736,
          "start": "2003-04-06T13:10:16"
         },
         {
          "end": "2003-04-06T13:10:19",
          "index": 1737,
          "start": "2003-04-06T13:10:18"
         },
         {
          "end": "2003-04-06T15:40:59",
          "index": 1806,
          "start": "2003-04-06T15:40:58"
         },
         {
          "end": "2003-04-06T18:30:17",
          "index": 1833,
          "start": "2003-04-06T18:30:16"
         },
         {
          "end": "2003-04-06T18:41:13",
          "index": 1841,
          "start": "2003-04-06T18:41:12"
         },
         {
          "end": "2003-04-06T18:41:53",
          "index": 1844,
          "start": "2003-04-06T18:41:52"
         },
         {
          "end": "2003-04-06T18:47:54",
          "index": 1845,
          "start": "2003-04-06T18:47:53"
         },
         {
          "end": "2003-04-06T18:51:51",
          "index": 1849,
          "start": "2003-04-06T18:51:50"
         },
         {
          "end": "2003-04-06T20:54:24",
          "index": 1870,
          "start": "2003-04-06T20:54:23"
         },
         {
          "end": "2003-04-07T04:40:10",
          "index": 1882,
          "start": "2003-04-07T04:40:09"
         },
         {
          "end": "2003-04-07T04:40:13",
          "index": 1883,
          "start": "2003-04-07T04:40:12"
         },
         {
          "end": "2003-04-07T07:29:13",
          "index": 1898,
          "start": "2003-04-07T07:29:12"
         },
         {
          "end": "2003-04-07T07:29:34",
          "index": 1899,
          "start": "2003-04-07T07:29:33"
         },
         {
          "end": "2003-04-07T07:45:29",
          "index": 1915,
          "start": "2003-04-07T07:45:28"
         },
         {
          "end": "2003-04-07T07:46:36",
          "index": 1918,
          "start": "2003-04-07T07:46:35"
         },
         {
          "end": "2003-04-07T07:49:44",
          "index": 1920,
          "start": "2003-04-07T07:49:43"
         },
         {
          "end": "2003-04-07T16:32:17",
          "index": 1964,
          "start": "2003-04-07T16:32:16"
         },
         {
          "end": "2003-04-07T16:32:20",
          "index": 1965,
          "start": "2003-04-07T16:32:19"
         },
         {
          "end": "2003-04-07T16:32:24",
          "index": 1966,
          "start": "2003-04-07T16:32:23"
         },
         {
          "end": "2003-04-07T20:34:49",
          "index": 2001,
          "start": "2003-04-07T20:34:48"
         },
         {
          "end": "2003-04-07T20:38:16",
          "index": 2006,
          "start": "2003-04-07T20:38:15"
         },
         {
          "end": "2003-04-08T06:36:29",
          "index": 2012,
          "start": "2003-04-08T06:36:28"
         },
         {
          "end": "2003-04-08T06:59:00",
          "index": 2026,
          "start": "2003-04-08T06:58:59"
         },
         {
          "end": "2003-04-08T06:59:00",
          "index": 2027,
          "start": "2003-04-08T06:58:59"
         },
         {
          "end": "2003-04-08T11:24:11",
          "index": 2055,
          "start": "2003-04-08T11:24:10"
         },
         {
          "end": "2003-04-08T15:50:44",
          "index": 2071,
          "start": "2003-04-08T15:50:43"
         },
         {
          "end": "2003-04-08T15:50:45",
          "index": 2072,
          "start": "2003-04-08T15:50:44"
         },
         {
          "end": "2003-04-08T21:28:48",
          "index": 2110,
          "start": "2003-04-08T21:28:47"
         },
         {
          "end": "2003-04-08T21:28:48",
          "index": 2111,
          "start": "2003-04-08T21:28:47"
         },
         {
          "end": "2003-04-09T00:28:58",
          "index": 2126,
          "start": "2003-04-09T00:28:57"
         },
         {
          "end": "2003-04-09T00:28:58",
          "index": 2127,
          "start": "2003-04-09T00:28:57"
         },
         {
          "end": "2003-04-09T00:34:11",
          "index": 2131,
          "start": "2003-04-09T00:34:10"
         },
         {
          "end": "2003-04-09T10:55:26",
          "index": 2174,
          "start": "2003-04-09T10:55:25"
         },
         {
          "end": "2003-04-09T15:41:05",
          "index": 2238,
          "start": "2003-04-09T15:41:04"
         },
         {
          "end": "2003-04-09T15:42:12",
          "index": 2239,
          "start": "2003-04-09T15:42:11"
         },
         {
          "end": "2003-04-09T15:42:51",
          "index": 2240,
          "start": "2003-04-09T15:42:50"
         },
         {
          "end": "2003-04-09T16:10:12",
          "index": 2248,
          "start": "2003-04-09T16:10:11"
         },
         {
          "end": "2003-04-09T16:11:37",
          "index": 2251,
          "start": "2003-04-09T16:11:36"
         },
         {
          "end": "2003-04-09T20:08:55",
          "index": 2282,
          "start": "2003-04-09T20:08:54"
         },
         {
          "end": "2003-04-09T20:08:55",
          "index": 2283,
          "start": "2003-04-09T20:08:54"
         },
         {
          "end": "2003-04-09T20:09:34",
          "index": 2286,
          "start": "2003-04-09T20:09:33"
         },
         {
          "end": "2003-04-09T20:09:34",
          "index": 2287,
          "start": "2003-04-09T20:09:33"
         },
         {
          "end": "2003-04-10T08:19:24",
          "index": 2309,
          "start": "2003-04-10T08:19:23"
         },
         {
          "end": "2003-04-10T10:11:41",
          "index": 2333,
          "start": "2003-04-10T10:11:40"
         },
         {
          "end": "2003-04-10T10:14:18",
          "index": 2342,
          "start": "2003-04-10T10:14:17"
         },
         {
          "end": "2003-04-10T11:22:41",
          "index": 2392,
          "start": "2003-04-10T11:22:40"
         },
         {
          "end": "2003-04-10T11:22:49",
          "index": 2393,
          "start": "2003-04-10T11:22:48"
         },
         {
          "end": "2003-04-10T12:24:23",
          "index": 2421,
          "start": "2003-04-10T12:24:22"
         },
         {
          "end": "2003-04-10T12:24:58",
          "index": 2422,
          "start": "2003-04-10T12:24:57"
         },
         {
          "end": "2003-04-10T13:13:33",
          "index": 2463,
          "start": "2003-04-10T13:13:32"
         },
         {
          "end": "2003-04-10T13:24:08",
          "index": 2469,
          "start": "2003-04-10T13:24:07"
         },
         {
          "end": "2003-04-10T17:31:27",
          "index": 2484,
          "start": "2003-04-10T17:31:26"
         },
         {
          "end": "2003-04-10T17:31:28",
          "index": 2485,
          "start": "2003-04-10T17:31:27"
         },
         {
          "end": "2003-04-10T20:57:46",
          "index": 2540,
          "start": "2003-04-10T20:57:45"
         },
         {
          "end": "2003-04-10T20:57:47",
          "index": 2541,
          "start": "2003-04-10T20:57:46"
         },
         {
          "end": "2003-04-10T21:11:10",
          "index": 2552,
          "start": "2003-04-10T21:11:09"
         },
         {
          "end": "2003-04-11T09:46:47",
          "index": 2566,
          "start": "2003-04-11T09:46:46"
         },
         {
          "end": "2003-04-11T09:46:49",
          "index": 2567,
          "start": "2003-04-11T09:46:48"
         },
         {
          "end": "2003-04-11T09:47:02",
          "index": 2568,
          "start": "2003-04-11T09:47:01"
         },
         {
          "end": "2003-04-11T11:21:13",
          "index": 2605,
          "start": "2003-04-11T11:21:12"
         },
         {
          "end": "2003-04-11T11:21:14",
          "index": 2606,
          "start": "2003-04-11T11:21:13"
         },
         {
          "end": "2003-04-11T11:24:09",
          "index": 2609,
          "start": "2003-04-11T11:24:08"
         },
         {
          "end": "2003-04-11T11:24:09",
          "index": 2610,
          "start": "2003-04-11T11:24:08"
         },
         {
          "end": "2003-04-11T14:39:40",
          "index": 2680,
          "start": "2003-04-11T14:39:39"
         },
         {
          "end": "2003-04-11T14:39:41",
          "index": 2681,
          "start": "2003-04-11T14:39:40"
         },
         {
          "end": "2003-04-11T14:56:20",
          "index": 2684,
          "start": "2003-04-11T14:56:19"
         },
         {
          "end": "2003-04-11T15:11:42",
          "index": 2686,
          "start": "2003-04-11T15:11:41"
         },
         {
          "end": "2003-04-11T15:12:17",
          "index": 2687,
          "start": "2003-04-11T15:12:16"
         },
         {
          "end": "2003-04-11T15:17:13",
          "index": 2692,
          "start": "2003-04-11T15:17:12"
         },
         {
          "end": "2003-04-11T15:54:50",
          "index": 2697,
          "start": "2003-04-11T15:54:49"
         },
         {
          "end": "2003-04-11T15:54:50",
          "index": 2698,
          "start": "2003-04-11T15:54:49"
         },
         {
          "end": "2003-04-11T19:31:37",
          "index": 2722,
          "start": "2003-04-11T19:31:36"
         },
         {
          "end": "2003-04-11T19:32:40",
          "index": 2725,
          "start": "2003-04-11T19:32:39"
         },
         {
          "end": "2003-04-11T22:17:40",
          "index": 2760,
          "start": "2003-04-11T22:17:39"
         },
         {
          "end": "2003-04-11T22:17:40",
          "index": 2761,
          "start": "2003-04-11T22:17:39"
         },
         {
          "end": "2003-04-11T22:22:17",
          "index": 2770,
          "start": "2003-04-11T22:22:16"
         }
        ]
       },
       "encoding": {
        "detail": {
         "field": "index",
         "type": "quantitative"
        },
        "x": {
         "field": "start",
         "timeUnit": "hoursminutes",
         "type": "temporal"
        },
        "x2": {
         "field": "end",
         "timeUnit": "hoursminutes"
        },
        "y": {
         "field": "start",
         "timeUnit": "date",
         "type": "ordinal"
        }
       },
       "mark": "bar",
       "selection": {
        "selector001": {
         "bind": "scales",
         "encodings": [
          "x",
          "y"
         ],
         "type": "interval"
        }
       },
       "width": 750
      },
      "image/png": "[encoded data removed]",
      "text/plain": [
       "<VegaLite 3 object>\n",
       "\n",
       "If you see this message, it means the renderer has not been properly enabled\n",
       "for the frontend that you are using. For more information, see\n",
       "https://altair-viz.github.io/user_guide/troubleshooting.html\n"
      ]
     },
     "execution_count": 105,
     "metadata": {},
     "output_type": "execute_result"
    }
   ],
   "source": [
    "dsCheck = ds[ds['subActNum']==57]\n",
    "\n",
    "df = pd.DataFrame({ \n",
    "    'start': dsCheck.start, \n",
    "    'end': dsCheck.end,})\n",
    "\n",
    "alt.Chart(df.reset_index()).mark_bar().encode(\n",
    "    y='date(start):O',\n",
    "    x='hoursminutes(start)',\n",
    "    x2='hoursminutes(end)',\n",
    "    detail='index'\n",
    ").properties(width=750).interactive()"
   ]
  },
  {
   "cell_type": "code",
   "execution_count": null,
   "metadata": {},
   "outputs": [],
   "source": []
  },
  {
   "cell_type": "code",
   "execution_count": null,
   "metadata": {},
   "outputs": [],
   "source": [
    "# IF ds.SubAct == weekendValues.subAct \n",
    "# AND ds.durationSec == weekendValues.durationValues\n",
    "# THEN REPLACE ds.durationSec with weekendValues.Median\n",
    "\n",
    "#ds[ds['durationSec'] == 25775]\n",
    "\n",
    "for i in weekendValues.iterrows():\n",
    "    #print(i[1].SubAct)\n",
    "    #print(i[1].Count)\n",
    "    #print(i[1].Median)\n",
    "    #print(i[1].durationValues)\n",
    "    print(ds[(ds['subAct'] == i[1].SubAct) & \n",
    "      (ds['durationSec'] == i[1].durationValues)].durationSec)"
   ]
  }
 ],
 "metadata": {
  "kernelspec": {
   "display_name": "Python 3",
   "language": "python",
   "name": "python3"
  },
  "language_info": {
   "codemirror_mode": {
    "name": "ipython",
    "version": 3
   },
   "file_extension": ".py",
   "mimetype": "text/x-python",
   "name": "python",
   "nbconvert_exporter": "python",
   "pygments_lexer": "ipython3",
   "version": "3.7.4"
  }
 },
 "nbformat": 4,
 "nbformat_minor": 4
}
