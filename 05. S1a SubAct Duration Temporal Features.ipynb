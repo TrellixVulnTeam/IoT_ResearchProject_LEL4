{
 "cells": [
  {
   "cell_type": "code",
   "execution_count": 14,
   "metadata": {},
   "outputs": [],
   "source": [
    "import pandas as pd\n",
    "import numpy as np\n",
    "import time\n",
    "from datetime import datetime\n",
    "import altair as alt\n",
    "import pandas as pd"
   ]
  },
  {
   "cell_type": "code",
   "execution_count": null,
   "metadata": {},
   "outputs": [],
   "source": [
    "#https://vega.github.io/vega-lite/tutorials/explore.html\n",
    "# USE THIS COLOUR PATETTE (end of page)\n",
    "# https://altair-viz.github.io/gallery/selection_histogram.html\n",
    "# https://altair-viz.github.io/user_guide/interactions.html\n",
    "# https://altair-viz.github.io/gallery/iowa_electricity.html"
   ]
  },
  {
   "cell_type": "code",
   "execution_count": 15,
   "metadata": {},
   "outputs": [],
   "source": [
    "ds = pd.read_csv('S1SubActivities_preprocessed.csv', index_col = None) \n",
    "ds.start = pd.to_datetime(ds.start, format='%Y-%m-%d %H:%M:%S')\n",
    "ds.end = pd.to_datetime(ds.end, format='%Y-%m-%d %H:%M:%S')\n",
    "ds = ds.sort_values('start')\n",
    "ds.reset_index(drop = True, inplace = True)"
   ]
  },
  {
   "cell_type": "code",
   "execution_count": 16,
   "metadata": {},
   "outputs": [
    {
     "data": {
      "text/html": [
       "<div>\n",
       "<style scoped>\n",
       "    .dataframe tbody tr th:only-of-type {\n",
       "        vertical-align: middle;\n",
       "    }\n",
       "\n",
       "    .dataframe tbody tr th {\n",
       "        vertical-align: top;\n",
       "    }\n",
       "\n",
       "    .dataframe thead th {\n",
       "        text-align: right;\n",
       "    }\n",
       "</style>\n",
       "<table border=\"1\" class=\"dataframe\">\n",
       "  <thead>\n",
       "    <tr style=\"text-align: right;\">\n",
       "      <th></th>\n",
       "      <th>subActNum</th>\n",
       "      <th>subAct</th>\n",
       "      <th>start</th>\n",
       "      <th>end</th>\n",
       "    </tr>\n",
       "  </thead>\n",
       "  <tbody>\n",
       "    <tr>\n",
       "      <th>0</th>\n",
       "      <td>67</td>\n",
       "      <td>bathroom_cabinet</td>\n",
       "      <td>2003-03-27 06:43:40</td>\n",
       "      <td>2003-03-27 06:43:43</td>\n",
       "    </tr>\n",
       "    <tr>\n",
       "      <th>1</th>\n",
       "      <td>100</td>\n",
       "      <td>bathroom_toiletflush</td>\n",
       "      <td>2003-03-27 06:44:06</td>\n",
       "      <td>2003-03-27 07:12:41</td>\n",
       "    </tr>\n",
       "  </tbody>\n",
       "</table>\n",
       "</div>"
      ],
      "text/plain": [
       "   subActNum                subAct               start                 end\n",
       "0         67      bathroom_cabinet 2003-03-27 06:43:40 2003-03-27 06:43:43\n",
       "1        100  bathroom_toiletflush 2003-03-27 06:44:06 2003-03-27 07:12:41"
      ]
     },
     "execution_count": 16,
     "metadata": {},
     "output_type": "execute_result"
    }
   ],
   "source": [
    "ds.head(n=2)"
   ]
  },
  {
   "cell_type": "code",
   "execution_count": 17,
   "metadata": {},
   "outputs": [],
   "source": [
    "%run add_DAY_WDWE_phaseI.py"
   ]
  },
  {
   "cell_type": "code",
   "execution_count": 18,
   "metadata": {},
   "outputs": [],
   "source": [
    "ds = add_DAY_WDWE_phaseI(ds)"
   ]
  },
  {
   "cell_type": "code",
   "execution_count": 19,
   "metadata": {},
   "outputs": [
    {
     "data": {
      "text/html": [
       "<div>\n",
       "<style scoped>\n",
       "    .dataframe tbody tr th:only-of-type {\n",
       "        vertical-align: middle;\n",
       "    }\n",
       "\n",
       "    .dataframe tbody tr th {\n",
       "        vertical-align: top;\n",
       "    }\n",
       "\n",
       "    .dataframe thead th {\n",
       "        text-align: right;\n",
       "    }\n",
       "</style>\n",
       "<table border=\"1\" class=\"dataframe\">\n",
       "  <thead>\n",
       "    <tr style=\"text-align: right;\">\n",
       "      <th></th>\n",
       "      <th>subActNum</th>\n",
       "      <th>subAct</th>\n",
       "      <th>start</th>\n",
       "      <th>end</th>\n",
       "      <th>dayNumeric</th>\n",
       "      <th>DAY</th>\n",
       "      <th>WDWE</th>\n",
       "      <th>HOUR</th>\n",
       "      <th>durationSec</th>\n",
       "    </tr>\n",
       "  </thead>\n",
       "  <tbody>\n",
       "    <tr>\n",
       "      <th>0</th>\n",
       "      <td>67</td>\n",
       "      <td>bathroom_cabinet</td>\n",
       "      <td>2003-03-27 06:43:40</td>\n",
       "      <td>2003-03-27 06:43:43</td>\n",
       "      <td>3</td>\n",
       "      <td>Thu</td>\n",
       "      <td>WD</td>\n",
       "      <td>6</td>\n",
       "      <td>3.0</td>\n",
       "    </tr>\n",
       "    <tr>\n",
       "      <th>1</th>\n",
       "      <td>100</td>\n",
       "      <td>bathroom_toiletflush</td>\n",
       "      <td>2003-03-27 06:44:06</td>\n",
       "      <td>2003-03-27 07:12:41</td>\n",
       "      <td>3</td>\n",
       "      <td>Thu</td>\n",
       "      <td>WD</td>\n",
       "      <td>6</td>\n",
       "      <td>1715.0</td>\n",
       "    </tr>\n",
       "  </tbody>\n",
       "</table>\n",
       "</div>"
      ],
      "text/plain": [
       "   subActNum                subAct               start                 end  \\\n",
       "0         67      bathroom_cabinet 2003-03-27 06:43:40 2003-03-27 06:43:43   \n",
       "1        100  bathroom_toiletflush 2003-03-27 06:44:06 2003-03-27 07:12:41   \n",
       "\n",
       "  dayNumeric  DAY WDWE  HOUR  durationSec  \n",
       "0          3  Thu   WD     6          3.0  \n",
       "1          3  Thu   WD     6       1715.0  "
      ]
     },
     "execution_count": 19,
     "metadata": {},
     "output_type": "execute_result"
    }
   ],
   "source": [
    "ds.head(n=2)"
   ]
  },
  {
   "cell_type": "code",
   "execution_count": 11,
   "metadata": {},
   "outputs": [
    {
     "name": "stdout",
     "output_type": "stream",
     "text": [
      "<class 'pandas.core.frame.DataFrame'>\n",
      "RangeIndex: 2772 entries, 0 to 2771\n",
      "Data columns (total 8 columns):\n",
      "subActNum      2772 non-null int64\n",
      "subAct         2772 non-null object\n",
      "start          2772 non-null datetime64[ns]\n",
      "end            2772 non-null datetime64[ns]\n",
      "DAY            2772 non-null object\n",
      "WDWE           2772 non-null object\n",
      "HOUR           2772 non-null int64\n",
      "durationSec    2772 non-null float64\n",
      "dtypes: datetime64[ns](2), float64(1), int64(2), object(3)\n",
      "memory usage: 173.4+ KB\n"
     ]
    }
   ],
   "source": [
    "ds.info()"
   ]
  },
  {
   "cell_type": "code",
   "execution_count": null,
   "metadata": {},
   "outputs": [],
   "source": []
  },
  {
   "cell_type": "markdown",
   "metadata": {},
   "source": [
    "1. Set specified column as index\n",
    "2. Extract dayofweek from index (ds.index.dayofweek.astype(str)), as this as an attribute\n",
    "3. Replace '0' with 'mon' and so on\n",
    "4. Duplic"
   ]
  },
  {
   "cell_type": "code",
   "execution_count": 20,
   "metadata": {},
   "outputs": [],
   "source": [
    "# Unique subActNum list\n",
    "unique_list = []\n",
    "for x in ds.subAct:                     # Traverse for all elements \n",
    "    if x not in unique_list:            # Check if exists in unique_list or not \n",
    "        unique_list.append(x)     "
   ]
  },
  {
   "cell_type": "code",
   "execution_count": null,
   "metadata": {},
   "outputs": [],
   "source": [
    "for subAct in unique_list:\n",
    "    \n",
    "    fig = px.histogram(ds[ds['subAct']==subAct], x=\"HOUR\", y=\"HOUR\", color=\"WDWE\",\n",
    "                   marginal=\"box\", # or violin, rug\n",
    "                   hover_data=dsCheck.columns)\n",
    "    fig.show()"
   ]
  },
  {
   "cell_type": "code",
   "execution_count": 21,
   "metadata": {},
   "outputs": [
    {
     "ename": "NameError",
     "evalue": "name 'dsCheck' is not defined",
     "output_type": "error",
     "traceback": [
      "\u001b[0;31m---------------------------------------------------------------------------\u001b[0m",
      "\u001b[0;31mNameError\u001b[0m                                 Traceback (most recent call last)",
      "\u001b[0;32m<ipython-input-21-e29499477769>\u001b[0m in \u001b[0;36m<module>\u001b[0;34m\u001b[0m\n\u001b[1;32m      1\u001b[0m \u001b[0;32mimport\u001b[0m \u001b[0mplotly\u001b[0m\u001b[0;34m.\u001b[0m\u001b[0mexpress\u001b[0m \u001b[0;32mas\u001b[0m \u001b[0mpx\u001b[0m\u001b[0;34m\u001b[0m\u001b[0;34m\u001b[0m\u001b[0m\n\u001b[1;32m      2\u001b[0m \u001b[0mtips\u001b[0m \u001b[0;34m=\u001b[0m \u001b[0mpx\u001b[0m\u001b[0;34m.\u001b[0m\u001b[0mdata\u001b[0m\u001b[0;34m.\u001b[0m\u001b[0mtips\u001b[0m\u001b[0;34m(\u001b[0m\u001b[0;34m)\u001b[0m\u001b[0;34m\u001b[0m\u001b[0;34m\u001b[0m\u001b[0m\n\u001b[0;32m----> 3\u001b[0;31m fig = px.histogram(dsCheck, x=\"HOUR\", y=\"HOUR\", color=\"WDWE\",\n\u001b[0m\u001b[1;32m      4\u001b[0m                    \u001b[0mmarginal\u001b[0m\u001b[0;34m=\u001b[0m\u001b[0;34m\"box\"\u001b[0m\u001b[0;34m,\u001b[0m \u001b[0;31m# or violin, rug\u001b[0m\u001b[0;34m\u001b[0m\u001b[0;34m\u001b[0m\u001b[0m\n\u001b[1;32m      5\u001b[0m                    hover_data=dsCheck.columns)\n",
      "\u001b[0;31mNameError\u001b[0m: name 'dsCheck' is not defined"
     ]
    }
   ],
   "source": [
    "import plotly.express as px\n",
    "tips = px.data.tips()\n",
    "fig = px.histogram(dsCheck, x=\"HOUR\", y=\"HOUR\", color=\"WDWE\",\n",
    "                   marginal=\"box\", # or violin, rug\n",
    "                   hover_data=dsCheck.columns)\n",
    "fig.show()"
   ]
  },
  {
   "cell_type": "code",
   "execution_count": null,
   "metadata": {},
   "outputs": [],
   "source": [
    "dsCheck = ds[ds['subAct']=='bathroom_cabinet']"
   ]
  },
  {
   "cell_type": "code",
   "execution_count": null,
   "metadata": {},
   "outputs": [],
   "source": [
    "dsCheck.head(n=5)"
   ]
  },
  {
   "cell_type": "code",
   "execution_count": null,
   "metadata": {},
   "outputs": [],
   "source": [
    "len(dsCheck)"
   ]
  },
  {
   "cell_type": "code",
   "execution_count": null,
   "metadata": {},
   "outputs": [],
   "source": [
    "import plotly.graph_objects as go\n",
    "\n",
    "import numpy as np\n",
    "\n",
    "x = dsCheck['deltaStartEnd']\n",
    "\n",
    "fig = go.Figure(data=[go.Histogram(x=x)])\n",
    "fig.show()"
   ]
  },
  {
   "cell_type": "code",
   "execution_count": null,
   "metadata": {},
   "outputs": [],
   "source": [
    "import plotly.graph_objects as go\n",
    "\n",
    "import numpy as np\n",
    "\n",
    "x = dsCheck['HOUR']\n",
    "\n",
    "fig = go.Figure(data=[go.Histogram(x=x)])\n",
    "fig.show()"
   ]
  },
  {
   "cell_type": "code",
   "execution_count": null,
   "metadata": {},
   "outputs": [],
   "source": [
    "import plotly.graph_objects as go\n",
    "\n",
    "import numpy as np\n",
    "\n",
    "x = dsCheck['HOUR']\n",
    "\n",
    "fig = go.Figure(data=[go.Histogram(x=x, histnorm='probability')])\n",
    "fig.show()"
   ]
  },
  {
   "cell_type": "code",
   "execution_count": null,
   "metadata": {},
   "outputs": [],
   "source": [
    "alt.Chart(source).transform_timeunit(Month='month(date)').transform_joinaggregate(\n",
    "    mean_temp='mean(temp_max)', \n",
    "    groupby=['Month'].transform_bin(['bin_max', 'bin_min'], 'temp_max').transform_aggregate(\n",
    "    value='count()', groupby=['Month', 'mean_temp', 'bin_min', 'bin_max']).transform_impute(\n",
    "    impute='value', groupby=['Month', 'mean_temp'], key='bin_min', value=0).mark_area(\n",
    "    interpolate='monotone', fillOpacity=0.8, stroke='lightgray', strokeWidth=0.5).encode(\n",
    "    alt.X('bin_min:Q', \n",
    "          bin='binned', \n",
    "          title='Maximum Daily Temperature (C)'),\n",
    "    alt.Y('value:Q', \n",
    "          scale=alt.Scale(range = [step, -step * overlap]), axis=None), \n",
    "    alt.Fill('mean_temp:Q',\n",
    "        legend=None,\n",
    "        scale=alt.Scale(domain=[30, 5], scheme='redyellowblue')),\n",
    "    alt.Row('Month:T',\n",
    "        title=None,\n",
    "        header=alt.Header(labelAngle=0, labelAlign='right', format='%B'))).properties(\n",
    "    bounds='flush', title='Seattle Weather', height=step).configure_facet(\n",
    "    spacing=0).configure_view(\n",
    "    stroke=None).configure_title(\n",
    "    anchor='end')"
   ]
  },
  {
   "cell_type": "code",
   "execution_count": null,
   "metadata": {},
   "outputs": [],
   "source": [
    "step = 40\n",
    "overlap = 0\n",
    "\n",
    "alt.Chart(ds\n",
    ").transform_bin(\n",
    "    ['bin_max', 'bin_min'], 'deltaStartEnd'\n",
    ").transform_aggregate(\n",
    "    value='count()', groupby=['HOUR', 'deltaStartEnd', 'bin_min', 'bin_max']\n",
    ").transform_impute(\n",
    "    impute='value', groupby=['HOUR', 'deltaStartEnd'], key='bin_min', value=0\n",
    ").mark_area(\n",
    "    interpolate='monotone',\n",
    "    fillOpacity=0.8,\n",
    "    stroke='black',\n",
    "    strokeWidth=0.5\n",
    ").encode(\n",
    "    alt.X('bin_min:Q', bin='binned', title='Delta'),\n",
    "    alt.Y(\n",
    "        'value:Q',\n",
    "        scale=alt.Scale(range=[step, -step * overlap]),\n",
    "        axis=None\n",
    "    ),\n",
    "    alt.Row(\n",
    "        'HOUR:N',\n",
    "        title=None,\n",
    "        header=alt.Header(labelAngle=0, labelAlign='right', format='%B')\n",
    "    )\n",
    ").properties(\n",
    "    bounds='flush', title='67-100', height=step\n",
    ").configure_facet(\n",
    "    spacing=0\n",
    ").configure_view(\n",
    "    stroke=None\n",
    ").configure_title(\n",
    "    anchor='end'\n",
    ")\n"
   ]
  },
  {
   "cell_type": "code",
   "execution_count": null,
   "metadata": {},
   "outputs": [],
   "source": [
    "step = 40\n",
    "overlap = 0\n",
    "\n",
    "alt.Chart(ds\n",
    ").transform_joinaggregate(\n",
    "    mean_delta='mean(deltaStartEnd)', groupby=['subAct']\n",
    ").transform_bin(\n",
    "    ['bin_max', 'bin_min'], 'deltaStartEnd'\n",
    ").transform_aggregate(\n",
    "    value='count()', groupby=['subAct', 'deltaStartEnd', 'bin_min', 'bin_max']\n",
    ").transform_impute(\n",
    "    impute='value', groupby=['subAct', 'deltaStartEnd'], key='bin_min', value=0\n",
    ").mark_area(\n",
    "    interpolate='monotone', fillOpacity=0.8, stroke='black', strokeWidth=0.5\n",
    ").encode(\n",
    "    alt.X('bin_min:Q', bin='binned', title='Delta'),\n",
    "    alt.Y(\n",
    "        'value:N',\n",
    "        scale=alt.Scale(range=[step, -step * overlap]),\n",
    "        axis=None),\n",
    "    alt.Fill('mean_delta:Q',\n",
    "        legend=None,\n",
    "        scale=alt.Scale(domain=[30000, 5], scheme='redyellowblue')),\n",
    "    alt.Row(\n",
    "        'HOUR:N',\n",
    "        title=None,\n",
    "        header=alt.Header(labelAngle=0, labelAlign='right', format='%B')\n",
    "    )\n",
    ").properties(\n",
    "    bounds='flush', title='67-100', height=step\n",
    ").configure_facet(\n",
    "    spacing=0\n",
    ").configure_view(\n",
    "    stroke=None\n",
    ").configure_title(\n",
    "    anchor='end'\n",
    ").interactive()"
   ]
  },
  {
   "cell_type": "code",
   "execution_count": null,
   "metadata": {},
   "outputs": [],
   "source": [
    "step = 40\n",
    "overlap = 0\n",
    "\n",
    "alt.Chart(ds\n",
    ").transform_joinaggregate(\n",
    "    mean_delta='mean(deltaStartEnd)', groupby=['subAct']\n",
    ").transform_bin(\n",
    "    ['bin_max', 'bin_min'], 'deltaStartEnd'\n",
    ").transform_aggregate(\n",
    "    value='count()', groupby=['HOUR', 'deltaStartEnd', 'bin_min', 'bin_max']\n",
    ").transform_impute(\n",
    "    impute='value', groupby=['subAct', 'deltaStartEnd'], key='bin_min', value=0\n",
    ").mark_area(\n",
    "    interpolate='monotone', fillOpacity=0.8, stroke='black', strokeWidth=0.5\n",
    ").encode(\n",
    "    alt.X('bin_min:Q', bin='binned', title='Delta'),\n",
    "    alt.Y(\n",
    "        'value:N',\n",
    "        scale=alt.Scale(range=[step, -step * overlap]),\n",
    "        axis=None),\n",
    "    alt.Fill('mean_delta:Q',\n",
    "        legend=None,\n",
    "        scale=alt.Scale(domain=[30000, 5], scheme='redyellowblue')),\n",
    "    alt.Row(\n",
    "        'HOUR:N',\n",
    "        title=None,\n",
    "        header=alt.Header(labelAngle=0, labelAlign='right', format='%B')\n",
    "    )\n",
    ").properties(\n",
    "    bounds='flush', title='67-100', height=step\n",
    ").configure_facet(\n",
    "    spacing=0\n",
    ").configure_view(\n",
    "    stroke=None\n",
    ").configure_title(\n",
    "    anchor='end'\n",
    ").interactive()\n"
   ]
  },
  {
   "cell_type": "code",
   "execution_count": null,
   "metadata": {},
   "outputs": [],
   "source": [
    "step = 40\n",
    "overlap = 0\n",
    "\n",
    "alt.Chart(ds\n",
    ").transform_bin(\n",
    "    ['bin_max', 'bin_min'], 'deltaStartEnd'\n",
    ").transform_aggregate(\n",
    "    value='count()', groupby=['HOUR', 'deltaStartEnd', 'bin_min', 'bin_max']\n",
    ").transform_impute(\n",
    "    impute='value', groupby=['subAct', 'deltaStartEnd'], key='bin_min', value=0\n",
    ").mark_area(\n",
    "    interpolate='monotone',\n",
    "    fillOpacity=0.8,\n",
    "    stroke='black',\n",
    "    strokeWidth=0.5\n",
    ").encode(\n",
    "    alt.X('bin_min:Q', bin='binned', title='Delta'),\n",
    "    alt.Y(\n",
    "        'value:N',\n",
    "        scale=alt.Scale(range=[step, -step * overlap]),\n",
    "        axis=None\n",
    "    ),\n",
    "    alt.Row(\n",
    "        'HOUR:N',\n",
    "        title=None,\n",
    "        header=alt.Header(labelAngle=0, labelAlign='right', format='%B')\n",
    "    )\n",
    ").properties(\n",
    "    bounds='flush', title='67-100', height=step\n",
    ").configure_facet(\n",
    "    spacing=0\n",
    ").configure_view(\n",
    "    stroke=None\n",
    ").configure_title(\n",
    "    anchor='end'\n",
    ")\n"
   ]
  },
  {
   "cell_type": "markdown",
   "metadata": {},
   "source": [
    "* Title with SubActNum and SubAct\n",
    "* Start Date as Thu 03 March\n",
    "* Weekends orange\n",
    "* Weekdays blue\n",
    "* 24till2\n",
    "* 3till5\n",
    "* 6till8\n",
    "* 9till11\n",
    "* 12till14\n",
    "* 15till17\n",
    "* 18till20\n",
    "* 21till23"
   ]
  },
  {
   "cell_type": "code",
   "execution_count": null,
   "metadata": {},
   "outputs": [],
   "source": [
    "# Unique subActNum list\n",
    "unique_list = []\n",
    "for x in ds.subActNum:                     # Traverse for all elements \n",
    "    if x not in unique_list:            # Check if exists in unique_list or not \n",
    "        unique_list.append(x)     "
   ]
  },
  {
   "cell_type": "code",
   "execution_count": null,
   "metadata": {},
   "outputs": [],
   "source": [
    "\n",
    "step = 20\n",
    "overlap = 1\n",
    "\n",
    "alt.Chart(ds).transform_joinaggregate(\n",
    "    mean_duration = 'mean(deltaStartEnd)', \n",
    "    groupby=['subActNum']).transform_bin(['bin_max', 'bin_min'], 'max(deltaStartEnd)').transform_aggregate(\n",
    "    value='count()', groupby=['subActNum', 'mean_duration', 'bin_min', 'bin_max']).transform_impute(\n",
    "    impute='value', groupby=['subActNum', 'mean_duration'], key='bin_min', value=0).mark_area(\n",
    "    interpolate='monotone', fillOpacity=0.8, stroke='lightgray', strokeWidth=0.5).encode(\n",
    "    alt.X('bin_min:Q', \n",
    "          bin='binned', \n",
    "          title='Maximum Daily Temperature (C)'),\n",
    "    alt.Y('value:Q', \n",
    "          scale=alt.Scale(range = [step, -step * overlap]), axis=None), \n",
    "    alt.Fill('mean_duration:Q',\n",
    "        legend=None,\n",
    "        scale=alt.Scale(domain=[30, 5], scheme='redyellowblue')),\n",
    "    alt.Row('date(start):T',\n",
    "        title=None,\n",
    "        header=alt.Header(labelAngle=0, labelAlign='right', format='%B'))).properties(\n",
    "    bounds='flush', title='Seattle Weather', height=step).configure_facet(\n",
    "    spacing=0).configure_view(\n",
    "    stroke=None).configure_title(\n",
    "    anchor='end')\n"
   ]
  },
  {
   "cell_type": "code",
   "execution_count": null,
   "metadata": {},
   "outputs": [],
   "source": [
    "# https://vega.github.io/vega-lite/data/seattle-weather.csv\n",
    "# \n",
    "alt.Chart(source).transform_timeunit(Month='month(date)').transform_joinaggregate(\n",
    "    mean_temp='mean(temp_max)', \n",
    "    groupby=['Month'].transform_bin(['bin_max', 'bin_min'], 'temp_max').transform_aggregate(\n",
    "    value='count()', groupby=['Month', 'mean_temp', 'bin_min', 'bin_max']).transform_impute(\n",
    "    impute='value', groupby=['Month', 'mean_temp'], key='bin_min', value=0).mark_area(\n",
    "    interpolate='monotone', fillOpacity=0.8, stroke='lightgray', strokeWidth=0.5).encode(\n",
    "    alt.X('bin_min:Q', \n",
    "          bin='binned', \n",
    "          title='Maximum Daily Temperature (C)'),\n",
    "    alt.Y('value:Q', \n",
    "          scale=alt.Scale(range = [step, -step * overlap]), axis=None), \n",
    "    alt.Fill('mean_temp:Q',\n",
    "        legend=None,\n",
    "        scale=alt.Scale(domain=[30, 5], scheme='redyellowblue')),\n",
    "    alt.Row('Month:T',\n",
    "        title=None,\n",
    "        header=alt.Header(labelAngle=0, labelAlign='right', format='%B'))).properties(\n",
    "    bounds='flush', title='Seattle Weather', height=step).configure_facet(\n",
    "    spacing=0).configure_view(\n",
    "    stroke=None).configure_title(\n",
    "    anchor='end')"
   ]
  },
  {
   "cell_type": "code",
   "execution_count": null,
   "metadata": {},
   "outputs": [],
   "source": [
    "ds.head(n=5)"
   ]
  },
  {
   "cell_type": "code",
   "execution_count": null,
   "metadata": {},
   "outputs": [],
   "source": [
    "# https://altair-viz.github.io/gallery/binned_heatmap.html\n",
    "alt.Chart(ds).mark_rect().encode(\n",
    "    alt.X('DAY'),\n",
    "    alt.Y('subAct'),\n",
    "    alt.Color('deltaStartEnd:Q', scale=alt.Scale(scheme='greenblue'))\n",
    ").properties(width=550).interactive()"
   ]
  },
  {
   "cell_type": "code",
   "execution_count": null,
   "metadata": {},
   "outputs": [],
   "source": [
    "# DS Norm\n",
    "ds['durationNorm'] = (ds['deltaStartEnd'] - min(ds['deltaStartEnd'])\n",
    "                     )/(max(ds['deltaStartEnd']) - min(ds['deltaStartEnd']))"
   ]
  },
  {
   "cell_type": "code",
   "execution_count": null,
   "metadata": {},
   "outputs": [],
   "source": [
    "ds.head(n=5)"
   ]
  },
  {
   "cell_type": "code",
   "execution_count": null,
   "metadata": {},
   "outputs": [],
   "source": [
    "# https://altair-viz.github.io/gallery/binned_heatmap.html\n",
    "alt.Chart(ds).mark_rect().encode(\n",
    "    alt.X('DAY'),\n",
    "    alt.Y('subAct'),\n",
    "    alt.Color('durationNorm:Q', scale=alt.Scale(scheme='inferno'))\n",
    ").properties(width=550).interactive()"
   ]
  },
  {
   "cell_type": "code",
   "execution_count": null,
   "metadata": {},
   "outputs": [],
   "source": [
    "alt.Chart(ds).mark_rect().encode(\n",
    "    alt.X('date(start):O'),\n",
    "    alt.Y('subAct'),\n",
    "    alt.Color('durationNorm:Q', scale=alt.Scale(scheme='inferno'))\n",
    ").properties(width=550).interactive()"
   ]
  },
  {
   "cell_type": "code",
   "execution_count": null,
   "metadata": {},
   "outputs": [],
   "source": [
    "alt.Chart(ds).mark_rect().encode(\n",
    "    alt.X('date(start):O'),\n",
    "    alt.Y('subAct'),\n",
    "    alt.Color('mean(deltaStartEnd)', scale=alt.Scale(scheme='inferno'))\n",
    ").properties(width=550).interactive()"
   ]
  },
  {
   "cell_type": "code",
   "execution_count": null,
   "metadata": {},
   "outputs": [],
   "source": [
    "\n",
    "alt.Chart(ds).mark_rect().encode(\n",
    "    alt.X('hours(start):O'),\n",
    "    alt.Y('subAct'),\n",
    "    alt.Color('durationNorm:Q', scale=alt.Scale(scheme='inferno')),\n",
    "    row = 'DAY'\n",
    ").properties(width=550).interactive()"
   ]
  },
  {
   "cell_type": "code",
   "execution_count": null,
   "metadata": {},
   "outputs": [],
   "source": [
    "alt.Chart(ds).mark_boxplot().encode(\n",
    "    x = 'durationNorm',\n",
    "    y = 'subAct',\n",
    ").properties(width = 550).interactive()"
   ]
  },
  {
   "cell_type": "code",
   "execution_count": null,
   "metadata": {},
   "outputs": [],
   "source": [
    "alt.Chart(ds).mark_bar().encode(\n",
    "    alt.X('durationNorm', bin = alt.Bin(maxbins=100)),\n",
    "    y = 'count(subAct)',\n",
    "    row = 'subAct'\n",
    ").properties(width = 550).interactive()"
   ]
  },
  {
   "cell_type": "code",
   "execution_count": null,
   "metadata": {},
   "outputs": [],
   "source": [
    "#https://altair-viz.github.io/gallery/stacked_bar_chart_sorted_segments.html\n",
    "alt.Chart(ds).mark_bar().encode(\n",
    "    x = 'count(subAct)',\n",
    "    y = 'subAct',\n",
    "    color = 'WDWE',\n",
    "    column = 'WDWE' \n",
    ")"
   ]
  },
  {
   "cell_type": "code",
   "execution_count": null,
   "metadata": {},
   "outputs": [],
   "source": [
    "#https://altair-viz.github.io/gallery/stacked_bar_chart_sorted_segments.html\n",
    "alt.Chart(ds).mark_bar().encode(\n",
    "    x = 'count(subAct)',\n",
    "    y = 'subAct',\n",
    "    color = 'DAY',\n",
    "    row = 'WDWE' \n",
    ")"
   ]
  },
  {
   "cell_type": "code",
   "execution_count": null,
   "metadata": {},
   "outputs": [],
   "source": [
    "#https://altair-viz.github.io/gallery/stacked_bar_chart_sorted_segments.html\n",
    "alt.Chart(ds).mark_bar().encode(\n",
    "    x = 'count(subAct)',\n",
    "    y = 'subAct',\n",
    "    color = 'DAY',\n",
    "    column = 'WDWE' \n",
    ")"
   ]
  },
  {
   "cell_type": "code",
   "execution_count": null,
   "metadata": {},
   "outputs": [],
   "source": [
    "#https://altair-viz.github.io/gallery/stacked_bar_chart_sorted_segments.html\n",
    "# https://altair-viz.github.io/gallery/multiple_marks.html\n",
    "alt.Chart(ds).mark_line(point=True).encode(\n",
    "    y = 'count(subAct)',\n",
    "    x = 'subAct',\n",
    "    color = 'DAY',\n",
    "    row = 'WDWE' \n",
    ")\n",
    "# PLOT AS SOLID FILL"
   ]
  },
  {
   "cell_type": "code",
   "execution_count": null,
   "metadata": {},
   "outputs": [],
   "source": [
    "# https://altair-viz.github.io/gallery/layered_area_chart.html\n",
    "alt.Chart(ds).mark_area(opacity = 0.8).encode(\n",
    "    y = 'count(subAct)',\n",
    "    x = alt.X('subAct', axis = alt.Axis(labelAngle = -45)),\n",
    "    color = 'DAY',\n",
    "    row = 'WDWE' \n",
    ")\n",
    "# PLOT AS SOLID FILL"
   ]
  },
  {
   "cell_type": "code",
   "execution_count": null,
   "metadata": {},
   "outputs": [],
   "source": [
    "#https://altair-viz.github.io/gallery/stacked_bar_chart_sorted_segments.html\n",
    "input_dropdown = alt.binding_select(options=['Mon','Tue','Wed','Thu','Fri','Sat','Sun'])\n",
    "selection = alt.selection_single(fields=['DAY'], bind=input_dropdown, name='Test Name')\n",
    "color = alt.condition(selection,\n",
    "                    alt.Color('WDWE:Q', legend=None),\n",
    "                    alt.value('lightgray'))\n",
    "\n",
    "alt.Chart(ds).mark_bar().encode(\n",
    "    x = 'count(subAct)',\n",
    "    y = 'subAct',\n",
    "    color = 'DAY',\n",
    "    column = 'WDWE' \n",
    ").add_selection(\n",
    "    selection\n",
    ").transform_filter(\n",
    "    selection\n",
    ")\n"
   ]
  },
  {
   "cell_type": "code",
   "execution_count": null,
   "metadata": {},
   "outputs": [],
   "source": [
    "# https://altair-viz.github.io/gallery/natural_disasters.html\n",
    "alt.Chart(ds).mark_circle(\n",
    "    opacity=0.8,\n",
    "    stroke='black',\n",
    "    strokeWidth=1\n",
    ").encode(\n",
    "    alt.X('date(start):O', axis=alt.Axis(labelAngle=0)),\n",
    "    alt.Y('subAct:N', axis=alt.Axis(labelAngle=0)),\n",
    "    alt.Size('count(subAct):Q',\n",
    "        scale=alt.Scale(range=[0, 2000]),\n",
    "        legend=alt.Legend(title='Annual Global Deaths')\n",
    "    ),\n",
    "    alt.Color('WDWE:N', legend=None)\n",
    ").properties(\n",
    "    width=600,\n",
    "    height=800\n",
    ").interactive()"
   ]
  },
  {
   "cell_type": "code",
   "execution_count": null,
   "metadata": {},
   "outputs": [],
   "source": [
    "#date(start):O\n",
    "    \n",
    "    # https://altair-viz.github.io/gallery/natural_disasters.html\n",
    "alt.Chart(ds).mark_circle(\n",
    "    opacity=0.8,\n",
    "    stroke='black',\n",
    "    strokeWidth=1\n",
    ").encode(\n",
    "    alt.X('date(start):T', axis=alt.Axis(labelAngle=0)),\n",
    "    alt.Y('subAct:N', axis=alt.Axis(labelAngle=0)),\n",
    "    alt.Size('count(subAct):Q',\n",
    "        scale=alt.Scale(range=[0, 2000]),\n",
    "        legend=alt.Legend(title='Annual Global Deaths')\n",
    "    ),\n",
    "    alt.Color('WDWE:N', legend=None)\n",
    ").properties(\n",
    "    width=600,\n",
    "    height=800\n",
    ").interactive()"
   ]
  },
  {
   "cell_type": "code",
   "execution_count": null,
   "metadata": {},
   "outputs": [],
   "source": [
    "#date(start):O\n",
    "    \n",
    "    # https://altair-viz.github.io/gallery/natural_disasters.html\n",
    "alt.Chart(ds).mark_circle(\n",
    "    opacity=0.8,\n",
    "    stroke='black',\n",
    "    strokeWidth=1\n",
    ").encode(\n",
    "    alt.X('start:T', axis=alt.Axis(labelAngle=0)),\n",
    "    alt.Y('subAct:N', axis=alt.Axis(labelAngle=0)),\n",
    "    alt.Size('count(subAct):Q',\n",
    "        scale=alt.Scale(range=[0, 1000]),\n",
    "        legend=alt.Legend(title='Annual Global Deaths')\n",
    "    ),\n",
    "    alt.Color('WDWE:N', legend=None)\n",
    ").properties(\n",
    "    width=600,\n",
    "    height=800\n",
    ").interactive()"
   ]
  },
  {
   "cell_type": "code",
   "execution_count": null,
   "metadata": {},
   "outputs": [],
   "source": [
    "#https://altair-viz.github.io/gallery/stripplot.html\n",
    "stripplot =  alt.Chart(ds, width = 40).mark_circle(size=8).encode(\n",
    "    x=alt.X(\n",
    "        'jitter:N',\n",
    "        title=None,\n",
    "        axis=alt.Axis(values=[0], ticks=True, grid=False, labels=False),\n",
    "        scale=alt.Scale(),\n",
    "    ),\n",
    "    y=alt.Y('deltaStartEnd'),\n",
    "    color=alt.Color('DAY:N', legend=None),\n",
    "    column=alt.Column(\n",
    "        'subAct:N',\n",
    "        header=alt.Header(\n",
    "            labelAngle=-90,\n",
    "            titleOrient='top',\n",
    "            labelOrient='bottom',\n",
    "            labelAlign='right',\n",
    "            labelPadding=0,\n",
    "        ),\n",
    "    ),\n",
    ").transform_calculate(\n",
    "    # Generate Gaussian jitter with a Box-Muller transform\n",
    "    jitter='sqrt(-2*log(random()))*cos(2*PI*random())'\n",
    ").configure_facet(\n",
    "    spacing=0\n",
    ").configure_view(\n",
    "    stroke=None\n",
    ")\n",
    "\n",
    "stripplot"
   ]
  },
  {
   "cell_type": "code",
   "execution_count": null,
   "metadata": {},
   "outputs": [],
   "source": [
    "alt.Chart(\n",
    "    ds,\n",
    "    title=\"2010 Daily High Temperature (F) in Seattle, WA\"\n",
    ").mark_rect().encode(\n",
    "    x='hoursminutes(start)',\n",
    "    y='subAct:O',\n",
    "    color=alt.Color('durationNorm', scale=alt.Scale(scheme=\"inferno\")),\n",
    "    #tooltip=[\n",
    "     #   alt.Tooltip('monthdate(date):T', title='Date'),\n",
    "      #  alt.Tooltip('max(temp):Q', title='Max Temp')\n",
    "    #]\n",
    ").properties(width=550)"
   ]
  }
 ],
 "metadata": {
  "kernelspec": {
   "display_name": "Python 3",
   "language": "python",
   "name": "python3"
  },
  "language_info": {
   "codemirror_mode": {
    "name": "ipython",
    "version": 3
   },
   "file_extension": ".py",
   "mimetype": "text/x-python",
   "name": "python",
   "nbconvert_exporter": "python",
   "pygments_lexer": "ipython3",
   "version": "3.7.4"
  }
 },
 "nbformat": 4,
 "nbformat_minor": 4
}
