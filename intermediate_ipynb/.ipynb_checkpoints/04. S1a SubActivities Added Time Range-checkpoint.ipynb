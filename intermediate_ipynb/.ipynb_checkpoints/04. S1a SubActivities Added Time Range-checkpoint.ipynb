{
 "cells": [
  {
   "cell_type": "code",
   "execution_count": 4,
   "metadata": {},
   "outputs": [],
   "source": [
    "import pandas as pd\n",
    "import numpy as np\n",
    "import time\n",
    "from datetime import datetime"
   ]
  },
  {
   "cell_type": "code",
   "execution_count": 5,
   "metadata": {},
   "outputs": [],
   "source": [
    "ds = pd.read_csv('S1SubActivities_preprocessed.csv', index_col = None) "
   ]
  },
  {
   "cell_type": "code",
   "execution_count": 6,
   "metadata": {},
   "outputs": [
    {
     "data": {
      "text/html": [
       "<div>\n",
       "<style scoped>\n",
       "    .dataframe tbody tr th:only-of-type {\n",
       "        vertical-align: middle;\n",
       "    }\n",
       "\n",
       "    .dataframe tbody tr th {\n",
       "        vertical-align: top;\n",
       "    }\n",
       "\n",
       "    .dataframe thead th {\n",
       "        text-align: right;\n",
       "    }\n",
       "</style>\n",
       "<table border=\"1\" class=\"dataframe\">\n",
       "  <thead>\n",
       "    <tr style=\"text-align: right;\">\n",
       "      <th></th>\n",
       "      <th>subActNum</th>\n",
       "      <th>subAct</th>\n",
       "      <th>start</th>\n",
       "      <th>end</th>\n",
       "    </tr>\n",
       "  </thead>\n",
       "  <tbody>\n",
       "    <tr>\n",
       "      <th>0</th>\n",
       "      <td>100</td>\n",
       "      <td>Toilet Flush</td>\n",
       "      <td>2003-04-01 20:51:52</td>\n",
       "      <td>2003-04-01 21:05:20</td>\n",
       "    </tr>\n",
       "    <tr>\n",
       "      <th>1</th>\n",
       "      <td>68</td>\n",
       "      <td>Sink faucet - hot</td>\n",
       "      <td>2003-04-01 20:51:58</td>\n",
       "      <td>2003-04-01 20:52:05</td>\n",
       "    </tr>\n",
       "    <tr>\n",
       "      <th>2</th>\n",
       "      <td>81</td>\n",
       "      <td>Closet</td>\n",
       "      <td>2003-04-01 20:53:36</td>\n",
       "      <td>2003-04-01 20:53:43</td>\n",
       "    </tr>\n",
       "    <tr>\n",
       "      <th>3</th>\n",
       "      <td>101</td>\n",
       "      <td>Light switch</td>\n",
       "      <td>2003-04-01 20:53:49</td>\n",
       "      <td>2003-04-01 21:21:43</td>\n",
       "    </tr>\n",
       "    <tr>\n",
       "      <th>4</th>\n",
       "      <td>93</td>\n",
       "      <td>Shower faucet</td>\n",
       "      <td>2003-04-01 20:53:52</td>\n",
       "      <td>2003-04-01 20:58:42</td>\n",
       "    </tr>\n",
       "    <tr>\n",
       "      <th>5</th>\n",
       "      <td>137</td>\n",
       "      <td>Freezer</td>\n",
       "      <td>2003-04-01 20:58:22</td>\n",
       "      <td>2003-04-01 20:58:32</td>\n",
       "    </tr>\n",
       "    <tr>\n",
       "      <th>6</th>\n",
       "      <td>93</td>\n",
       "      <td>Shower faucet</td>\n",
       "      <td>2003-04-01 20:58:43</td>\n",
       "      <td>2003-04-01 21:06:09</td>\n",
       "    </tr>\n",
       "    <tr>\n",
       "      <th>7</th>\n",
       "      <td>58</td>\n",
       "      <td>Medicine cabinet</td>\n",
       "      <td>2003-04-01 21:05:23</td>\n",
       "      <td>2003-04-01 21:05:45</td>\n",
       "    </tr>\n",
       "    <tr>\n",
       "      <th>8</th>\n",
       "      <td>57</td>\n",
       "      <td>Medicine cabinet</td>\n",
       "      <td>2003-04-01 21:05:46</td>\n",
       "      <td>2003-04-01 21:18:55</td>\n",
       "    </tr>\n",
       "    <tr>\n",
       "      <th>9</th>\n",
       "      <td>67</td>\n",
       "      <td>Cabinet</td>\n",
       "      <td>2003-04-01 21:05:47</td>\n",
       "      <td>2003-04-01 21:05:49</td>\n",
       "    </tr>\n",
       "  </tbody>\n",
       "</table>\n",
       "</div>"
      ],
      "text/plain": [
       "   subActNum             subAct                start                  end\n",
       "0        100       Toilet Flush  2003-04-01 20:51:52  2003-04-01 21:05:20\n",
       "1         68  Sink faucet - hot  2003-04-01 20:51:58  2003-04-01 20:52:05\n",
       "2         81             Closet  2003-04-01 20:53:36  2003-04-01 20:53:43\n",
       "3        101       Light switch  2003-04-01 20:53:49  2003-04-01 21:21:43\n",
       "4         93      Shower faucet  2003-04-01 20:53:52  2003-04-01 20:58:42\n",
       "5        137            Freezer  2003-04-01 20:58:22  2003-04-01 20:58:32\n",
       "6         93      Shower faucet  2003-04-01 20:58:43  2003-04-01 21:06:09\n",
       "7         58   Medicine cabinet  2003-04-01 21:05:23  2003-04-01 21:05:45\n",
       "8         57   Medicine cabinet  2003-04-01 21:05:46  2003-04-01 21:18:55\n",
       "9         67            Cabinet  2003-04-01 21:05:47  2003-04-01 21:05:49"
      ]
     },
     "execution_count": 6,
     "metadata": {},
     "output_type": "execute_result"
    }
   ],
   "source": [
    "ds.head(n=10)"
   ]
  },
  {
   "cell_type": "code",
   "execution_count": 7,
   "metadata": {},
   "outputs": [],
   "source": [
    "ds['subAct'].replace('Office/study', 'Study', inplace=True) #req??????"
   ]
  },
  {
   "cell_type": "code",
   "execution_count": 8,
   "metadata": {},
   "outputs": [
    {
     "data": {
      "text/plain": [
       "subActNum     int64\n",
       "subAct       object\n",
       "start        object\n",
       "end          object\n",
       "dtype: object"
      ]
     },
     "execution_count": 8,
     "metadata": {},
     "output_type": "execute_result"
    }
   ],
   "source": [
    "ds.dtypes"
   ]
  },
  {
   "cell_type": "code",
   "execution_count": 9,
   "metadata": {},
   "outputs": [
    {
     "name": "stdout",
     "output_type": "stream",
     "text": [
      "Initial Time for START: 2003-03-27 06:43:40 \n",
      "Final Time for START: 2003-04-11 22:24:05\n"
     ]
    }
   ],
   "source": [
    "# get min/max\n",
    "initialTimeStart = min(ds.start)\n",
    "finalTimeStart = max(ds.start)\n",
    "print(\"Initial Time for START:\", initialTimeStart, '\\n' \"Final Time for START:\", finalTimeStart)"
   ]
  },
  {
   "cell_type": "code",
   "execution_count": 10,
   "metadata": {},
   "outputs": [
    {
     "name": "stdout",
     "output_type": "stream",
     "text": [
      "Initial Time for END: 2003-03-27 06:43:40 \n",
      "Final Time for END: 2003-04-11 22:24:05\n"
     ]
    }
   ],
   "source": [
    "# get min/max\n",
    "initialTimeEnd = min(ds.end)\n",
    "finalTimeEnd = max(ds.end)\n",
    "print(\"Initial Time for END:\", initialTimeStart, '\\n' \"Final Time for END:\", finalTimeStart)"
   ]
  },
  {
   "cell_type": "code",
   "execution_count": 11,
   "metadata": {},
   "outputs": [
    {
     "name": "stdout",
     "output_type": "stream",
     "text": [
      "2003-03-27 06:43:40\n"
     ]
    }
   ],
   "source": [
    "print(min(ds.start))                                   # Checking the start time minima"
   ]
  },
  {
   "cell_type": "code",
   "execution_count": 12,
   "metadata": {},
   "outputs": [
    {
     "name": "stdout",
     "output_type": "stream",
     "text": [
      "2003-04-11 22:24:05\n"
     ]
    }
   ],
   "source": [
    "print(max(ds.start))                                   # Checking the start time maxima"
   ]
  },
  {
   "cell_type": "code",
   "execution_count": 13,
   "metadata": {},
   "outputs": [],
   "source": [
    "start = ds.start\n",
    "end = ds.end"
   ]
  },
  {
   "cell_type": "code",
   "execution_count": 14,
   "metadata": {},
   "outputs": [],
   "source": [
    "tempTimeStamp = []\n",
    "i = 0\n",
    "while i < len(ds):\n",
    "    tempTimeStamp.append(pd.date_range(start = start[i], end = end[i], freq = 's'))\n",
    "    i += 1"
   ]
  },
  {
   "cell_type": "code",
   "execution_count": 15,
   "metadata": {},
   "outputs": [],
   "source": [
    "tempNumTimeStamps = []\n",
    "i = 0\n",
    "while i < len(ds):\n",
    "    tempNumTimeStamps.append(len(tempTimeStamp[i]))\n",
    "    i += 1"
   ]
  },
  {
   "cell_type": "code",
   "execution_count": 16,
   "metadata": {},
   "outputs": [],
   "source": [
    "ds['actDuration'] = tempNumTimeStamps\n",
    "ds['timeStampList'] = tempTimeStamp"
   ]
  },
  {
   "cell_type": "code",
   "execution_count": 17,
   "metadata": {},
   "outputs": [],
   "source": [
    "timeStampVector = ds['timeStampList']"
   ]
  },
  {
   "cell_type": "code",
   "execution_count": 18,
   "metadata": {},
   "outputs": [
    {
     "data": {
      "text/plain": [
       "DatetimeIndex(['2003-04-01 20:51:58', '2003-04-01 20:51:59',\n",
       "               '2003-04-01 20:52:00', '2003-04-01 20:52:01',\n",
       "               '2003-04-01 20:52:02', '2003-04-01 20:52:03',\n",
       "               '2003-04-01 20:52:04', '2003-04-01 20:52:05'],\n",
       "              dtype='datetime64[ns]', freq='S')"
      ]
     },
     "execution_count": 18,
     "metadata": {},
     "output_type": "execute_result"
    }
   ],
   "source": [
    "timeStampVector[1]"
   ]
  },
  {
   "cell_type": "code",
   "execution_count": 19,
   "metadata": {},
   "outputs": [],
   "source": [
    "DTArrayList = []\n",
    "i = 0\n",
    "while i < len(ds):\n",
    "    DTArrayList.append(pd.DatetimeIndex.to_pydatetime(timeStampVector[i]))\n",
    "    i = i + 1"
   ]
  },
  {
   "cell_type": "code",
   "execution_count": 20,
   "metadata": {},
   "outputs": [],
   "source": [
    "ds['timeStampArrayList'] = DTArrayList"
   ]
  },
  {
   "cell_type": "code",
   "execution_count": 21,
   "metadata": {},
   "outputs": [
    {
     "data": {
      "text/html": [
       "<div>\n",
       "<style scoped>\n",
       "    .dataframe tbody tr th:only-of-type {\n",
       "        vertical-align: middle;\n",
       "    }\n",
       "\n",
       "    .dataframe tbody tr th {\n",
       "        vertical-align: top;\n",
       "    }\n",
       "\n",
       "    .dataframe thead th {\n",
       "        text-align: right;\n",
       "    }\n",
       "</style>\n",
       "<table border=\"1\" class=\"dataframe\">\n",
       "  <thead>\n",
       "    <tr style=\"text-align: right;\">\n",
       "      <th></th>\n",
       "      <th>subActNum</th>\n",
       "      <th>subAct</th>\n",
       "      <th>start</th>\n",
       "      <th>end</th>\n",
       "      <th>actDuration</th>\n",
       "      <th>timeStampList</th>\n",
       "      <th>timeStampArrayList</th>\n",
       "    </tr>\n",
       "  </thead>\n",
       "  <tbody>\n",
       "    <tr>\n",
       "      <th>0</th>\n",
       "      <td>100</td>\n",
       "      <td>Toilet Flush</td>\n",
       "      <td>2003-04-01 20:51:52</td>\n",
       "      <td>2003-04-01 21:05:20</td>\n",
       "      <td>809</td>\n",
       "      <td>DatetimeIndex(['2003-04-01 20:51:52', '2003-04...</td>\n",
       "      <td>[2003-04-01 20:51:52, 2003-04-01 20:51:53, 200...</td>\n",
       "    </tr>\n",
       "    <tr>\n",
       "      <th>1</th>\n",
       "      <td>68</td>\n",
       "      <td>Sink faucet - hot</td>\n",
       "      <td>2003-04-01 20:51:58</td>\n",
       "      <td>2003-04-01 20:52:05</td>\n",
       "      <td>8</td>\n",
       "      <td>DatetimeIndex(['2003-04-01 20:51:58', '2003-04...</td>\n",
       "      <td>[2003-04-01 20:51:58, 2003-04-01 20:51:59, 200...</td>\n",
       "    </tr>\n",
       "    <tr>\n",
       "      <th>2</th>\n",
       "      <td>81</td>\n",
       "      <td>Closet</td>\n",
       "      <td>2003-04-01 20:53:36</td>\n",
       "      <td>2003-04-01 20:53:43</td>\n",
       "      <td>8</td>\n",
       "      <td>DatetimeIndex(['2003-04-01 20:53:36', '2003-04...</td>\n",
       "      <td>[2003-04-01 20:53:36, 2003-04-01 20:53:37, 200...</td>\n",
       "    </tr>\n",
       "    <tr>\n",
       "      <th>3</th>\n",
       "      <td>101</td>\n",
       "      <td>Light switch</td>\n",
       "      <td>2003-04-01 20:53:49</td>\n",
       "      <td>2003-04-01 21:21:43</td>\n",
       "      <td>1675</td>\n",
       "      <td>DatetimeIndex(['2003-04-01 20:53:49', '2003-04...</td>\n",
       "      <td>[2003-04-01 20:53:49, 2003-04-01 20:53:50, 200...</td>\n",
       "    </tr>\n",
       "  </tbody>\n",
       "</table>\n",
       "</div>"
      ],
      "text/plain": [
       "   subActNum             subAct                start                  end  \\\n",
       "0        100       Toilet Flush  2003-04-01 20:51:52  2003-04-01 21:05:20   \n",
       "1         68  Sink faucet - hot  2003-04-01 20:51:58  2003-04-01 20:52:05   \n",
       "2         81             Closet  2003-04-01 20:53:36  2003-04-01 20:53:43   \n",
       "3        101       Light switch  2003-04-01 20:53:49  2003-04-01 21:21:43   \n",
       "\n",
       "   actDuration                                      timeStampList  \\\n",
       "0          809  DatetimeIndex(['2003-04-01 20:51:52', '2003-04...   \n",
       "1            8  DatetimeIndex(['2003-04-01 20:51:58', '2003-04...   \n",
       "2            8  DatetimeIndex(['2003-04-01 20:53:36', '2003-04...   \n",
       "3         1675  DatetimeIndex(['2003-04-01 20:53:49', '2003-04...   \n",
       "\n",
       "                                  timeStampArrayList  \n",
       "0  [2003-04-01 20:51:52, 2003-04-01 20:51:53, 200...  \n",
       "1  [2003-04-01 20:51:58, 2003-04-01 20:51:59, 200...  \n",
       "2  [2003-04-01 20:53:36, 2003-04-01 20:53:37, 200...  \n",
       "3  [2003-04-01 20:53:49, 2003-04-01 20:53:50, 200...  "
      ]
     },
     "execution_count": 21,
     "metadata": {},
     "output_type": "execute_result"
    }
   ],
   "source": [
    "ds.head(n=4)"
   ]
  },
  {
   "cell_type": "code",
   "execution_count": 22,
   "metadata": {},
   "outputs": [],
   "source": [
    "ds.to_csv('S1SubActivities_timeStampRanges.csv',index=False)"
   ]
  }
 ],
 "metadata": {
  "kernelspec": {
   "display_name": "Python 3",
   "language": "python",
   "name": "python3"
  },
  "language_info": {
   "codemirror_mode": {
    "name": "ipython",
    "version": 3
   },
   "file_extension": ".py",
   "mimetype": "text/x-python",
   "name": "python",
   "nbconvert_exporter": "python",
   "pygments_lexer": "ipython3",
   "version": "3.6.7"
  }
 },
 "nbformat": 4,
 "nbformat_minor": 4
}
