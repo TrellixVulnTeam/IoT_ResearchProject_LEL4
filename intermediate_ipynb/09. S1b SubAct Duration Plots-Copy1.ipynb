{
 "cells": [
  {
   "cell_type": "code",
   "execution_count": 1,
   "metadata": {},
   "outputs": [],
   "source": [
    "import pandas as pd\n",
    "import numpy as np\n",
    "import time\n",
    "from datetime import datetime\n",
    "import altair as alt\n",
    "import pandas as pd"
   ]
  },
  {
   "cell_type": "code",
   "execution_count": null,
   "metadata": {},
   "outputs": [],
   "source": []
  },
  {
   "cell_type": "code",
   "execution_count": 2,
   "metadata": {},
   "outputs": [],
   "source": [
    "ds = pd.read_csv('S1SubActivities_preprocessed.csv', index_col = None) \n",
    "ds.start = pd.to_datetime(ds.start, format='%Y-%m-%d %H:%M:%S')\n",
    "ds.end = pd.to_datetime(ds.end, format='%Y-%m-%d %H:%M:%S')\n",
    "ds = ds.sort_values('start')\n",
    "ds.reset_index(drop = True, inplace = True)"
   ]
  },
  {
   "cell_type": "code",
   "execution_count": 3,
   "metadata": {},
   "outputs": [
    {
     "data": {
      "text/html": [
       "<div>\n",
       "<style scoped>\n",
       "    .dataframe tbody tr th:only-of-type {\n",
       "        vertical-align: middle;\n",
       "    }\n",
       "\n",
       "    .dataframe tbody tr th {\n",
       "        vertical-align: top;\n",
       "    }\n",
       "\n",
       "    .dataframe thead th {\n",
       "        text-align: right;\n",
       "    }\n",
       "</style>\n",
       "<table border=\"1\" class=\"dataframe\">\n",
       "  <thead>\n",
       "    <tr style=\"text-align: right;\">\n",
       "      <th></th>\n",
       "      <th>subActNum</th>\n",
       "      <th>subAct</th>\n",
       "      <th>start</th>\n",
       "      <th>end</th>\n",
       "    </tr>\n",
       "  </thead>\n",
       "  <tbody>\n",
       "    <tr>\n",
       "      <th>0</th>\n",
       "      <td>67</td>\n",
       "      <td>Cabinet</td>\n",
       "      <td>2003-03-27 06:43:40</td>\n",
       "      <td>2003-03-27 06:43:43</td>\n",
       "    </tr>\n",
       "    <tr>\n",
       "      <th>1</th>\n",
       "      <td>100</td>\n",
       "      <td>Toilet Flush</td>\n",
       "      <td>2003-03-27 06:44:06</td>\n",
       "      <td>2003-03-27 07:12:41</td>\n",
       "    </tr>\n",
       "  </tbody>\n",
       "</table>\n",
       "</div>"
      ],
      "text/plain": [
       "   subActNum        subAct               start                 end\n",
       "0         67       Cabinet 2003-03-27 06:43:40 2003-03-27 06:43:43\n",
       "1        100  Toilet Flush 2003-03-27 06:44:06 2003-03-27 07:12:41"
      ]
     },
     "execution_count": 3,
     "metadata": {},
     "output_type": "execute_result"
    }
   ],
   "source": [
    "ds.head(n=2)"
   ]
  },
  {
   "cell_type": "code",
   "execution_count": 4,
   "metadata": {},
   "outputs": [
    {
     "name": "stdout",
     "output_type": "stream",
     "text": [
      "<class 'pandas.core.frame.DataFrame'>\n",
      "RangeIndex: 2772 entries, 0 to 2771\n",
      "Data columns (total 4 columns):\n",
      "subActNum    2772 non-null int64\n",
      "subAct       2772 non-null object\n",
      "start        2772 non-null datetime64[ns]\n",
      "end          2772 non-null datetime64[ns]\n",
      "dtypes: datetime64[ns](2), int64(1), object(1)\n",
      "memory usage: 86.8+ KB\n"
     ]
    }
   ],
   "source": [
    "ds.info()"
   ]
  },
  {
   "cell_type": "code",
   "execution_count": 4,
   "metadata": {},
   "outputs": [],
   "source": [
    "ds.set_index(ds.start, inplace = True)\n",
    "ds.insert((len(ds.columns)), \"DAY\", ds.index.dayofweek.astype(str), True)\n",
    "ds.insert((len(ds.columns)), \"WDWE\", ds.index.dayofweek.astype(str), True) #"
   ]
  },
  {
   "cell_type": "code",
   "execution_count": 5,
   "metadata": {},
   "outputs": [
    {
     "data": {
      "text/html": [
       "<div>\n",
       "<style scoped>\n",
       "    .dataframe tbody tr th:only-of-type {\n",
       "        vertical-align: middle;\n",
       "    }\n",
       "\n",
       "    .dataframe tbody tr th {\n",
       "        vertical-align: top;\n",
       "    }\n",
       "\n",
       "    .dataframe thead th {\n",
       "        text-align: right;\n",
       "    }\n",
       "</style>\n",
       "<table border=\"1\" class=\"dataframe\">\n",
       "  <thead>\n",
       "    <tr style=\"text-align: right;\">\n",
       "      <th></th>\n",
       "      <th>subActNum</th>\n",
       "      <th>subAct</th>\n",
       "      <th>start</th>\n",
       "      <th>end</th>\n",
       "      <th>DAY</th>\n",
       "      <th>WDWE</th>\n",
       "    </tr>\n",
       "    <tr>\n",
       "      <th>start</th>\n",
       "      <th></th>\n",
       "      <th></th>\n",
       "      <th></th>\n",
       "      <th></th>\n",
       "      <th></th>\n",
       "      <th></th>\n",
       "    </tr>\n",
       "  </thead>\n",
       "  <tbody>\n",
       "    <tr>\n",
       "      <th>2003-03-27 06:43:40</th>\n",
       "      <td>67</td>\n",
       "      <td>Cabinet</td>\n",
       "      <td>2003-03-27 06:43:40</td>\n",
       "      <td>2003-03-27 06:43:43</td>\n",
       "      <td>3</td>\n",
       "      <td>3</td>\n",
       "    </tr>\n",
       "    <tr>\n",
       "      <th>2003-03-27 06:44:06</th>\n",
       "      <td>100</td>\n",
       "      <td>Toilet Flush</td>\n",
       "      <td>2003-03-27 06:44:06</td>\n",
       "      <td>2003-03-27 07:12:41</td>\n",
       "      <td>3</td>\n",
       "      <td>3</td>\n",
       "    </tr>\n",
       "  </tbody>\n",
       "</table>\n",
       "</div>"
      ],
      "text/plain": [
       "                     subActNum        subAct               start  \\\n",
       "start                                                              \n",
       "2003-03-27 06:43:40         67       Cabinet 2003-03-27 06:43:40   \n",
       "2003-03-27 06:44:06        100  Toilet Flush 2003-03-27 06:44:06   \n",
       "\n",
       "                                    end DAY WDWE  \n",
       "start                                             \n",
       "2003-03-27 06:43:40 2003-03-27 06:43:43   3    3  \n",
       "2003-03-27 06:44:06 2003-03-27 07:12:41   3    3  "
      ]
     },
     "execution_count": 5,
     "metadata": {},
     "output_type": "execute_result"
    }
   ],
   "source": [
    "ds.head(n=2)"
   ]
  },
  {
   "cell_type": "code",
   "execution_count": 6,
   "metadata": {},
   "outputs": [],
   "source": [
    "dayNumKeyWithDAYDict = pd.Series(['Mon','Tue','Wed','Thu','Fri','Sat','Sun'], ['0','1','2','3','4','5','6']).to_dict()\n",
    "#dayNumKeyWithDAYDict\n",
    "dayNumKeyWithWDWEDict = pd.Series(['WD','WD','WD','WD','WD','WE','WE'], ['0','1','2','3','4','5','6']).to_dict()\n",
    "#dayNumKeyWithWDWEDict"
   ]
  },
  {
   "cell_type": "markdown",
   "metadata": {},
   "source": [
    "1. Set specified column as index\n",
    "2. Extract dayofweek from index (ds.index.dayofweek.astype(str)), as this as an attribute\n",
    "3. Replace '0' with 'mon' and so on\n",
    "4. Duplic"
   ]
  },
  {
   "cell_type": "code",
   "execution_count": 8,
   "metadata": {},
   "outputs": [],
   "source": [
    "ds = ds.replace({\"DAY\": dayNumKeyWithDAYDict})"
   ]
  },
  {
   "cell_type": "code",
   "execution_count": 45,
   "metadata": {},
   "outputs": [],
   "source": [
    "# Pre-req = datetime is the index!\n",
    "ds.set_index(ds.start, inplace = True)\n",
    "DAY = ds.index.dayofweek.astype(str)\n",
    "ds['DAY'] = dayOfAct\n",
    "ds['DAY'].replace(['0','1','2','3','4','5','6'],\n",
    "                  ['Mon','Tue','Wed','Thu','Fri','Sat','Sun'], \n",
    "                  inplace = True)\n",
    "ds['WDWE'] = ds['DAY']\n",
    "ds['WDWE'].replace(['Mon','Tue','Wed','Thu','Fri','Sat','Sun'],\n",
    "                   ['WD','WD','WD','WD','WD','WE','WE'],\n",
    "                              inplace = True)\n",
    "ds.reset_index(drop = True, inplace = True)"
   ]
  },
  {
   "cell_type": "code",
   "execution_count": 46,
   "metadata": {},
   "outputs": [
    {
     "data": {
      "text/html": [
       "<div>\n",
       "<style scoped>\n",
       "    .dataframe tbody tr th:only-of-type {\n",
       "        vertical-align: middle;\n",
       "    }\n",
       "\n",
       "    .dataframe tbody tr th {\n",
       "        vertical-align: top;\n",
       "    }\n",
       "\n",
       "    .dataframe thead th {\n",
       "        text-align: right;\n",
       "    }\n",
       "</style>\n",
       "<table border=\"1\" class=\"dataframe\">\n",
       "  <thead>\n",
       "    <tr style=\"text-align: right;\">\n",
       "      <th></th>\n",
       "      <th>subActNum</th>\n",
       "      <th>subAct</th>\n",
       "      <th>start</th>\n",
       "      <th>end</th>\n",
       "      <th>DAY</th>\n",
       "      <th>WDWE</th>\n",
       "    </tr>\n",
       "  </thead>\n",
       "  <tbody>\n",
       "    <tr>\n",
       "      <th>0</th>\n",
       "      <td>67</td>\n",
       "      <td>Cabinet</td>\n",
       "      <td>2003-03-27 06:43:40</td>\n",
       "      <td>2003-03-27 06:43:43</td>\n",
       "      <td>Thu</td>\n",
       "      <td>WD</td>\n",
       "    </tr>\n",
       "    <tr>\n",
       "      <th>1</th>\n",
       "      <td>100</td>\n",
       "      <td>Toilet Flush</td>\n",
       "      <td>2003-03-27 06:44:06</td>\n",
       "      <td>2003-03-27 07:12:41</td>\n",
       "      <td>Thu</td>\n",
       "      <td>WD</td>\n",
       "    </tr>\n",
       "    <tr>\n",
       "      <th>2</th>\n",
       "      <td>101</td>\n",
       "      <td>Light switch</td>\n",
       "      <td>2003-03-27 06:44:20</td>\n",
       "      <td>2003-03-27 07:46:34</td>\n",
       "      <td>Thu</td>\n",
       "      <td>WD</td>\n",
       "    </tr>\n",
       "    <tr>\n",
       "      <th>3</th>\n",
       "      <td>57</td>\n",
       "      <td>Medicine cabinet</td>\n",
       "      <td>2003-03-27 06:44:35</td>\n",
       "      <td>2003-03-27 06:44:48</td>\n",
       "      <td>Thu</td>\n",
       "      <td>WD</td>\n",
       "    </tr>\n",
       "    <tr>\n",
       "      <th>4</th>\n",
       "      <td>58</td>\n",
       "      <td>Medicine cabinet</td>\n",
       "      <td>2003-03-27 06:44:36</td>\n",
       "      <td>2003-03-27 06:44:48</td>\n",
       "      <td>Thu</td>\n",
       "      <td>WD</td>\n",
       "    </tr>\n",
       "  </tbody>\n",
       "</table>\n",
       "</div>"
      ],
      "text/plain": [
       "   subActNum            subAct               start                 end  DAY  \\\n",
       "0         67           Cabinet 2003-03-27 06:43:40 2003-03-27 06:43:43  Thu   \n",
       "1        100      Toilet Flush 2003-03-27 06:44:06 2003-03-27 07:12:41  Thu   \n",
       "2        101      Light switch 2003-03-27 06:44:20 2003-03-27 07:46:34  Thu   \n",
       "3         57  Medicine cabinet 2003-03-27 06:44:35 2003-03-27 06:44:48  Thu   \n",
       "4         58  Medicine cabinet 2003-03-27 06:44:36 2003-03-27 06:44:48  Thu   \n",
       "\n",
       "  WDWE  \n",
       "0   WD  \n",
       "1   WD  \n",
       "2   WD  \n",
       "3   WD  \n",
       "4   WD  "
      ]
     },
     "execution_count": 46,
     "metadata": {},
     "output_type": "execute_result"
    }
   ],
   "source": [
    "ds.head(n=5)"
   ]
  },
  {
   "cell_type": "markdown",
   "metadata": {},
   "source": [
    "* Title with SubActNum and SubAct\n",
    "* Start Date as Thu 03 March\n",
    "* Weekends orange\n",
    "* Weekdays blue\n",
    "* 24till2\n",
    "* 3till5\n",
    "* 6till8\n",
    "* 9till11\n",
    "* 12till14\n",
    "* 15till17\n",
    "* 18till20\n",
    "* 21till23"
   ]
  },
  {
   "cell_type": "code",
   "execution_count": 4,
   "metadata": {},
   "outputs": [],
   "source": [
    "# Unique subActNum list\n",
    "unique_list = []\n",
    "for x in ds.subActNum:                     # Traverse for all elements \n",
    "    if x not in unique_list:            # Check if exists in unique_list or not \n",
    "        unique_list.append(x)     "
   ]
  },
  {
   "cell_type": "code",
   "execution_count": 10,
   "metadata": {},
   "outputs": [],
   "source": [
    "cars = pd.read_csv('auto-mpg.csv',index_col='car name')"
   ]
  },
  {
   "cell_type": "code",
   "execution_count": 12,
   "metadata": {},
   "outputs": [
    {
     "data": {
      "text/html": [
       "<div>\n",
       "<style scoped>\n",
       "    .dataframe tbody tr th:only-of-type {\n",
       "        vertical-align: middle;\n",
       "    }\n",
       "\n",
       "    .dataframe tbody tr th {\n",
       "        vertical-align: top;\n",
       "    }\n",
       "\n",
       "    .dataframe thead th {\n",
       "        text-align: right;\n",
       "    }\n",
       "</style>\n",
       "<table border=\"1\" class=\"dataframe\">\n",
       "  <thead>\n",
       "    <tr style=\"text-align: right;\">\n",
       "      <th></th>\n",
       "      <th>mpg</th>\n",
       "      <th>cylinders</th>\n",
       "      <th>displacement</th>\n",
       "      <th>horsepower</th>\n",
       "      <th>weight</th>\n",
       "      <th>acceleration</th>\n",
       "      <th>model year</th>\n",
       "      <th>origin</th>\n",
       "    </tr>\n",
       "    <tr>\n",
       "      <th>car name</th>\n",
       "      <th></th>\n",
       "      <th></th>\n",
       "      <th></th>\n",
       "      <th></th>\n",
       "      <th></th>\n",
       "      <th></th>\n",
       "      <th></th>\n",
       "      <th></th>\n",
       "    </tr>\n",
       "  </thead>\n",
       "  <tbody>\n",
       "    <tr>\n",
       "      <th>chevrolet chevelle malibu</th>\n",
       "      <td>18.0</td>\n",
       "      <td>8</td>\n",
       "      <td>307.0</td>\n",
       "      <td>130</td>\n",
       "      <td>3504</td>\n",
       "      <td>12.0</td>\n",
       "      <td>70</td>\n",
       "      <td>1</td>\n",
       "    </tr>\n",
       "    <tr>\n",
       "      <th>buick skylark 320</th>\n",
       "      <td>15.0</td>\n",
       "      <td>8</td>\n",
       "      <td>350.0</td>\n",
       "      <td>165</td>\n",
       "      <td>3693</td>\n",
       "      <td>11.5</td>\n",
       "      <td>70</td>\n",
       "      <td>1</td>\n",
       "    </tr>\n",
       "    <tr>\n",
       "      <th>plymouth satellite</th>\n",
       "      <td>18.0</td>\n",
       "      <td>8</td>\n",
       "      <td>318.0</td>\n",
       "      <td>150</td>\n",
       "      <td>3436</td>\n",
       "      <td>11.0</td>\n",
       "      <td>70</td>\n",
       "      <td>1</td>\n",
       "    </tr>\n",
       "    <tr>\n",
       "      <th>amc rebel sst</th>\n",
       "      <td>16.0</td>\n",
       "      <td>8</td>\n",
       "      <td>304.0</td>\n",
       "      <td>150</td>\n",
       "      <td>3433</td>\n",
       "      <td>12.0</td>\n",
       "      <td>70</td>\n",
       "      <td>1</td>\n",
       "    </tr>\n",
       "    <tr>\n",
       "      <th>ford torino</th>\n",
       "      <td>17.0</td>\n",
       "      <td>8</td>\n",
       "      <td>302.0</td>\n",
       "      <td>140</td>\n",
       "      <td>3449</td>\n",
       "      <td>10.5</td>\n",
       "      <td>70</td>\n",
       "      <td>1</td>\n",
       "    </tr>\n",
       "  </tbody>\n",
       "</table>\n",
       "</div>"
      ],
      "text/plain": [
       "                            mpg  cylinders  displacement horsepower  weight  \\\n",
       "car name                                                                      \n",
       "chevrolet chevelle malibu  18.0          8         307.0        130    3504   \n",
       "buick skylark 320          15.0          8         350.0        165    3693   \n",
       "plymouth satellite         18.0          8         318.0        150    3436   \n",
       "amc rebel sst              16.0          8         304.0        150    3433   \n",
       "ford torino                17.0          8         302.0        140    3449   \n",
       "\n",
       "                           acceleration  model year  origin  \n",
       "car name                                                     \n",
       "chevrolet chevelle malibu          12.0          70       1  \n",
       "buick skylark 320                  11.5          70       1  \n",
       "plymouth satellite                 11.0          70       1  \n",
       "amc rebel sst                      12.0          70       1  \n",
       "ford torino                        10.5          70       1  "
      ]
     },
     "execution_count": 12,
     "metadata": {},
     "output_type": "execute_result"
    }
   ],
   "source": [
    "cars.head(n=5)"
   ]
  },
  {
   "cell_type": "code",
   "execution_count": 16,
   "metadata": {},
   "outputs": [
    {
     "data": {
      "application/vnd.vegalite.v3+json": {
       "$schema": "https://vega.github.io/schema/vega-lite/v3.2.1.json",
       "config": {
        "mark": {
         "tooltip": null
        },
        "view": {
         "height": 300,
         "width": 400
        }
       },
       "data": {
        "name": "data-cf28a823a9d8859ea26106b7aeec6b15"
       },
       "datasets": {
        "data-cf28a823a9d8859ea26106b7aeec6b15": [
         {
          "end": "2003-03-27T07:43:48",
          "index": 34,
          "start": "2003-03-27T07:43:23"
         },
         {
          "end": "2003-03-27T12:26:45",
          "index": 67,
          "start": "2003-03-27T12:26:42"
         },
         {
          "end": "2003-03-28T12:31:18",
          "index": 100,
          "start": "2003-03-28T12:31:11"
         },
         {
          "end": "2003-03-28T12:31:18",
          "index": 101,
          "start": "2003-03-28T12:31:11"
         },
         {
          "end": "2003-03-28T17:43:06",
          "index": 128,
          "start": "2003-03-28T17:42:57"
         },
         {
          "end": "2003-03-28T20:51:17",
          "index": 172,
          "start": "2003-03-28T20:51:10"
         },
         {
          "end": "2003-03-28T20:51:17",
          "index": 173,
          "start": "2003-03-28T20:51:10"
         },
         {
          "end": "2003-03-28T22:14:20",
          "index": 192,
          "start": "2003-03-28T22:13:50"
         },
         {
          "end": "2003-03-28T22:16:20",
          "index": 194,
          "start": "2003-03-28T22:16:16"
         },
         {
          "end": "2003-03-28T22:29:54",
          "index": 197,
          "start": "2003-03-28T22:29:38"
         },
         {
          "end": "2003-03-29T06:37:59",
          "index": 205,
          "start": "2003-03-29T06:37:48"
         },
         {
          "end": "2003-03-29T09:11:32",
          "index": 212,
          "start": "2003-03-29T09:11:05"
         },
         {
          "end": "2003-03-29T09:45:25",
          "index": 223,
          "start": "2003-03-29T09:45:23"
         },
         {
          "end": "2003-03-29T09:45:25",
          "index": 224,
          "start": "2003-03-29T09:45:23"
         },
         {
          "end": "2003-03-29T15:38:08",
          "index": 502,
          "start": "2003-03-29T15:37:59"
         },
         {
          "end": "2003-03-29T16:48:19",
          "index": 642,
          "start": "2003-03-29T16:48:09"
         },
         {
          "end": "2003-03-29T17:14:06",
          "index": 643,
          "start": "2003-03-29T17:14:00"
         },
         {
          "end": "2003-03-29T18:20:01",
          "index": 646,
          "start": "2003-03-29T18:19:56"
         },
         {
          "end": "2003-03-29T18:24:37",
          "index": 652,
          "start": "2003-03-29T18:24:32"
         },
         {
          "end": "2003-03-29T18:36:10",
          "index": 664,
          "start": "2003-03-29T18:35:42"
         },
         {
          "end": "2003-03-29T22:26:13",
          "index": 676,
          "start": "2003-03-29T22:25:39"
         },
         {
          "end": "2003-03-29T22:28:47",
          "index": 680,
          "start": "2003-03-29T22:28:44"
         },
         {
          "end": "2003-03-29T23:07:36",
          "index": 683,
          "start": "2003-03-29T23:07:20"
         },
         {
          "end": "2003-03-30T08:14:47",
          "index": 726,
          "start": "2003-03-30T08:14:44"
         },
         {
          "end": "2003-03-30T11:00:31",
          "index": 741,
          "start": "2003-03-30T11:00:27"
         },
         {
          "end": "2003-03-30T12:45:48",
          "index": 751,
          "start": "2003-03-30T12:45:34"
         },
         {
          "end": "2003-03-30T12:45:48",
          "index": 752,
          "start": "2003-03-30T12:45:34"
         },
         {
          "end": "2003-03-30T12:46:21",
          "index": 753,
          "start": "2003-03-30T12:46:00"
         },
         {
          "end": "2003-03-30T12:46:21",
          "index": 754,
          "start": "2003-03-30T12:46:00"
         },
         {
          "end": "2003-03-30T13:19:13",
          "index": 775,
          "start": "2003-03-30T13:19:07"
         },
         {
          "end": "2003-03-30T16:23:53",
          "index": 810,
          "start": "2003-03-30T16:23:23"
         },
         {
          "end": "2003-03-30T22:57:59",
          "index": 821,
          "start": "2003-03-30T22:57:20"
         },
         {
          "end": "2003-03-30T22:59:20",
          "index": 823,
          "start": "2003-03-30T22:59:16"
         },
         {
          "end": "2003-03-31T07:36:34",
          "index": 826,
          "start": "2003-03-31T07:36:06"
         },
         {
          "end": "2003-03-31T08:59:12",
          "index": 840,
          "start": "2003-03-31T08:59:10"
         },
         {
          "end": "2003-03-31T09:14:56",
          "index": 846,
          "start": "2003-03-31T09:14:46"
         },
         {
          "end": "2003-03-31T09:34:46",
          "index": 860,
          "start": "2003-03-31T09:34:08"
         },
         {
          "end": "2003-03-31T17:14:16",
          "index": 887,
          "start": "2003-03-31T17:14:09"
         },
         {
          "end": "2003-03-31T19:42:17",
          "index": 892,
          "start": "2003-03-31T19:41:44"
         },
         {
          "end": "2003-03-31T19:43:53",
          "index": 895,
          "start": "2003-03-31T19:43:46"
         },
         {
          "end": "2003-04-01T06:53:36",
          "index": 921,
          "start": "2003-04-01T06:53:35"
         },
         {
          "end": "2003-04-01T06:55:33",
          "index": 923,
          "start": "2003-04-01T06:54:57"
         },
         {
          "end": "2003-04-01T06:57:56",
          "index": 928,
          "start": "2003-04-01T06:57:47"
         },
         {
          "end": "2003-04-01T17:39:52",
          "index": 962,
          "start": "2003-04-01T17:39:46"
         },
         {
          "end": "2003-04-01T18:11:13",
          "index": 963,
          "start": "2003-04-01T18:11:02"
         },
         {
          "end": "2003-04-01T20:52:05",
          "index": 966,
          "start": "2003-04-01T20:51:58"
         },
         {
          "end": "2003-04-01T21:20:05",
          "index": 977,
          "start": "2003-04-01T21:19:41"
         },
         {
          "end": "2003-04-01T21:21:23",
          "index": 982,
          "start": "2003-04-01T21:21:16"
         },
         {
          "end": "2003-04-01T23:10:33",
          "index": 987,
          "start": "2003-04-01T23:10:28"
         },
         {
          "end": "2003-04-01T23:10:33",
          "index": 988,
          "start": "2003-04-01T23:10:28"
         },
         {
          "end": "2003-04-02T07:14:15",
          "index": 995,
          "start": "2003-04-02T07:13:53"
         },
         {
          "end": "2003-04-02T08:21:04",
          "index": 1024,
          "start": "2003-04-02T08:19:27"
         },
         {
          "end": "2003-04-02T08:21:57",
          "index": 1027,
          "start": "2003-04-02T08:21:53"
         },
         {
          "end": "2003-04-02T08:24:09",
          "index": 1030,
          "start": "2003-04-02T08:23:56"
         },
         {
          "end": "2003-04-02T11:25:19",
          "index": 1043,
          "start": "2003-04-02T11:25:06"
         },
         {
          "end": "2003-04-02T11:25:19",
          "index": 1044,
          "start": "2003-04-02T11:25:06"
         },
         {
          "end": "2003-04-02T12:12:20",
          "index": 1120,
          "start": "2003-04-02T12:12:16"
         },
         {
          "end": "2003-04-02T16:45:02",
          "index": 1125,
          "start": "2003-04-02T16:44:53"
         },
         {
          "end": "2003-04-02T21:26:46",
          "index": 1177,
          "start": "2003-04-02T21:25:39"
         },
         {
          "end": "2003-04-02T21:47:15",
          "index": 1189,
          "start": "2003-04-02T21:46:36"
         },
         {
          "end": "2003-04-03T07:10:34",
          "index": 1195,
          "start": "2003-04-03T07:10:27"
         },
         {
          "end": "2003-04-03T08:06:35",
          "index": 1199,
          "start": "2003-04-03T08:05:27"
         },
         {
          "end": "2003-04-03T09:26:50",
          "index": 1242,
          "start": "2003-04-03T09:26:44"
         },
         {
          "end": "2003-04-03T09:27:33",
          "index": 1244,
          "start": "2003-04-03T09:27:13"
         },
         {
          "end": "2003-04-03T13:57:58",
          "index": 1266,
          "start": "2003-04-03T13:57:48"
         },
         {
          "end": "2003-04-03T17:47:56",
          "index": 1274,
          "start": "2003-04-03T17:47:51"
         },
         {
          "end": "2003-04-03T20:48:41",
          "index": 1314,
          "start": "2003-04-03T20:48:18"
         },
         {
          "end": "2003-04-03T22:08:58",
          "index": 1329,
          "start": "2003-04-03T22:08:53"
         },
         {
          "end": "2003-04-03T22:08:58",
          "index": 1332,
          "start": "2003-04-03T22:08:53"
         },
         {
          "end": "2003-04-04T06:12:29",
          "index": 1344,
          "start": "2003-04-04T06:12:22"
         },
         {
          "end": "2003-04-04T07:22:05",
          "index": 1377,
          "start": "2003-04-04T07:21:42"
         },
         {
          "end": "2003-04-04T07:22:05",
          "index": 1378,
          "start": "2003-04-04T07:21:42"
         },
         {
          "end": "2003-04-04T07:23:58",
          "index": 1384,
          "start": "2003-04-04T07:23:56"
         },
         {
          "end": "2003-04-04T14:02:52",
          "index": 1435,
          "start": "2003-04-04T14:02:46"
         },
         {
          "end": "2003-04-04T16:43:46",
          "index": 1464,
          "start": "2003-04-04T16:43:39"
         },
         {
          "end": "2003-04-04T16:43:46",
          "index": 1465,
          "start": "2003-04-04T16:43:39"
         },
         {
          "end": "2003-04-04T17:48:05",
          "index": 1477,
          "start": "2003-04-04T17:47:51"
         },
         {
          "end": "2003-04-04T17:48:05",
          "index": 1478,
          "start": "2003-04-04T17:47:51"
         },
         {
          "end": "2003-04-05T11:30:31",
          "index": 1514,
          "start": "2003-04-05T11:30:26"
         },
         {
          "end": "2003-04-05T16:09:20",
          "index": 1605,
          "start": "2003-04-05T16:09:16"
         },
         {
          "end": "2003-04-05T17:23:55",
          "index": 1628,
          "start": "2003-04-05T17:23:47"
         },
         {
          "end": "2003-04-05T19:45:09",
          "index": 1643,
          "start": "2003-04-05T19:44:32"
         },
         {
          "end": "2003-04-05T22:16:37",
          "index": 1648,
          "start": "2003-04-05T20:27:49"
         },
         {
          "end": "2003-04-05T22:44:39",
          "index": 1665,
          "start": "2003-04-05T22:44:02"
         },
         {
          "end": "2003-04-05T23:46:41",
          "index": 1672,
          "start": "2003-04-05T23:46:36"
         },
         {
          "end": "2003-04-06T00:55:34",
          "index": 1677,
          "start": "2003-04-06T00:55:28"
         },
         {
          "end": "2003-04-06T00:58:34",
          "index": 1680,
          "start": "2003-04-06T00:58:27"
         },
         {
          "end": "2003-04-06T08:05:10",
          "index": 1689,
          "start": "2003-04-06T08:05:04"
         },
         {
          "end": "2003-04-06T08:54:02",
          "index": 1698,
          "start": "2003-04-06T08:53:56"
         },
         {
          "end": "2003-04-06T09:43:41",
          "index": 1724,
          "start": "2003-04-06T09:43:10"
         },
         {
          "end": "2003-04-06T16:57:38",
          "index": 1810,
          "start": "2003-04-06T16:57:27"
         },
         {
          "end": "2003-04-06T17:38:15",
          "index": 1815,
          "start": "2003-04-06T17:38:11"
         },
         {
          "end": "2003-04-06T17:40:15",
          "index": 1819,
          "start": "2003-04-06T17:39:45"
         },
         {
          "end": "2003-04-06T18:16:14",
          "index": 1824,
          "start": "2003-04-06T18:16:09"
         },
         {
          "end": "2003-04-06T18:41:31",
          "index": 1842,
          "start": "2003-04-06T18:41:16"
         },
         {
          "end": "2003-04-06T20:56:11",
          "index": 1871,
          "start": "2003-04-06T20:55:26"
         },
         {
          "end": "2003-04-06T20:58:53",
          "index": 1875,
          "start": "2003-04-06T20:58:39"
         },
         {
          "end": "2003-04-06T21:36:32",
          "index": 1878,
          "start": "2003-04-06T21:36:27"
         },
         {
          "end": "2003-04-07T04:40:15",
          "index": 1881,
          "start": "2003-04-07T04:40:08"
         },
         {
          "end": "2003-04-07T07:42:35",
          "index": 1914,
          "start": "2003-04-07T07:42:31"
         },
         {
          "end": "2003-04-07T07:46:02",
          "index": 1916,
          "start": "2003-04-07T07:45:35"
         },
         {
          "end": "2003-04-07T07:50:09",
          "index": 1919,
          "start": "2003-04-07T07:49:16"
         },
         {
          "end": "2003-04-07T07:54:36",
          "index": 1926,
          "start": "2003-04-07T07:54:32"
         },
         {
          "end": "2003-04-07T13:14:46",
          "index": 1957,
          "start": "2003-04-07T13:14:30"
         },
         {
          "end": "2003-04-07T16:42:06",
          "index": 1969,
          "start": "2003-04-07T16:41:52"
         },
         {
          "end": "2003-04-07T16:43:51",
          "index": 1972,
          "start": "2003-04-07T16:43:39"
         },
         {
          "end": "2003-04-07T17:46:12",
          "index": 1980,
          "start": "2003-04-07T17:46:10"
         },
         {
          "end": "2003-04-07T18:51:56",
          "index": 1996,
          "start": "2003-04-07T18:51:45"
         },
         {
          "end": "2003-04-07T18:51:56",
          "index": 1997,
          "start": "2003-04-07T18:51:45"
         },
         {
          "end": "2003-04-07T20:36:28",
          "index": 2002,
          "start": "2003-04-07T20:36:03"
         },
         {
          "end": "2003-04-08T06:40:47",
          "index": 2017,
          "start": "2003-04-08T06:40:37"
         },
         {
          "end": "2003-04-08T07:00:09",
          "index": 2028,
          "start": "2003-04-08T06:59:05"
         },
         {
          "end": "2003-04-08T07:05:55",
          "index": 2034,
          "start": "2003-04-08T07:05:48"
         },
         {
          "end": "2003-04-08T07:08:41",
          "index": 2037,
          "start": "2003-04-08T07:08:38"
         },
         {
          "end": "2003-04-08T15:43:17",
          "index": 2068,
          "start": "2003-04-08T15:41:45"
         },
         {
          "end": "2003-04-08T15:56:39",
          "index": 2075,
          "start": "2003-04-08T15:55:16"
         },
         {
          "end": "2003-04-08T16:05:18",
          "index": 2079,
          "start": "2003-04-08T16:05:15"
         },
         {
          "end": "2003-04-08T17:17:15",
          "index": 2085,
          "start": "2003-04-08T17:17:09"
         },
         {
          "end": "2003-04-08T21:29:52",
          "index": 2112,
          "start": "2003-04-08T21:29:18"
         },
         {
          "end": "2003-04-08T21:31:32",
          "index": 2115,
          "start": "2003-04-08T21:31:29"
         },
         {
          "end": "2003-04-09T00:26:21",
          "index": 2121,
          "start": "2003-04-09T00:25:54"
         },
         {
          "end": "2003-04-09T00:27:15",
          "index": 2123,
          "start": "2003-04-09T00:26:24"
         },
         {
          "end": "2003-04-09T07:12:58",
          "index": 2137,
          "start": "2003-04-09T07:12:51"
         },
         {
          "end": "2003-04-09T08:43:44",
          "index": 2150,
          "start": "2003-04-09T08:43:37"
         },
         {
          "end": "2003-04-09T10:55:10",
          "index": 2173,
          "start": "2003-04-09T10:55:01"
         },
         {
          "end": "2003-04-09T16:04:12",
          "index": 2246,
          "start": "2003-04-09T16:04:04"
         },
         {
          "end": "2003-04-09T16:11:02",
          "index": 2249,
          "start": "2003-04-09T16:10:16"
         },
         {
          "end": "2003-04-09T16:15:00",
          "index": 2253,
          "start": "2003-04-09T16:14:57"
         },
         {
          "end": "2003-04-09T16:24:25",
          "index": 2259,
          "start": "2003-04-09T16:24:22"
         },
         {
          "end": "2003-04-09T18:45:19",
          "index": 2266,
          "start": "2003-04-09T18:45:09"
         },
         {
          "end": "2003-04-09T20:10:09",
          "index": 2288,
          "start": "2003-04-09T20:09:39"
         },
         {
          "end": "2003-04-09T20:10:09",
          "index": 2289,
          "start": "2003-04-09T20:09:39"
         },
         {
          "end": "2003-04-09T21:20:29",
          "index": 2300,
          "start": "2003-04-09T21:20:24"
         },
         {
          "end": "2003-04-09T21:20:29",
          "index": 2301,
          "start": "2003-04-09T21:20:24"
         },
         {
          "end": "2003-04-09T21:38:06",
          "index": 2303,
          "start": "2003-04-09T21:38:02"
         },
         {
          "end": "2003-04-10T08:19:17",
          "index": 2308,
          "start": "2003-04-10T08:19:13"
         },
         {
          "end": "2003-04-10T10:12:28",
          "index": 2335,
          "start": "2003-04-10T10:11:45"
         },
         {
          "end": "2003-04-10T11:21:08",
          "index": 2386,
          "start": "2003-04-10T11:20:57"
         },
         {
          "end": "2003-04-10T11:21:56",
          "index": 2389,
          "start": "2003-04-10T11:21:20"
         },
         {
          "end": "2003-04-10T11:22:38",
          "index": 2391,
          "start": "2003-04-10T11:22:19"
         },
         {
          "end": "2003-04-10T11:57:32",
          "index": 2413,
          "start": "2003-04-10T11:56:49"
         },
         {
          "end": "2003-04-10T12:00:46",
          "index": 2415,
          "start": "2003-04-10T11:57:53"
         },
         {
          "end": "2003-04-10T12:02:06",
          "index": 2417,
          "start": "2003-04-10T12:01:55"
         },
         {
          "end": "2003-04-10T12:05:25",
          "index": 2420,
          "start": "2003-04-10T12:05:13"
         },
         {
          "end": "2003-04-10T13:02:21",
          "index": 2456,
          "start": "2003-04-10T12:59:57"
         },
         {
          "end": "2003-04-10T14:43:12",
          "index": 2481,
          "start": "2003-04-10T14:43:07"
         },
         {
          "end": "2003-04-10T18:03:03",
          "index": 2488,
          "start": "2003-04-10T18:02:51"
         },
         {
          "end": "2003-04-10T18:30:05",
          "index": 2491,
          "start": "2003-04-10T18:29:57"
         },
         {
          "end": "2003-04-10T19:16:18",
          "index": 2520,
          "start": "2003-04-10T19:16:10"
         },
         {
          "end": "2003-04-10T19:16:18",
          "index": 2521,
          "start": "2003-04-10T19:16:10"
         },
         {
          "end": "2003-04-10T19:59:55",
          "index": 2532,
          "start": "2003-04-10T19:59:50"
         },
         {
          "end": "2003-04-10T20:58:32",
          "index": 2542,
          "start": "2003-04-10T20:57:53"
         },
         {
          "end": "2003-04-11T08:24:17",
          "index": 2553,
          "start": "2003-04-11T08:24:11"
         },
         {
          "end": "2003-04-11T09:05:07",
          "index": 2558,
          "start": "2003-04-11T09:04:39"
         },
         {
          "end": "2003-04-11T09:48:06",
          "index": 2570,
          "start": "2003-04-11T09:47:41"
         },
         {
          "end": "2003-04-11T09:55:10",
          "index": 2578,
          "start": "2003-04-11T09:54:39"
         },
         {
          "end": "2003-04-11T11:23:34",
          "index": 2608,
          "start": "2003-04-11T11:23:19"
         },
         {
          "end": "2003-04-11T11:25:13",
          "index": 2611,
          "start": "2003-04-11T11:24:43"
         },
         {
          "end": "2003-04-11T11:26:04",
          "index": 2612,
          "start": "2003-04-11T11:26:03"
         },
         {
          "end": "2003-04-11T15:55:22",
          "index": 2703,
          "start": "2003-04-11T15:55:17"
         },
         {
          "end": "2003-04-11T15:55:22",
          "index": 2704,
          "start": "2003-04-11T15:55:17"
         },
         {
          "end": "2003-04-11T17:48:34",
          "index": 2715,
          "start": "2003-04-11T17:48:20"
         },
         {
          "end": "2003-04-11T19:31:54",
          "index": 2723,
          "start": "2003-04-11T19:31:53"
         },
         {
          "end": "2003-04-11T19:32:34",
          "index": 2724,
          "start": "2003-04-11T19:32:20"
         },
         {
          "end": "2003-04-11T20:05:14",
          "index": 2741,
          "start": "2003-04-11T20:05:05"
         },
         {
          "end": "2003-04-11T22:18:26",
          "index": 2759,
          "start": "2003-04-11T22:17:36"
         },
         {
          "end": "2003-04-11T22:19:08",
          "index": 2764,
          "start": "2003-04-11T22:18:32"
         },
         {
          "end": "2003-04-11T22:20:08",
          "index": 2766,
          "start": "2003-04-11T22:19:49"
         },
         {
          "end": "2003-04-11T22:22:01",
          "index": 2769,
          "start": "2003-04-11T22:21:57"
         }
        ]
       },
       "encoding": {
        "detail": {
         "field": "index",
         "type": "quantitative"
        },
        "x": {
         "field": "start",
         "timeUnit": "hoursminutes",
         "type": "temporal"
        },
        "x2": {
         "field": "end",
         "timeUnit": "hoursminutes"
        },
        "y": {
         "field": "start",
         "timeUnit": "date",
         "type": "ordinal"
        }
       },
       "mark": "bar",
       "selection": {
        "selector003": {
         "bind": "scales",
         "encodings": [
          "x",
          "y"
         ],
         "type": "interval"
        }
       },
       "width": 750
      },
      "image/png": "[encoded data removed]",
      "text/plain": [
       "<VegaLite 3 object>\n",
       "\n",
       "If you see this message, it means the renderer has not been properly enabled\n",
       "for the frontend that you are using. For more information, see\n",
       "https://altair-viz.github.io/user_guide/troubleshooting.html\n"
      ]
     },
     "execution_count": 16,
     "metadata": {},
     "output_type": "execute_result"
    }
   ],
   "source": [
    "# https://altair-viz.github.io/user_guide/interactions.html\n",
    "dsCheck = ds[ds['subAct']=='Sink faucet - hot']\n",
    "\n",
    "df = pd.DataFrame({ \n",
    "    'start': dsCheck.start, \n",
    "    'end': dsCheck.end,})\n",
    "\n",
    "alt.Chart(df.reset_index()).mark_bar().encode(\n",
    "    y='date(start):O',\n",
    "    x='hoursminutes(start)',\n",
    "    x2='hoursminutes(end)',\n",
    "    detail='index'\n",
    ").properties(width=750).interactive()\n",
    "\n",
    "\n",
    "\n",
    "selection = alt.selection_multi(fields=['origin'])\n",
    "color = alt.condition(selection,\n",
    "                      alt.Color('origin:N', legend=None),\n",
    "                      alt.value('lightgray'))\n",
    "\n",
    "scatter = alt.Chart(cars).mark_point().encode(\n",
    "    x='horsepower:Q',\n",
    "    y='mpg:Q',\n",
    "    color=color,\n",
    "    tooltip='car name:N'\n",
    ")\n",
    "\n",
    "legend = alt.Chart(cars).mark_point().encode(\n",
    "    y=alt.Y('origin:N', axis=alt.Axis(orient='right')),\n",
    "    color=color\n",
    ").add_selection(\n",
    "    selection\n",
    ")\n",
    "\n",
    "scatter | legend"
   ]
  },
  {
   "cell_type": "code",
   "execution_count": 108,
   "metadata": {},
   "outputs": [],
   "source": [
    "#https://stackoverflow.com/questions/50164001/multiple-column-row-facet-wrap-in-altair?rq=1"
   ]
  },
  {
   "cell_type": "markdown",
   "metadata": {},
   "source": [
    "---"
   ]
  }
 ],
 "metadata": {
  "kernelspec": {
   "display_name": "Python 3",
   "language": "python",
   "name": "python3"
  },
  "language_info": {
   "codemirror_mode": {
    "name": "ipython",
    "version": 3
   },
   "file_extension": ".py",
   "mimetype": "text/x-python",
   "name": "python",
   "nbconvert_exporter": "python",
   "pygments_lexer": "ipython3",
   "version": "3.7.4"
  }
 },
 "nbformat": 4,
 "nbformat_minor": 4
}
