{
 "cells": [
  {
   "cell_type": "code",
   "execution_count": 1,
   "metadata": {},
   "outputs": [],
   "source": [
    "import pandas as pd\n",
    "import numpy as np\n",
    "import time\n",
    "from datetime import datetime"
   ]
  },
  {
   "cell_type": "code",
   "execution_count": 2,
   "metadata": {},
   "outputs": [],
   "source": [
    "ds = pd.read_csv('S1SubActivities_timeStampRanges.csv', index_col = None)"
   ]
  },
  {
   "cell_type": "code",
   "execution_count": 3,
   "metadata": {},
   "outputs": [
    {
     "data": {
      "text/html": [
       "<div>\n",
       "<style scoped>\n",
       "    .dataframe tbody tr th:only-of-type {\n",
       "        vertical-align: middle;\n",
       "    }\n",
       "\n",
       "    .dataframe tbody tr th {\n",
       "        vertical-align: top;\n",
       "    }\n",
       "\n",
       "    .dataframe thead th {\n",
       "        text-align: right;\n",
       "    }\n",
       "</style>\n",
       "<table border=\"1\" class=\"dataframe\">\n",
       "  <thead>\n",
       "    <tr style=\"text-align: right;\">\n",
       "      <th></th>\n",
       "      <th>subActNum</th>\n",
       "      <th>subAct</th>\n",
       "      <th>start</th>\n",
       "      <th>end</th>\n",
       "      <th>actDuration</th>\n",
       "      <th>timeStampList</th>\n",
       "      <th>timeStampArrayList</th>\n",
       "    </tr>\n",
       "  </thead>\n",
       "  <tbody>\n",
       "    <tr>\n",
       "      <th>0</th>\n",
       "      <td>100</td>\n",
       "      <td>Toilet Flush</td>\n",
       "      <td>2003-04-01 20:51:52</td>\n",
       "      <td>2003-04-01 21:05:20</td>\n",
       "      <td>809</td>\n",
       "      <td>DatetimeIndex(['2003-04-01 20:51:52', '2003-04...</td>\n",
       "      <td>[datetime.datetime(2003, 4, 1, 20, 51, 52)\\n d...</td>\n",
       "    </tr>\n",
       "    <tr>\n",
       "      <th>1</th>\n",
       "      <td>68</td>\n",
       "      <td>Sink faucet - hot</td>\n",
       "      <td>2003-04-01 20:51:58</td>\n",
       "      <td>2003-04-01 20:52:05</td>\n",
       "      <td>8</td>\n",
       "      <td>DatetimeIndex(['2003-04-01 20:51:58', '2003-04...</td>\n",
       "      <td>[datetime.datetime(2003, 4, 1, 20, 51, 58)\\n d...</td>\n",
       "    </tr>\n",
       "    <tr>\n",
       "      <th>2</th>\n",
       "      <td>81</td>\n",
       "      <td>Closet</td>\n",
       "      <td>2003-04-01 20:53:36</td>\n",
       "      <td>2003-04-01 20:53:43</td>\n",
       "      <td>8</td>\n",
       "      <td>DatetimeIndex(['2003-04-01 20:53:36', '2003-04...</td>\n",
       "      <td>[datetime.datetime(2003, 4, 1, 20, 53, 36)\\n d...</td>\n",
       "    </tr>\n",
       "    <tr>\n",
       "      <th>3</th>\n",
       "      <td>101</td>\n",
       "      <td>Light switch</td>\n",
       "      <td>2003-04-01 20:53:49</td>\n",
       "      <td>2003-04-01 21:21:43</td>\n",
       "      <td>1675</td>\n",
       "      <td>DatetimeIndex(['2003-04-01 20:53:49', '2003-04...</td>\n",
       "      <td>[datetime.datetime(2003, 4, 1, 20, 53, 49)\\n d...</td>\n",
       "    </tr>\n",
       "  </tbody>\n",
       "</table>\n",
       "</div>"
      ],
      "text/plain": [
       "   subActNum             subAct                start                  end  \\\n",
       "0        100       Toilet Flush  2003-04-01 20:51:52  2003-04-01 21:05:20   \n",
       "1         68  Sink faucet - hot  2003-04-01 20:51:58  2003-04-01 20:52:05   \n",
       "2         81             Closet  2003-04-01 20:53:36  2003-04-01 20:53:43   \n",
       "3        101       Light switch  2003-04-01 20:53:49  2003-04-01 21:21:43   \n",
       "\n",
       "   actDuration                                      timeStampList  \\\n",
       "0          809  DatetimeIndex(['2003-04-01 20:51:52', '2003-04...   \n",
       "1            8  DatetimeIndex(['2003-04-01 20:51:58', '2003-04...   \n",
       "2            8  DatetimeIndex(['2003-04-01 20:53:36', '2003-04...   \n",
       "3         1675  DatetimeIndex(['2003-04-01 20:53:49', '2003-04...   \n",
       "\n",
       "                                  timeStampArrayList  \n",
       "0  [datetime.datetime(2003, 4, 1, 20, 51, 52)\\n d...  \n",
       "1  [datetime.datetime(2003, 4, 1, 20, 51, 58)\\n d...  \n",
       "2  [datetime.datetime(2003, 4, 1, 20, 53, 36)\\n d...  \n",
       "3  [datetime.datetime(2003, 4, 1, 20, 53, 49)\\n d...  "
      ]
     },
     "execution_count": 3,
     "metadata": {},
     "output_type": "execute_result"
    }
   ],
   "source": [
    "ds.head(n=4)"
   ]
  },
  {
   "cell_type": "code",
   "execution_count": 4,
   "metadata": {},
   "outputs": [
    {
     "data": {
      "text/plain": [
       "subActNum              int64\n",
       "subAct                object\n",
       "start                 object\n",
       "end                   object\n",
       "actDuration            int64\n",
       "timeStampList         object\n",
       "timeStampArrayList    object\n",
       "dtype: object"
      ]
     },
     "execution_count": 4,
     "metadata": {},
     "output_type": "execute_result"
    }
   ],
   "source": [
    "ds.dtypes"
   ]
  },
  {
   "cell_type": "code",
   "execution_count": 5,
   "metadata": {},
   "outputs": [],
   "source": [
    "ds.start = pd.to_datetime(ds.start, format = '%Y-%m-%d %H:%M:%S')\n",
    "ds.end = pd.to_datetime(ds.end, format = '%Y-%m-%d %H:%M:%S')"
   ]
  },
  {
   "cell_type": "code",
   "execution_count": 6,
   "metadata": {},
   "outputs": [],
   "source": [
    "start = ds.start\n",
    "end = ds.end"
   ]
  },
  {
   "cell_type": "code",
   "execution_count": 7,
   "metadata": {},
   "outputs": [],
   "source": [
    "tempTimeStamp = []\n",
    "i = 0\n",
    "while i < len(ds):\n",
    "    tempTimeStamp.append(pd.date_range(start = start[i], end = end[i], freq = 's'))\n",
    "    i += 1"
   ]
  },
  {
   "cell_type": "code",
   "execution_count": 8,
   "metadata": {},
   "outputs": [],
   "source": [
    "tempNumTimeStamps = []\n",
    "i = 0\n",
    "while i < len(ds):\n",
    "    tempNumTimeStamps.append(len(tempTimeStamp[i]))\n",
    "    i += 1"
   ]
  },
  {
   "cell_type": "code",
   "execution_count": 9,
   "metadata": {},
   "outputs": [],
   "source": [
    "ds['actDuration'] = tempNumTimeStamps\n",
    "ds['timeStampList'] = tempTimeStamp"
   ]
  },
  {
   "cell_type": "code",
   "execution_count": 10,
   "metadata": {},
   "outputs": [],
   "source": [
    "timeStampVector = ds['timeStampList']"
   ]
  },
  {
   "cell_type": "code",
   "execution_count": 11,
   "metadata": {},
   "outputs": [
    {
     "data": {
      "text/plain": [
       "DatetimeIndex(['2003-04-01 20:51:58', '2003-04-01 20:51:59',\n",
       "               '2003-04-01 20:52:00', '2003-04-01 20:52:01',\n",
       "               '2003-04-01 20:52:02', '2003-04-01 20:52:03',\n",
       "               '2003-04-01 20:52:04', '2003-04-01 20:52:05'],\n",
       "              dtype='datetime64[ns]', freq='S')"
      ]
     },
     "execution_count": 11,
     "metadata": {},
     "output_type": "execute_result"
    }
   ],
   "source": [
    "timeStampVector[1]"
   ]
  },
  {
   "cell_type": "code",
   "execution_count": 12,
   "metadata": {},
   "outputs": [],
   "source": [
    "DTArrayList = []\n",
    "i = 0\n",
    "while i < len(ds):\n",
    "    DTArrayList.append(pd.DatetimeIndex.to_pydatetime(timeStampVector[i]))\n",
    "    i = i + 1"
   ]
  },
  {
   "cell_type": "code",
   "execution_count": 13,
   "metadata": {},
   "outputs": [],
   "source": [
    "ds['timeStampArrayList'] = DTArrayList"
   ]
  },
  {
   "cell_type": "code",
   "execution_count": 14,
   "metadata": {},
   "outputs": [
    {
     "data": {
      "text/html": [
       "<div>\n",
       "<style scoped>\n",
       "    .dataframe tbody tr th:only-of-type {\n",
       "        vertical-align: middle;\n",
       "    }\n",
       "\n",
       "    .dataframe tbody tr th {\n",
       "        vertical-align: top;\n",
       "    }\n",
       "\n",
       "    .dataframe thead th {\n",
       "        text-align: right;\n",
       "    }\n",
       "</style>\n",
       "<table border=\"1\" class=\"dataframe\">\n",
       "  <thead>\n",
       "    <tr style=\"text-align: right;\">\n",
       "      <th></th>\n",
       "      <th>subActNum</th>\n",
       "      <th>subAct</th>\n",
       "      <th>start</th>\n",
       "      <th>end</th>\n",
       "      <th>actDuration</th>\n",
       "      <th>timeStampList</th>\n",
       "      <th>timeStampArrayList</th>\n",
       "    </tr>\n",
       "  </thead>\n",
       "  <tbody>\n",
       "    <tr>\n",
       "      <th>0</th>\n",
       "      <td>100</td>\n",
       "      <td>Toilet Flush</td>\n",
       "      <td>2003-04-01 20:51:52</td>\n",
       "      <td>2003-04-01 21:05:20</td>\n",
       "      <td>809</td>\n",
       "      <td>DatetimeIndex(['2003-04-01 20:51:52', '2003-04...</td>\n",
       "      <td>[2003-04-01 20:51:52, 2003-04-01 20:51:53, 200...</td>\n",
       "    </tr>\n",
       "    <tr>\n",
       "      <th>1</th>\n",
       "      <td>68</td>\n",
       "      <td>Sink faucet - hot</td>\n",
       "      <td>2003-04-01 20:51:58</td>\n",
       "      <td>2003-04-01 20:52:05</td>\n",
       "      <td>8</td>\n",
       "      <td>DatetimeIndex(['2003-04-01 20:51:58', '2003-04...</td>\n",
       "      <td>[2003-04-01 20:51:58, 2003-04-01 20:51:59, 200...</td>\n",
       "    </tr>\n",
       "    <tr>\n",
       "      <th>2</th>\n",
       "      <td>81</td>\n",
       "      <td>Closet</td>\n",
       "      <td>2003-04-01 20:53:36</td>\n",
       "      <td>2003-04-01 20:53:43</td>\n",
       "      <td>8</td>\n",
       "      <td>DatetimeIndex(['2003-04-01 20:53:36', '2003-04...</td>\n",
       "      <td>[2003-04-01 20:53:36, 2003-04-01 20:53:37, 200...</td>\n",
       "    </tr>\n",
       "    <tr>\n",
       "      <th>3</th>\n",
       "      <td>101</td>\n",
       "      <td>Light switch</td>\n",
       "      <td>2003-04-01 20:53:49</td>\n",
       "      <td>2003-04-01 21:21:43</td>\n",
       "      <td>1675</td>\n",
       "      <td>DatetimeIndex(['2003-04-01 20:53:49', '2003-04...</td>\n",
       "      <td>[2003-04-01 20:53:49, 2003-04-01 20:53:50, 200...</td>\n",
       "    </tr>\n",
       "  </tbody>\n",
       "</table>\n",
       "</div>"
      ],
      "text/plain": [
       "   subActNum             subAct               start                 end  \\\n",
       "0        100       Toilet Flush 2003-04-01 20:51:52 2003-04-01 21:05:20   \n",
       "1         68  Sink faucet - hot 2003-04-01 20:51:58 2003-04-01 20:52:05   \n",
       "2         81             Closet 2003-04-01 20:53:36 2003-04-01 20:53:43   \n",
       "3        101       Light switch 2003-04-01 20:53:49 2003-04-01 21:21:43   \n",
       "\n",
       "   actDuration                                      timeStampList  \\\n",
       "0          809  DatetimeIndex(['2003-04-01 20:51:52', '2003-04...   \n",
       "1            8  DatetimeIndex(['2003-04-01 20:51:58', '2003-04...   \n",
       "2            8  DatetimeIndex(['2003-04-01 20:53:36', '2003-04...   \n",
       "3         1675  DatetimeIndex(['2003-04-01 20:53:49', '2003-04...   \n",
       "\n",
       "                                  timeStampArrayList  \n",
       "0  [2003-04-01 20:51:52, 2003-04-01 20:51:53, 200...  \n",
       "1  [2003-04-01 20:51:58, 2003-04-01 20:51:59, 200...  \n",
       "2  [2003-04-01 20:53:36, 2003-04-01 20:53:37, 200...  \n",
       "3  [2003-04-01 20:53:49, 2003-04-01 20:53:50, 200...  "
      ]
     },
     "execution_count": 14,
     "metadata": {},
     "output_type": "execute_result"
    }
   ],
   "source": [
    "ds.head(n=4)"
   ]
  },
  {
   "cell_type": "code",
   "execution_count": 15,
   "metadata": {},
   "outputs": [],
   "source": [
    "ds = ds.set_index(start)"
   ]
  },
  {
   "cell_type": "code",
   "execution_count": 16,
   "metadata": {},
   "outputs": [],
   "source": [
    "s = ds.apply(lambda x: pd.Series(x['timeStampArrayList']),axis=1).stack().reset_index(level=1, drop=True)\n",
    "s.name = 'duration'\n",
    "ds = ds.drop('end', axis=1).join(s)"
   ]
  },
  {
   "cell_type": "code",
   "execution_count": 17,
   "metadata": {},
   "outputs": [
    {
     "data": {
      "text/html": [
       "<div>\n",
       "<style scoped>\n",
       "    .dataframe tbody tr th:only-of-type {\n",
       "        vertical-align: middle;\n",
       "    }\n",
       "\n",
       "    .dataframe tbody tr th {\n",
       "        vertical-align: top;\n",
       "    }\n",
       "\n",
       "    .dataframe thead th {\n",
       "        text-align: right;\n",
       "    }\n",
       "</style>\n",
       "<table border=\"1\" class=\"dataframe\">\n",
       "  <thead>\n",
       "    <tr style=\"text-align: right;\">\n",
       "      <th></th>\n",
       "      <th>subActNum</th>\n",
       "      <th>subAct</th>\n",
       "      <th>start</th>\n",
       "      <th>actDuration</th>\n",
       "      <th>timeStampList</th>\n",
       "      <th>timeStampArrayList</th>\n",
       "      <th>duration</th>\n",
       "    </tr>\n",
       "    <tr>\n",
       "      <th>start</th>\n",
       "      <th></th>\n",
       "      <th></th>\n",
       "      <th></th>\n",
       "      <th></th>\n",
       "      <th></th>\n",
       "      <th></th>\n",
       "      <th></th>\n",
       "    </tr>\n",
       "  </thead>\n",
       "  <tbody>\n",
       "    <tr>\n",
       "      <th>2003-03-27 06:43:40</th>\n",
       "      <td>67</td>\n",
       "      <td>Cabinet</td>\n",
       "      <td>2003-03-27 06:43:40</td>\n",
       "      <td>4</td>\n",
       "      <td>DatetimeIndex(['2003-03-27 06:43:40', '2003-03...</td>\n",
       "      <td>[2003-03-27 06:43:40, 2003-03-27 06:43:41, 200...</td>\n",
       "      <td>2003-03-27 06:43:40</td>\n",
       "    </tr>\n",
       "    <tr>\n",
       "      <th>2003-03-27 06:43:40</th>\n",
       "      <td>67</td>\n",
       "      <td>Cabinet</td>\n",
       "      <td>2003-03-27 06:43:40</td>\n",
       "      <td>4</td>\n",
       "      <td>DatetimeIndex(['2003-03-27 06:43:40', '2003-03...</td>\n",
       "      <td>[2003-03-27 06:43:40, 2003-03-27 06:43:41, 200...</td>\n",
       "      <td>2003-03-27 06:43:41</td>\n",
       "    </tr>\n",
       "    <tr>\n",
       "      <th>2003-03-27 06:43:40</th>\n",
       "      <td>67</td>\n",
       "      <td>Cabinet</td>\n",
       "      <td>2003-03-27 06:43:40</td>\n",
       "      <td>4</td>\n",
       "      <td>DatetimeIndex(['2003-03-27 06:43:40', '2003-03...</td>\n",
       "      <td>[2003-03-27 06:43:40, 2003-03-27 06:43:41, 200...</td>\n",
       "      <td>2003-03-27 06:43:42</td>\n",
       "    </tr>\n",
       "    <tr>\n",
       "      <th>2003-03-27 06:43:40</th>\n",
       "      <td>67</td>\n",
       "      <td>Cabinet</td>\n",
       "      <td>2003-03-27 06:43:40</td>\n",
       "      <td>4</td>\n",
       "      <td>DatetimeIndex(['2003-03-27 06:43:40', '2003-03...</td>\n",
       "      <td>[2003-03-27 06:43:40, 2003-03-27 06:43:41, 200...</td>\n",
       "      <td>2003-03-27 06:43:43</td>\n",
       "    </tr>\n",
       "  </tbody>\n",
       "</table>\n",
       "</div>"
      ],
      "text/plain": [
       "                     subActNum   subAct               start  actDuration  \\\n",
       "start                                                                      \n",
       "2003-03-27 06:43:40         67  Cabinet 2003-03-27 06:43:40            4   \n",
       "2003-03-27 06:43:40         67  Cabinet 2003-03-27 06:43:40            4   \n",
       "2003-03-27 06:43:40         67  Cabinet 2003-03-27 06:43:40            4   \n",
       "2003-03-27 06:43:40         67  Cabinet 2003-03-27 06:43:40            4   \n",
       "\n",
       "                                                         timeStampList  \\\n",
       "start                                                                    \n",
       "2003-03-27 06:43:40  DatetimeIndex(['2003-03-27 06:43:40', '2003-03...   \n",
       "2003-03-27 06:43:40  DatetimeIndex(['2003-03-27 06:43:40', '2003-03...   \n",
       "2003-03-27 06:43:40  DatetimeIndex(['2003-03-27 06:43:40', '2003-03...   \n",
       "2003-03-27 06:43:40  DatetimeIndex(['2003-03-27 06:43:40', '2003-03...   \n",
       "\n",
       "                                                    timeStampArrayList  \\\n",
       "start                                                                    \n",
       "2003-03-27 06:43:40  [2003-03-27 06:43:40, 2003-03-27 06:43:41, 200...   \n",
       "2003-03-27 06:43:40  [2003-03-27 06:43:40, 2003-03-27 06:43:41, 200...   \n",
       "2003-03-27 06:43:40  [2003-03-27 06:43:40, 2003-03-27 06:43:41, 200...   \n",
       "2003-03-27 06:43:40  [2003-03-27 06:43:40, 2003-03-27 06:43:41, 200...   \n",
       "\n",
       "                               duration  \n",
       "start                                    \n",
       "2003-03-27 06:43:40 2003-03-27 06:43:40  \n",
       "2003-03-27 06:43:40 2003-03-27 06:43:41  \n",
       "2003-03-27 06:43:40 2003-03-27 06:43:42  \n",
       "2003-03-27 06:43:40 2003-03-27 06:43:43  "
      ]
     },
     "execution_count": 17,
     "metadata": {},
     "output_type": "execute_result"
    }
   ],
   "source": [
    "ds.head(n=4)"
   ]
  },
  {
   "cell_type": "code",
   "execution_count": 18,
   "metadata": {},
   "outputs": [
    {
     "data": {
      "text/html": [
       "<div>\n",
       "<style scoped>\n",
       "    .dataframe tbody tr th:only-of-type {\n",
       "        vertical-align: middle;\n",
       "    }\n",
       "\n",
       "    .dataframe tbody tr th {\n",
       "        vertical-align: top;\n",
       "    }\n",
       "\n",
       "    .dataframe thead th {\n",
       "        text-align: right;\n",
       "    }\n",
       "</style>\n",
       "<table border=\"1\" class=\"dataframe\">\n",
       "  <thead>\n",
       "    <tr style=\"text-align: right;\">\n",
       "      <th></th>\n",
       "      <th>subActNum</th>\n",
       "      <th>actDuration</th>\n",
       "      <th>duration</th>\n",
       "    </tr>\n",
       "    <tr>\n",
       "      <th>start</th>\n",
       "      <th></th>\n",
       "      <th></th>\n",
       "      <th></th>\n",
       "    </tr>\n",
       "  </thead>\n",
       "  <tbody>\n",
       "    <tr>\n",
       "      <th>2003-03-27 06:43:40</th>\n",
       "      <td>67</td>\n",
       "      <td>4</td>\n",
       "      <td>2003-03-27 06:43:40</td>\n",
       "    </tr>\n",
       "    <tr>\n",
       "      <th>2003-03-27 06:43:40</th>\n",
       "      <td>67</td>\n",
       "      <td>4</td>\n",
       "      <td>2003-03-27 06:43:41</td>\n",
       "    </tr>\n",
       "    <tr>\n",
       "      <th>2003-03-27 06:43:40</th>\n",
       "      <td>67</td>\n",
       "      <td>4</td>\n",
       "      <td>2003-03-27 06:43:42</td>\n",
       "    </tr>\n",
       "    <tr>\n",
       "      <th>2003-03-27 06:43:40</th>\n",
       "      <td>67</td>\n",
       "      <td>4</td>\n",
       "      <td>2003-03-27 06:43:43</td>\n",
       "    </tr>\n",
       "    <tr>\n",
       "      <th>2003-03-27 06:44:06</th>\n",
       "      <td>100</td>\n",
       "      <td>1716</td>\n",
       "      <td>2003-03-27 06:44:06</td>\n",
       "    </tr>\n",
       "    <tr>\n",
       "      <th>2003-03-27 06:44:06</th>\n",
       "      <td>100</td>\n",
       "      <td>1716</td>\n",
       "      <td>2003-03-27 06:44:07</td>\n",
       "    </tr>\n",
       "    <tr>\n",
       "      <th>2003-03-27 06:44:06</th>\n",
       "      <td>100</td>\n",
       "      <td>1716</td>\n",
       "      <td>2003-03-27 06:44:08</td>\n",
       "    </tr>\n",
       "    <tr>\n",
       "      <th>2003-03-27 06:44:06</th>\n",
       "      <td>100</td>\n",
       "      <td>1716</td>\n",
       "      <td>2003-03-27 06:44:09</td>\n",
       "    </tr>\n",
       "    <tr>\n",
       "      <th>2003-03-27 06:44:06</th>\n",
       "      <td>100</td>\n",
       "      <td>1716</td>\n",
       "      <td>2003-03-27 06:44:10</td>\n",
       "    </tr>\n",
       "    <tr>\n",
       "      <th>2003-03-27 06:44:06</th>\n",
       "      <td>100</td>\n",
       "      <td>1716</td>\n",
       "      <td>2003-03-27 06:44:11</td>\n",
       "    </tr>\n",
       "  </tbody>\n",
       "</table>\n",
       "</div>"
      ],
      "text/plain": [
       "                     subActNum  actDuration            duration\n",
       "start                                                          \n",
       "2003-03-27 06:43:40         67            4 2003-03-27 06:43:40\n",
       "2003-03-27 06:43:40         67            4 2003-03-27 06:43:41\n",
       "2003-03-27 06:43:40         67            4 2003-03-27 06:43:42\n",
       "2003-03-27 06:43:40         67            4 2003-03-27 06:43:43\n",
       "2003-03-27 06:44:06        100         1716 2003-03-27 06:44:06\n",
       "2003-03-27 06:44:06        100         1716 2003-03-27 06:44:07\n",
       "2003-03-27 06:44:06        100         1716 2003-03-27 06:44:08\n",
       "2003-03-27 06:44:06        100         1716 2003-03-27 06:44:09\n",
       "2003-03-27 06:44:06        100         1716 2003-03-27 06:44:10\n",
       "2003-03-27 06:44:06        100         1716 2003-03-27 06:44:11"
      ]
     },
     "execution_count": 18,
     "metadata": {},
     "output_type": "execute_result"
    }
   ],
   "source": [
    "ds = ds.drop(columns = ['start', 'subAct', 'timeStampList', 'timeStampArrayList'])\n",
    "ds.head(n=10)"
   ]
  },
  {
   "cell_type": "code",
   "execution_count": 19,
   "metadata": {},
   "outputs": [],
   "source": [
    "ds.to_csv('S1SubActivities_timeRangeMelt.csv',index=False)"
   ]
  },
  {
   "cell_type": "markdown",
   "metadata": {},
   "source": [
    "---"
   ]
  }
 ],
 "metadata": {
  "kernelspec": {
   "display_name": "Python 3",
   "language": "python",
   "name": "python3"
  },
  "language_info": {
   "codemirror_mode": {
    "name": "ipython",
    "version": 3
   },
   "file_extension": ".py",
   "mimetype": "text/x-python",
   "name": "python",
   "nbconvert_exporter": "python",
   "pygments_lexer": "ipython3",
   "version": "3.6.7"
  }
 },
 "nbformat": 4,
 "nbformat_minor": 4
}
