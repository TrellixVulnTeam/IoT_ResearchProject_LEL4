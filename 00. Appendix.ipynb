{
 "cells": [
  {
   "cell_type": "code",
   "execution_count": 6,
   "metadata": {},
   "outputs": [],
   "source": [
    "# S1sensorsPreprocessing.py\n",
    "# temp1 = dsS1Sensors[1] + '_' + dsS1Sensors[2]   # Creating a new vector of concatenated column 1 & 2\n",
    "# temp2 = temp1.str.replace(\" \", \"\")              # Removing whitespace between strings\n",
    "# temp3 = temp2.str.lower()                       # Changing all text to lowercase\n",
    "# temp4 = temp3.str.strip()                       # Striping any remaining whitespace\n",
    "# dsS1Sensors[3] = temp4                          # Adding the precessed vector back into the dataset\n",
    "# dsS1Sensors.rename(columns={0:'subActNum', \n",
    "#                             1:'room',\n",
    "#                             2:'activity',\n",
    "#                             3:'concat',\n",
    "#                             4:'energyReq'}, \n",
    "#                    inplace=True)"
   ]
  },
  {
   "cell_type": "code",
   "execution_count": null,
   "metadata": {},
   "outputs": [],
   "source": [
    "# getUniqueValues.py\n",
    "# def getUniqueValues(list1):                 # Function to get unique values \n",
    "#     unique_list = []                         # Intilize a null list \n",
    "    \n",
    "#     for x in list1:                          # Traverse for all elements \n",
    "#         if x not in unique_list:             # Check if exists in unique_list or not \n",
    "#             unique_list.append(x)            # Append to unique_list\n",
    "#     return unique_list\n",
    "    \n",
    "# #    for x in unique_list:                    # Print list \n",
    "# #        print(x)"
   ]
  },
  {
   "cell_type": "code",
   "execution_count": null,
   "metadata": {},
   "outputs": [],
   "source": [
    "# seen_dupes_dsS1Sensors.py\n",
    "# seen = {}\n",
    "# dupes = []\n",
    "\n",
    "# for x in dsS1Sensors.concat:\n",
    "#     if x not in seen:\n",
    "#         seen[x] = 1\n",
    "#     else:\n",
    "#         if seen[x] == 1:\n",
    "#             dupes.append(x)\n",
    "#         seen[x] += 1\n",
    "        \n",
    "# for i in seen:                  # Adding value counts for dupes\n",
    "#     if (seen[i] > 1 and seen[i] <= 9):\n",
    "#         print(seen[i], \" \", i)\n",
    "#     if (seen[i] >= 10):\n",
    "#         print(seen[i], \"\", i)"
   ]
  },
  {
   "cell_type": "code",
   "execution_count": null,
   "metadata": {},
   "outputs": [],
   "source": [
    "# INSPECTION OF dsS1Sensors...?\n",
    "# dsS1Sensors"
   ]
  },
  {
   "cell_type": "code",
   "execution_count": null,
   "metadata": {},
   "outputs": [],
   "source": [
    "#### Bathroom - Cabinet, Sub-activity # 67\n",
    "##### Strip Chart# reqEnergy_containSpecialChar.py\n",
    "# a = dsS1Sensors.iloc[:,3]\n",
    "# specialChar = '/'\n",
    "# reqEnergy = 'ligh|burn|mach|toas|freez|dvd|lamp|washer|dry|exh|disp|frig|oven|hot|micro'\n",
    "# b = a.str.contains(reqEnergy, regex = True)\n",
    "# c = a.str.contains(specialChar, regex = True)\n",
    "# dsS1Sensors['reqEnergy'] = b\n",
    "# dsS1Sensors['specialChar'] = c\n",
    "# forwardSlashFilter = dsS1Sensors['concat'].str.contains('/|\\|', \n",
    "#                                                         regex = True) # Find characters `/`, `\\`"
   ]
  },
  {
   "cell_type": "code",
   "execution_count": null,
   "metadata": {},
   "outputs": [],
   "source": [
    "#### Bathroom - Cabinet, Sub-activity # 67\n",
    "##### Strip Chart"
   ]
  },
  {
   "cell_type": "code",
   "execution_count": null,
   "metadata": {},
   "outputs": [],
   "source": []
  },
  {
   "cell_type": "code",
   "execution_count": null,
   "metadata": {},
   "outputs": [],
   "source": []
  },
  {
   "cell_type": "markdown",
   "metadata": {},
   "source": [
    "#### Bathroom - Cabinet, Sub-activity # 67\n",
    "##### Strip Chart"
   ]
  },
  {
   "cell_type": "code",
   "execution_count": 118,
   "metadata": {},
   "outputs": [
    {
     "data": {
      "application/vnd.vegalite.v3+json": {
       "$schema": "https://vega.github.io/schema/vega-lite/v3.4.0.json",
       "config": {
        "mark": {
         "tooltip": null
        },
        "view": {
         "height": 300,
         "width": 400
        }
       },
       "data": {
        "name": "data-3cfe50779dc22804f2883f731cef1f9a"
       },
       "datasets": {
        "data-3cfe50779dc22804f2883f731cef1f9a": [
         {
          "day": "3",
          "end": "2003-03-27T06:43:43",
          "index": 0,
          "start": "2003-03-27T06:43:40"
         },
         {
          "day": "3",
          "end": "2003-03-27T06:44:56",
          "index": 5,
          "start": "2003-03-27T06:44:49"
         },
         {
          "day": "3",
          "end": "2003-03-27T07:11:27",
          "index": 15,
          "start": "2003-03-27T07:11:23"
         },
         {
          "day": "4",
          "end": "2003-03-28T18:34:43",
          "index": 137,
          "start": "2003-03-28T18:34:41"
         },
         {
          "day": "4",
          "end": "2003-03-28T19:02:26",
          "index": 144,
          "start": "2003-03-28T19:02:24"
         },
         {
          "day": "4",
          "end": "2003-03-28T22:14:17",
          "index": 193,
          "start": "2003-03-28T22:14:12"
         },
         {
          "day": "5",
          "end": "2003-03-29T06:29:28",
          "index": 204,
          "start": "2003-03-29T06:29:25"
         },
         {
          "day": "5",
          "end": "2003-03-29T08:55:26",
          "index": 208,
          "start": "2003-03-29T08:55:24"
         },
         {
          "day": "5",
          "end": "2003-03-29T09:12:23",
          "index": 214,
          "start": "2003-03-29T09:12:22"
         },
         {
          "day": "5",
          "end": "2003-03-29T15:37:43",
          "index": 498,
          "start": "2003-03-29T15:37:30"
         },
         {
          "day": "5",
          "end": "2003-03-29T15:37:38",
          "index": 499,
          "start": "2003-03-29T15:37:31"
         },
         {
          "day": "5",
          "end": "2003-03-29T15:56:55",
          "index": 586,
          "start": "2003-03-29T15:56:51"
         },
         {
          "day": "5",
          "end": "2003-03-29T15:56:54",
          "index": 587,
          "start": "2003-03-29T15:56:53"
         },
         {
          "day": "5",
          "end": "2003-03-29T16:02:09",
          "index": 600,
          "start": "2003-03-29T16:02:01"
         },
         {
          "day": "5",
          "end": "2003-03-29T16:02:07",
          "index": 601,
          "start": "2003-03-29T16:02:03"
         },
         {
          "day": "5",
          "end": "2003-03-29T18:23:47",
          "index": 650,
          "start": "2003-03-29T18:23:46"
         },
         {
          "day": "5",
          "end": "2003-03-29T18:24:30",
          "index": 651,
          "start": "2003-03-29T18:24:29"
         },
         {
          "day": "5",
          "end": "2003-03-29T22:27:50",
          "index": 678,
          "start": "2003-03-29T22:27:45"
         },
         {
          "day": "6",
          "end": "2003-03-30T07:39:43",
          "index": 695,
          "start": "2003-03-30T07:39:29"
         },
         {
          "day": "6",
          "end": "2003-03-30T13:19:20",
          "index": 776,
          "start": "2003-03-30T13:19:18"
         },
         {
          "day": "6",
          "end": "2003-03-30T15:52:41",
          "index": 807,
          "start": "2003-03-30T15:52:39"
         },
         {
          "day": "6",
          "end": "2003-03-30T16:24:29",
          "index": 812,
          "start": "2003-03-30T16:24:28"
         },
         {
          "day": "6",
          "end": "2003-03-30T22:57:41",
          "index": 822,
          "start": "2003-03-30T22:57:37"
         },
         {
          "day": "0",
          "end": "2003-03-31T07:36:16",
          "index": 827,
          "start": "2003-03-31T07:36:11"
         },
         {
          "day": "0",
          "end": "2003-03-31T08:59:15",
          "index": 841,
          "start": "2003-03-31T08:59:12"
         },
         {
          "day": "0",
          "end": "2003-03-31T12:05:32",
          "index": 866,
          "start": "2003-03-31T12:05:29"
         },
         {
          "day": "0",
          "end": "2003-03-31T19:42:08",
          "index": 893,
          "start": "2003-03-31T19:42:05"
         },
         {
          "day": "1",
          "end": "2003-04-01T06:07:55",
          "index": 897,
          "start": "2003-04-01T06:07:52"
         },
         {
          "day": "1",
          "end": "2003-04-01T21:05:49",
          "index": 974,
          "start": "2003-04-01T21:05:47"
         },
         {
          "day": "1",
          "end": "2003-04-01T21:20:42",
          "index": 980,
          "start": "2003-04-01T21:20:39"
         },
         {
          "day": "1",
          "end": "2003-04-01T21:21:38",
          "index": 983,
          "start": "2003-04-01T21:21:37"
         },
         {
          "day": "2",
          "end": "2003-04-02T07:13:15",
          "index": 993,
          "start": "2003-04-02T07:13:12"
         },
         {
          "day": "2",
          "end": "2003-04-02T08:23:32",
          "index": 1029,
          "start": "2003-04-02T08:23:17"
         },
         {
          "day": "2",
          "end": "2003-04-02T21:05:22",
          "index": 1171,
          "start": "2003-04-02T21:05:21"
         },
         {
          "day": "2",
          "end": "2003-04-02T21:28:22",
          "index": 1181,
          "start": "2003-04-02T21:28:17"
         },
         {
          "day": "3",
          "end": "2003-04-03T07:08:51",
          "index": 1193,
          "start": "2003-04-03T07:08:48"
         },
         {
          "day": "3",
          "end": "2003-04-03T08:45:10",
          "index": 1200,
          "start": "2003-04-03T08:45:02"
         },
         {
          "day": "3",
          "end": "2003-04-03T08:47:51",
          "index": 1206,
          "start": "2003-04-03T08:47:49"
         },
         {
          "day": "3",
          "end": "2003-04-03T09:07:54",
          "index": 1216,
          "start": "2003-04-03T09:07:53"
         },
         {
          "day": "3",
          "end": "2003-04-03T13:57:08",
          "index": 1264,
          "start": "2003-04-03T13:56:58"
         },
         {
          "day": "3",
          "end": "2003-04-03T20:19:10",
          "index": 1307,
          "start": "2003-04-03T20:19:06"
         },
         {
          "day": "3",
          "end": "2003-04-03T20:47:05",
          "index": 1309,
          "start": "2003-04-03T20:19:18"
         },
         {
          "day": "3",
          "end": "2003-04-03T20:49:40",
          "index": 1316,
          "start": "2003-04-03T20:49:37"
         },
         {
          "day": "4",
          "end": "2003-04-04T06:11:21",
          "index": 1338,
          "start": "2003-04-04T06:11:15"
         },
         {
          "day": "4",
          "end": "2003-04-04T06:11:21",
          "index": 1339,
          "start": "2003-04-04T06:11:15"
         },
         {
          "day": "4",
          "end": "2003-04-04T06:12:44",
          "index": 1347,
          "start": "2003-04-04T06:12:37"
         },
         {
          "day": "4",
          "end": "2003-04-04T06:41:40",
          "index": 1351,
          "start": "2003-04-04T06:41:37"
         },
         {
          "day": "4",
          "end": "2003-04-04T07:04:37",
          "index": 1355,
          "start": "2003-04-04T07:04:36"
         },
         {
          "day": "4",
          "end": "2003-04-04T07:04:37",
          "index": 1356,
          "start": "2003-04-04T07:04:36"
         },
         {
          "day": "4",
          "end": "2003-04-04T12:30:54",
          "index": 1421,
          "start": "2003-04-04T12:30:51"
         },
         {
          "day": "4",
          "end": "2003-04-04T12:30:54",
          "index": 1422,
          "start": "2003-04-04T12:30:51"
         },
         {
          "day": "4",
          "end": "2003-04-04T14:50:31",
          "index": 1447,
          "start": "2003-04-04T14:50:19"
         },
         {
          "day": "4",
          "end": "2003-04-04T20:27:34",
          "index": 1455,
          "start": "2003-04-04T14:56:48"
         },
         {
          "day": "4",
          "end": "2003-04-04T14:56:51",
          "index": 1456,
          "start": "2003-04-04T14:56:48"
         },
         {
          "day": "4",
          "end": "2003-04-04T15:29:34",
          "index": 1460,
          "start": "2003-04-04T15:29:31"
         },
         {
          "day": "5",
          "end": "2003-04-05T11:31:16",
          "index": 1516,
          "start": "2003-04-05T11:31:13"
         },
         {
          "day": "5",
          "end": "2003-04-05T21:02:14",
          "index": 1650,
          "start": "2003-04-05T21:02:11"
         },
         {
          "day": "5",
          "end": "2003-04-05T21:03:45",
          "index": 1652,
          "start": "2003-04-05T21:03:43"
         },
         {
          "day": "5",
          "end": "2003-04-05T22:46:26",
          "index": 1670,
          "start": "2003-04-05T22:46:22"
         },
         {
          "day": "6",
          "end": "2003-04-06T08:05:17",
          "index": 1679,
          "start": "2003-04-06T00:55:42"
         },
         {
          "day": "6",
          "end": "2003-04-06T18:30:43",
          "index": 1835,
          "start": "2003-04-06T18:30:42"
         },
         {
          "day": "6",
          "end": "2003-04-06T18:30:43",
          "index": 1836,
          "start": "2003-04-06T18:30:42"
         },
         {
          "day": "6",
          "end": "2003-04-06T20:51:59",
          "index": 1868,
          "start": "2003-04-06T20:51:58"
         },
         {
          "day": "6",
          "end": "2003-04-06T20:54:08",
          "index": 1869,
          "start": "2003-04-06T20:54:06"
         },
         {
          "day": "0",
          "end": "2003-04-07T07:07:43",
          "index": 1892,
          "start": "2003-04-07T07:07:39"
         },
         {
          "day": "0",
          "end": "2003-04-07T07:24:55",
          "index": 1897,
          "start": "2003-04-07T07:24:54"
         },
         {
          "day": "0",
          "end": "2003-04-07T07:50:05",
          "index": 1921,
          "start": "2003-04-07T07:49:54"
         },
         {
          "day": "0",
          "end": "2003-04-07T20:15:36",
          "index": 2000,
          "start": "2003-04-07T20:15:34"
         },
         {
          "day": "0",
          "end": "2003-04-07T20:37:55",
          "index": 2005,
          "start": "2003-04-07T20:37:51"
         },
         {
          "day": "1",
          "end": "2003-04-08T06:23:54",
          "index": 2009,
          "start": "2003-04-08T06:23:51"
         },
         {
          "day": "1",
          "end": "2003-04-08T07:02:59",
          "index": 2032,
          "start": "2003-04-08T07:02:57"
         },
         {
          "day": "1",
          "end": "2003-04-08T07:08:36",
          "index": 2035,
          "start": "2003-04-08T07:08:24"
         },
         {
          "day": "1",
          "end": "2003-04-08T15:50:53",
          "index": 2073,
          "start": "2003-04-08T15:50:47"
         },
         {
          "day": "1",
          "end": "2003-04-08T21:09:06",
          "index": 2106,
          "start": "2003-04-08T21:09:05"
         },
         {
          "day": "2",
          "end": "2003-04-09T10:55:38",
          "index": 2176,
          "start": "2003-04-09T10:55:36"
         },
         {
          "day": "2",
          "end": "2003-04-09T15:06:24",
          "index": 2232,
          "start": "2003-04-09T15:06:22"
         },
         {
          "day": "2",
          "end": "2003-04-09T15:07:23",
          "index": 2233,
          "start": "2003-04-09T15:07:14"
         },
         {
          "day": "2",
          "end": "2003-04-09T20:09:23",
          "index": 2284,
          "start": "2003-04-09T20:09:22"
         },
         {
          "day": "2",
          "end": "2003-04-09T20:09:23",
          "index": 2285,
          "start": "2003-04-09T20:09:22"
         },
         {
          "day": "2",
          "end": "2003-04-09T20:10:46",
          "index": 2290,
          "start": "2003-04-09T20:10:43"
         },
         {
          "day": "2",
          "end": "2003-04-09T20:10:46",
          "index": 2291,
          "start": "2003-04-09T20:10:43"
         },
         {
          "day": "3",
          "end": "2003-04-10T08:18:51",
          "index": 2305,
          "start": "2003-04-10T08:18:48"
         },
         {
          "day": "3",
          "end": "2003-04-10T08:19:28",
          "index": 2310,
          "start": "2003-04-10T08:19:24"
         },
         {
          "day": "3",
          "end": "2003-04-10T10:13:38",
          "index": 2339,
          "start": "2003-04-10T10:13:36"
         },
         {
          "day": "3",
          "end": "2003-04-10T10:14:29",
          "index": 2343,
          "start": "2003-04-10T10:14:21"
         },
         {
          "day": "3",
          "end": "2003-04-10T11:21:17",
          "index": 2387,
          "start": "2003-04-10T11:21:14"
         },
         {
          "day": "3",
          "end": "2003-04-10T11:23:07",
          "index": 2394,
          "start": "2003-04-10T11:23:04"
         },
         {
          "day": "3",
          "end": "2003-04-10T11:23:18",
          "index": 2395,
          "start": "2003-04-10T11:23:16"
         },
         {
          "day": "3",
          "end": "2003-04-10T11:24:36",
          "index": 2396,
          "start": "2003-04-10T11:24:13"
         },
         {
          "day": "3",
          "end": "2003-04-10T11:55:22",
          "index": 2409,
          "start": "2003-04-10T11:55:20"
         },
         {
          "day": "3",
          "end": "2003-04-10T11:55:22",
          "index": 2410,
          "start": "2003-04-10T11:55:20"
         },
         {
          "day": "3",
          "end": "2003-04-10T12:59:07",
          "index": 2454,
          "start": "2003-04-10T12:58:54"
         },
         {
          "day": "3",
          "end": "2003-04-10T12:59:26",
          "index": 2455,
          "start": "2003-04-10T12:59:24"
         },
         {
          "day": "3",
          "end": "2003-04-10T13:10:51",
          "index": 2462,
          "start": "2003-04-10T13:10:34"
         },
         {
          "day": "3",
          "end": "2003-04-10T20:25:04",
          "index": 2536,
          "start": "2003-04-10T20:24:54"
         },
         {
          "day": "3",
          "end": "2003-04-10T20:28:26",
          "index": 2539,
          "start": "2003-04-10T20:28:25"
         },
         {
          "day": "4",
          "end": "2003-04-11T11:22:29",
          "index": 2607,
          "start": "2003-04-11T11:22:12"
         },
         {
          "day": "4",
          "end": "2003-04-11T14:35:41",
          "index": 2676,
          "start": "2003-04-11T14:35:31"
         },
         {
          "day": "4",
          "end": "2003-04-11T14:36:19",
          "index": 2677,
          "start": "2003-04-11T14:36:07"
         },
         {
          "day": "4",
          "end": "2003-04-11T15:53:40",
          "index": 2695,
          "start": "2003-04-11T15:53:32"
         },
         {
          "day": "4",
          "end": "2003-04-11T15:54:43",
          "index": 2696,
          "start": "2003-04-11T15:54:28"
         },
         {
          "day": "4",
          "end": "2003-04-11T19:29:20",
          "index": 2718,
          "start": "2003-04-11T19:29:17"
         },
         {
          "day": "4",
          "end": "2003-04-11T19:29:19",
          "index": 2719,
          "start": "2003-04-11T19:29:17"
         },
         {
          "day": "4",
          "end": "2003-04-11T22:21:12",
          "index": 2767,
          "start": "2003-04-11T22:21:09"
         }
        ]
       },
       "encoding": {
        "color": {
         "condition": {
          "test": "(datum.day > 4)",
          "value": "orange"
         },
         "value": "grey"
        },
        "detail": {
         "field": "index",
         "type": "quantitative"
        },
        "x": {
         "field": "start",
         "timeUnit": "hoursminutes",
         "type": "temporal"
        },
        "x2": {
         "field": "end",
         "timeUnit": "hoursminutes"
        },
        "y": {
         "field": "start",
         "timeUnit": "date",
         "type": "ordinal"
        }
       },
       "mark": "bar",
       "selection": {
        "selector001": {
         "bind": "scales",
         "encodings": [
          "x",
          "y"
         ],
         "type": "interval"
        }
       },
       "title": "Sub-activity: bathroom_cabinet // Sub-activity number: 67",
       "width": 750
      },
      "image/png": "[encoded data removed]",
      "text/plain": [
       "<VegaLite 3 object>\n",
       "\n",
       "If you see this message, it means the renderer has not been properly enabled\n",
       "for the frontend that you are using. For more information, see\n",
       "https://altair-viz.github.io/user_guide/troubleshooting.html\n"
      ]
     },
     "execution_count": 118,
     "metadata": {},
     "output_type": "execute_result"
    }
   ],
   "source": [
    "charts[0]"
   ]
  },
  {
   "cell_type": "markdown",
   "metadata": {},
   "source": [
    "We would expect that bathroom cabinet would display an intermittant/ sporadic interaction profile. On weekend day 6th of April, and on weekday day 4th April, this is not the case. We will therefor cleanse this ds."
   ]
  },
  {
   "cell_type": "markdown",
   "metadata": {},
   "source": [
    "##### Box Plot"
   ]
  },
  {
   "cell_type": "code",
   "execution_count": null,
   "metadata": {},
   "outputs": [],
   "source": [
    "boxPlots[0]"
   ]
  },
  {
   "cell_type": "markdown",
   "metadata": {},
   "source": [
    "---"
   ]
  },
  {
   "cell_type": "markdown",
   "metadata": {},
   "source": [
    "#### Bathroom - Toilet Flush, Sub-activity # 100\n",
    "##### Strip Chart"
   ]
  },
  {
   "cell_type": "code",
   "execution_count": null,
   "metadata": {},
   "outputs": [],
   "source": [
    "charts[1]"
   ]
  },
  {
   "cell_type": "markdown",
   "metadata": {},
   "source": [
    "##### Box Plot"
   ]
  },
  {
   "cell_type": "code",
   "execution_count": null,
   "metadata": {},
   "outputs": [],
   "source": [
    "boxPlots[1]"
   ]
  },
  {
   "cell_type": "markdown",
   "metadata": {},
   "source": [
    "The toiletflush activity was found to have a mean duration of X with a SD of Y. In the ansence of statistical evaluation, the above figure shows that the toiletflush activity occurs in many instances for periods of greater than 1 hour. This is clearly unrealistic and can be rationalised as follows\n",
    "\n",
    "* The sensor is faulty and remains active for too long after a flush / is to sensitive, thus cause an excess of activity readings\n",
    "* The sensor remains active while the cistern is filling - if the toilet is very old, whith a cistern that fills over a very long period of time, this could be explained\n",
    "\n",
    "A toilet flush can be considered to be one discrete activity, therefore these data will be kept, however all end times will be coerced to 1 second after the start time.\n",
    "\n",
    "---"
   ]
  },
  {
   "cell_type": "markdown",
   "metadata": {},
   "source": [
    "#### Bathroom - Lightswitch, Sub-activity # 101\n",
    "##### Strip Chart\n",
    "\n",
    "* Calc duration\n",
    "* Plot duration distribution"
   ]
  },
  {
   "cell_type": "code",
   "execution_count": null,
   "metadata": {},
   "outputs": [],
   "source": [
    "charts[2]"
   ]
  },
  {
   "cell_type": "markdown",
   "metadata": {},
   "source": [
    "##### Box Plot"
   ]
  },
  {
   "cell_type": "code",
   "execution_count": null,
   "metadata": {},
   "outputs": [],
   "source": [
    "boxPlots[2]"
   ]
  },
  {
   "cell_type": "markdown",
   "metadata": {},
   "source": [
    "The bathroom lightswitch ... is fine\n",
    "\n",
    "---"
   ]
  },
  {
   "cell_type": "markdown",
   "metadata": {},
   "source": [
    "#### Bathroom - Medicine Cabinet, Sub-activity # 57\n",
    "##### Strip Chart\n",
    "\n",
    "* Needs to be fixed\n",
    "* 3 seconds each (check 8th-April @ 07:00 am)"
   ]
  },
  {
   "cell_type": "code",
   "execution_count": null,
   "metadata": {},
   "outputs": [],
   "source": [
    "charts[3]"
   ]
  },
  {
   "cell_type": "markdown",
   "metadata": {},
   "source": [
    "##### Box Plot"
   ]
  },
  {
   "cell_type": "code",
   "execution_count": null,
   "metadata": {},
   "outputs": [],
   "source": [
    "boxPlots[3]"
   ]
  },
  {
   "cell_type": "markdown",
   "metadata": {},
   "source": [
    "---"
   ]
  },
  {
   "cell_type": "markdown",
   "metadata": {},
   "source": [
    "#### Study - Drawer, Sub-activity # 82\n",
    "##### Strip Chart"
   ]
  },
  {
   "cell_type": "code",
   "execution_count": null,
   "metadata": {},
   "outputs": [],
   "source": [
    "charts[4]"
   ]
  },
  {
   "cell_type": "markdown",
   "metadata": {},
   "source": [
    "##### Box Plot"
   ]
  },
  {
   "cell_type": "code",
   "execution_count": null,
   "metadata": {},
   "outputs": [],
   "source": [
    "boxPlots[4]"
   ]
  },
  {
   "cell_type": "markdown",
   "metadata": {},
   "source": [
    "---"
   ]
  },
  {
   "cell_type": "markdown",
   "metadata": {},
   "source": [
    "#### Bedroom - Drawer, Sub-activity # 146\n",
    "##### Strip Chart"
   ]
  },
  {
   "cell_type": "code",
   "execution_count": null,
   "metadata": {},
   "outputs": [],
   "source": [
    "charts[5]"
   ]
  },
  {
   "cell_type": "markdown",
   "metadata": {},
   "source": [
    "##### Box Plot"
   ]
  },
  {
   "cell_type": "code",
   "execution_count": null,
   "metadata": {},
   "outputs": [],
   "source": [
    "boxPlots[5]"
   ]
  },
  {
   "cell_type": "markdown",
   "metadata": {},
   "source": [
    "---"
   ]
  },
  {
   "cell_type": "markdown",
   "metadata": {},
   "source": [
    "#### Kitchen - Cabinet, Sub-activity # 132\n",
    "##### Strip Chart"
   ]
  },
  {
   "cell_type": "code",
   "execution_count": null,
   "metadata": {},
   "outputs": [],
   "source": [
    "charts[6]"
   ]
  },
  {
   "cell_type": "markdown",
   "metadata": {},
   "source": [
    "##### Box Plot"
   ]
  },
  {
   "cell_type": "code",
   "execution_count": null,
   "metadata": {},
   "outputs": [],
   "source": [
    "boxPlots[6]"
   ]
  },
  {
   "cell_type": "markdown",
   "metadata": {},
   "source": [
    "---"
   ]
  },
  {
   "cell_type": "markdown",
   "metadata": {},
   "source": [
    "#### Kitchen - Microwave, Sub-activity # 143\n",
    "##### Strip Chart"
   ]
  },
  {
   "cell_type": "code",
   "execution_count": null,
   "metadata": {},
   "outputs": [],
   "source": [
    "charts[7]"
   ]
  },
  {
   "cell_type": "markdown",
   "metadata": {},
   "source": [
    "##### Box Plot"
   ]
  },
  {
   "cell_type": "code",
   "execution_count": null,
   "metadata": {},
   "outputs": [],
   "source": [
    "boxPlots[7]"
   ]
  },
  {
   "cell_type": "markdown",
   "metadata": {},
   "source": [
    "---"
   ]
  },
  {
   "cell_type": "markdown",
   "metadata": {},
   "source": [
    "#### Kitchen - Door, Sub-activity # 141\n",
    "##### Strip Chart"
   ]
  },
  {
   "cell_type": "code",
   "execution_count": null,
   "metadata": {},
   "outputs": [],
   "source": [
    "charts[8]"
   ]
  },
  {
   "cell_type": "markdown",
   "metadata": {},
   "source": [
    "##### Box Plot"
   ]
  },
  {
   "cell_type": "code",
   "execution_count": null,
   "metadata": {},
   "outputs": [],
   "source": [
    "boxPlots[8]"
   ]
  },
  {
   "cell_type": "markdown",
   "metadata": {},
   "source": [
    "---"
   ]
  },
  {
   "cell_type": "markdown",
   "metadata": {},
   "source": [
    "#### Bathroom - Shower Faucet, Sub-activity # 93\n",
    "##### Strip Chart"
   ]
  },
  {
   "cell_type": "code",
   "execution_count": null,
   "metadata": {},
   "outputs": [],
   "source": [
    "charts[9]"
   ]
  },
  {
   "cell_type": "markdown",
   "metadata": {},
   "source": [
    "##### Box Plot"
   ]
  },
  {
   "cell_type": "code",
   "execution_count": null,
   "metadata": {},
   "outputs": [],
   "source": [
    "boxPlots[9]"
   ]
  },
  {
   "cell_type": "markdown",
   "metadata": {},
   "source": [
    "---"
   ]
  },
  {
   "cell_type": "markdown",
   "metadata": {},
   "source": [
    "#### Kitchen - Drawer, Sub-activity # 125\n",
    "##### Strip Chart"
   ]
  },
  {
   "cell_type": "code",
   "execution_count": null,
   "metadata": {},
   "outputs": [],
   "source": [
    "charts[10]"
   ]
  },
  {
   "cell_type": "markdown",
   "metadata": {},
   "source": [
    "##### Box Plot"
   ]
  },
  {
   "cell_type": "code",
   "execution_count": null,
   "metadata": {},
   "outputs": [],
   "source": [
    "boxPlots[10]"
   ]
  },
  {
   "cell_type": "markdown",
   "metadata": {},
   "source": [
    "---"
   ]
  },
  {
   "cell_type": "markdown",
   "metadata": {},
   "source": [
    "#### Kitchen - Dishwasher, Sub-activity # 70\n",
    "##### Strip Chart"
   ]
  },
  {
   "cell_type": "code",
   "execution_count": null,
   "metadata": {},
   "outputs": [],
   "source": [
    "charts[11]"
   ]
  },
  {
   "cell_type": "markdown",
   "metadata": {},
   "source": [
    "##### Box Plot"
   ]
  },
  {
   "cell_type": "code",
   "execution_count": null,
   "metadata": {},
   "outputs": [],
   "source": [
    "boxPlots[11]"
   ]
  },
  {
   "cell_type": "markdown",
   "metadata": {},
   "source": [
    "This makes no sense - leave for now and check literature"
   ]
  },
  {
   "cell_type": "markdown",
   "metadata": {},
   "source": [
    "---"
   ]
  },
  {
   "cell_type": "markdown",
   "metadata": {},
   "source": [
    "#### Kitchen - Refrigerator, Sub-activity # 126\n",
    "##### Strip Chart"
   ]
  },
  {
   "cell_type": "code",
   "execution_count": null,
   "metadata": {},
   "outputs": [],
   "source": [
    "charts[12]"
   ]
  },
  {
   "cell_type": "markdown",
   "metadata": {},
   "source": [
    "##### Box Plot"
   ]
  },
  {
   "cell_type": "code",
   "execution_count": null,
   "metadata": {},
   "outputs": [],
   "source": [
    "boxPlots[12]"
   ]
  },
  {
   "cell_type": "markdown",
   "metadata": {},
   "source": [
    "Perfect!"
   ]
  },
  {
   "cell_type": "markdown",
   "metadata": {},
   "source": [
    "---"
   ]
  },
  {
   "cell_type": "markdown",
   "metadata": {},
   "source": [
    "#### Bathroom - Sinkfaucet (cold), Sub-activity # 88\n",
    "##### Strip Chart"
   ]
  },
  {
   "cell_type": "code",
   "execution_count": null,
   "metadata": {},
   "outputs": [],
   "source": [
    "charts[13]"
   ]
  },
  {
   "cell_type": "markdown",
   "metadata": {},
   "source": [
    "##### Box Plot"
   ]
  },
  {
   "cell_type": "code",
   "execution_count": null,
   "metadata": {},
   "outputs": [],
   "source": [
    "boxPlots[13]"
   ]
  },
  {
   "cell_type": "markdown",
   "metadata": {},
   "source": [
    "Perfect!"
   ]
  },
  {
   "cell_type": "markdown",
   "metadata": {},
   "source": [
    "---"
   ]
  },
  {
   "cell_type": "markdown",
   "metadata": {},
   "source": [
    "#### Bathroom - Sinkfaucet (hot), Sub-activity # 68\n",
    "##### Strip Chart"
   ]
  },
  {
   "cell_type": "code",
   "execution_count": null,
   "metadata": {},
   "outputs": [],
   "source": [
    "charts[14]"
   ]
  },
  {
   "cell_type": "markdown",
   "metadata": {},
   "source": [
    "##### Box Plot"
   ]
  },
  {
   "cell_type": "code",
   "execution_count": null,
   "metadata": {},
   "outputs": [],
   "source": [
    "boxPlots[14]"
   ]
  },
  {
   "cell_type": "markdown",
   "metadata": {},
   "source": [
    "---"
   ]
  },
  {
   "cell_type": "markdown",
   "metadata": {},
   "source": [
    "#### Foyer - Door, Sub-activity # 140\n",
    "##### Strip Chart"
   ]
  },
  {
   "cell_type": "code",
   "execution_count": null,
   "metadata": {},
   "outputs": [],
   "source": [
    "charts[15]"
   ]
  },
  {
   "cell_type": "markdown",
   "metadata": {},
   "source": [
    "##### Box Plot"
   ]
  },
  {
   "cell_type": "code",
   "execution_count": null,
   "metadata": {},
   "outputs": [],
   "source": [
    "boxPlots[15]"
   ]
  },
  {
   "cell_type": "markdown",
   "metadata": {},
   "source": [
    "---"
   ]
  },
  {
   "cell_type": "markdown",
   "metadata": {},
   "source": [
    "#### Kitchen - Freezer, Sub-activity # 137\n",
    "##### Strip Chart"
   ]
  },
  {
   "cell_type": "code",
   "execution_count": null,
   "metadata": {},
   "outputs": [],
   "source": [
    "charts[16]"
   ]
  },
  {
   "cell_type": "markdown",
   "metadata": {},
   "source": [
    "##### Box Plot"
   ]
  },
  {
   "cell_type": "code",
   "execution_count": null,
   "metadata": {},
   "outputs": [],
   "source": [
    "boxPlots[16]"
   ]
  },
  {
   "cell_type": "markdown",
   "metadata": {},
   "source": [
    "---"
   ]
  },
  {
   "cell_type": "markdown",
   "metadata": {},
   "source": [
    "#### Kitchen - Burner, Sub-activity # 106\n",
    "##### Strip Chart"
   ]
  },
  {
   "cell_type": "code",
   "execution_count": null,
   "metadata": {},
   "outputs": [],
   "source": [
    "charts[17]"
   ]
  },
  {
   "cell_type": "markdown",
   "metadata": {},
   "source": [
    "##### Box Plot"
   ]
  },
  {
   "cell_type": "code",
   "execution_count": null,
   "metadata": {},
   "outputs": [],
   "source": [
    "boxPlots[17]"
   ]
  },
  {
   "cell_type": "markdown",
   "metadata": {},
   "source": [
    "Perfect"
   ]
  },
  {
   "cell_type": "markdown",
   "metadata": {},
   "source": [
    "---"
   ]
  },
  {
   "cell_type": "markdown",
   "metadata": {},
   "source": [
    "#### Kitchen - Lightswitch, Sub-activity # 105\n",
    "##### Strip Chart"
   ]
  },
  {
   "cell_type": "code",
   "execution_count": null,
   "metadata": {},
   "outputs": [],
   "source": [
    "charts[18]"
   ]
  },
  {
   "cell_type": "markdown",
   "metadata": {},
   "source": [
    "##### Box Plot"
   ]
  },
  {
   "cell_type": "code",
   "execution_count": null,
   "metadata": {},
   "outputs": [],
   "source": [
    "boxPlots[18]"
   ]
  },
  {
   "cell_type": "markdown",
   "metadata": {},
   "source": [
    "Leave as is"
   ]
  },
  {
   "cell_type": "markdown",
   "metadata": {},
   "source": [
    "---"
   ]
  },
  {
   "cell_type": "markdown",
   "metadata": {},
   "source": [
    "#### Study - Lightswitch, Sub-activity # 92 TYPO!!!\n",
    "##### Strip Chart"
   ]
  },
  {
   "cell_type": "code",
   "execution_count": null,
   "metadata": {},
   "outputs": [],
   "source": [
    "charts[19]"
   ]
  },
  {
   "cell_type": "markdown",
   "metadata": {},
   "source": [
    "##### Box Plot"
   ]
  },
  {
   "cell_type": "code",
   "execution_count": null,
   "metadata": {},
   "outputs": [],
   "source": [
    "boxPlots[19]"
   ]
  },
  {
   "cell_type": "markdown",
   "metadata": {},
   "source": [
    "Leave as is"
   ]
  },
  {
   "cell_type": "markdown",
   "metadata": {},
   "source": [
    "---"
   ]
  },
  {
   "cell_type": "markdown",
   "metadata": {},
   "source": [
    "#### Bathroom - Door, Sub-activity # 130\n",
    "##### Strip Chart"
   ]
  },
  {
   "cell_type": "code",
   "execution_count": null,
   "metadata": {},
   "outputs": [],
   "source": [
    "charts[20]"
   ]
  },
  {
   "cell_type": "markdown",
   "metadata": {},
   "source": [
    "##### Box Plot"
   ]
  },
  {
   "cell_type": "code",
   "execution_count": null,
   "metadata": {},
   "outputs": [],
   "source": [
    "boxPlots[20]"
   ]
  },
  {
   "cell_type": "markdown",
   "metadata": {},
   "source": [
    "---"
   ]
  },
  {
   "cell_type": "markdown",
   "metadata": {},
   "source": [
    "#### Foyer - Lightswitch, Sub-activity # 104\n",
    "##### Strip Chart"
   ]
  },
  {
   "cell_type": "code",
   "execution_count": null,
   "metadata": {},
   "outputs": [],
   "source": [
    "charts[21]"
   ]
  },
  {
   "cell_type": "markdown",
   "metadata": {},
   "source": [
    "##### Box Plot"
   ]
  },
  {
   "cell_type": "code",
   "execution_count": null,
   "metadata": {},
   "outputs": [],
   "source": [
    "boxPlots[21]"
   ]
  },
  {
   "cell_type": "markdown",
   "metadata": {},
   "source": [
    "---"
   ]
  },
  {
   "cell_type": "markdown",
   "metadata": {},
   "source": [
    "#### Kitchen - Toaster, Sub-activity # 131\n",
    "##### Strip Chart"
   ]
  },
  {
   "cell_type": "code",
   "execution_count": null,
   "metadata": {},
   "outputs": [],
   "source": [
    "charts[22]"
   ]
  },
  {
   "cell_type": "markdown",
   "metadata": {},
   "source": [
    "##### Box Plot"
   ]
  },
  {
   "cell_type": "code",
   "execution_count": null,
   "metadata": {},
   "outputs": [],
   "source": [
    "boxPlots[22]"
   ]
  },
  {
   "cell_type": "markdown",
   "metadata": {},
   "source": [
    "---"
   ]
  },
  {
   "cell_type": "markdown",
   "metadata": {},
   "source": [
    "#### Bathroom - Exhaust Fan, Sub-activity # 96\n",
    "##### Strip Chart"
   ]
  },
  {
   "cell_type": "code",
   "execution_count": null,
   "metadata": {},
   "outputs": [],
   "source": [
    "charts[23]"
   ]
  },
  {
   "cell_type": "markdown",
   "metadata": {},
   "source": [
    "##### Box Plot"
   ]
  },
  {
   "cell_type": "code",
   "execution_count": null,
   "metadata": {},
   "outputs": [],
   "source": [
    "boxPlots[23]"
   ]
  },
  {
   "cell_type": "markdown",
   "metadata": {},
   "source": [
    "---"
   ]
  },
  {
   "cell_type": "markdown",
   "metadata": {},
   "source": [
    "#### Bedroom - Lightswitch, Sub-activity # 108\n",
    "##### Strip Chart"
   ]
  },
  {
   "cell_type": "code",
   "execution_count": null,
   "metadata": {},
   "outputs": [],
   "source": [
    "charts[24]"
   ]
  },
  {
   "cell_type": "markdown",
   "metadata": {},
   "source": [
    "##### Box Plot"
   ]
  },
  {
   "cell_type": "code",
   "execution_count": null,
   "metadata": {},
   "outputs": [],
   "source": [
    "boxPlots[24]"
   ]
  },
  {
   "cell_type": "markdown",
   "metadata": {},
   "source": [
    "---"
   ]
  },
  {
   "cell_type": "markdown",
   "metadata": {},
   "source": [
    "#### Kitchen - Oven, Sub-activity # 129\n",
    "##### Strip Chart"
   ]
  },
  {
   "cell_type": "code",
   "execution_count": null,
   "metadata": {},
   "outputs": [],
   "source": [
    "charts[25]"
   ]
  },
  {
   "cell_type": "markdown",
   "metadata": {},
   "source": [
    "##### Box Plot"
   ]
  },
  {
   "cell_type": "code",
   "execution_count": null,
   "metadata": {},
   "outputs": [],
   "source": [
    "boxPlots[25]"
   ]
  },
  {
   "cell_type": "markdown",
   "metadata": {},
   "source": [
    "---"
   ]
  },
  {
   "cell_type": "markdown",
   "metadata": {},
   "source": [
    "#### Living Room - DVD, Sub-activity # 56\n",
    "##### Strip Chart"
   ]
  },
  {
   "cell_type": "code",
   "execution_count": null,
   "metadata": {},
   "outputs": [],
   "source": [
    "charts[26]"
   ]
  },
  {
   "cell_type": "markdown",
   "metadata": {},
   "source": [
    "##### Box Plot"
   ]
  },
  {
   "cell_type": "code",
   "execution_count": null,
   "metadata": {},
   "outputs": [],
   "source": [
    "boxPlots[26]"
   ]
  },
  {
   "cell_type": "markdown",
   "metadata": {},
   "source": [
    "---"
   ]
  },
  {
   "cell_type": "markdown",
   "metadata": {},
   "source": [
    "#### Livingroom - Lamp, Sub-activity # 76\n",
    "##### Strip Chart"
   ]
  },
  {
   "cell_type": "code",
   "execution_count": null,
   "metadata": {},
   "outputs": [],
   "source": [
    "charts[27]"
   ]
  },
  {
   "cell_type": "markdown",
   "metadata": {},
   "source": [
    "##### Box Plot"
   ]
  },
  {
   "cell_type": "code",
   "execution_count": null,
   "metadata": {},
   "outputs": [],
   "source": [
    "boxPlots[27]"
   ]
  },
  {
   "cell_type": "markdown",
   "metadata": {},
   "source": [
    "---"
   ]
  },
  {
   "cell_type": "markdown",
   "metadata": {},
   "source": [
    "#### Bathroom - Jewelry Box, Sub-activity # 139\n",
    "##### Strip Chart"
   ]
  },
  {
   "cell_type": "code",
   "execution_count": null,
   "metadata": {},
   "outputs": [],
   "source": [
    "charts[28]"
   ]
  },
  {
   "cell_type": "markdown",
   "metadata": {},
   "source": [
    "##### Box Plot"
   ]
  },
  {
   "cell_type": "code",
   "execution_count": null,
   "metadata": {},
   "outputs": [],
   "source": [
    "boxPlots[28]"
   ]
  },
  {
   "cell_type": "markdown",
   "metadata": {},
   "source": [
    "---"
   ]
  },
  {
   "cell_type": "markdown",
   "metadata": {},
   "source": [
    "#### Kitchen - Washing Machine, Sub-activity # 142\n",
    "##### Strip Chart"
   ]
  },
  {
   "cell_type": "code",
   "execution_count": null,
   "metadata": {},
   "outputs": [],
   "source": [
    "charts[29]"
   ]
  },
  {
   "cell_type": "markdown",
   "metadata": {},
   "source": [
    "##### Box Plot"
   ]
  },
  {
   "cell_type": "code",
   "execution_count": null,
   "metadata": {},
   "outputs": [],
   "source": [
    "boxPlots[29]"
   ]
  },
  {
   "cell_type": "markdown",
   "metadata": {},
   "source": [
    "---"
   ]
  },
  {
   "cell_type": "markdown",
   "metadata": {},
   "source": [
    "#### Kitchen - Laundry Dryer, Sub-activity # 90\n",
    "##### Strip Chart"
   ]
  },
  {
   "cell_type": "code",
   "execution_count": null,
   "metadata": {},
   "outputs": [],
   "source": [
    "charts[30]"
   ]
  },
  {
   "cell_type": "markdown",
   "metadata": {},
   "source": [
    "##### Box Plot"
   ]
  },
  {
   "cell_type": "code",
   "execution_count": null,
   "metadata": {},
   "outputs": [],
   "source": [
    "boxPlots[30]"
   ]
  },
  {
   "cell_type": "markdown",
   "metadata": {},
   "source": [
    "---"
   ]
  },
  {
   "cell_type": "markdown",
   "metadata": {},
   "source": [
    "#### Kitchen - Garbage Disposal, Sub-activity # 98\n",
    "##### Strip Chart"
   ]
  },
  {
   "cell_type": "code",
   "execution_count": null,
   "metadata": {},
   "outputs": [],
   "source": [
    "charts[31]"
   ]
  },
  {
   "cell_type": "markdown",
   "metadata": {},
   "source": [
    "##### Box Plot"
   ]
  },
  {
   "cell_type": "code",
   "execution_count": null,
   "metadata": {},
   "outputs": [],
   "source": [
    "boxPlots[31]"
   ]
  },
  {
   "cell_type": "markdown",
   "metadata": {},
   "source": [
    "---"
   ]
  },
  {
   "cell_type": "markdown",
   "metadata": {},
   "source": [
    "#### Livingroom - Light Switch, Sub-activity # 107\n",
    "##### Strip Chart"
   ]
  },
  {
   "cell_type": "code",
   "execution_count": null,
   "metadata": {},
   "outputs": [],
   "source": [
    "charts[32]"
   ]
  },
  {
   "cell_type": "markdown",
   "metadata": {},
   "source": [
    "##### Box Plot"
   ]
  },
  {
   "cell_type": "code",
   "execution_count": null,
   "metadata": {},
   "outputs": [],
   "source": [
    "boxPlots[32]"
   ]
  },
  {
   "cell_type": "markdown",
   "metadata": {},
   "source": [
    "---"
   ]
  },
  {
   "cell_type": "markdown",
   "metadata": {},
   "source": [
    "#### Foyer - Closet, Sub-activity # 81\n",
    "##### Strip Chart"
   ]
  },
  {
   "cell_type": "code",
   "execution_count": null,
   "metadata": {},
   "outputs": [],
   "source": [
    "charts[33]"
   ]
  },
  {
   "cell_type": "markdown",
   "metadata": {},
   "source": [
    "##### Box Plot"
   ]
  },
  {
   "cell_type": "code",
   "execution_count": null,
   "metadata": {},
   "outputs": [],
   "source": [
    "boxPlots[33]"
   ]
  },
  {
   "cell_type": "markdown",
   "metadata": {},
   "source": [
    "---"
   ]
  },
  {
   "cell_type": "markdown",
   "metadata": {},
   "source": [
    "#### Kitchen - Cereal, Sub-activity # 145\n",
    "##### Strip Chart"
   ]
  },
  {
   "cell_type": "code",
   "execution_count": null,
   "metadata": {},
   "outputs": [],
   "source": [
    "charts[34]"
   ]
  },
  {
   "cell_type": "markdown",
   "metadata": {},
   "source": [
    "##### Box Plot"
   ]
  },
  {
   "cell_type": "code",
   "execution_count": null,
   "metadata": {},
   "outputs": [],
   "source": [
    "boxPlots[34]"
   ]
  },
  {
   "cell_type": "markdown",
   "metadata": {},
   "source": [
    "---"
   ]
  },
  {
   "cell_type": "markdown",
   "metadata": {},
   "source": [
    "#### Kitchen - Containers, Sub-activity # 60\n",
    "##### Strip Chart"
   ]
  },
  {
   "cell_type": "code",
   "execution_count": null,
   "metadata": {},
   "outputs": [],
   "source": [
    "charts[35]"
   ]
  },
  {
   "cell_type": "markdown",
   "metadata": {},
   "source": [
    "##### Box Plot"
   ]
  },
  {
   "cell_type": "code",
   "execution_count": null,
   "metadata": {},
   "outputs": [],
   "source": [
    "boxPlots[35]"
   ]
  },
  {
   "cell_type": "markdown",
   "metadata": {},
   "source": [
    "---"
   ]
  },
  {
   "cell_type": "markdown",
   "metadata": {},
   "source": [
    "#### Kitchen - Coffee Machine, Sub-activity # 119\n",
    "##### Strip Chart"
   ]
  },
  {
   "cell_type": "code",
   "execution_count": null,
   "metadata": {},
   "outputs": [],
   "source": [
    "charts[36]"
   ]
  },
  {
   "cell_type": "markdown",
   "metadata": {},
   "source": [
    "##### Box Plot"
   ]
  },
  {
   "cell_type": "code",
   "execution_count": null,
   "metadata": {},
   "outputs": [],
   "source": [
    "boxPlots[36]"
   ]
  },
  {
   "cell_type": "markdown",
   "metadata": {},
   "source": [
    "---"
   ]
  },
  {
   "cell_type": "markdown",
   "metadata": {},
   "source": [
    "#### Bedroom - Lamp, Sub-activity # 64\n",
    "##### Strip Chart"
   ]
  },
  {
   "cell_type": "code",
   "execution_count": null,
   "metadata": {},
   "outputs": [],
   "source": [
    "charts[37]"
   ]
  },
  {
   "cell_type": "markdown",
   "metadata": {},
   "source": [
    "##### Box Plots"
   ]
  },
  {
   "cell_type": "code",
   "execution_count": null,
   "metadata": {},
   "outputs": [],
   "source": [
    "boxPlots[37]"
   ]
  },
  {
   "cell_type": "markdown",
   "metadata": {},
   "source": [
    "---"
   ]
  }
 ],
 "metadata": {
  "kernelspec": {
   "display_name": "Python 3",
   "language": "python",
   "name": "python3"
  },
  "language_info": {
   "codemirror_mode": {
    "name": "ipython",
    "version": 3
   },
   "file_extension": ".py",
   "mimetype": "text/x-python",
   "name": "python",
   "nbconvert_exporter": "python",
   "pygments_lexer": "ipython3",
   "version": "3.7.4"
  },
  "toc": {
   "nav_menu": {},
   "number_sections": true,
   "sideBar": true,
   "skip_h1_title": false,
   "title_cell": "Table of Contents",
   "title_sidebar": "Contents",
   "toc_cell": false,
   "toc_position": {},
   "toc_section_display": true,
   "toc_window_display": false
  },
  "varInspector": {
   "cols": {
    "lenName": 16,
    "lenType": 16,
    "lenVar": 40
   },
   "kernels_config": {
    "python": {
     "delete_cmd_postfix": "",
     "delete_cmd_prefix": "del ",
     "library": "var_list.py",
     "varRefreshCmd": "print(var_dic_list())"
    },
    "r": {
     "delete_cmd_postfix": ") ",
     "delete_cmd_prefix": "rm(",
     "library": "var_list.r",
     "varRefreshCmd": "cat(var_dic_list()) "
    }
   },
   "types_to_exclude": [
    "module",
    "function",
    "builtin_function_or_method",
    "instance",
    "_Feature"
   ],
   "window_display": false
  }
 },
 "nbformat": 4,
 "nbformat_minor": 4
}
