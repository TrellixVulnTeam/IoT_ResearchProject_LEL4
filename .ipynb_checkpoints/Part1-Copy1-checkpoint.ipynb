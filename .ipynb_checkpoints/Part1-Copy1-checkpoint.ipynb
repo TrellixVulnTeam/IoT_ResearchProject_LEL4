{
 "cells": [
  {
   "cell_type": "code",
   "execution_count": 1,
   "metadata": {},
   "outputs": [],
   "source": [
    "import pandas as pd\n",
    "import numpy as np\n",
    "import os\n",
    "#import altair as alt\n",
    "from IPython.display import Image\n",
    "import nbconvert\n",
    "import time\n",
    "from datetime import datetime"
   ]
  },
  {
   "cell_type": "markdown",
   "metadata": {},
   "source": [
    "## Importing Activities Data"
   ]
  },
  {
   "cell_type": "code",
   "execution_count": 2,
   "metadata": {},
   "outputs": [],
   "source": [
    "# Importing the dataset\n",
    "dsActivities = pd.read_csv('S1Activities.csv', index_col = None)"
   ]
  },
  {
   "cell_type": "code",
   "execution_count": 3,
   "metadata": {},
   "outputs": [
    {
     "data": {
      "text/html": [
       "<div>\n",
       "<style scoped>\n",
       "    .dataframe tbody tr th:only-of-type {\n",
       "        vertical-align: middle;\n",
       "    }\n",
       "\n",
       "    .dataframe tbody tr th {\n",
       "        vertical-align: top;\n",
       "    }\n",
       "\n",
       "    .dataframe thead th {\n",
       "        text-align: right;\n",
       "    }\n",
       "</style>\n",
       "<table border=\"1\" class=\"dataframe\">\n",
       "  <thead>\n",
       "    <tr style=\"text-align: right;\">\n",
       "      <th></th>\n",
       "      <th>Heading</th>\n",
       "      <th>Category</th>\n",
       "      <th>Subcategory</th>\n",
       "      <th>Code</th>\n",
       "    </tr>\n",
       "  </thead>\n",
       "  <tbody>\n",
       "    <tr>\n",
       "      <th>0</th>\n",
       "      <td>Employment related</td>\n",
       "      <td>Employment work at home</td>\n",
       "      <td>Work at home</td>\n",
       "      <td>1</td>\n",
       "    </tr>\n",
       "    <tr>\n",
       "      <th>1</th>\n",
       "      <td>Employment related</td>\n",
       "      <td>Travel employment</td>\n",
       "      <td>Going out to work</td>\n",
       "      <td>5</td>\n",
       "    </tr>\n",
       "    <tr>\n",
       "      <th>2</th>\n",
       "      <td>Personal needs</td>\n",
       "      <td>Eating</td>\n",
       "      <td>Eating</td>\n",
       "      <td>10</td>\n",
       "    </tr>\n",
       "    <tr>\n",
       "      <th>3</th>\n",
       "      <td>Personal needs</td>\n",
       "      <td>Personal hygiene</td>\n",
       "      <td>Toileting</td>\n",
       "      <td>15</td>\n",
       "    </tr>\n",
       "    <tr>\n",
       "      <th>4</th>\n",
       "      <td>Personal needs</td>\n",
       "      <td>Personal hygiene</td>\n",
       "      <td>Bathing</td>\n",
       "      <td>20</td>\n",
       "    </tr>\n",
       "    <tr>\n",
       "      <th>5</th>\n",
       "      <td>Personal needs</td>\n",
       "      <td>Personal hygiene</td>\n",
       "      <td>Grooming</td>\n",
       "      <td>25</td>\n",
       "    </tr>\n",
       "    <tr>\n",
       "      <th>6</th>\n",
       "      <td>Personal needs</td>\n",
       "      <td>Personal hygiene</td>\n",
       "      <td>Dressing</td>\n",
       "      <td>30</td>\n",
       "    </tr>\n",
       "    <tr>\n",
       "      <th>7</th>\n",
       "      <td>Personal needs</td>\n",
       "      <td>Personal hygiene</td>\n",
       "      <td>Washing hands</td>\n",
       "      <td>35</td>\n",
       "    </tr>\n",
       "    <tr>\n",
       "      <th>8</th>\n",
       "      <td>Personal needs</td>\n",
       "      <td>Personal medical</td>\n",
       "      <td>Taking medication</td>\n",
       "      <td>40</td>\n",
       "    </tr>\n",
       "    <tr>\n",
       "      <th>9</th>\n",
       "      <td>Personal needs</td>\n",
       "      <td>Sleeping</td>\n",
       "      <td>Sleeping</td>\n",
       "      <td>45</td>\n",
       "    </tr>\n",
       "  </tbody>\n",
       "</table>\n",
       "</div>"
      ],
      "text/plain": [
       "              Heading                 Category        Subcategory  Code\n",
       "0  Employment related  Employment work at home       Work at home     1\n",
       "1  Employment related        Travel employment  Going out to work     5\n",
       "2      Personal needs                   Eating             Eating    10\n",
       "3      Personal needs         Personal hygiene          Toileting    15\n",
       "4      Personal needs         Personal hygiene            Bathing    20\n",
       "5      Personal needs         Personal hygiene           Grooming    25\n",
       "6      Personal needs         Personal hygiene           Dressing    30\n",
       "7      Personal needs         Personal hygiene      Washing hands    35\n",
       "8      Personal needs         Personal medical  Taking medication    40\n",
       "9      Personal needs                 Sleeping           Sleeping    45"
      ]
     },
     "execution_count": 3,
     "metadata": {},
     "output_type": "execute_result"
    }
   ],
   "source": [
    "dsActivities.head(n=10)"
   ]
  },
  {
   "cell_type": "markdown",
   "metadata": {},
   "source": [
    "## Importing Sensor Data"
   ]
  },
  {
   "cell_type": "code",
   "execution_count": 4,
   "metadata": {},
   "outputs": [],
   "source": [
    "# Importing the dataset\n",
    "dsS1Sensors = pd.read_csv('S1sensors.csv', index_col = None, header = None)"
   ]
  },
  {
   "cell_type": "code",
   "execution_count": 5,
   "metadata": {},
   "outputs": [
    {
     "data": {
      "text/html": [
       "<div>\n",
       "<style scoped>\n",
       "    .dataframe tbody tr th:only-of-type {\n",
       "        vertical-align: middle;\n",
       "    }\n",
       "\n",
       "    .dataframe tbody tr th {\n",
       "        vertical-align: top;\n",
       "    }\n",
       "\n",
       "    .dataframe thead th {\n",
       "        text-align: right;\n",
       "    }\n",
       "</style>\n",
       "<table border=\"1\" class=\"dataframe\">\n",
       "  <thead>\n",
       "    <tr style=\"text-align: right;\">\n",
       "      <th></th>\n",
       "      <th>0</th>\n",
       "      <th>1</th>\n",
       "      <th>2</th>\n",
       "    </tr>\n",
       "  </thead>\n",
       "  <tbody>\n",
       "    <tr>\n",
       "      <th>0</th>\n",
       "      <td>100</td>\n",
       "      <td>Bathroom</td>\n",
       "      <td>Toilet Flush</td>\n",
       "    </tr>\n",
       "    <tr>\n",
       "      <th>1</th>\n",
       "      <td>101</td>\n",
       "      <td>Bathroom</td>\n",
       "      <td>Light switch</td>\n",
       "    </tr>\n",
       "    <tr>\n",
       "      <th>2</th>\n",
       "      <td>104</td>\n",
       "      <td>Foyer</td>\n",
       "      <td>Light switch</td>\n",
       "    </tr>\n",
       "    <tr>\n",
       "      <th>3</th>\n",
       "      <td>105</td>\n",
       "      <td>Kitchen</td>\n",
       "      <td>Light switch</td>\n",
       "    </tr>\n",
       "    <tr>\n",
       "      <th>4</th>\n",
       "      <td>106</td>\n",
       "      <td>Kitchen</td>\n",
       "      <td>Burner</td>\n",
       "    </tr>\n",
       "    <tr>\n",
       "      <th>5</th>\n",
       "      <td>107</td>\n",
       "      <td>Living room</td>\n",
       "      <td>Light switch</td>\n",
       "    </tr>\n",
       "    <tr>\n",
       "      <th>6</th>\n",
       "      <td>108</td>\n",
       "      <td>Bedroom</td>\n",
       "      <td>Light switch</td>\n",
       "    </tr>\n",
       "    <tr>\n",
       "      <th>7</th>\n",
       "      <td>109</td>\n",
       "      <td>Porch</td>\n",
       "      <td>Light switch</td>\n",
       "    </tr>\n",
       "    <tr>\n",
       "      <th>8</th>\n",
       "      <td>118</td>\n",
       "      <td>Kitchen</td>\n",
       "      <td>Burner</td>\n",
       "    </tr>\n",
       "    <tr>\n",
       "      <th>9</th>\n",
       "      <td>119</td>\n",
       "      <td>Kitchen</td>\n",
       "      <td>Coffee machine</td>\n",
       "    </tr>\n",
       "  </tbody>\n",
       "</table>\n",
       "</div>"
      ],
      "text/plain": [
       "     0            1               2\n",
       "0  100     Bathroom   Toilet Flush \n",
       "1  101     Bathroom    Light switch\n",
       "2  104        Foyer    Light switch\n",
       "3  105      Kitchen    Light switch\n",
       "4  106      Kitchen          Burner\n",
       "5  107  Living room    Light switch\n",
       "6  108      Bedroom    Light switch\n",
       "7  109        Porch    Light switch\n",
       "8  118      Kitchen          Burner\n",
       "9  119      Kitchen  Coffee machine"
      ]
     },
     "execution_count": 5,
     "metadata": {},
     "output_type": "execute_result"
    }
   ],
   "source": [
    "dsS1Sensors.head(n=10)"
   ]
  },
  {
   "cell_type": "markdown",
   "metadata": {},
   "source": [
    "## The Activities Data Set\n",
    "The activities data set `S1activities.csv` will be imported, evaluated and cleaned. The goal of the pre-processing will be\n",
    "to restructure the dataset into a 'tidy' format, that is, where the attributes are columns, the rows are instances, and each cell contains only one value. Given that the data is time-series, timestamps will be used as indexes. The data will also be cast into continuous 24 hour segments, with timestamps in the form `YYYY-MM-DD hh:mm:ss` (using datetime data type)\n",
    "\n",
    "We aim to perform the preprocessing in such a way that is\n",
    "* minimally computationally intensive\n",
    "* reproducible / traceable code\n",
    "* reasonable checks (validation)"
   ]
  },
  {
   "cell_type": "markdown",
   "metadata": {},
   "source": [
    "### Importing the Data\n",
    "The activities data was imported into an indexed dataframe, containing only one column, with 1475 rows, with all values comma-separated (per row). This style of import had to be used, due to the varying number of comma-separated elements in each row (as seen in figure X, above). "
   ]
  },
  {
   "cell_type": "code",
   "execution_count": null,
   "metadata": {},
   "outputs": [],
   "source": []
  },
  {
   "cell_type": "code",
   "execution_count": 7,
   "metadata": {},
   "outputs": [
    {
     "name": "stderr",
     "output_type": "stream",
     "text": [
      "/Users/alistairgj/anaconda/envs/py36/lib/python3.6/site-packages/ipykernel_launcher.py:1: ParserWarning: Falling back to the 'python' engine because the 'c' engine does not support regex separators (separators > 1 char and different from '\\s+' are interpreted as regex); you can avoid this warning by specifying engine='python'.\n",
      "  \"\"\"Entry point for launching an IPython kernel.\n"
     ]
    }
   ],
   "source": [
    "dsS1 = pd.read_csv('S1activities_data.csv', sep = 'delimiter', header = None)"
   ]
  },
  {
   "cell_type": "code",
   "execution_count": 8,
   "metadata": {},
   "outputs": [
    {
     "data": {
      "text/html": [
       "<div>\n",
       "<style scoped>\n",
       "    .dataframe tbody tr th:only-of-type {\n",
       "        vertical-align: middle;\n",
       "    }\n",
       "\n",
       "    .dataframe tbody tr th {\n",
       "        vertical-align: top;\n",
       "    }\n",
       "\n",
       "    .dataframe thead th {\n",
       "        text-align: right;\n",
       "    }\n",
       "</style>\n",
       "<table border=\"1\" class=\"dataframe\">\n",
       "  <thead>\n",
       "    <tr style=\"text-align: right;\">\n",
       "      <th></th>\n",
       "      <th>0</th>\n",
       "    </tr>\n",
       "  </thead>\n",
       "  <tbody>\n",
       "    <tr>\n",
       "      <th>0</th>\n",
       "      <td>Bathing,4/1/2003,20:41:35,21:32:50</td>\n",
       "    </tr>\n",
       "    <tr>\n",
       "      <th>1</th>\n",
       "      <td>100,68,81,101,93,137,93,58,57,67,93,58,68,88,5...</td>\n",
       "    </tr>\n",
       "    <tr>\n",
       "      <th>2</th>\n",
       "      <td>Toilet Flush,Sink faucet - hot,Closet,Light sw...</td>\n",
       "    </tr>\n",
       "    <tr>\n",
       "      <th>3</th>\n",
       "      <td>20:51:52,20:51:58,20:53:36,20:53:49,20:53:52,2...</td>\n",
       "    </tr>\n",
       "    <tr>\n",
       "      <th>4</th>\n",
       "      <td>21:5:20,20:52:5,20:53:43,21:21:43,20:58:42,20:...</td>\n",
       "    </tr>\n",
       "    <tr>\n",
       "      <th>5</th>\n",
       "      <td>Toileting,4/1/2003,17:30:36,17:46:41</td>\n",
       "    </tr>\n",
       "    <tr>\n",
       "      <th>6</th>\n",
       "      <td>100,68</td>\n",
       "    </tr>\n",
       "    <tr>\n",
       "      <th>7</th>\n",
       "      <td>Toilet Flush,Sink faucet - hot</td>\n",
       "    </tr>\n",
       "    <tr>\n",
       "      <th>8</th>\n",
       "      <td>17:39:37,17:39:46</td>\n",
       "    </tr>\n",
       "    <tr>\n",
       "      <th>9</th>\n",
       "      <td>18:10:57,17:39:52</td>\n",
       "    </tr>\n",
       "  </tbody>\n",
       "</table>\n",
       "</div>"
      ],
      "text/plain": [
       "                                                   0\n",
       "0                 Bathing,4/1/2003,20:41:35,21:32:50\n",
       "1  100,68,81,101,93,137,93,58,57,67,93,58,68,88,5...\n",
       "2  Toilet Flush,Sink faucet - hot,Closet,Light sw...\n",
       "3  20:51:52,20:51:58,20:53:36,20:53:49,20:53:52,2...\n",
       "4  21:5:20,20:52:5,20:53:43,21:21:43,20:58:42,20:...\n",
       "5               Toileting,4/1/2003,17:30:36,17:46:41\n",
       "6                                             100,68\n",
       "7                     Toilet Flush,Sink faucet - hot\n",
       "8                                  17:39:37,17:39:46\n",
       "9                                  18:10:57,17:39:52"
      ]
     },
     "execution_count": 8,
     "metadata": {},
     "output_type": "execute_result"
    }
   ],
   "source": [
    "dsS1.head(n=10)"
   ]
  },
  {
   "cell_type": "code",
   "execution_count": 9,
   "metadata": {},
   "outputs": [
    {
     "data": {
      "text/plain": [
       "1475"
      ]
     },
     "execution_count": 9,
     "metadata": {},
     "output_type": "execute_result"
    }
   ],
   "source": [
    "# Confirming the length of the dataframe\n",
    "len(dsS1)"
   ]
  },
  {
   "cell_type": "markdown",
   "metadata": {},
   "source": [
    "### Converting the Dataframe to an Array\n",
    "As mentioned above, in order to work with these data, they need to be in a 'tidy' format [ref], that is, the attributes are columns, the rows are instances, and each cell contains only one value. \n",
    "* Note: An array of arrays\n",
    "* An array where each element is an array (list?)\n",
    "* Between each increment of 5 (0 - 4), the sub-arrays have different lengths\n",
    "Table [ref], below, contains a summary of the data structure after the operation `np.array(dsS1)` is performed. In order to continue pre-processing, the array had to be flattened from a 2D structure to a 1D structure, using `flatten()`."
   ]
  },
  {
   "cell_type": "code",
   "execution_count": 10,
   "metadata": {},
   "outputs": [],
   "source": [
    "a = np.array(dsS1)"
   ]
  },
  {
   "cell_type": "code",
   "execution_count": 11,
   "metadata": {},
   "outputs": [
    {
     "name": "stdout",
     "output_type": "stream",
     "text": [
      "['Bathing,4/1/2003,20:41:35,21:32:50']\n",
      "['100,68,81,101,93,137,93,58,57,67,93,58,68,88,57,67,100,68,67,76']\n",
      "['Toilet Flush,Sink faucet - hot,Closet,Light switch,Shower faucet,Freezer,Shower faucet,Medicine cabinet,Medicine cabinet,Cabinet,Shower faucet,Medicine cabinet,Sink faucet - hot,Sink faucet - cold,Medicine cabinet,Cabinet,Toilet Flush,Sink faucet - hot,Cabinet,Lamp']\n",
      "['20:51:52,20:51:58,20:53:36,20:53:49,20:53:52,20:58:22,20:58:43,21:5:23,21:5:46,21:5:47,21:18:34,21:18:55,21:19:41,21:20:4,21:20:38,21:20:39,21:21:13,21:21:16,21:21:37,21:22:8']\n",
      "['21:5:20,20:52:5,20:53:43,21:21:43,20:58:42,20:58:32,21:6:9,21:5:45,21:18:55,21:5:49,21:18:35,21:20:37,21:20:5,21:20:34,21:21:41,21:20:42,23:10:23,21:21:23,21:21:38,23:11:8']\n"
     ]
    }
   ],
   "source": [
    "i = 0\n",
    "while i < 5:\n",
    "    print(a[i])\n",
    "    i += 1"
   ]
  },
  {
   "cell_type": "markdown",
   "metadata": {},
   "source": [
    "* The DF has been converted into a 2D array of, where each element is an array with 1 element\n",
    "* Each \n",
    "\n",
    "Index (a[i]) | Type                           | Description            | Desired Type\n",
    "----------   | ----------------               | ---------------------- | ---------------------- \n",
    "0            | An array of comma-sep strings  | Activity information, date, start time, end time | ...\n",
    "1            | An array of comma-sep strings  | Sub-activity reference value    | Levels\n",
    "2            | An array of comma-sep strings  | Sub-activity descriptive value  | Levels\n",
    "3            | An array of comma-sep strings  | Sub-activity start time   | Datetime including the date extracted from the index 3 rows above\n",
    "4            | An array of comma-sep strings  | Sub-activity end time     | Datetime including the date extracted from the index 4 rows above"
   ]
  },
  {
   "cell_type": "code",
   "execution_count": 12,
   "metadata": {},
   "outputs": [],
   "source": [
    "# Flattening the 2D array to a 1D array\n",
    "a = a.flatten()"
   ]
  },
  {
   "cell_type": "code",
   "execution_count": 13,
   "metadata": {},
   "outputs": [
    {
     "name": "stdout",
     "output_type": "stream",
     "text": [
      "Bathing,4/1/2003,20:41:35,21:32:50\n",
      "100,68,81,101,93,137,93,58,57,67,93,58,68,88,57,67,100,68,67,76\n",
      "Toilet Flush,Sink faucet - hot,Closet,Light switch,Shower faucet,Freezer,Shower faucet,Medicine cabinet,Medicine cabinet,Cabinet,Shower faucet,Medicine cabinet,Sink faucet - hot,Sink faucet - cold,Medicine cabinet,Cabinet,Toilet Flush,Sink faucet - hot,Cabinet,Lamp\n",
      "20:51:52,20:51:58,20:53:36,20:53:49,20:53:52,20:58:22,20:58:43,21:5:23,21:5:46,21:5:47,21:18:34,21:18:55,21:19:41,21:20:4,21:20:38,21:20:39,21:21:13,21:21:16,21:21:37,21:22:8\n",
      "21:5:20,20:52:5,20:53:43,21:21:43,20:58:42,20:58:32,21:6:9,21:5:45,21:18:55,21:5:49,21:18:35,21:20:37,21:20:5,21:20:34,21:21:41,21:20:42,23:10:23,21:21:23,21:21:38,23:11:8\n"
     ]
    }
   ],
   "source": [
    "i = 0\n",
    "while i < 5:\n",
    "    print(a[i])\n",
    "    i += 1"
   ]
  },
  {
   "cell_type": "code",
   "execution_count": 14,
   "metadata": {},
   "outputs": [
    {
     "data": {
      "text/plain": [
       "'B'"
      ]
     },
     "execution_count": 14,
     "metadata": {},
     "output_type": "execute_result"
    }
   ],
   "source": [
    "a[0][0]"
   ]
  },
  {
   "cell_type": "code",
   "execution_count": 15,
   "metadata": {},
   "outputs": [
    {
     "name": "stdout",
     "output_type": "stream",
     "text": [
      "B\n",
      "a\n",
      "t\n",
      "h\n",
      "i\n",
      "n\n",
      "g\n",
      ",\n",
      "4\n",
      "/\n"
     ]
    }
   ],
   "source": [
    "i = 0\n",
    "while i < 10:\n",
    "    print(a[0][i])\n",
    "    i += 1"
   ]
  },
  {
   "cell_type": "markdown",
   "metadata": {},
   "source": [
    "* A array of strings, instead of an array of arrays\n",
    "Analysis of the original dataset, and exploration during pre-processing to this point, shows us that the original dataset follows a structure such that each 5 rows of data contains is one discrete set of data. In this structure,\n",
    "* Row 1 = Activity, Date, Start Time, End Time\n",
    "* Row 2 = Sub-activity (an action that can be executed as part of performing the activity) code-values\n",
    "* Row 3 = Sub-activity descriptive values\n",
    "* Row 4 = Sub-activity start time\n",
    "* Row 5 = Sub-activity end time\n",
    "In order to access the values programmatically, we will now turn the 1D array list back into a 2D array list, where each element array[i] contains the 5 rows of information, as described above. "
   ]
  },
  {
   "cell_type": "markdown",
   "metadata": {},
   "source": [
    "#### Chunking the flattened array\n",
    "Chucking the 1D array back into a 2D array allows us to more easily use loops to extract the required values."
   ]
  },
  {
   "cell_type": "code",
   "execution_count": 16,
   "metadata": {},
   "outputs": [],
   "source": [
    "from more_itertools import chunked\n",
    "a = list(chunked(a, 5))"
   ]
  },
  {
   "cell_type": "markdown",
   "metadata": {},
   "source": [
    "#### Looping on a[i]\n",
    "* We will continue to perform sanity checks during the pre-processing\n",
    "* Here we loop through values a[i] from i = 0 till i = 4\n",
    "* We can see that we have successfully structured the data such that each element ..."
   ]
  },
  {
   "cell_type": "code",
   "execution_count": 17,
   "metadata": {},
   "outputs": [
    {
     "name": "stdout",
     "output_type": "stream",
     "text": [
      "['Bathing,4/1/2003,20:41:35,21:32:50', '100,68,81,101,93,137,93,58,57,67,93,58,68,88,57,67,100,68,67,76', 'Toilet Flush,Sink faucet - hot,Closet,Light switch,Shower faucet,Freezer,Shower faucet,Medicine cabinet,Medicine cabinet,Cabinet,Shower faucet,Medicine cabinet,Sink faucet - hot,Sink faucet - cold,Medicine cabinet,Cabinet,Toilet Flush,Sink faucet - hot,Cabinet,Lamp', '20:51:52,20:51:58,20:53:36,20:53:49,20:53:52,20:58:22,20:58:43,21:5:23,21:5:46,21:5:47,21:18:34,21:18:55,21:19:41,21:20:4,21:20:38,21:20:39,21:21:13,21:21:16,21:21:37,21:22:8', '21:5:20,20:52:5,20:53:43,21:21:43,20:58:42,20:58:32,21:6:9,21:5:45,21:18:55,21:5:49,21:18:35,21:20:37,21:20:5,21:20:34,21:21:41,21:20:42,23:10:23,21:21:23,21:21:38,23:11:8']\n",
      "['Toileting,4/1/2003,17:30:36,17:46:41', '100,68', 'Toilet Flush,Sink faucet - hot', '17:39:37,17:39:46', '18:10:57,17:39:52']\n",
      "['Toileting,4/1/2003,18:4:43,18:18:2', '68,107', 'Sink faucet - hot,Light switch', '18:11:2,18:12:28', '18:11:13,21:21:53']\n",
      "['Toileting,4/1/2003,11:52:1,11:58:50', '100,137', 'Toilet Flush,Freezer', '11:55:43,11:56:2', '16:35:49,11:56:13']\n",
      "['Going out to work,4/1/2003,12:11:26,12:15:12', '81,139,140', 'Closet,Jewelry box,Door', '12:12:29,12:13:27,12:13:45', '12:13:0,12:13:35,12:13:48']\n"
     ]
    }
   ],
   "source": [
    "i = 0\n",
    "while i < 5:\n",
    "    print(a[i])\n",
    "    i += 1"
   ]
  },
  {
   "cell_type": "markdown",
   "metadata": {},
   "source": [
    "#### Looping on a[0][i]\n",
    "* This give us access to XYZ data"
   ]
  },
  {
   "cell_type": "code",
   "execution_count": 18,
   "metadata": {},
   "outputs": [
    {
     "name": "stdout",
     "output_type": "stream",
     "text": [
      "Bathing,4/1/2003,20:41:35,21:32:50\n",
      "100,68,81,101,93,137,93,58,57,67,93,58,68,88,57,67,100,68,67,76\n",
      "Toilet Flush,Sink faucet - hot,Closet,Light switch,Shower faucet,Freezer,Shower faucet,Medicine cabinet,Medicine cabinet,Cabinet,Shower faucet,Medicine cabinet,Sink faucet - hot,Sink faucet - cold,Medicine cabinet,Cabinet,Toilet Flush,Sink faucet - hot,Cabinet,Lamp\n",
      "20:51:52,20:51:58,20:53:36,20:53:49,20:53:52,20:58:22,20:58:43,21:5:23,21:5:46,21:5:47,21:18:34,21:18:55,21:19:41,21:20:4,21:20:38,21:20:39,21:21:13,21:21:16,21:21:37,21:22:8\n",
      "21:5:20,20:52:5,20:53:43,21:21:43,20:58:42,20:58:32,21:6:9,21:5:45,21:18:55,21:5:49,21:18:35,21:20:37,21:20:5,21:20:34,21:21:41,21:20:42,23:10:23,21:21:23,21:21:38,23:11:8\n"
     ]
    }
   ],
   "source": [
    "i = 0\n",
    "while i < 5:\n",
    "    print(a[0][i])\n",
    "    i += 1"
   ]
  },
  {
   "cell_type": "markdown",
   "metadata": {},
   "source": [
    "#### Looping on a[i][0]\n",
    "* This give us access to XYZ data"
   ]
  },
  {
   "cell_type": "code",
   "execution_count": 19,
   "metadata": {},
   "outputs": [
    {
     "name": "stdout",
     "output_type": "stream",
     "text": [
      "Bathing,4/1/2003,20:41:35,21:32:50\n",
      "Preparing lunch,4/1/2003,11:21:17,11:38:22\n",
      "Going out to work,4/1/2003,7:0:55,7:2:30\n",
      "Preparing a snack,4/2/2003,17:6:21,17:12:1\n",
      "Preparing breakfast,4/2/2003,7:21:12,8:10:40\n"
     ]
    }
   ],
   "source": [
    "i = 0\n",
    "while i < 25:\n",
    "    print(a[i][0])\n",
    "    i += 5"
   ]
  },
  {
   "cell_type": "markdown",
   "metadata": {},
   "source": [
    "#### Confirming the outer loop elements"
   ]
  },
  {
   "cell_type": "code",
   "execution_count": 20,
   "metadata": {},
   "outputs": [],
   "source": [
    "## Lenght\n",
    "dimLength = []\n",
    "i = 0\n",
    "while i < len(a):\n",
    "    dimLength.append(len(a[i]))\n",
    "    i = i + 1"
   ]
  },
  {
   "cell_type": "code",
   "execution_count": 21,
   "metadata": {},
   "outputs": [
    {
     "data": {
      "text/plain": [
       "295"
      ]
     },
     "execution_count": 21,
     "metadata": {},
     "output_type": "execute_result"
    }
   ],
   "source": [
    "len(dimLength)"
   ]
  },
  {
   "cell_type": "code",
   "execution_count": 99,
   "metadata": {},
   "outputs": [],
   "source": [
    "pd.options.mode.chained_assignment = None"
   ]
  },
  {
   "cell_type": "markdown",
   "metadata": {},
   "source": [
    "#new\n",
    "https://codereview.stackexchange.com/questions/200277/find-the-repeated-elements-in-a-list\n",
    "https://pandas.pydata.org/pandas-docs/stable/reference/api/pandas.DataFrame.drop.html\n",
    "https://stackoverflow.com/questions/27263805/pandas-when-cell-contents-are-lists-create-a-row-for-each-element-in-the-list\n",
    "https://stackoverflow.com/questions/20625582/how-to-deal-with-settingwithcopywarning-in-pandas\n",
    "https://www.w3schools.com/python/python_for_loops.asp\n",
    "https://stackoverflow.com/questions/2632677/python-integer-incrementing-with\n",
    "https://stackoverflow.com/questions/41925808/combing-columns-after-transposing-columns-pandas-dataframes\n",
    "https://pandas.pydata.org/pandas-docs/stable/reference/api/pandas.DataFrame.pivot.html\n",
    "https://stackoverflow.com/questions/17315737/split-a-large-pandas-dataframe\n",
    "https://stackoverflow.com/questions/54334674/how-to-use-pandas-to-pivot-a-table-while-changing-values-to-boolean\n",
    "http://pandas.pydata.org/pandas-docs/stable/reference/api/pandas.DatetimeIndex.to_pydatetime.html#pandas-datetimeindex-to-pydatetime\n",
    "https://pandas.pydata.org/pandas-docs/stable/install.html\n",
    "https://stackoverflow.com/questions/39597553/from-datetimeindex-to-list-of-times\n",
    "https://stackoverflow.com/questions/32271474/datetime-index-in-python-dataframe\n",
    "https://stackoverflow.com/questions/28133018/convert-pandas-series-to-datetime-in-a-dataframe\n",
    "https://stackoverflow.com/questions/28990256/python-pandas-time-series-year-extraction?rq=1\n",
    "https://pandas.pydata.org/pandas-docs/version/0.17.0/generated/pandas.DatetimeIndex.strftime.html\n",
    "https://www.dataquest.io/blog/settingwithcopywarning/\n",
    "http://pandas.pydata.org/pandas-docs/stable/user_guide/indexing.html\n",
    "\n",
    "\n"
   ]
  },
  {
   "cell_type": "code",
   "execution_count": 179,
   "metadata": {},
   "outputs": [],
   "source": [
    "mylist = new.index\n",
    "mylist = list(dict.fromkeys(mylist))"
   ]
  },
  {
   "cell_type": "code",
   "execution_count": 182,
   "metadata": {},
   "outputs": [
    {
     "data": {
      "text/plain": [
       "830697"
      ]
     },
     "execution_count": 182,
     "metadata": {},
     "output_type": "execute_result"
    }
   ],
   "source": [
    "len(mylist)"
   ]
  }
 ],
 "metadata": {
  "kernelspec": {
   "display_name": "Python 3",
   "language": "python",
   "name": "python3"
  },
  "language_info": {
   "codemirror_mode": {
    "name": "ipython",
    "version": 3
   },
   "file_extension": ".py",
   "mimetype": "text/x-python",
   "name": "python",
   "nbconvert_exporter": "python",
   "pygments_lexer": "ipython3",
   "version": "3.7.4"
  },
  "toc": {
   "nav_menu": {
    "height": "212px",
    "width": "581px"
   },
   "number_sections": true,
   "sideBar": true,
   "skip_h1_title": false,
   "title_cell": "Table of Contents",
   "title_sidebar": "Contents",
   "toc_cell": false,
   "toc_position": {},
   "toc_section_display": true,
   "toc_window_display": true
  },
  "varInspector": {
   "cols": {
    "lenName": 16,
    "lenType": 16,
    "lenVar": 40
   },
   "kernels_config": {
    "python": {
     "delete_cmd_postfix": "",
     "delete_cmd_prefix": "del ",
     "library": "var_list.py",
     "varRefreshCmd": "print(var_dic_list())"
    },
    "r": {
     "delete_cmd_postfix": ") ",
     "delete_cmd_prefix": "rm(",
     "library": "var_list.r",
     "varRefreshCmd": "cat(var_dic_list()) "
    }
   },
   "types_to_exclude": [
    "module",
    "function",
    "builtin_function_or_method",
    "instance",
    "_Feature"
   ],
   "window_display": false
  }
 },
 "nbformat": 4,
 "nbformat_minor": 4
}
