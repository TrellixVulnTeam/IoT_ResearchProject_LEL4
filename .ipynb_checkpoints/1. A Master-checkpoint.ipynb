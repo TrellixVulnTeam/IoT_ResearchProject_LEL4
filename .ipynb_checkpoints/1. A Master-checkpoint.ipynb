{
 "cells": [
  {
   "cell_type": "code",
   "execution_count": null,
   "metadata": {},
   "outputs": [],
   "source": []
  },
  {
   "cell_type": "markdown",
   "metadata": {},
   "source": [
    "# 1. S1a Sensor and Activities Information\n",
    "\n",
    "**Input A** `dsActivities = pd.read_csv('S1Activities.csv', index_col = None)` <br>\n",
    "**Input B** `dsS1Sensors = pd.read_csv('S1sensors.csv', index_col = None, header = None)`\n",
    "\n",
    "---\n",
    "\n",
    "Checking the `S1Activities.csv` dataset. Importing the Sensor, `S1sensors.csv` data. Creating concatenated string values, e.g., Foyer | Light Switch becomes foyer_lightswitch. Creating a boolean feature, `reqElectricity`, to indicate if the activity requires electricity or not. Creating the dictionary `subActKeyWithStringDict` & the dictionary `subActKeyWithEnergyDict`, checking for dupes in the concatenated string values.\n",
    "* Input = `S1Activities.csv` (checking only)\n",
    "* Input = `S1sensors.csv`\n",
    "* Output = `S1sensors_preprocessed.csv`\n",
    "\n",
    "---\n",
    "\n",
    "**Output** `dsS1Sensors.to_csv('S1Sensors_preprocessed.csv',index = False)`"
   ]
  },
  {
   "cell_type": "code",
   "execution_count": 1,
   "metadata": {},
   "outputs": [],
   "source": [
    "# Invoke notebook code"
   ]
  },
  {
   "cell_type": "markdown",
   "metadata": {},
   "source": [
    "# 2. S1a Activities Data Preprocessing\n",
    "\n",
    "**Input** `dsS1 = pd.read_csv('S1activities_data.csv', sep = 'delimiter', header = None)`\n",
    "\n",
    "---\n",
    "\n",
    "Importing `S1Activities_data.csv`, convert df to an array (list?), flatten to a 1D array (list?), chunk the array [5], extract activity, time & date. Merge time and date into datetime elements, determine start and end time. \n",
    "\n",
    "**Example preprocessed output:**\n",
    "\n",
    "Index (a[i]) | activity          | start               | end\n",
    "----------   | ---------         | ----------          | --------- \n",
    "0            | Bathing           | 2003-04-01 20:41:35 | 2003-04-01 21:32:50\n",
    "1            | Toileting         | 2003-04-01 17:30:36 | 2003-04-01 17:46:41\n",
    "2            | Toileting         | 2003-04-01 18:04:43 | 2003-04-01 18:18:02\n",
    "\n",
    "- Input = `S1Activities_data.csv`\n",
    "- Output = `S1Activities_preprocessed.csv`\n",
    "\n",
    "---\n",
    "\n",
    "**Output** `ds.to_csv('S1Activities_preprocessed.csv',index = False)`"
   ]
  },
  {
   "cell_type": "code",
   "execution_count": 2,
   "metadata": {},
   "outputs": [],
   "source": [
    "# Invoke notebook code"
   ]
  },
  {
   "cell_type": "markdown",
   "metadata": {},
   "source": [
    "# 3. S1a SubActivities Preprocessing\n",
    "\n",
    "**Input** `dsS1 = pd.read_csv('S1activities_data.csv', sep = 'delimiter', header = None)`\n",
    "\n",
    "---\n",
    "\n",
    "Importing `S1Activities_data.csv`, convert df to an array (list?), flatten to a 1D array (list?), chunk the array [5], extract subActNum, subActivity, time & date. Merge time and date into datetime elements, determine start and end time. \n",
    "\n",
    "**Example preprocessed output:**\n",
    "\n",
    "idx          | subActNum   | subAct            | start               | end\n",
    "----------   | ---------   | ---------         | ----------          | --------- \n",
    "0            | 100         | Toilet Flush      | 2003-04-01 20:51:52 | 2003-04-01 21:05:20\n",
    "1            | 68          | Sink faucet - hot | 2003-04-01 20:51:58 | 2003-04-01 20:52:05\n",
    "2            | 81          | Closet            | 2003-04-01 20:53:36 | 2003-04-01 20:53:43\n",
    "\n",
    "- Input = `S1Activities.csv`\n",
    "- Output = `S1SubActivities_preprocessed.csv`\n",
    "\n",
    "---\n",
    "\n",
    "**Output** `ds.to_csv('S1SubActivities_preprocessed.csv',index = False)`\n"
   ]
  },
  {
   "cell_type": "code",
   "execution_count": null,
   "metadata": {},
   "outputs": [],
   "source": [
    "# Invoke notebook code"
   ]
  },
  {
   "cell_type": "markdown",
   "metadata": {},
   "source": [
    "# 4. S1a SubActivities Added Time Range\n",
    "\n",
    "**Input** `ds = pd.read_csv('S1SubActivities_preprocessed.csv', index_col = None) `\n",
    "\n",
    "---\n",
    "\n",
    "Describe\n",
    "\n",
    "**Example preprocessed output:**\n",
    "\n",
    " inx  | subActNum | subAct            | start               | end                 | actDuration | timeStampList | timeStampArrayList\n",
    "-- | --------- | ---------         | ----------          | ---------           | ---         | ---| ---\n",
    "0  | 100       | Toilet Flush      | 2003-04-01 20:51:52 | 2003-04-01 21:05:20 | 809         | DatetimeIndex(['2003-04-01 20:51:58',] | [2003-04-01 20:51:52, 2003-04-01 20:51:53,]\n",
    "1  | 68        | Sink faucet - hot | 2003-04-01 20:51:58 | 2003-04-01 20:52:05 | 8           | DatetimeIndex(['2003-04-01 20:51:58',] | [2003-04-01 20:51:58, 2003-04-01 20:51:59,]\n",
    "2  | 81        | Closet            | 2003-04-01 20:53:36 | 2003-04-01 20:53:43 | 8           | DatetimeIndex(['2003-04-01 20:53:36',] | [2003-04-01 20:53:36, 2003-04-01 20:53:37,]\n",
    "\n",
    "**Features**\n",
    "\n",
    "* [subActNum]\n",
    "* [subAct] \n",
    "* [start]\n",
    "* [end]\n",
    "* [actDuration] \n",
    "* [timeStampList] \n",
    "* [timeStampArrayList] \n",
    "\n",
    "> Contains numeric duration value, may be used later to explore temporal relationships between events\n",
    "\n",
    "- Input = `S1SubActivities_preprocessed.csv`\n",
    "- Output = `S1SubActivities_timeStampRanges.csv`\n",
    "\n",
    "---\n",
    "\n",
    "**Output** `ds.to_csv('S1SubActivities_timeStampRanges.csv',index=False)`\n"
   ]
  },
  {
   "cell_type": "code",
   "execution_count": 3,
   "metadata": {},
   "outputs": [],
   "source": [
    "# Invoke notebook code"
   ]
  },
  {
   "cell_type": "markdown",
   "metadata": {},
   "source": [
    "# 5. S1a SubActivities Time Range Melt\n",
    "\n",
    "**Input** `ds = pd.read_csv('S1SubActivities_timeStampRanges.csv', index_col = None)`\n",
    "\n",
    "---\n",
    "\n",
    "Describe\n",
    "\n",
    "**Example preprocessed output:**\n",
    "\n",
    "idx (start)         | subActNum         | actDuration      | duration\n",
    "----------          | ---------         | ----------       | --------- \n",
    "2003-03-27 06:43:40 | 67                | 4                | 2003-03-27 06:43:40\n",
    "2003-03-27 06:43:40 | 67                | 4                | 2003-03-27 06:43:41\n",
    "2003-03-27 06:43:40 | 67                | 4                | 2003-03-27 06:43:42\n",
    "2003-03-27 06:43:40 | 67                | 4                | 2003-03-27 06:43:43\n",
    "2003-03-27 06:44:06 | 100               | 1716             | 2003-03-27 06:44:06\n",
    "\n",
    "**Features**\n",
    "\n",
    "* idx [start]\n",
    "* [subActNum]\n",
    "* [actDuration]\n",
    "* [duration]\n",
    "\n",
    "> Quote\n",
    "\n",
    "* Input = `S1SubActivities_timeStampRanges.csv`\n",
    "* Output = `S1SubActivities_timeRangeMelt.csv`\n",
    "\n",
    "---\n",
    "\n",
    "**Output** `ds.to_csv('S1SubActivities_timeRangeMelt.csv',index=False)`\n"
   ]
  },
  {
   "cell_type": "code",
   "execution_count": null,
   "metadata": {},
   "outputs": [],
   "source": [
    "# Invoke notebook code"
   ]
  },
  {
   "cell_type": "markdown",
   "metadata": {},
   "source": [
    "# 6. S1a SubActivities Time Range Boolean\n",
    "\n",
    "**Input** `ds = pd.read_csv('S1SubActivities_timeRangeMelt.csv', index_col = None)`\n",
    "\n",
    "---\n",
    "\n",
    "**Example preprocessed output:**\n",
    "\n",
    "**ADD DIM**\n",
    "\n",
    "idx (duration)      | subActNum_100 | subActNum_101 | subActNum_104 | subActNum_105 | subActNum_106 |  \n",
    "----------          | ---------     | ----------    | ---------     | ---------     | ---------     |\n",
    "2003-03-27 06:43:40 | 0             | 0             | 0             | 0             | 0             |\n",
    "2003-03-27 06:43:41 | 0             | 0             | 0             | 0             | 0             |\n",
    "2003-03-27 06:43:42 | 0             | 0             | 0             | 0             | 0             |\n",
    "2003-03-27 06:43:43 | 0             | 0             | 0             | 0             | 0             |\n",
    "2003-03-27 06:44:06 | 1             | 0             | 0             | 0             | 0             |\n",
    "\n",
    "- Input = 'S1SubActivities_timeRangeMelt.csv'\n",
    "- Output = 'S1SubActivities_timeRangeBoolean_DuplicateIndex.csv'\n",
    "-- Features\n",
    "[idx(Timestamp), subActNumi, ..., subActNumf]\n",
    "\n",
    "---\n",
    "\n",
    "**Example preprocessed output:**\n",
    "\n",
    "**ADD DIM**\n",
    "\n",
    "idx (duration)      | subActNum_100 | subActNum_101 | subActNum_104 | subActNum_105 | subActNum_106 |  \n",
    "----------          | ---------     | ----------    | ---------     | ---------     | ---------     |\n",
    "2003-03-27 06:43:40 | 0             | 0             | 0             | 0             | 0             |\n",
    "2003-03-27 06:43:41 | 0             | 0             | 0             | 0             | 0             |\n",
    "2003-03-27 06:43:42 | 0             | 0             | 0             | 0             | 0             |\n",
    "2003-03-27 06:43:43 | 0             | 0             | 0             | 0             | 0             |\n",
    "2003-03-27 06:44:06 | 1             | 0             | 0             | 0             | 0             |\n",
    "\n",
    "- Output = 'S1SubActivities_timeRangeBoolean.csv'\n",
    "* Index collapsed\n",
    "-- Features\n",
    "[idx(Timestamp), subActNumi, ..., subActNumf]\n",
    "\n",
    "---\n",
    "\n",
    "**Output** `ds.to_csv('S1SubActivities_timeRangeBoolean_DuplicateIndex.csv',index='duration')` <br>\n",
    "**Output** `ds.to_csv('S1SubActivities_timeRangeBoolean.csv',index='duration')`\n"
   ]
  },
  {
   "cell_type": "code",
   "execution_count": null,
   "metadata": {},
   "outputs": [],
   "source": [
    "# Invoke notebook code"
   ]
  },
  {
   "cell_type": "markdown",
   "metadata": {},
   "source": [
    "# 7. S1a SubActivities Collapse into Minutes\n",
    "\n",
    "**Input** `ds = pd.read_csv('S1SubActivities_timeRangeBoolean.csv', index_col = 'duration')` <br>\n",
    "**Input pt II** `ds.index = pd.to_datetime(ds.index)`\n",
    "\n",
    "---\n",
    "\n",
    "**Example preprocessed output:**\n",
    "\n",
    "**ADD DIM**\n",
    "\n",
    "idx (duration)      | subActNum_100 | subActNum_101 | subActNum_104 | subActNum_105 | subActNum_106 |  \n",
    "----------          | ---------     | ----------    | ---------     | ---------     | ---------     |\n",
    "2003-03-27 06:43:00 | 0.0           | 0.0           | 0.0           | 0.0           | 0.0           |\n",
    "2003-03-27 06:44:00 | 1.0           | 1.0           | 0.0           | 0.0           | 0.0           |\n",
    "2003-03-27 06:45:00 | 1.0           | 1.0           | 0.0           | 0.0           | 0.0           |\n",
    "2003-03-27 06:46:00 | 1.0           | 1.0           | 0.0           | 0.0           | 0.0           |\n",
    "2003-03-27 06:47:00 | 1.0           | 1.0           | 0.0           | 0.0           | 0.0           |\n",
    "\n",
    "---\n",
    "\n",
    "**Output** `ds.to_csv('S1SubActivities_timeRangeBooleanMinutes.csv', index = 'duration')` <br>\n",
    "**Output** `ds.to_csv('S1SubActivities_timeRangeBooleanMinutesDropNA.csv', index = 'duration')`\n"
   ]
  },
  {
   "cell_type": "code",
   "execution_count": null,
   "metadata": {},
   "outputs": [],
   "source": [
    "# Invoke notebook code"
   ]
  },
  {
   "cell_type": "markdown",
   "metadata": {},
   "source": [
    "# 8. S1a SubActivities Remove Duplicate Attributes\n",
    "\n",
    "**Input** `ds = pd.read_csv('S1SubActivities_timeRangeBooleanMinutesDropNA.csv', index_col = 'duration')` <br>\n",
    "**Input pt II** `ds.index = pd.to_datetime(ds.index)` <br>\n",
    "**Input B** `dsS1Sensors = pd.read_csv('S1Sensors_preprocessed.csv', index_col = None)`\n",
    "\n",
    "---\n",
    "\n",
    "**Example preprocessed output:**\n",
    "\n",
    "**ADD DIM**\n",
    "\n",
    "idx (duration) | bathroom_cabinet | bathroom_door | bathroom_exhaustfan | bathroom_lightswitch | bathroom_medicinecabinet |  \n",
    "----------          | ---------     | ----------    | ---------     | ---------     | ---------     |\n",
    "2003-03-27 06:43:00 | 1.0           | 0.0           | 0.0           | 0.0           | 0.0           |\n",
    "2003-03-27 06:44:00 | 1.0           | 0.0           | 0.0           | 1.0           | 2.0           |\n",
    "2003-03-27 06:45:00 | 0.0           | 0.0           | 0.0           | 1.0           | 0.0           |\n",
    "2003-03-27 06:46:00 | 0.0           | 0.0           | 0.0           | 1.0           | 0.0           |\n",
    "2003-03-27 06:47:00 | 0.0           | 0.0           | 0.0           | 1.0           | 0.0           |\n",
    "\n",
    "\n",
    "**Example preprocessed output:**\n",
    "\n",
    "**ADD DIM**\n",
    "\n",
    "idx (duration) | bathroom_cabinet | bathroom_door | bathroom_exhaustfan | bathroom_lightswitch | bathroom_medicinecabinet |  \n",
    "----------          | ---------     | ----------    | ---------     | ---------     | ---------     |\n",
    "2003-03-27 06:43:00 | 1.0           | 0.0           | 0.0           | 0.0           | 0.0           |\n",
    "2003-03-27 06:44:00 | 1.0           | 0.0           | 0.0           | 1.0           | 1.0           |\n",
    "2003-03-27 06:45:00 | 0.0           | 0.0           | 0.0           | 1.0           | 0.0           |\n",
    "2003-03-27 06:46:00 | 0.0           | 0.0           | 0.0           | 1.0           | 0.0           |\n",
    "2003-03-27 06:47:00 | 0.0           | 0.0           | 0.0           | 1.0           | 0.0           |\n",
    "\n",
    "---\n",
    "\n",
    "**Output** `ds.to_csv('S1Act_B_m_NoDupes.csv',index='duration')`\n"
   ]
  }
 ],
 "metadata": {
  "kernelspec": {
   "display_name": "Python 3",
   "language": "python",
   "name": "python3"
  },
  "language_info": {
   "codemirror_mode": {
    "name": "ipython",
    "version": 3
   },
   "file_extension": ".py",
   "mimetype": "text/x-python",
   "name": "python",
   "nbconvert_exporter": "python",
   "pygments_lexer": "ipython3",
   "version": "3.6.7"
  }
 },
 "nbformat": 4,
 "nbformat_minor": 4
}
