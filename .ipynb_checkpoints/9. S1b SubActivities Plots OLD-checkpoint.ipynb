{
 "cells": [
  {
   "cell_type": "code",
   "execution_count": 1,
   "metadata": {},
   "outputs": [],
   "source": [
    "import pandas as pd\n",
    "import numpy as np\n",
    "import time\n",
    "from datetime import datetime\n",
    "import altair as alt\n",
    "import pandas as pd\n",
    "import json\n",
    "import itertools as it"
   ]
  },
  {
   "cell_type": "code",
   "execution_count": null,
   "metadata": {},
   "outputs": [],
   "source": [
    "ds = pd.read_csv('S1SubActivities_preprocessed.csv', index_col = None)\n",
    "ds.start = pd.to_datetime(ds.start, format='%Y-%m-%d %H:%M:%S')\n",
    "ds.end = pd.to_datetime(ds.end, format='%Y-%m-%d %H:%M:%S')\n",
    "ds = ds.sort_values('start')\n",
    "ds.reset_index(drop = True, inplace = True)"
   ]
  },
  {
   "cell_type": "markdown",
   "metadata": {},
   "source": [
    "Problem Statement is:\n",
    "If I switch on the bathroom light switch between 6am and 7am on a weekday, the probability that I will use my razor is X. \n",
    "\n",
    "If start EVENTA between X and Y on a WD/WE the PR that I will start EVENTB within Z minutes is Q."
   ]
  },
  {
   "cell_type": "code",
   "execution_count": null,
   "metadata": {},
   "outputs": [],
   "source": [
    "import datetime as dt\n",
    "\n",
    "testEnd = dt.datetime(2003,3,27,7)\n",
    "testStart = dt.datetime(2003,3,27,6)\n",
    "testTimeFrame = dt.timedelta(hours = 1)\n",
    "\n",
    "def eventPR(ds, eventAStart, periodStart, periodEnd, dayType, eventB, timeFrame):\n",
    "    tempDF = ds[(ds.start < periodEnd + timeFrame) & (ds.start > periodStart)]\n",
    "    return tempDF\n",
    "    \n",
    "eventPR(ds, 0, testStart, testEnd, 0, 0, testTimeFrame)\n",
    "                                                    "
   ]
  },
  {
   "cell_type": "markdown",
   "metadata": {},
   "source": [
    "Above is A"
   ]
  },
  {
   "cell_type": "code",
   "execution_count": null,
   "metadata": {},
   "outputs": [],
   "source": [
    "# Unique subActNum list\n",
    "unique_list = []\n",
    "for x in ds.subActNum:                     # Traverse for all elements \n",
    "    if x not in unique_list:            # Check if exists in unique_list or not \n",
    "        unique_list.append(x)     "
   ]
  },
  {
   "cell_type": "markdown",
   "metadata": {},
   "source": [
    "---"
   ]
  },
  {
   "cell_type": "code",
   "execution_count": null,
   "metadata": {},
   "outputs": [],
   "source": [
    "iteration_2n = it.combinations(ds.subActNum, 2)\n",
    "array_2n = np.array(list(iteration_2n))\n",
    "len(array_2n)"
   ]
  },
  {
   "cell_type": "code",
   "execution_count": null,
   "metadata": {},
   "outputs": [],
   "source": [
    "array_2n[0:4]"
   ]
  },
  {
   "cell_type": "code",
   "execution_count": null,
   "metadata": {},
   "outputs": [],
   "source": [
    "dsCombin2n = pd.DataFrame({'EventA': array_2n[:, 0], \n",
    "                           'EventB': array_2n[:, 1]})"
   ]
  },
  {
   "cell_type": "code",
   "execution_count": null,
   "metadata": {},
   "outputs": [],
   "source": [
    "dsCombin2n.head(n=5)"
   ]
  },
  {
   "cell_type": "markdown",
   "metadata": {},
   "source": [
    "Above is B"
   ]
  },
  {
   "cell_type": "code",
   "execution_count": null,
   "metadata": {},
   "outputs": [],
   "source": [
    "ds.head(n=5)"
   ]
  },
  {
   "cell_type": "markdown",
   "metadata": {},
   "source": [
    "WHERE event A is followed by event B\n",
    "\n",
    "IF (event A end < event B start)\n",
    "\n",
    "SUM (event B start - event A end) = delta\n",
    "\n",
    "Add delta attribute to df\n",
    "\n",
    "RETURN df"
   ]
  },
  {
   "cell_type": "code",
   "execution_count": null,
   "metadata": {},
   "outputs": [],
   "source": [
    "import datetime as dt\n",
    "\n",
    "def nearest_neighbours(events, n=1, delta_threshold=dt.timedelta(-99)):\n",
    "    nns = []\n",
    "    for row in events.itertuples():\n",
    "        #print(row)\n",
    "        start_time = getattr(row, 'start')\n",
    "        end_time = getattr(row, 'end')\n",
    "        subActNum = getattr(row, 'subActNum')\n",
    "        #print(subActNum)\n",
    "        row_index = getattr(row, 'Index')\n",
    "        nn = events[(events.start >= start_time) & (events.index != row_index) & (end_time - events.start > delta_threshold)][:n]\n",
    "        ordered = pd.DataFrame()\n",
    "        ordered['EventA'] = subActNum\n",
    "        #print(ordered['EventA'])\n",
    "        ordered['EventB'] = nn['subActNum']\n",
    "        ordered['EvA_Start'] = start_time\n",
    "        ordered['EvA_End'] = end_time\n",
    "        ordered['EvB_Start'] = nn['start']\n",
    "        ordered['EvB_End'] = nn['end']\n",
    "        nns.append(ordered)\n",
    "  \n",
    "    #print(nns)\n",
    "    return pd.concat(nns)\n",
    "\n",
    "def id_delta(events):\n",
    "    df = events.copy()\n",
    "    return df\n",
    "\n",
    "#id_delta(ds).head()\n",
    "nearest_neighbours(ds, 5, dt.timedelta(0,-10))"
   ]
  },
  {
   "cell_type": "code",
   "execution_count": null,
   "metadata": {},
   "outputs": [],
   "source": [
    "ds"
   ]
  },
  {
   "cell_type": "code",
   "execution_count": null,
   "metadata": {},
   "outputs": [],
   "source": []
  }
 ],
 "metadata": {
  "kernelspec": {
   "display_name": "Python 3",
   "language": "python",
   "name": "python3"
  },
  "language_info": {
   "codemirror_mode": {
    "name": "ipython",
    "version": 3
   },
   "file_extension": ".py",
   "mimetype": "text/x-python",
   "name": "python",
   "nbconvert_exporter": "python",
   "pygments_lexer": "ipython3",
   "version": "3.7.4"
  },
  "toc": {
   "nav_menu": {},
   "number_sections": true,
   "sideBar": true,
   "skip_h1_title": false,
   "title_cell": "Table of Contents",
   "title_sidebar": "Contents",
   "toc_cell": false,
   "toc_position": {},
   "toc_section_display": true,
   "toc_window_display": false
  },
  "varInspector": {
   "cols": {
    "lenName": 16,
    "lenType": 16,
    "lenVar": 40
   },
   "kernels_config": {
    "python": {
     "delete_cmd_postfix": "",
     "delete_cmd_prefix": "del ",
     "library": "var_list.py",
     "varRefreshCmd": "print(var_dic_list())"
    },
    "r": {
     "delete_cmd_postfix": ") ",
     "delete_cmd_prefix": "rm(",
     "library": "var_list.r",
     "varRefreshCmd": "cat(var_dic_list()) "
    }
   },
   "types_to_exclude": [
    "module",
    "function",
    "builtin_function_or_method",
    "instance",
    "_Feature"
   ],
   "window_display": false
  }
 },
 "nbformat": 4,
 "nbformat_minor": 4
}
