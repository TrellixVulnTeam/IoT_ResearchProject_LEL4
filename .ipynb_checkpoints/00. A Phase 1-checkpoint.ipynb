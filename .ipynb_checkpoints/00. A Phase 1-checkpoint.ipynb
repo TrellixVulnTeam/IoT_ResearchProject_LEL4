{
 "cells": [
  {
   "cell_type": "code",
   "execution_count": 2,
   "metadata": {
    "ExecuteTime": {
     "end_time": "2019-10-13T10:54:23.288760Z",
     "start_time": "2019-10-13T10:54:23.235360Z"
    }
   },
   "outputs": [],
   "source": [
    "from IPython import get_ipython;   \n",
    "get_ipython().magic('reset -sf')\n",
    "#https://github.com/kirbs-/hide_code"
   ]
  },
  {
   "cell_type": "code",
   "execution_count": 3,
   "metadata": {
    "ExecuteTime": {
     "end_time": "2019-10-13T10:54:27.421968Z",
     "start_time": "2019-10-13T10:54:24.496626Z"
    }
   },
   "outputs": [],
   "source": [
    "%run -i Packages.py\n",
    "%matplotlib inline\n",
    "%load_ext rpy2.ipython"
   ]
  },
  {
   "cell_type": "code",
   "execution_count": 4,
   "metadata": {
    "ExecuteTime": {
     "end_time": "2019-10-13T10:54:30.954668Z",
     "start_time": "2019-10-13T10:54:29.649236Z"
    }
   },
   "outputs": [],
   "source": [
    "%%R\n",
    "library(ggplot2)\n",
    "library(readr)\n",
    "library(lubridate)\n",
    "library(dplyr)\n",
    "library(tidyr)\n",
    "library(viridis)"
   ]
  },
  {
   "cell_type": "markdown",
   "metadata": {},
   "source": [
    "# Abstract"
   ]
  },
  {
   "cell_type": "markdown",
   "metadata": {},
   "source": [
    "<p style='text-align: justify;'> \n",
    "</p>"
   ]
  },
  {
   "cell_type": "markdown",
   "metadata": {},
   "source": [
    "# Background\n",
    "\n",
    "## Electricity Usage\n",
    "- Two ways of looking at this\n",
    "1. Internet = lots of electricity\n",
    "2. Internet can save vast amounts of electricity\n",
    "\n",
    "[@article{itu2018}NOT IN LIB] In 2015, the International Telecommunication Union estimated about 3.2 billion people, or almost half of the world's population, would be online by the end of the year.\n",
    "\n",
    "[@article{haseeb2019does}NOT IN LIB] examined the impact of ICTs (i.e., internet usage and mobile cellular subscriptions), globalization, electricity consumption, financial development, and economic growth on environmental quality by using 1994–2014 panel data of BRICS economies. ... The empirical results demonstrate that rise in both internet usage and mobile cellular subscription (ICTs) likely mitigates CO2 emissions in BRICS economies.\n",
    "\n",
    "[@article{feuerriegel2016}] discuss electricity demand response - allowing the management of demand side resources in real-time.\n",
    "\n",
    "_Demand Response allows for the management of demand side resources in real-time; i.e. shifting electricity demand according to fluctuating supply. When integrated into electricity markets, Demand Response can be used for load shifting and as a replacement for both control reserve and balancing energy. These three usage scenarios are compared based on historic German data from 2011 to determine that load shifting provides the highest benefit: its annual financial savings accumulate to €3.110M for both households and the service sector. This equals to relative savings of 2.83\\% compared to a scenario without load shifting._\n",
    "\n",
    "& [@article{palensky2011demand}NOT IN LIB]\n",
    "\n",
    "Talk broadly about \n",
    "- Internet\n",
    "- End Users (household demand for electricity)\n",
    "- IoT\n",
    "\n",
    "[@article{bober2009distributed}NOT IN LIB] - As recently as 2009 it was posited that \"The proposed model allows for introduction of power  priorities for consumer’s electrical-equipments by the importance of their functions. The relevance of the functions carried out by the data device is evaluated by each consumer individually. The relevance of functions and priorities assigned to power mode / groups of electrical equipments can be changed over time.\"  \n",
    "\n",
    "'Haseeb et al [@article{haseeb2019does}NOT IN LIB] have (through review) shown that at a macro scale, global adoption of internet reduces energy consumption' + At the micro scale (that is, the behavior of individuals...)\n",
    "\n",
    "Consider COST OF IOT SERVICES??? Link this back to the aformentioned increased in global internet users\n",
    "\n",
    "Pivot into micro - end users... As previously mentioned, demand shifting \n",
    "\n",
    "HMI = Human-Machine Interface\n",
    "\n",
    "'How smart do smart meters need to be?' - this is fundamentally at odds with the vision described above. In this scenario, end users would still be having to interact with HMIs. \n",
    "- From a behavioural point of view, moving forward this type of behaviour will become increasingly anachronistic (think about tuning a television set)\n",
    "- Additionally, there is associated resouce (time of end user & physical resource to make the HMI) which contributes to environmental burden (this is a NULL point, as authors specifically mention interaction via a tablet computer) ALTHOUGH, the point can still be made that interaction with \n",
    "\n",
    "(J.-S. Chou and N.-S. Truong) posit that 'A user’s ignorance of methods for saving energy is generally attributable to a lack of relevant feedback.' \n",
    "\n",
    "Review of available literature (bad?) has shown that currently, consumer convenience and consumer energy consumption are considered in relative isolation from one-another (detached, disjoined). For example, analysis of texts X Y Z yield only T mention of convenience, whilst analysis of texts A B C yield only S mentions of energy consumption.\n",
    "\n",
    "This work aims to 'bridge the gap' between these two areas of consideration.\n",
    "\n",
    "Bring it back to the idea that previous forecasting / intervention models have focussed on \n",
    "\n",
    "\n",
    "@article{huang2018} dis\n",
    "\n",
    "@article{kobus2015} et al contend that _Today’s major developments in the production and demand of electricity in domestic areas make it increasingly important that domestic electricity demand can respond to the availability of electricity_. They also note that _the benefits resulting from domestic demand response depend on household acceptance and behavioural change_\n",
    "- Aim is to investigate if households can shift their electricity demand to times when electricity is abundantly available\n",
    "- Two major developments in the coming decades\n",
    "1. The amount of distributed renewable electricity generation will increase (e.g., growing number of installed photovoltaic (PV) panels)\n",
    "2. Significant increase in electricity demand - due to widespread introduction of energy-reliant (albeit more efficient) technologies\n",
    "\n",
    "Smart grids: Consideration of power greid in real time to drive efficiency in the power grid at a macro-level (NOT: We will define macro as ...) ADD PROPER DEFINITION for SMARTGRID\n",
    "HOWEVER _the effects of smart grids strongly depend on the successful implementation of demand response programs_ Demand Response = _Demand response as a household action (automated, manual, orboth) due to which electricity use is shifted in time in response to a price signal or other stimuli._\n",
    "Factors\n",
    "- Availability of PV electricity\n",
    "- Availability of other renewable energy\n",
    "- 'Peak' electricity grid time (this may vary)\n",
    "- Weather / climate considerations (e.g., heatwave)\n",
    "- Interaction with Energy Management System (EMS)\n",
    "\n",
    "_An example of a price signal that several countries have in place is aday- and night pricing scheme. In this scheme, electricity is cheaperduring the night, when demand is low._\n",
    "_Households were also equipped with PV panels, an Energy Management System (EMS), and a dynamic tariff._\n",
    "DEMAND RESPONSE - 'Demand response of a household'\n",
    "\n",
    "_The usage of wet appliances, such as dishwashers, washing machines and dryers, is in general not very time critical and therefore can be shifted._\n",
    "\n",
    "_The user defines an ultimate finish time and within this time frame, the smart applianceautomatically defines the most appropriate starting time_\n",
    "\n",
    "*Overall - concept that 'end user' will mediate power consumption between various appliances...\n",
    "\n",
    "---\n",
    "Novelty: This work USES sensor data (which could conceivably have been derived from a sensor-rich IoT smarthome) and considers the interplay between \n",
    "- End User Convenience\n",
    "- Predictive Analytics\n",
    "- Predictive Service Offering\n",
    "- Energy Consumption\n",
    "- Demand Response\n",
    "- Smart Electricity Grids\n",
    "OTHER WORKS TYPICALLY CONSIDER ELECTRICAL APPLIANCES ONLY\n",
    "- In this work, we use the sensor data from both electrical (energy consumption activity - ECA) and activities that do not require electrical consumption (non energy consuming activity - nECA). \n",
    "- The predictive capability of our ML model shows that this is an extremely robust methodology\n",
    "\n",
    "---\n",
    "\n",
    "**Based on Darby and McKenna (REF), we define demand response and a household action (automated, manual, or both) due to which electricity use is shifted in time in response to a price signal of other stimuli. This can result in more efficient usage of the available sustainable electricity, like self-consumption of on-site PV electricity (REF) and peak demand reductions (REF) - all from @article{kobus2015}**\n",
    "\n",
    "**Assumptions**\n",
    "1. The cost of the sensors is negligible (EXCEPT for discussion later RE top 5 features)\n",
    "2. The energy requirement for the sensors is negligible\n",
    "3. In our proposed model, computation is performed in the cloud\n",
    "4. An app is available to interact with the smart home\n",
    "5. All of the electrical appliances in our smart home can be remote controlled to some extent\n",
    "\n",
    "- What about, instead of responding to the average time, the antagonistic AI responded to price signals in the market?\n",
    "\n",
    "**Huang et al proposed a novel service mining framework to personalize services in an IoT based smart home (REF). \n",
    "\n",
    "<cite data-cite=\"granger2013\">(Granger, 2013)</cite>\n",
    "\n",
    "---"
   ]
  },
  {
   "cell_type": "markdown",
   "metadata": {},
   "source": [
    "## General IoT + Internet\n",
    "Since the inception of the first home computers in 1977 (REF), modern society has become utterly dependent on and indeed, inexorably bound to digital technology. The rapid and widespread adoption of computational technology has led to the fastest rate of development (societal, economic, e.t.c.,) our species has ever experienced. Indeed, our quest for exponentially greater computational power and digital storage capacity has led to a new and utterly ubiquitous technological paradigm; Cloud Computing (REF), defined as; The practice of using a network of remote servers hosted on the Internet to store, manage, and process data, rather than a local server or a personal computer (https://www.dictionary.com/browse/cloud-computing). <br>\n",
    "\n",
    "Cloud Computing (enabled by the adoption of another ubiquitous computational technology, the World Wide Web) essentially commodifies compute and store, providing on-demand resources for anything from making a social media post, all the way to, searching the Milky Way Galaxy for new planets (https://mast-labs.stsci.io/2018/12/tess-data-available-on-aws). <br>\n",
    "\n",
    "As with any new technology, Cloud Computing brings with it both new opportunities and new challenges. One such opportunity is the Internet of Things (BRIDGING STATEMENT). The 'Internet of Things' can be surmised as the extension of the Internet and the Web into the physical realm, by means of the widespread deployment of spatially distributed devices with embedded identification, sensing and/or actuation capabilities [@article{miorandi2012}]. <br>\n",
    "\n",
    "The Internet of Things (IoT) paradigm enables physical devices to connect and exchange information, and also allows objects to be sensed or controlled remotely through the internet (@article{huang2018} @ 1 of @article{huang2018}). Huang et al explore the idea of Service-oriented Computing (SOC) whereby the inherent complexity associated with networking and programming is abstracted away, shifting the focus from dealing with technical details to a focus on how the services are to be used. For example, under this paradigm, a light connected to the Internet is represented as a light service or a heater connected to the internet is represented as a heating service... 'realm of smart home'... A smart home can be considered as any regular home which has been augmented with various types of IoT services, the purpose of which is to make residents' life more convenient and efficient (@article{huang2018} @ 15/17 of @article{huang2018}). <br>\n",
    "\n",
    "**Discuss IoT**\n",
    "_The term ‘‘Internet-of-Things’’ is used as an umbrella keyword for covering various aspects related to the extension of the Internet and the Web into the physical realm, by means ofthe widespread deployment of spatially distributed devices with embedded identification,sensing and/or actuation capabilities. Internet-of-Things envisions a future in which digitaland physical entities can be linked, by means of appropriate information and communica-tion technologies, to enable a whole new class of applications and services. In this article,we present a survey of technologies, applications and research challenges for Internet-of-Things_ <br>\n",
    "\n",
    "[IMAGE - Old Paradigm = user sitting at computer terminal] <br>\n",
    "[IMAGE - New Paradigm = user surrounded by services] <br>\n",
    "\n",
    "This work aims to bridge the gap between CONVENIENCE and ENERGY USAGE, a previously neglected consideration (these two haven't been directly considered side-by-side, as it were) <br>\n",
    "\n",
    "Here we observe that the internet is evolving from interconnecting computers to interconnecting things [@article{atzori2010}]. <br>\n",
    "\n",
    "The Internet of Things (IoT) paradigm enables physical devices to connect and exchange information. IoT devices allow objects to be sensed or con-trolled remotely through the Internet [@article{atzori2010}]. <br>"
   ]
  },
  {
   "cell_type": "markdown",
   "metadata": {},
   "source": [
    "## Datasets\n",
    "\n",
    "The datasets were created during the thesis _Activity Recognition with End-User Sensor Installation in the Home_ by Randy Joseph Rockinson, Submitted to the Program of Media Arts and Sciences, School of Architecture and Planning, in partial fulfillment of the requirement for the degree of Master of Science in Media Arts and Sciences at the Massachusetts Institute of Technology (MIT) February 2008 <cite data-cite=\"7169703/SHM9GDKN\"></cite>. The work considered the effect of end user versus professional installation of a sensor array in the home - on the basis that, if installation of sensors is to be considered as a high initial cost, and a barrier to entry for end users wanting this technology, is there a difference if a professional versus an end user performs the installation?\n",
    "\n",
    "- End user installation method is prposed using \"stick on\" wireless sensors\n",
    "- Wireless sensors in the home environment\n",
    "- Data collected from such sensors can be used by software to automatically infer context, such as the activities of daily living.\n",
    "- This context inference can then be exploited in novel applications for health-care, communication, education, and entertainment.\n",
    "- Determination of \n",
    "\n",
    "In this thesis, between 80-100 reed switch sensors where installed in two single-person apartments collecting data about human activity for two weeks. The sensors were installed in everyday objects such as drawers, refrigerators, containers, etc to record opening-closing events (activation deactivation events) as the subject carried out everyday activities.\n",
    "\n",
    "**Based on the two explorator** <br>\n",
    "\n",
    "**The PlaceLab**\n",
    "The mission of House_n is to conduct research by designing and building real living environments - \"living labs\" - that are used to study technology and design strategies in context. The PlaceLab is a joint MIT and TIAX, LLC initiative. It is a residential condominium in Cambridge, Massachusetts\n",
    "\n",
    "GET WEATHER DATA\n",
    "\n"
   ]
  },
  {
   "cell_type": "markdown",
   "metadata": {},
   "source": [
    "## Previous Work"
   ]
  },
  {
   "cell_type": "code",
   "execution_count": null,
   "metadata": {},
   "outputs": [],
   "source": [
    "#Image(filename = PATH + '/images/huangA.jpg', width=300, height=300)"
   ]
  },
  {
   "cell_type": "markdown",
   "metadata": {},
   "source": [
    "<center>\n",
    "<img src=\"images/huangA.jpg\" title=\"Test Title\" alt=\"Alt text\" width=\"400\" height=\"400\" />\n",
    "</center> \n",
    "<i> This text is italic. </i> <br>\n",
    "Fig 1. DESCRIBE\n"
   ]
  },
  {
   "cell_type": "markdown",
   "metadata": {},
   "source": [
    "<center>\n",
    "<img src=\"images/huangC.jpg\" title=\"Test Title\" alt=\"Alt text\" width=\"400\" height=\"400\" />\n",
    "</center> \n",
    "<i> This text is italic. </i> <br>\n",
    "Fig 1. The work of Huang et al provided initial direction for our data preprocessing. Because we had NO INFORMATION / IT IS A TINY APARTMENT - JUSTIFY the reason for alternate approach RE data processing"
   ]
  },
  {
   "cell_type": "markdown",
   "metadata": {},
   "source": [
    "\\begin{equation}\n",
    "S = \n",
    "<Seq,T,L> = \n",
    " \\begin{Bmatrix}\n",
    "  \\alpha_{1} & \\cdots & \\alpha_{i} & \\cdots & \\alpha_{2n} \\\\\n",
    "  t_{1}      & \\cdots & t_{i}      & \\cdots & t_{2n}      \\\\\n",
    "  l_{1}      & \\cdots & l_{i}      & \\cdots & l_{2n}      \\\\\n",
    " \\end{Bmatrix}\n",
    "\\end{equation}"
   ]
  },
  {
   "cell_type": "markdown",
   "metadata": {},
   "source": [
    "\\begin{equation}\n",
    " \\begin{Bmatrix}\n",
    "  s_{2}^{+} & s_{1}^{+} & s_{3}^{+} & s_{1}^{-} & s_{3}^{-} & s_{2}^{-} \\\\\n",
    "  48        & 50        & 58        & 65        & 70        & 75        \\\\\n",
    "  l_{2}     & l_{1}     & l_{3}     & l_{1}     & l_{3}     & l_{2}     \\\\\n",
    " \\end{Bmatrix}\n",
    " (i.e., l_{1} = (1,2), l_{2} = (2,4), l_{3} = (3,5))\n",
    "\\end{equation}\n",
    "\n",
    "\n"
   ]
  },
  {
   "cell_type": "markdown",
   "metadata": {},
   "source": [
    "<p style='text-align: justify;'> ... </p>"
   ]
  },
  {
   "cell_type": "markdown",
   "metadata": {},
   "source": []
  },
  {
   "cell_type": "markdown",
   "metadata": {},
   "source": [
    "# Data Preprocessing and Visualisation\n",
    "\n",
    "## Importing & Preprocessing the Activities Meta Data\n",
    "\n",
    "The dataset `S1Activities.csv` was imported into the Jupyter interactive environment. These data contains a tabulated summary of Heading, Category, Subcategory and a corresponding code. After importation, the dataset has dimensionality of [3, 33], with `Heading`, `Category` & `Subcategory` present as non-null objects. The attribute `Code` (which codefies the unique set of Heading, Category) was imported as an index value. At this time, the activities data will not be subject to preprocessing."
   ]
  },
  {
   "cell_type": "code",
   "execution_count": 5,
   "metadata": {
    "ExecuteTime": {
     "end_time": "2019-10-13T10:54:39.000821Z",
     "start_time": "2019-10-13T10:54:38.869449Z"
    }
   },
   "outputs": [
    {
     "data": {
      "text/html": [
       "<div>\n",
       "<style scoped>\n",
       "    .dataframe tbody tr th:only-of-type {\n",
       "        vertical-align: middle;\n",
       "    }\n",
       "\n",
       "    .dataframe tbody tr th {\n",
       "        vertical-align: top;\n",
       "    }\n",
       "\n",
       "    .dataframe thead th {\n",
       "        text-align: right;\n",
       "    }\n",
       "</style>\n",
       "<table border=\"1\" class=\"dataframe\">\n",
       "  <thead>\n",
       "    <tr style=\"text-align: right;\">\n",
       "      <th></th>\n",
       "      <th>Heading</th>\n",
       "      <th>Category</th>\n",
       "      <th>Subcategory</th>\n",
       "    </tr>\n",
       "    <tr>\n",
       "      <th>Code</th>\n",
       "      <th></th>\n",
       "      <th></th>\n",
       "      <th></th>\n",
       "    </tr>\n",
       "  </thead>\n",
       "  <tbody>\n",
       "    <tr>\n",
       "      <th>1</th>\n",
       "      <td>Employment related</td>\n",
       "      <td>Employment work at home</td>\n",
       "      <td>Work at home</td>\n",
       "    </tr>\n",
       "    <tr>\n",
       "      <th>5</th>\n",
       "      <td>Employment related</td>\n",
       "      <td>Travel employment</td>\n",
       "      <td>Going out to work</td>\n",
       "    </tr>\n",
       "    <tr>\n",
       "      <th>10</th>\n",
       "      <td>Personal needs</td>\n",
       "      <td>Eating</td>\n",
       "      <td>Eating</td>\n",
       "    </tr>\n",
       "    <tr>\n",
       "      <th>15</th>\n",
       "      <td>Personal needs</td>\n",
       "      <td>Personal hygiene</td>\n",
       "      <td>Toileting</td>\n",
       "    </tr>\n",
       "    <tr>\n",
       "      <th>20</th>\n",
       "      <td>Personal needs</td>\n",
       "      <td>Personal hygiene</td>\n",
       "      <td>Bathing</td>\n",
       "    </tr>\n",
       "  </tbody>\n",
       "</table>\n",
       "</div>"
      ],
      "text/plain": [
       "                 Heading                 Category        Subcategory\n",
       "Code                                                                \n",
       "1     Employment related  Employment work at home       Work at home\n",
       "5     Employment related        Travel employment  Going out to work\n",
       "10        Personal needs                   Eating             Eating\n",
       "15        Personal needs         Personal hygiene          Toileting\n",
       "20        Personal needs         Personal hygiene            Bathing"
      ]
     },
     "execution_count": 5,
     "metadata": {},
     "output_type": "execute_result"
    }
   ],
   "source": [
    "ds = pd.read_csv(PATH + '/datasets/S1Activities.csv', index_col = 'Code') \n",
    "ds.head(n=5)      "
   ]
  },
  {
   "cell_type": "code",
   "execution_count": null,
   "metadata": {
    "ExecuteTime": {
     "end_time": "2019-09-22T11:44:58.444468Z",
     "start_time": "2019-09-22T11:44:58.431049Z"
    }
   },
   "outputs": [],
   "source": [
    "# TABULATE\n",
    "# ds.info(verbose = False)\n",
    "#test = ds.describe()\n",
    "#test[0:2]"
   ]
  },
  {
   "cell_type": "code",
   "execution_count": null,
   "metadata": {},
   "outputs": [],
   "source": [
    "#ds.info(memory_usage = False)"
   ]
  },
  {
   "cell_type": "markdown",
   "metadata": {},
   "source": [
    "## Importing & Preprocessing the Sensor Meta Data\n",
    "\n",
    "The dataset `S1sensors.csv` was imported into the Jupyter interactive environment. These data contains a tabulated values for Sensor ID, Room and Sensor Activity Type, with no header row present in the original dataset. After importation, the dataset has dimensionality of [3, 76], with header `0`, `1` & `2` corresponding to `SensorID`, `Room` & `Sensor Activity Type`, respectively. All attributes are nominal, and were imported as dtype str, accordingly. Note that it can be immediately seen (`dsS1Sensors.head()`) that attribute `1` & `2` contain degenerate values. This will be addressed in the subsequent data preprocessing.\n",
    "\n",
    "The preprocessing of the sensor data is a critical step in our analysis. Careful consideration of the data, including the presence of duplicates. This is because if we dont have a sufficient understanding of where and why duplicates exist, we will not be able to satisfactorarily preprocess them. Failure to do so we mean that there is potentail degeneracy in our source dataset, leading to unknown issues with our downstream analysis."
   ]
  },
  {
   "cell_type": "code",
   "execution_count": 21,
   "metadata": {
    "ExecuteTime": {
     "end_time": "2019-10-13T10:55:55.713226Z",
     "start_time": "2019-10-13T10:55:55.702003Z"
    },
    "code_folding": []
   },
   "outputs": [],
   "source": [
    "# Importing the dataset\n",
    "dsS1Sensors = pd.read_csv(PATH + '/datasets/S1sensors.csv', \n",
    "                          dtype={0:str, 1:str, 2:str},\n",
    "                          index_col = None, header = None)"
   ]
  },
  {
   "cell_type": "code",
   "execution_count": 22,
   "metadata": {
    "ExecuteTime": {
     "end_time": "2019-10-13T10:55:56.991392Z",
     "start_time": "2019-10-13T10:55:56.970028Z"
    }
   },
   "outputs": [
    {
     "data": {
      "text/html": [
       "<div>\n",
       "<style scoped>\n",
       "    .dataframe tbody tr th:only-of-type {\n",
       "        vertical-align: middle;\n",
       "    }\n",
       "\n",
       "    .dataframe tbody tr th {\n",
       "        vertical-align: top;\n",
       "    }\n",
       "\n",
       "    .dataframe thead th {\n",
       "        text-align: right;\n",
       "    }\n",
       "</style>\n",
       "<table border=\"1\" class=\"dataframe\">\n",
       "  <thead>\n",
       "    <tr style=\"text-align: right;\">\n",
       "      <th></th>\n",
       "      <th>0</th>\n",
       "      <th>1</th>\n",
       "      <th>2</th>\n",
       "    </tr>\n",
       "  </thead>\n",
       "  <tbody>\n",
       "    <tr>\n",
       "      <th>0</th>\n",
       "      <td>100</td>\n",
       "      <td>Bathroom</td>\n",
       "      <td>Toilet Flush</td>\n",
       "    </tr>\n",
       "    <tr>\n",
       "      <th>1</th>\n",
       "      <td>101</td>\n",
       "      <td>Bathroom</td>\n",
       "      <td>Light switch</td>\n",
       "    </tr>\n",
       "    <tr>\n",
       "      <th>2</th>\n",
       "      <td>104</td>\n",
       "      <td>Foyer</td>\n",
       "      <td>Light switch</td>\n",
       "    </tr>\n",
       "    <tr>\n",
       "      <th>3</th>\n",
       "      <td>105</td>\n",
       "      <td>Kitchen</td>\n",
       "      <td>Light switch</td>\n",
       "    </tr>\n",
       "    <tr>\n",
       "      <th>4</th>\n",
       "      <td>106</td>\n",
       "      <td>Kitchen</td>\n",
       "      <td>Burner</td>\n",
       "    </tr>\n",
       "  </tbody>\n",
       "</table>\n",
       "</div>"
      ],
      "text/plain": [
       "     0         1              2\n",
       "0  100  Bathroom  Toilet Flush \n",
       "1  101  Bathroom   Light switch\n",
       "2  104     Foyer   Light switch\n",
       "3  105   Kitchen   Light switch\n",
       "4  106   Kitchen         Burner"
      ]
     },
     "execution_count": 22,
     "metadata": {},
     "output_type": "execute_result"
    }
   ],
   "source": [
    "dsS1Sensors.head()"
   ]
  },
  {
   "cell_type": "code",
   "execution_count": null,
   "metadata": {
    "ExecuteTime": {
     "end_time": "2019-09-22T11:44:58.489985Z",
     "start_time": "2019-09-22T11:44:58.479156Z"
    }
   },
   "outputs": [],
   "source": [
    "# TABULATE\n",
    "# dsS1Sensors.info()       # Checking the length of dsS1Sensors"
   ]
  },
  {
   "cell_type": "markdown",
   "metadata": {},
   "source": [
    "Column [1] & Column [2] of the sensor data will be concatenated, whitespace will be removed, all text will be cast to lowercase and a final whitespace strip will be performed. <br>\n",
    "The python script `S1sensorsPreprocessing.py` is run perform several preprocessing steps in these data. The script concatenates the attributes `dsS1Sensors[1]` and `dsS1Sensors[2]`, with an underscore. Whitespace is then stripped and all string values are coerced to lowercase. This newly created attribute is then added to the dataframe, as seen below (REF). Additionally, the attributes `0`, `1` & `2` are renamed `subActNum`, `room` & `activity`, respectively. <br>\n",
    "- Data types\n",
    "- IF a sub-act requires electricity"
   ]
  },
  {
   "cell_type": "code",
   "execution_count": 23,
   "metadata": {
    "ExecuteTime": {
     "end_time": "2019-10-13T10:56:01.069679Z",
     "start_time": "2019-10-13T10:56:01.057317Z"
    }
   },
   "outputs": [],
   "source": [
    "%run -i S1sensorsPreprocessing.py"
   ]
  },
  {
   "cell_type": "code",
   "execution_count": 24,
   "metadata": {
    "ExecuteTime": {
     "end_time": "2019-10-13T10:56:02.018626Z",
     "start_time": "2019-10-13T10:56:02.001253Z"
    }
   },
   "outputs": [
    {
     "data": {
      "text/html": [
       "<div>\n",
       "<style scoped>\n",
       "    .dataframe tbody tr th:only-of-type {\n",
       "        vertical-align: middle;\n",
       "    }\n",
       "\n",
       "    .dataframe tbody tr th {\n",
       "        vertical-align: top;\n",
       "    }\n",
       "\n",
       "    .dataframe thead th {\n",
       "        text-align: right;\n",
       "    }\n",
       "</style>\n",
       "<table border=\"1\" class=\"dataframe\">\n",
       "  <thead>\n",
       "    <tr style=\"text-align: right;\">\n",
       "      <th></th>\n",
       "      <th>subActNum</th>\n",
       "      <th>room</th>\n",
       "      <th>activity</th>\n",
       "      <th>concat</th>\n",
       "    </tr>\n",
       "  </thead>\n",
       "  <tbody>\n",
       "    <tr>\n",
       "      <th>0</th>\n",
       "      <td>100</td>\n",
       "      <td>Bathroom</td>\n",
       "      <td>Toilet Flush</td>\n",
       "      <td>bathroom_toiletflush</td>\n",
       "    </tr>\n",
       "    <tr>\n",
       "      <th>1</th>\n",
       "      <td>101</td>\n",
       "      <td>Bathroom</td>\n",
       "      <td>Light switch</td>\n",
       "      <td>bathroom_lightswitch</td>\n",
       "    </tr>\n",
       "    <tr>\n",
       "      <th>2</th>\n",
       "      <td>104</td>\n",
       "      <td>Foyer</td>\n",
       "      <td>Light switch</td>\n",
       "      <td>foyer_lightswitch</td>\n",
       "    </tr>\n",
       "    <tr>\n",
       "      <th>3</th>\n",
       "      <td>105</td>\n",
       "      <td>Kitchen</td>\n",
       "      <td>Light switch</td>\n",
       "      <td>kitchen_lightswitch</td>\n",
       "    </tr>\n",
       "    <tr>\n",
       "      <th>4</th>\n",
       "      <td>106</td>\n",
       "      <td>Kitchen</td>\n",
       "      <td>Burner</td>\n",
       "      <td>kitchen_burner</td>\n",
       "    </tr>\n",
       "  </tbody>\n",
       "</table>\n",
       "</div>"
      ],
      "text/plain": [
       "  subActNum      room       activity                concat\n",
       "0       100  Bathroom  Toilet Flush   bathroom_toiletflush\n",
       "1       101  Bathroom   Light switch  bathroom_lightswitch\n",
       "2       104     Foyer   Light switch     foyer_lightswitch\n",
       "3       105   Kitchen   Light switch   kitchen_lightswitch\n",
       "4       106   Kitchen         Burner        kitchen_burner"
      ]
     },
     "execution_count": 24,
     "metadata": {},
     "output_type": "execute_result"
    }
   ],
   "source": [
    "dsS1Sensors.head()"
   ]
  },
  {
   "cell_type": "markdown",
   "metadata": {},
   "source": [
    "The function `getUniqueValues.py` is invoked to provide a means of capturing a list of unique values in a given column of a dataset. The newly created `dsS1Sensors` is then checked for duplicates in two attributes, `subActNum` & `concat`. The number of unique values in `dsS1Sensors.subActNum` is found to be 76, demonstrating that this attribute contains a set of completely unique values (recall n(rows) = 76). The number of unique values in `dsS1Sensors.concat` is found to be 41, demonstrating that despite the concatenation methodology, their are still duplicate values in the dataframe. These duplicate values warrant further investigation. The function `seen_dupes_dsS1Sensors.py` is used to list counts with their corresponding values."
   ]
  },
  {
   "cell_type": "code",
   "execution_count": 25,
   "metadata": {
    "ExecuteTime": {
     "end_time": "2019-10-13T10:56:07.874420Z",
     "start_time": "2019-10-13T10:56:07.867932Z"
    },
    "code_folding": []
   },
   "outputs": [],
   "source": [
    "%run -i getUniqueValues.py"
   ]
  },
  {
   "cell_type": "code",
   "execution_count": 26,
   "metadata": {
    "ExecuteTime": {
     "end_time": "2019-10-13T10:56:09.162154Z",
     "start_time": "2019-10-13T10:56:09.150716Z"
    }
   },
   "outputs": [
    {
     "data": {
      "text/plain": [
       "76"
      ]
     },
     "execution_count": 26,
     "metadata": {},
     "output_type": "execute_result"
    }
   ],
   "source": [
    "uniqueS1SubActNum = getUniqueValues(dsS1Sensors.iloc[:,0])\n",
    "len(uniqueS1SubActNum)"
   ]
  },
  {
   "cell_type": "code",
   "execution_count": 27,
   "metadata": {
    "ExecuteTime": {
     "end_time": "2019-10-13T10:56:10.349708Z",
     "start_time": "2019-10-13T10:56:10.337228Z"
    },
    "code_folding": []
   },
   "outputs": [
    {
     "data": {
      "text/plain": [
       "41"
      ]
     },
     "execution_count": 27,
     "metadata": {},
     "output_type": "execute_result"
    }
   ],
   "source": [
    "uniqueS1Sensors = getUniqueValues(dsS1Sensors.iloc[:,3])\n",
    "len(uniqueS1Sensors)"
   ]
  },
  {
   "cell_type": "code",
   "execution_count": 28,
   "metadata": {
    "ExecuteTime": {
     "end_time": "2019-10-13T10:56:11.311877Z",
     "start_time": "2019-10-13T10:56:11.293841Z"
    }
   },
   "outputs": [
    {
     "name": "stdout",
     "output_type": "stream",
     "text": [
      "3   kitchen_lightswitch\n",
      "4   kitchen_burner\n",
      "2   livingroom_lightswitch\n",
      "7   kitchen_drawer\n",
      "3   kitchen_refrigerator\n",
      "15  kitchen_cabinet\n",
      "2   kitchen_door\n",
      "5   bedroom_drawer\n",
      "2   bathroom_medicinecabinet\n",
      "2   bathroom_cabinet\n"
     ]
    }
   ],
   "source": [
    "%run -i seen_dupes_dsS1Sensors.py"
   ]
  },
  {
   "cell_type": "markdown",
   "metadata": {},
   "source": [
    "Upon compilation of the above summary list, and with reference to the original work <cite data-cite=\"7169703/SHM9GDKN\"></cite> is was determined that these values result from multiple sensors with extremely similar functionality. For example, kitchen_burner has a value of n=4 - this is because on the burner in the apartment under investigation, there were 4 individual burners present. Similarly, kitchen_cabinet has a value of n=15, indicating that for the various cabinets in the apartment, each were given sensors. On the one-hand, this level of granularity may provide fertile grounds for advanced analysis, HOWEVER, for the purposes of this research project, such values will serve to increase the dimensionality of the overall dataset. High dimensionality can lead to difficulties with plotting, .... ML (REF) and thus IN A SUBSEQUENT PREPROCESSING exercise these values will be collapsed down to have n=1."
   ]
  },
  {
   "cell_type": "markdown",
   "metadata": {},
   "source": [
    "**Creation of JSON Catalogues PRIOR to dup removal** - why? Because even if a key-value pair cannot be matched it will simply be ignored\n",
    "**Prior to dupe removal** As this work is largely concerned with energy usage in the home, the sub-activities will be categorized based on their energy requirement. That is, if a sub-activity requires an input of energy beyond what the end user alone can provide, it will be classified as `energyReq` = true. Whereas, if a sub-activity is able to be performed through only interaction with the end user, it will be classified as `energyReq` = false. By way of example, the sub-activity `bathroom_toiletflush` will have an `energyReq` equal to false, while the sub-activity `bathroom_lightswitch` will have an `energyReq` equal to true. Each row (n=76) needs to be inspected manually to determine if the activity requires electricity."
   ]
  },
  {
   "cell_type": "markdown",
   "metadata": {},
   "source": [
    "Function `reqEnergy_containSpecialChar.py` is run\n",
    "- After visual inspection, uses `reqEnergy = 'ligh|burn|mach|toas|freez|dvd|lamp|washer|dry|exh|disp|frig|oven|hot|micro'` to find subActivities which require energy input beyond that of the end user\n",
    "- Checked below for SPECIAL CHAR\n",
    "- Special CHARs removed"
   ]
  },
  {
   "cell_type": "code",
   "execution_count": 29,
   "metadata": {
    "ExecuteTime": {
     "end_time": "2019-10-13T10:56:14.797957Z",
     "start_time": "2019-10-13T10:56:14.783847Z"
    }
   },
   "outputs": [],
   "source": [
    "%run -i reqEnergy_containSpecialChar.py"
   ]
  },
  {
   "cell_type": "code",
   "execution_count": 32,
   "metadata": {
    "ExecuteTime": {
     "end_time": "2019-10-13T10:57:42.323402Z",
     "start_time": "2019-10-13T10:57:42.302435Z"
    }
   },
   "outputs": [
    {
     "data": {
      "text/html": [
       "<div>\n",
       "<style scoped>\n",
       "    .dataframe tbody tr th:only-of-type {\n",
       "        vertical-align: middle;\n",
       "    }\n",
       "\n",
       "    .dataframe tbody tr th {\n",
       "        vertical-align: top;\n",
       "    }\n",
       "\n",
       "    .dataframe thead th {\n",
       "        text-align: right;\n",
       "    }\n",
       "</style>\n",
       "<table border=\"1\" class=\"dataframe\">\n",
       "  <thead>\n",
       "    <tr style=\"text-align: right;\">\n",
       "      <th></th>\n",
       "      <th>subActNum</th>\n",
       "      <th>room</th>\n",
       "      <th>activity</th>\n",
       "      <th>concat</th>\n",
       "      <th>reqEnergy</th>\n",
       "      <th>specialChar</th>\n",
       "    </tr>\n",
       "  </thead>\n",
       "  <tbody>\n",
       "    <tr>\n",
       "      <th>58</th>\n",
       "      <td>82</td>\n",
       "      <td>Office/study</td>\n",
       "      <td>Drawer</td>\n",
       "      <td>office/study_drawer</td>\n",
       "      <td>False</td>\n",
       "      <td>True</td>\n",
       "    </tr>\n",
       "    <tr>\n",
       "      <th>68</th>\n",
       "      <td>92</td>\n",
       "      <td>Office/study</td>\n",
       "      <td>Light switch</td>\n",
       "      <td>office/study_lightswitch</td>\n",
       "      <td>True</td>\n",
       "      <td>True</td>\n",
       "    </tr>\n",
       "  </tbody>\n",
       "</table>\n",
       "</div>"
      ],
      "text/plain": [
       "   subActNum          room      activity                    concat  reqEnergy  \\\n",
       "58        82  Office/study        Drawer       office/study_drawer      False   \n",
       "68        92  Office/study  Light switch  office/study_lightswitch       True   \n",
       "\n",
       "    specialChar  \n",
       "58         True  \n",
       "68         True  "
      ]
     },
     "execution_count": 32,
     "metadata": {},
     "output_type": "execute_result"
    }
   ],
   "source": [
    "dsS1Sensors.loc[dsS1Sensors['specialChar'] == True]                           # Filter for true"
   ]
  },
  {
   "cell_type": "code",
   "execution_count": 40,
   "metadata": {
    "ExecuteTime": {
     "end_time": "2019-10-13T10:58:32.594498Z",
     "start_time": "2019-10-13T10:58:32.580218Z"
    }
   },
   "outputs": [],
   "source": [
    "%run -i reqEnergy_containSpecialCharClean.py"
   ]
  },
  {
   "cell_type": "markdown",
   "metadata": {},
   "source": [
    "Comment: Later the ## values for subActNum will become subActNum_##"
   ]
  },
  {
   "cell_type": "code",
   "execution_count": 41,
   "metadata": {
    "ExecuteTime": {
     "end_time": "2019-10-13T10:58:34.156613Z",
     "start_time": "2019-10-13T10:58:34.137234Z"
    }
   },
   "outputs": [
    {
     "data": {
      "text/html": [
       "<div>\n",
       "<style scoped>\n",
       "    .dataframe tbody tr th:only-of-type {\n",
       "        vertical-align: middle;\n",
       "    }\n",
       "\n",
       "    .dataframe tbody tr th {\n",
       "        vertical-align: top;\n",
       "    }\n",
       "\n",
       "    .dataframe thead th {\n",
       "        text-align: right;\n",
       "    }\n",
       "</style>\n",
       "<table border=\"1\" class=\"dataframe\">\n",
       "  <thead>\n",
       "    <tr style=\"text-align: right;\">\n",
       "      <th></th>\n",
       "      <th>subActNum</th>\n",
       "      <th>room</th>\n",
       "      <th>activity</th>\n",
       "      <th>concat</th>\n",
       "      <th>reqEnergy</th>\n",
       "      <th>subActNumConcat</th>\n",
       "    </tr>\n",
       "  </thead>\n",
       "  <tbody>\n",
       "    <tr>\n",
       "      <th>58</th>\n",
       "      <td>82</td>\n",
       "      <td>Study</td>\n",
       "      <td>Drawer</td>\n",
       "      <td>study_drawer</td>\n",
       "      <td>False</td>\n",
       "      <td>subActNum_82</td>\n",
       "    </tr>\n",
       "  </tbody>\n",
       "</table>\n",
       "</div>"
      ],
      "text/plain": [
       "   subActNum   room activity        concat  reqEnergy subActNumConcat\n",
       "58        82  Study   Drawer  study_drawer      False    subActNum_82"
      ]
     },
     "execution_count": 41,
     "metadata": {},
     "output_type": "execute_result"
    }
   ],
   "source": [
    "dsS1Sensors[58:59] # STORE IN VARIABLE AND CALL IN APPENDIX"
   ]
  },
  {
   "cell_type": "code",
   "execution_count": 42,
   "metadata": {
    "ExecuteTime": {
     "end_time": "2019-10-13T10:58:45.096574Z",
     "start_time": "2019-10-13T10:58:45.083663Z"
    }
   },
   "outputs": [],
   "source": [
    "# ALL JSON NOTES ADDED TO .py file\n",
    "#%run -i sensorDataJSONwDUPES.py"
   ]
  },
  {
   "cell_type": "markdown",
   "metadata": {
    "ExecuteTime": {
     "end_time": "2019-09-22T08:48:40.643372Z",
     "start_time": "2019-09-22T08:48:40.635209Z"
    }
   },
   "source": [
    "\n",
    "```JSON\n",
    "{\"bathroom_toiletflush\": false, \n",
    " \"bathroom_lightswitch\": true, \n",
    " \"foyer_lightswitch\"   : true, ...\n",
    "```\n"
   ]
  }
 ],
 "metadata": {
  "cite2c": {
   "citations": {
    "7169703/66KDKFR4": {
     "DOI": "10.1016/j.apenergy.2019.04.063",
     "abstract": "Inrecentyears,energy information systems have had an important role in the operational optimization of intelligent buildings to provide such benefits as high efficiency, energy savings and smart services. Interest in the intelligent management of home energy consumption using data mining and time series analysis is increasing. Therefore, this work develops an efficient web-based energy information management system for the power consumption of home appliances that monitors the energy load of a home, analyzes its energy consumption based on machine learning, and then sends information to various stakeholders. It interacts with the end-user through energy dashboards and emails. The web-based system includes a novel hybrid artificial intelligence model to improve its prediction of energy usage. An automatic warning function is also developed to identify anomalous energy consumption in a home in real time. The cloud system automatically sends a message to the user's email whenever a warning is necessary. End-users of this system can use forecast information and anomalous data to enhance the efficiency of energy usage in their buildings especially during peak times by adjusting the operating schedule of their appliances and electrical equipment.",
     "author": [
      {
       "family": "Jui-Sheng Chou",
       "given": "Ngoc-Son Truong"
      }
     ],
     "container-title": "Applied Energy",
     "id": "7169703/66KDKFR4",
     "issued": {
      "year": 2019
     },
     "page": "166-177",
     "page-first": "166",
     "title": "Cloud forecasting system for monitoring and alerting of energy use by home appliances",
     "type": "article-journal",
     "volume": "249"
    },
    "7169703/SHM9GDKN": {
     "abstract": "During the past several years, researchers have demonstrated that when new wireless sensors are placed in the home environment, data collected from them can be used bysoftware to automatically infer context, such as the activities of daily living. This context-inference can then be exploited in novel applications for healthcare, communication, education, and entertainment. Prior work on automatic context-inference has cleared the way to a reduction in costs associated with manufacturing the sensor technologies and computing resources required by these systems. However, this prior work does not specifically address another major expense of wide-scale deployment of the proposed systems: the expense of expert installation of the sensor devices. To date, most of the context-detection algorithms proposed assume that an expert carefully installs the home sensors and that an expert is involved in acquiring the necessary training examples. End-user sensor installation may offer several advantages over professional sensor installations: 1.) It may greatly reduces the high cost of time required for an expert installation, especially if large numbers of sensors are required for an application, 2.) The process of installing the sensors may give the users a greater sense of control over the technology in their homes, and 3.) End-User Installations also may improve algorithmic performance by leveraging the end-user's domain expertise. An end-user installation method is proposed using \"stick on\" wireless object usage sensors. The method is then evaluated employing two in-situ, exploratory user studies, where volunteers live in a home fitted with an audio-visual monitoring system. Each participant was given a phone-based tool to help him or her self-install the object usage sensors. They each lived with the sensors for over a week. They were also asked to provide some training data on their everyday activities using multiple methods. Data collected from the two studies is used to qualitatively compare the end-user installation with two professional installation methods. Based on the two exploratory experiments, design guidelines for user self-installation of home sensors are proposed.",
     "author": [
      {
       "family": "Rockinson",
       "given": "Randy"
      }
     ],
     "id": "7169703/SHM9GDKN",
     "issued": {
      "day": 2,
      "month": 11,
      "year": 2008
     },
     "language": "English",
     "publisher": "Massachusetts Institute of Technology",
     "title": "Activity Recognition with End-User Sensor Installation in the Home",
     "type": "thesis"
    }
   }
  },
  "kernelspec": {
   "display_name": "Python 3",
   "language": "python",
   "name": "python3"
  },
  "language_info": {
   "codemirror_mode": {
    "name": "ipython",
    "version": 3
   },
   "file_extension": ".py",
   "mimetype": "text/x-python",
   "name": "python",
   "nbconvert_exporter": "python",
   "pygments_lexer": "ipython3",
   "version": "3.7.4"
  },
  "toc": {
   "nav_menu": {},
   "number_sections": true,
   "sideBar": true,
   "skip_h1_title": false,
   "title_cell": "Table of Contents",
   "title_sidebar": "Contents",
   "toc_cell": false,
   "toc_position": {},
   "toc_section_display": true,
   "toc_window_display": false
  },
  "varInspector": {
   "cols": {
    "lenName": 16,
    "lenType": 16,
    "lenVar": 40
   },
   "kernels_config": {
    "python": {
     "delete_cmd_postfix": "",
     "delete_cmd_prefix": "del ",
     "library": "var_list.py",
     "varRefreshCmd": "print(var_dic_list())"
    },
    "r": {
     "delete_cmd_postfix": ") ",
     "delete_cmd_prefix": "rm(",
     "library": "var_list.r",
     "varRefreshCmd": "cat(var_dic_list()) "
    }
   },
   "position": {
    "height": "299px",
    "left": "1099px",
    "right": "20px",
    "top": "120px",
    "width": "321px"
   },
   "types_to_exclude": [
    "module",
    "function",
    "builtin_function_or_method",
    "instance",
    "_Feature"
   ],
   "window_display": false
  }
 },
 "nbformat": 4,
 "nbformat_minor": 4
}
