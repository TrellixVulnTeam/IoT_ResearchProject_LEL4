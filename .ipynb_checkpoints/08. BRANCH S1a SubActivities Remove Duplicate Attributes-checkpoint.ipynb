{
 "cells": [
  {
   "cell_type": "code",
   "execution_count": 1,
   "metadata": {},
   "outputs": [],
   "source": [
    "import pandas as pd\n",
    "import numpy as np"
   ]
  },
  {
   "cell_type": "markdown",
   "metadata": {},
   "source": [
    "---"
   ]
  },
  {
   "cell_type": "markdown",
   "metadata": {},
   "source": [
    "## Collapsing 'Duplicate' Attributes\n",
    "* "
   ]
  },
  {
   "cell_type": "code",
   "execution_count": 2,
   "metadata": {},
   "outputs": [],
   "source": [
    "ds = pd.read_csv('S1SubActivities_timeRangeBooleanMinutesDropNA.csv', index_col = 'duration')\n",
    "ds.index = pd.to_datetime(ds.index)"
   ]
  },
  {
   "cell_type": "code",
   "execution_count": 3,
   "metadata": {},
   "outputs": [],
   "source": [
    "dsS1Sensors = pd.read_csv('S1Sensors_preprocessed.csv', index_col = None)     # Importing the dataset"
   ]
  },
  {
   "cell_type": "code",
   "execution_count": 4,
   "metadata": {},
   "outputs": [
    {
     "data": {
      "text/html": [
       "<div>\n",
       "<style scoped>\n",
       "    .dataframe tbody tr th:only-of-type {\n",
       "        vertical-align: middle;\n",
       "    }\n",
       "\n",
       "    .dataframe tbody tr th {\n",
       "        vertical-align: top;\n",
       "    }\n",
       "\n",
       "    .dataframe thead th {\n",
       "        text-align: right;\n",
       "    }\n",
       "</style>\n",
       "<table border=\"1\" class=\"dataframe\">\n",
       "  <thead>\n",
       "    <tr style=\"text-align: right;\">\n",
       "      <th></th>\n",
       "      <th>subActNum</th>\n",
       "      <th>room</th>\n",
       "      <th>activity</th>\n",
       "      <th>concat</th>\n",
       "      <th>reqElectricity</th>\n",
       "      <th>subActNumConcat</th>\n",
       "    </tr>\n",
       "  </thead>\n",
       "  <tbody>\n",
       "    <tr>\n",
       "      <th>0</th>\n",
       "      <td>100</td>\n",
       "      <td>Bathroom</td>\n",
       "      <td>Toilet Flush</td>\n",
       "      <td>bathroom_toiletflush</td>\n",
       "      <td>False</td>\n",
       "      <td>subActNum_100</td>\n",
       "    </tr>\n",
       "    <tr>\n",
       "      <th>1</th>\n",
       "      <td>101</td>\n",
       "      <td>Bathroom</td>\n",
       "      <td>Light switch</td>\n",
       "      <td>bathroom_lightswitch</td>\n",
       "      <td>True</td>\n",
       "      <td>subActNum_101</td>\n",
       "    </tr>\n",
       "    <tr>\n",
       "      <th>2</th>\n",
       "      <td>104</td>\n",
       "      <td>Foyer</td>\n",
       "      <td>Light switch</td>\n",
       "      <td>foyer_lightswitch</td>\n",
       "      <td>True</td>\n",
       "      <td>subActNum_104</td>\n",
       "    </tr>\n",
       "    <tr>\n",
       "      <th>3</th>\n",
       "      <td>105</td>\n",
       "      <td>Kitchen</td>\n",
       "      <td>Light switch</td>\n",
       "      <td>kitchen_lightswitch</td>\n",
       "      <td>True</td>\n",
       "      <td>subActNum_105</td>\n",
       "    </tr>\n",
       "    <tr>\n",
       "      <th>4</th>\n",
       "      <td>106</td>\n",
       "      <td>Kitchen</td>\n",
       "      <td>Burner</td>\n",
       "      <td>kitchen_burner</td>\n",
       "      <td>True</td>\n",
       "      <td>subActNum_106</td>\n",
       "    </tr>\n",
       "  </tbody>\n",
       "</table>\n",
       "</div>"
      ],
      "text/plain": [
       "   subActNum      room       activity                concat  reqElectricity  \\\n",
       "0        100  Bathroom  Toilet Flush   bathroom_toiletflush           False   \n",
       "1        101  Bathroom   Light switch  bathroom_lightswitch            True   \n",
       "2        104     Foyer   Light switch     foyer_lightswitch            True   \n",
       "3        105   Kitchen   Light switch   kitchen_lightswitch            True   \n",
       "4        106   Kitchen         Burner        kitchen_burner            True   \n",
       "\n",
       "  subActNumConcat  \n",
       "0   subActNum_100  \n",
       "1   subActNum_101  \n",
       "2   subActNum_104  \n",
       "3   subActNum_105  \n",
       "4   subActNum_106  "
      ]
     },
     "execution_count": 4,
     "metadata": {},
     "output_type": "execute_result"
    }
   ],
   "source": [
    "dsS1Sensors.head(n=5)"
   ]
  },
  {
   "cell_type": "code",
   "execution_count": 5,
   "metadata": {},
   "outputs": [],
   "source": [
    "seen = {}\n",
    "dupes = []\n",
    "\n",
    "for x in dsS1Sensors.concat:\n",
    "    if x not in seen:\n",
    "        seen[x] = 1\n",
    "    else:\n",
    "        if seen[x] == 1:\n",
    "            dupes.append(x)\n",
    "        seen[x] += 1"
   ]
  },
  {
   "cell_type": "code",
   "execution_count": 6,
   "metadata": {},
   "outputs": [
    {
     "data": {
      "text/plain": [
       "['kitchen_burner',\n",
       " 'kitchen_lightswitch',\n",
       " 'kitchen_cabinet',\n",
       " 'kitchen_drawer',\n",
       " 'kitchen_refrigerator',\n",
       " 'kitchen_door',\n",
       " 'bathroom_medicinecabinet',\n",
       " 'bedroom_drawer',\n",
       " 'bathroom_cabinet',\n",
       " 'livingroom_lightswitch']"
      ]
     },
     "execution_count": 6,
     "metadata": {},
     "output_type": "execute_result"
    }
   ],
   "source": [
    "dupes"
   ]
  },
  {
   "cell_type": "code",
   "execution_count": 7,
   "metadata": {},
   "outputs": [
    {
     "data": {
      "text/html": [
       "<div>\n",
       "<style scoped>\n",
       "    .dataframe tbody tr th:only-of-type {\n",
       "        vertical-align: middle;\n",
       "    }\n",
       "\n",
       "    .dataframe tbody tr th {\n",
       "        vertical-align: top;\n",
       "    }\n",
       "\n",
       "    .dataframe thead th {\n",
       "        text-align: right;\n",
       "    }\n",
       "</style>\n",
       "<table border=\"1\" class=\"dataframe\">\n",
       "  <thead>\n",
       "    <tr style=\"text-align: right;\">\n",
       "      <th></th>\n",
       "      <th>concat</th>\n",
       "      <th>subActNumConcat</th>\n",
       "    </tr>\n",
       "  </thead>\n",
       "  <tbody>\n",
       "    <tr>\n",
       "      <th>0</th>\n",
       "      <td>bathroom_toiletflush</td>\n",
       "      <td>subActNum_100</td>\n",
       "    </tr>\n",
       "    <tr>\n",
       "      <th>1</th>\n",
       "      <td>bathroom_lightswitch</td>\n",
       "      <td>subActNum_101</td>\n",
       "    </tr>\n",
       "    <tr>\n",
       "      <th>2</th>\n",
       "      <td>foyer_lightswitch</td>\n",
       "      <td>subActNum_104</td>\n",
       "    </tr>\n",
       "    <tr>\n",
       "      <th>3</th>\n",
       "      <td>kitchen_lightswitch</td>\n",
       "      <td>subActNum_105</td>\n",
       "    </tr>\n",
       "    <tr>\n",
       "      <th>4</th>\n",
       "      <td>kitchen_burner</td>\n",
       "      <td>subActNum_106</td>\n",
       "    </tr>\n",
       "  </tbody>\n",
       "</table>\n",
       "</div>"
      ],
      "text/plain": [
       "                 concat subActNumConcat\n",
       "0  bathroom_toiletflush   subActNum_100\n",
       "1  bathroom_lightswitch   subActNum_101\n",
       "2     foyer_lightswitch   subActNum_104\n",
       "3   kitchen_lightswitch   subActNum_105\n",
       "4        kitchen_burner   subActNum_106"
      ]
     },
     "execution_count": 7,
     "metadata": {},
     "output_type": "execute_result"
    }
   ],
   "source": [
    "dsSensorDrop = dsS1Sensors.drop(columns = ['subActNum', 'room', 'activity', 'reqElectricity'])\n",
    "dsSensorDrop.head(n=5)"
   ]
  },
  {
   "cell_type": "code",
   "execution_count": 8,
   "metadata": {},
   "outputs": [
    {
     "data": {
      "text/plain": [
       "'bathroom_toiletflush'"
      ]
     },
     "execution_count": 8,
     "metadata": {},
     "output_type": "execute_result"
    }
   ],
   "source": [
    "sensorDict = pd.Series(dsSensorDrop.concat.values, dsSensorDrop.subActNumConcat.values).to_dict()\n",
    "sensorDict[\"subActNum_100\"]"
   ]
  },
  {
   "cell_type": "code",
   "execution_count": 9,
   "metadata": {},
   "outputs": [],
   "source": [
    "ds.rename(columns = sensorDict, inplace=True)"
   ]
  },
  {
   "cell_type": "code",
   "execution_count": 10,
   "metadata": {},
   "outputs": [
    {
     "data": {
      "text/html": [
       "<div>\n",
       "<style scoped>\n",
       "    .dataframe tbody tr th:only-of-type {\n",
       "        vertical-align: middle;\n",
       "    }\n",
       "\n",
       "    .dataframe tbody tr th {\n",
       "        vertical-align: top;\n",
       "    }\n",
       "\n",
       "    .dataframe thead th {\n",
       "        text-align: right;\n",
       "    }\n",
       "</style>\n",
       "<table border=\"1\" class=\"dataframe\">\n",
       "  <thead>\n",
       "    <tr style=\"text-align: right;\">\n",
       "      <th></th>\n",
       "      <th>bathroom_toiletflush</th>\n",
       "      <th>bathroom_lightswitch</th>\n",
       "      <th>foyer_lightswitch</th>\n",
       "      <th>kitchen_lightswitch</th>\n",
       "      <th>kitchen_burner</th>\n",
       "      <th>livingroom_lightswitch</th>\n",
       "      <th>bedroom_lightswitch</th>\n",
       "      <th>kitchen_burner</th>\n",
       "      <th>kitchen_coffeemachine</th>\n",
       "      <th>kitchen_lightswitch</th>\n",
       "      <th>...</th>\n",
       "      <th>kitchen_laundrydryer</th>\n",
       "      <th>kitchen_refrigerator</th>\n",
       "      <th>office/study_lightswitch</th>\n",
       "      <th>bathroom_showerfaucet</th>\n",
       "      <th>kitchen_burner</th>\n",
       "      <th>kitchen_lightswitch</th>\n",
       "      <th>bathroom_exhaustfan</th>\n",
       "      <th>livingroom_lightswitch</th>\n",
       "      <th>kitchen_garbagedisposal</th>\n",
       "      <th>kitchen_burner</th>\n",
       "    </tr>\n",
       "    <tr>\n",
       "      <th>duration</th>\n",
       "      <th></th>\n",
       "      <th></th>\n",
       "      <th></th>\n",
       "      <th></th>\n",
       "      <th></th>\n",
       "      <th></th>\n",
       "      <th></th>\n",
       "      <th></th>\n",
       "      <th></th>\n",
       "      <th></th>\n",
       "      <th></th>\n",
       "      <th></th>\n",
       "      <th></th>\n",
       "      <th></th>\n",
       "      <th></th>\n",
       "      <th></th>\n",
       "      <th></th>\n",
       "      <th></th>\n",
       "      <th></th>\n",
       "      <th></th>\n",
       "      <th></th>\n",
       "    </tr>\n",
       "  </thead>\n",
       "  <tbody>\n",
       "    <tr>\n",
       "      <th>2003-03-27 06:43:00</th>\n",
       "      <td>0.0</td>\n",
       "      <td>0.0</td>\n",
       "      <td>0.0</td>\n",
       "      <td>0.0</td>\n",
       "      <td>0.0</td>\n",
       "      <td>0.0</td>\n",
       "      <td>0.0</td>\n",
       "      <td>0.0</td>\n",
       "      <td>0.0</td>\n",
       "      <td>0.0</td>\n",
       "      <td>...</td>\n",
       "      <td>0.0</td>\n",
       "      <td>0.0</td>\n",
       "      <td>0.0</td>\n",
       "      <td>0.0</td>\n",
       "      <td>0.0</td>\n",
       "      <td>0.0</td>\n",
       "      <td>0.0</td>\n",
       "      <td>0.0</td>\n",
       "      <td>0.0</td>\n",
       "      <td>0.0</td>\n",
       "    </tr>\n",
       "    <tr>\n",
       "      <th>2003-03-27 06:44:00</th>\n",
       "      <td>1.0</td>\n",
       "      <td>1.0</td>\n",
       "      <td>0.0</td>\n",
       "      <td>0.0</td>\n",
       "      <td>0.0</td>\n",
       "      <td>0.0</td>\n",
       "      <td>0.0</td>\n",
       "      <td>0.0</td>\n",
       "      <td>0.0</td>\n",
       "      <td>0.0</td>\n",
       "      <td>...</td>\n",
       "      <td>0.0</td>\n",
       "      <td>0.0</td>\n",
       "      <td>0.0</td>\n",
       "      <td>0.0</td>\n",
       "      <td>0.0</td>\n",
       "      <td>0.0</td>\n",
       "      <td>0.0</td>\n",
       "      <td>0.0</td>\n",
       "      <td>0.0</td>\n",
       "      <td>0.0</td>\n",
       "    </tr>\n",
       "  </tbody>\n",
       "</table>\n",
       "<p>2 rows × 72 columns</p>\n",
       "</div>"
      ],
      "text/plain": [
       "                     bathroom_toiletflush  bathroom_lightswitch  \\\n",
       "duration                                                          \n",
       "2003-03-27 06:43:00                   0.0                   0.0   \n",
       "2003-03-27 06:44:00                   1.0                   1.0   \n",
       "\n",
       "                     foyer_lightswitch  kitchen_lightswitch  kitchen_burner  \\\n",
       "duration                                                                      \n",
       "2003-03-27 06:43:00                0.0                  0.0             0.0   \n",
       "2003-03-27 06:44:00                0.0                  0.0             0.0   \n",
       "\n",
       "                     livingroom_lightswitch  bedroom_lightswitch  \\\n",
       "duration                                                           \n",
       "2003-03-27 06:43:00                     0.0                  0.0   \n",
       "2003-03-27 06:44:00                     0.0                  0.0   \n",
       "\n",
       "                     kitchen_burner  kitchen_coffeemachine  \\\n",
       "duration                                                     \n",
       "2003-03-27 06:43:00             0.0                    0.0   \n",
       "2003-03-27 06:44:00             0.0                    0.0   \n",
       "\n",
       "                     kitchen_lightswitch  ...  kitchen_laundrydryer  \\\n",
       "duration                                  ...                         \n",
       "2003-03-27 06:43:00                  0.0  ...                   0.0   \n",
       "2003-03-27 06:44:00                  0.0  ...                   0.0   \n",
       "\n",
       "                     kitchen_refrigerator  office/study_lightswitch  \\\n",
       "duration                                                              \n",
       "2003-03-27 06:43:00                   0.0                       0.0   \n",
       "2003-03-27 06:44:00                   0.0                       0.0   \n",
       "\n",
       "                     bathroom_showerfaucet  kitchen_burner  \\\n",
       "duration                                                     \n",
       "2003-03-27 06:43:00                    0.0             0.0   \n",
       "2003-03-27 06:44:00                    0.0             0.0   \n",
       "\n",
       "                     kitchen_lightswitch  bathroom_exhaustfan  \\\n",
       "duration                                                        \n",
       "2003-03-27 06:43:00                  0.0                  0.0   \n",
       "2003-03-27 06:44:00                  0.0                  0.0   \n",
       "\n",
       "                     livingroom_lightswitch  kitchen_garbagedisposal  \\\n",
       "duration                                                               \n",
       "2003-03-27 06:43:00                     0.0                      0.0   \n",
       "2003-03-27 06:44:00                     0.0                      0.0   \n",
       "\n",
       "                     kitchen_burner  \n",
       "duration                             \n",
       "2003-03-27 06:43:00             0.0  \n",
       "2003-03-27 06:44:00             0.0  \n",
       "\n",
       "[2 rows x 72 columns]"
      ]
     },
     "execution_count": 10,
     "metadata": {},
     "output_type": "execute_result"
    }
   ],
   "source": [
    "ds.head(n=2)"
   ]
  },
  {
   "cell_type": "code",
   "execution_count": 11,
   "metadata": {},
   "outputs": [],
   "source": [
    "colList = []\n",
    "\n",
    "for i in ds.columns:\n",
    "    colList.append(i)"
   ]
  },
  {
   "cell_type": "code",
   "execution_count": 12,
   "metadata": {},
   "outputs": [
    {
     "data": {
      "text/plain": [
       "72"
      ]
     },
     "execution_count": 12,
     "metadata": {},
     "output_type": "execute_result"
    }
   ],
   "source": [
    "len(colList)"
   ]
  },
  {
   "cell_type": "code",
   "execution_count": 13,
   "metadata": {},
   "outputs": [],
   "source": [
    "ds = ds.groupby(ds.columns, axis=1).sum()"
   ]
  },
  {
   "cell_type": "code",
   "execution_count": 14,
   "metadata": {},
   "outputs": [
    {
     "data": {
      "text/html": [
       "<div>\n",
       "<style scoped>\n",
       "    .dataframe tbody tr th:only-of-type {\n",
       "        vertical-align: middle;\n",
       "    }\n",
       "\n",
       "    .dataframe tbody tr th {\n",
       "        vertical-align: top;\n",
       "    }\n",
       "\n",
       "    .dataframe thead th {\n",
       "        text-align: right;\n",
       "    }\n",
       "</style>\n",
       "<table border=\"1\" class=\"dataframe\">\n",
       "  <thead>\n",
       "    <tr style=\"text-align: right;\">\n",
       "      <th></th>\n",
       "      <th>bathroom_cabinet</th>\n",
       "      <th>bathroom_door</th>\n",
       "      <th>bathroom_exhaustfan</th>\n",
       "      <th>bathroom_lightswitch</th>\n",
       "      <th>bathroom_medicinecabinet</th>\n",
       "      <th>bathroom_showerfaucet</th>\n",
       "      <th>bathroom_sinkfaucet-cold</th>\n",
       "      <th>bathroom_sinkfaucet-hot</th>\n",
       "      <th>bathroom_toiletflush</th>\n",
       "      <th>bedroom_drawer</th>\n",
       "      <th>...</th>\n",
       "      <th>kitchen_microwave</th>\n",
       "      <th>kitchen_oven</th>\n",
       "      <th>kitchen_refrigerator</th>\n",
       "      <th>kitchen_toaster</th>\n",
       "      <th>kitchen_washingmachine</th>\n",
       "      <th>livingroom_dvd</th>\n",
       "      <th>livingroom_lamp</th>\n",
       "      <th>livingroom_lightswitch</th>\n",
       "      <th>office/study_drawer</th>\n",
       "      <th>office/study_lightswitch</th>\n",
       "    </tr>\n",
       "    <tr>\n",
       "      <th>duration</th>\n",
       "      <th></th>\n",
       "      <th></th>\n",
       "      <th></th>\n",
       "      <th></th>\n",
       "      <th></th>\n",
       "      <th></th>\n",
       "      <th></th>\n",
       "      <th></th>\n",
       "      <th></th>\n",
       "      <th></th>\n",
       "      <th></th>\n",
       "      <th></th>\n",
       "      <th></th>\n",
       "      <th></th>\n",
       "      <th></th>\n",
       "      <th></th>\n",
       "      <th></th>\n",
       "      <th></th>\n",
       "      <th></th>\n",
       "      <th></th>\n",
       "      <th></th>\n",
       "    </tr>\n",
       "  </thead>\n",
       "  <tbody>\n",
       "    <tr>\n",
       "      <th>2003-03-27 06:43:00</th>\n",
       "      <td>1.0</td>\n",
       "      <td>0.0</td>\n",
       "      <td>0.0</td>\n",
       "      <td>0.0</td>\n",
       "      <td>0.0</td>\n",
       "      <td>0.0</td>\n",
       "      <td>0.0</td>\n",
       "      <td>0.0</td>\n",
       "      <td>0.0</td>\n",
       "      <td>0.0</td>\n",
       "      <td>...</td>\n",
       "      <td>0.0</td>\n",
       "      <td>0.0</td>\n",
       "      <td>0.0</td>\n",
       "      <td>0.0</td>\n",
       "      <td>0.0</td>\n",
       "      <td>0.0</td>\n",
       "      <td>0.0</td>\n",
       "      <td>0.0</td>\n",
       "      <td>0.0</td>\n",
       "      <td>0.0</td>\n",
       "    </tr>\n",
       "    <tr>\n",
       "      <th>2003-03-27 06:44:00</th>\n",
       "      <td>1.0</td>\n",
       "      <td>0.0</td>\n",
       "      <td>0.0</td>\n",
       "      <td>1.0</td>\n",
       "      <td>2.0</td>\n",
       "      <td>0.0</td>\n",
       "      <td>0.0</td>\n",
       "      <td>0.0</td>\n",
       "      <td>1.0</td>\n",
       "      <td>0.0</td>\n",
       "      <td>...</td>\n",
       "      <td>0.0</td>\n",
       "      <td>0.0</td>\n",
       "      <td>0.0</td>\n",
       "      <td>0.0</td>\n",
       "      <td>0.0</td>\n",
       "      <td>0.0</td>\n",
       "      <td>0.0</td>\n",
       "      <td>0.0</td>\n",
       "      <td>0.0</td>\n",
       "      <td>0.0</td>\n",
       "    </tr>\n",
       "    <tr>\n",
       "      <th>2003-03-27 06:45:00</th>\n",
       "      <td>0.0</td>\n",
       "      <td>0.0</td>\n",
       "      <td>0.0</td>\n",
       "      <td>1.0</td>\n",
       "      <td>0.0</td>\n",
       "      <td>0.0</td>\n",
       "      <td>0.0</td>\n",
       "      <td>0.0</td>\n",
       "      <td>1.0</td>\n",
       "      <td>0.0</td>\n",
       "      <td>...</td>\n",
       "      <td>0.0</td>\n",
       "      <td>0.0</td>\n",
       "      <td>0.0</td>\n",
       "      <td>0.0</td>\n",
       "      <td>0.0</td>\n",
       "      <td>0.0</td>\n",
       "      <td>0.0</td>\n",
       "      <td>0.0</td>\n",
       "      <td>1.0</td>\n",
       "      <td>0.0</td>\n",
       "    </tr>\n",
       "    <tr>\n",
       "      <th>2003-03-27 06:46:00</th>\n",
       "      <td>0.0</td>\n",
       "      <td>0.0</td>\n",
       "      <td>0.0</td>\n",
       "      <td>1.0</td>\n",
       "      <td>0.0</td>\n",
       "      <td>0.0</td>\n",
       "      <td>0.0</td>\n",
       "      <td>0.0</td>\n",
       "      <td>1.0</td>\n",
       "      <td>1.0</td>\n",
       "      <td>...</td>\n",
       "      <td>0.0</td>\n",
       "      <td>0.0</td>\n",
       "      <td>0.0</td>\n",
       "      <td>0.0</td>\n",
       "      <td>0.0</td>\n",
       "      <td>0.0</td>\n",
       "      <td>0.0</td>\n",
       "      <td>0.0</td>\n",
       "      <td>0.0</td>\n",
       "      <td>0.0</td>\n",
       "    </tr>\n",
       "    <tr>\n",
       "      <th>2003-03-27 06:47:00</th>\n",
       "      <td>0.0</td>\n",
       "      <td>0.0</td>\n",
       "      <td>0.0</td>\n",
       "      <td>1.0</td>\n",
       "      <td>0.0</td>\n",
       "      <td>0.0</td>\n",
       "      <td>0.0</td>\n",
       "      <td>0.0</td>\n",
       "      <td>1.0</td>\n",
       "      <td>0.0</td>\n",
       "      <td>...</td>\n",
       "      <td>0.0</td>\n",
       "      <td>0.0</td>\n",
       "      <td>0.0</td>\n",
       "      <td>0.0</td>\n",
       "      <td>0.0</td>\n",
       "      <td>0.0</td>\n",
       "      <td>0.0</td>\n",
       "      <td>0.0</td>\n",
       "      <td>0.0</td>\n",
       "      <td>0.0</td>\n",
       "    </tr>\n",
       "  </tbody>\n",
       "</table>\n",
       "<p>5 rows × 38 columns</p>\n",
       "</div>"
      ],
      "text/plain": [
       "                     bathroom_cabinet  bathroom_door  bathroom_exhaustfan  \\\n",
       "duration                                                                    \n",
       "2003-03-27 06:43:00               1.0            0.0                  0.0   \n",
       "2003-03-27 06:44:00               1.0            0.0                  0.0   \n",
       "2003-03-27 06:45:00               0.0            0.0                  0.0   \n",
       "2003-03-27 06:46:00               0.0            0.0                  0.0   \n",
       "2003-03-27 06:47:00               0.0            0.0                  0.0   \n",
       "\n",
       "                     bathroom_lightswitch  bathroom_medicinecabinet  \\\n",
       "duration                                                              \n",
       "2003-03-27 06:43:00                   0.0                       0.0   \n",
       "2003-03-27 06:44:00                   1.0                       2.0   \n",
       "2003-03-27 06:45:00                   1.0                       0.0   \n",
       "2003-03-27 06:46:00                   1.0                       0.0   \n",
       "2003-03-27 06:47:00                   1.0                       0.0   \n",
       "\n",
       "                     bathroom_showerfaucet  bathroom_sinkfaucet-cold  \\\n",
       "duration                                                               \n",
       "2003-03-27 06:43:00                    0.0                       0.0   \n",
       "2003-03-27 06:44:00                    0.0                       0.0   \n",
       "2003-03-27 06:45:00                    0.0                       0.0   \n",
       "2003-03-27 06:46:00                    0.0                       0.0   \n",
       "2003-03-27 06:47:00                    0.0                       0.0   \n",
       "\n",
       "                     bathroom_sinkfaucet-hot  bathroom_toiletflush  \\\n",
       "duration                                                             \n",
       "2003-03-27 06:43:00                      0.0                   0.0   \n",
       "2003-03-27 06:44:00                      0.0                   1.0   \n",
       "2003-03-27 06:45:00                      0.0                   1.0   \n",
       "2003-03-27 06:46:00                      0.0                   1.0   \n",
       "2003-03-27 06:47:00                      0.0                   1.0   \n",
       "\n",
       "                     bedroom_drawer  ...  kitchen_microwave  kitchen_oven  \\\n",
       "duration                             ...                                    \n",
       "2003-03-27 06:43:00             0.0  ...                0.0           0.0   \n",
       "2003-03-27 06:44:00             0.0  ...                0.0           0.0   \n",
       "2003-03-27 06:45:00             0.0  ...                0.0           0.0   \n",
       "2003-03-27 06:46:00             1.0  ...                0.0           0.0   \n",
       "2003-03-27 06:47:00             0.0  ...                0.0           0.0   \n",
       "\n",
       "                     kitchen_refrigerator  kitchen_toaster  \\\n",
       "duration                                                     \n",
       "2003-03-27 06:43:00                   0.0              0.0   \n",
       "2003-03-27 06:44:00                   0.0              0.0   \n",
       "2003-03-27 06:45:00                   0.0              0.0   \n",
       "2003-03-27 06:46:00                   0.0              0.0   \n",
       "2003-03-27 06:47:00                   0.0              0.0   \n",
       "\n",
       "                     kitchen_washingmachine  livingroom_dvd  livingroom_lamp  \\\n",
       "duration                                                                       \n",
       "2003-03-27 06:43:00                     0.0             0.0              0.0   \n",
       "2003-03-27 06:44:00                     0.0             0.0              0.0   \n",
       "2003-03-27 06:45:00                     0.0             0.0              0.0   \n",
       "2003-03-27 06:46:00                     0.0             0.0              0.0   \n",
       "2003-03-27 06:47:00                     0.0             0.0              0.0   \n",
       "\n",
       "                     livingroom_lightswitch  office/study_drawer  \\\n",
       "duration                                                           \n",
       "2003-03-27 06:43:00                     0.0                  0.0   \n",
       "2003-03-27 06:44:00                     0.0                  0.0   \n",
       "2003-03-27 06:45:00                     0.0                  1.0   \n",
       "2003-03-27 06:46:00                     0.0                  0.0   \n",
       "2003-03-27 06:47:00                     0.0                  0.0   \n",
       "\n",
       "                     office/study_lightswitch  \n",
       "duration                                       \n",
       "2003-03-27 06:43:00                       0.0  \n",
       "2003-03-27 06:44:00                       0.0  \n",
       "2003-03-27 06:45:00                       0.0  \n",
       "2003-03-27 06:46:00                       0.0  \n",
       "2003-03-27 06:47:00                       0.0  \n",
       "\n",
       "[5 rows x 38 columns]"
      ]
     },
     "execution_count": 14,
     "metadata": {},
     "output_type": "execute_result"
    }
   ],
   "source": [
    "ds.head(n=5)"
   ]
  },
  {
   "cell_type": "code",
   "execution_count": 15,
   "metadata": {},
   "outputs": [],
   "source": [
    "colList = []\n",
    "\n",
    "for i in ds.columns:\n",
    "    colList.append(i)"
   ]
  },
  {
   "cell_type": "code",
   "execution_count": 16,
   "metadata": {},
   "outputs": [
    {
     "data": {
      "text/plain": [
       "38"
      ]
     },
     "execution_count": 16,
     "metadata": {},
     "output_type": "execute_result"
    }
   ],
   "source": [
    "len(colList)"
   ]
  },
  {
   "cell_type": "code",
   "execution_count": 17,
   "metadata": {},
   "outputs": [
    {
     "data": {
      "text/plain": [
       "5.0"
      ]
     },
     "execution_count": 17,
     "metadata": {},
     "output_type": "execute_result"
    }
   ],
   "source": [
    "maxValues = ds.max()                                # Checking for max values in df\n",
    "maxValues.max()                                     # The maximum value of max values"
   ]
  },
  {
   "cell_type": "code",
   "execution_count": 18,
   "metadata": {},
   "outputs": [],
   "source": [
    "ds = ds.replace(to_replace =[2, 3, 4, 5], value = 1)"
   ]
  },
  {
   "cell_type": "code",
   "execution_count": 19,
   "metadata": {},
   "outputs": [
    {
     "data": {
      "text/plain": [
       "1.0"
      ]
     },
     "execution_count": 19,
     "metadata": {},
     "output_type": "execute_result"
    }
   ],
   "source": [
    "maxValues = ds.max()\n",
    "maxValues.max()"
   ]
  },
  {
   "cell_type": "code",
   "execution_count": 21,
   "metadata": {},
   "outputs": [],
   "source": [
    "ds.to_csv('S1SubAct_B_m_NoDupes.csv',index='duration')"
   ]
  }
 ],
 "metadata": {
  "kernelspec": {
   "display_name": "Python 3",
   "language": "python",
   "name": "python3"
  },
  "language_info": {
   "codemirror_mode": {
    "name": "ipython",
    "version": 3
   },
   "file_extension": ".py",
   "mimetype": "text/x-python",
   "name": "python",
   "nbconvert_exporter": "python",
   "pygments_lexer": "ipython3",
   "version": "3.7.4"
  }
 },
 "nbformat": 4,
 "nbformat_minor": 4
}
