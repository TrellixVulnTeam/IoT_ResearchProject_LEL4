{
 "cells": [
  {
   "cell_type": "code",
   "execution_count": null,
   "metadata": {},
   "outputs": [],
   "source": [
    "import pandas as pd\n",
    "import numpy as np\n",
    "import time\n",
    "from datetime import datetime\n",
    "import altair as alt\n",
    "import pandas as pd\n",
    "import json\n",
    "import itertools as it"
   ]
  },
  {
   "cell_type": "code",
   "execution_count": null,
   "metadata": {},
   "outputs": [],
   "source": [
    "ds = pd.read_csv('S1SubActivities_preprocessed.csv', index_col = None)\n",
    "ds.start = pd.to_datetime(ds.start, format='%Y-%m-%d %H:%M:%S')\n",
    "ds.end = pd.to_datetime(ds.end, format='%Y-%m-%d %H:%M:%S')\n",
    "ds = ds.sort_values('start')\n",
    "ds.reset_index(drop = True, inplace = True)"
   ]
  },
  {
   "cell_type": "code",
   "execution_count": null,
   "metadata": {},
   "outputs": [],
   "source": [
    "ds = ds[:100]\n",
    "ds.head(5)"
   ]
  },
  {
   "cell_type": "markdown",
   "metadata": {},
   "source": [
    "# Problem Statement\n",
    "\n",
    "**If start EVENTA between X and Y on a WD/WE the PR that I will start EVENTB within Z minutes is Q.**\n",
    "\n",
    ">_If I switch on the bathroom light switch between 6am and 7am on a weekday, the probability that I will use my razor is X._"
   ]
  },
  {
   "cell_type": "markdown",
   "metadata": {},
   "source": [
    "## Relationships\n",
    "\n",
    "### Intersection\n",
    "<pre>\n",
    "|----EventA----|  <br>\n",
    "            |---EventB---|   \n",
    "</pre>\n",
    "\n",
    "### Separate\n",
    "<pre>\n",
    "|----EventA----|  <br>\n",
    "                    |---EventB---|   \n",
    "</pre>\n",
    "\n",
    "### Enclosed\n",
    "<pre>\n",
    "|----------EventA----------|  <br>\n",
    "           |---EventB---|   \n",
    "</pre>\n",
    "\n",
    "### Equal\n",
    "<pre>\n",
    "       |---EventA---|  <br>\n",
    "       |---EventB---|   \n",
    "</pre>\n",
    "\n",
    "### More?"
   ]
  },
  {
   "cell_type": "markdown",
   "metadata": {},
   "source": [
    "---\n",
    "## Pr(EventA delta eventB)\n",
    "\n",
    "### Delta Negative\n",
    "<pre>\n",
    "|----EventA----|  <br>\n",
    "                -Gap- <br>\n",
    "                     |---EventB---|   \n",
    "</pre>\n",
    "\n",
    "### Delta Positive\n",
    "<pre>\n",
    "|------EventA------|  <br>\n",
    "            -Union-   <br>\n",
    "            |---EventB---|   \n",
    "</pre>\n",
    "\n",
    "### Delta Zero\n",
    "<pre>\n",
    "|--EventA--|  <br>\n",
    "\n",
    "           |------EventB------|   \n",
    "</pre>\n",
    "\n",
    "### Equal Start\n",
    "<pre>\n",
    "|--EventA--|  <br>\n",
    "\n",
    "|------EventB------|   \n",
    "</pre>\n",
    "\n",
    "**Input A:** S1SubActivities_preprocessed.csv\n",
    "\n",
    "| Event    | EventStart | EventEnd   |        \n",
    "|:--------:|:--------:  | :--------: |        \n",
    "| 100      | dateTime   | dateTime   |        \n",
    "| 101      | dateTime   | dateTime   |        \n",
    "| 104      | dateTime   | dateTime   |  \n",
    "| 105      | dateTime   | dateTime   |  \n",
    "\n",
    "**Input B:** dsCombin2n\n",
    "\n",
    "| EventA   | EventB  | \n",
    "|:--------:|:-------:| \n",
    "| 100      | 101     | \n",
    "| 100      | 104     | \n",
    "| 100      | 105     | \n",
    "| 100      | 106     | \n",
    "\n",
    "**Function:** def id_delta(InputA, InputB)  <br>\n",
    "**Output:**\n",
    "\n",
    "| EventA   | EventB   |  Ev.A Start | Ev.A End | Ev.B Start | Ev.B End | Delta    | Descriptor |\n",
    "|:--------:|:--------:| :--------:  | :------: |:--------:  | :------: | :------: | :------:   |\n",
    "| 100      | 101      |  dateTime   | dateTime | dateTime   | dateTime | -4       | Gap        |\n",
    "| 100      | 104      |  dateTime   | dateTime | dateTime   | dateTime | 92       | Union      |\n",
    "| 100      | 105      |  dateTime   | dateTime | dateTime   | dateTime | 0        | Zero       | \n",
    "| 100      | 106      |  dateTime   | dateTime | dateTime   | dateTime | ???      | EqualStart | \n",
    "\n",
    "**Function:** def add_temporalFeatures(): <br>\n",
    "**Output:**\n",
    "\n",
    "| EventA| EventB| Ev.A Start| Ev.A End| Ev.B Start|Ev.B End|Delta   | Descriptor | WendWday|Hour  |TimeofDay|\n",
    "|:-----:|:-----:|:--------: | :------:|:--------: |:------:|:------:| :------:   | :------:|:----:|:------: |\n",
    "| 100   | 101   | dateTime  | dateTime| dateTime  |dateTime|-4      | Gap        | weekday | 6:00 |6Till8   |\n",
    "| 100   | 104   | dateTime  | dateTime| dateTime  |dateTime|92      | Union      | weekend |12:00 |12Till14 |\n",
    "| 100   | 105   | dateTime  | dateTime| dateTime  |dateTime|0       | Zero       | weekday |15:00 |15Till17 |\n",
    "| 100   | 106   | dateTime  | dateTime| dateTime  |dateTime|???     | EqualStart | weekday |15:00 |15Till17 |\n",
    "\n",
    "### def id_delta(InputA, InputB)\n",
    "\n",
    "* WHERE event A is followed/ union/ gap (first )  by event B\n",
    "* IF (event A end < event B start)\n",
    "* SUM (event B start - event A end) = delta\n",
    "* Add delta attribute to df\n",
    "* RETURN df\n",
    "\n",
    "---\n",
    "\n",
    "1. Equal Start\n",
    "2. Delta positive (the highest)\n",
    "3. Delta Zero (the first)\n",
    "4. Delta Negative (closest to zero)\n",
    "\n",
    "\n",
    "And nearest 5 "
   ]
  },
  {
   "cell_type": "code",
   "execution_count": null,
   "metadata": {},
   "outputs": [],
   "source": [
    "import datetime as dt\n",
    "\n",
    "def id_delta(events, n=1, delta_threshold=dt.timedelta(-99)):\n",
    "    nns = []\n",
    "    for row in events.itertuples():\n",
    "        #print(row)\n",
    "        start_time = getattr(row, 'start')\n",
    "        end_time = getattr(row, 'end')\n",
    "        subActNum = getattr(row, 'subActNum')\n",
    "        row_index = getattr(row, 'Index')\n",
    "        \n",
    "        nn = events[(events.start >= start_time) & \n",
    "                    (events.index != row_index) & \n",
    "                    ((start_time - events.start) > delta_threshold)][:n]\n",
    "        #print(len(nn))\n",
    "        ordered = pd.DataFrame()\n",
    "        ordered['Dummy'] = nn['subActNum']\n",
    "        ordered['EventA'] = subActNum\n",
    "        ordered['EventB'] = nn['subActNum']\n",
    "        ordered['EvA_Start'] = start_time\n",
    "        ordered['EvB_Start'] = nn['start']\n",
    "        ordered['EvA_End'] = end_time\n",
    "        ordered['EvB_End'] = nn['end']\n",
    "        del ordered['Dummy']\n",
    "        nns.append(ordered)\n",
    "  \n",
    "    #print(nns)\n",
    "    result = pd.concat(nns)\n",
    "\n",
    "    result['Delta'] = np.where(result['EvA_Start']==result['EvB_Start'], \n",
    "                               None, \n",
    "                               (result['EvA_End'] - result['EvB_Start']) / 1000000000)\n",
    "    return result"
   ]
  },
  {
   "cell_type": "code",
   "execution_count": null,
   "metadata": {},
   "outputs": [],
   "source": [
    "id_delta(ds, 1, dt.timedelta(0,-25))"
   ]
  },
  {
   "cell_type": "code",
   "execution_count": null,
   "metadata": {},
   "outputs": [],
   "source": [
    "ds_12n_900s = id_delta(ds, 12, dt.timedelta(0,-900))"
   ]
  },
  {
   "cell_type": "code",
   "execution_count": null,
   "metadata": {},
   "outputs": [],
   "source": [
    "ds_1n_10s = id_delta(ds, 5, dt.timedelta(0,-200))"
   ]
  },
  {
   "cell_type": "code",
   "execution_count": 5,
   "metadata": {},
   "outputs": [],
   "source": [
    "import numpy as np\n",
    "import matplotlib.pyplot as plt\n",
    "import pandas as pd\n",
    "import matplotlib.sankey as sankey"
   ]
  },
  {
   "cell_type": "code",
   "execution_count": 4,
   "metadata": {},
   "outputs": [
    {
     "ename": "ModuleNotFoundError",
     "evalue": "No module named 'plotly.graph_objects'",
     "output_type": "error",
     "traceback": [
      "\u001b[0;31m---------------------------------------------------------------------------\u001b[0m",
      "\u001b[0;31mModuleNotFoundError\u001b[0m                       Traceback (most recent call last)",
      "\u001b[0;32m<ipython-input-4-0b951e3e9b71>\u001b[0m in \u001b[0;36m<module>\u001b[0;34m()\u001b[0m\n\u001b[0;32m----> 1\u001b[0;31m \u001b[0;32mimport\u001b[0m \u001b[0mplotly\u001b[0m\u001b[0;34m.\u001b[0m\u001b[0mgraph_objects\u001b[0m \u001b[0;32mas\u001b[0m \u001b[0mgo\u001b[0m\u001b[0;34m\u001b[0m\u001b[0;34m\u001b[0m\u001b[0m\n\u001b[0m",
      "\u001b[0;31mModuleNotFoundError\u001b[0m: No module named 'plotly.graph_objects'"
     ]
    }
   ],
   "source": [
    "import plotly.graph_objects as go"
   ]
  },
  {
   "cell_type": "markdown",
   "metadata": {},
   "source": [
    "I'm using a Mac OS Mojave\n",
    "\n",
    "These 4 steps worked for me.\n",
    "\n",
    "conda update conda\n",
    "conda install python==3.6\n",
    "conda install anaconda-client\n",
    "conda update anaconda"
   ]
  },
  {
   "cell_type": "code",
   "execution_count": 2,
   "metadata": {},
   "outputs": [
    {
     "ename": "ModuleNotFoundError",
     "evalue": "No module named 'jupyter_nbextensions_configurator'",
     "output_type": "error",
     "traceback": [
      "\u001b[0;31m---------------------------------------------------------------------------\u001b[0m",
      "\u001b[0;31mModuleNotFoundError\u001b[0m                       Traceback (most recent call last)",
      "\u001b[0;32m<ipython-input-2-ca94155441f0>\u001b[0m in \u001b[0;36m<module>\u001b[0;34m()\u001b[0m\n\u001b[1;32m      1\u001b[0m \u001b[0;32mimport\u001b[0m \u001b[0mos\u001b[0m\u001b[0;34m\u001b[0m\u001b[0;34m\u001b[0m\u001b[0m\n\u001b[0;32m----> 2\u001b[0;31m \u001b[0;32mfrom\u001b[0m \u001b[0mjupyter_nbextensions_configurator\u001b[0m \u001b[0;32mimport\u001b[0m \u001b[0m__file__\u001b[0m\u001b[0;34m\u001b[0m\u001b[0;34m\u001b[0m\u001b[0m\n\u001b[0m\u001b[1;32m      3\u001b[0m \u001b[0mprint\u001b[0m\u001b[0;34m(\u001b[0m\u001b[0mos\u001b[0m\u001b[0;34m.\u001b[0m\u001b[0mpath\u001b[0m\u001b[0;34m.\u001b[0m\u001b[0mrealpath\u001b[0m\u001b[0;34m(\u001b[0m\u001b[0m__file__\u001b[0m\u001b[0;34m)\u001b[0m\u001b[0;34m)\u001b[0m\u001b[0;34m\u001b[0m\u001b[0;34m\u001b[0m\u001b[0m\n",
      "\u001b[0;31mModuleNotFoundError\u001b[0m: No module named 'jupyter_nbextensions_configurator'"
     ]
    }
   ],
   "source": [
    "import os\n",
    "from jupyter_nbextensions_configurator import __file__\n",
    "print(os.path.realpath(__file__))"
   ]
  },
  {
   "cell_type": "code",
   "execution_count": null,
   "metadata": {},
   "outputs": [],
   "source": []
  },
  {
   "cell_type": "code",
   "execution_count": null,
   "metadata": {},
   "outputs": [],
   "source": []
  },
  {
   "cell_type": "markdown",
   "metadata": {},
   "source": [
    "* 24till2\n",
    "* 3till5\n",
    "* 6till8\n",
    "* 9till11\n",
    "* 12till14\n",
    "* 15till17\n",
    "* 18till20\n",
    "* 21till23"
   ]
  }
 ],
 "metadata": {
  "kernelspec": {
   "display_name": "Python 3",
   "language": "python",
   "name": "python3"
  },
  "language_info": {
   "codemirror_mode": {
    "name": "ipython",
    "version": 3
   },
   "file_extension": ".py",
   "mimetype": "text/x-python",
   "name": "python",
   "nbconvert_exporter": "python",
   "pygments_lexer": "ipython3",
   "version": "3.6.7"
  }
 },
 "nbformat": 4,
 "nbformat_minor": 4
}
