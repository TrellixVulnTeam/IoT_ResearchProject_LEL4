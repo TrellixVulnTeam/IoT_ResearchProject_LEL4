{
 "cells": [
  {
   "cell_type": "code",
   "execution_count": 2,
   "metadata": {},
   "outputs": [],
   "source": [
    "import pandas as pd\n",
    "import numpy as np\n",
    "import os\n",
    "#import altair as alt\n",
    "from IPython.display import Image\n",
    "import nbconvert\n",
    "import time\n",
    "from datetime import datetime"
   ]
  },
  {
   "cell_type": "markdown",
   "metadata": {},
   "source": [
    "## Importing Activities Data"
   ]
  },
  {
   "cell_type": "code",
   "execution_count": 2,
   "metadata": {},
   "outputs": [],
   "source": [
    "# Importing the dataset\n",
    "dsActivities = pd.read_csv('S1Activities.csv', index_col = None)"
   ]
  },
  {
   "cell_type": "code",
   "execution_count": 3,
   "metadata": {},
   "outputs": [
    {
     "data": {
      "text/html": [
       "<div>\n",
       "<style scoped>\n",
       "    .dataframe tbody tr th:only-of-type {\n",
       "        vertical-align: middle;\n",
       "    }\n",
       "\n",
       "    .dataframe tbody tr th {\n",
       "        vertical-align: top;\n",
       "    }\n",
       "\n",
       "    .dataframe thead th {\n",
       "        text-align: right;\n",
       "    }\n",
       "</style>\n",
       "<table border=\"1\" class=\"dataframe\">\n",
       "  <thead>\n",
       "    <tr style=\"text-align: right;\">\n",
       "      <th></th>\n",
       "      <th>Heading</th>\n",
       "      <th>Category</th>\n",
       "      <th>Subcategory</th>\n",
       "      <th>Code</th>\n",
       "    </tr>\n",
       "  </thead>\n",
       "  <tbody>\n",
       "    <tr>\n",
       "      <th>0</th>\n",
       "      <td>Employment related</td>\n",
       "      <td>Employment work at home</td>\n",
       "      <td>Work at home</td>\n",
       "      <td>1</td>\n",
       "    </tr>\n",
       "    <tr>\n",
       "      <th>1</th>\n",
       "      <td>Employment related</td>\n",
       "      <td>Travel employment</td>\n",
       "      <td>Going out to work</td>\n",
       "      <td>5</td>\n",
       "    </tr>\n",
       "    <tr>\n",
       "      <th>2</th>\n",
       "      <td>Personal needs</td>\n",
       "      <td>Eating</td>\n",
       "      <td>Eating</td>\n",
       "      <td>10</td>\n",
       "    </tr>\n",
       "    <tr>\n",
       "      <th>3</th>\n",
       "      <td>Personal needs</td>\n",
       "      <td>Personal hygiene</td>\n",
       "      <td>Toileting</td>\n",
       "      <td>15</td>\n",
       "    </tr>\n",
       "    <tr>\n",
       "      <th>4</th>\n",
       "      <td>Personal needs</td>\n",
       "      <td>Personal hygiene</td>\n",
       "      <td>Bathing</td>\n",
       "      <td>20</td>\n",
       "    </tr>\n",
       "    <tr>\n",
       "      <th>5</th>\n",
       "      <td>Personal needs</td>\n",
       "      <td>Personal hygiene</td>\n",
       "      <td>Grooming</td>\n",
       "      <td>25</td>\n",
       "    </tr>\n",
       "    <tr>\n",
       "      <th>6</th>\n",
       "      <td>Personal needs</td>\n",
       "      <td>Personal hygiene</td>\n",
       "      <td>Dressing</td>\n",
       "      <td>30</td>\n",
       "    </tr>\n",
       "    <tr>\n",
       "      <th>7</th>\n",
       "      <td>Personal needs</td>\n",
       "      <td>Personal hygiene</td>\n",
       "      <td>Washing hands</td>\n",
       "      <td>35</td>\n",
       "    </tr>\n",
       "    <tr>\n",
       "      <th>8</th>\n",
       "      <td>Personal needs</td>\n",
       "      <td>Personal medical</td>\n",
       "      <td>Taking medication</td>\n",
       "      <td>40</td>\n",
       "    </tr>\n",
       "    <tr>\n",
       "      <th>9</th>\n",
       "      <td>Personal needs</td>\n",
       "      <td>Sleeping</td>\n",
       "      <td>Sleeping</td>\n",
       "      <td>45</td>\n",
       "    </tr>\n",
       "  </tbody>\n",
       "</table>\n",
       "</div>"
      ],
      "text/plain": [
       "              Heading                 Category        Subcategory  Code\n",
       "0  Employment related  Employment work at home       Work at home     1\n",
       "1  Employment related        Travel employment  Going out to work     5\n",
       "2      Personal needs                   Eating             Eating    10\n",
       "3      Personal needs         Personal hygiene          Toileting    15\n",
       "4      Personal needs         Personal hygiene            Bathing    20\n",
       "5      Personal needs         Personal hygiene           Grooming    25\n",
       "6      Personal needs         Personal hygiene           Dressing    30\n",
       "7      Personal needs         Personal hygiene      Washing hands    35\n",
       "8      Personal needs         Personal medical  Taking medication    40\n",
       "9      Personal needs                 Sleeping           Sleeping    45"
      ]
     },
     "execution_count": 3,
     "metadata": {},
     "output_type": "execute_result"
    }
   ],
   "source": [
    "dsActivities.head(n=10)"
   ]
  },
  {
   "cell_type": "markdown",
   "metadata": {},
   "source": [
    "## Importing Sensor Data"
   ]
  },
  {
   "cell_type": "code",
   "execution_count": 4,
   "metadata": {},
   "outputs": [
    {
     "ename": "FileNotFoundError",
     "evalue": "[Errno 2] File b'S1sensors.csv' does not exist: b'S1sensors.csv'",
     "output_type": "error",
     "traceback": [
      "\u001b[0;31m---------------------------------------------------------------------------\u001b[0m",
      "\u001b[0;31mFileNotFoundError\u001b[0m                         Traceback (most recent call last)",
      "\u001b[0;32m<ipython-input-4-ae7117108199>\u001b[0m in \u001b[0;36m<module>\u001b[0;34m()\u001b[0m\n\u001b[1;32m      1\u001b[0m \u001b[0;31m# Importing the dataset\u001b[0m\u001b[0;34m\u001b[0m\u001b[0;34m\u001b[0m\u001b[0;34m\u001b[0m\u001b[0m\n\u001b[0;32m----> 2\u001b[0;31m \u001b[0mdsS1Sensors\u001b[0m \u001b[0;34m=\u001b[0m \u001b[0mpd\u001b[0m\u001b[0;34m.\u001b[0m\u001b[0mread_csv\u001b[0m\u001b[0;34m(\u001b[0m\u001b[0;34m'S1sensors.csv'\u001b[0m\u001b[0;34m,\u001b[0m \u001b[0mindex_col\u001b[0m \u001b[0;34m=\u001b[0m \u001b[0;32mNone\u001b[0m\u001b[0;34m)\u001b[0m\u001b[0;34m\u001b[0m\u001b[0;34m\u001b[0m\u001b[0m\n\u001b[0m",
      "\u001b[0;32m~/anaconda/envs/py36/lib/python3.6/site-packages/pandas/io/parsers.py\u001b[0m in \u001b[0;36mparser_f\u001b[0;34m(filepath_or_buffer, sep, delimiter, header, names, index_col, usecols, squeeze, prefix, mangle_dupe_cols, dtype, engine, converters, true_values, false_values, skipinitialspace, skiprows, skipfooter, nrows, na_values, keep_default_na, na_filter, verbose, skip_blank_lines, parse_dates, infer_datetime_format, keep_date_col, date_parser, dayfirst, iterator, chunksize, compression, thousands, decimal, lineterminator, quotechar, quoting, doublequote, escapechar, comment, encoding, dialect, tupleize_cols, error_bad_lines, warn_bad_lines, delim_whitespace, low_memory, memory_map, float_precision)\u001b[0m\n\u001b[1;32m    700\u001b[0m                     skip_blank_lines=skip_blank_lines)\n\u001b[1;32m    701\u001b[0m \u001b[0;34m\u001b[0m\u001b[0m\n\u001b[0;32m--> 702\u001b[0;31m         \u001b[0;32mreturn\u001b[0m \u001b[0m_read\u001b[0m\u001b[0;34m(\u001b[0m\u001b[0mfilepath_or_buffer\u001b[0m\u001b[0;34m,\u001b[0m \u001b[0mkwds\u001b[0m\u001b[0;34m)\u001b[0m\u001b[0;34m\u001b[0m\u001b[0;34m\u001b[0m\u001b[0m\n\u001b[0m\u001b[1;32m    703\u001b[0m \u001b[0;34m\u001b[0m\u001b[0m\n\u001b[1;32m    704\u001b[0m     \u001b[0mparser_f\u001b[0m\u001b[0;34m.\u001b[0m\u001b[0m__name__\u001b[0m \u001b[0;34m=\u001b[0m \u001b[0mname\u001b[0m\u001b[0;34m\u001b[0m\u001b[0;34m\u001b[0m\u001b[0m\n",
      "\u001b[0;32m~/anaconda/envs/py36/lib/python3.6/site-packages/pandas/io/parsers.py\u001b[0m in \u001b[0;36m_read\u001b[0;34m(filepath_or_buffer, kwds)\u001b[0m\n\u001b[1;32m    427\u001b[0m \u001b[0;34m\u001b[0m\u001b[0m\n\u001b[1;32m    428\u001b[0m     \u001b[0;31m# Create the parser.\u001b[0m\u001b[0;34m\u001b[0m\u001b[0;34m\u001b[0m\u001b[0;34m\u001b[0m\u001b[0m\n\u001b[0;32m--> 429\u001b[0;31m     \u001b[0mparser\u001b[0m \u001b[0;34m=\u001b[0m \u001b[0mTextFileReader\u001b[0m\u001b[0;34m(\u001b[0m\u001b[0mfilepath_or_buffer\u001b[0m\u001b[0;34m,\u001b[0m \u001b[0;34m**\u001b[0m\u001b[0mkwds\u001b[0m\u001b[0;34m)\u001b[0m\u001b[0;34m\u001b[0m\u001b[0;34m\u001b[0m\u001b[0m\n\u001b[0m\u001b[1;32m    430\u001b[0m \u001b[0;34m\u001b[0m\u001b[0m\n\u001b[1;32m    431\u001b[0m     \u001b[0;32mif\u001b[0m \u001b[0mchunksize\u001b[0m \u001b[0;32mor\u001b[0m \u001b[0miterator\u001b[0m\u001b[0;34m:\u001b[0m\u001b[0;34m\u001b[0m\u001b[0;34m\u001b[0m\u001b[0m\n",
      "\u001b[0;32m~/anaconda/envs/py36/lib/python3.6/site-packages/pandas/io/parsers.py\u001b[0m in \u001b[0;36m__init__\u001b[0;34m(self, f, engine, **kwds)\u001b[0m\n\u001b[1;32m    893\u001b[0m             \u001b[0mself\u001b[0m\u001b[0;34m.\u001b[0m\u001b[0moptions\u001b[0m\u001b[0;34m[\u001b[0m\u001b[0;34m'has_index_names'\u001b[0m\u001b[0;34m]\u001b[0m \u001b[0;34m=\u001b[0m \u001b[0mkwds\u001b[0m\u001b[0;34m[\u001b[0m\u001b[0;34m'has_index_names'\u001b[0m\u001b[0;34m]\u001b[0m\u001b[0;34m\u001b[0m\u001b[0;34m\u001b[0m\u001b[0m\n\u001b[1;32m    894\u001b[0m \u001b[0;34m\u001b[0m\u001b[0m\n\u001b[0;32m--> 895\u001b[0;31m         \u001b[0mself\u001b[0m\u001b[0;34m.\u001b[0m\u001b[0m_make_engine\u001b[0m\u001b[0;34m(\u001b[0m\u001b[0mself\u001b[0m\u001b[0;34m.\u001b[0m\u001b[0mengine\u001b[0m\u001b[0;34m)\u001b[0m\u001b[0;34m\u001b[0m\u001b[0;34m\u001b[0m\u001b[0m\n\u001b[0m\u001b[1;32m    896\u001b[0m \u001b[0;34m\u001b[0m\u001b[0m\n\u001b[1;32m    897\u001b[0m     \u001b[0;32mdef\u001b[0m \u001b[0mclose\u001b[0m\u001b[0;34m(\u001b[0m\u001b[0mself\u001b[0m\u001b[0;34m)\u001b[0m\u001b[0;34m:\u001b[0m\u001b[0;34m\u001b[0m\u001b[0;34m\u001b[0m\u001b[0m\n",
      "\u001b[0;32m~/anaconda/envs/py36/lib/python3.6/site-packages/pandas/io/parsers.py\u001b[0m in \u001b[0;36m_make_engine\u001b[0;34m(self, engine)\u001b[0m\n\u001b[1;32m   1120\u001b[0m     \u001b[0;32mdef\u001b[0m \u001b[0m_make_engine\u001b[0m\u001b[0;34m(\u001b[0m\u001b[0mself\u001b[0m\u001b[0;34m,\u001b[0m \u001b[0mengine\u001b[0m\u001b[0;34m=\u001b[0m\u001b[0;34m'c'\u001b[0m\u001b[0;34m)\u001b[0m\u001b[0;34m:\u001b[0m\u001b[0;34m\u001b[0m\u001b[0;34m\u001b[0m\u001b[0m\n\u001b[1;32m   1121\u001b[0m         \u001b[0;32mif\u001b[0m \u001b[0mengine\u001b[0m \u001b[0;34m==\u001b[0m \u001b[0;34m'c'\u001b[0m\u001b[0;34m:\u001b[0m\u001b[0;34m\u001b[0m\u001b[0;34m\u001b[0m\u001b[0m\n\u001b[0;32m-> 1122\u001b[0;31m             \u001b[0mself\u001b[0m\u001b[0;34m.\u001b[0m\u001b[0m_engine\u001b[0m \u001b[0;34m=\u001b[0m \u001b[0mCParserWrapper\u001b[0m\u001b[0;34m(\u001b[0m\u001b[0mself\u001b[0m\u001b[0;34m.\u001b[0m\u001b[0mf\u001b[0m\u001b[0;34m,\u001b[0m \u001b[0;34m**\u001b[0m\u001b[0mself\u001b[0m\u001b[0;34m.\u001b[0m\u001b[0moptions\u001b[0m\u001b[0;34m)\u001b[0m\u001b[0;34m\u001b[0m\u001b[0;34m\u001b[0m\u001b[0m\n\u001b[0m\u001b[1;32m   1123\u001b[0m         \u001b[0;32melse\u001b[0m\u001b[0;34m:\u001b[0m\u001b[0;34m\u001b[0m\u001b[0;34m\u001b[0m\u001b[0m\n\u001b[1;32m   1124\u001b[0m             \u001b[0;32mif\u001b[0m \u001b[0mengine\u001b[0m \u001b[0;34m==\u001b[0m \u001b[0;34m'python'\u001b[0m\u001b[0;34m:\u001b[0m\u001b[0;34m\u001b[0m\u001b[0;34m\u001b[0m\u001b[0m\n",
      "\u001b[0;32m~/anaconda/envs/py36/lib/python3.6/site-packages/pandas/io/parsers.py\u001b[0m in \u001b[0;36m__init__\u001b[0;34m(self, src, **kwds)\u001b[0m\n\u001b[1;32m   1851\u001b[0m         \u001b[0mkwds\u001b[0m\u001b[0;34m[\u001b[0m\u001b[0;34m'usecols'\u001b[0m\u001b[0;34m]\u001b[0m \u001b[0;34m=\u001b[0m \u001b[0mself\u001b[0m\u001b[0;34m.\u001b[0m\u001b[0musecols\u001b[0m\u001b[0;34m\u001b[0m\u001b[0;34m\u001b[0m\u001b[0m\n\u001b[1;32m   1852\u001b[0m \u001b[0;34m\u001b[0m\u001b[0m\n\u001b[0;32m-> 1853\u001b[0;31m         \u001b[0mself\u001b[0m\u001b[0;34m.\u001b[0m\u001b[0m_reader\u001b[0m \u001b[0;34m=\u001b[0m \u001b[0mparsers\u001b[0m\u001b[0;34m.\u001b[0m\u001b[0mTextReader\u001b[0m\u001b[0;34m(\u001b[0m\u001b[0msrc\u001b[0m\u001b[0;34m,\u001b[0m \u001b[0;34m**\u001b[0m\u001b[0mkwds\u001b[0m\u001b[0;34m)\u001b[0m\u001b[0;34m\u001b[0m\u001b[0;34m\u001b[0m\u001b[0m\n\u001b[0m\u001b[1;32m   1854\u001b[0m         \u001b[0mself\u001b[0m\u001b[0;34m.\u001b[0m\u001b[0munnamed_cols\u001b[0m \u001b[0;34m=\u001b[0m \u001b[0mself\u001b[0m\u001b[0;34m.\u001b[0m\u001b[0m_reader\u001b[0m\u001b[0;34m.\u001b[0m\u001b[0munnamed_cols\u001b[0m\u001b[0;34m\u001b[0m\u001b[0;34m\u001b[0m\u001b[0m\n\u001b[1;32m   1855\u001b[0m \u001b[0;34m\u001b[0m\u001b[0m\n",
      "\u001b[0;32mpandas/_libs/parsers.pyx\u001b[0m in \u001b[0;36mpandas._libs.parsers.TextReader.__cinit__\u001b[0;34m()\u001b[0m\n",
      "\u001b[0;32mpandas/_libs/parsers.pyx\u001b[0m in \u001b[0;36mpandas._libs.parsers.TextReader._setup_parser_source\u001b[0;34m()\u001b[0m\n",
      "\u001b[0;31mFileNotFoundError\u001b[0m: [Errno 2] File b'S1sensors.csv' does not exist: b'S1sensors.csv'"
     ]
    }
   ],
   "source": [
    "# Importing the dataset\n",
    "dsS1Sensors = pd.read_csv('S1sensors.csv', index_col = None)"
   ]
  },
  {
   "cell_type": "code",
   "execution_count": 5,
   "metadata": {},
   "outputs": [
    {
     "data": {
      "text/html": [
       "<div>\n",
       "<style scoped>\n",
       "    .dataframe tbody tr th:only-of-type {\n",
       "        vertical-align: middle;\n",
       "    }\n",
       "\n",
       "    .dataframe tbody tr th {\n",
       "        vertical-align: top;\n",
       "    }\n",
       "\n",
       "    .dataframe thead th {\n",
       "        text-align: right;\n",
       "    }\n",
       "</style>\n",
       "<table border=\"1\" class=\"dataframe\">\n",
       "  <thead>\n",
       "    <tr style=\"text-align: right;\">\n",
       "      <th></th>\n",
       "      <th>100</th>\n",
       "      <th>Bathroom</th>\n",
       "      <th>Toilet Flush</th>\n",
       "    </tr>\n",
       "  </thead>\n",
       "  <tbody>\n",
       "    <tr>\n",
       "      <th>0</th>\n",
       "      <td>101</td>\n",
       "      <td>Bathroom</td>\n",
       "      <td>Light switch</td>\n",
       "    </tr>\n",
       "    <tr>\n",
       "      <th>1</th>\n",
       "      <td>104</td>\n",
       "      <td>Foyer</td>\n",
       "      <td>Light switch</td>\n",
       "    </tr>\n",
       "    <tr>\n",
       "      <th>2</th>\n",
       "      <td>105</td>\n",
       "      <td>Kitchen</td>\n",
       "      <td>Light switch</td>\n",
       "    </tr>\n",
       "    <tr>\n",
       "      <th>3</th>\n",
       "      <td>106</td>\n",
       "      <td>Kitchen</td>\n",
       "      <td>Burner</td>\n",
       "    </tr>\n",
       "    <tr>\n",
       "      <th>4</th>\n",
       "      <td>107</td>\n",
       "      <td>Living room</td>\n",
       "      <td>Light switch</td>\n",
       "    </tr>\n",
       "    <tr>\n",
       "      <th>5</th>\n",
       "      <td>108</td>\n",
       "      <td>Bedroom</td>\n",
       "      <td>Light switch</td>\n",
       "    </tr>\n",
       "    <tr>\n",
       "      <th>6</th>\n",
       "      <td>109</td>\n",
       "      <td>Porch</td>\n",
       "      <td>Light switch</td>\n",
       "    </tr>\n",
       "    <tr>\n",
       "      <th>7</th>\n",
       "      <td>118</td>\n",
       "      <td>Kitchen</td>\n",
       "      <td>Burner</td>\n",
       "    </tr>\n",
       "    <tr>\n",
       "      <th>8</th>\n",
       "      <td>119</td>\n",
       "      <td>Kitchen</td>\n",
       "      <td>Coffee machine</td>\n",
       "    </tr>\n",
       "    <tr>\n",
       "      <th>9</th>\n",
       "      <td>120</td>\n",
       "      <td>Kitchen</td>\n",
       "      <td>Light switch</td>\n",
       "    </tr>\n",
       "  </tbody>\n",
       "</table>\n",
       "</div>"
      ],
      "text/plain": [
       "   100     Bathroom   Toilet Flush \n",
       "0  101     Bathroom    Light switch\n",
       "1  104        Foyer    Light switch\n",
       "2  105      Kitchen    Light switch\n",
       "3  106      Kitchen          Burner\n",
       "4  107  Living room    Light switch\n",
       "5  108      Bedroom    Light switch\n",
       "6  109        Porch    Light switch\n",
       "7  118      Kitchen          Burner\n",
       "8  119      Kitchen  Coffee machine\n",
       "9  120      Kitchen    Light switch"
      ]
     },
     "execution_count": 5,
     "metadata": {},
     "output_type": "execute_result"
    }
   ],
   "source": [
    "dsS1Sensors.head(n=10)"
   ]
  },
  {
   "cell_type": "code",
   "execution_count": null,
   "metadata": {},
   "outputs": [],
   "source": []
  },
  {
   "cell_type": "code",
   "execution_count": 6,
   "metadata": {},
   "outputs": [
    {
     "name": "stderr",
     "output_type": "stream",
     "text": [
      "C:\\Users\\alistair.grevisjames\\AppData\\Local\\Continuum\\anaconda3\\lib\\site-packages\\ipykernel_launcher.py:1: ParserWarning: Falling back to the 'python' engine because the 'c' engine does not support regex separators (separators > 1 char and different from '\\s+' are interpreted as regex); you can avoid this warning by specifying engine='python'.\n",
      "  \"\"\"Entry point for launching an IPython kernel.\n"
     ]
    }
   ],
   "source": [
    "dsS1 = pd.read_csv('S1activities_data.csv', sep='delimiter', header=None)"
   ]
  },
  {
   "cell_type": "code",
   "execution_count": 7,
   "metadata": {},
   "outputs": [
    {
     "data": {
      "text/html": [
       "<div>\n",
       "<style scoped>\n",
       "    .dataframe tbody tr th:only-of-type {\n",
       "        vertical-align: middle;\n",
       "    }\n",
       "\n",
       "    .dataframe tbody tr th {\n",
       "        vertical-align: top;\n",
       "    }\n",
       "\n",
       "    .dataframe thead th {\n",
       "        text-align: right;\n",
       "    }\n",
       "</style>\n",
       "<table border=\"1\" class=\"dataframe\">\n",
       "  <thead>\n",
       "    <tr style=\"text-align: right;\">\n",
       "      <th></th>\n",
       "      <th>0</th>\n",
       "    </tr>\n",
       "  </thead>\n",
       "  <tbody>\n",
       "    <tr>\n",
       "      <th>0</th>\n",
       "      <td>Bathing,4/1/2003,20:41:35,21:32:50</td>\n",
       "    </tr>\n",
       "    <tr>\n",
       "      <th>1</th>\n",
       "      <td>100,68,81,101,93,137,93,58,57,67,93,58,68,88,5...</td>\n",
       "    </tr>\n",
       "    <tr>\n",
       "      <th>2</th>\n",
       "      <td>Toilet Flush,Sink faucet - hot,Closet,Light sw...</td>\n",
       "    </tr>\n",
       "    <tr>\n",
       "      <th>3</th>\n",
       "      <td>20:51:52,20:51:58,20:53:36,20:53:49,20:53:52,2...</td>\n",
       "    </tr>\n",
       "    <tr>\n",
       "      <th>4</th>\n",
       "      <td>21:5:20,20:52:5,20:53:43,21:21:43,20:58:42,20:...</td>\n",
       "    </tr>\n",
       "    <tr>\n",
       "      <th>5</th>\n",
       "      <td>Toileting,4/1/2003,17:30:36,17:46:41</td>\n",
       "    </tr>\n",
       "    <tr>\n",
       "      <th>6</th>\n",
       "      <td>100,68</td>\n",
       "    </tr>\n",
       "    <tr>\n",
       "      <th>7</th>\n",
       "      <td>Toilet Flush,Sink faucet - hot</td>\n",
       "    </tr>\n",
       "    <tr>\n",
       "      <th>8</th>\n",
       "      <td>17:39:37,17:39:46</td>\n",
       "    </tr>\n",
       "    <tr>\n",
       "      <th>9</th>\n",
       "      <td>18:10:57,17:39:52</td>\n",
       "    </tr>\n",
       "  </tbody>\n",
       "</table>\n",
       "</div>"
      ],
      "text/plain": [
       "                                                   0\n",
       "0                 Bathing,4/1/2003,20:41:35,21:32:50\n",
       "1  100,68,81,101,93,137,93,58,57,67,93,58,68,88,5...\n",
       "2  Toilet Flush,Sink faucet - hot,Closet,Light sw...\n",
       "3  20:51:52,20:51:58,20:53:36,20:53:49,20:53:52,2...\n",
       "4  21:5:20,20:52:5,20:53:43,21:21:43,20:58:42,20:...\n",
       "5               Toileting,4/1/2003,17:30:36,17:46:41\n",
       "6                                             100,68\n",
       "7                     Toilet Flush,Sink faucet - hot\n",
       "8                                  17:39:37,17:39:46\n",
       "9                                  18:10:57,17:39:52"
      ]
     },
     "execution_count": 7,
     "metadata": {},
     "output_type": "execute_result"
    }
   ],
   "source": [
    "dsS1.head(n=10)"
   ]
  },
  {
   "cell_type": "code",
   "execution_count": 8,
   "metadata": {},
   "outputs": [
    {
     "data": {
      "text/plain": [
       "array([['Bathing,4/1/2003,20:41:35,21:32:50'],\n",
       "       ['100,68,81,101,93,137,93,58,57,67,93,58,68,88,57,67,100,68,67,76'],\n",
       "       ['Toilet Flush,Sink faucet - hot,Closet,Light switch,Shower faucet,Freezer,Shower faucet,Medicine cabinet,Medicine cabinet,Cabinet,Shower faucet,Medicine cabinet,Sink faucet - hot,Sink faucet - cold,Medicine cabinet,Cabinet,Toilet Flush,Sink faucet - hot,Cabinet,Lamp'],\n",
       "       ...,\n",
       "       ['Drawer,Exhaust Fan,Drawer,Medicine cabinet,Light switch,Medicine cabinet,Sink faucet - hot,Medicine cabinet,Sink faucet - cold'],\n",
       "       ['9:28:50,9:29:27,9:30:55,9:32:6,9:32:7,9:34:4,9:34:8,9:34:19,9:34:45'],\n",
       "       ['12:14:14,9:32:14,9:31:9,9:34:3,9:32:13,9:35:9,9:34:46,12:18:25,9:35:5']],\n",
       "      dtype=object)"
      ]
     },
     "execution_count": 8,
     "metadata": {},
     "output_type": "execute_result"
    }
   ],
   "source": [
    "a = np.array(dsS1)\n",
    "a"
   ]
  },
  {
   "cell_type": "code",
   "execution_count": 9,
   "metadata": {},
   "outputs": [],
   "source": [
    "a = a.flatten()"
   ]
  },
  {
   "cell_type": "code",
   "execution_count": 10,
   "metadata": {},
   "outputs": [
    {
     "data": {
      "text/plain": [
       "'Bathing,4/1/2003,20:41:35,21:32:50'"
      ]
     },
     "execution_count": 10,
     "metadata": {},
     "output_type": "execute_result"
    }
   ],
   "source": [
    "a[0]"
   ]
  },
  {
   "cell_type": "code",
   "execution_count": 11,
   "metadata": {},
   "outputs": [
    {
     "data": {
      "text/plain": [
       "'B'"
      ]
     },
     "execution_count": 11,
     "metadata": {},
     "output_type": "execute_result"
    }
   ],
   "source": [
    "a[0][0]"
   ]
  },
  {
   "cell_type": "code",
   "execution_count": 12,
   "metadata": {},
   "outputs": [],
   "source": [
    "from more_itertools import chunked\n",
    "a = list(chunked(a, 5))"
   ]
  },
  {
   "cell_type": "code",
   "execution_count": 13,
   "metadata": {},
   "outputs": [
    {
     "data": {
      "text/plain": [
       "['Bathing,4/1/2003,20:41:35,21:32:50',\n",
       " '100,68,81,101,93,137,93,58,57,67,93,58,68,88,57,67,100,68,67,76',\n",
       " 'Toilet Flush,Sink faucet - hot,Closet,Light switch,Shower faucet,Freezer,Shower faucet,Medicine cabinet,Medicine cabinet,Cabinet,Shower faucet,Medicine cabinet,Sink faucet - hot,Sink faucet - cold,Medicine cabinet,Cabinet,Toilet Flush,Sink faucet - hot,Cabinet,Lamp',\n",
       " '20:51:52,20:51:58,20:53:36,20:53:49,20:53:52,20:58:22,20:58:43,21:5:23,21:5:46,21:5:47,21:18:34,21:18:55,21:19:41,21:20:4,21:20:38,21:20:39,21:21:13,21:21:16,21:21:37,21:22:8',\n",
       " '21:5:20,20:52:5,20:53:43,21:21:43,20:58:42,20:58:32,21:6:9,21:5:45,21:18:55,21:5:49,21:18:35,21:20:37,21:20:5,21:20:34,21:21:41,21:20:42,23:10:23,21:21:23,21:21:38,23:11:8']"
      ]
     },
     "execution_count": 13,
     "metadata": {},
     "output_type": "execute_result"
    }
   ],
   "source": [
    "a[0]"
   ]
  },
  {
   "cell_type": "code",
   "execution_count": 14,
   "metadata": {},
   "outputs": [
    {
     "data": {
      "text/plain": [
       "'Bathing,4/1/2003,20:41:35,21:32:50'"
      ]
     },
     "execution_count": 14,
     "metadata": {},
     "output_type": "execute_result"
    }
   ],
   "source": [
    "a[0][0]"
   ]
  },
  {
   "cell_type": "code",
   "execution_count": 15,
   "metadata": {},
   "outputs": [],
   "source": [
    "## Lenght\n",
    "dimLength = []\n",
    "i = 0\n",
    "while i < len(a):\n",
    "    dimLength.append(len(a[i]))\n",
    "    i = i + 1"
   ]
  },
  {
   "cell_type": "code",
   "execution_count": 16,
   "metadata": {},
   "outputs": [
    {
     "data": {
      "text/plain": [
       "295"
      ]
     },
     "execution_count": 16,
     "metadata": {},
     "output_type": "execute_result"
    }
   ],
   "source": [
    "len(dimLength)"
   ]
  },
  {
   "cell_type": "code",
   "execution_count": null,
   "metadata": {},
   "outputs": [],
   "source": []
  },
  {
   "cell_type": "code",
   "execution_count": null,
   "metadata": {},
   "outputs": [],
   "source": []
  },
  {
   "cell_type": "code",
   "execution_count": null,
   "metadata": {},
   "outputs": [],
   "source": []
  },
  {
   "cell_type": "code",
   "execution_count": 17,
   "metadata": {},
   "outputs": [],
   "source": [
    "tempStringList = []\n",
    "tempStripList = []\n",
    "activityList = []\n",
    "dateList = []\n",
    "tempStartTimeList = []\n",
    "tempEndTimeList = []\n",
    "\n",
    "i = 0\n",
    "while i < len(a):\n",
    "    tempStringList.append(a[i][0])\n",
    "    tempStripList.append([x.strip() for x in tempStringList[i].split(',')])\n",
    "    activityList.append(tempStripList[i][0])\n",
    "    dateList.append(tempStripList[i][1])\n",
    "    tempStartTimeList.append(tempStripList[i][2])\n",
    "    tempEndTimeList.append(tempStripList[i][3])\n",
    "    i = i + 1"
   ]
  },
  {
   "cell_type": "code",
   "execution_count": 18,
   "metadata": {},
   "outputs": [],
   "source": [
    "zippedList = list(zip(activityList, dateList, tempStartTimeList, tempEndTimeList))\n",
    "cleanDF = pd.DataFrame(zippedList, columns = ['activity', 'date', 'startTime', 'endTime'])\n",
    "#cleanDF"
   ]
  },
  {
   "cell_type": "code",
   "execution_count": 19,
   "metadata": {},
   "outputs": [
    {
     "data": {
      "text/plain": [
       "activity     object\n",
       "date         object\n",
       "startTime    object\n",
       "endTime      object\n",
       "dtype: object"
      ]
     },
     "execution_count": 19,
     "metadata": {},
     "output_type": "execute_result"
    }
   ],
   "source": [
    "cleanDF.dtypes"
   ]
  },
  {
   "cell_type": "code",
   "execution_count": 20,
   "metadata": {},
   "outputs": [],
   "source": [
    "start = (cleanDF.date + \" \" + cleanDF.startTime)\n",
    "end = (cleanDF.date + \" \" + cleanDF.endTime)"
   ]
  },
  {
   "cell_type": "code",
   "execution_count": 21,
   "metadata": {},
   "outputs": [],
   "source": [
    "#cleanDF.dtypes"
   ]
  },
  {
   "cell_type": "code",
   "execution_count": 22,
   "metadata": {},
   "outputs": [],
   "source": [
    "startList = []\n",
    "endList = []\n",
    "\n",
    "i = 0\n",
    "while i < len(start):\n",
    "    startList.append(datetime.strptime(start[i], '%m/%d/%Y %H:%M:%S'))\n",
    "    endList.append(datetime.strptime(end[i], '%m/%d/%Y %H:%M:%S'))\n",
    "    i = i + 1"
   ]
  },
  {
   "cell_type": "code",
   "execution_count": 23,
   "metadata": {},
   "outputs": [
    {
     "data": {
      "text/plain": [
       "datetime.datetime(2003, 4, 1, 20, 41, 35)"
      ]
     },
     "execution_count": 23,
     "metadata": {},
     "output_type": "execute_result"
    }
   ],
   "source": [
    "startList[0]"
   ]
  },
  {
   "cell_type": "code",
   "execution_count": 24,
   "metadata": {},
   "outputs": [
    {
     "data": {
      "text/html": [
       "<div>\n",
       "<style scoped>\n",
       "    .dataframe tbody tr th:only-of-type {\n",
       "        vertical-align: middle;\n",
       "    }\n",
       "\n",
       "    .dataframe tbody tr th {\n",
       "        vertical-align: top;\n",
       "    }\n",
       "\n",
       "    .dataframe thead th {\n",
       "        text-align: right;\n",
       "    }\n",
       "</style>\n",
       "<table border=\"1\" class=\"dataframe\">\n",
       "  <thead>\n",
       "    <tr style=\"text-align: right;\">\n",
       "      <th></th>\n",
       "      <th>activity</th>\n",
       "      <th>start</th>\n",
       "      <th>end</th>\n",
       "    </tr>\n",
       "  </thead>\n",
       "  <tbody>\n",
       "    <tr>\n",
       "      <th>0</th>\n",
       "      <td>Bathing</td>\n",
       "      <td>2003-04-01 20:41:35</td>\n",
       "      <td>2003-04-01 21:32:50</td>\n",
       "    </tr>\n",
       "    <tr>\n",
       "      <th>1</th>\n",
       "      <td>Toileting</td>\n",
       "      <td>2003-04-01 17:30:36</td>\n",
       "      <td>2003-04-01 17:46:41</td>\n",
       "    </tr>\n",
       "    <tr>\n",
       "      <th>2</th>\n",
       "      <td>Toileting</td>\n",
       "      <td>2003-04-01 18:04:43</td>\n",
       "      <td>2003-04-01 18:18:02</td>\n",
       "    </tr>\n",
       "    <tr>\n",
       "      <th>3</th>\n",
       "      <td>Toileting</td>\n",
       "      <td>2003-04-01 11:52:01</td>\n",
       "      <td>2003-04-01 11:58:50</td>\n",
       "    </tr>\n",
       "    <tr>\n",
       "      <th>4</th>\n",
       "      <td>Going out to work</td>\n",
       "      <td>2003-04-01 12:11:26</td>\n",
       "      <td>2003-04-01 12:15:12</td>\n",
       "    </tr>\n",
       "    <tr>\n",
       "      <th>5</th>\n",
       "      <td>Preparing lunch</td>\n",
       "      <td>2003-04-01 11:21:17</td>\n",
       "      <td>2003-04-01 11:38:22</td>\n",
       "    </tr>\n",
       "    <tr>\n",
       "      <th>6</th>\n",
       "      <td>Preparing dinner</td>\n",
       "      <td>2003-04-01 16:43:58</td>\n",
       "      <td>2003-04-01 17:07:57</td>\n",
       "    </tr>\n",
       "    <tr>\n",
       "      <th>7</th>\n",
       "      <td>Preparing breakfast</td>\n",
       "      <td>2003-04-01 06:36:18</td>\n",
       "      <td>2003-04-01 06:40:38</td>\n",
       "    </tr>\n",
       "    <tr>\n",
       "      <th>8</th>\n",
       "      <td>Dressing</td>\n",
       "      <td>2003-04-01 06:32:57</td>\n",
       "      <td>2003-04-01 06:36:05</td>\n",
       "    </tr>\n",
       "    <tr>\n",
       "      <th>9</th>\n",
       "      <td>Toileting</td>\n",
       "      <td>2003-04-01 06:07:15</td>\n",
       "      <td>2003-04-01 06:15:58</td>\n",
       "    </tr>\n",
       "  </tbody>\n",
       "</table>\n",
       "</div>"
      ],
      "text/plain": [
       "              activity               start                 end\n",
       "0              Bathing 2003-04-01 20:41:35 2003-04-01 21:32:50\n",
       "1            Toileting 2003-04-01 17:30:36 2003-04-01 17:46:41\n",
       "2            Toileting 2003-04-01 18:04:43 2003-04-01 18:18:02\n",
       "3            Toileting 2003-04-01 11:52:01 2003-04-01 11:58:50\n",
       "4    Going out to work 2003-04-01 12:11:26 2003-04-01 12:15:12\n",
       "5      Preparing lunch 2003-04-01 11:21:17 2003-04-01 11:38:22\n",
       "6     Preparing dinner 2003-04-01 16:43:58 2003-04-01 17:07:57\n",
       "7  Preparing breakfast 2003-04-01 06:36:18 2003-04-01 06:40:38\n",
       "8             Dressing 2003-04-01 06:32:57 2003-04-01 06:36:05\n",
       "9            Toileting 2003-04-01 06:07:15 2003-04-01 06:15:58"
      ]
     },
     "execution_count": 24,
     "metadata": {},
     "output_type": "execute_result"
    }
   ],
   "source": [
    "zippedList = list(zip(activityList, startList, endList))\n",
    "cleanDF = pd.DataFrame(zippedList, columns = ['activity', 'start', 'end'])\n",
    "cleanDF.head(n=10)"
   ]
  },
  {
   "cell_type": "code",
   "execution_count": 25,
   "metadata": {},
   "outputs": [],
   "source": [
    "numericConcat = []\n",
    "numericSep = []\n",
    "actConcat = []\n",
    "actSep = []\n",
    "startConcat = []\n",
    "startSep = []\n",
    "endConcat = []\n",
    "endSep = []\n",
    "\n",
    "i = 0\n",
    "while i < len(a):\n",
    "    numericConcat.append(a[i][1])\n",
    "    numericSep.append([x.strip() for x in numericConcat[i].split(',')])\n",
    "    actConcat.append(a[i][2])\n",
    "    actSep.append([x.strip() for x in actConcat[i].split(',')])\n",
    "    startConcat.append(a[i][3])\n",
    "    startSep.append([x.strip() for x in startConcat[i].split(',')])\n",
    "    endConcat.append(a[i][4])\n",
    "    endSep.append([x.strip() for x in endConcat[i].split(',')])\n",
    "    i = i + 1"
   ]
  },
  {
   "cell_type": "code",
   "execution_count": 26,
   "metadata": {},
   "outputs": [
    {
     "data": {
      "text/plain": [
       "2772"
      ]
     },
     "execution_count": 26,
     "metadata": {},
     "output_type": "execute_result"
    }
   ],
   "source": [
    "dateStringList = []\n",
    "\n",
    "i = 0\n",
    "while i < len(a):\n",
    "    for x in range(len(numericSep[i])):\n",
    "        dateStringList.append(dateList[i])\n",
    "    i = i + 1\n",
    "\n",
    "len(dateStringList)"
   ]
  },
  {
   "cell_type": "code",
   "execution_count": 27,
   "metadata": {},
   "outputs": [],
   "source": [
    "flat_numericSep = []\n",
    "for sublist in numericSep:\n",
    "    for item in sublist:\n",
    "        flat_numericSep.append(item)"
   ]
  },
  {
   "cell_type": "code",
   "execution_count": 28,
   "metadata": {},
   "outputs": [],
   "source": [
    "flat_actSep = []\n",
    "for sublist in actSep:\n",
    "    for item in sublist:\n",
    "        flat_actSep.append(item)"
   ]
  },
  {
   "cell_type": "code",
   "execution_count": 29,
   "metadata": {},
   "outputs": [],
   "source": [
    "flat_startSep = []\n",
    "for sublist in startSep:\n",
    "    for item in sublist:\n",
    "        flat_startSep.append(item)"
   ]
  },
  {
   "cell_type": "code",
   "execution_count": 30,
   "metadata": {},
   "outputs": [],
   "source": [
    "flat_endSep = []\n",
    "for sublist in endSep:\n",
    "    for item in sublist:\n",
    "        flat_endSep.append(item)"
   ]
  },
  {
   "cell_type": "code",
   "execution_count": 31,
   "metadata": {},
   "outputs": [
    {
     "data": {
      "text/plain": [
       "2772"
      ]
     },
     "execution_count": 31,
     "metadata": {},
     "output_type": "execute_result"
    }
   ],
   "source": [
    "len(flat_numericSep)"
   ]
  },
  {
   "cell_type": "code",
   "execution_count": 32,
   "metadata": {},
   "outputs": [
    {
     "data": {
      "text/plain": [
       "2772"
      ]
     },
     "execution_count": 32,
     "metadata": {},
     "output_type": "execute_result"
    }
   ],
   "source": [
    "len(flat_actSep)"
   ]
  },
  {
   "cell_type": "code",
   "execution_count": 33,
   "metadata": {},
   "outputs": [
    {
     "data": {
      "text/plain": [
       "2772"
      ]
     },
     "execution_count": 33,
     "metadata": {},
     "output_type": "execute_result"
    }
   ],
   "source": [
    "len(flat_startSep)"
   ]
  },
  {
   "cell_type": "code",
   "execution_count": 34,
   "metadata": {},
   "outputs": [
    {
     "data": {
      "text/plain": [
       "2772"
      ]
     },
     "execution_count": 34,
     "metadata": {},
     "output_type": "execute_result"
    }
   ],
   "source": [
    "len(flat_endSep)"
   ]
  },
  {
   "cell_type": "code",
   "execution_count": 35,
   "metadata": {},
   "outputs": [],
   "source": [
    "zippedList = list(zip(flat_numericSep, flat_actSep, dateStringList, flat_startSep, flat_endSep))\n",
    "cleanDF = pd.DataFrame(zippedList, columns = ['subActNum', 'subAct', 'date', 'startTime', 'endTime'])"
   ]
  },
  {
   "cell_type": "code",
   "execution_count": 36,
   "metadata": {},
   "outputs": [],
   "source": [
    "start = (cleanDF.date + \" \" + cleanDF.startTime)\n",
    "end = (cleanDF.date + \" \" + cleanDF.endTime)"
   ]
  },
  {
   "cell_type": "code",
   "execution_count": 37,
   "metadata": {},
   "outputs": [],
   "source": [
    "startList = []\n",
    "endList = []\n",
    "\n",
    "i = 0\n",
    "while i < len(start):\n",
    "    startList.append(datetime.strptime(start[i], '%m/%d/%Y %H:%M:%S'))\n",
    "    endList.append(datetime.strptime(end[i], '%m/%d/%Y %H:%M:%S'))\n",
    "    i = i + 1"
   ]
  },
  {
   "cell_type": "code",
   "execution_count": 38,
   "metadata": {},
   "outputs": [
    {
     "data": {
      "text/html": [
       "<div>\n",
       "<style scoped>\n",
       "    .dataframe tbody tr th:only-of-type {\n",
       "        vertical-align: middle;\n",
       "    }\n",
       "\n",
       "    .dataframe tbody tr th {\n",
       "        vertical-align: top;\n",
       "    }\n",
       "\n",
       "    .dataframe thead th {\n",
       "        text-align: right;\n",
       "    }\n",
       "</style>\n",
       "<table border=\"1\" class=\"dataframe\">\n",
       "  <thead>\n",
       "    <tr style=\"text-align: right;\">\n",
       "      <th></th>\n",
       "      <th>subActNum</th>\n",
       "      <th>subAct</th>\n",
       "      <th>start</th>\n",
       "      <th>end</th>\n",
       "    </tr>\n",
       "  </thead>\n",
       "  <tbody>\n",
       "    <tr>\n",
       "      <th>0</th>\n",
       "      <td>100</td>\n",
       "      <td>Toilet Flush</td>\n",
       "      <td>2003-04-01 20:51:52</td>\n",
       "      <td>2003-04-01 21:05:20</td>\n",
       "    </tr>\n",
       "    <tr>\n",
       "      <th>1</th>\n",
       "      <td>68</td>\n",
       "      <td>Sink faucet - hot</td>\n",
       "      <td>2003-04-01 20:51:58</td>\n",
       "      <td>2003-04-01 20:52:05</td>\n",
       "    </tr>\n",
       "    <tr>\n",
       "      <th>2</th>\n",
       "      <td>81</td>\n",
       "      <td>Closet</td>\n",
       "      <td>2003-04-01 20:53:36</td>\n",
       "      <td>2003-04-01 20:53:43</td>\n",
       "    </tr>\n",
       "    <tr>\n",
       "      <th>3</th>\n",
       "      <td>101</td>\n",
       "      <td>Light switch</td>\n",
       "      <td>2003-04-01 20:53:49</td>\n",
       "      <td>2003-04-01 21:21:43</td>\n",
       "    </tr>\n",
       "    <tr>\n",
       "      <th>4</th>\n",
       "      <td>93</td>\n",
       "      <td>Shower faucet</td>\n",
       "      <td>2003-04-01 20:53:52</td>\n",
       "      <td>2003-04-01 20:58:42</td>\n",
       "    </tr>\n",
       "    <tr>\n",
       "      <th>5</th>\n",
       "      <td>137</td>\n",
       "      <td>Freezer</td>\n",
       "      <td>2003-04-01 20:58:22</td>\n",
       "      <td>2003-04-01 20:58:32</td>\n",
       "    </tr>\n",
       "    <tr>\n",
       "      <th>6</th>\n",
       "      <td>93</td>\n",
       "      <td>Shower faucet</td>\n",
       "      <td>2003-04-01 20:58:43</td>\n",
       "      <td>2003-04-01 21:06:09</td>\n",
       "    </tr>\n",
       "    <tr>\n",
       "      <th>7</th>\n",
       "      <td>58</td>\n",
       "      <td>Medicine cabinet</td>\n",
       "      <td>2003-04-01 21:05:23</td>\n",
       "      <td>2003-04-01 21:05:45</td>\n",
       "    </tr>\n",
       "    <tr>\n",
       "      <th>8</th>\n",
       "      <td>57</td>\n",
       "      <td>Medicine cabinet</td>\n",
       "      <td>2003-04-01 21:05:46</td>\n",
       "      <td>2003-04-01 21:18:55</td>\n",
       "    </tr>\n",
       "    <tr>\n",
       "      <th>9</th>\n",
       "      <td>67</td>\n",
       "      <td>Cabinet</td>\n",
       "      <td>2003-04-01 21:05:47</td>\n",
       "      <td>2003-04-01 21:05:49</td>\n",
       "    </tr>\n",
       "  </tbody>\n",
       "</table>\n",
       "</div>"
      ],
      "text/plain": [
       "  subActNum             subAct               start                 end\n",
       "0       100       Toilet Flush 2003-04-01 20:51:52 2003-04-01 21:05:20\n",
       "1        68  Sink faucet - hot 2003-04-01 20:51:58 2003-04-01 20:52:05\n",
       "2        81             Closet 2003-04-01 20:53:36 2003-04-01 20:53:43\n",
       "3       101       Light switch 2003-04-01 20:53:49 2003-04-01 21:21:43\n",
       "4        93      Shower faucet 2003-04-01 20:53:52 2003-04-01 20:58:42\n",
       "5       137            Freezer 2003-04-01 20:58:22 2003-04-01 20:58:32\n",
       "6        93      Shower faucet 2003-04-01 20:58:43 2003-04-01 21:06:09\n",
       "7        58   Medicine cabinet 2003-04-01 21:05:23 2003-04-01 21:05:45\n",
       "8        57   Medicine cabinet 2003-04-01 21:05:46 2003-04-01 21:18:55\n",
       "9        67            Cabinet 2003-04-01 21:05:47 2003-04-01 21:05:49"
      ]
     },
     "execution_count": 38,
     "metadata": {},
     "output_type": "execute_result"
    }
   ],
   "source": [
    "zippedList = list(zip(flat_numericSep, flat_actSep, startList, endList))\n",
    "cleanDF = pd.DataFrame(zippedList, columns = ['subActNum', 'subAct', 'start', 'end'])\n",
    "cleanDF.head(n=10)"
   ]
  },
  {
   "cell_type": "code",
   "execution_count": 39,
   "metadata": {},
   "outputs": [],
   "source": [
    "subActNumList = cleanDF['subActNum'].unique().tolist()\n",
    "subActList = cleanDF['subAct'].unique().tolist()"
   ]
  },
  {
   "cell_type": "code",
   "execution_count": 40,
   "metadata": {},
   "outputs": [
    {
     "name": "stdout",
     "output_type": "stream",
     "text": [
      "Initial Time for START: 2003-03-27 06:43:40 \n",
      "Final Time for START: 2003-04-11 22:24:05\n"
     ]
    }
   ],
   "source": [
    "# get min/max\n",
    "initialTimeStart = min(cleanDF.start)\n",
    "finalTimeStart = max(cleanDF.start)\n",
    "print(\"Initial Time for START:\", initialTimeStart, '\\n' \"Final Time for START:\", finalTimeStart)"
   ]
  },
  {
   "cell_type": "code",
   "execution_count": 41,
   "metadata": {},
   "outputs": [
    {
     "name": "stdout",
     "output_type": "stream",
     "text": [
      "Initial Time for END: 2003-03-27 06:43:40 \n",
      "Final Time for END: 2003-04-11 22:24:05\n"
     ]
    }
   ],
   "source": [
    "# get min/max\n",
    "initialTimeEnd = min(cleanDF.end)\n",
    "finalTimeEnd = max(cleanDF.end)\n",
    "print(\"Initial Time for END:\", initialTimeStart, '\\n' \"Final Time for END:\", finalTimeStart)"
   ]
  },
  {
   "cell_type": "code",
   "execution_count": 42,
   "metadata": {},
   "outputs": [
    {
     "name": "stdout",
     "output_type": "stream",
     "text": [
      "2003-03-27 06:43:40\n"
     ]
    }
   ],
   "source": [
    "print(min(cleanDF.start))"
   ]
  },
  {
   "cell_type": "code",
   "execution_count": 43,
   "metadata": {},
   "outputs": [
    {
     "name": "stdout",
     "output_type": "stream",
     "text": [
      "2003-04-11 22:24:05\n"
     ]
    }
   ],
   "source": [
    "print(max(cleanDF.start))"
   ]
  },
  {
   "cell_type": "code",
   "execution_count": 44,
   "metadata": {},
   "outputs": [],
   "source": [
    "start_date = datetime(2003, 3, 27, 6, 43, 40)\n",
    "end_date   = datetime(2003, 4, 12, 22, 24, 5)"
   ]
  },
  {
   "cell_type": "code",
   "execution_count": 45,
   "metadata": {},
   "outputs": [],
   "source": [
    "date_rng = pd.date_range(start = start_date, end = end_date, freq='s')"
   ]
  },
  {
   "cell_type": "code",
   "execution_count": 46,
   "metadata": {},
   "outputs": [
    {
     "data": {
      "text/plain": [
       "DatetimeIndex(['2003-03-27 06:43:40', '2003-03-27 06:43:41',\n",
       "               '2003-03-27 06:43:42', '2003-03-27 06:43:43',\n",
       "               '2003-03-27 06:43:44', '2003-03-27 06:43:45',\n",
       "               '2003-03-27 06:43:46', '2003-03-27 06:43:47',\n",
       "               '2003-03-27 06:43:48', '2003-03-27 06:43:49',\n",
       "               ...\n",
       "               '2003-04-12 22:23:56', '2003-04-12 22:23:57',\n",
       "               '2003-04-12 22:23:58', '2003-04-12 22:23:59',\n",
       "               '2003-04-12 22:24:00', '2003-04-12 22:24:01',\n",
       "               '2003-04-12 22:24:02', '2003-04-12 22:24:03',\n",
       "               '2003-04-12 22:24:04', '2003-04-12 22:24:05'],\n",
       "              dtype='datetime64[ns]', length=1438826, freq='S')"
      ]
     },
     "execution_count": 46,
     "metadata": {},
     "output_type": "execute_result"
    }
   ],
   "source": [
    "date_rng"
   ]
  },
  {
   "cell_type": "code",
   "execution_count": 47,
   "metadata": {},
   "outputs": [],
   "source": [
    "df = pd.DataFrame(date_rng, columns = ['TimeStamp'])\n",
    "df = df.set_index('TimeStamp')"
   ]
  },
  {
   "cell_type": "code",
   "execution_count": 48,
   "metadata": {},
   "outputs": [
    {
     "data": {
      "text/html": [
       "<div>\n",
       "<style scoped>\n",
       "    .dataframe tbody tr th:only-of-type {\n",
       "        vertical-align: middle;\n",
       "    }\n",
       "\n",
       "    .dataframe tbody tr th {\n",
       "        vertical-align: top;\n",
       "    }\n",
       "\n",
       "    .dataframe thead th {\n",
       "        text-align: right;\n",
       "    }\n",
       "</style>\n",
       "<table border=\"1\" class=\"dataframe\">\n",
       "  <thead>\n",
       "    <tr style=\"text-align: right;\">\n",
       "      <th></th>\n",
       "    </tr>\n",
       "    <tr>\n",
       "      <th>TimeStamp</th>\n",
       "    </tr>\n",
       "  </thead>\n",
       "  <tbody>\n",
       "    <tr>\n",
       "      <th>2003-03-27 06:43:40</th>\n",
       "    </tr>\n",
       "    <tr>\n",
       "      <th>2003-03-27 06:43:41</th>\n",
       "    </tr>\n",
       "    <tr>\n",
       "      <th>2003-03-27 06:43:42</th>\n",
       "    </tr>\n",
       "    <tr>\n",
       "      <th>2003-03-27 06:43:43</th>\n",
       "    </tr>\n",
       "    <tr>\n",
       "      <th>2003-03-27 06:43:44</th>\n",
       "    </tr>\n",
       "    <tr>\n",
       "      <th>2003-03-27 06:43:45</th>\n",
       "    </tr>\n",
       "    <tr>\n",
       "      <th>2003-03-27 06:43:46</th>\n",
       "    </tr>\n",
       "    <tr>\n",
       "      <th>2003-03-27 06:43:47</th>\n",
       "    </tr>\n",
       "    <tr>\n",
       "      <th>2003-03-27 06:43:48</th>\n",
       "    </tr>\n",
       "    <tr>\n",
       "      <th>2003-03-27 06:43:49</th>\n",
       "    </tr>\n",
       "  </tbody>\n",
       "</table>\n",
       "</div>"
      ],
      "text/plain": [
       "Empty DataFrame\n",
       "Columns: []\n",
       "Index: [2003-03-27 06:43:40, 2003-03-27 06:43:41, 2003-03-27 06:43:42, 2003-03-27 06:43:43, 2003-03-27 06:43:44, 2003-03-27 06:43:45, 2003-03-27 06:43:46, 2003-03-27 06:43:47, 2003-03-27 06:43:48, 2003-03-27 06:43:49]"
      ]
     },
     "execution_count": 48,
     "metadata": {},
     "output_type": "execute_result"
    }
   ],
   "source": [
    "df.head(n=10)"
   ]
  },
  {
   "cell_type": "code",
   "execution_count": 49,
   "metadata": {},
   "outputs": [
    {
     "data": {
      "text/plain": [
       "0         Toilet Flush\n",
       "1    Sink faucet - hot\n",
       "2               Closet\n",
       "3         Light switch\n",
       "4        Shower faucet\n",
       "Name: subAct, dtype: object"
      ]
     },
     "execution_count": 49,
     "metadata": {},
     "output_type": "execute_result"
    }
   ],
   "source": [
    "#subActList\n",
    "subActVector = cleanDF.subAct\n",
    "subActVector.head(n=5)"
   ]
  },
  {
   "cell_type": "code",
   "execution_count": 50,
   "metadata": {},
   "outputs": [],
   "source": [
    "for x in subActList:\n",
    "    df[x] = 0"
   ]
  },
  {
   "cell_type": "code",
   "execution_count": 51,
   "metadata": {},
   "outputs": [
    {
     "data": {
      "text/html": [
       "<div>\n",
       "<style scoped>\n",
       "    .dataframe tbody tr th:only-of-type {\n",
       "        vertical-align: middle;\n",
       "    }\n",
       "\n",
       "    .dataframe tbody tr th {\n",
       "        vertical-align: top;\n",
       "    }\n",
       "\n",
       "    .dataframe thead th {\n",
       "        text-align: right;\n",
       "    }\n",
       "</style>\n",
       "<table border=\"1\" class=\"dataframe\">\n",
       "  <thead>\n",
       "    <tr style=\"text-align: right;\">\n",
       "      <th></th>\n",
       "      <th>Toilet Flush</th>\n",
       "      <th>Sink faucet - hot</th>\n",
       "      <th>Closet</th>\n",
       "      <th>Light switch</th>\n",
       "      <th>Shower faucet</th>\n",
       "      <th>Freezer</th>\n",
       "      <th>Medicine cabinet</th>\n",
       "      <th>Cabinet</th>\n",
       "      <th>Sink faucet - cold</th>\n",
       "      <th>Lamp</th>\n",
       "      <th>...</th>\n",
       "      <th>Containers</th>\n",
       "      <th>Exhaust Fan</th>\n",
       "      <th>Garbage disposal</th>\n",
       "      <th>Dishwasher</th>\n",
       "      <th>Laundry Dryer</th>\n",
       "      <th>Washing Machine</th>\n",
       "      <th>Burner</th>\n",
       "      <th>Oven</th>\n",
       "      <th>Coffee machine</th>\n",
       "      <th>DVD</th>\n",
       "    </tr>\n",
       "    <tr>\n",
       "      <th>TimeStamp</th>\n",
       "      <th></th>\n",
       "      <th></th>\n",
       "      <th></th>\n",
       "      <th></th>\n",
       "      <th></th>\n",
       "      <th></th>\n",
       "      <th></th>\n",
       "      <th></th>\n",
       "      <th></th>\n",
       "      <th></th>\n",
       "      <th></th>\n",
       "      <th></th>\n",
       "      <th></th>\n",
       "      <th></th>\n",
       "      <th></th>\n",
       "      <th></th>\n",
       "      <th></th>\n",
       "      <th></th>\n",
       "      <th></th>\n",
       "      <th></th>\n",
       "      <th></th>\n",
       "    </tr>\n",
       "  </thead>\n",
       "  <tbody>\n",
       "    <tr>\n",
       "      <th>2003-03-27 06:43:40</th>\n",
       "      <td>0</td>\n",
       "      <td>0</td>\n",
       "      <td>0</td>\n",
       "      <td>0</td>\n",
       "      <td>0</td>\n",
       "      <td>0</td>\n",
       "      <td>0</td>\n",
       "      <td>0</td>\n",
       "      <td>0</td>\n",
       "      <td>0</td>\n",
       "      <td>...</td>\n",
       "      <td>0</td>\n",
       "      <td>0</td>\n",
       "      <td>0</td>\n",
       "      <td>0</td>\n",
       "      <td>0</td>\n",
       "      <td>0</td>\n",
       "      <td>0</td>\n",
       "      <td>0</td>\n",
       "      <td>0</td>\n",
       "      <td>0</td>\n",
       "    </tr>\n",
       "    <tr>\n",
       "      <th>2003-03-27 06:43:41</th>\n",
       "      <td>0</td>\n",
       "      <td>0</td>\n",
       "      <td>0</td>\n",
       "      <td>0</td>\n",
       "      <td>0</td>\n",
       "      <td>0</td>\n",
       "      <td>0</td>\n",
       "      <td>0</td>\n",
       "      <td>0</td>\n",
       "      <td>0</td>\n",
       "      <td>...</td>\n",
       "      <td>0</td>\n",
       "      <td>0</td>\n",
       "      <td>0</td>\n",
       "      <td>0</td>\n",
       "      <td>0</td>\n",
       "      <td>0</td>\n",
       "      <td>0</td>\n",
       "      <td>0</td>\n",
       "      <td>0</td>\n",
       "      <td>0</td>\n",
       "    </tr>\n",
       "    <tr>\n",
       "      <th>2003-03-27 06:43:42</th>\n",
       "      <td>0</td>\n",
       "      <td>0</td>\n",
       "      <td>0</td>\n",
       "      <td>0</td>\n",
       "      <td>0</td>\n",
       "      <td>0</td>\n",
       "      <td>0</td>\n",
       "      <td>0</td>\n",
       "      <td>0</td>\n",
       "      <td>0</td>\n",
       "      <td>...</td>\n",
       "      <td>0</td>\n",
       "      <td>0</td>\n",
       "      <td>0</td>\n",
       "      <td>0</td>\n",
       "      <td>0</td>\n",
       "      <td>0</td>\n",
       "      <td>0</td>\n",
       "      <td>0</td>\n",
       "      <td>0</td>\n",
       "      <td>0</td>\n",
       "    </tr>\n",
       "    <tr>\n",
       "      <th>2003-03-27 06:43:43</th>\n",
       "      <td>0</td>\n",
       "      <td>0</td>\n",
       "      <td>0</td>\n",
       "      <td>0</td>\n",
       "      <td>0</td>\n",
       "      <td>0</td>\n",
       "      <td>0</td>\n",
       "      <td>0</td>\n",
       "      <td>0</td>\n",
       "      <td>0</td>\n",
       "      <td>...</td>\n",
       "      <td>0</td>\n",
       "      <td>0</td>\n",
       "      <td>0</td>\n",
       "      <td>0</td>\n",
       "      <td>0</td>\n",
       "      <td>0</td>\n",
       "      <td>0</td>\n",
       "      <td>0</td>\n",
       "      <td>0</td>\n",
       "      <td>0</td>\n",
       "    </tr>\n",
       "    <tr>\n",
       "      <th>2003-03-27 06:43:44</th>\n",
       "      <td>0</td>\n",
       "      <td>0</td>\n",
       "      <td>0</td>\n",
       "      <td>0</td>\n",
       "      <td>0</td>\n",
       "      <td>0</td>\n",
       "      <td>0</td>\n",
       "      <td>0</td>\n",
       "      <td>0</td>\n",
       "      <td>0</td>\n",
       "      <td>...</td>\n",
       "      <td>0</td>\n",
       "      <td>0</td>\n",
       "      <td>0</td>\n",
       "      <td>0</td>\n",
       "      <td>0</td>\n",
       "      <td>0</td>\n",
       "      <td>0</td>\n",
       "      <td>0</td>\n",
       "      <td>0</td>\n",
       "      <td>0</td>\n",
       "    </tr>\n",
       "    <tr>\n",
       "      <th>2003-03-27 06:43:45</th>\n",
       "      <td>0</td>\n",
       "      <td>0</td>\n",
       "      <td>0</td>\n",
       "      <td>0</td>\n",
       "      <td>0</td>\n",
       "      <td>0</td>\n",
       "      <td>0</td>\n",
       "      <td>0</td>\n",
       "      <td>0</td>\n",
       "      <td>0</td>\n",
       "      <td>...</td>\n",
       "      <td>0</td>\n",
       "      <td>0</td>\n",
       "      <td>0</td>\n",
       "      <td>0</td>\n",
       "      <td>0</td>\n",
       "      <td>0</td>\n",
       "      <td>0</td>\n",
       "      <td>0</td>\n",
       "      <td>0</td>\n",
       "      <td>0</td>\n",
       "    </tr>\n",
       "    <tr>\n",
       "      <th>2003-03-27 06:43:46</th>\n",
       "      <td>0</td>\n",
       "      <td>0</td>\n",
       "      <td>0</td>\n",
       "      <td>0</td>\n",
       "      <td>0</td>\n",
       "      <td>0</td>\n",
       "      <td>0</td>\n",
       "      <td>0</td>\n",
       "      <td>0</td>\n",
       "      <td>0</td>\n",
       "      <td>...</td>\n",
       "      <td>0</td>\n",
       "      <td>0</td>\n",
       "      <td>0</td>\n",
       "      <td>0</td>\n",
       "      <td>0</td>\n",
       "      <td>0</td>\n",
       "      <td>0</td>\n",
       "      <td>0</td>\n",
       "      <td>0</td>\n",
       "      <td>0</td>\n",
       "    </tr>\n",
       "    <tr>\n",
       "      <th>2003-03-27 06:43:47</th>\n",
       "      <td>0</td>\n",
       "      <td>0</td>\n",
       "      <td>0</td>\n",
       "      <td>0</td>\n",
       "      <td>0</td>\n",
       "      <td>0</td>\n",
       "      <td>0</td>\n",
       "      <td>0</td>\n",
       "      <td>0</td>\n",
       "      <td>0</td>\n",
       "      <td>...</td>\n",
       "      <td>0</td>\n",
       "      <td>0</td>\n",
       "      <td>0</td>\n",
       "      <td>0</td>\n",
       "      <td>0</td>\n",
       "      <td>0</td>\n",
       "      <td>0</td>\n",
       "      <td>0</td>\n",
       "      <td>0</td>\n",
       "      <td>0</td>\n",
       "    </tr>\n",
       "    <tr>\n",
       "      <th>2003-03-27 06:43:48</th>\n",
       "      <td>0</td>\n",
       "      <td>0</td>\n",
       "      <td>0</td>\n",
       "      <td>0</td>\n",
       "      <td>0</td>\n",
       "      <td>0</td>\n",
       "      <td>0</td>\n",
       "      <td>0</td>\n",
       "      <td>0</td>\n",
       "      <td>0</td>\n",
       "      <td>...</td>\n",
       "      <td>0</td>\n",
       "      <td>0</td>\n",
       "      <td>0</td>\n",
       "      <td>0</td>\n",
       "      <td>0</td>\n",
       "      <td>0</td>\n",
       "      <td>0</td>\n",
       "      <td>0</td>\n",
       "      <td>0</td>\n",
       "      <td>0</td>\n",
       "    </tr>\n",
       "    <tr>\n",
       "      <th>2003-03-27 06:43:49</th>\n",
       "      <td>0</td>\n",
       "      <td>0</td>\n",
       "      <td>0</td>\n",
       "      <td>0</td>\n",
       "      <td>0</td>\n",
       "      <td>0</td>\n",
       "      <td>0</td>\n",
       "      <td>0</td>\n",
       "      <td>0</td>\n",
       "      <td>0</td>\n",
       "      <td>...</td>\n",
       "      <td>0</td>\n",
       "      <td>0</td>\n",
       "      <td>0</td>\n",
       "      <td>0</td>\n",
       "      <td>0</td>\n",
       "      <td>0</td>\n",
       "      <td>0</td>\n",
       "      <td>0</td>\n",
       "      <td>0</td>\n",
       "      <td>0</td>\n",
       "    </tr>\n",
       "  </tbody>\n",
       "</table>\n",
       "<p>10 rows × 27 columns</p>\n",
       "</div>"
      ],
      "text/plain": [
       "                     Toilet Flush  Sink faucet - hot  Closet  Light switch  \\\n",
       "TimeStamp                                                                    \n",
       "2003-03-27 06:43:40             0                  0       0             0   \n",
       "2003-03-27 06:43:41             0                  0       0             0   \n",
       "2003-03-27 06:43:42             0                  0       0             0   \n",
       "2003-03-27 06:43:43             0                  0       0             0   \n",
       "2003-03-27 06:43:44             0                  0       0             0   \n",
       "2003-03-27 06:43:45             0                  0       0             0   \n",
       "2003-03-27 06:43:46             0                  0       0             0   \n",
       "2003-03-27 06:43:47             0                  0       0             0   \n",
       "2003-03-27 06:43:48             0                  0       0             0   \n",
       "2003-03-27 06:43:49             0                  0       0             0   \n",
       "\n",
       "                     Shower faucet  Freezer  Medicine cabinet  Cabinet  \\\n",
       "TimeStamp                                                                \n",
       "2003-03-27 06:43:40              0        0                 0        0   \n",
       "2003-03-27 06:43:41              0        0                 0        0   \n",
       "2003-03-27 06:43:42              0        0                 0        0   \n",
       "2003-03-27 06:43:43              0        0                 0        0   \n",
       "2003-03-27 06:43:44              0        0                 0        0   \n",
       "2003-03-27 06:43:45              0        0                 0        0   \n",
       "2003-03-27 06:43:46              0        0                 0        0   \n",
       "2003-03-27 06:43:47              0        0                 0        0   \n",
       "2003-03-27 06:43:48              0        0                 0        0   \n",
       "2003-03-27 06:43:49              0        0                 0        0   \n",
       "\n",
       "                     Sink faucet - cold  Lamp  ...  Containers  Exhaust Fan  \\\n",
       "TimeStamp                                      ...                            \n",
       "2003-03-27 06:43:40                   0     0  ...           0            0   \n",
       "2003-03-27 06:43:41                   0     0  ...           0            0   \n",
       "2003-03-27 06:43:42                   0     0  ...           0            0   \n",
       "2003-03-27 06:43:43                   0     0  ...           0            0   \n",
       "2003-03-27 06:43:44                   0     0  ...           0            0   \n",
       "2003-03-27 06:43:45                   0     0  ...           0            0   \n",
       "2003-03-27 06:43:46                   0     0  ...           0            0   \n",
       "2003-03-27 06:43:47                   0     0  ...           0            0   \n",
       "2003-03-27 06:43:48                   0     0  ...           0            0   \n",
       "2003-03-27 06:43:49                   0     0  ...           0            0   \n",
       "\n",
       "                     Garbage disposal  Dishwasher  Laundry Dryer  \\\n",
       "TimeStamp                                                          \n",
       "2003-03-27 06:43:40                 0           0              0   \n",
       "2003-03-27 06:43:41                 0           0              0   \n",
       "2003-03-27 06:43:42                 0           0              0   \n",
       "2003-03-27 06:43:43                 0           0              0   \n",
       "2003-03-27 06:43:44                 0           0              0   \n",
       "2003-03-27 06:43:45                 0           0              0   \n",
       "2003-03-27 06:43:46                 0           0              0   \n",
       "2003-03-27 06:43:47                 0           0              0   \n",
       "2003-03-27 06:43:48                 0           0              0   \n",
       "2003-03-27 06:43:49                 0           0              0   \n",
       "\n",
       "                     Washing Machine  Burner  Oven  Coffee machine  DVD  \n",
       "TimeStamp                                                                \n",
       "2003-03-27 06:43:40                0       0     0               0    0  \n",
       "2003-03-27 06:43:41                0       0     0               0    0  \n",
       "2003-03-27 06:43:42                0       0     0               0    0  \n",
       "2003-03-27 06:43:43                0       0     0               0    0  \n",
       "2003-03-27 06:43:44                0       0     0               0    0  \n",
       "2003-03-27 06:43:45                0       0     0               0    0  \n",
       "2003-03-27 06:43:46                0       0     0               0    0  \n",
       "2003-03-27 06:43:47                0       0     0               0    0  \n",
       "2003-03-27 06:43:48                0       0     0               0    0  \n",
       "2003-03-27 06:43:49                0       0     0               0    0  \n",
       "\n",
       "[10 rows x 27 columns]"
      ]
     },
     "execution_count": 51,
     "metadata": {},
     "output_type": "execute_result"
    }
   ],
   "source": [
    "df.head(n=10)"
   ]
  },
  {
   "cell_type": "code",
   "execution_count": 52,
   "metadata": {},
   "outputs": [
    {
     "data": {
      "text/html": [
       "<div>\n",
       "<style scoped>\n",
       "    .dataframe tbody tr th:only-of-type {\n",
       "        vertical-align: middle;\n",
       "    }\n",
       "\n",
       "    .dataframe tbody tr th {\n",
       "        vertical-align: top;\n",
       "    }\n",
       "\n",
       "    .dataframe thead th {\n",
       "        text-align: right;\n",
       "    }\n",
       "</style>\n",
       "<table border=\"1\" class=\"dataframe\">\n",
       "  <thead>\n",
       "    <tr style=\"text-align: right;\">\n",
       "      <th></th>\n",
       "      <th>subActNum</th>\n",
       "      <th>subAct</th>\n",
       "      <th>start</th>\n",
       "      <th>end</th>\n",
       "    </tr>\n",
       "  </thead>\n",
       "  <tbody>\n",
       "    <tr>\n",
       "      <th>0</th>\n",
       "      <td>100</td>\n",
       "      <td>Toilet Flush</td>\n",
       "      <td>2003-04-01 20:51:52</td>\n",
       "      <td>2003-04-01 21:05:20</td>\n",
       "    </tr>\n",
       "    <tr>\n",
       "      <th>1</th>\n",
       "      <td>68</td>\n",
       "      <td>Sink faucet - hot</td>\n",
       "      <td>2003-04-01 20:51:58</td>\n",
       "      <td>2003-04-01 20:52:05</td>\n",
       "    </tr>\n",
       "    <tr>\n",
       "      <th>2</th>\n",
       "      <td>81</td>\n",
       "      <td>Closet</td>\n",
       "      <td>2003-04-01 20:53:36</td>\n",
       "      <td>2003-04-01 20:53:43</td>\n",
       "    </tr>\n",
       "    <tr>\n",
       "      <th>3</th>\n",
       "      <td>101</td>\n",
       "      <td>Light switch</td>\n",
       "      <td>2003-04-01 20:53:49</td>\n",
       "      <td>2003-04-01 21:21:43</td>\n",
       "    </tr>\n",
       "    <tr>\n",
       "      <th>4</th>\n",
       "      <td>93</td>\n",
       "      <td>Shower faucet</td>\n",
       "      <td>2003-04-01 20:53:52</td>\n",
       "      <td>2003-04-01 20:58:42</td>\n",
       "    </tr>\n",
       "  </tbody>\n",
       "</table>\n",
       "</div>"
      ],
      "text/plain": [
       "  subActNum             subAct               start                 end\n",
       "0       100       Toilet Flush 2003-04-01 20:51:52 2003-04-01 21:05:20\n",
       "1        68  Sink faucet - hot 2003-04-01 20:51:58 2003-04-01 20:52:05\n",
       "2        81             Closet 2003-04-01 20:53:36 2003-04-01 20:53:43\n",
       "3       101       Light switch 2003-04-01 20:53:49 2003-04-01 21:21:43\n",
       "4        93      Shower faucet 2003-04-01 20:53:52 2003-04-01 20:58:42"
      ]
     },
     "execution_count": 52,
     "metadata": {},
     "output_type": "execute_result"
    }
   ],
   "source": [
    "cleanDF.head(n=5)"
   ]
  },
  {
   "cell_type": "code",
   "execution_count": 53,
   "metadata": {},
   "outputs": [],
   "source": [
    "tempTimeStamp = []\n",
    "i = 0\n",
    "while i < len(cleanDF):\n",
    "    tempTimeStamp.append(pd.date_range(start = start[i], end = end[i], freq = 's'))\n",
    "    i = i + 1"
   ]
  },
  {
   "cell_type": "code",
   "execution_count": 54,
   "metadata": {},
   "outputs": [],
   "source": [
    "tempNumTimeStamps = []\n",
    "i = 0\n",
    "while i < len(cleanDF):\n",
    "    tempNumTimeStamps.append(len(tempTimeStamp[i]))\n",
    "    i = i + 1"
   ]
  },
  {
   "cell_type": "code",
   "execution_count": 55,
   "metadata": {},
   "outputs": [],
   "source": [
    "cleanDF['actDuration'] = tempNumTimeStamps\n",
    "cleanDF['timeStampList'] = tempTimeStamp"
   ]
  },
  {
   "cell_type": "code",
   "execution_count": 56,
   "metadata": {},
   "outputs": [
    {
     "data": {
      "text/html": [
       "<div>\n",
       "<style scoped>\n",
       "    .dataframe tbody tr th:only-of-type {\n",
       "        vertical-align: middle;\n",
       "    }\n",
       "\n",
       "    .dataframe tbody tr th {\n",
       "        vertical-align: top;\n",
       "    }\n",
       "\n",
       "    .dataframe thead th {\n",
       "        text-align: right;\n",
       "    }\n",
       "</style>\n",
       "<table border=\"1\" class=\"dataframe\">\n",
       "  <thead>\n",
       "    <tr style=\"text-align: right;\">\n",
       "      <th></th>\n",
       "      <th>subActNum</th>\n",
       "      <th>subAct</th>\n",
       "      <th>start</th>\n",
       "      <th>end</th>\n",
       "      <th>actDuration</th>\n",
       "      <th>timeStampList</th>\n",
       "    </tr>\n",
       "  </thead>\n",
       "  <tbody>\n",
       "    <tr>\n",
       "      <th>0</th>\n",
       "      <td>100</td>\n",
       "      <td>Toilet Flush</td>\n",
       "      <td>2003-04-01 20:51:52</td>\n",
       "      <td>2003-04-01 21:05:20</td>\n",
       "      <td>809</td>\n",
       "      <td>DatetimeIndex(['2003-04-01 20:51:52', '2003-04...</td>\n",
       "    </tr>\n",
       "    <tr>\n",
       "      <th>1</th>\n",
       "      <td>68</td>\n",
       "      <td>Sink faucet - hot</td>\n",
       "      <td>2003-04-01 20:51:58</td>\n",
       "      <td>2003-04-01 20:52:05</td>\n",
       "      <td>8</td>\n",
       "      <td>DatetimeIndex(['2003-04-01 20:51:58', '2003-04...</td>\n",
       "    </tr>\n",
       "    <tr>\n",
       "      <th>2</th>\n",
       "      <td>81</td>\n",
       "      <td>Closet</td>\n",
       "      <td>2003-04-01 20:53:36</td>\n",
       "      <td>2003-04-01 20:53:43</td>\n",
       "      <td>8</td>\n",
       "      <td>DatetimeIndex(['2003-04-01 20:53:36', '2003-04...</td>\n",
       "    </tr>\n",
       "    <tr>\n",
       "      <th>3</th>\n",
       "      <td>101</td>\n",
       "      <td>Light switch</td>\n",
       "      <td>2003-04-01 20:53:49</td>\n",
       "      <td>2003-04-01 21:21:43</td>\n",
       "      <td>1675</td>\n",
       "      <td>DatetimeIndex(['2003-04-01 20:53:49', '2003-04...</td>\n",
       "    </tr>\n",
       "    <tr>\n",
       "      <th>4</th>\n",
       "      <td>93</td>\n",
       "      <td>Shower faucet</td>\n",
       "      <td>2003-04-01 20:53:52</td>\n",
       "      <td>2003-04-01 20:58:42</td>\n",
       "      <td>291</td>\n",
       "      <td>DatetimeIndex(['2003-04-01 20:53:52', '2003-04...</td>\n",
       "    </tr>\n",
       "  </tbody>\n",
       "</table>\n",
       "</div>"
      ],
      "text/plain": [
       "  subActNum             subAct               start                 end  \\\n",
       "0       100       Toilet Flush 2003-04-01 20:51:52 2003-04-01 21:05:20   \n",
       "1        68  Sink faucet - hot 2003-04-01 20:51:58 2003-04-01 20:52:05   \n",
       "2        81             Closet 2003-04-01 20:53:36 2003-04-01 20:53:43   \n",
       "3       101       Light switch 2003-04-01 20:53:49 2003-04-01 21:21:43   \n",
       "4        93      Shower faucet 2003-04-01 20:53:52 2003-04-01 20:58:42   \n",
       "\n",
       "   actDuration                                      timeStampList  \n",
       "0          809  DatetimeIndex(['2003-04-01 20:51:52', '2003-04...  \n",
       "1            8  DatetimeIndex(['2003-04-01 20:51:58', '2003-04...  \n",
       "2            8  DatetimeIndex(['2003-04-01 20:53:36', '2003-04...  \n",
       "3         1675  DatetimeIndex(['2003-04-01 20:53:49', '2003-04...  \n",
       "4          291  DatetimeIndex(['2003-04-01 20:53:52', '2003-04...  "
      ]
     },
     "execution_count": 56,
     "metadata": {},
     "output_type": "execute_result"
    }
   ],
   "source": [
    "cleanDF.head(n=5)"
   ]
  },
  {
   "cell_type": "code",
   "execution_count": 57,
   "metadata": {},
   "outputs": [
    {
     "data": {
      "text/html": [
       "<div>\n",
       "<style scoped>\n",
       "    .dataframe tbody tr th:only-of-type {\n",
       "        vertical-align: middle;\n",
       "    }\n",
       "\n",
       "    .dataframe tbody tr th {\n",
       "        vertical-align: top;\n",
       "    }\n",
       "\n",
       "    .dataframe thead th {\n",
       "        text-align: right;\n",
       "    }\n",
       "</style>\n",
       "<table border=\"1\" class=\"dataframe\">\n",
       "  <thead>\n",
       "    <tr style=\"text-align: right;\">\n",
       "      <th></th>\n",
       "      <th>subActNum</th>\n",
       "      <th>subAct</th>\n",
       "      <th>start</th>\n",
       "      <th>end</th>\n",
       "      <th>actDuration</th>\n",
       "      <th>timeStampList</th>\n",
       "    </tr>\n",
       "  </thead>\n",
       "  <tbody>\n",
       "    <tr>\n",
       "      <th>4/1/2003 20:51:52</th>\n",
       "      <td>100</td>\n",
       "      <td>Toilet Flush</td>\n",
       "      <td>2003-04-01 20:51:52</td>\n",
       "      <td>2003-04-01 21:05:20</td>\n",
       "      <td>809</td>\n",
       "      <td>DatetimeIndex(['2003-04-01 20:51:52', '2003-04...</td>\n",
       "    </tr>\n",
       "    <tr>\n",
       "      <th>4/1/2003 20:51:58</th>\n",
       "      <td>68</td>\n",
       "      <td>Sink faucet - hot</td>\n",
       "      <td>2003-04-01 20:51:58</td>\n",
       "      <td>2003-04-01 20:52:05</td>\n",
       "      <td>8</td>\n",
       "      <td>DatetimeIndex(['2003-04-01 20:51:58', '2003-04...</td>\n",
       "    </tr>\n",
       "    <tr>\n",
       "      <th>4/1/2003 20:53:36</th>\n",
       "      <td>81</td>\n",
       "      <td>Closet</td>\n",
       "      <td>2003-04-01 20:53:36</td>\n",
       "      <td>2003-04-01 20:53:43</td>\n",
       "      <td>8</td>\n",
       "      <td>DatetimeIndex(['2003-04-01 20:53:36', '2003-04...</td>\n",
       "    </tr>\n",
       "    <tr>\n",
       "      <th>4/1/2003 20:53:49</th>\n",
       "      <td>101</td>\n",
       "      <td>Light switch</td>\n",
       "      <td>2003-04-01 20:53:49</td>\n",
       "      <td>2003-04-01 21:21:43</td>\n",
       "      <td>1675</td>\n",
       "      <td>DatetimeIndex(['2003-04-01 20:53:49', '2003-04...</td>\n",
       "    </tr>\n",
       "    <tr>\n",
       "      <th>4/1/2003 20:53:52</th>\n",
       "      <td>93</td>\n",
       "      <td>Shower faucet</td>\n",
       "      <td>2003-04-01 20:53:52</td>\n",
       "      <td>2003-04-01 20:58:42</td>\n",
       "      <td>291</td>\n",
       "      <td>DatetimeIndex(['2003-04-01 20:53:52', '2003-04...</td>\n",
       "    </tr>\n",
       "  </tbody>\n",
       "</table>\n",
       "</div>"
      ],
      "text/plain": [
       "                  subActNum             subAct               start  \\\n",
       "4/1/2003 20:51:52       100       Toilet Flush 2003-04-01 20:51:52   \n",
       "4/1/2003 20:51:58        68  Sink faucet - hot 2003-04-01 20:51:58   \n",
       "4/1/2003 20:53:36        81             Closet 2003-04-01 20:53:36   \n",
       "4/1/2003 20:53:49       101       Light switch 2003-04-01 20:53:49   \n",
       "4/1/2003 20:53:52        93      Shower faucet 2003-04-01 20:53:52   \n",
       "\n",
       "                                  end  actDuration  \\\n",
       "4/1/2003 20:51:52 2003-04-01 21:05:20          809   \n",
       "4/1/2003 20:51:58 2003-04-01 20:52:05            8   \n",
       "4/1/2003 20:53:36 2003-04-01 20:53:43            8   \n",
       "4/1/2003 20:53:49 2003-04-01 21:21:43         1675   \n",
       "4/1/2003 20:53:52 2003-04-01 20:58:42          291   \n",
       "\n",
       "                                                       timeStampList  \n",
       "4/1/2003 20:51:52  DatetimeIndex(['2003-04-01 20:51:52', '2003-04...  \n",
       "4/1/2003 20:51:58  DatetimeIndex(['2003-04-01 20:51:58', '2003-04...  \n",
       "4/1/2003 20:53:36  DatetimeIndex(['2003-04-01 20:53:36', '2003-04...  \n",
       "4/1/2003 20:53:49  DatetimeIndex(['2003-04-01 20:53:49', '2003-04...  \n",
       "4/1/2003 20:53:52  DatetimeIndex(['2003-04-01 20:53:52', '2003-04...  "
      ]
     },
     "execution_count": 57,
     "metadata": {},
     "output_type": "execute_result"
    }
   ],
   "source": [
    "cleanDF = cleanDF.set_index(start)\n",
    "cleanDF.head(n=5)"
   ]
  },
  {
   "cell_type": "code",
   "execution_count": 58,
   "metadata": {},
   "outputs": [],
   "source": [
    "##text = pd.melt(cleanDF, id_vars = ['subAct'], value_vars = cleanDF.iloc[[5],:]) \n",
    "# Data must be 1D\n",
    "##text = pd.melt(cleanDF, id_vars = ['subAct'], value_vars = cleanDF.timeStampList)\n",
    "# TypeError: unhashable type: 'DatetimeIndex'"
   ]
  },
  {
   "cell_type": "code",
   "execution_count": 59,
   "metadata": {},
   "outputs": [
    {
     "data": {
      "text/html": [
       "<div>\n",
       "<style scoped>\n",
       "    .dataframe tbody tr th:only-of-type {\n",
       "        vertical-align: middle;\n",
       "    }\n",
       "\n",
       "    .dataframe tbody tr th {\n",
       "        vertical-align: top;\n",
       "    }\n",
       "\n",
       "    .dataframe thead th {\n",
       "        text-align: right;\n",
       "    }\n",
       "</style>\n",
       "<table border=\"1\" class=\"dataframe\">\n",
       "  <thead>\n",
       "    <tr style=\"text-align: right;\">\n",
       "      <th></th>\n",
       "      <th>subActNum</th>\n",
       "      <th>subAct</th>\n",
       "      <th>start</th>\n",
       "      <th>end</th>\n",
       "      <th>actDuration</th>\n",
       "      <th>timeStampList</th>\n",
       "    </tr>\n",
       "  </thead>\n",
       "  <tbody>\n",
       "    <tr>\n",
       "      <th>4/1/2003 20:51:52</th>\n",
       "      <td>100</td>\n",
       "      <td>Toilet Flush</td>\n",
       "      <td>2003-04-01 20:51:52</td>\n",
       "      <td>2003-04-01 21:05:20</td>\n",
       "      <td>809</td>\n",
       "      <td>DatetimeIndex(['2003-04-01 20:51:52', '2003-04...</td>\n",
       "    </tr>\n",
       "    <tr>\n",
       "      <th>4/1/2003 20:51:58</th>\n",
       "      <td>68</td>\n",
       "      <td>Sink faucet - hot</td>\n",
       "      <td>2003-04-01 20:51:58</td>\n",
       "      <td>2003-04-01 20:52:05</td>\n",
       "      <td>8</td>\n",
       "      <td>DatetimeIndex(['2003-04-01 20:51:58', '2003-04...</td>\n",
       "    </tr>\n",
       "    <tr>\n",
       "      <th>4/1/2003 20:53:36</th>\n",
       "      <td>81</td>\n",
       "      <td>Closet</td>\n",
       "      <td>2003-04-01 20:53:36</td>\n",
       "      <td>2003-04-01 20:53:43</td>\n",
       "      <td>8</td>\n",
       "      <td>DatetimeIndex(['2003-04-01 20:53:36', '2003-04...</td>\n",
       "    </tr>\n",
       "    <tr>\n",
       "      <th>4/1/2003 20:53:49</th>\n",
       "      <td>101</td>\n",
       "      <td>Light switch</td>\n",
       "      <td>2003-04-01 20:53:49</td>\n",
       "      <td>2003-04-01 21:21:43</td>\n",
       "      <td>1675</td>\n",
       "      <td>DatetimeIndex(['2003-04-01 20:53:49', '2003-04...</td>\n",
       "    </tr>\n",
       "    <tr>\n",
       "      <th>4/1/2003 20:53:52</th>\n",
       "      <td>93</td>\n",
       "      <td>Shower faucet</td>\n",
       "      <td>2003-04-01 20:53:52</td>\n",
       "      <td>2003-04-01 20:58:42</td>\n",
       "      <td>291</td>\n",
       "      <td>DatetimeIndex(['2003-04-01 20:53:52', '2003-04...</td>\n",
       "    </tr>\n",
       "  </tbody>\n",
       "</table>\n",
       "</div>"
      ],
      "text/plain": [
       "                  subActNum             subAct               start  \\\n",
       "4/1/2003 20:51:52       100       Toilet Flush 2003-04-01 20:51:52   \n",
       "4/1/2003 20:51:58        68  Sink faucet - hot 2003-04-01 20:51:58   \n",
       "4/1/2003 20:53:36        81             Closet 2003-04-01 20:53:36   \n",
       "4/1/2003 20:53:49       101       Light switch 2003-04-01 20:53:49   \n",
       "4/1/2003 20:53:52        93      Shower faucet 2003-04-01 20:53:52   \n",
       "\n",
       "                                  end  actDuration  \\\n",
       "4/1/2003 20:51:52 2003-04-01 21:05:20          809   \n",
       "4/1/2003 20:51:58 2003-04-01 20:52:05            8   \n",
       "4/1/2003 20:53:36 2003-04-01 20:53:43            8   \n",
       "4/1/2003 20:53:49 2003-04-01 21:21:43         1675   \n",
       "4/1/2003 20:53:52 2003-04-01 20:58:42          291   \n",
       "\n",
       "                                                       timeStampList  \n",
       "4/1/2003 20:51:52  DatetimeIndex(['2003-04-01 20:51:52', '2003-04...  \n",
       "4/1/2003 20:51:58  DatetimeIndex(['2003-04-01 20:51:58', '2003-04...  \n",
       "4/1/2003 20:53:36  DatetimeIndex(['2003-04-01 20:53:36', '2003-04...  \n",
       "4/1/2003 20:53:49  DatetimeIndex(['2003-04-01 20:53:49', '2003-04...  \n",
       "4/1/2003 20:53:52  DatetimeIndex(['2003-04-01 20:53:52', '2003-04...  "
      ]
     },
     "execution_count": 59,
     "metadata": {},
     "output_type": "execute_result"
    }
   ],
   "source": [
    "test = cleanDF\n",
    "test.head(n=5)"
   ]
  },
  {
   "cell_type": "code",
   "execution_count": 64,
   "metadata": {},
   "outputs": [
    {
     "data": {
      "text/plain": [
       "2772"
      ]
     },
     "execution_count": 64,
     "metadata": {},
     "output_type": "execute_result"
    }
   ],
   "source": [
    "# Checking the length of TEST\n",
    "len(test)"
   ]
  },
  {
   "cell_type": "code",
   "execution_count": 66,
   "metadata": {},
   "outputs": [],
   "source": [
    "def chunks(l, n):\n",
    "    \"\"\"Yield successive n-sized chunks from l.\"\"\"\n",
    "    for i in range(0, len(l), n):\n",
    "        yield l[i:i + n]"
   ]
  },
  {
   "cell_type": "code",
   "execution_count": 69,
   "metadata": {},
   "outputs": [],
   "source": [
    "chunkTest = chunks(test, 40)\n",
    "# https://stackoverflow.com/questions/312443/how-do-you-split-a-list-into-evenly-sized-chunks"
   ]
  },
  {
   "cell_type": "code",
   "execution_count": 70,
   "metadata": {},
   "outputs": [
    {
     "ename": "TypeError",
     "evalue": "'generator' object is not subscriptable",
     "output_type": "error",
     "traceback": [
      "\u001b[1;31m---------------------------------------------------------------------------\u001b[0m",
      "\u001b[1;31mTypeError\u001b[0m                                 Traceback (most recent call last)",
      "\u001b[1;32m<ipython-input-70-9931706d45d9>\u001b[0m in \u001b[0;36m<module>\u001b[1;34m\u001b[0m\n\u001b[1;32m----> 1\u001b[1;33m \u001b[0mchunkTest\u001b[0m\u001b[1;33m[\u001b[0m\u001b[1;36m0\u001b[0m\u001b[1;33m]\u001b[0m\u001b[1;33m\u001b[0m\u001b[1;33m\u001b[0m\u001b[0m\n\u001b[0m",
      "\u001b[1;31mTypeError\u001b[0m: 'generator' object is not subscriptable"
     ]
    }
   ],
   "source": [
    "chunkTest[0]"
   ]
  },
  {
   "cell_type": "code",
   "execution_count": null,
   "metadata": {},
   "outputs": [],
   "source": [
    "#text = pd.melt(cleanDF, id_vars = ['subAct'], value_vars = cleanDF.timeStampList) \n",
    "new = test.timeStampList.apply(pd.Series) \\\n",
    "    .merge(test, right_index = True, left_index = True) \\\n",
    "    .drop([\"timeStampList\"], axis = 1) \\\n",
    "    .melt(id_vars = ['subActNum'], value_name = \"timeStampList\") \\\n",
    "    .drop(\"variable\", axis = 1) \\\n",
    "    .dropna()\n",
    "new.to_csv('subActNum.csv',index=False)"
   ]
  },
  {
   "cell_type": "code",
   "execution_count": null,
   "metadata": {},
   "outputs": [],
   "source": [
    "new = test.timeStampList.apply(pd.Series) \\\n",
    "    .merge(test, right_index = True, left_index = True) \\\n",
    "    .drop([\"timeStampList\"], axis = 1) \\\n",
    "    .melt(id_vars = ['subAct'], value_name = \"timeStampList\") \\\n",
    "    .drop(\"variable\", axis = 1) \\\n",
    "    .dropna()\n",
    "new.to_csv('subAct.csv',index=False)"
   ]
  },
  {
   "cell_type": "code",
   "execution_count": null,
   "metadata": {},
   "outputs": [],
   "source": [
    "new = test.timeStampList.apply(pd.Series) \\\n",
    "    .merge(test, right_index = True, left_index = True) \\\n",
    "    .drop([\"timeStampList\"], axis = 1) \\\n",
    "    .melt(id_vars = ['start'], value_name = \"timeStampList\") \\\n",
    "    .drop(\"variable\", axis = 1) \\\n",
    "    .dropna()\n",
    "new.to_csv('start.csv',index=False)"
   ]
  },
  {
   "cell_type": "code",
   "execution_count": null,
   "metadata": {},
   "outputs": [],
   "source": [
    "import pandas as pd\n",
    "subActNum = pd.read_csv('subActNum.csv', index_col = None)\n",
    "subAct = pd.read_csv('subAct.csv', index_col = None)\n",
    "start = pd.read_csv('Start.csv', index_col = None)"
   ]
  },
  {
   "cell_type": "code",
   "execution_count": null,
   "metadata": {},
   "outputs": [],
   "source": [
    "subActNum.head(n=5)"
   ]
  },
  {
   "cell_type": "code",
   "execution_count": null,
   "metadata": {},
   "outputs": [],
   "source": [
    "len(subAct)"
   ]
  },
  {
   "cell_type": "code",
   "execution_count": null,
   "metadata": {},
   "outputs": [],
   "source": [
    "checkStart = start.set_index('start')\n",
    "checkStart"
   ]
  },
  {
   "cell_type": "code",
   "execution_count": null,
   "metadata": {},
   "outputs": [],
   "source": [
    "result = pd.merge(subActNum, subAct, how='inner', on=['timeStampList', 'timeStampList'])"
   ]
  },
  {
   "cell_type": "code",
   "execution_count": null,
   "metadata": {},
   "outputs": [],
   "source": [
    "result2 = pd.merge(result, start, how='inner', on=['timeStampList', 'timeStampList'])\n",
    "result2.to_csv('result2.csv',index=False)"
   ]
  },
  {
   "cell_type": "code",
   "execution_count": null,
   "metadata": {},
   "outputs": [],
   "source": [
    "df3 = result2.set_index('start')"
   ]
  }
 ],
 "metadata": {
  "kernelspec": {
   "display_name": "Python 3",
   "language": "python",
   "name": "python3"
  },
  "language_info": {
   "codemirror_mode": {
    "name": "ipython",
    "version": 3
   },
   "file_extension": ".py",
   "mimetype": "text/x-python",
   "name": "python",
   "nbconvert_exporter": "python",
   "pygments_lexer": "ipython3",
   "version": "3.6.7"
  },
  "toc": {
   "base_numbering": 1,
   "nav_menu": {
    "height": "212px",
    "width": "581px"
   },
   "number_sections": true,
   "sideBar": true,
   "skip_h1_title": false,
   "title_cell": "Table of Contents",
   "title_sidebar": "Contents",
   "toc_cell": false,
   "toc_position": {},
   "toc_section_display": true,
   "toc_window_display": true
  },
  "varInspector": {
   "cols": {
    "lenName": 16,
    "lenType": 16,
    "lenVar": 40
   },
   "kernels_config": {
    "python": {
     "delete_cmd_postfix": "",
     "delete_cmd_prefix": "del ",
     "library": "var_list.py",
     "varRefreshCmd": "print(var_dic_list())"
    },
    "r": {
     "delete_cmd_postfix": ") ",
     "delete_cmd_prefix": "rm(",
     "library": "var_list.r",
     "varRefreshCmd": "cat(var_dic_list()) "
    }
   },
   "types_to_exclude": [
    "module",
    "function",
    "builtin_function_or_method",
    "instance",
    "_Feature"
   ],
   "window_display": false
  }
 },
 "nbformat": 4,
 "nbformat_minor": 4
}
