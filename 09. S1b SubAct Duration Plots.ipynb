{
 "cells": [
  {
   "cell_type": "code",
   "execution_count": 1,
   "metadata": {},
   "outputs": [],
   "source": [
    "import pandas as pd\n",
    "import numpy as np\n",
    "import time\n",
    "from datetime import datetime\n",
    "import altair as alt\n",
    "import pandas as pd"
   ]
  },
  {
   "cell_type": "code",
   "execution_count": null,
   "metadata": {},
   "outputs": [],
   "source": []
  },
  {
   "cell_type": "code",
   "execution_count": 2,
   "metadata": {},
   "outputs": [],
   "source": [
    "ds = pd.read_csv('S1SubActivities_preprocessed.csv', index_col = None) \n",
    "ds.start = pd.to_datetime(ds.start, format='%Y-%m-%d %H:%M:%S')\n",
    "ds.end = pd.to_datetime(ds.end, format='%Y-%m-%d %H:%M:%S')\n",
    "ds = ds.sort_values('start')\n",
    "ds.reset_index(drop = True, inplace = True)"
   ]
  },
  {
   "cell_type": "code",
   "execution_count": 3,
   "metadata": {},
   "outputs": [
    {
     "data": {
      "text/html": [
       "<div>\n",
       "<style scoped>\n",
       "    .dataframe tbody tr th:only-of-type {\n",
       "        vertical-align: middle;\n",
       "    }\n",
       "\n",
       "    .dataframe tbody tr th {\n",
       "        vertical-align: top;\n",
       "    }\n",
       "\n",
       "    .dataframe thead th {\n",
       "        text-align: right;\n",
       "    }\n",
       "</style>\n",
       "<table border=\"1\" class=\"dataframe\">\n",
       "  <thead>\n",
       "    <tr style=\"text-align: right;\">\n",
       "      <th></th>\n",
       "      <th>subActNum</th>\n",
       "      <th>subAct</th>\n",
       "      <th>start</th>\n",
       "      <th>end</th>\n",
       "    </tr>\n",
       "  </thead>\n",
       "  <tbody>\n",
       "    <tr>\n",
       "      <th>0</th>\n",
       "      <td>67</td>\n",
       "      <td>Cabinet</td>\n",
       "      <td>2003-03-27 06:43:40</td>\n",
       "      <td>2003-03-27 06:43:43</td>\n",
       "    </tr>\n",
       "    <tr>\n",
       "      <th>1</th>\n",
       "      <td>100</td>\n",
       "      <td>Toilet Flush</td>\n",
       "      <td>2003-03-27 06:44:06</td>\n",
       "      <td>2003-03-27 07:12:41</td>\n",
       "    </tr>\n",
       "  </tbody>\n",
       "</table>\n",
       "</div>"
      ],
      "text/plain": [
       "   subActNum        subAct               start                 end\n",
       "0         67       Cabinet 2003-03-27 06:43:40 2003-03-27 06:43:43\n",
       "1        100  Toilet Flush 2003-03-27 06:44:06 2003-03-27 07:12:41"
      ]
     },
     "execution_count": 3,
     "metadata": {},
     "output_type": "execute_result"
    }
   ],
   "source": [
    "ds.head(n=2)"
   ]
  },
  {
   "cell_type": "code",
   "execution_count": 4,
   "metadata": {},
   "outputs": [],
   "source": [
    "ds.set_index(ds.start, inplace = True)\n",
    "ds.insert((len(ds.columns)), \"DAY\", ds.index.dayofweek.astype(str), True)\n",
    "ds.insert((len(ds.columns)), \"WDWE\", ds.index.dayofweek.astype(str), True) #"
   ]
  },
  {
   "cell_type": "code",
   "execution_count": 5,
   "metadata": {},
   "outputs": [
    {
     "data": {
      "text/html": [
       "<div>\n",
       "<style scoped>\n",
       "    .dataframe tbody tr th:only-of-type {\n",
       "        vertical-align: middle;\n",
       "    }\n",
       "\n",
       "    .dataframe tbody tr th {\n",
       "        vertical-align: top;\n",
       "    }\n",
       "\n",
       "    .dataframe thead th {\n",
       "        text-align: right;\n",
       "    }\n",
       "</style>\n",
       "<table border=\"1\" class=\"dataframe\">\n",
       "  <thead>\n",
       "    <tr style=\"text-align: right;\">\n",
       "      <th></th>\n",
       "      <th>subActNum</th>\n",
       "      <th>subAct</th>\n",
       "      <th>start</th>\n",
       "      <th>end</th>\n",
       "      <th>DAY</th>\n",
       "      <th>WDWE</th>\n",
       "    </tr>\n",
       "    <tr>\n",
       "      <th>start</th>\n",
       "      <th></th>\n",
       "      <th></th>\n",
       "      <th></th>\n",
       "      <th></th>\n",
       "      <th></th>\n",
       "      <th></th>\n",
       "    </tr>\n",
       "  </thead>\n",
       "  <tbody>\n",
       "    <tr>\n",
       "      <th>2003-03-27 06:43:40</th>\n",
       "      <td>67</td>\n",
       "      <td>Cabinet</td>\n",
       "      <td>2003-03-27 06:43:40</td>\n",
       "      <td>2003-03-27 06:43:43</td>\n",
       "      <td>3</td>\n",
       "      <td>3</td>\n",
       "    </tr>\n",
       "    <tr>\n",
       "      <th>2003-03-27 06:44:06</th>\n",
       "      <td>100</td>\n",
       "      <td>Toilet Flush</td>\n",
       "      <td>2003-03-27 06:44:06</td>\n",
       "      <td>2003-03-27 07:12:41</td>\n",
       "      <td>3</td>\n",
       "      <td>3</td>\n",
       "    </tr>\n",
       "  </tbody>\n",
       "</table>\n",
       "</div>"
      ],
      "text/plain": [
       "                     subActNum        subAct               start  \\\n",
       "start                                                              \n",
       "2003-03-27 06:43:40         67       Cabinet 2003-03-27 06:43:40   \n",
       "2003-03-27 06:44:06        100  Toilet Flush 2003-03-27 06:44:06   \n",
       "\n",
       "                                    end DAY WDWE  \n",
       "start                                             \n",
       "2003-03-27 06:43:40 2003-03-27 06:43:43   3    3  \n",
       "2003-03-27 06:44:06 2003-03-27 07:12:41   3    3  "
      ]
     },
     "execution_count": 5,
     "metadata": {},
     "output_type": "execute_result"
    }
   ],
   "source": [
    "ds.head(n=2)"
   ]
  },
  {
   "cell_type": "code",
   "execution_count": 6,
   "metadata": {},
   "outputs": [],
   "source": [
    "dayNumKeyWithDAYDict = pd.Series(['Mon','Tue','Wed','Thu','Fri','Sat','Sun'], ['0','1','2','3','4','5','6']).to_dict()\n",
    "#dayNumKeyWithDAYDict\n",
    "dayNumKeyWithWDWEDict = pd.Series(['WD','WD','WD','WD','WD','WE','WE'], ['0','1','2','3','4','5','6']).to_dict()\n",
    "#dayNumKeyWithWDWEDict"
   ]
  },
  {
   "cell_type": "markdown",
   "metadata": {},
   "source": [
    "1. Set specified column as index\n",
    "2. Extract dayofweek from index (ds.index.dayofweek.astype(str)), as this as an attribute\n",
    "3. Replace '0' with 'mon' and so on\n",
    "4. Duplic"
   ]
  },
  {
   "cell_type": "code",
   "execution_count": 8,
   "metadata": {},
   "outputs": [],
   "source": [
    "ds = ds.replace({\"DAY\": dayNumKeyWithDAYDict})"
   ]
  },
  {
   "cell_type": "code",
   "execution_count": 9,
   "metadata": {},
   "outputs": [
    {
     "data": {
      "text/html": [
       "<div>\n",
       "<style scoped>\n",
       "    .dataframe tbody tr th:only-of-type {\n",
       "        vertical-align: middle;\n",
       "    }\n",
       "\n",
       "    .dataframe tbody tr th {\n",
       "        vertical-align: top;\n",
       "    }\n",
       "\n",
       "    .dataframe thead th {\n",
       "        text-align: right;\n",
       "    }\n",
       "</style>\n",
       "<table border=\"1\" class=\"dataframe\">\n",
       "  <thead>\n",
       "    <tr style=\"text-align: right;\">\n",
       "      <th></th>\n",
       "      <th>subActNum</th>\n",
       "      <th>subAct</th>\n",
       "      <th>start</th>\n",
       "      <th>end</th>\n",
       "      <th>DAY</th>\n",
       "      <th>WDWE</th>\n",
       "    </tr>\n",
       "    <tr>\n",
       "      <th>start</th>\n",
       "      <th></th>\n",
       "      <th></th>\n",
       "      <th></th>\n",
       "      <th></th>\n",
       "      <th></th>\n",
       "      <th></th>\n",
       "    </tr>\n",
       "  </thead>\n",
       "  <tbody>\n",
       "    <tr>\n",
       "      <th>2003-03-27 06:43:40</th>\n",
       "      <td>67</td>\n",
       "      <td>Cabinet</td>\n",
       "      <td>2003-03-27 06:43:40</td>\n",
       "      <td>2003-03-27 06:43:43</td>\n",
       "      <td>Thu</td>\n",
       "      <td>3</td>\n",
       "    </tr>\n",
       "    <tr>\n",
       "      <th>2003-03-27 06:44:06</th>\n",
       "      <td>100</td>\n",
       "      <td>Toilet Flush</td>\n",
       "      <td>2003-03-27 06:44:06</td>\n",
       "      <td>2003-03-27 07:12:41</td>\n",
       "      <td>Thu</td>\n",
       "      <td>3</td>\n",
       "    </tr>\n",
       "    <tr>\n",
       "      <th>2003-03-27 06:44:20</th>\n",
       "      <td>101</td>\n",
       "      <td>Light switch</td>\n",
       "      <td>2003-03-27 06:44:20</td>\n",
       "      <td>2003-03-27 07:46:34</td>\n",
       "      <td>Thu</td>\n",
       "      <td>3</td>\n",
       "    </tr>\n",
       "    <tr>\n",
       "      <th>2003-03-27 06:44:35</th>\n",
       "      <td>57</td>\n",
       "      <td>Medicine cabinet</td>\n",
       "      <td>2003-03-27 06:44:35</td>\n",
       "      <td>2003-03-27 06:44:48</td>\n",
       "      <td>Thu</td>\n",
       "      <td>3</td>\n",
       "    </tr>\n",
       "    <tr>\n",
       "      <th>2003-03-27 06:44:36</th>\n",
       "      <td>58</td>\n",
       "      <td>Medicine cabinet</td>\n",
       "      <td>2003-03-27 06:44:36</td>\n",
       "      <td>2003-03-27 06:44:48</td>\n",
       "      <td>Thu</td>\n",
       "      <td>3</td>\n",
       "    </tr>\n",
       "    <tr>\n",
       "      <th>2003-03-27 06:44:49</th>\n",
       "      <td>67</td>\n",
       "      <td>Cabinet</td>\n",
       "      <td>2003-03-27 06:44:49</td>\n",
       "      <td>2003-03-27 06:44:56</td>\n",
       "      <td>Thu</td>\n",
       "      <td>3</td>\n",
       "    </tr>\n",
       "    <tr>\n",
       "      <th>2003-03-27 06:45:45</th>\n",
       "      <td>82</td>\n",
       "      <td>Drawer</td>\n",
       "      <td>2003-03-27 06:45:45</td>\n",
       "      <td>2003-03-27 06:45:48</td>\n",
       "      <td>Thu</td>\n",
       "      <td>3</td>\n",
       "    </tr>\n",
       "    <tr>\n",
       "      <th>2003-03-27 06:46:12</th>\n",
       "      <td>71</td>\n",
       "      <td>Drawer</td>\n",
       "      <td>2003-03-27 06:46:12</td>\n",
       "      <td>2003-03-27 06:46:20</td>\n",
       "      <td>Thu</td>\n",
       "      <td>3</td>\n",
       "    </tr>\n",
       "    <tr>\n",
       "      <th>2003-03-27 06:51:43</th>\n",
       "      <td>80</td>\n",
       "      <td>Cabinet</td>\n",
       "      <td>2003-03-27 06:51:43</td>\n",
       "      <td>2003-03-27 06:51:46</td>\n",
       "      <td>Thu</td>\n",
       "      <td>3</td>\n",
       "    </tr>\n",
       "    <tr>\n",
       "      <th>2003-03-27 06:54:09</th>\n",
       "      <td>143</td>\n",
       "      <td>Microwave</td>\n",
       "      <td>2003-03-27 06:54:09</td>\n",
       "      <td>2003-03-27 13:07:43</td>\n",
       "      <td>Thu</td>\n",
       "      <td>3</td>\n",
       "    </tr>\n",
       "    <tr>\n",
       "      <th>2003-03-27 06:54:16</th>\n",
       "      <td>55</td>\n",
       "      <td>Cabinet</td>\n",
       "      <td>2003-03-27 06:54:16</td>\n",
       "      <td>2003-03-27 06:54:19</td>\n",
       "      <td>Thu</td>\n",
       "      <td>3</td>\n",
       "    </tr>\n",
       "    <tr>\n",
       "      <th>2003-03-27 06:57:05</th>\n",
       "      <td>54</td>\n",
       "      <td>Door</td>\n",
       "      <td>2003-03-27 06:57:05</td>\n",
       "      <td>2003-03-27 06:57:08</td>\n",
       "      <td>Thu</td>\n",
       "      <td>3</td>\n",
       "    </tr>\n",
       "    <tr>\n",
       "      <th>2003-03-27 07:04:55</th>\n",
       "      <td>54</td>\n",
       "      <td>Door</td>\n",
       "      <td>2003-03-27 07:04:55</td>\n",
       "      <td>2003-03-27 07:04:57</td>\n",
       "      <td>Thu</td>\n",
       "      <td>3</td>\n",
       "    </tr>\n",
       "    <tr>\n",
       "      <th>2003-03-27 07:05:22</th>\n",
       "      <td>93</td>\n",
       "      <td>Shower faucet</td>\n",
       "      <td>2003-03-27 07:05:22</td>\n",
       "      <td>2003-03-27 07:05:24</td>\n",
       "      <td>Thu</td>\n",
       "      <td>3</td>\n",
       "    </tr>\n",
       "    <tr>\n",
       "      <th>2003-03-27 07:05:39</th>\n",
       "      <td>72</td>\n",
       "      <td>Cabinet</td>\n",
       "      <td>2003-03-27 07:05:39</td>\n",
       "      <td>2003-03-27 07:05:57</td>\n",
       "      <td>Thu</td>\n",
       "      <td>3</td>\n",
       "    </tr>\n",
       "    <tr>\n",
       "      <th>2003-03-27 07:11:23</th>\n",
       "      <td>67</td>\n",
       "      <td>Cabinet</td>\n",
       "      <td>2003-03-27 07:11:23</td>\n",
       "      <td>2003-03-27 07:11:27</td>\n",
       "      <td>Thu</td>\n",
       "      <td>3</td>\n",
       "    </tr>\n",
       "    <tr>\n",
       "      <th>2003-03-27 07:34:05</th>\n",
       "      <td>57</td>\n",
       "      <td>Medicine cabinet</td>\n",
       "      <td>2003-03-27 07:34:05</td>\n",
       "      <td>2003-03-27 07:42:38</td>\n",
       "      <td>Thu</td>\n",
       "      <td>3</td>\n",
       "    </tr>\n",
       "    <tr>\n",
       "      <th>2003-03-27 07:34:47</th>\n",
       "      <td>100</td>\n",
       "      <td>Toilet Flush</td>\n",
       "      <td>2003-03-27 07:34:47</td>\n",
       "      <td>2003-03-27 12:26:27</td>\n",
       "      <td>Thu</td>\n",
       "      <td>3</td>\n",
       "    </tr>\n",
       "    <tr>\n",
       "      <th>2003-03-27 07:35:27</th>\n",
       "      <td>82</td>\n",
       "      <td>Drawer</td>\n",
       "      <td>2003-03-27 07:35:27</td>\n",
       "      <td>2003-03-27 07:35:34</td>\n",
       "      <td>Thu</td>\n",
       "      <td>3</td>\n",
       "    </tr>\n",
       "    <tr>\n",
       "      <th>2003-03-27 07:35:50</th>\n",
       "      <td>75</td>\n",
       "      <td>Drawer</td>\n",
       "      <td>2003-03-27 07:35:50</td>\n",
       "      <td>2003-03-27 07:35:56</td>\n",
       "      <td>Thu</td>\n",
       "      <td>3</td>\n",
       "    </tr>\n",
       "    <tr>\n",
       "      <th>2003-03-27 07:36:23</th>\n",
       "      <td>82</td>\n",
       "      <td>Drawer</td>\n",
       "      <td>2003-03-27 07:36:23</td>\n",
       "      <td>2003-03-27 07:36:27</td>\n",
       "      <td>Thu</td>\n",
       "      <td>3</td>\n",
       "    </tr>\n",
       "    <tr>\n",
       "      <th>2003-03-27 07:37:18</th>\n",
       "      <td>75</td>\n",
       "      <td>Drawer</td>\n",
       "      <td>2003-03-27 07:37:18</td>\n",
       "      <td>2003-03-27 07:37:43</td>\n",
       "      <td>Thu</td>\n",
       "      <td>3</td>\n",
       "    </tr>\n",
       "    <tr>\n",
       "      <th>2003-03-27 07:38:48</th>\n",
       "      <td>84</td>\n",
       "      <td>Drawer</td>\n",
       "      <td>2003-03-27 07:38:48</td>\n",
       "      <td>2003-03-27 07:38:51</td>\n",
       "      <td>Thu</td>\n",
       "      <td>3</td>\n",
       "    </tr>\n",
       "    <tr>\n",
       "      <th>2003-03-27 07:38:48</th>\n",
       "      <td>84</td>\n",
       "      <td>Drawer</td>\n",
       "      <td>2003-03-27 07:38:48</td>\n",
       "      <td>2003-03-27 07:38:51</td>\n",
       "      <td>Thu</td>\n",
       "      <td>3</td>\n",
       "    </tr>\n",
       "    <tr>\n",
       "      <th>2003-03-27 07:39:07</th>\n",
       "      <td>72</td>\n",
       "      <td>Cabinet</td>\n",
       "      <td>2003-03-27 07:39:07</td>\n",
       "      <td>2003-03-27 07:40:27</td>\n",
       "      <td>Thu</td>\n",
       "      <td>3</td>\n",
       "    </tr>\n",
       "    <tr>\n",
       "      <th>2003-03-27 07:39:14</th>\n",
       "      <td>73</td>\n",
       "      <td>Cabinet</td>\n",
       "      <td>2003-03-27 07:39:14</td>\n",
       "      <td>2003-03-27 07:39:17</td>\n",
       "      <td>Thu</td>\n",
       "      <td>3</td>\n",
       "    </tr>\n",
       "    <tr>\n",
       "      <th>2003-03-27 07:40:32</th>\n",
       "      <td>70</td>\n",
       "      <td>Dishwasher</td>\n",
       "      <td>2003-03-27 07:40:32</td>\n",
       "      <td>2003-03-27 07:40:34</td>\n",
       "      <td>Thu</td>\n",
       "      <td>3</td>\n",
       "    </tr>\n",
       "    <tr>\n",
       "      <th>2003-03-27 07:40:46</th>\n",
       "      <td>135</td>\n",
       "      <td>Drawer</td>\n",
       "      <td>2003-03-27 07:40:46</td>\n",
       "      <td>2003-03-27 07:40:49</td>\n",
       "      <td>Thu</td>\n",
       "      <td>3</td>\n",
       "    </tr>\n",
       "    <tr>\n",
       "      <th>2003-03-27 07:41:08</th>\n",
       "      <td>91</td>\n",
       "      <td>Refrigerator</td>\n",
       "      <td>2003-03-27 07:41:08</td>\n",
       "      <td>2003-03-27 07:41:16</td>\n",
       "      <td>Thu</td>\n",
       "      <td>3</td>\n",
       "    </tr>\n",
       "    <tr>\n",
       "      <th>2003-03-27 07:41:36</th>\n",
       "      <td>73</td>\n",
       "      <td>Cabinet</td>\n",
       "      <td>2003-03-27 07:41:36</td>\n",
       "      <td>2003-03-27 07:41:37</td>\n",
       "      <td>Thu</td>\n",
       "      <td>3</td>\n",
       "    </tr>\n",
       "    <tr>\n",
       "      <th>...</th>\n",
       "      <td>...</td>\n",
       "      <td>...</td>\n",
       "      <td>...</td>\n",
       "      <td>...</td>\n",
       "      <td>...</td>\n",
       "      <td>...</td>\n",
       "    </tr>\n",
       "    <tr>\n",
       "      <th>2003-04-11 20:07:30</th>\n",
       "      <td>140</td>\n",
       "      <td>Door</td>\n",
       "      <td>2003-04-11 20:07:30</td>\n",
       "      <td>2003-04-11 20:07:35</td>\n",
       "      <td>Fri</td>\n",
       "      <td>4</td>\n",
       "    </tr>\n",
       "    <tr>\n",
       "      <th>2003-04-11 20:25:31</th>\n",
       "      <td>140</td>\n",
       "      <td>Door</td>\n",
       "      <td>2003-04-11 20:25:31</td>\n",
       "      <td>2003-04-11 20:25:36</td>\n",
       "      <td>Fri</td>\n",
       "      <td>4</td>\n",
       "    </tr>\n",
       "    <tr>\n",
       "      <th>2003-04-11 20:25:42</th>\n",
       "      <td>104</td>\n",
       "      <td>Light switch</td>\n",
       "      <td>2003-04-11 20:25:42</td>\n",
       "      <td>2003-04-11 22:22:26</td>\n",
       "      <td>Fri</td>\n",
       "      <td>4</td>\n",
       "    </tr>\n",
       "    <tr>\n",
       "      <th>2003-04-11 20:25:57</th>\n",
       "      <td>95</td>\n",
       "      <td>Light switch</td>\n",
       "      <td>2003-04-11 20:25:57</td>\n",
       "      <td>2003-04-11 22:17:17</td>\n",
       "      <td>Fri</td>\n",
       "      <td>4</td>\n",
       "    </tr>\n",
       "    <tr>\n",
       "      <th>2003-04-11 20:26:07</th>\n",
       "      <td>53</td>\n",
       "      <td>Cabinet</td>\n",
       "      <td>2003-04-11 20:26:07</td>\n",
       "      <td>2003-04-11 20:26:10</td>\n",
       "      <td>Fri</td>\n",
       "      <td>4</td>\n",
       "    </tr>\n",
       "    <tr>\n",
       "      <th>2003-04-11 20:26:11</th>\n",
       "      <td>84</td>\n",
       "      <td>Drawer</td>\n",
       "      <td>2003-04-11 20:26:11</td>\n",
       "      <td>2003-04-11 20:26:26</td>\n",
       "      <td>Fri</td>\n",
       "      <td>4</td>\n",
       "    </tr>\n",
       "    <tr>\n",
       "      <th>2003-04-11 20:26:20</th>\n",
       "      <td>53</td>\n",
       "      <td>Cabinet</td>\n",
       "      <td>2003-04-11 20:26:20</td>\n",
       "      <td>2003-04-11 20:26:23</td>\n",
       "      <td>Fri</td>\n",
       "      <td>4</td>\n",
       "    </tr>\n",
       "    <tr>\n",
       "      <th>2003-04-11 20:26:35</th>\n",
       "      <td>91</td>\n",
       "      <td>Refrigerator</td>\n",
       "      <td>2003-04-11 20:26:35</td>\n",
       "      <td>2003-04-11 20:26:40</td>\n",
       "      <td>Fri</td>\n",
       "      <td>4</td>\n",
       "    </tr>\n",
       "    <tr>\n",
       "      <th>2003-04-11 20:26:40</th>\n",
       "      <td>80</td>\n",
       "      <td>Cabinet</td>\n",
       "      <td>2003-04-11 20:26:40</td>\n",
       "      <td>2003-04-11 20:26:42</td>\n",
       "      <td>Fri</td>\n",
       "      <td>4</td>\n",
       "    </tr>\n",
       "    <tr>\n",
       "      <th>2003-04-11 20:26:53</th>\n",
       "      <td>61</td>\n",
       "      <td>Cabinet</td>\n",
       "      <td>2003-04-11 20:26:53</td>\n",
       "      <td>2003-04-11 20:27:05</td>\n",
       "      <td>Fri</td>\n",
       "      <td>4</td>\n",
       "    </tr>\n",
       "    <tr>\n",
       "      <th>2003-04-11 20:27:30</th>\n",
       "      <td>91</td>\n",
       "      <td>Refrigerator</td>\n",
       "      <td>2003-04-11 20:27:30</td>\n",
       "      <td>2003-04-11 20:27:34</td>\n",
       "      <td>Fri</td>\n",
       "      <td>4</td>\n",
       "    </tr>\n",
       "    <tr>\n",
       "      <th>2003-04-11 20:28:45</th>\n",
       "      <td>107</td>\n",
       "      <td>Light switch</td>\n",
       "      <td>2003-04-11 20:28:45</td>\n",
       "      <td>2003-04-11 22:23:55</td>\n",
       "      <td>Fri</td>\n",
       "      <td>4</td>\n",
       "    </tr>\n",
       "    <tr>\n",
       "      <th>2003-04-11 20:31:00</th>\n",
       "      <td>92</td>\n",
       "      <td>Light switch</td>\n",
       "      <td>2003-04-11 20:31:00</td>\n",
       "      <td>2003-04-11 20:31:04</td>\n",
       "      <td>Fri</td>\n",
       "      <td>4</td>\n",
       "    </tr>\n",
       "    <tr>\n",
       "      <th>2003-04-11 22:17:00</th>\n",
       "      <td>139</td>\n",
       "      <td>Jewelry box</td>\n",
       "      <td>2003-04-11 22:17:00</td>\n",
       "      <td>2003-04-11 22:17:01</td>\n",
       "      <td>Fri</td>\n",
       "      <td>4</td>\n",
       "    </tr>\n",
       "    <tr>\n",
       "      <th>2003-04-11 22:17:07</th>\n",
       "      <td>81</td>\n",
       "      <td>Closet</td>\n",
       "      <td>2003-04-11 22:17:07</td>\n",
       "      <td>2003-04-11 22:17:13</td>\n",
       "      <td>Fri</td>\n",
       "      <td>4</td>\n",
       "    </tr>\n",
       "    <tr>\n",
       "      <th>2003-04-11 22:17:34</th>\n",
       "      <td>88</td>\n",
       "      <td>Sink faucet - cold</td>\n",
       "      <td>2003-04-11 22:17:34</td>\n",
       "      <td>2003-04-11 22:18:24</td>\n",
       "      <td>Fri</td>\n",
       "      <td>4</td>\n",
       "    </tr>\n",
       "    <tr>\n",
       "      <th>2003-04-11 22:17:34</th>\n",
       "      <td>101</td>\n",
       "      <td>Light switch</td>\n",
       "      <td>2003-04-11 22:17:34</td>\n",
       "      <td>2003-04-11 22:22:21</td>\n",
       "      <td>Fri</td>\n",
       "      <td>4</td>\n",
       "    </tr>\n",
       "    <tr>\n",
       "      <th>2003-04-11 22:17:36</th>\n",
       "      <td>68</td>\n",
       "      <td>Sink faucet - hot</td>\n",
       "      <td>2003-04-11 22:17:36</td>\n",
       "      <td>2003-04-11 22:18:26</td>\n",
       "      <td>Fri</td>\n",
       "      <td>4</td>\n",
       "    </tr>\n",
       "    <tr>\n",
       "      <th>2003-04-11 22:17:39</th>\n",
       "      <td>58</td>\n",
       "      <td>Medicine cabinet</td>\n",
       "      <td>2003-04-11 22:17:39</td>\n",
       "      <td>2003-04-11 22:21:07</td>\n",
       "      <td>Fri</td>\n",
       "      <td>4</td>\n",
       "    </tr>\n",
       "    <tr>\n",
       "      <th>2003-04-11 22:17:39</th>\n",
       "      <td>57</td>\n",
       "      <td>Medicine cabinet</td>\n",
       "      <td>2003-04-11 22:17:39</td>\n",
       "      <td>2003-04-11 22:21:07</td>\n",
       "      <td>Fri</td>\n",
       "      <td>4</td>\n",
       "    </tr>\n",
       "    <tr>\n",
       "      <th>2003-04-11 22:17:50</th>\n",
       "      <td>81</td>\n",
       "      <td>Closet</td>\n",
       "      <td>2003-04-11 22:17:50</td>\n",
       "      <td>2003-04-11 22:17:55</td>\n",
       "      <td>Fri</td>\n",
       "      <td>4</td>\n",
       "    </tr>\n",
       "    <tr>\n",
       "      <th>2003-04-11 22:18:30</th>\n",
       "      <td>88</td>\n",
       "      <td>Sink faucet - cold</td>\n",
       "      <td>2003-04-11 22:18:30</td>\n",
       "      <td>2003-04-11 22:19:05</td>\n",
       "      <td>Fri</td>\n",
       "      <td>4</td>\n",
       "    </tr>\n",
       "    <tr>\n",
       "      <th>2003-04-11 22:18:32</th>\n",
       "      <td>68</td>\n",
       "      <td>Sink faucet - hot</td>\n",
       "      <td>2003-04-11 22:18:32</td>\n",
       "      <td>2003-04-11 22:19:08</td>\n",
       "      <td>Fri</td>\n",
       "      <td>4</td>\n",
       "    </tr>\n",
       "    <tr>\n",
       "      <th>2003-04-11 22:19:46</th>\n",
       "      <td>88</td>\n",
       "      <td>Sink faucet - cold</td>\n",
       "      <td>2003-04-11 22:19:46</td>\n",
       "      <td>2003-04-11 22:20:06</td>\n",
       "      <td>Fri</td>\n",
       "      <td>4</td>\n",
       "    </tr>\n",
       "    <tr>\n",
       "      <th>2003-04-11 22:19:49</th>\n",
       "      <td>68</td>\n",
       "      <td>Sink faucet - hot</td>\n",
       "      <td>2003-04-11 22:19:49</td>\n",
       "      <td>2003-04-11 22:20:08</td>\n",
       "      <td>Fri</td>\n",
       "      <td>4</td>\n",
       "    </tr>\n",
       "    <tr>\n",
       "      <th>2003-04-11 22:21:09</th>\n",
       "      <td>67</td>\n",
       "      <td>Cabinet</td>\n",
       "      <td>2003-04-11 22:21:09</td>\n",
       "      <td>2003-04-11 22:21:12</td>\n",
       "      <td>Fri</td>\n",
       "      <td>4</td>\n",
       "    </tr>\n",
       "    <tr>\n",
       "      <th>2003-04-11 22:21:54</th>\n",
       "      <td>88</td>\n",
       "      <td>Sink faucet - cold</td>\n",
       "      <td>2003-04-11 22:21:54</td>\n",
       "      <td>2003-04-11 22:21:58</td>\n",
       "      <td>Fri</td>\n",
       "      <td>4</td>\n",
       "    </tr>\n",
       "    <tr>\n",
       "      <th>2003-04-11 22:21:57</th>\n",
       "      <td>68</td>\n",
       "      <td>Sink faucet - hot</td>\n",
       "      <td>2003-04-11 22:21:57</td>\n",
       "      <td>2003-04-11 22:22:01</td>\n",
       "      <td>Fri</td>\n",
       "      <td>4</td>\n",
       "    </tr>\n",
       "    <tr>\n",
       "      <th>2003-04-11 22:22:16</th>\n",
       "      <td>57</td>\n",
       "      <td>Medicine cabinet</td>\n",
       "      <td>2003-04-11 22:22:16</td>\n",
       "      <td>2003-04-11 22:22:17</td>\n",
       "      <td>Fri</td>\n",
       "      <td>4</td>\n",
       "    </tr>\n",
       "    <tr>\n",
       "      <th>2003-04-11 22:24:05</th>\n",
       "      <td>71</td>\n",
       "      <td>Drawer</td>\n",
       "      <td>2003-04-11 22:24:05</td>\n",
       "      <td>2003-04-11 22:24:17</td>\n",
       "      <td>Fri</td>\n",
       "      <td>4</td>\n",
       "    </tr>\n",
       "  </tbody>\n",
       "</table>\n",
       "<p>2772 rows × 6 columns</p>\n",
       "</div>"
      ],
      "text/plain": [
       "                     subActNum              subAct               start  \\\n",
       "start                                                                    \n",
       "2003-03-27 06:43:40         67             Cabinet 2003-03-27 06:43:40   \n",
       "2003-03-27 06:44:06        100        Toilet Flush 2003-03-27 06:44:06   \n",
       "2003-03-27 06:44:20        101        Light switch 2003-03-27 06:44:20   \n",
       "2003-03-27 06:44:35         57    Medicine cabinet 2003-03-27 06:44:35   \n",
       "2003-03-27 06:44:36         58    Medicine cabinet 2003-03-27 06:44:36   \n",
       "...                        ...                 ...                 ...   \n",
       "2003-04-11 22:21:09         67             Cabinet 2003-04-11 22:21:09   \n",
       "2003-04-11 22:21:54         88  Sink faucet - cold 2003-04-11 22:21:54   \n",
       "2003-04-11 22:21:57         68   Sink faucet - hot 2003-04-11 22:21:57   \n",
       "2003-04-11 22:22:16         57    Medicine cabinet 2003-04-11 22:22:16   \n",
       "2003-04-11 22:24:05         71              Drawer 2003-04-11 22:24:05   \n",
       "\n",
       "                                    end  DAY WDWE  \n",
       "start                                              \n",
       "2003-03-27 06:43:40 2003-03-27 06:43:43  Thu    3  \n",
       "2003-03-27 06:44:06 2003-03-27 07:12:41  Thu    3  \n",
       "2003-03-27 06:44:20 2003-03-27 07:46:34  Thu    3  \n",
       "2003-03-27 06:44:35 2003-03-27 06:44:48  Thu    3  \n",
       "2003-03-27 06:44:36 2003-03-27 06:44:48  Thu    3  \n",
       "...                                 ...  ...  ...  \n",
       "2003-04-11 22:21:09 2003-04-11 22:21:12  Fri    4  \n",
       "2003-04-11 22:21:54 2003-04-11 22:21:58  Fri    4  \n",
       "2003-04-11 22:21:57 2003-04-11 22:22:01  Fri    4  \n",
       "2003-04-11 22:22:16 2003-04-11 22:22:17  Fri    4  \n",
       "2003-04-11 22:24:05 2003-04-11 22:24:17  Fri    4  \n",
       "\n",
       "[2772 rows x 6 columns]"
      ]
     },
     "execution_count": 9,
     "metadata": {},
     "output_type": "execute_result"
    }
   ],
   "source": [
    "ds"
   ]
  },
  {
   "cell_type": "code",
   "execution_count": 45,
   "metadata": {},
   "outputs": [],
   "source": [
    "# Pre-req = datetime is the index!\n",
    "ds.set_index(ds.start, inplace = True)\n",
    "DAY = ds.index.dayofweek.astype(str)\n",
    "ds['DAY'] = dayOfAct\n",
    "ds['DAY'].replace(['0','1','2','3','4','5','6'],\n",
    "                  ['Mon','Tue','Wed','Thu','Fri','Sat','Sun'], \n",
    "                  inplace = True)\n",
    "ds['WDWE'] = ds['DAY']\n",
    "ds['WDWE'].replace(['Mon','Tue','Wed','Thu','Fri','Sat','Sun'],\n",
    "                   ['WD','WD','WD','WD','WD','WE','WE'],\n",
    "                              inplace = True)\n",
    "ds.reset_index(drop = True, inplace = True)"
   ]
  },
  {
   "cell_type": "code",
   "execution_count": 46,
   "metadata": {},
   "outputs": [
    {
     "data": {
      "text/html": [
       "<div>\n",
       "<style scoped>\n",
       "    .dataframe tbody tr th:only-of-type {\n",
       "        vertical-align: middle;\n",
       "    }\n",
       "\n",
       "    .dataframe tbody tr th {\n",
       "        vertical-align: top;\n",
       "    }\n",
       "\n",
       "    .dataframe thead th {\n",
       "        text-align: right;\n",
       "    }\n",
       "</style>\n",
       "<table border=\"1\" class=\"dataframe\">\n",
       "  <thead>\n",
       "    <tr style=\"text-align: right;\">\n",
       "      <th></th>\n",
       "      <th>subActNum</th>\n",
       "      <th>subAct</th>\n",
       "      <th>start</th>\n",
       "      <th>end</th>\n",
       "      <th>DAY</th>\n",
       "      <th>WDWE</th>\n",
       "    </tr>\n",
       "  </thead>\n",
       "  <tbody>\n",
       "    <tr>\n",
       "      <th>0</th>\n",
       "      <td>67</td>\n",
       "      <td>Cabinet</td>\n",
       "      <td>2003-03-27 06:43:40</td>\n",
       "      <td>2003-03-27 06:43:43</td>\n",
       "      <td>Thu</td>\n",
       "      <td>WD</td>\n",
       "    </tr>\n",
       "    <tr>\n",
       "      <th>1</th>\n",
       "      <td>100</td>\n",
       "      <td>Toilet Flush</td>\n",
       "      <td>2003-03-27 06:44:06</td>\n",
       "      <td>2003-03-27 07:12:41</td>\n",
       "      <td>Thu</td>\n",
       "      <td>WD</td>\n",
       "    </tr>\n",
       "    <tr>\n",
       "      <th>2</th>\n",
       "      <td>101</td>\n",
       "      <td>Light switch</td>\n",
       "      <td>2003-03-27 06:44:20</td>\n",
       "      <td>2003-03-27 07:46:34</td>\n",
       "      <td>Thu</td>\n",
       "      <td>WD</td>\n",
       "    </tr>\n",
       "    <tr>\n",
       "      <th>3</th>\n",
       "      <td>57</td>\n",
       "      <td>Medicine cabinet</td>\n",
       "      <td>2003-03-27 06:44:35</td>\n",
       "      <td>2003-03-27 06:44:48</td>\n",
       "      <td>Thu</td>\n",
       "      <td>WD</td>\n",
       "    </tr>\n",
       "    <tr>\n",
       "      <th>4</th>\n",
       "      <td>58</td>\n",
       "      <td>Medicine cabinet</td>\n",
       "      <td>2003-03-27 06:44:36</td>\n",
       "      <td>2003-03-27 06:44:48</td>\n",
       "      <td>Thu</td>\n",
       "      <td>WD</td>\n",
       "    </tr>\n",
       "  </tbody>\n",
       "</table>\n",
       "</div>"
      ],
      "text/plain": [
       "   subActNum            subAct               start                 end  DAY  \\\n",
       "0         67           Cabinet 2003-03-27 06:43:40 2003-03-27 06:43:43  Thu   \n",
       "1        100      Toilet Flush 2003-03-27 06:44:06 2003-03-27 07:12:41  Thu   \n",
       "2        101      Light switch 2003-03-27 06:44:20 2003-03-27 07:46:34  Thu   \n",
       "3         57  Medicine cabinet 2003-03-27 06:44:35 2003-03-27 06:44:48  Thu   \n",
       "4         58  Medicine cabinet 2003-03-27 06:44:36 2003-03-27 06:44:48  Thu   \n",
       "\n",
       "  WDWE  \n",
       "0   WD  \n",
       "1   WD  \n",
       "2   WD  \n",
       "3   WD  \n",
       "4   WD  "
      ]
     },
     "execution_count": 46,
     "metadata": {},
     "output_type": "execute_result"
    }
   ],
   "source": [
    "ds.head(n=5)"
   ]
  },
  {
   "cell_type": "markdown",
   "metadata": {},
   "source": [
    "* Title with SubActNum and SubAct\n",
    "* Start Date as Thu 03 March\n",
    "* Weekends orange\n",
    "* Weekdays blue\n",
    "* 24till2\n",
    "* 3till5\n",
    "* 6till8\n",
    "* 9till11\n",
    "* 12till14\n",
    "* 15till17\n",
    "* 18till20\n",
    "* 21till23"
   ]
  },
  {
   "cell_type": "code",
   "execution_count": 4,
   "metadata": {},
   "outputs": [],
   "source": [
    "# Unique subActNum list\n",
    "unique_list = []\n",
    "for x in ds.subActNum:                     # Traverse for all elements \n",
    "    if x not in unique_list:            # Check if exists in unique_list or not \n",
    "        unique_list.append(x)     "
   ]
  },
  {
   "cell_type": "code",
   "execution_count": 10,
   "metadata": {},
   "outputs": [],
   "source": [
    "cars = pd.read_csv('auto-mpg.csv',index_col='car name')"
   ]
  },
  {
   "cell_type": "code",
   "execution_count": 12,
   "metadata": {},
   "outputs": [
    {
     "data": {
      "text/html": [
       "<div>\n",
       "<style scoped>\n",
       "    .dataframe tbody tr th:only-of-type {\n",
       "        vertical-align: middle;\n",
       "    }\n",
       "\n",
       "    .dataframe tbody tr th {\n",
       "        vertical-align: top;\n",
       "    }\n",
       "\n",
       "    .dataframe thead th {\n",
       "        text-align: right;\n",
       "    }\n",
       "</style>\n",
       "<table border=\"1\" class=\"dataframe\">\n",
       "  <thead>\n",
       "    <tr style=\"text-align: right;\">\n",
       "      <th></th>\n",
       "      <th>mpg</th>\n",
       "      <th>cylinders</th>\n",
       "      <th>displacement</th>\n",
       "      <th>horsepower</th>\n",
       "      <th>weight</th>\n",
       "      <th>acceleration</th>\n",
       "      <th>model year</th>\n",
       "      <th>origin</th>\n",
       "    </tr>\n",
       "    <tr>\n",
       "      <th>car name</th>\n",
       "      <th></th>\n",
       "      <th></th>\n",
       "      <th></th>\n",
       "      <th></th>\n",
       "      <th></th>\n",
       "      <th></th>\n",
       "      <th></th>\n",
       "      <th></th>\n",
       "    </tr>\n",
       "  </thead>\n",
       "  <tbody>\n",
       "    <tr>\n",
       "      <th>chevrolet chevelle malibu</th>\n",
       "      <td>18.0</td>\n",
       "      <td>8</td>\n",
       "      <td>307.0</td>\n",
       "      <td>130</td>\n",
       "      <td>3504</td>\n",
       "      <td>12.0</td>\n",
       "      <td>70</td>\n",
       "      <td>1</td>\n",
       "    </tr>\n",
       "    <tr>\n",
       "      <th>buick skylark 320</th>\n",
       "      <td>15.0</td>\n",
       "      <td>8</td>\n",
       "      <td>350.0</td>\n",
       "      <td>165</td>\n",
       "      <td>3693</td>\n",
       "      <td>11.5</td>\n",
       "      <td>70</td>\n",
       "      <td>1</td>\n",
       "    </tr>\n",
       "    <tr>\n",
       "      <th>plymouth satellite</th>\n",
       "      <td>18.0</td>\n",
       "      <td>8</td>\n",
       "      <td>318.0</td>\n",
       "      <td>150</td>\n",
       "      <td>3436</td>\n",
       "      <td>11.0</td>\n",
       "      <td>70</td>\n",
       "      <td>1</td>\n",
       "    </tr>\n",
       "    <tr>\n",
       "      <th>amc rebel sst</th>\n",
       "      <td>16.0</td>\n",
       "      <td>8</td>\n",
       "      <td>304.0</td>\n",
       "      <td>150</td>\n",
       "      <td>3433</td>\n",
       "      <td>12.0</td>\n",
       "      <td>70</td>\n",
       "      <td>1</td>\n",
       "    </tr>\n",
       "    <tr>\n",
       "      <th>ford torino</th>\n",
       "      <td>17.0</td>\n",
       "      <td>8</td>\n",
       "      <td>302.0</td>\n",
       "      <td>140</td>\n",
       "      <td>3449</td>\n",
       "      <td>10.5</td>\n",
       "      <td>70</td>\n",
       "      <td>1</td>\n",
       "    </tr>\n",
       "  </tbody>\n",
       "</table>\n",
       "</div>"
      ],
      "text/plain": [
       "                            mpg  cylinders  displacement horsepower  weight  \\\n",
       "car name                                                                      \n",
       "chevrolet chevelle malibu  18.0          8         307.0        130    3504   \n",
       "buick skylark 320          15.0          8         350.0        165    3693   \n",
       "plymouth satellite         18.0          8         318.0        150    3436   \n",
       "amc rebel sst              16.0          8         304.0        150    3433   \n",
       "ford torino                17.0          8         302.0        140    3449   \n",
       "\n",
       "                           acceleration  model year  origin  \n",
       "car name                                                     \n",
       "chevrolet chevelle malibu          12.0          70       1  \n",
       "buick skylark 320                  11.5          70       1  \n",
       "plymouth satellite                 11.0          70       1  \n",
       "amc rebel sst                      12.0          70       1  \n",
       "ford torino                        10.5          70       1  "
      ]
     },
     "execution_count": 12,
     "metadata": {},
     "output_type": "execute_result"
    }
   ],
   "source": [
    "cars.head(n=5)"
   ]
  },
  {
   "cell_type": "code",
   "execution_count": 14,
   "metadata": {},
   "outputs": [
    {
     "data": {
      "application/vnd.vegalite.v3+json": {
       "$schema": "https://vega.github.io/schema/vega-lite/v3.2.1.json",
       "config": {
        "mark": {
         "tooltip": null
        },
        "view": {
         "height": 300,
         "width": 400
        }
       },
       "data": {
        "name": "data-0b25d0b50cf28a82b5dcadb7d45f0bc1"
       },
       "datasets": {
        "data-0b25d0b50cf28a82b5dcadb7d45f0bc1": [
         {
          "acceleration": 12,
          "cylinders": 8,
          "displacement": 307,
          "horsepower": "130",
          "model year": 70,
          "mpg": 18,
          "origin": 1,
          "weight": 3504
         },
         {
          "acceleration": 11.5,
          "cylinders": 8,
          "displacement": 350,
          "horsepower": "165",
          "model year": 70,
          "mpg": 15,
          "origin": 1,
          "weight": 3693
         },
         {
          "acceleration": 11,
          "cylinders": 8,
          "displacement": 318,
          "horsepower": "150",
          "model year": 70,
          "mpg": 18,
          "origin": 1,
          "weight": 3436
         },
         {
          "acceleration": 12,
          "cylinders": 8,
          "displacement": 304,
          "horsepower": "150",
          "model year": 70,
          "mpg": 16,
          "origin": 1,
          "weight": 3433
         },
         {
          "acceleration": 10.5,
          "cylinders": 8,
          "displacement": 302,
          "horsepower": "140",
          "model year": 70,
          "mpg": 17,
          "origin": 1,
          "weight": 3449
         },
         {
          "acceleration": 10,
          "cylinders": 8,
          "displacement": 429,
          "horsepower": "198",
          "model year": 70,
          "mpg": 15,
          "origin": 1,
          "weight": 4341
         },
         {
          "acceleration": 9,
          "cylinders": 8,
          "displacement": 454,
          "horsepower": "220",
          "model year": 70,
          "mpg": 14,
          "origin": 1,
          "weight": 4354
         },
         {
          "acceleration": 8.5,
          "cylinders": 8,
          "displacement": 440,
          "horsepower": "215",
          "model year": 70,
          "mpg": 14,
          "origin": 1,
          "weight": 4312
         },
         {
          "acceleration": 10,
          "cylinders": 8,
          "displacement": 455,
          "horsepower": "225",
          "model year": 70,
          "mpg": 14,
          "origin": 1,
          "weight": 4425
         },
         {
          "acceleration": 8.5,
          "cylinders": 8,
          "displacement": 390,
          "horsepower": "190",
          "model year": 70,
          "mpg": 15,
          "origin": 1,
          "weight": 3850
         },
         {
          "acceleration": 10,
          "cylinders": 8,
          "displacement": 383,
          "horsepower": "170",
          "model year": 70,
          "mpg": 15,
          "origin": 1,
          "weight": 3563
         },
         {
          "acceleration": 8,
          "cylinders": 8,
          "displacement": 340,
          "horsepower": "160",
          "model year": 70,
          "mpg": 14,
          "origin": 1,
          "weight": 3609
         },
         {
          "acceleration": 9.5,
          "cylinders": 8,
          "displacement": 400,
          "horsepower": "150",
          "model year": 70,
          "mpg": 15,
          "origin": 1,
          "weight": 3761
         },
         {
          "acceleration": 10,
          "cylinders": 8,
          "displacement": 455,
          "horsepower": "225",
          "model year": 70,
          "mpg": 14,
          "origin": 1,
          "weight": 3086
         },
         {
          "acceleration": 15,
          "cylinders": 4,
          "displacement": 113,
          "horsepower": "95",
          "model year": 70,
          "mpg": 24,
          "origin": 3,
          "weight": 2372
         },
         {
          "acceleration": 15.5,
          "cylinders": 6,
          "displacement": 198,
          "horsepower": "95",
          "model year": 70,
          "mpg": 22,
          "origin": 1,
          "weight": 2833
         },
         {
          "acceleration": 15.5,
          "cylinders": 6,
          "displacement": 199,
          "horsepower": "97",
          "model year": 70,
          "mpg": 18,
          "origin": 1,
          "weight": 2774
         },
         {
          "acceleration": 16,
          "cylinders": 6,
          "displacement": 200,
          "horsepower": "85",
          "model year": 70,
          "mpg": 21,
          "origin": 1,
          "weight": 2587
         },
         {
          "acceleration": 14.5,
          "cylinders": 4,
          "displacement": 97,
          "horsepower": "88",
          "model year": 70,
          "mpg": 27,
          "origin": 3,
          "weight": 2130
         },
         {
          "acceleration": 20.5,
          "cylinders": 4,
          "displacement": 97,
          "horsepower": "46",
          "model year": 70,
          "mpg": 26,
          "origin": 2,
          "weight": 1835
         },
         {
          "acceleration": 17.5,
          "cylinders": 4,
          "displacement": 110,
          "horsepower": "87",
          "model year": 70,
          "mpg": 25,
          "origin": 2,
          "weight": 2672
         },
         {
          "acceleration": 14.5,
          "cylinders": 4,
          "displacement": 107,
          "horsepower": "90",
          "model year": 70,
          "mpg": 24,
          "origin": 2,
          "weight": 2430
         },
         {
          "acceleration": 17.5,
          "cylinders": 4,
          "displacement": 104,
          "horsepower": "95",
          "model year": 70,
          "mpg": 25,
          "origin": 2,
          "weight": 2375
         },
         {
          "acceleration": 12.5,
          "cylinders": 4,
          "displacement": 121,
          "horsepower": "113",
          "model year": 70,
          "mpg": 26,
          "origin": 2,
          "weight": 2234
         },
         {
          "acceleration": 15,
          "cylinders": 6,
          "displacement": 199,
          "horsepower": "90",
          "model year": 70,
          "mpg": 21,
          "origin": 1,
          "weight": 2648
         },
         {
          "acceleration": 14,
          "cylinders": 8,
          "displacement": 360,
          "horsepower": "215",
          "model year": 70,
          "mpg": 10,
          "origin": 1,
          "weight": 4615
         },
         {
          "acceleration": 15,
          "cylinders": 8,
          "displacement": 307,
          "horsepower": "200",
          "model year": 70,
          "mpg": 10,
          "origin": 1,
          "weight": 4376
         },
         {
          "acceleration": 13.5,
          "cylinders": 8,
          "displacement": 318,
          "horsepower": "210",
          "model year": 70,
          "mpg": 11,
          "origin": 1,
          "weight": 4382
         },
         {
          "acceleration": 18.5,
          "cylinders": 8,
          "displacement": 304,
          "horsepower": "193",
          "model year": 70,
          "mpg": 9,
          "origin": 1,
          "weight": 4732
         },
         {
          "acceleration": 14.5,
          "cylinders": 4,
          "displacement": 97,
          "horsepower": "88",
          "model year": 71,
          "mpg": 27,
          "origin": 3,
          "weight": 2130
         },
         {
          "acceleration": 15.5,
          "cylinders": 4,
          "displacement": 140,
          "horsepower": "90",
          "model year": 71,
          "mpg": 28,
          "origin": 1,
          "weight": 2264
         },
         {
          "acceleration": 14,
          "cylinders": 4,
          "displacement": 113,
          "horsepower": "95",
          "model year": 71,
          "mpg": 25,
          "origin": 3,
          "weight": 2228
         },
         {
          "acceleration": 19,
          "cylinders": 4,
          "displacement": 98,
          "horsepower": "?",
          "model year": 71,
          "mpg": 25,
          "origin": 1,
          "weight": 2046
         },
         {
          "acceleration": 13,
          "cylinders": 6,
          "displacement": 232,
          "horsepower": "100",
          "model year": 71,
          "mpg": 19,
          "origin": 1,
          "weight": 2634
         },
         {
          "acceleration": 15.5,
          "cylinders": 6,
          "displacement": 225,
          "horsepower": "105",
          "model year": 71,
          "mpg": 16,
          "origin": 1,
          "weight": 3439
         },
         {
          "acceleration": 15.5,
          "cylinders": 6,
          "displacement": 250,
          "horsepower": "100",
          "model year": 71,
          "mpg": 17,
          "origin": 1,
          "weight": 3329
         },
         {
          "acceleration": 15.5,
          "cylinders": 6,
          "displacement": 250,
          "horsepower": "88",
          "model year": 71,
          "mpg": 19,
          "origin": 1,
          "weight": 3302
         },
         {
          "acceleration": 15.5,
          "cylinders": 6,
          "displacement": 232,
          "horsepower": "100",
          "model year": 71,
          "mpg": 18,
          "origin": 1,
          "weight": 3288
         },
         {
          "acceleration": 12,
          "cylinders": 8,
          "displacement": 350,
          "horsepower": "165",
          "model year": 71,
          "mpg": 14,
          "origin": 1,
          "weight": 4209
         },
         {
          "acceleration": 11.5,
          "cylinders": 8,
          "displacement": 400,
          "horsepower": "175",
          "model year": 71,
          "mpg": 14,
          "origin": 1,
          "weight": 4464
         },
         {
          "acceleration": 13.5,
          "cylinders": 8,
          "displacement": 351,
          "horsepower": "153",
          "model year": 71,
          "mpg": 14,
          "origin": 1,
          "weight": 4154
         },
         {
          "acceleration": 13,
          "cylinders": 8,
          "displacement": 318,
          "horsepower": "150",
          "model year": 71,
          "mpg": 14,
          "origin": 1,
          "weight": 4096
         },
         {
          "acceleration": 11.5,
          "cylinders": 8,
          "displacement": 383,
          "horsepower": "180",
          "model year": 71,
          "mpg": 12,
          "origin": 1,
          "weight": 4955
         },
         {
          "acceleration": 12,
          "cylinders": 8,
          "displacement": 400,
          "horsepower": "170",
          "model year": 71,
          "mpg": 13,
          "origin": 1,
          "weight": 4746
         },
         {
          "acceleration": 12,
          "cylinders": 8,
          "displacement": 400,
          "horsepower": "175",
          "model year": 71,
          "mpg": 13,
          "origin": 1,
          "weight": 5140
         },
         {
          "acceleration": 13.5,
          "cylinders": 6,
          "displacement": 258,
          "horsepower": "110",
          "model year": 71,
          "mpg": 18,
          "origin": 1,
          "weight": 2962
         },
         {
          "acceleration": 19,
          "cylinders": 4,
          "displacement": 140,
          "horsepower": "72",
          "model year": 71,
          "mpg": 22,
          "origin": 1,
          "weight": 2408
         },
         {
          "acceleration": 15,
          "cylinders": 6,
          "displacement": 250,
          "horsepower": "100",
          "model year": 71,
          "mpg": 19,
          "origin": 1,
          "weight": 3282
         },
         {
          "acceleration": 14.5,
          "cylinders": 6,
          "displacement": 250,
          "horsepower": "88",
          "model year": 71,
          "mpg": 18,
          "origin": 1,
          "weight": 3139
         },
         {
          "acceleration": 14,
          "cylinders": 4,
          "displacement": 122,
          "horsepower": "86",
          "model year": 71,
          "mpg": 23,
          "origin": 1,
          "weight": 2220
         },
         {
          "acceleration": 14,
          "cylinders": 4,
          "displacement": 116,
          "horsepower": "90",
          "model year": 71,
          "mpg": 28,
          "origin": 2,
          "weight": 2123
         },
         {
          "acceleration": 19.5,
          "cylinders": 4,
          "displacement": 79,
          "horsepower": "70",
          "model year": 71,
          "mpg": 30,
          "origin": 2,
          "weight": 2074
         },
         {
          "acceleration": 14.5,
          "cylinders": 4,
          "displacement": 88,
          "horsepower": "76",
          "model year": 71,
          "mpg": 30,
          "origin": 2,
          "weight": 2065
         },
         {
          "acceleration": 19,
          "cylinders": 4,
          "displacement": 71,
          "horsepower": "65",
          "model year": 71,
          "mpg": 31,
          "origin": 3,
          "weight": 1773
         },
         {
          "acceleration": 18,
          "cylinders": 4,
          "displacement": 72,
          "horsepower": "69",
          "model year": 71,
          "mpg": 35,
          "origin": 3,
          "weight": 1613
         },
         {
          "acceleration": 19,
          "cylinders": 4,
          "displacement": 97,
          "horsepower": "60",
          "model year": 71,
          "mpg": 27,
          "origin": 2,
          "weight": 1834
         },
         {
          "acceleration": 20.5,
          "cylinders": 4,
          "displacement": 91,
          "horsepower": "70",
          "model year": 71,
          "mpg": 26,
          "origin": 1,
          "weight": 1955
         },
         {
          "acceleration": 15.5,
          "cylinders": 4,
          "displacement": 113,
          "horsepower": "95",
          "model year": 72,
          "mpg": 24,
          "origin": 3,
          "weight": 2278
         },
         {
          "acceleration": 17,
          "cylinders": 4,
          "displacement": 97.5,
          "horsepower": "80",
          "model year": 72,
          "mpg": 25,
          "origin": 1,
          "weight": 2126
         },
         {
          "acceleration": 23.5,
          "cylinders": 4,
          "displacement": 97,
          "horsepower": "54",
          "model year": 72,
          "mpg": 23,
          "origin": 2,
          "weight": 2254
         },
         {
          "acceleration": 19.5,
          "cylinders": 4,
          "displacement": 140,
          "horsepower": "90",
          "model year": 72,
          "mpg": 20,
          "origin": 1,
          "weight": 2408
         },
         {
          "acceleration": 16.5,
          "cylinders": 4,
          "displacement": 122,
          "horsepower": "86",
          "model year": 72,
          "mpg": 21,
          "origin": 1,
          "weight": 2226
         },
         {
          "acceleration": 12,
          "cylinders": 8,
          "displacement": 350,
          "horsepower": "165",
          "model year": 72,
          "mpg": 13,
          "origin": 1,
          "weight": 4274
         },
         {
          "acceleration": 12,
          "cylinders": 8,
          "displacement": 400,
          "horsepower": "175",
          "model year": 72,
          "mpg": 14,
          "origin": 1,
          "weight": 4385
         },
         {
          "acceleration": 13.5,
          "cylinders": 8,
          "displacement": 318,
          "horsepower": "150",
          "model year": 72,
          "mpg": 15,
          "origin": 1,
          "weight": 4135
         },
         {
          "acceleration": 13,
          "cylinders": 8,
          "displacement": 351,
          "horsepower": "153",
          "model year": 72,
          "mpg": 14,
          "origin": 1,
          "weight": 4129
         },
         {
          "acceleration": 11.5,
          "cylinders": 8,
          "displacement": 304,
          "horsepower": "150",
          "model year": 72,
          "mpg": 17,
          "origin": 1,
          "weight": 3672
         },
         {
          "acceleration": 11,
          "cylinders": 8,
          "displacement": 429,
          "horsepower": "208",
          "model year": 72,
          "mpg": 11,
          "origin": 1,
          "weight": 4633
         },
         {
          "acceleration": 13.5,
          "cylinders": 8,
          "displacement": 350,
          "horsepower": "155",
          "model year": 72,
          "mpg": 13,
          "origin": 1,
          "weight": 4502
         },
         {
          "acceleration": 13.5,
          "cylinders": 8,
          "displacement": 350,
          "horsepower": "160",
          "model year": 72,
          "mpg": 12,
          "origin": 1,
          "weight": 4456
         },
         {
          "acceleration": 12.5,
          "cylinders": 8,
          "displacement": 400,
          "horsepower": "190",
          "model year": 72,
          "mpg": 13,
          "origin": 1,
          "weight": 4422
         },
         {
          "acceleration": 13.5,
          "cylinders": 3,
          "displacement": 70,
          "horsepower": "97",
          "model year": 72,
          "mpg": 19,
          "origin": 3,
          "weight": 2330
         },
         {
          "acceleration": 12.5,
          "cylinders": 8,
          "displacement": 304,
          "horsepower": "150",
          "model year": 72,
          "mpg": 15,
          "origin": 1,
          "weight": 3892
         },
         {
          "acceleration": 14,
          "cylinders": 8,
          "displacement": 307,
          "horsepower": "130",
          "model year": 72,
          "mpg": 13,
          "origin": 1,
          "weight": 4098
         },
         {
          "acceleration": 16,
          "cylinders": 8,
          "displacement": 302,
          "horsepower": "140",
          "model year": 72,
          "mpg": 13,
          "origin": 1,
          "weight": 4294
         },
         {
          "acceleration": 14,
          "cylinders": 8,
          "displacement": 318,
          "horsepower": "150",
          "model year": 72,
          "mpg": 14,
          "origin": 1,
          "weight": 4077
         },
         {
          "acceleration": 14.5,
          "cylinders": 4,
          "displacement": 121,
          "horsepower": "112",
          "model year": 72,
          "mpg": 18,
          "origin": 2,
          "weight": 2933
         },
         {
          "acceleration": 18,
          "cylinders": 4,
          "displacement": 121,
          "horsepower": "76",
          "model year": 72,
          "mpg": 22,
          "origin": 2,
          "weight": 2511
         },
         {
          "acceleration": 19.5,
          "cylinders": 4,
          "displacement": 120,
          "horsepower": "87",
          "model year": 72,
          "mpg": 21,
          "origin": 2,
          "weight": 2979
         },
         {
          "acceleration": 18,
          "cylinders": 4,
          "displacement": 96,
          "horsepower": "69",
          "model year": 72,
          "mpg": 26,
          "origin": 2,
          "weight": 2189
         },
         {
          "acceleration": 16,
          "cylinders": 4,
          "displacement": 122,
          "horsepower": "86",
          "model year": 72,
          "mpg": 22,
          "origin": 1,
          "weight": 2395
         },
         {
          "acceleration": 17,
          "cylinders": 4,
          "displacement": 97,
          "horsepower": "92",
          "model year": 72,
          "mpg": 28,
          "origin": 3,
          "weight": 2288
         },
         {
          "acceleration": 14.5,
          "cylinders": 4,
          "displacement": 120,
          "horsepower": "97",
          "model year": 72,
          "mpg": 23,
          "origin": 3,
          "weight": 2506
         },
         {
          "acceleration": 15,
          "cylinders": 4,
          "displacement": 98,
          "horsepower": "80",
          "model year": 72,
          "mpg": 28,
          "origin": 1,
          "weight": 2164
         },
         {
          "acceleration": 16.5,
          "cylinders": 4,
          "displacement": 97,
          "horsepower": "88",
          "model year": 72,
          "mpg": 27,
          "origin": 3,
          "weight": 2100
         },
         {
          "acceleration": 13,
          "cylinders": 8,
          "displacement": 350,
          "horsepower": "175",
          "model year": 73,
          "mpg": 13,
          "origin": 1,
          "weight": 4100
         },
         {
          "acceleration": 11.5,
          "cylinders": 8,
          "displacement": 304,
          "horsepower": "150",
          "model year": 73,
          "mpg": 14,
          "origin": 1,
          "weight": 3672
         },
         {
          "acceleration": 13,
          "cylinders": 8,
          "displacement": 350,
          "horsepower": "145",
          "model year": 73,
          "mpg": 13,
          "origin": 1,
          "weight": 3988
         },
         {
          "acceleration": 14.5,
          "cylinders": 8,
          "displacement": 302,
          "horsepower": "137",
          "model year": 73,
          "mpg": 14,
          "origin": 1,
          "weight": 4042
         },
         {
          "acceleration": 12.5,
          "cylinders": 8,
          "displacement": 318,
          "horsepower": "150",
          "model year": 73,
          "mpg": 15,
          "origin": 1,
          "weight": 3777
         },
         {
          "acceleration": 11.5,
          "cylinders": 8,
          "displacement": 429,
          "horsepower": "198",
          "model year": 73,
          "mpg": 12,
          "origin": 1,
          "weight": 4952
         },
         {
          "acceleration": 12,
          "cylinders": 8,
          "displacement": 400,
          "horsepower": "150",
          "model year": 73,
          "mpg": 13,
          "origin": 1,
          "weight": 4464
         },
         {
          "acceleration": 13,
          "cylinders": 8,
          "displacement": 351,
          "horsepower": "158",
          "model year": 73,
          "mpg": 13,
          "origin": 1,
          "weight": 4363
         },
         {
          "acceleration": 14.5,
          "cylinders": 8,
          "displacement": 318,
          "horsepower": "150",
          "model year": 73,
          "mpg": 14,
          "origin": 1,
          "weight": 4237
         },
         {
          "acceleration": 11,
          "cylinders": 8,
          "displacement": 440,
          "horsepower": "215",
          "model year": 73,
          "mpg": 13,
          "origin": 1,
          "weight": 4735
         },
         {
          "acceleration": 11,
          "cylinders": 8,
          "displacement": 455,
          "horsepower": "225",
          "model year": 73,
          "mpg": 12,
          "origin": 1,
          "weight": 4951
         },
         {
          "acceleration": 11,
          "cylinders": 8,
          "displacement": 360,
          "horsepower": "175",
          "model year": 73,
          "mpg": 13,
          "origin": 1,
          "weight": 3821
         },
         {
          "acceleration": 16.5,
          "cylinders": 6,
          "displacement": 225,
          "horsepower": "105",
          "model year": 73,
          "mpg": 18,
          "origin": 1,
          "weight": 3121
         },
         {
          "acceleration": 18,
          "cylinders": 6,
          "displacement": 250,
          "horsepower": "100",
          "model year": 73,
          "mpg": 16,
          "origin": 1,
          "weight": 3278
         },
         {
          "acceleration": 16,
          "cylinders": 6,
          "displacement": 232,
          "horsepower": "100",
          "model year": 73,
          "mpg": 18,
          "origin": 1,
          "weight": 2945
         },
         {
          "acceleration": 16.5,
          "cylinders": 6,
          "displacement": 250,
          "horsepower": "88",
          "model year": 73,
          "mpg": 18,
          "origin": 1,
          "weight": 3021
         },
         {
          "acceleration": 16,
          "cylinders": 6,
          "displacement": 198,
          "horsepower": "95",
          "model year": 73,
          "mpg": 23,
          "origin": 1,
          "weight": 2904
         },
         {
          "acceleration": 21,
          "cylinders": 4,
          "displacement": 97,
          "horsepower": "46",
          "model year": 73,
          "mpg": 26,
          "origin": 2,
          "weight": 1950
         },
         {
          "acceleration": 14,
          "cylinders": 8,
          "displacement": 400,
          "horsepower": "150",
          "model year": 73,
          "mpg": 11,
          "origin": 1,
          "weight": 4997
         },
         {
          "acceleration": 12.5,
          "cylinders": 8,
          "displacement": 400,
          "horsepower": "167",
          "model year": 73,
          "mpg": 12,
          "origin": 1,
          "weight": 4906
         },
         {
          "acceleration": 13,
          "cylinders": 8,
          "displacement": 360,
          "horsepower": "170",
          "model year": 73,
          "mpg": 13,
          "origin": 1,
          "weight": 4654
         },
         {
          "acceleration": 12.5,
          "cylinders": 8,
          "displacement": 350,
          "horsepower": "180",
          "model year": 73,
          "mpg": 12,
          "origin": 1,
          "weight": 4499
         },
         {
          "acceleration": 15,
          "cylinders": 6,
          "displacement": 232,
          "horsepower": "100",
          "model year": 73,
          "mpg": 18,
          "origin": 1,
          "weight": 2789
         },
         {
          "acceleration": 19,
          "cylinders": 4,
          "displacement": 97,
          "horsepower": "88",
          "model year": 73,
          "mpg": 20,
          "origin": 3,
          "weight": 2279
         },
         {
          "acceleration": 19.5,
          "cylinders": 4,
          "displacement": 140,
          "horsepower": "72",
          "model year": 73,
          "mpg": 21,
          "origin": 1,
          "weight": 2401
         },
         {
          "acceleration": 16.5,
          "cylinders": 4,
          "displacement": 108,
          "horsepower": "94",
          "model year": 73,
          "mpg": 22,
          "origin": 3,
          "weight": 2379
         },
         {
          "acceleration": 13.5,
          "cylinders": 3,
          "displacement": 70,
          "horsepower": "90",
          "model year": 73,
          "mpg": 18,
          "origin": 3,
          "weight": 2124
         },
         {
          "acceleration": 18.5,
          "cylinders": 4,
          "displacement": 122,
          "horsepower": "85",
          "model year": 73,
          "mpg": 19,
          "origin": 1,
          "weight": 2310
         },
         {
          "acceleration": 14,
          "cylinders": 6,
          "displacement": 155,
          "horsepower": "107",
          "model year": 73,
          "mpg": 21,
          "origin": 1,
          "weight": 2472
         },
         {
          "acceleration": 15.5,
          "cylinders": 4,
          "displacement": 98,
          "horsepower": "90",
          "model year": 73,
          "mpg": 26,
          "origin": 2,
          "weight": 2265
         },
         {
          "acceleration": 13,
          "cylinders": 8,
          "displacement": 350,
          "horsepower": "145",
          "model year": 73,
          "mpg": 15,
          "origin": 1,
          "weight": 4082
         },
         {
          "acceleration": 9.5,
          "cylinders": 8,
          "displacement": 400,
          "horsepower": "230",
          "model year": 73,
          "mpg": 16,
          "origin": 1,
          "weight": 4278
         },
         {
          "acceleration": 19.5,
          "cylinders": 4,
          "displacement": 68,
          "horsepower": "49",
          "model year": 73,
          "mpg": 29,
          "origin": 2,
          "weight": 1867
         },
         {
          "acceleration": 15.5,
          "cylinders": 4,
          "displacement": 116,
          "horsepower": "75",
          "model year": 73,
          "mpg": 24,
          "origin": 2,
          "weight": 2158
         },
         {
          "acceleration": 14,
          "cylinders": 4,
          "displacement": 114,
          "horsepower": "91",
          "model year": 73,
          "mpg": 20,
          "origin": 2,
          "weight": 2582
         },
         {
          "acceleration": 15.5,
          "cylinders": 4,
          "displacement": 121,
          "horsepower": "112",
          "model year": 73,
          "mpg": 19,
          "origin": 2,
          "weight": 2868
         },
         {
          "acceleration": 11,
          "cylinders": 8,
          "displacement": 318,
          "horsepower": "150",
          "model year": 73,
          "mpg": 15,
          "origin": 1,
          "weight": 3399
         },
         {
          "acceleration": 14,
          "cylinders": 4,
          "displacement": 121,
          "horsepower": "110",
          "model year": 73,
          "mpg": 24,
          "origin": 2,
          "weight": 2660
         },
         {
          "acceleration": 13.5,
          "cylinders": 6,
          "displacement": 156,
          "horsepower": "122",
          "model year": 73,
          "mpg": 20,
          "origin": 3,
          "weight": 2807
         },
         {
          "acceleration": 11,
          "cylinders": 8,
          "displacement": 350,
          "horsepower": "180",
          "model year": 73,
          "mpg": 11,
          "origin": 1,
          "weight": 3664
         },
         {
          "acceleration": 16.5,
          "cylinders": 6,
          "displacement": 198,
          "horsepower": "95",
          "model year": 74,
          "mpg": 20,
          "origin": 1,
          "weight": 3102
         },
         {
          "acceleration": 17,
          "cylinders": 6,
          "displacement": 200,
          "horsepower": "?",
          "model year": 74,
          "mpg": 21,
          "origin": 1,
          "weight": 2875
         },
         {
          "acceleration": 16,
          "cylinders": 6,
          "displacement": 232,
          "horsepower": "100",
          "model year": 74,
          "mpg": 19,
          "origin": 1,
          "weight": 2901
         },
         {
          "acceleration": 17,
          "cylinders": 6,
          "displacement": 250,
          "horsepower": "100",
          "model year": 74,
          "mpg": 15,
          "origin": 1,
          "weight": 3336
         },
         {
          "acceleration": 19,
          "cylinders": 4,
          "displacement": 79,
          "horsepower": "67",
          "model year": 74,
          "mpg": 31,
          "origin": 3,
          "weight": 1950
         },
         {
          "acceleration": 16.5,
          "cylinders": 4,
          "displacement": 122,
          "horsepower": "80",
          "model year": 74,
          "mpg": 26,
          "origin": 1,
          "weight": 2451
         },
         {
          "acceleration": 21,
          "cylinders": 4,
          "displacement": 71,
          "horsepower": "65",
          "model year": 74,
          "mpg": 32,
          "origin": 3,
          "weight": 1836
         },
         {
          "acceleration": 17,
          "cylinders": 4,
          "displacement": 140,
          "horsepower": "75",
          "model year": 74,
          "mpg": 25,
          "origin": 1,
          "weight": 2542
         },
         {
          "acceleration": 17,
          "cylinders": 6,
          "displacement": 250,
          "horsepower": "100",
          "model year": 74,
          "mpg": 16,
          "origin": 1,
          "weight": 3781
         },
         {
          "acceleration": 18,
          "cylinders": 6,
          "displacement": 258,
          "horsepower": "110",
          "model year": 74,
          "mpg": 16,
          "origin": 1,
          "weight": 3632
         },
         {
          "acceleration": 16.5,
          "cylinders": 6,
          "displacement": 225,
          "horsepower": "105",
          "model year": 74,
          "mpg": 18,
          "origin": 1,
          "weight": 3613
         },
         {
          "acceleration": 14,
          "cylinders": 8,
          "displacement": 302,
          "horsepower": "140",
          "model year": 74,
          "mpg": 16,
          "origin": 1,
          "weight": 4141
         },
         {
          "acceleration": 14.5,
          "cylinders": 8,
          "displacement": 350,
          "horsepower": "150",
          "model year": 74,
          "mpg": 13,
          "origin": 1,
          "weight": 4699
         },
         {
          "acceleration": 13.5,
          "cylinders": 8,
          "displacement": 318,
          "horsepower": "150",
          "model year": 74,
          "mpg": 14,
          "origin": 1,
          "weight": 4457
         },
         {
          "acceleration": 16,
          "cylinders": 8,
          "displacement": 302,
          "horsepower": "140",
          "model year": 74,
          "mpg": 14,
          "origin": 1,
          "weight": 4638
         },
         {
          "acceleration": 15.5,
          "cylinders": 8,
          "displacement": 304,
          "horsepower": "150",
          "model year": 74,
          "mpg": 14,
          "origin": 1,
          "weight": 4257
         },
         {
          "acceleration": 16.5,
          "cylinders": 4,
          "displacement": 98,
          "horsepower": "83",
          "model year": 74,
          "mpg": 29,
          "origin": 2,
          "weight": 2219
         },
         {
          "acceleration": 15.5,
          "cylinders": 4,
          "displacement": 79,
          "horsepower": "67",
          "model year": 74,
          "mpg": 26,
          "origin": 2,
          "weight": 1963
         },
         {
          "acceleration": 14.5,
          "cylinders": 4,
          "displacement": 97,
          "horsepower": "78",
          "model year": 74,
          "mpg": 26,
          "origin": 2,
          "weight": 2300
         },
         {
          "acceleration": 16.5,
          "cylinders": 4,
          "displacement": 76,
          "horsepower": "52",
          "model year": 74,
          "mpg": 31,
          "origin": 3,
          "weight": 1649
         },
         {
          "acceleration": 19,
          "cylinders": 4,
          "displacement": 83,
          "horsepower": "61",
          "model year": 74,
          "mpg": 32,
          "origin": 3,
          "weight": 2003
         },
         {
          "acceleration": 14.5,
          "cylinders": 4,
          "displacement": 90,
          "horsepower": "75",
          "model year": 74,
          "mpg": 28,
          "origin": 1,
          "weight": 2125
         },
         {
          "acceleration": 15.5,
          "cylinders": 4,
          "displacement": 90,
          "horsepower": "75",
          "model year": 74,
          "mpg": 24,
          "origin": 2,
          "weight": 2108
         },
         {
          "acceleration": 14,
          "cylinders": 4,
          "displacement": 116,
          "horsepower": "75",
          "model year": 74,
          "mpg": 26,
          "origin": 2,
          "weight": 2246
         },
         {
          "acceleration": 15,
          "cylinders": 4,
          "displacement": 120,
          "horsepower": "97",
          "model year": 74,
          "mpg": 24,
          "origin": 3,
          "weight": 2489
         },
         {
          "acceleration": 15.5,
          "cylinders": 4,
          "displacement": 108,
          "horsepower": "93",
          "model year": 74,
          "mpg": 26,
          "origin": 3,
          "weight": 2391
         },
         {
          "acceleration": 16,
          "cylinders": 4,
          "displacement": 79,
          "horsepower": "67",
          "model year": 74,
          "mpg": 31,
          "origin": 2,
          "weight": 2000
         },
         {
          "acceleration": 16,
          "cylinders": 6,
          "displacement": 225,
          "horsepower": "95",
          "model year": 75,
          "mpg": 19,
          "origin": 1,
          "weight": 3264
         },
         {
          "acceleration": 16,
          "cylinders": 6,
          "displacement": 250,
          "horsepower": "105",
          "model year": 75,
          "mpg": 18,
          "origin": 1,
          "weight": 3459
         },
         {
          "acceleration": 21,
          "cylinders": 6,
          "displacement": 250,
          "horsepower": "72",
          "model year": 75,
          "mpg": 15,
          "origin": 1,
          "weight": 3432
         },
         {
          "acceleration": 19.5,
          "cylinders": 6,
          "displacement": 250,
          "horsepower": "72",
          "model year": 75,
          "mpg": 15,
          "origin": 1,
          "weight": 3158
         },
         {
          "acceleration": 11.5,
          "cylinders": 8,
          "displacement": 400,
          "horsepower": "170",
          "model year": 75,
          "mpg": 16,
          "origin": 1,
          "weight": 4668
         },
         {
          "acceleration": 14,
          "cylinders": 8,
          "displacement": 350,
          "horsepower": "145",
          "model year": 75,
          "mpg": 15,
          "origin": 1,
          "weight": 4440
         },
         {
          "acceleration": 14.5,
          "cylinders": 8,
          "displacement": 318,
          "horsepower": "150",
          "model year": 75,
          "mpg": 16,
          "origin": 1,
          "weight": 4498
         },
         {
          "acceleration": 13.5,
          "cylinders": 8,
          "displacement": 351,
          "horsepower": "148",
          "model year": 75,
          "mpg": 14,
          "origin": 1,
          "weight": 4657
         },
         {
          "acceleration": 21,
          "cylinders": 6,
          "displacement": 231,
          "horsepower": "110",
          "model year": 75,
          "mpg": 17,
          "origin": 1,
          "weight": 3907
         },
         {
          "acceleration": 18.5,
          "cylinders": 6,
          "displacement": 250,
          "horsepower": "105",
          "model year": 75,
          "mpg": 16,
          "origin": 1,
          "weight": 3897
         },
         {
          "acceleration": 19,
          "cylinders": 6,
          "displacement": 258,
          "horsepower": "110",
          "model year": 75,
          "mpg": 15,
          "origin": 1,
          "weight": 3730
         },
         {
          "acceleration": 19,
          "cylinders": 6,
          "displacement": 225,
          "horsepower": "95",
          "model year": 75,
          "mpg": 18,
          "origin": 1,
          "weight": 3785
         },
         {
          "acceleration": 15,
          "cylinders": 6,
          "displacement": 231,
          "horsepower": "110",
          "model year": 75,
          "mpg": 21,
          "origin": 1,
          "weight": 3039
         },
         {
          "acceleration": 13.5,
          "cylinders": 8,
          "displacement": 262,
          "horsepower": "110",
          "model year": 75,
          "mpg": 20,
          "origin": 1,
          "weight": 3221
         },
         {
          "acceleration": 12,
          "cylinders": 8,
          "displacement": 302,
          "horsepower": "129",
          "model year": 75,
          "mpg": 13,
          "origin": 1,
          "weight": 3169
         },
         {
          "acceleration": 16,
          "cylinders": 4,
          "displacement": 97,
          "horsepower": "75",
          "model year": 75,
          "mpg": 29,
          "origin": 3,
          "weight": 2171
         },
         {
          "acceleration": 17,
          "cylinders": 4,
          "displacement": 140,
          "horsepower": "83",
          "model year": 75,
          "mpg": 23,
          "origin": 1,
          "weight": 2639
         },
         {
          "acceleration": 16,
          "cylinders": 6,
          "displacement": 232,
          "horsepower": "100",
          "model year": 75,
          "mpg": 20,
          "origin": 1,
          "weight": 2914
         },
         {
          "acceleration": 18.5,
          "cylinders": 4,
          "displacement": 140,
          "horsepower": "78",
          "model year": 75,
          "mpg": 23,
          "origin": 1,
          "weight": 2592
         },
         {
          "acceleration": 13.5,
          "cylinders": 4,
          "displacement": 134,
          "horsepower": "96",
          "model year": 75,
          "mpg": 24,
          "origin": 3,
          "weight": 2702
         },
         {
          "acceleration": 16.5,
          "cylinders": 4,
          "displacement": 90,
          "horsepower": "71",
          "model year": 75,
          "mpg": 25,
          "origin": 2,
          "weight": 2223
         },
         {
          "acceleration": 17,
          "cylinders": 4,
          "displacement": 119,
          "horsepower": "97",
          "model year": 75,
          "mpg": 24,
          "origin": 3,
          "weight": 2545
         },
         {
          "acceleration": 14.5,
          "cylinders": 6,
          "displacement": 171,
          "horsepower": "97",
          "model year": 75,
          "mpg": 18,
          "origin": 1,
          "weight": 2984
         },
         {
          "acceleration": 14,
          "cylinders": 4,
          "displacement": 90,
          "horsepower": "70",
          "model year": 75,
          "mpg": 29,
          "origin": 2,
          "weight": 1937
         },
         {
          "acceleration": 17,
          "cylinders": 6,
          "displacement": 232,
          "horsepower": "90",
          "model year": 75,
          "mpg": 19,
          "origin": 1,
          "weight": 3211
         },
         {
          "acceleration": 15,
          "cylinders": 4,
          "displacement": 115,
          "horsepower": "95",
          "model year": 75,
          "mpg": 23,
          "origin": 2,
          "weight": 2694
         },
         {
          "acceleration": 17,
          "cylinders": 4,
          "displacement": 120,
          "horsepower": "88",
          "model year": 75,
          "mpg": 23,
          "origin": 2,
          "weight": 2957
         },
         {
          "acceleration": 14.5,
          "cylinders": 4,
          "displacement": 121,
          "horsepower": "98",
          "model year": 75,
          "mpg": 22,
          "origin": 2,
          "weight": 2945
         },
         {
          "acceleration": 13.5,
          "cylinders": 4,
          "displacement": 121,
          "horsepower": "115",
          "model year": 75,
          "mpg": 25,
          "origin": 2,
          "weight": 2671
         },
         {
          "acceleration": 17.5,
          "cylinders": 4,
          "displacement": 91,
          "horsepower": "53",
          "model year": 75,
          "mpg": 33,
          "origin": 3,
          "weight": 1795
         },
         {
          "acceleration": 15.5,
          "cylinders": 4,
          "displacement": 107,
          "horsepower": "86",
          "model year": 76,
          "mpg": 28,
          "origin": 2,
          "weight": 2464
         },
         {
          "acceleration": 16.9,
          "cylinders": 4,
          "displacement": 116,
          "horsepower": "81",
          "model year": 76,
          "mpg": 25,
          "origin": 2,
          "weight": 2220
         },
         {
          "acceleration": 14.9,
          "cylinders": 4,
          "displacement": 140,
          "horsepower": "92",
          "model year": 76,
          "mpg": 25,
          "origin": 1,
          "weight": 2572
         },
         {
          "acceleration": 17.7,
          "cylinders": 4,
          "displacement": 98,
          "horsepower": "79",
          "model year": 76,
          "mpg": 26,
          "origin": 1,
          "weight": 2255
         },
         {
          "acceleration": 15.3,
          "cylinders": 4,
          "displacement": 101,
          "horsepower": "83",
          "model year": 76,
          "mpg": 27,
          "origin": 2,
          "weight": 2202
         },
         {
          "acceleration": 13,
          "cylinders": 8,
          "displacement": 305,
          "horsepower": "140",
          "model year": 76,
          "mpg": 17.5,
          "origin": 1,
          "weight": 4215
         },
         {
          "acceleration": 13,
          "cylinders": 8,
          "displacement": 318,
          "horsepower": "150",
          "model year": 76,
          "mpg": 16,
          "origin": 1,
          "weight": 4190
         },
         {
          "acceleration": 13.9,
          "cylinders": 8,
          "displacement": 304,
          "horsepower": "120",
          "model year": 76,
          "mpg": 15.5,
          "origin": 1,
          "weight": 3962
         },
         {
          "acceleration": 12.8,
          "cylinders": 8,
          "displacement": 351,
          "horsepower": "152",
          "model year": 76,
          "mpg": 14.5,
          "origin": 1,
          "weight": 4215
         },
         {
          "acceleration": 15.4,
          "cylinders": 6,
          "displacement": 225,
          "horsepower": "100",
          "model year": 76,
          "mpg": 22,
          "origin": 1,
          "weight": 3233
         },
         {
          "acceleration": 14.5,
          "cylinders": 6,
          "displacement": 250,
          "horsepower": "105",
          "model year": 76,
          "mpg": 22,
          "origin": 1,
          "weight": 3353
         },
         {
          "acceleration": 17.6,
          "cylinders": 6,
          "displacement": 200,
          "horsepower": "81",
          "model year": 76,
          "mpg": 24,
          "origin": 1,
          "weight": 3012
         },
         {
          "acceleration": 17.6,
          "cylinders": 6,
          "displacement": 232,
          "horsepower": "90",
          "model year": 76,
          "mpg": 22.5,
          "origin": 1,
          "weight": 3085
         },
         {
          "acceleration": 22.2,
          "cylinders": 4,
          "displacement": 85,
          "horsepower": "52",
          "model year": 76,
          "mpg": 29,
          "origin": 1,
          "weight": 2035
         },
         {
          "acceleration": 22.1,
          "cylinders": 4,
          "displacement": 98,
          "horsepower": "60",
          "model year": 76,
          "mpg": 24.5,
          "origin": 1,
          "weight": 2164
         },
         {
          "acceleration": 14.2,
          "cylinders": 4,
          "displacement": 90,
          "horsepower": "70",
          "model year": 76,
          "mpg": 29,
          "origin": 2,
          "weight": 1937
         },
         {
          "acceleration": 17.4,
          "cylinders": 4,
          "displacement": 91,
          "horsepower": "53",
          "model year": 76,
          "mpg": 33,
          "origin": 3,
          "weight": 1795
         },
         {
          "acceleration": 17.7,
          "cylinders": 6,
          "displacement": 225,
          "horsepower": "100",
          "model year": 76,
          "mpg": 20,
          "origin": 1,
          "weight": 3651
         },
         {
          "acceleration": 21,
          "cylinders": 6,
          "displacement": 250,
          "horsepower": "78",
          "model year": 76,
          "mpg": 18,
          "origin": 1,
          "weight": 3574
         },
         {
          "acceleration": 16.2,
          "cylinders": 6,
          "displacement": 250,
          "horsepower": "110",
          "model year": 76,
          "mpg": 18.5,
          "origin": 1,
          "weight": 3645
         },
         {
          "acceleration": 17.8,
          "cylinders": 6,
          "displacement": 258,
          "horsepower": "95",
          "model year": 76,
          "mpg": 17.5,
          "origin": 1,
          "weight": 3193
         },
         {
          "acceleration": 12.2,
          "cylinders": 4,
          "displacement": 97,
          "horsepower": "71",
          "model year": 76,
          "mpg": 29.5,
          "origin": 2,
          "weight": 1825
         },
         {
          "acceleration": 17,
          "cylinders": 4,
          "displacement": 85,
          "horsepower": "70",
          "model year": 76,
          "mpg": 32,
          "origin": 3,
          "weight": 1990
         },
         {
          "acceleration": 16.4,
          "cylinders": 4,
          "displacement": 97,
          "horsepower": "75",
          "model year": 76,
          "mpg": 28,
          "origin": 3,
          "weight": 2155
         },
         {
          "acceleration": 13.6,
          "cylinders": 4,
          "displacement": 140,
          "horsepower": "72",
          "model year": 76,
          "mpg": 26.5,
          "origin": 1,
          "weight": 2565
         },
         {
          "acceleration": 15.7,
          "cylinders": 4,
          "displacement": 130,
          "horsepower": "102",
          "model year": 76,
          "mpg": 20,
          "origin": 2,
          "weight": 3150
         },
         {
          "acceleration": 13.2,
          "cylinders": 8,
          "displacement": 318,
          "horsepower": "150",
          "model year": 76,
          "mpg": 13,
          "origin": 1,
          "weight": 3940
         },
         {
          "acceleration": 21.9,
          "cylinders": 4,
          "displacement": 120,
          "horsepower": "88",
          "model year": 76,
          "mpg": 19,
          "origin": 2,
          "weight": 3270
         },
         {
          "acceleration": 15.5,
          "cylinders": 6,
          "displacement": 156,
          "horsepower": "108",
          "model year": 76,
          "mpg": 19,
          "origin": 3,
          "weight": 2930
         },
         {
          "acceleration": 16.7,
          "cylinders": 6,
          "displacement": 168,
          "horsepower": "120",
          "model year": 76,
          "mpg": 16.5,
          "origin": 2,
          "weight": 3820
         },
         {
          "acceleration": 12.1,
          "cylinders": 8,
          "displacement": 350,
          "horsepower": "180",
          "model year": 76,
          "mpg": 16.5,
          "origin": 1,
          "weight": 4380
         },
         {
          "acceleration": 12,
          "cylinders": 8,
          "displacement": 350,
          "horsepower": "145",
          "model year": 76,
          "mpg": 13,
          "origin": 1,
          "weight": 4055
         },
         {
          "acceleration": 15,
          "cylinders": 8,
          "displacement": 302,
          "horsepower": "130",
          "model year": 76,
          "mpg": 13,
          "origin": 1,
          "weight": 3870
         },
         {
          "acceleration": 14,
          "cylinders": 8,
          "displacement": 318,
          "horsepower": "150",
          "model year": 76,
          "mpg": 13,
          "origin": 1,
          "weight": 3755
         },
         {
          "acceleration": 18.5,
          "cylinders": 4,
          "displacement": 98,
          "horsepower": "68",
          "model year": 77,
          "mpg": 31.5,
          "origin": 3,
          "weight": 2045
         },
         {
          "acceleration": 14.8,
          "cylinders": 4,
          "displacement": 111,
          "horsepower": "80",
          "model year": 77,
          "mpg": 30,
          "origin": 1,
          "weight": 2155
         },
         {
          "acceleration": 18.6,
          "cylinders": 4,
          "displacement": 79,
          "horsepower": "58",
          "model year": 77,
          "mpg": 36,
          "origin": 2,
          "weight": 1825
         },
         {
          "acceleration": 15.5,
          "cylinders": 4,
          "displacement": 122,
          "horsepower": "96",
          "model year": 77,
          "mpg": 25.5,
          "origin": 1,
          "weight": 2300
         },
         {
          "acceleration": 16.8,
          "cylinders": 4,
          "displacement": 85,
          "horsepower": "70",
          "model year": 77,
          "mpg": 33.5,
          "origin": 3,
          "weight": 1945
         },
         {
          "acceleration": 12.5,
          "cylinders": 8,
          "displacement": 305,
          "horsepower": "145",
          "model year": 77,
          "mpg": 17.5,
          "origin": 1,
          "weight": 3880
         },
         {
          "acceleration": 19,
          "cylinders": 8,
          "displacement": 260,
          "horsepower": "110",
          "model year": 77,
          "mpg": 17,
          "origin": 1,
          "weight": 4060
         },
         {
          "acceleration": 13.7,
          "cylinders": 8,
          "displacement": 318,
          "horsepower": "145",
          "model year": 77,
          "mpg": 15.5,
          "origin": 1,
          "weight": 4140
         },
         {
          "acceleration": 14.9,
          "cylinders": 8,
          "displacement": 302,
          "horsepower": "130",
          "model year": 77,
          "mpg": 15,
          "origin": 1,
          "weight": 4295
         },
         {
          "acceleration": 16.4,
          "cylinders": 6,
          "displacement": 250,
          "horsepower": "110",
          "model year": 77,
          "mpg": 17.5,
          "origin": 1,
          "weight": 3520
         },
         {
          "acceleration": 16.9,
          "cylinders": 6,
          "displacement": 231,
          "horsepower": "105",
          "model year": 77,
          "mpg": 20.5,
          "origin": 1,
          "weight": 3425
         },
         {
          "acceleration": 17.7,
          "cylinders": 6,
          "displacement": 225,
          "horsepower": "100",
          "model year": 77,
          "mpg": 19,
          "origin": 1,
          "weight": 3630
         },
         {
          "acceleration": 19,
          "cylinders": 6,
          "displacement": 250,
          "horsepower": "98",
          "model year": 77,
          "mpg": 18.5,
          "origin": 1,
          "weight": 3525
         },
         {
          "acceleration": 11.1,
          "cylinders": 8,
          "displacement": 400,
          "horsepower": "180",
          "model year": 77,
          "mpg": 16,
          "origin": 1,
          "weight": 4220
         },
         {
          "acceleration": 11.4,
          "cylinders": 8,
          "displacement": 350,
          "horsepower": "170",
          "model year": 77,
          "mpg": 15.5,
          "origin": 1,
          "weight": 4165
         },
         {
          "acceleration": 12.2,
          "cylinders": 8,
          "displacement": 400,
          "horsepower": "190",
          "model year": 77,
          "mpg": 15.5,
          "origin": 1,
          "weight": 4325
         },
         {
          "acceleration": 14.5,
          "cylinders": 8,
          "displacement": 351,
          "horsepower": "149",
          "model year": 77,
          "mpg": 16,
          "origin": 1,
          "weight": 4335
         },
         {
          "acceleration": 14.5,
          "cylinders": 4,
          "displacement": 97,
          "horsepower": "78",
          "model year": 77,
          "mpg": 29,
          "origin": 2,
          "weight": 1940
         },
         {
          "acceleration": 16,
          "cylinders": 4,
          "displacement": 151,
          "horsepower": "88",
          "model year": 77,
          "mpg": 24.5,
          "origin": 1,
          "weight": 2740
         },
         {
          "acceleration": 18.2,
          "cylinders": 4,
          "displacement": 97,
          "horsepower": "75",
          "model year": 77,
          "mpg": 26,
          "origin": 3,
          "weight": 2265
         },
         {
          "acceleration": 15.8,
          "cylinders": 4,
          "displacement": 140,
          "horsepower": "89",
          "model year": 77,
          "mpg": 25.5,
          "origin": 1,
          "weight": 2755
         },
         {
          "acceleration": 17,
          "cylinders": 4,
          "displacement": 98,
          "horsepower": "63",
          "model year": 77,
          "mpg": 30.5,
          "origin": 1,
          "weight": 2051
         },
         {
          "acceleration": 15.9,
          "cylinders": 4,
          "displacement": 98,
          "horsepower": "83",
          "model year": 77,
          "mpg": 33.5,
          "origin": 1,
          "weight": 2075
         },
         {
          "acceleration": 16.4,
          "cylinders": 4,
          "displacement": 97,
          "horsepower": "67",
          "model year": 77,
          "mpg": 30,
          "origin": 3,
          "weight": 1985
         },
         {
          "acceleration": 14.1,
          "cylinders": 4,
          "displacement": 97,
          "horsepower": "78",
          "model year": 77,
          "mpg": 30.5,
          "origin": 2,
          "weight": 2190
         },
         {
          "acceleration": 14.5,
          "cylinders": 6,
          "displacement": 146,
          "horsepower": "97",
          "model year": 77,
          "mpg": 22,
          "origin": 3,
          "weight": 2815
         },
         {
          "acceleration": 12.8,
          "cylinders": 4,
          "displacement": 121,
          "horsepower": "110",
          "model year": 77,
          "mpg": 21.5,
          "origin": 2,
          "weight": 2600
         },
         {
          "acceleration": 13.5,
          "cylinders": 3,
          "displacement": 80,
          "horsepower": "110",
          "model year": 77,
          "mpg": 21.5,
          "origin": 3,
          "weight": 2720
         },
         {
          "acceleration": 21.5,
          "cylinders": 4,
          "displacement": 90,
          "horsepower": "48",
          "model year": 78,
          "mpg": 43.1,
          "origin": 2,
          "weight": 1985
         },
         {
          "acceleration": 14.4,
          "cylinders": 4,
          "displacement": 98,
          "horsepower": "66",
          "model year": 78,
          "mpg": 36.1,
          "origin": 1,
          "weight": 1800
         },
         {
          "acceleration": 19.4,
          "cylinders": 4,
          "displacement": 78,
          "horsepower": "52",
          "model year": 78,
          "mpg": 32.8,
          "origin": 3,
          "weight": 1985
         },
         {
          "acceleration": 18.6,
          "cylinders": 4,
          "displacement": 85,
          "horsepower": "70",
          "model year": 78,
          "mpg": 39.4,
          "origin": 3,
          "weight": 2070
         },
         {
          "acceleration": 16.4,
          "cylinders": 4,
          "displacement": 91,
          "horsepower": "60",
          "model year": 78,
          "mpg": 36.1,
          "origin": 3,
          "weight": 1800
         },
         {
          "acceleration": 15.5,
          "cylinders": 8,
          "displacement": 260,
          "horsepower": "110",
          "model year": 78,
          "mpg": 19.9,
          "origin": 1,
          "weight": 3365
         },
         {
          "acceleration": 13.2,
          "cylinders": 8,
          "displacement": 318,
          "horsepower": "140",
          "model year": 78,
          "mpg": 19.4,
          "origin": 1,
          "weight": 3735
         },
         {
          "acceleration": 12.8,
          "cylinders": 8,
          "displacement": 302,
          "horsepower": "139",
          "model year": 78,
          "mpg": 20.2,
          "origin": 1,
          "weight": 3570
         },
         {
          "acceleration": 19.2,
          "cylinders": 6,
          "displacement": 231,
          "horsepower": "105",
          "model year": 78,
          "mpg": 19.2,
          "origin": 1,
          "weight": 3535
         },
         {
          "acceleration": 18.2,
          "cylinders": 6,
          "displacement": 200,
          "horsepower": "95",
          "model year": 78,
          "mpg": 20.5,
          "origin": 1,
          "weight": 3155
         },
         {
          "acceleration": 15.8,
          "cylinders": 6,
          "displacement": 200,
          "horsepower": "85",
          "model year": 78,
          "mpg": 20.2,
          "origin": 1,
          "weight": 2965
         },
         {
          "acceleration": 15.4,
          "cylinders": 4,
          "displacement": 140,
          "horsepower": "88",
          "model year": 78,
          "mpg": 25.1,
          "origin": 1,
          "weight": 2720
         },
         {
          "acceleration": 17.2,
          "cylinders": 6,
          "displacement": 225,
          "horsepower": "100",
          "model year": 78,
          "mpg": 20.5,
          "origin": 1,
          "weight": 3430
         },
         {
          "acceleration": 17.2,
          "cylinders": 6,
          "displacement": 232,
          "horsepower": "90",
          "model year": 78,
          "mpg": 19.4,
          "origin": 1,
          "weight": 3210
         },
         {
          "acceleration": 15.8,
          "cylinders": 6,
          "displacement": 231,
          "horsepower": "105",
          "model year": 78,
          "mpg": 20.6,
          "origin": 1,
          "weight": 3380
         },
         {
          "acceleration": 16.7,
          "cylinders": 6,
          "displacement": 200,
          "horsepower": "85",
          "model year": 78,
          "mpg": 20.8,
          "origin": 1,
          "weight": 3070
         },
         {
          "acceleration": 18.7,
          "cylinders": 6,
          "displacement": 225,
          "horsepower": "110",
          "model year": 78,
          "mpg": 18.6,
          "origin": 1,
          "weight": 3620
         },
         {
          "acceleration": 15.1,
          "cylinders": 6,
          "displacement": 258,
          "horsepower": "120",
          "model year": 78,
          "mpg": 18.1,
          "origin": 1,
          "weight": 3410
         },
         {
          "acceleration": 13.2,
          "cylinders": 8,
          "displacement": 305,
          "horsepower": "145",
          "model year": 78,
          "mpg": 19.2,
          "origin": 1,
          "weight": 3425
         },
         {
          "acceleration": 13.4,
          "cylinders": 6,
          "displacement": 231,
          "horsepower": "165",
          "model year": 78,
          "mpg": 17.7,
          "origin": 1,
          "weight": 3445
         },
         {
          "acceleration": 11.2,
          "cylinders": 8,
          "displacement": 302,
          "horsepower": "139",
          "model year": 78,
          "mpg": 18.1,
          "origin": 1,
          "weight": 3205
         },
         {
          "acceleration": 13.7,
          "cylinders": 8,
          "displacement": 318,
          "horsepower": "140",
          "model year": 78,
          "mpg": 17.5,
          "origin": 1,
          "weight": 4080
         },
         {
          "acceleration": 16.5,
          "cylinders": 4,
          "displacement": 98,
          "horsepower": "68",
          "model year": 78,
          "mpg": 30,
          "origin": 1,
          "weight": 2155
         },
         {
          "acceleration": 14.2,
          "cylinders": 4,
          "displacement": 134,
          "horsepower": "95",
          "model year": 78,
          "mpg": 27.5,
          "origin": 3,
          "weight": 2560
         },
         {
          "acceleration": 14.7,
          "cylinders": 4,
          "displacement": 119,
          "horsepower": "97",
          "model year": 78,
          "mpg": 27.2,
          "origin": 3,
          "weight": 2300
         },
         {
          "acceleration": 14.5,
          "cylinders": 4,
          "displacement": 105,
          "horsepower": "75",
          "model year": 78,
          "mpg": 30.9,
          "origin": 1,
          "weight": 2230
         },
         {
          "acceleration": 14.8,
          "cylinders": 4,
          "displacement": 134,
          "horsepower": "95",
          "model year": 78,
          "mpg": 21.1,
          "origin": 3,
          "weight": 2515
         },
         {
          "acceleration": 16.7,
          "cylinders": 4,
          "displacement": 156,
          "horsepower": "105",
          "model year": 78,
          "mpg": 23.2,
          "origin": 1,
          "weight": 2745
         },
         {
          "acceleration": 17.6,
          "cylinders": 4,
          "displacement": 151,
          "horsepower": "85",
          "model year": 78,
          "mpg": 23.8,
          "origin": 1,
          "weight": 2855
         },
         {
          "acceleration": 14.9,
          "cylinders": 4,
          "displacement": 119,
          "horsepower": "97",
          "model year": 78,
          "mpg": 23.9,
          "origin": 3,
          "weight": 2405
         },
         {
          "acceleration": 15.9,
          "cylinders": 5,
          "displacement": 131,
          "horsepower": "103",
          "model year": 78,
          "mpg": 20.3,
          "origin": 2,
          "weight": 2830
         },
         {
          "acceleration": 13.6,
          "cylinders": 6,
          "displacement": 163,
          "horsepower": "125",
          "model year": 78,
          "mpg": 17,
          "origin": 2,
          "weight": 3140
         },
         {
          "acceleration": 15.7,
          "cylinders": 4,
          "displacement": 121,
          "horsepower": "115",
          "model year": 78,
          "mpg": 21.6,
          "origin": 2,
          "weight": 2795
         },
         {
          "acceleration": 15.8,
          "cylinders": 6,
          "displacement": 163,
          "horsepower": "133",
          "model year": 78,
          "mpg": 16.2,
          "origin": 2,
          "weight": 3410
         },
         {
          "acceleration": 14.9,
          "cylinders": 4,
          "displacement": 89,
          "horsepower": "71",
          "model year": 78,
          "mpg": 31.5,
          "origin": 2,
          "weight": 1990
         },
         {
          "acceleration": 16.6,
          "cylinders": 4,
          "displacement": 98,
          "horsepower": "68",
          "model year": 78,
          "mpg": 29.5,
          "origin": 3,
          "weight": 2135
         },
         {
          "acceleration": 15.4,
          "cylinders": 6,
          "displacement": 231,
          "horsepower": "115",
          "model year": 79,
          "mpg": 21.5,
          "origin": 1,
          "weight": 3245
         },
         {
          "acceleration": 18.2,
          "cylinders": 6,
          "displacement": 200,
          "horsepower": "85",
          "model year": 79,
          "mpg": 19.8,
          "origin": 1,
          "weight": 2990
         },
         {
          "acceleration": 17.3,
          "cylinders": 4,
          "displacement": 140,
          "horsepower": "88",
          "model year": 79,
          "mpg": 22.3,
          "origin": 1,
          "weight": 2890
         },
         {
          "acceleration": 18.2,
          "cylinders": 6,
          "displacement": 232,
          "horsepower": "90",
          "model year": 79,
          "mpg": 20.2,
          "origin": 1,
          "weight": 3265
         },
         {
          "acceleration": 16.6,
          "cylinders": 6,
          "displacement": 225,
          "horsepower": "110",
          "model year": 79,
          "mpg": 20.6,
          "origin": 1,
          "weight": 3360
         },
         {
          "acceleration": 15.4,
          "cylinders": 8,
          "displacement": 305,
          "horsepower": "130",
          "model year": 79,
          "mpg": 17,
          "origin": 1,
          "weight": 3840
         },
         {
          "acceleration": 13.4,
          "cylinders": 8,
          "displacement": 302,
          "horsepower": "129",
          "model year": 79,
          "mpg": 17.6,
          "origin": 1,
          "weight": 3725
         },
         {
          "acceleration": 13.2,
          "cylinders": 8,
          "displacement": 351,
          "horsepower": "138",
          "model year": 79,
          "mpg": 16.5,
          "origin": 1,
          "weight": 3955
         },
         {
          "acceleration": 15.2,
          "cylinders": 8,
          "displacement": 318,
          "horsepower": "135",
          "model year": 79,
          "mpg": 18.2,
          "origin": 1,
          "weight": 3830
         },
         {
          "acceleration": 14.9,
          "cylinders": 8,
          "displacement": 350,
          "horsepower": "155",
          "model year": 79,
          "mpg": 16.9,
          "origin": 1,
          "weight": 4360
         },
         {
          "acceleration": 14.3,
          "cylinders": 8,
          "displacement": 351,
          "horsepower": "142",
          "model year": 79,
          "mpg": 15.5,
          "origin": 1,
          "weight": 4054
         },
         {
          "acceleration": 15,
          "cylinders": 8,
          "displacement": 267,
          "horsepower": "125",
          "model year": 79,
          "mpg": 19.2,
          "origin": 1,
          "weight": 3605
         },
         {
          "acceleration": 13,
          "cylinders": 8,
          "displacement": 360,
          "horsepower": "150",
          "model year": 79,
          "mpg": 18.5,
          "origin": 1,
          "weight": 3940
         },
         {
          "acceleration": 14,
          "cylinders": 4,
          "displacement": 89,
          "horsepower": "71",
          "model year": 79,
          "mpg": 31.9,
          "origin": 2,
          "weight": 1925
         },
         {
          "acceleration": 15.2,
          "cylinders": 4,
          "displacement": 86,
          "horsepower": "65",
          "model year": 79,
          "mpg": 34.1,
          "origin": 3,
          "weight": 1975
         },
         {
          "acceleration": 14.4,
          "cylinders": 4,
          "displacement": 98,
          "horsepower": "80",
          "model year": 79,
          "mpg": 35.7,
          "origin": 1,
          "weight": 1915
         },
         {
          "acceleration": 15,
          "cylinders": 4,
          "displacement": 121,
          "horsepower": "80",
          "model year": 79,
          "mpg": 27.4,
          "origin": 1,
          "weight": 2670
         },
         {
          "acceleration": 20.1,
          "cylinders": 5,
          "displacement": 183,
          "horsepower": "77",
          "model year": 79,
          "mpg": 25.4,
          "origin": 2,
          "weight": 3530
         },
         {
          "acceleration": 17.4,
          "cylinders": 8,
          "displacement": 350,
          "horsepower": "125",
          "model year": 79,
          "mpg": 23,
          "origin": 1,
          "weight": 3900
         },
         {
          "acceleration": 24.8,
          "cylinders": 4,
          "displacement": 141,
          "horsepower": "71",
          "model year": 79,
          "mpg": 27.2,
          "origin": 2,
          "weight": 3190
         },
         {
          "acceleration": 22.2,
          "cylinders": 8,
          "displacement": 260,
          "horsepower": "90",
          "model year": 79,
          "mpg": 23.9,
          "origin": 1,
          "weight": 3420
         },
         {
          "acceleration": 13.2,
          "cylinders": 4,
          "displacement": 105,
          "horsepower": "70",
          "model year": 79,
          "mpg": 34.2,
          "origin": 1,
          "weight": 2200
         },
         {
          "acceleration": 14.9,
          "cylinders": 4,
          "displacement": 105,
          "horsepower": "70",
          "model year": 79,
          "mpg": 34.5,
          "origin": 1,
          "weight": 2150
         },
         {
          "acceleration": 19.2,
          "cylinders": 4,
          "displacement": 85,
          "horsepower": "65",
          "model year": 79,
          "mpg": 31.8,
          "origin": 3,
          "weight": 2020
         },
         {
          "acceleration": 14.7,
          "cylinders": 4,
          "displacement": 91,
          "horsepower": "69",
          "model year": 79,
          "mpg": 37.3,
          "origin": 2,
          "weight": 2130
         },
         {
          "acceleration": 16,
          "cylinders": 4,
          "displacement": 151,
          "horsepower": "90",
          "model year": 79,
          "mpg": 28.4,
          "origin": 1,
          "weight": 2670
         },
         {
          "acceleration": 11.3,
          "cylinders": 6,
          "displacement": 173,
          "horsepower": "115",
          "model year": 79,
          "mpg": 28.8,
          "origin": 1,
          "weight": 2595
         },
         {
          "acceleration": 12.9,
          "cylinders": 6,
          "displacement": 173,
          "horsepower": "115",
          "model year": 79,
          "mpg": 26.8,
          "origin": 1,
          "weight": 2700
         },
         {
          "acceleration": 13.2,
          "cylinders": 4,
          "displacement": 151,
          "horsepower": "90",
          "model year": 79,
          "mpg": 33.5,
          "origin": 1,
          "weight": 2556
         },
         {
          "acceleration": 14.7,
          "cylinders": 4,
          "displacement": 98,
          "horsepower": "76",
          "model year": 80,
          "mpg": 41.5,
          "origin": 2,
          "weight": 2144
         },
         {
          "acceleration": 18.8,
          "cylinders": 4,
          "displacement": 89,
          "horsepower": "60",
          "model year": 80,
          "mpg": 38.1,
          "origin": 3,
          "weight": 1968
         },
         {
          "acceleration": 15.5,
          "cylinders": 4,
          "displacement": 98,
          "horsepower": "70",
          "model year": 80,
          "mpg": 32.1,
          "origin": 1,
          "weight": 2120
         },
         {
          "acceleration": 16.4,
          "cylinders": 4,
          "displacement": 86,
          "horsepower": "65",
          "model year": 80,
          "mpg": 37.2,
          "origin": 3,
          "weight": 2019
         },
         {
          "acceleration": 16.5,
          "cylinders": 4,
          "displacement": 151,
          "horsepower": "90",
          "model year": 80,
          "mpg": 28,
          "origin": 1,
          "weight": 2678
         },
         {
          "acceleration": 18.1,
          "cylinders": 4,
          "displacement": 140,
          "horsepower": "88",
          "model year": 80,
          "mpg": 26.4,
          "origin": 1,
          "weight": 2870
         },
         {
          "acceleration": 20.1,
          "cylinders": 4,
          "displacement": 151,
          "horsepower": "90",
          "model year": 80,
          "mpg": 24.3,
          "origin": 1,
          "weight": 3003
         },
         {
          "acceleration": 18.7,
          "cylinders": 6,
          "displacement": 225,
          "horsepower": "90",
          "model year": 80,
          "mpg": 19.1,
          "origin": 1,
          "weight": 3381
         },
         {
          "acceleration": 15.8,
          "cylinders": 4,
          "displacement": 97,
          "horsepower": "78",
          "model year": 80,
          "mpg": 34.3,
          "origin": 2,
          "weight": 2188
         },
         {
          "acceleration": 15.5,
          "cylinders": 4,
          "displacement": 134,
          "horsepower": "90",
          "model year": 80,
          "mpg": 29.8,
          "origin": 3,
          "weight": 2711
         },
         {
          "acceleration": 17.5,
          "cylinders": 4,
          "displacement": 120,
          "horsepower": "75",
          "model year": 80,
          "mpg": 31.3,
          "origin": 3,
          "weight": 2542
         },
         {
          "acceleration": 15,
          "cylinders": 4,
          "displacement": 119,
          "horsepower": "92",
          "model year": 80,
          "mpg": 37,
          "origin": 3,
          "weight": 2434
         },
         {
          "acceleration": 15.2,
          "cylinders": 4,
          "displacement": 108,
          "horsepower": "75",
          "model year": 80,
          "mpg": 32.2,
          "origin": 3,
          "weight": 2265
         },
         {
          "acceleration": 17.9,
          "cylinders": 4,
          "displacement": 86,
          "horsepower": "65",
          "model year": 80,
          "mpg": 46.6,
          "origin": 3,
          "weight": 2110
         },
         {
          "acceleration": 14.4,
          "cylinders": 4,
          "displacement": 156,
          "horsepower": "105",
          "model year": 80,
          "mpg": 27.9,
          "origin": 1,
          "weight": 2800
         },
         {
          "acceleration": 19.2,
          "cylinders": 4,
          "displacement": 85,
          "horsepower": "65",
          "model year": 80,
          "mpg": 40.8,
          "origin": 3,
          "weight": 2110
         },
         {
          "acceleration": 21.7,
          "cylinders": 4,
          "displacement": 90,
          "horsepower": "48",
          "model year": 80,
          "mpg": 44.3,
          "origin": 2,
          "weight": 2085
         },
         {
          "acceleration": 23.7,
          "cylinders": 4,
          "displacement": 90,
          "horsepower": "48",
          "model year": 80,
          "mpg": 43.4,
          "origin": 2,
          "weight": 2335
         },
         {
          "acceleration": 19.9,
          "cylinders": 5,
          "displacement": 121,
          "horsepower": "67",
          "model year": 80,
          "mpg": 36.4,
          "origin": 2,
          "weight": 2950
         },
         {
          "acceleration": 21.8,
          "cylinders": 4,
          "displacement": 146,
          "horsepower": "67",
          "model year": 80,
          "mpg": 30,
          "origin": 2,
          "weight": 3250
         },
         {
          "acceleration": 13.8,
          "cylinders": 4,
          "displacement": 91,
          "horsepower": "67",
          "model year": 80,
          "mpg": 44.6,
          "origin": 3,
          "weight": 1850
         },
         {
          "acceleration": 17.3,
          "cylinders": 4,
          "displacement": 85,
          "horsepower": "?",
          "model year": 80,
          "mpg": 40.9,
          "origin": 2,
          "weight": 1835
         },
         {
          "acceleration": 18,
          "cylinders": 4,
          "displacement": 97,
          "horsepower": "67",
          "model year": 80,
          "mpg": 33.8,
          "origin": 3,
          "weight": 2145
         },
         {
          "acceleration": 15.3,
          "cylinders": 4,
          "displacement": 89,
          "horsepower": "62",
          "model year": 80,
          "mpg": 29.8,
          "origin": 2,
          "weight": 1845
         },
         {
          "acceleration": 11.4,
          "cylinders": 6,
          "displacement": 168,
          "horsepower": "132",
          "model year": 80,
          "mpg": 32.7,
          "origin": 3,
          "weight": 2910
         },
         {
          "acceleration": 12.5,
          "cylinders": 3,
          "displacement": 70,
          "horsepower": "100",
          "model year": 80,
          "mpg": 23.7,
          "origin": 3,
          "weight": 2420
         },
         {
          "acceleration": 15.1,
          "cylinders": 4,
          "displacement": 122,
          "horsepower": "88",
          "model year": 80,
          "mpg": 35,
          "origin": 2,
          "weight": 2500
         },
         {
          "acceleration": 14.3,
          "cylinders": 4,
          "displacement": 140,
          "horsepower": "?",
          "model year": 80,
          "mpg": 23.6,
          "origin": 1,
          "weight": 2905
         },
         {
          "acceleration": 17,
          "cylinders": 4,
          "displacement": 107,
          "horsepower": "72",
          "model year": 80,
          "mpg": 32.4,
          "origin": 3,
          "weight": 2290
         },
         {
          "acceleration": 15.7,
          "cylinders": 4,
          "displacement": 135,
          "horsepower": "84",
          "model year": 81,
          "mpg": 27.2,
          "origin": 1,
          "weight": 2490
         },
         {
          "acceleration": 16.4,
          "cylinders": 4,
          "displacement": 151,
          "horsepower": "84",
          "model year": 81,
          "mpg": 26.6,
          "origin": 1,
          "weight": 2635
         },
         {
          "acceleration": 14.4,
          "cylinders": 4,
          "displacement": 156,
          "horsepower": "92",
          "model year": 81,
          "mpg": 25.8,
          "origin": 1,
          "weight": 2620
         },
         {
          "acceleration": 12.6,
          "cylinders": 6,
          "displacement": 173,
          "horsepower": "110",
          "model year": 81,
          "mpg": 23.5,
          "origin": 1,
          "weight": 2725
         },
         {
          "acceleration": 12.9,
          "cylinders": 4,
          "displacement": 135,
          "horsepower": "84",
          "model year": 81,
          "mpg": 30,
          "origin": 1,
          "weight": 2385
         },
         {
          "acceleration": 16.9,
          "cylinders": 4,
          "displacement": 79,
          "horsepower": "58",
          "model year": 81,
          "mpg": 39.1,
          "origin": 3,
          "weight": 1755
         },
         {
          "acceleration": 16.4,
          "cylinders": 4,
          "displacement": 86,
          "horsepower": "64",
          "model year": 81,
          "mpg": 39,
          "origin": 1,
          "weight": 1875
         },
         {
          "acceleration": 16.1,
          "cylinders": 4,
          "displacement": 81,
          "horsepower": "60",
          "model year": 81,
          "mpg": 35.1,
          "origin": 3,
          "weight": 1760
         },
         {
          "acceleration": 17.8,
          "cylinders": 4,
          "displacement": 97,
          "horsepower": "67",
          "model year": 81,
          "mpg": 32.3,
          "origin": 3,
          "weight": 2065
         },
         {
          "acceleration": 19.4,
          "cylinders": 4,
          "displacement": 85,
          "horsepower": "65",
          "model year": 81,
          "mpg": 37,
          "origin": 3,
          "weight": 1975
         },
         {
          "acceleration": 17.3,
          "cylinders": 4,
          "displacement": 89,
          "horsepower": "62",
          "model year": 81,
          "mpg": 37.7,
          "origin": 3,
          "weight": 2050
         },
         {
          "acceleration": 16,
          "cylinders": 4,
          "displacement": 91,
          "horsepower": "68",
          "model year": 81,
          "mpg": 34.1,
          "origin": 3,
          "weight": 1985
         },
         {
          "acceleration": 14.9,
          "cylinders": 4,
          "displacement": 105,
          "horsepower": "63",
          "model year": 81,
          "mpg": 34.7,
          "origin": 1,
          "weight": 2215
         },
         {
          "acceleration": 16.2,
          "cylinders": 4,
          "displacement": 98,
          "horsepower": "65",
          "model year": 81,
          "mpg": 34.4,
          "origin": 1,
          "weight": 2045
         },
         {
          "acceleration": 20.7,
          "cylinders": 4,
          "displacement": 98,
          "horsepower": "65",
          "model year": 81,
          "mpg": 29.9,
          "origin": 1,
          "weight": 2380
         },
         {
          "acceleration": 14.2,
          "cylinders": 4,
          "displacement": 105,
          "horsepower": "74",
          "model year": 81,
          "mpg": 33,
          "origin": 2,
          "weight": 2190
         },
         {
          "acceleration": 15.8,
          "cylinders": 4,
          "displacement": 100,
          "horsepower": "?",
          "model year": 81,
          "mpg": 34.5,
          "origin": 2,
          "weight": 2320
         },
         {
          "acceleration": 14.4,
          "cylinders": 4,
          "displacement": 107,
          "horsepower": "75",
          "model year": 81,
          "mpg": 33.7,
          "origin": 3,
          "weight": 2210
         },
         {
          "acceleration": 16.8,
          "cylinders": 4,
          "displacement": 108,
          "horsepower": "75",
          "model year": 81,
          "mpg": 32.4,
          "origin": 3,
          "weight": 2350
         },
         {
          "acceleration": 14.8,
          "cylinders": 4,
          "displacement": 119,
          "horsepower": "100",
          "model year": 81,
          "mpg": 32.9,
          "origin": 3,
          "weight": 2615
         },
         {
          "acceleration": 18.3,
          "cylinders": 4,
          "displacement": 120,
          "horsepower": "74",
          "model year": 81,
          "mpg": 31.6,
          "origin": 3,
          "weight": 2635
         },
         {
          "acceleration": 20.4,
          "cylinders": 4,
          "displacement": 141,
          "horsepower": "80",
          "model year": 81,
          "mpg": 28.1,
          "origin": 2,
          "weight": 3230
         },
         {
          "acceleration": 19.6,
          "cylinders": 6,
          "displacement": 145,
          "horsepower": "76",
          "model year": 81,
          "mpg": 30.7,
          "origin": 2,
          "weight": 3160
         },
         {
          "acceleration": 12.6,
          "cylinders": 6,
          "displacement": 168,
          "horsepower": "116",
          "model year": 81,
          "mpg": 25.4,
          "origin": 3,
          "weight": 2900
         },
         {
          "acceleration": 13.8,
          "cylinders": 6,
          "displacement": 146,
          "horsepower": "120",
          "model year": 81,
          "mpg": 24.2,
          "origin": 3,
          "weight": 2930
         },
         {
          "acceleration": 15.8,
          "cylinders": 6,
          "displacement": 231,
          "horsepower": "110",
          "model year": 81,
          "mpg": 22.4,
          "origin": 1,
          "weight": 3415
         },
         {
          "acceleration": 19,
          "cylinders": 8,
          "displacement": 350,
          "horsepower": "105",
          "model year": 81,
          "mpg": 26.6,
          "origin": 1,
          "weight": 3725
         },
         {
          "acceleration": 17.1,
          "cylinders": 6,
          "displacement": 200,
          "horsepower": "88",
          "model year": 81,
          "mpg": 20.2,
          "origin": 1,
          "weight": 3060
         },
         {
          "acceleration": 16.6,
          "cylinders": 6,
          "displacement": 225,
          "horsepower": "85",
          "model year": 81,
          "mpg": 17.6,
          "origin": 1,
          "weight": 3465
         },
         {
          "acceleration": 19.6,
          "cylinders": 4,
          "displacement": 112,
          "horsepower": "88",
          "model year": 82,
          "mpg": 28,
          "origin": 1,
          "weight": 2605
         },
         {
          "acceleration": 18.6,
          "cylinders": 4,
          "displacement": 112,
          "horsepower": "88",
          "model year": 82,
          "mpg": 27,
          "origin": 1,
          "weight": 2640
         },
         {
          "acceleration": 18,
          "cylinders": 4,
          "displacement": 112,
          "horsepower": "88",
          "model year": 82,
          "mpg": 34,
          "origin": 1,
          "weight": 2395
         },
         {
          "acceleration": 16.2,
          "cylinders": 4,
          "displacement": 112,
          "horsepower": "85",
          "model year": 82,
          "mpg": 31,
          "origin": 1,
          "weight": 2575
         },
         {
          "acceleration": 16,
          "cylinders": 4,
          "displacement": 135,
          "horsepower": "84",
          "model year": 82,
          "mpg": 29,
          "origin": 1,
          "weight": 2525
         },
         {
          "acceleration": 18,
          "cylinders": 4,
          "displacement": 151,
          "horsepower": "90",
          "model year": 82,
          "mpg": 27,
          "origin": 1,
          "weight": 2735
         },
         {
          "acceleration": 16.4,
          "cylinders": 4,
          "displacement": 140,
          "horsepower": "92",
          "model year": 82,
          "mpg": 24,
          "origin": 1,
          "weight": 2865
         },
         {
          "acceleration": 20.5,
          "cylinders": 4,
          "displacement": 151,
          "horsepower": "?",
          "model year": 82,
          "mpg": 23,
          "origin": 1,
          "weight": 3035
         },
         {
          "acceleration": 15.3,
          "cylinders": 4,
          "displacement": 105,
          "horsepower": "74",
          "model year": 82,
          "mpg": 36,
          "origin": 2,
          "weight": 1980
         },
         {
          "acceleration": 18.2,
          "cylinders": 4,
          "displacement": 91,
          "horsepower": "68",
          "model year": 82,
          "mpg": 37,
          "origin": 3,
          "weight": 2025
         },
         {
          "acceleration": 17.6,
          "cylinders": 4,
          "displacement": 91,
          "horsepower": "68",
          "model year": 82,
          "mpg": 31,
          "origin": 3,
          "weight": 1970
         },
         {
          "acceleration": 14.7,
          "cylinders": 4,
          "displacement": 105,
          "horsepower": "63",
          "model year": 82,
          "mpg": 38,
          "origin": 1,
          "weight": 2125
         },
         {
          "acceleration": 17.3,
          "cylinders": 4,
          "displacement": 98,
          "horsepower": "70",
          "model year": 82,
          "mpg": 36,
          "origin": 1,
          "weight": 2125
         },
         {
          "acceleration": 14.5,
          "cylinders": 4,
          "displacement": 120,
          "horsepower": "88",
          "model year": 82,
          "mpg": 36,
          "origin": 3,
          "weight": 2160
         },
         {
          "acceleration": 14.5,
          "cylinders": 4,
          "displacement": 107,
          "horsepower": "75",
          "model year": 82,
          "mpg": 36,
          "origin": 3,
          "weight": 2205
         },
         {
          "acceleration": 16.9,
          "cylinders": 4,
          "displacement": 108,
          "horsepower": "70",
          "model year": 82,
          "mpg": 34,
          "origin": 3,
          "weight": 2245
         },
         {
          "acceleration": 15,
          "cylinders": 4,
          "displacement": 91,
          "horsepower": "67",
          "model year": 82,
          "mpg": 38,
          "origin": 3,
          "weight": 1965
         },
         {
          "acceleration": 15.7,
          "cylinders": 4,
          "displacement": 91,
          "horsepower": "67",
          "model year": 82,
          "mpg": 32,
          "origin": 3,
          "weight": 1965
         },
         {
          "acceleration": 16.2,
          "cylinders": 4,
          "displacement": 91,
          "horsepower": "67",
          "model year": 82,
          "mpg": 38,
          "origin": 3,
          "weight": 1995
         },
         {
          "acceleration": 16.4,
          "cylinders": 6,
          "displacement": 181,
          "horsepower": "110",
          "model year": 82,
          "mpg": 25,
          "origin": 1,
          "weight": 2945
         },
         {
          "acceleration": 17,
          "cylinders": 6,
          "displacement": 262,
          "horsepower": "85",
          "model year": 82,
          "mpg": 38,
          "origin": 1,
          "weight": 3015
         },
         {
          "acceleration": 14.5,
          "cylinders": 4,
          "displacement": 156,
          "horsepower": "92",
          "model year": 82,
          "mpg": 26,
          "origin": 1,
          "weight": 2585
         },
         {
          "acceleration": 14.7,
          "cylinders": 6,
          "displacement": 232,
          "horsepower": "112",
          "model year": 82,
          "mpg": 22,
          "origin": 1,
          "weight": 2835
         },
         {
          "acceleration": 13.9,
          "cylinders": 4,
          "displacement": 144,
          "horsepower": "96",
          "model year": 82,
          "mpg": 32,
          "origin": 3,
          "weight": 2665
         },
         {
          "acceleration": 13,
          "cylinders": 4,
          "displacement": 135,
          "horsepower": "84",
          "model year": 82,
          "mpg": 36,
          "origin": 1,
          "weight": 2370
         },
         {
          "acceleration": 17.3,
          "cylinders": 4,
          "displacement": 151,
          "horsepower": "90",
          "model year": 82,
          "mpg": 27,
          "origin": 1,
          "weight": 2950
         },
         {
          "acceleration": 15.6,
          "cylinders": 4,
          "displacement": 140,
          "horsepower": "86",
          "model year": 82,
          "mpg": 27,
          "origin": 1,
          "weight": 2790
         },
         {
          "acceleration": 24.6,
          "cylinders": 4,
          "displacement": 97,
          "horsepower": "52",
          "model year": 82,
          "mpg": 44,
          "origin": 2,
          "weight": 2130
         },
         {
          "acceleration": 11.6,
          "cylinders": 4,
          "displacement": 135,
          "horsepower": "84",
          "model year": 82,
          "mpg": 32,
          "origin": 1,
          "weight": 2295
         },
         {
          "acceleration": 18.6,
          "cylinders": 4,
          "displacement": 120,
          "horsepower": "79",
          "model year": 82,
          "mpg": 28,
          "origin": 1,
          "weight": 2625
         },
         {
          "acceleration": 19.4,
          "cylinders": 4,
          "displacement": 119,
          "horsepower": "82",
          "model year": 82,
          "mpg": 31,
          "origin": 1,
          "weight": 2720
         }
        ]
       },
       "encoding": {
        "color": {
         "field": "origin",
         "type": "nominal"
        },
        "x": {
         "field": "mpg",
         "type": "quantitative"
        },
        "y": {
         "field": "horsepower",
         "type": "quantitative"
        }
       },
       "mark": "point"
      },
      "image/png": "[encoded data removed]",
      "text/plain": [
       "<VegaLite 3 object>\n",
       "\n",
       "If you see this message, it means the renderer has not been properly enabled\n",
       "for the frontend that you are using. For more information, see\n",
       "https://altair-viz.github.io/user_guide/troubleshooting.html\n"
      ]
     },
     "execution_count": 14,
     "metadata": {},
     "output_type": "execute_result"
    }
   ],
   "source": [
    "\n",
    "alt.Chart(cars).mark_point().encode(\n",
    "    x='mpg:Q',\n",
    "    y='horsepower:Q',\n",
    "    color='origin:N'\n",
    ")"
   ]
  },
  {
   "cell_type": "code",
   "execution_count": 15,
   "metadata": {},
   "outputs": [
    {
     "data": {
      "application/vnd.vegalite.v3+json": {
       "$schema": "https://vega.github.io/schema/vega-lite/v3.2.1.json",
       "config": {
        "mark": {
         "tooltip": null
        },
        "view": {
         "height": 300,
         "width": 400
        }
       },
       "datasets": {
        "data-0b25d0b50cf28a82b5dcadb7d45f0bc1": [
         {
          "acceleration": 12,
          "cylinders": 8,
          "displacement": 307,
          "horsepower": "130",
          "model year": 70,
          "mpg": 18,
          "origin": 1,
          "weight": 3504
         },
         {
          "acceleration": 11.5,
          "cylinders": 8,
          "displacement": 350,
          "horsepower": "165",
          "model year": 70,
          "mpg": 15,
          "origin": 1,
          "weight": 3693
         },
         {
          "acceleration": 11,
          "cylinders": 8,
          "displacement": 318,
          "horsepower": "150",
          "model year": 70,
          "mpg": 18,
          "origin": 1,
          "weight": 3436
         },
         {
          "acceleration": 12,
          "cylinders": 8,
          "displacement": 304,
          "horsepower": "150",
          "model year": 70,
          "mpg": 16,
          "origin": 1,
          "weight": 3433
         },
         {
          "acceleration": 10.5,
          "cylinders": 8,
          "displacement": 302,
          "horsepower": "140",
          "model year": 70,
          "mpg": 17,
          "origin": 1,
          "weight": 3449
         },
         {
          "acceleration": 10,
          "cylinders": 8,
          "displacement": 429,
          "horsepower": "198",
          "model year": 70,
          "mpg": 15,
          "origin": 1,
          "weight": 4341
         },
         {
          "acceleration": 9,
          "cylinders": 8,
          "displacement": 454,
          "horsepower": "220",
          "model year": 70,
          "mpg": 14,
          "origin": 1,
          "weight": 4354
         },
         {
          "acceleration": 8.5,
          "cylinders": 8,
          "displacement": 440,
          "horsepower": "215",
          "model year": 70,
          "mpg": 14,
          "origin": 1,
          "weight": 4312
         },
         {
          "acceleration": 10,
          "cylinders": 8,
          "displacement": 455,
          "horsepower": "225",
          "model year": 70,
          "mpg": 14,
          "origin": 1,
          "weight": 4425
         },
         {
          "acceleration": 8.5,
          "cylinders": 8,
          "displacement": 390,
          "horsepower": "190",
          "model year": 70,
          "mpg": 15,
          "origin": 1,
          "weight": 3850
         },
         {
          "acceleration": 10,
          "cylinders": 8,
          "displacement": 383,
          "horsepower": "170",
          "model year": 70,
          "mpg": 15,
          "origin": 1,
          "weight": 3563
         },
         {
          "acceleration": 8,
          "cylinders": 8,
          "displacement": 340,
          "horsepower": "160",
          "model year": 70,
          "mpg": 14,
          "origin": 1,
          "weight": 3609
         },
         {
          "acceleration": 9.5,
          "cylinders": 8,
          "displacement": 400,
          "horsepower": "150",
          "model year": 70,
          "mpg": 15,
          "origin": 1,
          "weight": 3761
         },
         {
          "acceleration": 10,
          "cylinders": 8,
          "displacement": 455,
          "horsepower": "225",
          "model year": 70,
          "mpg": 14,
          "origin": 1,
          "weight": 3086
         },
         {
          "acceleration": 15,
          "cylinders": 4,
          "displacement": 113,
          "horsepower": "95",
          "model year": 70,
          "mpg": 24,
          "origin": 3,
          "weight": 2372
         },
         {
          "acceleration": 15.5,
          "cylinders": 6,
          "displacement": 198,
          "horsepower": "95",
          "model year": 70,
          "mpg": 22,
          "origin": 1,
          "weight": 2833
         },
         {
          "acceleration": 15.5,
          "cylinders": 6,
          "displacement": 199,
          "horsepower": "97",
          "model year": 70,
          "mpg": 18,
          "origin": 1,
          "weight": 2774
         },
         {
          "acceleration": 16,
          "cylinders": 6,
          "displacement": 200,
          "horsepower": "85",
          "model year": 70,
          "mpg": 21,
          "origin": 1,
          "weight": 2587
         },
         {
          "acceleration": 14.5,
          "cylinders": 4,
          "displacement": 97,
          "horsepower": "88",
          "model year": 70,
          "mpg": 27,
          "origin": 3,
          "weight": 2130
         },
         {
          "acceleration": 20.5,
          "cylinders": 4,
          "displacement": 97,
          "horsepower": "46",
          "model year": 70,
          "mpg": 26,
          "origin": 2,
          "weight": 1835
         },
         {
          "acceleration": 17.5,
          "cylinders": 4,
          "displacement": 110,
          "horsepower": "87",
          "model year": 70,
          "mpg": 25,
          "origin": 2,
          "weight": 2672
         },
         {
          "acceleration": 14.5,
          "cylinders": 4,
          "displacement": 107,
          "horsepower": "90",
          "model year": 70,
          "mpg": 24,
          "origin": 2,
          "weight": 2430
         },
         {
          "acceleration": 17.5,
          "cylinders": 4,
          "displacement": 104,
          "horsepower": "95",
          "model year": 70,
          "mpg": 25,
          "origin": 2,
          "weight": 2375
         },
         {
          "acceleration": 12.5,
          "cylinders": 4,
          "displacement": 121,
          "horsepower": "113",
          "model year": 70,
          "mpg": 26,
          "origin": 2,
          "weight": 2234
         },
         {
          "acceleration": 15,
          "cylinders": 6,
          "displacement": 199,
          "horsepower": "90",
          "model year": 70,
          "mpg": 21,
          "origin": 1,
          "weight": 2648
         },
         {
          "acceleration": 14,
          "cylinders": 8,
          "displacement": 360,
          "horsepower": "215",
          "model year": 70,
          "mpg": 10,
          "origin": 1,
          "weight": 4615
         },
         {
          "acceleration": 15,
          "cylinders": 8,
          "displacement": 307,
          "horsepower": "200",
          "model year": 70,
          "mpg": 10,
          "origin": 1,
          "weight": 4376
         },
         {
          "acceleration": 13.5,
          "cylinders": 8,
          "displacement": 318,
          "horsepower": "210",
          "model year": 70,
          "mpg": 11,
          "origin": 1,
          "weight": 4382
         },
         {
          "acceleration": 18.5,
          "cylinders": 8,
          "displacement": 304,
          "horsepower": "193",
          "model year": 70,
          "mpg": 9,
          "origin": 1,
          "weight": 4732
         },
         {
          "acceleration": 14.5,
          "cylinders": 4,
          "displacement": 97,
          "horsepower": "88",
          "model year": 71,
          "mpg": 27,
          "origin": 3,
          "weight": 2130
         },
         {
          "acceleration": 15.5,
          "cylinders": 4,
          "displacement": 140,
          "horsepower": "90",
          "model year": 71,
          "mpg": 28,
          "origin": 1,
          "weight": 2264
         },
         {
          "acceleration": 14,
          "cylinders": 4,
          "displacement": 113,
          "horsepower": "95",
          "model year": 71,
          "mpg": 25,
          "origin": 3,
          "weight": 2228
         },
         {
          "acceleration": 19,
          "cylinders": 4,
          "displacement": 98,
          "horsepower": "?",
          "model year": 71,
          "mpg": 25,
          "origin": 1,
          "weight": 2046
         },
         {
          "acceleration": 13,
          "cylinders": 6,
          "displacement": 232,
          "horsepower": "100",
          "model year": 71,
          "mpg": 19,
          "origin": 1,
          "weight": 2634
         },
         {
          "acceleration": 15.5,
          "cylinders": 6,
          "displacement": 225,
          "horsepower": "105",
          "model year": 71,
          "mpg": 16,
          "origin": 1,
          "weight": 3439
         },
         {
          "acceleration": 15.5,
          "cylinders": 6,
          "displacement": 250,
          "horsepower": "100",
          "model year": 71,
          "mpg": 17,
          "origin": 1,
          "weight": 3329
         },
         {
          "acceleration": 15.5,
          "cylinders": 6,
          "displacement": 250,
          "horsepower": "88",
          "model year": 71,
          "mpg": 19,
          "origin": 1,
          "weight": 3302
         },
         {
          "acceleration": 15.5,
          "cylinders": 6,
          "displacement": 232,
          "horsepower": "100",
          "model year": 71,
          "mpg": 18,
          "origin": 1,
          "weight": 3288
         },
         {
          "acceleration": 12,
          "cylinders": 8,
          "displacement": 350,
          "horsepower": "165",
          "model year": 71,
          "mpg": 14,
          "origin": 1,
          "weight": 4209
         },
         {
          "acceleration": 11.5,
          "cylinders": 8,
          "displacement": 400,
          "horsepower": "175",
          "model year": 71,
          "mpg": 14,
          "origin": 1,
          "weight": 4464
         },
         {
          "acceleration": 13.5,
          "cylinders": 8,
          "displacement": 351,
          "horsepower": "153",
          "model year": 71,
          "mpg": 14,
          "origin": 1,
          "weight": 4154
         },
         {
          "acceleration": 13,
          "cylinders": 8,
          "displacement": 318,
          "horsepower": "150",
          "model year": 71,
          "mpg": 14,
          "origin": 1,
          "weight": 4096
         },
         {
          "acceleration": 11.5,
          "cylinders": 8,
          "displacement": 383,
          "horsepower": "180",
          "model year": 71,
          "mpg": 12,
          "origin": 1,
          "weight": 4955
         },
         {
          "acceleration": 12,
          "cylinders": 8,
          "displacement": 400,
          "horsepower": "170",
          "model year": 71,
          "mpg": 13,
          "origin": 1,
          "weight": 4746
         },
         {
          "acceleration": 12,
          "cylinders": 8,
          "displacement": 400,
          "horsepower": "175",
          "model year": 71,
          "mpg": 13,
          "origin": 1,
          "weight": 5140
         },
         {
          "acceleration": 13.5,
          "cylinders": 6,
          "displacement": 258,
          "horsepower": "110",
          "model year": 71,
          "mpg": 18,
          "origin": 1,
          "weight": 2962
         },
         {
          "acceleration": 19,
          "cylinders": 4,
          "displacement": 140,
          "horsepower": "72",
          "model year": 71,
          "mpg": 22,
          "origin": 1,
          "weight": 2408
         },
         {
          "acceleration": 15,
          "cylinders": 6,
          "displacement": 250,
          "horsepower": "100",
          "model year": 71,
          "mpg": 19,
          "origin": 1,
          "weight": 3282
         },
         {
          "acceleration": 14.5,
          "cylinders": 6,
          "displacement": 250,
          "horsepower": "88",
          "model year": 71,
          "mpg": 18,
          "origin": 1,
          "weight": 3139
         },
         {
          "acceleration": 14,
          "cylinders": 4,
          "displacement": 122,
          "horsepower": "86",
          "model year": 71,
          "mpg": 23,
          "origin": 1,
          "weight": 2220
         },
         {
          "acceleration": 14,
          "cylinders": 4,
          "displacement": 116,
          "horsepower": "90",
          "model year": 71,
          "mpg": 28,
          "origin": 2,
          "weight": 2123
         },
         {
          "acceleration": 19.5,
          "cylinders": 4,
          "displacement": 79,
          "horsepower": "70",
          "model year": 71,
          "mpg": 30,
          "origin": 2,
          "weight": 2074
         },
         {
          "acceleration": 14.5,
          "cylinders": 4,
          "displacement": 88,
          "horsepower": "76",
          "model year": 71,
          "mpg": 30,
          "origin": 2,
          "weight": 2065
         },
         {
          "acceleration": 19,
          "cylinders": 4,
          "displacement": 71,
          "horsepower": "65",
          "model year": 71,
          "mpg": 31,
          "origin": 3,
          "weight": 1773
         },
         {
          "acceleration": 18,
          "cylinders": 4,
          "displacement": 72,
          "horsepower": "69",
          "model year": 71,
          "mpg": 35,
          "origin": 3,
          "weight": 1613
         },
         {
          "acceleration": 19,
          "cylinders": 4,
          "displacement": 97,
          "horsepower": "60",
          "model year": 71,
          "mpg": 27,
          "origin": 2,
          "weight": 1834
         },
         {
          "acceleration": 20.5,
          "cylinders": 4,
          "displacement": 91,
          "horsepower": "70",
          "model year": 71,
          "mpg": 26,
          "origin": 1,
          "weight": 1955
         },
         {
          "acceleration": 15.5,
          "cylinders": 4,
          "displacement": 113,
          "horsepower": "95",
          "model year": 72,
          "mpg": 24,
          "origin": 3,
          "weight": 2278
         },
         {
          "acceleration": 17,
          "cylinders": 4,
          "displacement": 97.5,
          "horsepower": "80",
          "model year": 72,
          "mpg": 25,
          "origin": 1,
          "weight": 2126
         },
         {
          "acceleration": 23.5,
          "cylinders": 4,
          "displacement": 97,
          "horsepower": "54",
          "model year": 72,
          "mpg": 23,
          "origin": 2,
          "weight": 2254
         },
         {
          "acceleration": 19.5,
          "cylinders": 4,
          "displacement": 140,
          "horsepower": "90",
          "model year": 72,
          "mpg": 20,
          "origin": 1,
          "weight": 2408
         },
         {
          "acceleration": 16.5,
          "cylinders": 4,
          "displacement": 122,
          "horsepower": "86",
          "model year": 72,
          "mpg": 21,
          "origin": 1,
          "weight": 2226
         },
         {
          "acceleration": 12,
          "cylinders": 8,
          "displacement": 350,
          "horsepower": "165",
          "model year": 72,
          "mpg": 13,
          "origin": 1,
          "weight": 4274
         },
         {
          "acceleration": 12,
          "cylinders": 8,
          "displacement": 400,
          "horsepower": "175",
          "model year": 72,
          "mpg": 14,
          "origin": 1,
          "weight": 4385
         },
         {
          "acceleration": 13.5,
          "cylinders": 8,
          "displacement": 318,
          "horsepower": "150",
          "model year": 72,
          "mpg": 15,
          "origin": 1,
          "weight": 4135
         },
         {
          "acceleration": 13,
          "cylinders": 8,
          "displacement": 351,
          "horsepower": "153",
          "model year": 72,
          "mpg": 14,
          "origin": 1,
          "weight": 4129
         },
         {
          "acceleration": 11.5,
          "cylinders": 8,
          "displacement": 304,
          "horsepower": "150",
          "model year": 72,
          "mpg": 17,
          "origin": 1,
          "weight": 3672
         },
         {
          "acceleration": 11,
          "cylinders": 8,
          "displacement": 429,
          "horsepower": "208",
          "model year": 72,
          "mpg": 11,
          "origin": 1,
          "weight": 4633
         },
         {
          "acceleration": 13.5,
          "cylinders": 8,
          "displacement": 350,
          "horsepower": "155",
          "model year": 72,
          "mpg": 13,
          "origin": 1,
          "weight": 4502
         },
         {
          "acceleration": 13.5,
          "cylinders": 8,
          "displacement": 350,
          "horsepower": "160",
          "model year": 72,
          "mpg": 12,
          "origin": 1,
          "weight": 4456
         },
         {
          "acceleration": 12.5,
          "cylinders": 8,
          "displacement": 400,
          "horsepower": "190",
          "model year": 72,
          "mpg": 13,
          "origin": 1,
          "weight": 4422
         },
         {
          "acceleration": 13.5,
          "cylinders": 3,
          "displacement": 70,
          "horsepower": "97",
          "model year": 72,
          "mpg": 19,
          "origin": 3,
          "weight": 2330
         },
         {
          "acceleration": 12.5,
          "cylinders": 8,
          "displacement": 304,
          "horsepower": "150",
          "model year": 72,
          "mpg": 15,
          "origin": 1,
          "weight": 3892
         },
         {
          "acceleration": 14,
          "cylinders": 8,
          "displacement": 307,
          "horsepower": "130",
          "model year": 72,
          "mpg": 13,
          "origin": 1,
          "weight": 4098
         },
         {
          "acceleration": 16,
          "cylinders": 8,
          "displacement": 302,
          "horsepower": "140",
          "model year": 72,
          "mpg": 13,
          "origin": 1,
          "weight": 4294
         },
         {
          "acceleration": 14,
          "cylinders": 8,
          "displacement": 318,
          "horsepower": "150",
          "model year": 72,
          "mpg": 14,
          "origin": 1,
          "weight": 4077
         },
         {
          "acceleration": 14.5,
          "cylinders": 4,
          "displacement": 121,
          "horsepower": "112",
          "model year": 72,
          "mpg": 18,
          "origin": 2,
          "weight": 2933
         },
         {
          "acceleration": 18,
          "cylinders": 4,
          "displacement": 121,
          "horsepower": "76",
          "model year": 72,
          "mpg": 22,
          "origin": 2,
          "weight": 2511
         },
         {
          "acceleration": 19.5,
          "cylinders": 4,
          "displacement": 120,
          "horsepower": "87",
          "model year": 72,
          "mpg": 21,
          "origin": 2,
          "weight": 2979
         },
         {
          "acceleration": 18,
          "cylinders": 4,
          "displacement": 96,
          "horsepower": "69",
          "model year": 72,
          "mpg": 26,
          "origin": 2,
          "weight": 2189
         },
         {
          "acceleration": 16,
          "cylinders": 4,
          "displacement": 122,
          "horsepower": "86",
          "model year": 72,
          "mpg": 22,
          "origin": 1,
          "weight": 2395
         },
         {
          "acceleration": 17,
          "cylinders": 4,
          "displacement": 97,
          "horsepower": "92",
          "model year": 72,
          "mpg": 28,
          "origin": 3,
          "weight": 2288
         },
         {
          "acceleration": 14.5,
          "cylinders": 4,
          "displacement": 120,
          "horsepower": "97",
          "model year": 72,
          "mpg": 23,
          "origin": 3,
          "weight": 2506
         },
         {
          "acceleration": 15,
          "cylinders": 4,
          "displacement": 98,
          "horsepower": "80",
          "model year": 72,
          "mpg": 28,
          "origin": 1,
          "weight": 2164
         },
         {
          "acceleration": 16.5,
          "cylinders": 4,
          "displacement": 97,
          "horsepower": "88",
          "model year": 72,
          "mpg": 27,
          "origin": 3,
          "weight": 2100
         },
         {
          "acceleration": 13,
          "cylinders": 8,
          "displacement": 350,
          "horsepower": "175",
          "model year": 73,
          "mpg": 13,
          "origin": 1,
          "weight": 4100
         },
         {
          "acceleration": 11.5,
          "cylinders": 8,
          "displacement": 304,
          "horsepower": "150",
          "model year": 73,
          "mpg": 14,
          "origin": 1,
          "weight": 3672
         },
         {
          "acceleration": 13,
          "cylinders": 8,
          "displacement": 350,
          "horsepower": "145",
          "model year": 73,
          "mpg": 13,
          "origin": 1,
          "weight": 3988
         },
         {
          "acceleration": 14.5,
          "cylinders": 8,
          "displacement": 302,
          "horsepower": "137",
          "model year": 73,
          "mpg": 14,
          "origin": 1,
          "weight": 4042
         },
         {
          "acceleration": 12.5,
          "cylinders": 8,
          "displacement": 318,
          "horsepower": "150",
          "model year": 73,
          "mpg": 15,
          "origin": 1,
          "weight": 3777
         },
         {
          "acceleration": 11.5,
          "cylinders": 8,
          "displacement": 429,
          "horsepower": "198",
          "model year": 73,
          "mpg": 12,
          "origin": 1,
          "weight": 4952
         },
         {
          "acceleration": 12,
          "cylinders": 8,
          "displacement": 400,
          "horsepower": "150",
          "model year": 73,
          "mpg": 13,
          "origin": 1,
          "weight": 4464
         },
         {
          "acceleration": 13,
          "cylinders": 8,
          "displacement": 351,
          "horsepower": "158",
          "model year": 73,
          "mpg": 13,
          "origin": 1,
          "weight": 4363
         },
         {
          "acceleration": 14.5,
          "cylinders": 8,
          "displacement": 318,
          "horsepower": "150",
          "model year": 73,
          "mpg": 14,
          "origin": 1,
          "weight": 4237
         },
         {
          "acceleration": 11,
          "cylinders": 8,
          "displacement": 440,
          "horsepower": "215",
          "model year": 73,
          "mpg": 13,
          "origin": 1,
          "weight": 4735
         },
         {
          "acceleration": 11,
          "cylinders": 8,
          "displacement": 455,
          "horsepower": "225",
          "model year": 73,
          "mpg": 12,
          "origin": 1,
          "weight": 4951
         },
         {
          "acceleration": 11,
          "cylinders": 8,
          "displacement": 360,
          "horsepower": "175",
          "model year": 73,
          "mpg": 13,
          "origin": 1,
          "weight": 3821
         },
         {
          "acceleration": 16.5,
          "cylinders": 6,
          "displacement": 225,
          "horsepower": "105",
          "model year": 73,
          "mpg": 18,
          "origin": 1,
          "weight": 3121
         },
         {
          "acceleration": 18,
          "cylinders": 6,
          "displacement": 250,
          "horsepower": "100",
          "model year": 73,
          "mpg": 16,
          "origin": 1,
          "weight": 3278
         },
         {
          "acceleration": 16,
          "cylinders": 6,
          "displacement": 232,
          "horsepower": "100",
          "model year": 73,
          "mpg": 18,
          "origin": 1,
          "weight": 2945
         },
         {
          "acceleration": 16.5,
          "cylinders": 6,
          "displacement": 250,
          "horsepower": "88",
          "model year": 73,
          "mpg": 18,
          "origin": 1,
          "weight": 3021
         },
         {
          "acceleration": 16,
          "cylinders": 6,
          "displacement": 198,
          "horsepower": "95",
          "model year": 73,
          "mpg": 23,
          "origin": 1,
          "weight": 2904
         },
         {
          "acceleration": 21,
          "cylinders": 4,
          "displacement": 97,
          "horsepower": "46",
          "model year": 73,
          "mpg": 26,
          "origin": 2,
          "weight": 1950
         },
         {
          "acceleration": 14,
          "cylinders": 8,
          "displacement": 400,
          "horsepower": "150",
          "model year": 73,
          "mpg": 11,
          "origin": 1,
          "weight": 4997
         },
         {
          "acceleration": 12.5,
          "cylinders": 8,
          "displacement": 400,
          "horsepower": "167",
          "model year": 73,
          "mpg": 12,
          "origin": 1,
          "weight": 4906
         },
         {
          "acceleration": 13,
          "cylinders": 8,
          "displacement": 360,
          "horsepower": "170",
          "model year": 73,
          "mpg": 13,
          "origin": 1,
          "weight": 4654
         },
         {
          "acceleration": 12.5,
          "cylinders": 8,
          "displacement": 350,
          "horsepower": "180",
          "model year": 73,
          "mpg": 12,
          "origin": 1,
          "weight": 4499
         },
         {
          "acceleration": 15,
          "cylinders": 6,
          "displacement": 232,
          "horsepower": "100",
          "model year": 73,
          "mpg": 18,
          "origin": 1,
          "weight": 2789
         },
         {
          "acceleration": 19,
          "cylinders": 4,
          "displacement": 97,
          "horsepower": "88",
          "model year": 73,
          "mpg": 20,
          "origin": 3,
          "weight": 2279
         },
         {
          "acceleration": 19.5,
          "cylinders": 4,
          "displacement": 140,
          "horsepower": "72",
          "model year": 73,
          "mpg": 21,
          "origin": 1,
          "weight": 2401
         },
         {
          "acceleration": 16.5,
          "cylinders": 4,
          "displacement": 108,
          "horsepower": "94",
          "model year": 73,
          "mpg": 22,
          "origin": 3,
          "weight": 2379
         },
         {
          "acceleration": 13.5,
          "cylinders": 3,
          "displacement": 70,
          "horsepower": "90",
          "model year": 73,
          "mpg": 18,
          "origin": 3,
          "weight": 2124
         },
         {
          "acceleration": 18.5,
          "cylinders": 4,
          "displacement": 122,
          "horsepower": "85",
          "model year": 73,
          "mpg": 19,
          "origin": 1,
          "weight": 2310
         },
         {
          "acceleration": 14,
          "cylinders": 6,
          "displacement": 155,
          "horsepower": "107",
          "model year": 73,
          "mpg": 21,
          "origin": 1,
          "weight": 2472
         },
         {
          "acceleration": 15.5,
          "cylinders": 4,
          "displacement": 98,
          "horsepower": "90",
          "model year": 73,
          "mpg": 26,
          "origin": 2,
          "weight": 2265
         },
         {
          "acceleration": 13,
          "cylinders": 8,
          "displacement": 350,
          "horsepower": "145",
          "model year": 73,
          "mpg": 15,
          "origin": 1,
          "weight": 4082
         },
         {
          "acceleration": 9.5,
          "cylinders": 8,
          "displacement": 400,
          "horsepower": "230",
          "model year": 73,
          "mpg": 16,
          "origin": 1,
          "weight": 4278
         },
         {
          "acceleration": 19.5,
          "cylinders": 4,
          "displacement": 68,
          "horsepower": "49",
          "model year": 73,
          "mpg": 29,
          "origin": 2,
          "weight": 1867
         },
         {
          "acceleration": 15.5,
          "cylinders": 4,
          "displacement": 116,
          "horsepower": "75",
          "model year": 73,
          "mpg": 24,
          "origin": 2,
          "weight": 2158
         },
         {
          "acceleration": 14,
          "cylinders": 4,
          "displacement": 114,
          "horsepower": "91",
          "model year": 73,
          "mpg": 20,
          "origin": 2,
          "weight": 2582
         },
         {
          "acceleration": 15.5,
          "cylinders": 4,
          "displacement": 121,
          "horsepower": "112",
          "model year": 73,
          "mpg": 19,
          "origin": 2,
          "weight": 2868
         },
         {
          "acceleration": 11,
          "cylinders": 8,
          "displacement": 318,
          "horsepower": "150",
          "model year": 73,
          "mpg": 15,
          "origin": 1,
          "weight": 3399
         },
         {
          "acceleration": 14,
          "cylinders": 4,
          "displacement": 121,
          "horsepower": "110",
          "model year": 73,
          "mpg": 24,
          "origin": 2,
          "weight": 2660
         },
         {
          "acceleration": 13.5,
          "cylinders": 6,
          "displacement": 156,
          "horsepower": "122",
          "model year": 73,
          "mpg": 20,
          "origin": 3,
          "weight": 2807
         },
         {
          "acceleration": 11,
          "cylinders": 8,
          "displacement": 350,
          "horsepower": "180",
          "model year": 73,
          "mpg": 11,
          "origin": 1,
          "weight": 3664
         },
         {
          "acceleration": 16.5,
          "cylinders": 6,
          "displacement": 198,
          "horsepower": "95",
          "model year": 74,
          "mpg": 20,
          "origin": 1,
          "weight": 3102
         },
         {
          "acceleration": 17,
          "cylinders": 6,
          "displacement": 200,
          "horsepower": "?",
          "model year": 74,
          "mpg": 21,
          "origin": 1,
          "weight": 2875
         },
         {
          "acceleration": 16,
          "cylinders": 6,
          "displacement": 232,
          "horsepower": "100",
          "model year": 74,
          "mpg": 19,
          "origin": 1,
          "weight": 2901
         },
         {
          "acceleration": 17,
          "cylinders": 6,
          "displacement": 250,
          "horsepower": "100",
          "model year": 74,
          "mpg": 15,
          "origin": 1,
          "weight": 3336
         },
         {
          "acceleration": 19,
          "cylinders": 4,
          "displacement": 79,
          "horsepower": "67",
          "model year": 74,
          "mpg": 31,
          "origin": 3,
          "weight": 1950
         },
         {
          "acceleration": 16.5,
          "cylinders": 4,
          "displacement": 122,
          "horsepower": "80",
          "model year": 74,
          "mpg": 26,
          "origin": 1,
          "weight": 2451
         },
         {
          "acceleration": 21,
          "cylinders": 4,
          "displacement": 71,
          "horsepower": "65",
          "model year": 74,
          "mpg": 32,
          "origin": 3,
          "weight": 1836
         },
         {
          "acceleration": 17,
          "cylinders": 4,
          "displacement": 140,
          "horsepower": "75",
          "model year": 74,
          "mpg": 25,
          "origin": 1,
          "weight": 2542
         },
         {
          "acceleration": 17,
          "cylinders": 6,
          "displacement": 250,
          "horsepower": "100",
          "model year": 74,
          "mpg": 16,
          "origin": 1,
          "weight": 3781
         },
         {
          "acceleration": 18,
          "cylinders": 6,
          "displacement": 258,
          "horsepower": "110",
          "model year": 74,
          "mpg": 16,
          "origin": 1,
          "weight": 3632
         },
         {
          "acceleration": 16.5,
          "cylinders": 6,
          "displacement": 225,
          "horsepower": "105",
          "model year": 74,
          "mpg": 18,
          "origin": 1,
          "weight": 3613
         },
         {
          "acceleration": 14,
          "cylinders": 8,
          "displacement": 302,
          "horsepower": "140",
          "model year": 74,
          "mpg": 16,
          "origin": 1,
          "weight": 4141
         },
         {
          "acceleration": 14.5,
          "cylinders": 8,
          "displacement": 350,
          "horsepower": "150",
          "model year": 74,
          "mpg": 13,
          "origin": 1,
          "weight": 4699
         },
         {
          "acceleration": 13.5,
          "cylinders": 8,
          "displacement": 318,
          "horsepower": "150",
          "model year": 74,
          "mpg": 14,
          "origin": 1,
          "weight": 4457
         },
         {
          "acceleration": 16,
          "cylinders": 8,
          "displacement": 302,
          "horsepower": "140",
          "model year": 74,
          "mpg": 14,
          "origin": 1,
          "weight": 4638
         },
         {
          "acceleration": 15.5,
          "cylinders": 8,
          "displacement": 304,
          "horsepower": "150",
          "model year": 74,
          "mpg": 14,
          "origin": 1,
          "weight": 4257
         },
         {
          "acceleration": 16.5,
          "cylinders": 4,
          "displacement": 98,
          "horsepower": "83",
          "model year": 74,
          "mpg": 29,
          "origin": 2,
          "weight": 2219
         },
         {
          "acceleration": 15.5,
          "cylinders": 4,
          "displacement": 79,
          "horsepower": "67",
          "model year": 74,
          "mpg": 26,
          "origin": 2,
          "weight": 1963
         },
         {
          "acceleration": 14.5,
          "cylinders": 4,
          "displacement": 97,
          "horsepower": "78",
          "model year": 74,
          "mpg": 26,
          "origin": 2,
          "weight": 2300
         },
         {
          "acceleration": 16.5,
          "cylinders": 4,
          "displacement": 76,
          "horsepower": "52",
          "model year": 74,
          "mpg": 31,
          "origin": 3,
          "weight": 1649
         },
         {
          "acceleration": 19,
          "cylinders": 4,
          "displacement": 83,
          "horsepower": "61",
          "model year": 74,
          "mpg": 32,
          "origin": 3,
          "weight": 2003
         },
         {
          "acceleration": 14.5,
          "cylinders": 4,
          "displacement": 90,
          "horsepower": "75",
          "model year": 74,
          "mpg": 28,
          "origin": 1,
          "weight": 2125
         },
         {
          "acceleration": 15.5,
          "cylinders": 4,
          "displacement": 90,
          "horsepower": "75",
          "model year": 74,
          "mpg": 24,
          "origin": 2,
          "weight": 2108
         },
         {
          "acceleration": 14,
          "cylinders": 4,
          "displacement": 116,
          "horsepower": "75",
          "model year": 74,
          "mpg": 26,
          "origin": 2,
          "weight": 2246
         },
         {
          "acceleration": 15,
          "cylinders": 4,
          "displacement": 120,
          "horsepower": "97",
          "model year": 74,
          "mpg": 24,
          "origin": 3,
          "weight": 2489
         },
         {
          "acceleration": 15.5,
          "cylinders": 4,
          "displacement": 108,
          "horsepower": "93",
          "model year": 74,
          "mpg": 26,
          "origin": 3,
          "weight": 2391
         },
         {
          "acceleration": 16,
          "cylinders": 4,
          "displacement": 79,
          "horsepower": "67",
          "model year": 74,
          "mpg": 31,
          "origin": 2,
          "weight": 2000
         },
         {
          "acceleration": 16,
          "cylinders": 6,
          "displacement": 225,
          "horsepower": "95",
          "model year": 75,
          "mpg": 19,
          "origin": 1,
          "weight": 3264
         },
         {
          "acceleration": 16,
          "cylinders": 6,
          "displacement": 250,
          "horsepower": "105",
          "model year": 75,
          "mpg": 18,
          "origin": 1,
          "weight": 3459
         },
         {
          "acceleration": 21,
          "cylinders": 6,
          "displacement": 250,
          "horsepower": "72",
          "model year": 75,
          "mpg": 15,
          "origin": 1,
          "weight": 3432
         },
         {
          "acceleration": 19.5,
          "cylinders": 6,
          "displacement": 250,
          "horsepower": "72",
          "model year": 75,
          "mpg": 15,
          "origin": 1,
          "weight": 3158
         },
         {
          "acceleration": 11.5,
          "cylinders": 8,
          "displacement": 400,
          "horsepower": "170",
          "model year": 75,
          "mpg": 16,
          "origin": 1,
          "weight": 4668
         },
         {
          "acceleration": 14,
          "cylinders": 8,
          "displacement": 350,
          "horsepower": "145",
          "model year": 75,
          "mpg": 15,
          "origin": 1,
          "weight": 4440
         },
         {
          "acceleration": 14.5,
          "cylinders": 8,
          "displacement": 318,
          "horsepower": "150",
          "model year": 75,
          "mpg": 16,
          "origin": 1,
          "weight": 4498
         },
         {
          "acceleration": 13.5,
          "cylinders": 8,
          "displacement": 351,
          "horsepower": "148",
          "model year": 75,
          "mpg": 14,
          "origin": 1,
          "weight": 4657
         },
         {
          "acceleration": 21,
          "cylinders": 6,
          "displacement": 231,
          "horsepower": "110",
          "model year": 75,
          "mpg": 17,
          "origin": 1,
          "weight": 3907
         },
         {
          "acceleration": 18.5,
          "cylinders": 6,
          "displacement": 250,
          "horsepower": "105",
          "model year": 75,
          "mpg": 16,
          "origin": 1,
          "weight": 3897
         },
         {
          "acceleration": 19,
          "cylinders": 6,
          "displacement": 258,
          "horsepower": "110",
          "model year": 75,
          "mpg": 15,
          "origin": 1,
          "weight": 3730
         },
         {
          "acceleration": 19,
          "cylinders": 6,
          "displacement": 225,
          "horsepower": "95",
          "model year": 75,
          "mpg": 18,
          "origin": 1,
          "weight": 3785
         },
         {
          "acceleration": 15,
          "cylinders": 6,
          "displacement": 231,
          "horsepower": "110",
          "model year": 75,
          "mpg": 21,
          "origin": 1,
          "weight": 3039
         },
         {
          "acceleration": 13.5,
          "cylinders": 8,
          "displacement": 262,
          "horsepower": "110",
          "model year": 75,
          "mpg": 20,
          "origin": 1,
          "weight": 3221
         },
         {
          "acceleration": 12,
          "cylinders": 8,
          "displacement": 302,
          "horsepower": "129",
          "model year": 75,
          "mpg": 13,
          "origin": 1,
          "weight": 3169
         },
         {
          "acceleration": 16,
          "cylinders": 4,
          "displacement": 97,
          "horsepower": "75",
          "model year": 75,
          "mpg": 29,
          "origin": 3,
          "weight": 2171
         },
         {
          "acceleration": 17,
          "cylinders": 4,
          "displacement": 140,
          "horsepower": "83",
          "model year": 75,
          "mpg": 23,
          "origin": 1,
          "weight": 2639
         },
         {
          "acceleration": 16,
          "cylinders": 6,
          "displacement": 232,
          "horsepower": "100",
          "model year": 75,
          "mpg": 20,
          "origin": 1,
          "weight": 2914
         },
         {
          "acceleration": 18.5,
          "cylinders": 4,
          "displacement": 140,
          "horsepower": "78",
          "model year": 75,
          "mpg": 23,
          "origin": 1,
          "weight": 2592
         },
         {
          "acceleration": 13.5,
          "cylinders": 4,
          "displacement": 134,
          "horsepower": "96",
          "model year": 75,
          "mpg": 24,
          "origin": 3,
          "weight": 2702
         },
         {
          "acceleration": 16.5,
          "cylinders": 4,
          "displacement": 90,
          "horsepower": "71",
          "model year": 75,
          "mpg": 25,
          "origin": 2,
          "weight": 2223
         },
         {
          "acceleration": 17,
          "cylinders": 4,
          "displacement": 119,
          "horsepower": "97",
          "model year": 75,
          "mpg": 24,
          "origin": 3,
          "weight": 2545
         },
         {
          "acceleration": 14.5,
          "cylinders": 6,
          "displacement": 171,
          "horsepower": "97",
          "model year": 75,
          "mpg": 18,
          "origin": 1,
          "weight": 2984
         },
         {
          "acceleration": 14,
          "cylinders": 4,
          "displacement": 90,
          "horsepower": "70",
          "model year": 75,
          "mpg": 29,
          "origin": 2,
          "weight": 1937
         },
         {
          "acceleration": 17,
          "cylinders": 6,
          "displacement": 232,
          "horsepower": "90",
          "model year": 75,
          "mpg": 19,
          "origin": 1,
          "weight": 3211
         },
         {
          "acceleration": 15,
          "cylinders": 4,
          "displacement": 115,
          "horsepower": "95",
          "model year": 75,
          "mpg": 23,
          "origin": 2,
          "weight": 2694
         },
         {
          "acceleration": 17,
          "cylinders": 4,
          "displacement": 120,
          "horsepower": "88",
          "model year": 75,
          "mpg": 23,
          "origin": 2,
          "weight": 2957
         },
         {
          "acceleration": 14.5,
          "cylinders": 4,
          "displacement": 121,
          "horsepower": "98",
          "model year": 75,
          "mpg": 22,
          "origin": 2,
          "weight": 2945
         },
         {
          "acceleration": 13.5,
          "cylinders": 4,
          "displacement": 121,
          "horsepower": "115",
          "model year": 75,
          "mpg": 25,
          "origin": 2,
          "weight": 2671
         },
         {
          "acceleration": 17.5,
          "cylinders": 4,
          "displacement": 91,
          "horsepower": "53",
          "model year": 75,
          "mpg": 33,
          "origin": 3,
          "weight": 1795
         },
         {
          "acceleration": 15.5,
          "cylinders": 4,
          "displacement": 107,
          "horsepower": "86",
          "model year": 76,
          "mpg": 28,
          "origin": 2,
          "weight": 2464
         },
         {
          "acceleration": 16.9,
          "cylinders": 4,
          "displacement": 116,
          "horsepower": "81",
          "model year": 76,
          "mpg": 25,
          "origin": 2,
          "weight": 2220
         },
         {
          "acceleration": 14.9,
          "cylinders": 4,
          "displacement": 140,
          "horsepower": "92",
          "model year": 76,
          "mpg": 25,
          "origin": 1,
          "weight": 2572
         },
         {
          "acceleration": 17.7,
          "cylinders": 4,
          "displacement": 98,
          "horsepower": "79",
          "model year": 76,
          "mpg": 26,
          "origin": 1,
          "weight": 2255
         },
         {
          "acceleration": 15.3,
          "cylinders": 4,
          "displacement": 101,
          "horsepower": "83",
          "model year": 76,
          "mpg": 27,
          "origin": 2,
          "weight": 2202
         },
         {
          "acceleration": 13,
          "cylinders": 8,
          "displacement": 305,
          "horsepower": "140",
          "model year": 76,
          "mpg": 17.5,
          "origin": 1,
          "weight": 4215
         },
         {
          "acceleration": 13,
          "cylinders": 8,
          "displacement": 318,
          "horsepower": "150",
          "model year": 76,
          "mpg": 16,
          "origin": 1,
          "weight": 4190
         },
         {
          "acceleration": 13.9,
          "cylinders": 8,
          "displacement": 304,
          "horsepower": "120",
          "model year": 76,
          "mpg": 15.5,
          "origin": 1,
          "weight": 3962
         },
         {
          "acceleration": 12.8,
          "cylinders": 8,
          "displacement": 351,
          "horsepower": "152",
          "model year": 76,
          "mpg": 14.5,
          "origin": 1,
          "weight": 4215
         },
         {
          "acceleration": 15.4,
          "cylinders": 6,
          "displacement": 225,
          "horsepower": "100",
          "model year": 76,
          "mpg": 22,
          "origin": 1,
          "weight": 3233
         },
         {
          "acceleration": 14.5,
          "cylinders": 6,
          "displacement": 250,
          "horsepower": "105",
          "model year": 76,
          "mpg": 22,
          "origin": 1,
          "weight": 3353
         },
         {
          "acceleration": 17.6,
          "cylinders": 6,
          "displacement": 200,
          "horsepower": "81",
          "model year": 76,
          "mpg": 24,
          "origin": 1,
          "weight": 3012
         },
         {
          "acceleration": 17.6,
          "cylinders": 6,
          "displacement": 232,
          "horsepower": "90",
          "model year": 76,
          "mpg": 22.5,
          "origin": 1,
          "weight": 3085
         },
         {
          "acceleration": 22.2,
          "cylinders": 4,
          "displacement": 85,
          "horsepower": "52",
          "model year": 76,
          "mpg": 29,
          "origin": 1,
          "weight": 2035
         },
         {
          "acceleration": 22.1,
          "cylinders": 4,
          "displacement": 98,
          "horsepower": "60",
          "model year": 76,
          "mpg": 24.5,
          "origin": 1,
          "weight": 2164
         },
         {
          "acceleration": 14.2,
          "cylinders": 4,
          "displacement": 90,
          "horsepower": "70",
          "model year": 76,
          "mpg": 29,
          "origin": 2,
          "weight": 1937
         },
         {
          "acceleration": 17.4,
          "cylinders": 4,
          "displacement": 91,
          "horsepower": "53",
          "model year": 76,
          "mpg": 33,
          "origin": 3,
          "weight": 1795
         },
         {
          "acceleration": 17.7,
          "cylinders": 6,
          "displacement": 225,
          "horsepower": "100",
          "model year": 76,
          "mpg": 20,
          "origin": 1,
          "weight": 3651
         },
         {
          "acceleration": 21,
          "cylinders": 6,
          "displacement": 250,
          "horsepower": "78",
          "model year": 76,
          "mpg": 18,
          "origin": 1,
          "weight": 3574
         },
         {
          "acceleration": 16.2,
          "cylinders": 6,
          "displacement": 250,
          "horsepower": "110",
          "model year": 76,
          "mpg": 18.5,
          "origin": 1,
          "weight": 3645
         },
         {
          "acceleration": 17.8,
          "cylinders": 6,
          "displacement": 258,
          "horsepower": "95",
          "model year": 76,
          "mpg": 17.5,
          "origin": 1,
          "weight": 3193
         },
         {
          "acceleration": 12.2,
          "cylinders": 4,
          "displacement": 97,
          "horsepower": "71",
          "model year": 76,
          "mpg": 29.5,
          "origin": 2,
          "weight": 1825
         },
         {
          "acceleration": 17,
          "cylinders": 4,
          "displacement": 85,
          "horsepower": "70",
          "model year": 76,
          "mpg": 32,
          "origin": 3,
          "weight": 1990
         },
         {
          "acceleration": 16.4,
          "cylinders": 4,
          "displacement": 97,
          "horsepower": "75",
          "model year": 76,
          "mpg": 28,
          "origin": 3,
          "weight": 2155
         },
         {
          "acceleration": 13.6,
          "cylinders": 4,
          "displacement": 140,
          "horsepower": "72",
          "model year": 76,
          "mpg": 26.5,
          "origin": 1,
          "weight": 2565
         },
         {
          "acceleration": 15.7,
          "cylinders": 4,
          "displacement": 130,
          "horsepower": "102",
          "model year": 76,
          "mpg": 20,
          "origin": 2,
          "weight": 3150
         },
         {
          "acceleration": 13.2,
          "cylinders": 8,
          "displacement": 318,
          "horsepower": "150",
          "model year": 76,
          "mpg": 13,
          "origin": 1,
          "weight": 3940
         },
         {
          "acceleration": 21.9,
          "cylinders": 4,
          "displacement": 120,
          "horsepower": "88",
          "model year": 76,
          "mpg": 19,
          "origin": 2,
          "weight": 3270
         },
         {
          "acceleration": 15.5,
          "cylinders": 6,
          "displacement": 156,
          "horsepower": "108",
          "model year": 76,
          "mpg": 19,
          "origin": 3,
          "weight": 2930
         },
         {
          "acceleration": 16.7,
          "cylinders": 6,
          "displacement": 168,
          "horsepower": "120",
          "model year": 76,
          "mpg": 16.5,
          "origin": 2,
          "weight": 3820
         },
         {
          "acceleration": 12.1,
          "cylinders": 8,
          "displacement": 350,
          "horsepower": "180",
          "model year": 76,
          "mpg": 16.5,
          "origin": 1,
          "weight": 4380
         },
         {
          "acceleration": 12,
          "cylinders": 8,
          "displacement": 350,
          "horsepower": "145",
          "model year": 76,
          "mpg": 13,
          "origin": 1,
          "weight": 4055
         },
         {
          "acceleration": 15,
          "cylinders": 8,
          "displacement": 302,
          "horsepower": "130",
          "model year": 76,
          "mpg": 13,
          "origin": 1,
          "weight": 3870
         },
         {
          "acceleration": 14,
          "cylinders": 8,
          "displacement": 318,
          "horsepower": "150",
          "model year": 76,
          "mpg": 13,
          "origin": 1,
          "weight": 3755
         },
         {
          "acceleration": 18.5,
          "cylinders": 4,
          "displacement": 98,
          "horsepower": "68",
          "model year": 77,
          "mpg": 31.5,
          "origin": 3,
          "weight": 2045
         },
         {
          "acceleration": 14.8,
          "cylinders": 4,
          "displacement": 111,
          "horsepower": "80",
          "model year": 77,
          "mpg": 30,
          "origin": 1,
          "weight": 2155
         },
         {
          "acceleration": 18.6,
          "cylinders": 4,
          "displacement": 79,
          "horsepower": "58",
          "model year": 77,
          "mpg": 36,
          "origin": 2,
          "weight": 1825
         },
         {
          "acceleration": 15.5,
          "cylinders": 4,
          "displacement": 122,
          "horsepower": "96",
          "model year": 77,
          "mpg": 25.5,
          "origin": 1,
          "weight": 2300
         },
         {
          "acceleration": 16.8,
          "cylinders": 4,
          "displacement": 85,
          "horsepower": "70",
          "model year": 77,
          "mpg": 33.5,
          "origin": 3,
          "weight": 1945
         },
         {
          "acceleration": 12.5,
          "cylinders": 8,
          "displacement": 305,
          "horsepower": "145",
          "model year": 77,
          "mpg": 17.5,
          "origin": 1,
          "weight": 3880
         },
         {
          "acceleration": 19,
          "cylinders": 8,
          "displacement": 260,
          "horsepower": "110",
          "model year": 77,
          "mpg": 17,
          "origin": 1,
          "weight": 4060
         },
         {
          "acceleration": 13.7,
          "cylinders": 8,
          "displacement": 318,
          "horsepower": "145",
          "model year": 77,
          "mpg": 15.5,
          "origin": 1,
          "weight": 4140
         },
         {
          "acceleration": 14.9,
          "cylinders": 8,
          "displacement": 302,
          "horsepower": "130",
          "model year": 77,
          "mpg": 15,
          "origin": 1,
          "weight": 4295
         },
         {
          "acceleration": 16.4,
          "cylinders": 6,
          "displacement": 250,
          "horsepower": "110",
          "model year": 77,
          "mpg": 17.5,
          "origin": 1,
          "weight": 3520
         },
         {
          "acceleration": 16.9,
          "cylinders": 6,
          "displacement": 231,
          "horsepower": "105",
          "model year": 77,
          "mpg": 20.5,
          "origin": 1,
          "weight": 3425
         },
         {
          "acceleration": 17.7,
          "cylinders": 6,
          "displacement": 225,
          "horsepower": "100",
          "model year": 77,
          "mpg": 19,
          "origin": 1,
          "weight": 3630
         },
         {
          "acceleration": 19,
          "cylinders": 6,
          "displacement": 250,
          "horsepower": "98",
          "model year": 77,
          "mpg": 18.5,
          "origin": 1,
          "weight": 3525
         },
         {
          "acceleration": 11.1,
          "cylinders": 8,
          "displacement": 400,
          "horsepower": "180",
          "model year": 77,
          "mpg": 16,
          "origin": 1,
          "weight": 4220
         },
         {
          "acceleration": 11.4,
          "cylinders": 8,
          "displacement": 350,
          "horsepower": "170",
          "model year": 77,
          "mpg": 15.5,
          "origin": 1,
          "weight": 4165
         },
         {
          "acceleration": 12.2,
          "cylinders": 8,
          "displacement": 400,
          "horsepower": "190",
          "model year": 77,
          "mpg": 15.5,
          "origin": 1,
          "weight": 4325
         },
         {
          "acceleration": 14.5,
          "cylinders": 8,
          "displacement": 351,
          "horsepower": "149",
          "model year": 77,
          "mpg": 16,
          "origin": 1,
          "weight": 4335
         },
         {
          "acceleration": 14.5,
          "cylinders": 4,
          "displacement": 97,
          "horsepower": "78",
          "model year": 77,
          "mpg": 29,
          "origin": 2,
          "weight": 1940
         },
         {
          "acceleration": 16,
          "cylinders": 4,
          "displacement": 151,
          "horsepower": "88",
          "model year": 77,
          "mpg": 24.5,
          "origin": 1,
          "weight": 2740
         },
         {
          "acceleration": 18.2,
          "cylinders": 4,
          "displacement": 97,
          "horsepower": "75",
          "model year": 77,
          "mpg": 26,
          "origin": 3,
          "weight": 2265
         },
         {
          "acceleration": 15.8,
          "cylinders": 4,
          "displacement": 140,
          "horsepower": "89",
          "model year": 77,
          "mpg": 25.5,
          "origin": 1,
          "weight": 2755
         },
         {
          "acceleration": 17,
          "cylinders": 4,
          "displacement": 98,
          "horsepower": "63",
          "model year": 77,
          "mpg": 30.5,
          "origin": 1,
          "weight": 2051
         },
         {
          "acceleration": 15.9,
          "cylinders": 4,
          "displacement": 98,
          "horsepower": "83",
          "model year": 77,
          "mpg": 33.5,
          "origin": 1,
          "weight": 2075
         },
         {
          "acceleration": 16.4,
          "cylinders": 4,
          "displacement": 97,
          "horsepower": "67",
          "model year": 77,
          "mpg": 30,
          "origin": 3,
          "weight": 1985
         },
         {
          "acceleration": 14.1,
          "cylinders": 4,
          "displacement": 97,
          "horsepower": "78",
          "model year": 77,
          "mpg": 30.5,
          "origin": 2,
          "weight": 2190
         },
         {
          "acceleration": 14.5,
          "cylinders": 6,
          "displacement": 146,
          "horsepower": "97",
          "model year": 77,
          "mpg": 22,
          "origin": 3,
          "weight": 2815
         },
         {
          "acceleration": 12.8,
          "cylinders": 4,
          "displacement": 121,
          "horsepower": "110",
          "model year": 77,
          "mpg": 21.5,
          "origin": 2,
          "weight": 2600
         },
         {
          "acceleration": 13.5,
          "cylinders": 3,
          "displacement": 80,
          "horsepower": "110",
          "model year": 77,
          "mpg": 21.5,
          "origin": 3,
          "weight": 2720
         },
         {
          "acceleration": 21.5,
          "cylinders": 4,
          "displacement": 90,
          "horsepower": "48",
          "model year": 78,
          "mpg": 43.1,
          "origin": 2,
          "weight": 1985
         },
         {
          "acceleration": 14.4,
          "cylinders": 4,
          "displacement": 98,
          "horsepower": "66",
          "model year": 78,
          "mpg": 36.1,
          "origin": 1,
          "weight": 1800
         },
         {
          "acceleration": 19.4,
          "cylinders": 4,
          "displacement": 78,
          "horsepower": "52",
          "model year": 78,
          "mpg": 32.8,
          "origin": 3,
          "weight": 1985
         },
         {
          "acceleration": 18.6,
          "cylinders": 4,
          "displacement": 85,
          "horsepower": "70",
          "model year": 78,
          "mpg": 39.4,
          "origin": 3,
          "weight": 2070
         },
         {
          "acceleration": 16.4,
          "cylinders": 4,
          "displacement": 91,
          "horsepower": "60",
          "model year": 78,
          "mpg": 36.1,
          "origin": 3,
          "weight": 1800
         },
         {
          "acceleration": 15.5,
          "cylinders": 8,
          "displacement": 260,
          "horsepower": "110",
          "model year": 78,
          "mpg": 19.9,
          "origin": 1,
          "weight": 3365
         },
         {
          "acceleration": 13.2,
          "cylinders": 8,
          "displacement": 318,
          "horsepower": "140",
          "model year": 78,
          "mpg": 19.4,
          "origin": 1,
          "weight": 3735
         },
         {
          "acceleration": 12.8,
          "cylinders": 8,
          "displacement": 302,
          "horsepower": "139",
          "model year": 78,
          "mpg": 20.2,
          "origin": 1,
          "weight": 3570
         },
         {
          "acceleration": 19.2,
          "cylinders": 6,
          "displacement": 231,
          "horsepower": "105",
          "model year": 78,
          "mpg": 19.2,
          "origin": 1,
          "weight": 3535
         },
         {
          "acceleration": 18.2,
          "cylinders": 6,
          "displacement": 200,
          "horsepower": "95",
          "model year": 78,
          "mpg": 20.5,
          "origin": 1,
          "weight": 3155
         },
         {
          "acceleration": 15.8,
          "cylinders": 6,
          "displacement": 200,
          "horsepower": "85",
          "model year": 78,
          "mpg": 20.2,
          "origin": 1,
          "weight": 2965
         },
         {
          "acceleration": 15.4,
          "cylinders": 4,
          "displacement": 140,
          "horsepower": "88",
          "model year": 78,
          "mpg": 25.1,
          "origin": 1,
          "weight": 2720
         },
         {
          "acceleration": 17.2,
          "cylinders": 6,
          "displacement": 225,
          "horsepower": "100",
          "model year": 78,
          "mpg": 20.5,
          "origin": 1,
          "weight": 3430
         },
         {
          "acceleration": 17.2,
          "cylinders": 6,
          "displacement": 232,
          "horsepower": "90",
          "model year": 78,
          "mpg": 19.4,
          "origin": 1,
          "weight": 3210
         },
         {
          "acceleration": 15.8,
          "cylinders": 6,
          "displacement": 231,
          "horsepower": "105",
          "model year": 78,
          "mpg": 20.6,
          "origin": 1,
          "weight": 3380
         },
         {
          "acceleration": 16.7,
          "cylinders": 6,
          "displacement": 200,
          "horsepower": "85",
          "model year": 78,
          "mpg": 20.8,
          "origin": 1,
          "weight": 3070
         },
         {
          "acceleration": 18.7,
          "cylinders": 6,
          "displacement": 225,
          "horsepower": "110",
          "model year": 78,
          "mpg": 18.6,
          "origin": 1,
          "weight": 3620
         },
         {
          "acceleration": 15.1,
          "cylinders": 6,
          "displacement": 258,
          "horsepower": "120",
          "model year": 78,
          "mpg": 18.1,
          "origin": 1,
          "weight": 3410
         },
         {
          "acceleration": 13.2,
          "cylinders": 8,
          "displacement": 305,
          "horsepower": "145",
          "model year": 78,
          "mpg": 19.2,
          "origin": 1,
          "weight": 3425
         },
         {
          "acceleration": 13.4,
          "cylinders": 6,
          "displacement": 231,
          "horsepower": "165",
          "model year": 78,
          "mpg": 17.7,
          "origin": 1,
          "weight": 3445
         },
         {
          "acceleration": 11.2,
          "cylinders": 8,
          "displacement": 302,
          "horsepower": "139",
          "model year": 78,
          "mpg": 18.1,
          "origin": 1,
          "weight": 3205
         },
         {
          "acceleration": 13.7,
          "cylinders": 8,
          "displacement": 318,
          "horsepower": "140",
          "model year": 78,
          "mpg": 17.5,
          "origin": 1,
          "weight": 4080
         },
         {
          "acceleration": 16.5,
          "cylinders": 4,
          "displacement": 98,
          "horsepower": "68",
          "model year": 78,
          "mpg": 30,
          "origin": 1,
          "weight": 2155
         },
         {
          "acceleration": 14.2,
          "cylinders": 4,
          "displacement": 134,
          "horsepower": "95",
          "model year": 78,
          "mpg": 27.5,
          "origin": 3,
          "weight": 2560
         },
         {
          "acceleration": 14.7,
          "cylinders": 4,
          "displacement": 119,
          "horsepower": "97",
          "model year": 78,
          "mpg": 27.2,
          "origin": 3,
          "weight": 2300
         },
         {
          "acceleration": 14.5,
          "cylinders": 4,
          "displacement": 105,
          "horsepower": "75",
          "model year": 78,
          "mpg": 30.9,
          "origin": 1,
          "weight": 2230
         },
         {
          "acceleration": 14.8,
          "cylinders": 4,
          "displacement": 134,
          "horsepower": "95",
          "model year": 78,
          "mpg": 21.1,
          "origin": 3,
          "weight": 2515
         },
         {
          "acceleration": 16.7,
          "cylinders": 4,
          "displacement": 156,
          "horsepower": "105",
          "model year": 78,
          "mpg": 23.2,
          "origin": 1,
          "weight": 2745
         },
         {
          "acceleration": 17.6,
          "cylinders": 4,
          "displacement": 151,
          "horsepower": "85",
          "model year": 78,
          "mpg": 23.8,
          "origin": 1,
          "weight": 2855
         },
         {
          "acceleration": 14.9,
          "cylinders": 4,
          "displacement": 119,
          "horsepower": "97",
          "model year": 78,
          "mpg": 23.9,
          "origin": 3,
          "weight": 2405
         },
         {
          "acceleration": 15.9,
          "cylinders": 5,
          "displacement": 131,
          "horsepower": "103",
          "model year": 78,
          "mpg": 20.3,
          "origin": 2,
          "weight": 2830
         },
         {
          "acceleration": 13.6,
          "cylinders": 6,
          "displacement": 163,
          "horsepower": "125",
          "model year": 78,
          "mpg": 17,
          "origin": 2,
          "weight": 3140
         },
         {
          "acceleration": 15.7,
          "cylinders": 4,
          "displacement": 121,
          "horsepower": "115",
          "model year": 78,
          "mpg": 21.6,
          "origin": 2,
          "weight": 2795
         },
         {
          "acceleration": 15.8,
          "cylinders": 6,
          "displacement": 163,
          "horsepower": "133",
          "model year": 78,
          "mpg": 16.2,
          "origin": 2,
          "weight": 3410
         },
         {
          "acceleration": 14.9,
          "cylinders": 4,
          "displacement": 89,
          "horsepower": "71",
          "model year": 78,
          "mpg": 31.5,
          "origin": 2,
          "weight": 1990
         },
         {
          "acceleration": 16.6,
          "cylinders": 4,
          "displacement": 98,
          "horsepower": "68",
          "model year": 78,
          "mpg": 29.5,
          "origin": 3,
          "weight": 2135
         },
         {
          "acceleration": 15.4,
          "cylinders": 6,
          "displacement": 231,
          "horsepower": "115",
          "model year": 79,
          "mpg": 21.5,
          "origin": 1,
          "weight": 3245
         },
         {
          "acceleration": 18.2,
          "cylinders": 6,
          "displacement": 200,
          "horsepower": "85",
          "model year": 79,
          "mpg": 19.8,
          "origin": 1,
          "weight": 2990
         },
         {
          "acceleration": 17.3,
          "cylinders": 4,
          "displacement": 140,
          "horsepower": "88",
          "model year": 79,
          "mpg": 22.3,
          "origin": 1,
          "weight": 2890
         },
         {
          "acceleration": 18.2,
          "cylinders": 6,
          "displacement": 232,
          "horsepower": "90",
          "model year": 79,
          "mpg": 20.2,
          "origin": 1,
          "weight": 3265
         },
         {
          "acceleration": 16.6,
          "cylinders": 6,
          "displacement": 225,
          "horsepower": "110",
          "model year": 79,
          "mpg": 20.6,
          "origin": 1,
          "weight": 3360
         },
         {
          "acceleration": 15.4,
          "cylinders": 8,
          "displacement": 305,
          "horsepower": "130",
          "model year": 79,
          "mpg": 17,
          "origin": 1,
          "weight": 3840
         },
         {
          "acceleration": 13.4,
          "cylinders": 8,
          "displacement": 302,
          "horsepower": "129",
          "model year": 79,
          "mpg": 17.6,
          "origin": 1,
          "weight": 3725
         },
         {
          "acceleration": 13.2,
          "cylinders": 8,
          "displacement": 351,
          "horsepower": "138",
          "model year": 79,
          "mpg": 16.5,
          "origin": 1,
          "weight": 3955
         },
         {
          "acceleration": 15.2,
          "cylinders": 8,
          "displacement": 318,
          "horsepower": "135",
          "model year": 79,
          "mpg": 18.2,
          "origin": 1,
          "weight": 3830
         },
         {
          "acceleration": 14.9,
          "cylinders": 8,
          "displacement": 350,
          "horsepower": "155",
          "model year": 79,
          "mpg": 16.9,
          "origin": 1,
          "weight": 4360
         },
         {
          "acceleration": 14.3,
          "cylinders": 8,
          "displacement": 351,
          "horsepower": "142",
          "model year": 79,
          "mpg": 15.5,
          "origin": 1,
          "weight": 4054
         },
         {
          "acceleration": 15,
          "cylinders": 8,
          "displacement": 267,
          "horsepower": "125",
          "model year": 79,
          "mpg": 19.2,
          "origin": 1,
          "weight": 3605
         },
         {
          "acceleration": 13,
          "cylinders": 8,
          "displacement": 360,
          "horsepower": "150",
          "model year": 79,
          "mpg": 18.5,
          "origin": 1,
          "weight": 3940
         },
         {
          "acceleration": 14,
          "cylinders": 4,
          "displacement": 89,
          "horsepower": "71",
          "model year": 79,
          "mpg": 31.9,
          "origin": 2,
          "weight": 1925
         },
         {
          "acceleration": 15.2,
          "cylinders": 4,
          "displacement": 86,
          "horsepower": "65",
          "model year": 79,
          "mpg": 34.1,
          "origin": 3,
          "weight": 1975
         },
         {
          "acceleration": 14.4,
          "cylinders": 4,
          "displacement": 98,
          "horsepower": "80",
          "model year": 79,
          "mpg": 35.7,
          "origin": 1,
          "weight": 1915
         },
         {
          "acceleration": 15,
          "cylinders": 4,
          "displacement": 121,
          "horsepower": "80",
          "model year": 79,
          "mpg": 27.4,
          "origin": 1,
          "weight": 2670
         },
         {
          "acceleration": 20.1,
          "cylinders": 5,
          "displacement": 183,
          "horsepower": "77",
          "model year": 79,
          "mpg": 25.4,
          "origin": 2,
          "weight": 3530
         },
         {
          "acceleration": 17.4,
          "cylinders": 8,
          "displacement": 350,
          "horsepower": "125",
          "model year": 79,
          "mpg": 23,
          "origin": 1,
          "weight": 3900
         },
         {
          "acceleration": 24.8,
          "cylinders": 4,
          "displacement": 141,
          "horsepower": "71",
          "model year": 79,
          "mpg": 27.2,
          "origin": 2,
          "weight": 3190
         },
         {
          "acceleration": 22.2,
          "cylinders": 8,
          "displacement": 260,
          "horsepower": "90",
          "model year": 79,
          "mpg": 23.9,
          "origin": 1,
          "weight": 3420
         },
         {
          "acceleration": 13.2,
          "cylinders": 4,
          "displacement": 105,
          "horsepower": "70",
          "model year": 79,
          "mpg": 34.2,
          "origin": 1,
          "weight": 2200
         },
         {
          "acceleration": 14.9,
          "cylinders": 4,
          "displacement": 105,
          "horsepower": "70",
          "model year": 79,
          "mpg": 34.5,
          "origin": 1,
          "weight": 2150
         },
         {
          "acceleration": 19.2,
          "cylinders": 4,
          "displacement": 85,
          "horsepower": "65",
          "model year": 79,
          "mpg": 31.8,
          "origin": 3,
          "weight": 2020
         },
         {
          "acceleration": 14.7,
          "cylinders": 4,
          "displacement": 91,
          "horsepower": "69",
          "model year": 79,
          "mpg": 37.3,
          "origin": 2,
          "weight": 2130
         },
         {
          "acceleration": 16,
          "cylinders": 4,
          "displacement": 151,
          "horsepower": "90",
          "model year": 79,
          "mpg": 28.4,
          "origin": 1,
          "weight": 2670
         },
         {
          "acceleration": 11.3,
          "cylinders": 6,
          "displacement": 173,
          "horsepower": "115",
          "model year": 79,
          "mpg": 28.8,
          "origin": 1,
          "weight": 2595
         },
         {
          "acceleration": 12.9,
          "cylinders": 6,
          "displacement": 173,
          "horsepower": "115",
          "model year": 79,
          "mpg": 26.8,
          "origin": 1,
          "weight": 2700
         },
         {
          "acceleration": 13.2,
          "cylinders": 4,
          "displacement": 151,
          "horsepower": "90",
          "model year": 79,
          "mpg": 33.5,
          "origin": 1,
          "weight": 2556
         },
         {
          "acceleration": 14.7,
          "cylinders": 4,
          "displacement": 98,
          "horsepower": "76",
          "model year": 80,
          "mpg": 41.5,
          "origin": 2,
          "weight": 2144
         },
         {
          "acceleration": 18.8,
          "cylinders": 4,
          "displacement": 89,
          "horsepower": "60",
          "model year": 80,
          "mpg": 38.1,
          "origin": 3,
          "weight": 1968
         },
         {
          "acceleration": 15.5,
          "cylinders": 4,
          "displacement": 98,
          "horsepower": "70",
          "model year": 80,
          "mpg": 32.1,
          "origin": 1,
          "weight": 2120
         },
         {
          "acceleration": 16.4,
          "cylinders": 4,
          "displacement": 86,
          "horsepower": "65",
          "model year": 80,
          "mpg": 37.2,
          "origin": 3,
          "weight": 2019
         },
         {
          "acceleration": 16.5,
          "cylinders": 4,
          "displacement": 151,
          "horsepower": "90",
          "model year": 80,
          "mpg": 28,
          "origin": 1,
          "weight": 2678
         },
         {
          "acceleration": 18.1,
          "cylinders": 4,
          "displacement": 140,
          "horsepower": "88",
          "model year": 80,
          "mpg": 26.4,
          "origin": 1,
          "weight": 2870
         },
         {
          "acceleration": 20.1,
          "cylinders": 4,
          "displacement": 151,
          "horsepower": "90",
          "model year": 80,
          "mpg": 24.3,
          "origin": 1,
          "weight": 3003
         },
         {
          "acceleration": 18.7,
          "cylinders": 6,
          "displacement": 225,
          "horsepower": "90",
          "model year": 80,
          "mpg": 19.1,
          "origin": 1,
          "weight": 3381
         },
         {
          "acceleration": 15.8,
          "cylinders": 4,
          "displacement": 97,
          "horsepower": "78",
          "model year": 80,
          "mpg": 34.3,
          "origin": 2,
          "weight": 2188
         },
         {
          "acceleration": 15.5,
          "cylinders": 4,
          "displacement": 134,
          "horsepower": "90",
          "model year": 80,
          "mpg": 29.8,
          "origin": 3,
          "weight": 2711
         },
         {
          "acceleration": 17.5,
          "cylinders": 4,
          "displacement": 120,
          "horsepower": "75",
          "model year": 80,
          "mpg": 31.3,
          "origin": 3,
          "weight": 2542
         },
         {
          "acceleration": 15,
          "cylinders": 4,
          "displacement": 119,
          "horsepower": "92",
          "model year": 80,
          "mpg": 37,
          "origin": 3,
          "weight": 2434
         },
         {
          "acceleration": 15.2,
          "cylinders": 4,
          "displacement": 108,
          "horsepower": "75",
          "model year": 80,
          "mpg": 32.2,
          "origin": 3,
          "weight": 2265
         },
         {
          "acceleration": 17.9,
          "cylinders": 4,
          "displacement": 86,
          "horsepower": "65",
          "model year": 80,
          "mpg": 46.6,
          "origin": 3,
          "weight": 2110
         },
         {
          "acceleration": 14.4,
          "cylinders": 4,
          "displacement": 156,
          "horsepower": "105",
          "model year": 80,
          "mpg": 27.9,
          "origin": 1,
          "weight": 2800
         },
         {
          "acceleration": 19.2,
          "cylinders": 4,
          "displacement": 85,
          "horsepower": "65",
          "model year": 80,
          "mpg": 40.8,
          "origin": 3,
          "weight": 2110
         },
         {
          "acceleration": 21.7,
          "cylinders": 4,
          "displacement": 90,
          "horsepower": "48",
          "model year": 80,
          "mpg": 44.3,
          "origin": 2,
          "weight": 2085
         },
         {
          "acceleration": 23.7,
          "cylinders": 4,
          "displacement": 90,
          "horsepower": "48",
          "model year": 80,
          "mpg": 43.4,
          "origin": 2,
          "weight": 2335
         },
         {
          "acceleration": 19.9,
          "cylinders": 5,
          "displacement": 121,
          "horsepower": "67",
          "model year": 80,
          "mpg": 36.4,
          "origin": 2,
          "weight": 2950
         },
         {
          "acceleration": 21.8,
          "cylinders": 4,
          "displacement": 146,
          "horsepower": "67",
          "model year": 80,
          "mpg": 30,
          "origin": 2,
          "weight": 3250
         },
         {
          "acceleration": 13.8,
          "cylinders": 4,
          "displacement": 91,
          "horsepower": "67",
          "model year": 80,
          "mpg": 44.6,
          "origin": 3,
          "weight": 1850
         },
         {
          "acceleration": 17.3,
          "cylinders": 4,
          "displacement": 85,
          "horsepower": "?",
          "model year": 80,
          "mpg": 40.9,
          "origin": 2,
          "weight": 1835
         },
         {
          "acceleration": 18,
          "cylinders": 4,
          "displacement": 97,
          "horsepower": "67",
          "model year": 80,
          "mpg": 33.8,
          "origin": 3,
          "weight": 2145
         },
         {
          "acceleration": 15.3,
          "cylinders": 4,
          "displacement": 89,
          "horsepower": "62",
          "model year": 80,
          "mpg": 29.8,
          "origin": 2,
          "weight": 1845
         },
         {
          "acceleration": 11.4,
          "cylinders": 6,
          "displacement": 168,
          "horsepower": "132",
          "model year": 80,
          "mpg": 32.7,
          "origin": 3,
          "weight": 2910
         },
         {
          "acceleration": 12.5,
          "cylinders": 3,
          "displacement": 70,
          "horsepower": "100",
          "model year": 80,
          "mpg": 23.7,
          "origin": 3,
          "weight": 2420
         },
         {
          "acceleration": 15.1,
          "cylinders": 4,
          "displacement": 122,
          "horsepower": "88",
          "model year": 80,
          "mpg": 35,
          "origin": 2,
          "weight": 2500
         },
         {
          "acceleration": 14.3,
          "cylinders": 4,
          "displacement": 140,
          "horsepower": "?",
          "model year": 80,
          "mpg": 23.6,
          "origin": 1,
          "weight": 2905
         },
         {
          "acceleration": 17,
          "cylinders": 4,
          "displacement": 107,
          "horsepower": "72",
          "model year": 80,
          "mpg": 32.4,
          "origin": 3,
          "weight": 2290
         },
         {
          "acceleration": 15.7,
          "cylinders": 4,
          "displacement": 135,
          "horsepower": "84",
          "model year": 81,
          "mpg": 27.2,
          "origin": 1,
          "weight": 2490
         },
         {
          "acceleration": 16.4,
          "cylinders": 4,
          "displacement": 151,
          "horsepower": "84",
          "model year": 81,
          "mpg": 26.6,
          "origin": 1,
          "weight": 2635
         },
         {
          "acceleration": 14.4,
          "cylinders": 4,
          "displacement": 156,
          "horsepower": "92",
          "model year": 81,
          "mpg": 25.8,
          "origin": 1,
          "weight": 2620
         },
         {
          "acceleration": 12.6,
          "cylinders": 6,
          "displacement": 173,
          "horsepower": "110",
          "model year": 81,
          "mpg": 23.5,
          "origin": 1,
          "weight": 2725
         },
         {
          "acceleration": 12.9,
          "cylinders": 4,
          "displacement": 135,
          "horsepower": "84",
          "model year": 81,
          "mpg": 30,
          "origin": 1,
          "weight": 2385
         },
         {
          "acceleration": 16.9,
          "cylinders": 4,
          "displacement": 79,
          "horsepower": "58",
          "model year": 81,
          "mpg": 39.1,
          "origin": 3,
          "weight": 1755
         },
         {
          "acceleration": 16.4,
          "cylinders": 4,
          "displacement": 86,
          "horsepower": "64",
          "model year": 81,
          "mpg": 39,
          "origin": 1,
          "weight": 1875
         },
         {
          "acceleration": 16.1,
          "cylinders": 4,
          "displacement": 81,
          "horsepower": "60",
          "model year": 81,
          "mpg": 35.1,
          "origin": 3,
          "weight": 1760
         },
         {
          "acceleration": 17.8,
          "cylinders": 4,
          "displacement": 97,
          "horsepower": "67",
          "model year": 81,
          "mpg": 32.3,
          "origin": 3,
          "weight": 2065
         },
         {
          "acceleration": 19.4,
          "cylinders": 4,
          "displacement": 85,
          "horsepower": "65",
          "model year": 81,
          "mpg": 37,
          "origin": 3,
          "weight": 1975
         },
         {
          "acceleration": 17.3,
          "cylinders": 4,
          "displacement": 89,
          "horsepower": "62",
          "model year": 81,
          "mpg": 37.7,
          "origin": 3,
          "weight": 2050
         },
         {
          "acceleration": 16,
          "cylinders": 4,
          "displacement": 91,
          "horsepower": "68",
          "model year": 81,
          "mpg": 34.1,
          "origin": 3,
          "weight": 1985
         },
         {
          "acceleration": 14.9,
          "cylinders": 4,
          "displacement": 105,
          "horsepower": "63",
          "model year": 81,
          "mpg": 34.7,
          "origin": 1,
          "weight": 2215
         },
         {
          "acceleration": 16.2,
          "cylinders": 4,
          "displacement": 98,
          "horsepower": "65",
          "model year": 81,
          "mpg": 34.4,
          "origin": 1,
          "weight": 2045
         },
         {
          "acceleration": 20.7,
          "cylinders": 4,
          "displacement": 98,
          "horsepower": "65",
          "model year": 81,
          "mpg": 29.9,
          "origin": 1,
          "weight": 2380
         },
         {
          "acceleration": 14.2,
          "cylinders": 4,
          "displacement": 105,
          "horsepower": "74",
          "model year": 81,
          "mpg": 33,
          "origin": 2,
          "weight": 2190
         },
         {
          "acceleration": 15.8,
          "cylinders": 4,
          "displacement": 100,
          "horsepower": "?",
          "model year": 81,
          "mpg": 34.5,
          "origin": 2,
          "weight": 2320
         },
         {
          "acceleration": 14.4,
          "cylinders": 4,
          "displacement": 107,
          "horsepower": "75",
          "model year": 81,
          "mpg": 33.7,
          "origin": 3,
          "weight": 2210
         },
         {
          "acceleration": 16.8,
          "cylinders": 4,
          "displacement": 108,
          "horsepower": "75",
          "model year": 81,
          "mpg": 32.4,
          "origin": 3,
          "weight": 2350
         },
         {
          "acceleration": 14.8,
          "cylinders": 4,
          "displacement": 119,
          "horsepower": "100",
          "model year": 81,
          "mpg": 32.9,
          "origin": 3,
          "weight": 2615
         },
         {
          "acceleration": 18.3,
          "cylinders": 4,
          "displacement": 120,
          "horsepower": "74",
          "model year": 81,
          "mpg": 31.6,
          "origin": 3,
          "weight": 2635
         },
         {
          "acceleration": 20.4,
          "cylinders": 4,
          "displacement": 141,
          "horsepower": "80",
          "model year": 81,
          "mpg": 28.1,
          "origin": 2,
          "weight": 3230
         },
         {
          "acceleration": 19.6,
          "cylinders": 6,
          "displacement": 145,
          "horsepower": "76",
          "model year": 81,
          "mpg": 30.7,
          "origin": 2,
          "weight": 3160
         },
         {
          "acceleration": 12.6,
          "cylinders": 6,
          "displacement": 168,
          "horsepower": "116",
          "model year": 81,
          "mpg": 25.4,
          "origin": 3,
          "weight": 2900
         },
         {
          "acceleration": 13.8,
          "cylinders": 6,
          "displacement": 146,
          "horsepower": "120",
          "model year": 81,
          "mpg": 24.2,
          "origin": 3,
          "weight": 2930
         },
         {
          "acceleration": 15.8,
          "cylinders": 6,
          "displacement": 231,
          "horsepower": "110",
          "model year": 81,
          "mpg": 22.4,
          "origin": 1,
          "weight": 3415
         },
         {
          "acceleration": 19,
          "cylinders": 8,
          "displacement": 350,
          "horsepower": "105",
          "model year": 81,
          "mpg": 26.6,
          "origin": 1,
          "weight": 3725
         },
         {
          "acceleration": 17.1,
          "cylinders": 6,
          "displacement": 200,
          "horsepower": "88",
          "model year": 81,
          "mpg": 20.2,
          "origin": 1,
          "weight": 3060
         },
         {
          "acceleration": 16.6,
          "cylinders": 6,
          "displacement": 225,
          "horsepower": "85",
          "model year": 81,
          "mpg": 17.6,
          "origin": 1,
          "weight": 3465
         },
         {
          "acceleration": 19.6,
          "cylinders": 4,
          "displacement": 112,
          "horsepower": "88",
          "model year": 82,
          "mpg": 28,
          "origin": 1,
          "weight": 2605
         },
         {
          "acceleration": 18.6,
          "cylinders": 4,
          "displacement": 112,
          "horsepower": "88",
          "model year": 82,
          "mpg": 27,
          "origin": 1,
          "weight": 2640
         },
         {
          "acceleration": 18,
          "cylinders": 4,
          "displacement": 112,
          "horsepower": "88",
          "model year": 82,
          "mpg": 34,
          "origin": 1,
          "weight": 2395
         },
         {
          "acceleration": 16.2,
          "cylinders": 4,
          "displacement": 112,
          "horsepower": "85",
          "model year": 82,
          "mpg": 31,
          "origin": 1,
          "weight": 2575
         },
         {
          "acceleration": 16,
          "cylinders": 4,
          "displacement": 135,
          "horsepower": "84",
          "model year": 82,
          "mpg": 29,
          "origin": 1,
          "weight": 2525
         },
         {
          "acceleration": 18,
          "cylinders": 4,
          "displacement": 151,
          "horsepower": "90",
          "model year": 82,
          "mpg": 27,
          "origin": 1,
          "weight": 2735
         },
         {
          "acceleration": 16.4,
          "cylinders": 4,
          "displacement": 140,
          "horsepower": "92",
          "model year": 82,
          "mpg": 24,
          "origin": 1,
          "weight": 2865
         },
         {
          "acceleration": 20.5,
          "cylinders": 4,
          "displacement": 151,
          "horsepower": "?",
          "model year": 82,
          "mpg": 23,
          "origin": 1,
          "weight": 3035
         },
         {
          "acceleration": 15.3,
          "cylinders": 4,
          "displacement": 105,
          "horsepower": "74",
          "model year": 82,
          "mpg": 36,
          "origin": 2,
          "weight": 1980
         },
         {
          "acceleration": 18.2,
          "cylinders": 4,
          "displacement": 91,
          "horsepower": "68",
          "model year": 82,
          "mpg": 37,
          "origin": 3,
          "weight": 2025
         },
         {
          "acceleration": 17.6,
          "cylinders": 4,
          "displacement": 91,
          "horsepower": "68",
          "model year": 82,
          "mpg": 31,
          "origin": 3,
          "weight": 1970
         },
         {
          "acceleration": 14.7,
          "cylinders": 4,
          "displacement": 105,
          "horsepower": "63",
          "model year": 82,
          "mpg": 38,
          "origin": 1,
          "weight": 2125
         },
         {
          "acceleration": 17.3,
          "cylinders": 4,
          "displacement": 98,
          "horsepower": "70",
          "model year": 82,
          "mpg": 36,
          "origin": 1,
          "weight": 2125
         },
         {
          "acceleration": 14.5,
          "cylinders": 4,
          "displacement": 120,
          "horsepower": "88",
          "model year": 82,
          "mpg": 36,
          "origin": 3,
          "weight": 2160
         },
         {
          "acceleration": 14.5,
          "cylinders": 4,
          "displacement": 107,
          "horsepower": "75",
          "model year": 82,
          "mpg": 36,
          "origin": 3,
          "weight": 2205
         },
         {
          "acceleration": 16.9,
          "cylinders": 4,
          "displacement": 108,
          "horsepower": "70",
          "model year": 82,
          "mpg": 34,
          "origin": 3,
          "weight": 2245
         },
         {
          "acceleration": 15,
          "cylinders": 4,
          "displacement": 91,
          "horsepower": "67",
          "model year": 82,
          "mpg": 38,
          "origin": 3,
          "weight": 1965
         },
         {
          "acceleration": 15.7,
          "cylinders": 4,
          "displacement": 91,
          "horsepower": "67",
          "model year": 82,
          "mpg": 32,
          "origin": 3,
          "weight": 1965
         },
         {
          "acceleration": 16.2,
          "cylinders": 4,
          "displacement": 91,
          "horsepower": "67",
          "model year": 82,
          "mpg": 38,
          "origin": 3,
          "weight": 1995
         },
         {
          "acceleration": 16.4,
          "cylinders": 6,
          "displacement": 181,
          "horsepower": "110",
          "model year": 82,
          "mpg": 25,
          "origin": 1,
          "weight": 2945
         },
         {
          "acceleration": 17,
          "cylinders": 6,
          "displacement": 262,
          "horsepower": "85",
          "model year": 82,
          "mpg": 38,
          "origin": 1,
          "weight": 3015
         },
         {
          "acceleration": 14.5,
          "cylinders": 4,
          "displacement": 156,
          "horsepower": "92",
          "model year": 82,
          "mpg": 26,
          "origin": 1,
          "weight": 2585
         },
         {
          "acceleration": 14.7,
          "cylinders": 6,
          "displacement": 232,
          "horsepower": "112",
          "model year": 82,
          "mpg": 22,
          "origin": 1,
          "weight": 2835
         },
         {
          "acceleration": 13.9,
          "cylinders": 4,
          "displacement": 144,
          "horsepower": "96",
          "model year": 82,
          "mpg": 32,
          "origin": 3,
          "weight": 2665
         },
         {
          "acceleration": 13,
          "cylinders": 4,
          "displacement": 135,
          "horsepower": "84",
          "model year": 82,
          "mpg": 36,
          "origin": 1,
          "weight": 2370
         },
         {
          "acceleration": 17.3,
          "cylinders": 4,
          "displacement": 151,
          "horsepower": "90",
          "model year": 82,
          "mpg": 27,
          "origin": 1,
          "weight": 2950
         },
         {
          "acceleration": 15.6,
          "cylinders": 4,
          "displacement": 140,
          "horsepower": "86",
          "model year": 82,
          "mpg": 27,
          "origin": 1,
          "weight": 2790
         },
         {
          "acceleration": 24.6,
          "cylinders": 4,
          "displacement": 97,
          "horsepower": "52",
          "model year": 82,
          "mpg": 44,
          "origin": 2,
          "weight": 2130
         },
         {
          "acceleration": 11.6,
          "cylinders": 4,
          "displacement": 135,
          "horsepower": "84",
          "model year": 82,
          "mpg": 32,
          "origin": 1,
          "weight": 2295
         },
         {
          "acceleration": 18.6,
          "cylinders": 4,
          "displacement": 120,
          "horsepower": "79",
          "model year": 82,
          "mpg": 28,
          "origin": 1,
          "weight": 2625
         },
         {
          "acceleration": 19.4,
          "cylinders": 4,
          "displacement": 119,
          "horsepower": "82",
          "model year": 82,
          "mpg": 31,
          "origin": 1,
          "weight": 2720
         }
        ]
       },
       "hconcat": [
        {
         "data": {
          "name": "data-0b25d0b50cf28a82b5dcadb7d45f0bc1"
         },
         "encoding": {
          "color": {
           "condition": {
            "field": "origin",
            "legend": null,
            "selection": "selector002",
            "type": "nominal"
           },
           "value": "lightgray"
          },
          "tooltip": {
           "field": "car name",
           "type": "nominal"
          },
          "x": {
           "field": "horsepower",
           "type": "quantitative"
          },
          "y": {
           "field": "mpg",
           "type": "quantitative"
          }
         },
         "mark": "point"
        },
        {
         "data": {
          "name": "data-0b25d0b50cf28a82b5dcadb7d45f0bc1"
         },
         "encoding": {
          "color": {
           "condition": {
            "field": "origin",
            "legend": null,
            "selection": "selector002",
            "type": "nominal"
           },
           "value": "lightgray"
          },
          "y": {
           "axis": {
            "orient": "right"
           },
           "field": "origin",
           "type": "nominal"
          }
         },
         "mark": "point",
         "selection": {
          "selector002": {
           "fields": [
            "origin"
           ],
           "type": "multi"
          }
         }
        }
       ]
      },
      "image/png": "[encoded data removed]",
      "text/plain": [
       "<VegaLite 3 object>\n",
       "\n",
       "If you see this message, it means the renderer has not been properly enabled\n",
       "for the frontend that you are using. For more information, see\n",
       "https://altair-viz.github.io/user_guide/troubleshooting.html\n"
      ]
     },
     "execution_count": 15,
     "metadata": {},
     "output_type": "execute_result"
    }
   ],
   "source": [
    "selection = alt.selection_multi(fields=['origin'])\n",
    "color = alt.condition(selection,\n",
    "                      alt.Color('origin:N', legend=None),\n",
    "                      alt.value('lightgray'))\n",
    "\n",
    "scatter = alt.Chart(cars).mark_point().encode(\n",
    "    x='horsepower:Q',\n",
    "    y='mpg:Q',\n",
    "    color=color,\n",
    "    tooltip='car name:N'\n",
    ")\n",
    "\n",
    "legend = alt.Chart(cars).mark_point().encode(\n",
    "    y=alt.Y('origin:N', axis=alt.Axis(orient='right')),\n",
    "    color=color\n",
    ").add_selection(\n",
    "    selection\n",
    ")\n",
    "\n",
    "scatter | legend"
   ]
  },
  {
   "cell_type": "code",
   "execution_count": 16,
   "metadata": {},
   "outputs": [
    {
     "data": {
      "application/vnd.vegalite.v3+json": {
       "$schema": "https://vega.github.io/schema/vega-lite/v3.2.1.json",
       "config": {
        "mark": {
         "tooltip": null
        },
        "view": {
         "height": 300,
         "width": 400
        }
       },
       "data": {
        "name": "data-cf28a823a9d8859ea26106b7aeec6b15"
       },
       "datasets": {
        "data-cf28a823a9d8859ea26106b7aeec6b15": [
         {
          "end": "2003-03-27T07:43:48",
          "index": 34,
          "start": "2003-03-27T07:43:23"
         },
         {
          "end": "2003-03-27T12:26:45",
          "index": 67,
          "start": "2003-03-27T12:26:42"
         },
         {
          "end": "2003-03-28T12:31:18",
          "index": 100,
          "start": "2003-03-28T12:31:11"
         },
         {
          "end": "2003-03-28T12:31:18",
          "index": 101,
          "start": "2003-03-28T12:31:11"
         },
         {
          "end": "2003-03-28T17:43:06",
          "index": 128,
          "start": "2003-03-28T17:42:57"
         },
         {
          "end": "2003-03-28T20:51:17",
          "index": 172,
          "start": "2003-03-28T20:51:10"
         },
         {
          "end": "2003-03-28T20:51:17",
          "index": 173,
          "start": "2003-03-28T20:51:10"
         },
         {
          "end": "2003-03-28T22:14:20",
          "index": 192,
          "start": "2003-03-28T22:13:50"
         },
         {
          "end": "2003-03-28T22:16:20",
          "index": 194,
          "start": "2003-03-28T22:16:16"
         },
         {
          "end": "2003-03-28T22:29:54",
          "index": 197,
          "start": "2003-03-28T22:29:38"
         },
         {
          "end": "2003-03-29T06:37:59",
          "index": 205,
          "start": "2003-03-29T06:37:48"
         },
         {
          "end": "2003-03-29T09:11:32",
          "index": 212,
          "start": "2003-03-29T09:11:05"
         },
         {
          "end": "2003-03-29T09:45:25",
          "index": 223,
          "start": "2003-03-29T09:45:23"
         },
         {
          "end": "2003-03-29T09:45:25",
          "index": 224,
          "start": "2003-03-29T09:45:23"
         },
         {
          "end": "2003-03-29T15:38:08",
          "index": 502,
          "start": "2003-03-29T15:37:59"
         },
         {
          "end": "2003-03-29T16:48:19",
          "index": 642,
          "start": "2003-03-29T16:48:09"
         },
         {
          "end": "2003-03-29T17:14:06",
          "index": 643,
          "start": "2003-03-29T17:14:00"
         },
         {
          "end": "2003-03-29T18:20:01",
          "index": 646,
          "start": "2003-03-29T18:19:56"
         },
         {
          "end": "2003-03-29T18:24:37",
          "index": 652,
          "start": "2003-03-29T18:24:32"
         },
         {
          "end": "2003-03-29T18:36:10",
          "index": 664,
          "start": "2003-03-29T18:35:42"
         },
         {
          "end": "2003-03-29T22:26:13",
          "index": 676,
          "start": "2003-03-29T22:25:39"
         },
         {
          "end": "2003-03-29T22:28:47",
          "index": 680,
          "start": "2003-03-29T22:28:44"
         },
         {
          "end": "2003-03-29T23:07:36",
          "index": 683,
          "start": "2003-03-29T23:07:20"
         },
         {
          "end": "2003-03-30T08:14:47",
          "index": 726,
          "start": "2003-03-30T08:14:44"
         },
         {
          "end": "2003-03-30T11:00:31",
          "index": 741,
          "start": "2003-03-30T11:00:27"
         },
         {
          "end": "2003-03-30T12:45:48",
          "index": 751,
          "start": "2003-03-30T12:45:34"
         },
         {
          "end": "2003-03-30T12:45:48",
          "index": 752,
          "start": "2003-03-30T12:45:34"
         },
         {
          "end": "2003-03-30T12:46:21",
          "index": 753,
          "start": "2003-03-30T12:46:00"
         },
         {
          "end": "2003-03-30T12:46:21",
          "index": 754,
          "start": "2003-03-30T12:46:00"
         },
         {
          "end": "2003-03-30T13:19:13",
          "index": 775,
          "start": "2003-03-30T13:19:07"
         },
         {
          "end": "2003-03-30T16:23:53",
          "index": 810,
          "start": "2003-03-30T16:23:23"
         },
         {
          "end": "2003-03-30T22:57:59",
          "index": 821,
          "start": "2003-03-30T22:57:20"
         },
         {
          "end": "2003-03-30T22:59:20",
          "index": 823,
          "start": "2003-03-30T22:59:16"
         },
         {
          "end": "2003-03-31T07:36:34",
          "index": 826,
          "start": "2003-03-31T07:36:06"
         },
         {
          "end": "2003-03-31T08:59:12",
          "index": 840,
          "start": "2003-03-31T08:59:10"
         },
         {
          "end": "2003-03-31T09:14:56",
          "index": 846,
          "start": "2003-03-31T09:14:46"
         },
         {
          "end": "2003-03-31T09:34:46",
          "index": 860,
          "start": "2003-03-31T09:34:08"
         },
         {
          "end": "2003-03-31T17:14:16",
          "index": 887,
          "start": "2003-03-31T17:14:09"
         },
         {
          "end": "2003-03-31T19:42:17",
          "index": 892,
          "start": "2003-03-31T19:41:44"
         },
         {
          "end": "2003-03-31T19:43:53",
          "index": 895,
          "start": "2003-03-31T19:43:46"
         },
         {
          "end": "2003-04-01T06:53:36",
          "index": 921,
          "start": "2003-04-01T06:53:35"
         },
         {
          "end": "2003-04-01T06:55:33",
          "index": 923,
          "start": "2003-04-01T06:54:57"
         },
         {
          "end": "2003-04-01T06:57:56",
          "index": 928,
          "start": "2003-04-01T06:57:47"
         },
         {
          "end": "2003-04-01T17:39:52",
          "index": 962,
          "start": "2003-04-01T17:39:46"
         },
         {
          "end": "2003-04-01T18:11:13",
          "index": 963,
          "start": "2003-04-01T18:11:02"
         },
         {
          "end": "2003-04-01T20:52:05",
          "index": 966,
          "start": "2003-04-01T20:51:58"
         },
         {
          "end": "2003-04-01T21:20:05",
          "index": 977,
          "start": "2003-04-01T21:19:41"
         },
         {
          "end": "2003-04-01T21:21:23",
          "index": 982,
          "start": "2003-04-01T21:21:16"
         },
         {
          "end": "2003-04-01T23:10:33",
          "index": 987,
          "start": "2003-04-01T23:10:28"
         },
         {
          "end": "2003-04-01T23:10:33",
          "index": 988,
          "start": "2003-04-01T23:10:28"
         },
         {
          "end": "2003-04-02T07:14:15",
          "index": 995,
          "start": "2003-04-02T07:13:53"
         },
         {
          "end": "2003-04-02T08:21:04",
          "index": 1024,
          "start": "2003-04-02T08:19:27"
         },
         {
          "end": "2003-04-02T08:21:57",
          "index": 1027,
          "start": "2003-04-02T08:21:53"
         },
         {
          "end": "2003-04-02T08:24:09",
          "index": 1030,
          "start": "2003-04-02T08:23:56"
         },
         {
          "end": "2003-04-02T11:25:19",
          "index": 1043,
          "start": "2003-04-02T11:25:06"
         },
         {
          "end": "2003-04-02T11:25:19",
          "index": 1044,
          "start": "2003-04-02T11:25:06"
         },
         {
          "end": "2003-04-02T12:12:20",
          "index": 1120,
          "start": "2003-04-02T12:12:16"
         },
         {
          "end": "2003-04-02T16:45:02",
          "index": 1125,
          "start": "2003-04-02T16:44:53"
         },
         {
          "end": "2003-04-02T21:26:46",
          "index": 1177,
          "start": "2003-04-02T21:25:39"
         },
         {
          "end": "2003-04-02T21:47:15",
          "index": 1189,
          "start": "2003-04-02T21:46:36"
         },
         {
          "end": "2003-04-03T07:10:34",
          "index": 1195,
          "start": "2003-04-03T07:10:27"
         },
         {
          "end": "2003-04-03T08:06:35",
          "index": 1199,
          "start": "2003-04-03T08:05:27"
         },
         {
          "end": "2003-04-03T09:26:50",
          "index": 1242,
          "start": "2003-04-03T09:26:44"
         },
         {
          "end": "2003-04-03T09:27:33",
          "index": 1244,
          "start": "2003-04-03T09:27:13"
         },
         {
          "end": "2003-04-03T13:57:58",
          "index": 1266,
          "start": "2003-04-03T13:57:48"
         },
         {
          "end": "2003-04-03T17:47:56",
          "index": 1274,
          "start": "2003-04-03T17:47:51"
         },
         {
          "end": "2003-04-03T20:48:41",
          "index": 1314,
          "start": "2003-04-03T20:48:18"
         },
         {
          "end": "2003-04-03T22:08:58",
          "index": 1329,
          "start": "2003-04-03T22:08:53"
         },
         {
          "end": "2003-04-03T22:08:58",
          "index": 1332,
          "start": "2003-04-03T22:08:53"
         },
         {
          "end": "2003-04-04T06:12:29",
          "index": 1344,
          "start": "2003-04-04T06:12:22"
         },
         {
          "end": "2003-04-04T07:22:05",
          "index": 1377,
          "start": "2003-04-04T07:21:42"
         },
         {
          "end": "2003-04-04T07:22:05",
          "index": 1378,
          "start": "2003-04-04T07:21:42"
         },
         {
          "end": "2003-04-04T07:23:58",
          "index": 1384,
          "start": "2003-04-04T07:23:56"
         },
         {
          "end": "2003-04-04T14:02:52",
          "index": 1435,
          "start": "2003-04-04T14:02:46"
         },
         {
          "end": "2003-04-04T16:43:46",
          "index": 1464,
          "start": "2003-04-04T16:43:39"
         },
         {
          "end": "2003-04-04T16:43:46",
          "index": 1465,
          "start": "2003-04-04T16:43:39"
         },
         {
          "end": "2003-04-04T17:48:05",
          "index": 1477,
          "start": "2003-04-04T17:47:51"
         },
         {
          "end": "2003-04-04T17:48:05",
          "index": 1478,
          "start": "2003-04-04T17:47:51"
         },
         {
          "end": "2003-04-05T11:30:31",
          "index": 1514,
          "start": "2003-04-05T11:30:26"
         },
         {
          "end": "2003-04-05T16:09:20",
          "index": 1605,
          "start": "2003-04-05T16:09:16"
         },
         {
          "end": "2003-04-05T17:23:55",
          "index": 1628,
          "start": "2003-04-05T17:23:47"
         },
         {
          "end": "2003-04-05T19:45:09",
          "index": 1643,
          "start": "2003-04-05T19:44:32"
         },
         {
          "end": "2003-04-05T22:16:37",
          "index": 1648,
          "start": "2003-04-05T20:27:49"
         },
         {
          "end": "2003-04-05T22:44:39",
          "index": 1665,
          "start": "2003-04-05T22:44:02"
         },
         {
          "end": "2003-04-05T23:46:41",
          "index": 1672,
          "start": "2003-04-05T23:46:36"
         },
         {
          "end": "2003-04-06T00:55:34",
          "index": 1677,
          "start": "2003-04-06T00:55:28"
         },
         {
          "end": "2003-04-06T00:58:34",
          "index": 1680,
          "start": "2003-04-06T00:58:27"
         },
         {
          "end": "2003-04-06T08:05:10",
          "index": 1689,
          "start": "2003-04-06T08:05:04"
         },
         {
          "end": "2003-04-06T08:54:02",
          "index": 1698,
          "start": "2003-04-06T08:53:56"
         },
         {
          "end": "2003-04-06T09:43:41",
          "index": 1724,
          "start": "2003-04-06T09:43:10"
         },
         {
          "end": "2003-04-06T16:57:38",
          "index": 1810,
          "start": "2003-04-06T16:57:27"
         },
         {
          "end": "2003-04-06T17:38:15",
          "index": 1815,
          "start": "2003-04-06T17:38:11"
         },
         {
          "end": "2003-04-06T17:40:15",
          "index": 1819,
          "start": "2003-04-06T17:39:45"
         },
         {
          "end": "2003-04-06T18:16:14",
          "index": 1824,
          "start": "2003-04-06T18:16:09"
         },
         {
          "end": "2003-04-06T18:41:31",
          "index": 1842,
          "start": "2003-04-06T18:41:16"
         },
         {
          "end": "2003-04-06T20:56:11",
          "index": 1871,
          "start": "2003-04-06T20:55:26"
         },
         {
          "end": "2003-04-06T20:58:53",
          "index": 1875,
          "start": "2003-04-06T20:58:39"
         },
         {
          "end": "2003-04-06T21:36:32",
          "index": 1878,
          "start": "2003-04-06T21:36:27"
         },
         {
          "end": "2003-04-07T04:40:15",
          "index": 1881,
          "start": "2003-04-07T04:40:08"
         },
         {
          "end": "2003-04-07T07:42:35",
          "index": 1914,
          "start": "2003-04-07T07:42:31"
         },
         {
          "end": "2003-04-07T07:46:02",
          "index": 1916,
          "start": "2003-04-07T07:45:35"
         },
         {
          "end": "2003-04-07T07:50:09",
          "index": 1919,
          "start": "2003-04-07T07:49:16"
         },
         {
          "end": "2003-04-07T07:54:36",
          "index": 1926,
          "start": "2003-04-07T07:54:32"
         },
         {
          "end": "2003-04-07T13:14:46",
          "index": 1957,
          "start": "2003-04-07T13:14:30"
         },
         {
          "end": "2003-04-07T16:42:06",
          "index": 1969,
          "start": "2003-04-07T16:41:52"
         },
         {
          "end": "2003-04-07T16:43:51",
          "index": 1972,
          "start": "2003-04-07T16:43:39"
         },
         {
          "end": "2003-04-07T17:46:12",
          "index": 1980,
          "start": "2003-04-07T17:46:10"
         },
         {
          "end": "2003-04-07T18:51:56",
          "index": 1996,
          "start": "2003-04-07T18:51:45"
         },
         {
          "end": "2003-04-07T18:51:56",
          "index": 1997,
          "start": "2003-04-07T18:51:45"
         },
         {
          "end": "2003-04-07T20:36:28",
          "index": 2002,
          "start": "2003-04-07T20:36:03"
         },
         {
          "end": "2003-04-08T06:40:47",
          "index": 2017,
          "start": "2003-04-08T06:40:37"
         },
         {
          "end": "2003-04-08T07:00:09",
          "index": 2028,
          "start": "2003-04-08T06:59:05"
         },
         {
          "end": "2003-04-08T07:05:55",
          "index": 2034,
          "start": "2003-04-08T07:05:48"
         },
         {
          "end": "2003-04-08T07:08:41",
          "index": 2037,
          "start": "2003-04-08T07:08:38"
         },
         {
          "end": "2003-04-08T15:43:17",
          "index": 2068,
          "start": "2003-04-08T15:41:45"
         },
         {
          "end": "2003-04-08T15:56:39",
          "index": 2075,
          "start": "2003-04-08T15:55:16"
         },
         {
          "end": "2003-04-08T16:05:18",
          "index": 2079,
          "start": "2003-04-08T16:05:15"
         },
         {
          "end": "2003-04-08T17:17:15",
          "index": 2085,
          "start": "2003-04-08T17:17:09"
         },
         {
          "end": "2003-04-08T21:29:52",
          "index": 2112,
          "start": "2003-04-08T21:29:18"
         },
         {
          "end": "2003-04-08T21:31:32",
          "index": 2115,
          "start": "2003-04-08T21:31:29"
         },
         {
          "end": "2003-04-09T00:26:21",
          "index": 2121,
          "start": "2003-04-09T00:25:54"
         },
         {
          "end": "2003-04-09T00:27:15",
          "index": 2123,
          "start": "2003-04-09T00:26:24"
         },
         {
          "end": "2003-04-09T07:12:58",
          "index": 2137,
          "start": "2003-04-09T07:12:51"
         },
         {
          "end": "2003-04-09T08:43:44",
          "index": 2150,
          "start": "2003-04-09T08:43:37"
         },
         {
          "end": "2003-04-09T10:55:10",
          "index": 2173,
          "start": "2003-04-09T10:55:01"
         },
         {
          "end": "2003-04-09T16:04:12",
          "index": 2246,
          "start": "2003-04-09T16:04:04"
         },
         {
          "end": "2003-04-09T16:11:02",
          "index": 2249,
          "start": "2003-04-09T16:10:16"
         },
         {
          "end": "2003-04-09T16:15:00",
          "index": 2253,
          "start": "2003-04-09T16:14:57"
         },
         {
          "end": "2003-04-09T16:24:25",
          "index": 2259,
          "start": "2003-04-09T16:24:22"
         },
         {
          "end": "2003-04-09T18:45:19",
          "index": 2266,
          "start": "2003-04-09T18:45:09"
         },
         {
          "end": "2003-04-09T20:10:09",
          "index": 2288,
          "start": "2003-04-09T20:09:39"
         },
         {
          "end": "2003-04-09T20:10:09",
          "index": 2289,
          "start": "2003-04-09T20:09:39"
         },
         {
          "end": "2003-04-09T21:20:29",
          "index": 2300,
          "start": "2003-04-09T21:20:24"
         },
         {
          "end": "2003-04-09T21:20:29",
          "index": 2301,
          "start": "2003-04-09T21:20:24"
         },
         {
          "end": "2003-04-09T21:38:06",
          "index": 2303,
          "start": "2003-04-09T21:38:02"
         },
         {
          "end": "2003-04-10T08:19:17",
          "index": 2308,
          "start": "2003-04-10T08:19:13"
         },
         {
          "end": "2003-04-10T10:12:28",
          "index": 2335,
          "start": "2003-04-10T10:11:45"
         },
         {
          "end": "2003-04-10T11:21:08",
          "index": 2386,
          "start": "2003-04-10T11:20:57"
         },
         {
          "end": "2003-04-10T11:21:56",
          "index": 2389,
          "start": "2003-04-10T11:21:20"
         },
         {
          "end": "2003-04-10T11:22:38",
          "index": 2391,
          "start": "2003-04-10T11:22:19"
         },
         {
          "end": "2003-04-10T11:57:32",
          "index": 2413,
          "start": "2003-04-10T11:56:49"
         },
         {
          "end": "2003-04-10T12:00:46",
          "index": 2415,
          "start": "2003-04-10T11:57:53"
         },
         {
          "end": "2003-04-10T12:02:06",
          "index": 2417,
          "start": "2003-04-10T12:01:55"
         },
         {
          "end": "2003-04-10T12:05:25",
          "index": 2420,
          "start": "2003-04-10T12:05:13"
         },
         {
          "end": "2003-04-10T13:02:21",
          "index": 2456,
          "start": "2003-04-10T12:59:57"
         },
         {
          "end": "2003-04-10T14:43:12",
          "index": 2481,
          "start": "2003-04-10T14:43:07"
         },
         {
          "end": "2003-04-10T18:03:03",
          "index": 2488,
          "start": "2003-04-10T18:02:51"
         },
         {
          "end": "2003-04-10T18:30:05",
          "index": 2491,
          "start": "2003-04-10T18:29:57"
         },
         {
          "end": "2003-04-10T19:16:18",
          "index": 2520,
          "start": "2003-04-10T19:16:10"
         },
         {
          "end": "2003-04-10T19:16:18",
          "index": 2521,
          "start": "2003-04-10T19:16:10"
         },
         {
          "end": "2003-04-10T19:59:55",
          "index": 2532,
          "start": "2003-04-10T19:59:50"
         },
         {
          "end": "2003-04-10T20:58:32",
          "index": 2542,
          "start": "2003-04-10T20:57:53"
         },
         {
          "end": "2003-04-11T08:24:17",
          "index": 2553,
          "start": "2003-04-11T08:24:11"
         },
         {
          "end": "2003-04-11T09:05:07",
          "index": 2558,
          "start": "2003-04-11T09:04:39"
         },
         {
          "end": "2003-04-11T09:48:06",
          "index": 2570,
          "start": "2003-04-11T09:47:41"
         },
         {
          "end": "2003-04-11T09:55:10",
          "index": 2578,
          "start": "2003-04-11T09:54:39"
         },
         {
          "end": "2003-04-11T11:23:34",
          "index": 2608,
          "start": "2003-04-11T11:23:19"
         },
         {
          "end": "2003-04-11T11:25:13",
          "index": 2611,
          "start": "2003-04-11T11:24:43"
         },
         {
          "end": "2003-04-11T11:26:04",
          "index": 2612,
          "start": "2003-04-11T11:26:03"
         },
         {
          "end": "2003-04-11T15:55:22",
          "index": 2703,
          "start": "2003-04-11T15:55:17"
         },
         {
          "end": "2003-04-11T15:55:22",
          "index": 2704,
          "start": "2003-04-11T15:55:17"
         },
         {
          "end": "2003-04-11T17:48:34",
          "index": 2715,
          "start": "2003-04-11T17:48:20"
         },
         {
          "end": "2003-04-11T19:31:54",
          "index": 2723,
          "start": "2003-04-11T19:31:53"
         },
         {
          "end": "2003-04-11T19:32:34",
          "index": 2724,
          "start": "2003-04-11T19:32:20"
         },
         {
          "end": "2003-04-11T20:05:14",
          "index": 2741,
          "start": "2003-04-11T20:05:05"
         },
         {
          "end": "2003-04-11T22:18:26",
          "index": 2759,
          "start": "2003-04-11T22:17:36"
         },
         {
          "end": "2003-04-11T22:19:08",
          "index": 2764,
          "start": "2003-04-11T22:18:32"
         },
         {
          "end": "2003-04-11T22:20:08",
          "index": 2766,
          "start": "2003-04-11T22:19:49"
         },
         {
          "end": "2003-04-11T22:22:01",
          "index": 2769,
          "start": "2003-04-11T22:21:57"
         }
        ]
       },
       "encoding": {
        "detail": {
         "field": "index",
         "type": "quantitative"
        },
        "x": {
         "field": "start",
         "timeUnit": "hoursminutes",
         "type": "temporal"
        },
        "x2": {
         "field": "end",
         "timeUnit": "hoursminutes"
        },
        "y": {
         "field": "start",
         "timeUnit": "date",
         "type": "ordinal"
        }
       },
       "mark": "bar",
       "selection": {
        "selector003": {
         "bind": "scales",
         "encodings": [
          "x",
          "y"
         ],
         "type": "interval"
        }
       },
       "width": 750
      },
      "image/png": "[encoded data removed]",
      "text/plain": [
       "<VegaLite 3 object>\n",
       "\n",
       "If you see this message, it means the renderer has not been properly enabled\n",
       "for the frontend that you are using. For more information, see\n",
       "https://altair-viz.github.io/user_guide/troubleshooting.html\n"
      ]
     },
     "execution_count": 16,
     "metadata": {},
     "output_type": "execute_result"
    }
   ],
   "source": [
    "# https://altair-viz.github.io/user_guide/interactions.html\n",
    "dsCheck = ds[ds['subAct']=='Sink faucet - hot']\n",
    "\n",
    "df = pd.DataFrame({ \n",
    "    'start': dsCheck.start, \n",
    "    'end': dsCheck.end,})\n",
    "\n",
    "alt.Chart(df.reset_index()).mark_bar().encode(\n",
    "    y='date(start):O',\n",
    "    x='hoursminutes(start)',\n",
    "    x2='hoursminutes(end)',\n",
    "    detail='index'\n",
    ").properties(width=750).interactive()\n",
    "\n",
    "\n",
    "\n",
    "selection = alt.selection_multi(fields=['origin'])\n",
    "color = alt.condition(selection,\n",
    "                      alt.Color('origin:N', legend=None),\n",
    "                      alt.value('lightgray'))\n",
    "\n",
    "scatter = alt.Chart(cars).mark_point().encode(\n",
    "    x='horsepower:Q',\n",
    "    y='mpg:Q',\n",
    "    color=color,\n",
    "    tooltip='car name:N'\n",
    ")\n",
    "\n",
    "legend = alt.Chart(cars).mark_point().encode(\n",
    "    y=alt.Y('origin:N', axis=alt.Axis(orient='right')),\n",
    "    color=color\n",
    ").add_selection(\n",
    "    selection\n",
    ")\n",
    "\n",
    "scatter | legend"
   ]
  },
  {
   "cell_type": "code",
   "execution_count": 90,
   "metadata": {},
   "outputs": [
    {
     "data": {
      "application/vnd.vegalite.v3+json": {
       "$schema": "https://vega.github.io/schema/vega-lite/v3.2.1.json",
       "config": {
        "mark": {
         "tooltip": null
        },
        "view": {
         "height": 300,
         "width": 400
        }
       },
       "data": {
        "name": "data-2a4ea03659fcf82396dda89026b134e7"
       },
       "datasets": {
        "data-2a4ea03659fcf82396dda89026b134e7": [
         {
          "end": "2003-04-01 21:20:34",
          "index": 13,
          "start": "2003-04-01 21:20:04"
         },
         {
          "end": "2003-04-01 06:55:32",
          "index": 81,
          "start": "2003-04-01 06:54:56"
         },
         {
          "end": "2003-04-01 06:57:54",
          "index": 86,
          "start": "2003-04-01 06:57:45"
         },
         {
          "end": "2003-04-01 23:10:31",
          "index": 88,
          "start": "2003-04-01 23:10:26"
         },
         {
          "end": "2003-04-01 23:10:31",
          "index": 92,
          "start": "2003-04-01 23:10:26"
         },
         {
          "end": "2003-04-02 08:21:03",
          "index": 144,
          "start": "2003-04-02 08:19:25"
         },
         {
          "end": "2003-04-02 16:45:01",
          "index": 250,
          "start": "2003-04-02 16:44:51"
         },
         {
          "end": "2003-04-02 21:45:15",
          "index": 281,
          "start": "2003-04-02 21:45:14"
         },
         {
          "end": "2003-04-02 21:46:34",
          "index": 282,
          "start": "2003-04-02 21:46:16"
         },
         {
          "end": "2003-04-02 21:47:14",
          "index": 284,
          "start": "2003-04-02 21:46:53"
         },
         {
          "end": "2003-04-02 21:48:45",
          "index": 285,
          "start": "2003-04-02 21:48:42"
         },
         {
          "end": "2003-04-02 21:27:21",
          "index": 292,
          "start": "2003-04-02 21:26:44"
         },
         {
          "end": "2003-04-03 08:06:33",
          "index": 338,
          "start": "2003-04-03 08:05:20"
         },
         {
          "end": "2003-04-03 07:10:32",
          "index": 341,
          "start": "2003-04-03 07:10:25"
         },
         {
          "end": "2003-04-03 09:26:49",
          "index": 346,
          "start": "2003-04-03 09:26:42"
         },
         {
          "end": "2003-04-03 17:47:55",
          "index": 379,
          "start": "2003-04-03 17:47:49"
         },
         {
          "end": "2003-04-03 20:49:16",
          "index": 408,
          "start": "2003-04-03 20:48:39"
         },
         {
          "end": "2003-04-03 22:08:57",
          "index": 421,
          "start": "2003-04-03 22:08:53"
         },
         {
          "end": "2003-04-03 22:08:57",
          "index": 425,
          "start": "2003-04-03 22:08:53"
         },
         {
          "end": "2003-04-04 06:12:27",
          "index": 485,
          "start": "2003-04-04 06:12:21"
         },
         {
          "end": "2003-04-04 07:22:40",
          "index": 517,
          "start": "2003-04-04 07:22:03"
         },
         {
          "end": "2003-04-04 07:22:40",
          "index": 522,
          "start": "2003-04-04 07:22:03"
         },
         {
          "end": "2003-04-04 07:23:57",
          "index": 525,
          "start": "2003-04-04 07:23:54"
         },
         {
          "end": "2003-04-04 14:02:50",
          "index": 537,
          "start": "2003-04-04 14:02:44"
         },
         {
          "end": "2003-04-04 16:43:44",
          "index": 579,
          "start": "2003-04-04 16:43:37"
         },
         {
          "end": "2003-04-04 16:43:44",
          "index": 583,
          "start": "2003-04-04 16:43:37"
         },
         {
          "end": "2003-04-05 19:45:57",
          "index": 638,
          "start": "2003-04-05 19:45:07"
         },
         {
          "end": "2003-04-05 22:45:09",
          "index": 647,
          "start": "2003-04-05 22:44:37"
         },
         {
          "end": "2003-04-05 22:46:10",
          "index": 649,
          "start": "2003-04-05 22:46:03"
         },
         {
          "end": "2003-04-05 11:30:29",
          "index": 730,
          "start": "2003-04-05 11:30:24"
         },
         {
          "end": "2003-04-05 17:23:53",
          "index": 735,
          "start": "2003-04-05 17:23:46"
         },
         {
          "end": "2003-04-05 16:09:18",
          "index": 750,
          "start": "2003-04-05 16:09:14"
         },
         {
          "end": "2003-04-05 22:16:50",
          "index": 771,
          "start": "2003-04-05 22:16:35"
         },
         {
          "end": "2003-04-05 22:16:50",
          "index": 776,
          "start": "2003-04-05 22:16:35"
         },
         {
          "end": "2003-04-06 00:55:32",
          "index": 779,
          "start": "2003-04-06 00:55:25"
         },
         {
          "end": "2003-04-06 00:55:37",
          "index": 781,
          "start": "2003-04-06 00:55:36"
         },
         {
          "end": "2003-04-06 01:00:00",
          "index": 786,
          "start": "2003-04-06 00:58:49"
         },
         {
          "end": "2003-04-06 01:02:05",
          "index": 788,
          "start": "2003-04-06 01:01:58"
         },
         {
          "end": "2003-04-06 15:33:40",
          "index": 791,
          "start": "2003-04-06 15:33:34"
         },
         {
          "end": "2003-04-06 15:33:44",
          "index": 792,
          "start": "2003-04-06 15:33:41"
         },
         {
          "end": "2003-04-06 15:33:46",
          "index": 793,
          "start": "2003-04-06 15:33:44"
         },
         {
          "end": "2003-04-06 16:57:36",
          "index": 799,
          "start": "2003-04-06 16:57:25"
         },
         {
          "end": "2003-04-06 17:38:13",
          "index": 804,
          "start": "2003-04-06 17:38:09"
         },
         {
          "end": "2003-04-06 17:39:44",
          "index": 808,
          "start": "2003-04-06 17:39:32"
         },
         {
          "end": "2003-04-06 17:40:14",
          "index": 810,
          "start": "2003-04-06 17:39:46"
         },
         {
          "end": "2003-04-06 21:36:30",
          "index": 812,
          "start": "2003-04-06 21:36:24"
         },
         {
          "end": "2003-04-06 20:56:50",
          "index": 821,
          "start": "2003-04-06 20:56:09"
         },
         {
          "end": "2003-04-06 20:58:51",
          "index": 823,
          "start": "2003-04-06 20:58:37"
         },
         {
          "end": "2003-04-06 08:19:07",
          "index": 842,
          "start": "2003-04-06 08:18:42"
         },
         {
          "end": "2003-04-06 08:19:46",
          "index": 843,
          "start": "2003-04-06 08:19:17"
         },
         {
          "end": "2003-04-06 08:53:54",
          "index": 844,
          "start": "2003-04-06 08:19:54"
         },
         {
          "end": "2003-04-06 08:05:08",
          "index": 848,
          "start": "2003-04-06 08:05:02"
         },
         {
          "end": "2003-04-06 09:42:26",
          "index": 876,
          "start": "2003-04-06 09:42:19"
         },
         {
          "end": "2003-04-06 09:44:07",
          "index": 882,
          "start": "2003-04-06 09:43:39"
         },
         {
          "end": "2003-04-06 09:44:51",
          "index": 884,
          "start": "2003-04-06 09:44:50"
         },
         {
          "end": "2003-04-06 18:16:12",
          "index": 960,
          "start": "2003-04-06 18:16:07"
         },
         {
          "end": "2003-04-06 18:17:52",
          "index": 962,
          "start": "2003-04-06 18:17:46"
         },
         {
          "end": "2003-04-06 18:41:49",
          "index": 976,
          "start": "2003-04-06 18:41:29"
         },
         {
          "end": "2003-04-07 07:42:33",
          "index": 988,
          "start": "2003-04-07 07:42:28"
         },
         {
          "end": "2003-04-07 07:46:31",
          "index": 992,
          "start": "2003-04-07 07:46:00"
         },
         {
          "end": "2003-04-07 07:50:10",
          "index": 997,
          "start": "2003-04-07 07:50:07"
         },
         {
          "end": "2003-04-07 16:42:04",
          "index": 1013,
          "start": "2003-04-07 16:41:50"
         },
         {
          "end": "2003-04-07 16:43:49",
          "index": 1016,
          "start": "2003-04-07 16:43:37"
         },
         {
          "end": "2003-04-07 20:37:09",
          "index": 1026,
          "start": "2003-04-07 20:36:27"
         },
         {
          "end": "2003-04-08 15:43:15",
          "index": 1119,
          "start": "2003-04-08 15:41:45"
         },
         {
          "end": "2003-04-08 17:17:13",
          "index": 1126,
          "start": "2003-04-08 17:17:07"
         },
         {
          "end": "2003-04-08 15:56:36",
          "index": 1136,
          "start": "2003-04-08 15:55:16"
         },
         {
          "end": "2003-04-08 16:05:16",
          "index": 1138,
          "start": "2003-04-08 16:05:12"
         },
         {
          "end": "2003-04-08 21:30:36",
          "index": 1144,
          "start": "2003-04-08 21:29:49"
         },
         {
          "end": "2003-04-08 21:31:29",
          "index": 1145,
          "start": "2003-04-08 21:31:26"
         },
         {
          "end": "2003-04-08 06:40:45",
          "index": 1175,
          "start": "2003-04-08 06:40:34"
         },
         {
          "end": "2003-04-08 07:00:24",
          "index": 1186,
          "start": "2003-04-08 07:00:07"
         },
         {
          "end": "2003-04-08 07:05:53",
          "index": 1189,
          "start": "2003-04-08 07:05:46"
         },
         {
          "end": "2003-04-08 07:08:39",
          "index": 1192,
          "start": "2003-04-08 07:08:36"
         },
         {
          "end": "2003-04-08 20:54:48",
          "index": 1214,
          "start": "2003-04-08 20:54:41"
         },
         {
          "end": "2003-04-09 00:25:48",
          "index": 1222,
          "start": "2003-04-09 00:23:36"
         },
         {
          "end": "2003-04-09 00:26:04",
          "index": 1223,
          "start": "2003-04-09 00:25:53"
         },
         {
          "end": "2003-04-09 00:27:13",
          "index": 1225,
          "start": "2003-04-09 00:26:12"
         },
         {
          "end": "2003-04-09 00:28:22",
          "index": 1227,
          "start": "2003-04-09 00:28:21"
         },
         {
          "end": "2003-04-09 00:28:48",
          "index": 1228,
          "start": "2003-04-09 00:28:46"
         },
         {
          "end": "2003-04-09 00:30:28",
          "index": 1231,
          "start": "2003-04-09 00:29:02"
         },
         {
          "end": "2003-04-09 00:30:59",
          "index": 1232,
          "start": "2003-04-09 00:30:58"
         },
         {
          "end": "2003-04-09 00:34:18",
          "index": 1234,
          "start": "2003-04-09 00:34:10"
         },
         {
          "end": "2003-04-09 07:12:56",
          "index": 1239,
          "start": "2003-04-09 07:12:49"
         },
         {
          "end": "2003-04-09 08:06:16",
          "index": 1244,
          "start": "2003-04-09 08:05:49"
         },
         {
          "end": "2003-04-09 10:55:07",
          "index": 1247,
          "start": "2003-04-09 10:54:58"
         },
         {
          "end": "2003-04-09 21:38:03",
          "index": 1274,
          "start": "2003-04-09 21:37:59"
         },
         {
          "end": "2003-04-09 08:43:42",
          "index": 1346,
          "start": "2003-04-09 08:43:35"
         },
         {
          "end": "2003-04-09 16:11:30",
          "index": 1375,
          "start": "2003-04-09 16:10:59"
         },
         {
          "end": "2003-04-09 16:14:58",
          "index": 1377,
          "start": "2003-04-09 16:14:55"
         },
         {
          "end": "2003-04-09 16:24:23",
          "index": 1383,
          "start": "2003-04-09 16:24:19"
         },
         {
          "end": "2003-04-10 14:43:09",
          "index": 1408,
          "start": "2003-04-10 14:43:04"
         },
         {
          "end": "2003-04-10 08:19:15",
          "index": 1450,
          "start": "2003-04-10 08:19:10"
         },
         {
          "end": "2003-04-10 10:12:52",
          "index": 1461,
          "start": "2003-04-10 10:12:26"
         },
         {
          "end": "2003-04-10 13:02:28",
          "index": 1478,
          "start": "2003-04-10 13:02:19"
         },
         {
          "end": "2003-04-10 11:57:29",
          "index": 1493,
          "start": "2003-04-10 11:56:46"
         },
         {
          "end": "2003-04-10 12:00:44",
          "index": 1495,
          "start": "2003-04-10 11:57:51"
         },
         {
          "end": "2003-04-10 12:02:04",
          "index": 1497,
          "start": "2003-04-10 12:01:53"
         },
         {
          "end": "2003-04-10 12:05:22",
          "index": 1500,
          "start": "2003-04-10 12:05:10"
         },
         {
          "end": "2003-04-10 11:21:06",
          "index": 1538,
          "start": "2003-04-10 11:20:54"
         },
         {
          "end": "2003-04-10 11:21:53",
          "index": 1541,
          "start": "2003-04-10 11:21:18"
         },
         {
          "end": "2003-04-10 11:22:35",
          "index": 1543,
          "start": "2003-04-10 11:22:16"
         },
         {
          "end": "2003-04-10 18:30:02",
          "index": 1598,
          "start": "2003-04-10 18:29:54"
         },
         {
          "end": "2003-04-10 19:16:15",
          "index": 1625,
          "start": "2003-04-10 19:16:07"
         },
         {
          "end": "2003-04-10 19:16:15",
          "index": 1632,
          "start": "2003-04-10 19:16:07"
         },
         {
          "end": "2003-04-11 09:05:05",
          "index": 1657,
          "start": "2003-04-11 09:04:52"
         },
         {
          "end": "2003-04-11 09:47:02",
          "index": 1660,
          "start": "2003-04-11 09:40:02"
         },
         {
          "end": "2003-04-11 20:05:12",
          "index": 1686,
          "start": "2003-04-11 20:05:02"
         },
         {
          "end": "2003-04-11 22:18:24",
          "index": 1726,
          "start": "2003-04-11 22:17:34"
         },
         {
          "end": "2003-04-11 22:19:05",
          "index": 1731,
          "start": "2003-04-11 22:18:30"
         },
         {
          "end": "2003-04-11 22:20:06",
          "index": 1733,
          "start": "2003-04-11 22:19:46"
         },
         {
          "end": "2003-04-11 22:21:58",
          "index": 1736,
          "start": "2003-04-11 22:21:54"
         },
         {
          "end": "2003-04-11 08:26:48",
          "index": 1775,
          "start": "2003-04-11 08:26:11"
         },
         {
          "end": "2003-04-11 15:55:20",
          "index": 1836,
          "start": "2003-04-11 15:55:15"
         },
         {
          "end": "2003-04-11 15:55:20",
          "index": 1849,
          "start": "2003-04-11 15:55:15"
         },
         {
          "end": "2003-03-27 07:43:48",
          "index": 1916,
          "start": "2003-03-27 07:43:22"
         },
         {
          "end": "2003-03-27 12:26:45",
          "index": 1950,
          "start": "2003-03-27 12:26:41"
         },
         {
          "end": "2003-03-28 17:43:06",
          "index": 2007,
          "start": "2003-03-28 17:42:56"
         },
         {
          "end": "2003-03-28 20:51:17",
          "index": 2049,
          "start": "2003-03-28 20:51:09"
         },
         {
          "end": "2003-03-28 20:51:17",
          "index": 2055,
          "start": "2003-03-28 20:51:09"
         },
         {
          "end": "2003-03-30 12:45:47",
          "index": 2668,
          "start": "2003-03-30 12:45:33"
         },
         {
          "end": "2003-03-30 12:45:47",
          "index": 2672,
          "start": "2003-03-30 12:45:33"
         },
         {
          "end": "2003-03-31 19:42:53",
          "index": 2717,
          "start": "2003-03-31 19:42:15"
         },
         {
          "end": "2003-03-31 19:43:51",
          "index": 2719,
          "start": "2003-03-31 19:43:46"
         },
         {
          "end": "2003-03-31 07:36:33",
          "index": 2737,
          "start": "2003-03-31 07:36:30"
         },
         {
          "end": "2003-03-31 09:14:55",
          "index": 2761,
          "start": "2003-03-31 09:14:44"
         },
         {
          "end": "2003-03-31 09:35:05",
          "index": 2771,
          "start": "2003-03-31 09:34:45"
         }
        ]
       },
       "encoding": {
        "detail": {
         "field": "index",
         "type": "quantitative"
        },
        "x": {
         "field": "start",
         "timeUnit": "hoursminutes",
         "type": "temporal"
        },
        "x2": {
         "field": "end",
         "timeUnit": "hoursminutes"
        },
        "y": {
         "field": "start",
         "timeUnit": "date",
         "type": "ordinal"
        }
       },
       "mark": "bar",
       "width": 750
      },
      "image/png": "[encoded data removed]",
      "text/plain": [
       "<VegaLite 3 object>\n",
       "\n",
       "If you see this message, it means the renderer has not been properly enabled\n",
       "for the frontend that you are using. For more information, see\n",
       "https://altair-viz.github.io/user_guide/troubleshooting.html\n"
      ]
     },
     "execution_count": 90,
     "metadata": {},
     "output_type": "execute_result"
    }
   ],
   "source": [
    "dsCheck = ds[ds['subAct']=='Sink faucet - cold']\n",
    "\n",
    "df = pd.DataFrame({ \n",
    "    'start': dsCheck.start, \n",
    "    'end': dsCheck.end,})\n",
    "\n",
    "alt.Chart(df.reset_index()).mark_bar().encode(\n",
    "    y='date(start):O',\n",
    "    x='hoursminutes(start)',\n",
    "    x2='hoursminutes(end)',\n",
    "    detail='index'\n",
    ").properties(width=750).interactive()"
   ]
  },
  {
   "cell_type": "code",
   "execution_count": 10,
   "metadata": {},
   "outputs": [
    {
     "data": {
      "application/vnd.vegalite.v3+json": {
       "$schema": "https://vega.github.io/schema/vega-lite/v3.2.1.json",
       "config": {
        "mark": {
         "tooltip": null
        },
        "view": {
         "height": 300,
         "width": 400
        }
       },
       "data": {
        "name": "data-58a4f0ef0fdd4b732cdcc0d40f58e073"
       },
       "datasets": {
        "data-58a4f0ef0fdd4b732cdcc0d40f58e073": [
         {
          "end": "2003-04-01 21:05:20",
          "index": 0,
          "start": "2003-04-01 20:51:52"
         },
         {
          "end": "2003-04-01 23:10:23",
          "index": 16,
          "start": "2003-04-01 21:21:13"
         },
         {
          "end": "2003-04-01 18:10:57",
          "index": 20,
          "start": "2003-04-01 17:39:37"
         },
         {
          "end": "2003-04-01 16:35:49",
          "index": 24,
          "start": "2003-04-01 11:55:43"
         },
         {
          "end": "2003-04-01 06:57:39",
          "index": 74,
          "start": "2003-04-01 06:14:36"
         },
         {
          "end": "2003-04-02 11:25:03",
          "index": 117,
          "start": "2003-04-02 07:13:48"
         },
         {
          "end": "2003-04-02 16:44:37",
          "index": 215,
          "start": "2003-04-02 12:12:04"
         },
         {
          "end": "2003-04-03 09:26:08",
          "index": 300,
          "start": "2003-04-03 08:47:33"
         },
         {
          "end": "2003-04-03 08:05:19",
          "index": 337,
          "start": "2003-04-03 08:05:17"
         },
         {
          "end": "2003-04-03 17:47:37",
          "index": 369,
          "start": "2003-04-03 13:57:31"
         },
         {
          "end": "2003-04-03 22:08:48",
          "index": 434,
          "start": "2003-04-03 20:20:51"
         },
         {
          "end": "2003-04-04 06:42:22",
          "index": 484,
          "start": "2003-04-04 06:12:20"
         },
         {
          "end": "2003-04-04 14:02:12",
          "index": 533,
          "start": "2003-04-04 12:30:30"
         },
         {
          "end": "2003-04-04 14:02:12",
          "index": 535,
          "start": "2003-04-04 12:30:30"
         },
         {
          "end": "2003-04-04 16:43:31",
          "index": 557,
          "start": "2003-04-04 14:56:40"
         },
         {
          "end": "2003-04-05 20:27:32",
          "index": 738,
          "start": "2003-04-05 17:57:19"
         },
         {
          "end": "2003-04-05 17:23:41",
          "index": 749,
          "start": "2003-04-05 16:09:08"
         },
         {
          "end": "2003-04-05 22:45:58",
          "index": 770,
          "start": "2003-04-05 22:16:30"
         },
         {
          "end": "2003-04-05 22:45:58",
          "index": 775,
          "start": "2003-04-05 22:16:30"
         },
         {
          "end": "2003-04-06 16:57:15",
          "index": 790,
          "start": "2003-04-06 15:33:28"
         },
         {
          "end": "2003-04-06 17:39:31",
          "index": 803,
          "start": "2003-04-06 17:38:08"
         },
         {
          "end": "2003-04-06 18:16:06",
          "index": 807,
          "start": "2003-04-06 17:39:32"
         },
         {
          "end": "2003-04-06 21:36:22",
          "index": 822,
          "start": "2003-04-06 20:58:32"
         },
         {
          "end": "2003-04-06 08:19:47",
          "index": 847,
          "start": "2003-04-06 08:04:57"
         },
         {
          "end": "2003-04-06 09:42:16",
          "index": 852,
          "start": "2003-04-06 08:53:48"
         },
         {
          "end": "2003-04-06 18:22:56",
          "index": 963,
          "start": "2003-04-06 18:17:47"
         },
         {
          "end": "2003-04-07 07:11:58",
          "index": 983,
          "start": "2003-04-07 04:40:01"
         },
         {
          "end": "2003-04-07 17:45:55",
          "index": 1015,
          "start": "2003-04-07 16:43:29"
         },
         {
          "end": "2003-04-07 07:53:49",
          "index": 1063,
          "start": "2003-04-07 07:29:55"
         },
         {
          "end": "2003-04-07 16:41:39",
          "index": 1068,
          "start": "2003-04-07 13:14:18"
         },
         {
          "end": "2003-04-07 20:17:55",
          "index": 1100,
          "start": "2003-04-07 18:51:34"
         },
         {
          "end": "2003-04-07 20:17:55",
          "index": 1109,
          "start": "2003-04-07 18:51:34"
         },
         {
          "end": "2003-04-08 17:16:43",
          "index": 1117,
          "start": "2003-04-08 15:41:39"
         },
         {
          "end": "2003-04-08 11:26:00",
          "index": 1195,
          "start": "2003-04-08 07:10:13"
         },
         {
          "end": "2003-04-08 21:16:11",
          "index": 1213,
          "start": "2003-04-08 20:54:30"
         },
         {
          "end": "2003-04-09 08:05:49",
          "index": 1238,
          "start": "2003-04-09 07:12:47"
         },
         {
          "end": "2003-04-09 16:03:54",
          "index": 1255,
          "start": "2003-04-09 15:07:49"
         },
         {
          "end": "2003-04-09 21:37:58",
          "index": 1272,
          "start": "2003-04-09 21:20:20"
         },
         {
          "end": "2003-04-09 21:37:58",
          "index": 1338,
          "start": "2003-04-09 21:20:20"
         },
         {
          "end": "2003-04-09 10:54:55",
          "index": 1345,
          "start": "2003-04-09 08:43:32"
         },
         {
          "end": "2003-04-09 18:44:58",
          "index": 1382,
          "start": "2003-04-09 16:23:59"
         },
         {
          "end": "2003-04-09 20:11:12",
          "index": 1390,
          "start": "2003-04-09 19:44:39"
         },
         {
          "end": "2003-04-10 18:29:51",
          "index": 1415,
          "start": "2003-04-10 18:02:46"
         },
         {
          "end": "2003-04-10 21:11:10",
          "index": 1420,
          "start": "2003-04-10 20:28:23"
         },
         {
          "end": "2003-04-10 11:20:51",
          "index": 1449,
          "start": "2003-04-10 08:19:09"
         },
         {
          "end": "2003-04-10 13:02:12",
          "index": 1476,
          "start": "2003-04-10 13:00:03"
         },
         {
          "end": "2003-04-10 14:43:00",
          "index": 1590,
          "start": "2003-04-10 13:23:47"
         },
         {
          "end": "2003-04-10 19:59:44",
          "index": 1624,
          "start": "2003-04-10 19:16:03"
         },
         {
          "end": "2003-04-10 19:59:44",
          "index": 1631,
          "start": "2003-04-10 19:16:03"
         },
         {
          "end": "2003-04-11 09:07:45",
          "index": 1658,
          "start": "2003-04-11 09:06:17"
         },
         {
          "end": "2003-04-11 09:40:21",
          "index": 1661,
          "start": "2003-04-11 09:40:20"
         },
         {
          "end": "2003-04-11 08:26:12",
          "index": 1774,
          "start": "2003-04-11 08:26:11"
         },
         {
          "end": "2003-04-11 17:47:59",
          "index": 1835,
          "start": "2003-04-11 15:55:13"
         },
         {
          "end": "2003-04-11 17:47:59",
          "index": 1848,
          "start": "2003-04-11 15:55:13"
         },
         {
          "end": "2003-04-11 20:04:54",
          "index": 1868,
          "start": "2003-04-11 19:31:10"
         },
         {
          "end": "2003-03-27 18:41:03",
          "index": 1880,
          "start": "2003-03-27 17:43:13"
         },
         {
          "end": "2003-03-27 07:12:41",
          "index": 1887,
          "start": "2003-03-27 06:44:06"
         },
         {
          "end": "2003-03-27 12:26:27",
          "index": 1904,
          "start": "2003-03-27 07:34:47"
         },
         {
          "end": "2003-03-28 16:34:50",
          "index": 1978,
          "start": "2003-03-28 12:31:01"
         },
         {
          "end": "2003-03-28 16:34:50",
          "index": 1987,
          "start": "2003-03-28 12:31:01"
         },
         {
          "end": "2003-03-28 18:37:06",
          "index": 2006,
          "start": "2003-03-28 17:42:41"
         },
         {
          "end": "2003-03-28 22:16:00",
          "index": 2048,
          "start": "2003-03-28 20:51:02"
         },
         {
          "end": "2003-03-28 22:16:00",
          "index": 2054,
          "start": "2003-03-28 20:51:02"
         },
         {
          "end": "2003-03-29 08:24:52",
          "index": 2081,
          "start": "2003-03-29 08:24:51"
         },
         {
          "end": "2003-03-29 15:37:10",
          "index": 2091,
          "start": "2003-03-29 12:00:31"
         },
         {
          "end": "2003-03-29 22:28:41",
          "index": 2100,
          "start": "2003-03-29 22:28:40"
         },
         {
          "end": "2003-03-29 23:10:49",
          "index": 2106,
          "start": "2003-03-29 23:10:48"
         },
         {
          "end": "2003-03-29 15:43:20",
          "index": 2146,
          "start": "2003-03-29 15:43:19"
         },
         {
          "end": "2003-03-29 09:45:17",
          "index": 2209,
          "start": "2003-03-29 08:55:18"
         },
         {
          "end": "2003-03-29 17:13:54",
          "index": 2544,
          "start": "2003-03-29 16:48:03"
         },
         {
          "end": "2003-03-29 22:16:01",
          "index": 2548,
          "start": "2003-03-29 18:19:51"
         },
         {
          "end": "2003-03-30 13:19:01",
          "index": 2567,
          "start": "2003-03-30 13:05:48"
         },
         {
          "end": "2003-03-30 08:01:56",
          "index": 2648,
          "start": "2003-03-30 08:01:55"
         },
         {
          "end": "2003-03-30 08:44:10",
          "index": 2650,
          "start": "2003-03-30 08:14:05"
         },
         {
          "end": "2003-03-30 12:45:21",
          "index": 2660,
          "start": "2003-03-30 11:00:19"
         },
         {
          "end": "2003-03-30 21:10:42",
          "index": 2684,
          "start": "2003-03-30 15:52:34"
         },
         {
          "end": "2003-03-31 17:13:53",
          "index": 2707,
          "start": "2003-03-31 12:05:27"
         },
         {
          "end": "2003-03-31 19:43:39",
          "index": 2711,
          "start": "2003-03-31 19:36:38"
         },
         {
          "end": "2003-03-31 09:13:45",
          "index": 2755,
          "start": "2003-03-31 08:58:54"
         }
        ]
       },
       "encoding": {
        "detail": {
         "field": "index",
         "type": "quantitative"
        },
        "x": {
         "field": "start",
         "timeUnit": "hoursminutes",
         "type": "temporal"
        },
        "x2": {
         "field": "end",
         "timeUnit": "hoursminutes"
        },
        "y": {
         "field": "start",
         "timeUnit": "date",
         "type": "ordinal"
        }
       },
       "mark": "bar",
       "selection": {
        "selector002": {
         "bind": "scales",
         "encodings": [
          "x",
          "y"
         ],
         "type": "interval"
        }
       },
       "width": 750
      },
      "image/png": "[encoded data removed]",
      "text/plain": [
       "<VegaLite 3 object>\n",
       "\n",
       "If you see this message, it means the renderer has not been properly enabled\n",
       "for the frontend that you are using. For more information, see\n",
       "https://altair-viz.github.io/user_guide/troubleshooting.html\n"
      ]
     },
     "execution_count": 10,
     "metadata": {},
     "output_type": "execute_result"
    }
   ],
   "source": [
    "dsCheck = ds[ds['subAct']=='Toilet Flush']\n",
    "\n",
    "df = pd.DataFrame({ \n",
    "    'start': dsCheck.start, \n",
    "    'end': dsCheck.end,})\n",
    "\n",
    "alt.Chart(df.reset_index()).mark_bar().encode(\n",
    "    y='date(start):O',\n",
    "    x='hoursminutes(start)',\n",
    "    x2='hoursminutes(end)',\n",
    "    detail='index'\n",
    ").properties(width=750).interactive()"
   ]
  },
  {
   "cell_type": "code",
   "execution_count": 9,
   "metadata": {},
   "outputs": [
    {
     "data": {
      "application/vnd.vegalite.v3+json": {
       "$schema": "https://vega.github.io/schema/vega-lite/v3.2.1.json",
       "config": {
        "mark": {
         "tooltip": null
        },
        "view": {
         "height": 300,
         "width": 400
        }
       },
       "data": {
        "name": "data-27b53d45d79fbb851352346317d5770a"
       },
       "datasets": {
        "data-27b53d45d79fbb851352346317d5770a": [
         {
          "end": "2003-04-01 21:21:43",
          "index": 3,
          "start": "2003-04-01 20:53:49"
         },
         {
          "end": "2003-04-01 06:57:58",
          "index": 75,
          "start": "2003-04-01 06:14:40"
         },
         {
          "end": "2003-04-02 08:24:50",
          "index": 143,
          "start": "2003-04-02 08:18:43"
         },
         {
          "end": "2003-04-02 21:05:51",
          "index": 270,
          "start": "2003-04-02 20:50:23"
         },
         {
          "end": "2003-04-03 09:29:29",
          "index": 351,
          "start": "2003-04-03 09:28:30"
         },
         {
          "end": "2003-04-04 07:24:14",
          "index": 524,
          "start": "2003-04-04 07:23:14"
         },
         {
          "end": "2003-04-04 15:31:38",
          "index": 555,
          "start": "2003-04-04 14:55:08"
         },
         {
          "end": "2003-04-04 17:48:33",
          "index": 565,
          "start": "2003-04-04 17:47:48"
         },
         {
          "end": "2003-04-04 17:48:33",
          "index": 573,
          "start": "2003-04-04 17:47:48"
         },
         {
          "end": "2003-04-05 19:47:36",
          "index": 634,
          "start": "2003-04-05 19:44:18"
         },
         {
          "end": "2003-04-05 22:17:02",
          "index": 641,
          "start": "2003-04-05 20:25:50"
         },
         {
          "end": "2003-04-05 22:46:13",
          "index": 644,
          "start": "2003-04-05 22:43:56"
         },
         {
          "end": "2003-04-05 11:41:35",
          "index": 732,
          "start": "2003-04-05 11:31:11"
         },
         {
          "end": "2003-04-06 20:58:55",
          "index": 816,
          "start": "2003-04-06 20:51:56"
         },
         {
          "end": "2003-04-06 09:46:03",
          "index": 883,
          "start": "2003-04-06 09:44:50"
         },
         {
          "end": "2003-04-06 18:42:02",
          "index": 967,
          "start": "2003-04-06 18:21:17"
         },
         {
          "end": "2003-04-07 07:54:40",
          "index": 1002,
          "start": "2003-04-07 07:54:36"
         },
         {
          "end": "2003-04-07 20:38:45",
          "index": 1031,
          "start": "2003-04-07 20:14:56"
         },
         {
          "end": "2003-04-07 07:50:05",
          "index": 1056,
          "start": "2003-04-07 07:07:45"
         },
         {
          "end": "2003-04-07 13:14:53",
          "index": 1070,
          "start": "2003-04-07 13:14:31"
         },
         {
          "end": "2003-04-08 11:26:26",
          "index": 1113,
          "start": "2003-04-08 11:24:46"
         },
         {
          "end": "2003-04-08 16:07:12",
          "index": 1121,
          "start": "2003-04-08 15:42:20"
         },
         {
          "end": "2003-04-08 17:17:40",
          "index": 1128,
          "start": "2003-04-08 17:17:21"
         },
         {
          "end": "2003-04-08 07:10:40",
          "index": 1179,
          "start": "2003-04-08 06:47:35"
         },
         {
          "end": "2003-04-08 21:32:28",
          "index": 1200,
          "start": "2003-04-08 21:09:04"
         },
         {
          "end": "2003-04-09 00:34:53",
          "index": 1221,
          "start": "2003-04-09 00:22:16"
         },
         {
          "end": "2003-04-09 16:17:07",
          "index": 1258,
          "start": "2003-04-09 15:40:56"
         },
         {
          "end": "2003-04-09 20:11:22",
          "index": 1387,
          "start": "2003-04-09 19:39:51"
         },
         {
          "end": "2003-04-10 20:59:11",
          "index": 1417,
          "start": "2003-04-10 20:24:44"
         },
         {
          "end": "2003-04-10 13:14:03",
          "index": 1457,
          "start": "2003-04-10 10:11:38"
         },
         {
          "end": "2003-04-11 20:05:18",
          "index": 1685,
          "start": "2003-04-11 20:04:29"
         },
         {
          "end": "2003-04-11 17:48:35",
          "index": 1721,
          "start": "2003-04-11 17:47:25"
         },
         {
          "end": "2003-04-11 22:22:21",
          "index": 1725,
          "start": "2003-04-11 22:17:34"
         },
         {
          "end": "2003-04-11 15:59:17",
          "index": 1842,
          "start": "2003-04-11 15:57:59"
         },
         {
          "end": "2003-03-27 07:46:34",
          "index": 1888,
          "start": "2003-03-27 06:44:20"
         },
         {
          "end": "2003-03-27 18:42:00",
          "index": 1957,
          "start": "2003-03-27 18:41:34"
         },
         {
          "end": "2003-03-27 18:42:42",
          "index": 1958,
          "start": "2003-03-27 18:42:03"
         },
         {
          "end": "2003-03-28 17:43:14",
          "index": 2004,
          "start": "2003-03-28 17:40:52"
         },
         {
          "end": "2003-03-28 17:43:14",
          "index": 2005,
          "start": "2003-03-28 17:40:52"
         },
         {
          "end": "2003-03-28 20:51:26",
          "index": 2012,
          "start": "2003-03-28 18:25:18"
         },
         {
          "end": "2003-03-28 22:32:13",
          "index": 2068,
          "start": "2003-03-28 22:11:54"
         },
         {
          "end": "2003-03-29 09:12:34",
          "index": 2271,
          "start": "2003-03-29 09:10:27"
         },
         {
          "end": "2003-03-29 15:55:53",
          "index": 2486,
          "start": "2003-03-29 15:55:51"
         },
         {
          "end": "2003-03-29 16:11:59",
          "index": 2500,
          "start": "2003-03-29 16:01:02"
         },
         {
          "end": "2003-03-30 16:24:51",
          "index": 2683,
          "start": "2003-03-30 15:51:02"
         },
         {
          "end": "2003-03-31 17:14:16",
          "index": 2709,
          "start": "2003-03-31 17:14:06"
         },
         {
          "end": "2003-03-31 19:43:55",
          "index": 2713,
          "start": "2003-03-31 19:41:36"
         },
         {
          "end": "2003-03-31 09:15:00",
          "index": 2759,
          "start": "2003-03-31 09:11:39"
         },
         {
          "end": "2003-03-31 09:32:13",
          "index": 2767,
          "start": "2003-03-31 09:32:07"
         }
        ]
       },
       "encoding": {
        "detail": {
         "field": "index",
         "type": "quantitative"
        },
        "x": {
         "field": "start",
         "timeUnit": "hoursminutes",
         "type": "temporal"
        },
        "x2": {
         "field": "end",
         "timeUnit": "hoursminutes"
        },
        "y": {
         "field": "start",
         "timeUnit": "date",
         "type": "ordinal"
        }
       },
       "mark": "bar",
       "selection": {
        "selector001": {
         "bind": "scales",
         "encodings": [
          "x",
          "y"
         ],
         "type": "interval"
        }
       },
       "width": 750
      },
      "image/png": "[encoded data removed]",
      "text/plain": [
       "<VegaLite 3 object>\n",
       "\n",
       "If you see this message, it means the renderer has not been properly enabled\n",
       "for the frontend that you are using. For more information, see\n",
       "https://altair-viz.github.io/user_guide/troubleshooting.html\n"
      ]
     },
     "execution_count": 9,
     "metadata": {},
     "output_type": "execute_result"
    }
   ],
   "source": [
    "dsCheck = ds[ds['subActNum']==101]\n",
    "\n",
    "df = pd.DataFrame({ \n",
    "    'start': dsCheck.start, \n",
    "    'end': dsCheck.end,})\n",
    "\n",
    "alt.Chart(df.reset_index()).mark_bar().encode(\n",
    "    y='date(start):O',\n",
    "    x='hoursminutes(start)',\n",
    "    x2='hoursminutes(end)',\n",
    "    detail='index'\n",
    ").properties(width=750).interactive()"
   ]
  },
  {
   "cell_type": "code",
   "execution_count": 95,
   "metadata": {},
   "outputs": [
    {
     "data": {
      "application/vnd.vegalite.v3+json": {
       "$schema": "https://vega.github.io/schema/vega-lite/v3.2.1.json",
       "config": {
        "mark": {
         "tooltip": null
        },
        "view": {
         "height": 300,
         "width": 400
        }
       },
       "data": {
        "name": "data-5e2a9a11f556aa756c4b06c2ba7aa2a8"
       },
       "datasets": {
        "data-5e2a9a11f556aa756c4b06c2ba7aa2a8": [
         {
          "end": "2003-04-01 20:58:42",
          "index": 4,
          "start": "2003-04-01 20:53:52"
         },
         {
          "end": "2003-04-01 21:06:09",
          "index": 6,
          "start": "2003-04-01 20:58:43"
         },
         {
          "end": "2003-04-01 21:18:35",
          "index": 10,
          "start": "2003-04-01 21:18:34"
         },
         {
          "end": "2003-04-02 20:46:32",
          "index": 262,
          "start": "2003-04-02 20:46:31"
         },
         {
          "end": "2003-04-02 20:56:21",
          "index": 271,
          "start": "2003-04-02 20:50:27"
         },
         {
          "end": "2003-04-02 20:58:42",
          "index": 272,
          "start": "2003-04-02 20:56:21"
         },
         {
          "end": "2003-04-02 21:04:49",
          "index": 273,
          "start": "2003-04-02 21:04:48"
         },
         {
          "end": "2003-04-03 08:49:58",
          "index": 301,
          "start": "2003-04-03 08:47:39"
         },
         {
          "end": "2003-04-03 09:05:14",
          "index": 305,
          "start": "2003-04-03 08:50:09"
         },
         {
          "end": "2003-04-03 20:12:23",
          "index": 306,
          "start": "2003-04-03 09:05:14"
         },
         {
          "end": "2003-04-03 20:21:46",
          "index": 431,
          "start": "2003-04-03 20:19:08"
         },
         {
          "end": "2003-04-03 20:25:26",
          "index": 435,
          "start": "2003-04-03 20:23:59"
         },
         {
          "end": "2003-04-04 14:48:58",
          "index": 449,
          "start": "2003-04-04 11:19:29"
         },
         {
          "end": "2003-04-04 06:44:20",
          "index": 491,
          "start": "2003-04-04 06:40:11"
         },
         {
          "end": "2003-04-04 06:48:32",
          "index": 494,
          "start": "2003-04-04 06:47:36"
         },
         {
          "end": "2003-04-04 06:48:46",
          "index": 495,
          "start": "2003-04-04 06:48:45"
         },
         {
          "end": "2003-04-04 11:11:08",
          "index": 496,
          "start": "2003-04-04 06:48:47"
         },
         {
          "end": "2003-04-04 14:57:58",
          "index": 556,
          "start": "2003-04-04 14:55:11"
         },
         {
          "end": "2003-04-04 14:59:22",
          "index": 560,
          "start": "2003-04-04 14:57:59"
         },
         {
          "end": "2003-04-04 15:03:45",
          "index": 561,
          "start": "2003-04-04 15:02:20"
         },
         {
          "end": "2003-04-06 18:29:38",
          "index": 969,
          "start": "2003-04-06 18:29:37"
         },
         {
          "end": "2003-04-07 20:15:02",
          "index": 1019,
          "start": "2003-04-07 16:46:44"
         },
         {
          "end": "2003-04-07 07:14:53",
          "index": 1052,
          "start": "2003-04-07 07:06:28"
         },
         {
          "end": "2003-04-07 07:18:33",
          "index": 1057,
          "start": "2003-04-07 07:14:54"
         },
         {
          "end": "2003-04-07 07:24:04",
          "index": 1058,
          "start": "2003-04-07 07:18:35"
         },
         {
          "end": "2003-04-07 16:42:20",
          "index": 1059,
          "start": "2003-04-07 07:24:05"
         },
         {
          "end": "2003-04-08 21:28:24",
          "index": 1140,
          "start": "2003-04-08 21:28:23"
         },
         {
          "end": "2003-04-09 15:14:09",
          "index": 1252,
          "start": "2003-04-09 15:05:46"
         },
         {
          "end": "2003-04-09 15:36:29",
          "index": 1256,
          "start": "2003-04-09 15:14:09"
         },
         {
          "end": "2003-04-09 15:40:33",
          "index": 1257,
          "start": "2003-04-09 15:40:32"
         },
         {
          "end": "2003-04-09 19:47:41",
          "index": 1389,
          "start": "2003-04-09 19:39:59"
         },
         {
          "end": "2003-04-09 19:49:07",
          "index": 1391,
          "start": "2003-04-09 19:47:42"
         },
         {
          "end": "2003-04-09 20:00:13",
          "index": 1392,
          "start": "2003-04-09 19:51:35"
         },
         {
          "end": "2003-04-10 12:58:50",
          "index": 1472,
          "start": "2003-04-10 12:58:37"
         },
         {
          "end": "2003-04-10 20:24:50",
          "index": 1480,
          "start": "2003-04-10 13:07:56"
         },
         {
          "end": "2003-04-10 12:58:17",
          "index": 1492,
          "start": "2003-04-10 11:56:43"
         },
         {
          "end": "2003-04-11 19:33:32",
          "index": 1852,
          "start": "2003-04-11 19:33:09"
         },
         {
          "end": "2003-04-11 19:33:34",
          "index": 1853,
          "start": "2003-04-11 19:33:32"
         },
         {
          "end": "2003-04-11 19:33:51",
          "index": 1854,
          "start": "2003-04-11 19:33:35"
         },
         {
          "end": "2003-04-11 19:37:47",
          "index": 1855,
          "start": "2003-04-11 19:33:58"
         },
         {
          "end": "2003-03-27 07:05:24",
          "index": 1876,
          "start": "2003-03-27 07:05:22"
         },
         {
          "end": "2003-03-28 18:28:11",
          "index": 2011,
          "start": "2003-03-28 18:25:06"
         },
         {
          "end": "2003-03-28 18:39:05",
          "index": 2016,
          "start": "2003-03-28 18:39:04"
         },
         {
          "end": "2003-03-28 18:39:09",
          "index": 2017,
          "start": "2003-03-28 18:39:07"
         },
         {
          "end": "2003-03-28 18:39:48",
          "index": 2018,
          "start": "2003-03-28 18:39:23"
         },
         {
          "end": "2003-03-28 18:50:48",
          "index": 2019,
          "start": "2003-03-28 18:45:41"
         },
         {
          "end": "2003-03-29 15:59:51",
          "index": 2487,
          "start": "2003-03-29 15:56:09"
         },
         {
          "end": "2003-03-29 15:59:53",
          "index": 2492,
          "start": "2003-03-29 15:59:52"
         },
         {
          "end": "2003-03-29 15:59:54",
          "index": 2493,
          "start": "2003-03-29 15:59:53"
         },
         {
          "end": "2003-03-29 16:00:00",
          "index": 2494,
          "start": "2003-03-29 15:59:55"
         },
         {
          "end": "2003-03-29 16:00:03",
          "index": 2495,
          "start": "2003-03-29 16:00:01"
         },
         {
          "end": "2003-03-29 16:00:04",
          "index": 2496,
          "start": "2003-03-29 16:00:03"
         },
         {
          "end": "2003-03-29 16:00:06",
          "index": 2497,
          "start": "2003-03-29 16:00:05"
         },
         {
          "end": "2003-03-29 16:00:08",
          "index": 2498,
          "start": "2003-03-29 16:00:07"
         },
         {
          "end": "2003-03-29 16:00:10",
          "index": 2499,
          "start": "2003-03-29 16:00:09"
         },
         {
          "end": "2003-03-29 16:02:57",
          "index": 2505,
          "start": "2003-03-29 16:02:49"
         },
         {
          "end": "2003-03-29 16:02:59",
          "index": 2506,
          "start": "2003-03-29 16:02:58"
         },
         {
          "end": "2003-03-29 16:05:04",
          "index": 2507,
          "start": "2003-03-29 16:03:00"
         },
         {
          "end": "2003-03-29 16:05:11",
          "index": 2509,
          "start": "2003-03-29 16:05:05"
         },
         {
          "end": "2003-03-29 16:05:16",
          "index": 2510,
          "start": "2003-03-29 16:05:12"
         },
         {
          "end": "2003-03-29 16:05:23",
          "index": 2511,
          "start": "2003-03-29 16:05:17"
         },
         {
          "end": "2003-03-29 16:05:31",
          "index": 2512,
          "start": "2003-03-29 16:05:24"
         },
         {
          "end": "2003-03-29 16:05:34",
          "index": 2513,
          "start": "2003-03-29 16:05:32"
         },
         {
          "end": "2003-03-29 16:05:36",
          "index": 2514,
          "start": "2003-03-29 16:05:35"
         },
         {
          "end": "2003-03-29 16:05:38",
          "index": 2515,
          "start": "2003-03-29 16:05:37"
         },
         {
          "end": "2003-03-29 16:05:39",
          "index": 2516,
          "start": "2003-03-29 16:05:38"
         },
         {
          "end": "2003-03-29 16:05:47",
          "index": 2517,
          "start": "2003-03-29 16:05:45"
         },
         {
          "end": "2003-03-29 16:06:59",
          "index": 2518,
          "start": "2003-03-29 16:06:58"
         },
         {
          "end": "2003-03-29 16:07:03",
          "index": 2519,
          "start": "2003-03-29 16:07:02"
         },
         {
          "end": "2003-03-29 16:07:08",
          "index": 2520,
          "start": "2003-03-29 16:07:07"
         },
         {
          "end": "2003-03-29 16:07:12",
          "index": 2521,
          "start": "2003-03-29 16:07:11"
         },
         {
          "end": "2003-03-29 16:10:10",
          "index": 2522,
          "start": "2003-03-29 16:07:13"
         },
         {
          "end": "2003-03-29 16:10:12",
          "index": 2523,
          "start": "2003-03-29 16:10:11"
         },
         {
          "end": "2003-03-29 16:10:42",
          "index": 2524,
          "start": "2003-03-29 16:10:30"
         },
         {
          "end": "2003-03-29 16:10:48",
          "index": 2526,
          "start": "2003-03-29 16:10:47"
         },
         {
          "end": "2003-03-29 16:10:51",
          "index": 2527,
          "start": "2003-03-29 16:10:50"
         },
         {
          "end": "2003-03-29 16:11:07",
          "index": 2528,
          "start": "2003-03-29 16:10:52"
         },
         {
          "end": "2003-03-29 16:11:23",
          "index": 2530,
          "start": "2003-03-29 16:11:21"
         },
         {
          "end": "2003-03-29 16:11:27",
          "index": 2531,
          "start": "2003-03-29 16:11:26"
         },
         {
          "end": "2003-03-29 16:11:31",
          "index": 2532,
          "start": "2003-03-29 16:11:30"
         },
         {
          "end": "2003-03-29 16:11:35",
          "index": 2533,
          "start": "2003-03-29 16:11:34"
         },
         {
          "end": "2003-03-30 07:38:27",
          "index": 2619,
          "start": "2003-03-30 07:38:12"
         },
         {
          "end": "2003-03-30 07:38:55",
          "index": 2620,
          "start": "2003-03-30 07:38:46"
         },
         {
          "end": "2003-03-30 07:40:37",
          "index": 2622,
          "start": "2003-03-30 07:39:44"
         },
         {
          "end": "2003-03-30 08:14:40",
          "index": 2651,
          "start": "2003-03-30 08:14:13"
         },
         {
          "end": "2003-03-31 12:12:00",
          "index": 2706,
          "start": "2003-03-31 12:04:08"
         },
         {
          "end": "2003-03-31 09:11:05",
          "index": 2754,
          "start": "2003-03-31 08:58:16"
         },
         {
          "end": "2003-03-31 09:13:49",
          "index": 2758,
          "start": "2003-03-31 09:11:06"
         }
        ]
       },
       "encoding": {
        "detail": {
         "field": "index",
         "type": "quantitative"
        },
        "x": {
         "field": "start",
         "timeUnit": "hoursminutes",
         "type": "temporal"
        },
        "x2": {
         "field": "end",
         "timeUnit": "hoursminutes"
        },
        "y": {
         "field": "start",
         "timeUnit": "date",
         "type": "ordinal"
        }
       },
       "mark": "bar",
       "width": 750
      },
      "image/png": "[encoded data removed]",
      "text/plain": [
       "<VegaLite 3 object>\n",
       "\n",
       "If you see this message, it means the renderer has not been properly enabled\n",
       "for the frontend that you are using. For more information, see\n",
       "https://altair-viz.github.io/user_guide/troubleshooting.html\n"
      ]
     },
     "execution_count": 95,
     "metadata": {},
     "output_type": "execute_result"
    }
   ],
   "source": [
    "dsCheck = ds[ds['subActNum']==93]\n",
    "\n",
    "df = pd.DataFrame({ \n",
    "    'start': dsCheck.start, \n",
    "    'end': dsCheck.end,})\n",
    "\n",
    "alt.Chart(df.reset_index()).mark_bar().encode(\n",
    "    y='date(start):O',\n",
    "    x='hoursminutes(start)',\n",
    "    x2='hoursminutes(end)',\n",
    "    detail='index'\n",
    ").properties(width=750).interactive()"
   ]
  },
  {
   "cell_type": "code",
   "execution_count": 109,
   "metadata": {},
   "outputs": [
    {
     "data": {
      "application/vnd.vegalite.v3+json": {
       "$schema": "https://vega.github.io/schema/vega-lite/v3.2.1.json",
       "config": {
        "mark": {
         "tooltip": null
        },
        "view": {
         "height": 300,
         "width": 400
        }
       },
       "data": {
        "name": "data-f5f8064c9dd1fe5fff8760e79f231d95"
       },
       "datasets": {
        "data-f5f8064c9dd1fe5fff8760e79f231d95": [
         {
          "end": "2003-04-01 20:58:32",
          "index": 5,
          "start": "2003-04-01 20:58:22"
         },
         {
          "end": "2003-04-01 11:56:13",
          "index": 25,
          "start": "2003-04-01 11:56:02"
         },
         {
          "end": "2003-04-01 11:24:03",
          "index": 30,
          "start": "2003-04-01 11:23:55"
         },
         {
          "end": "2003-04-01 16:47:55",
          "index": 38,
          "start": "2003-04-01 16:46:10"
         },
         {
          "end": "2003-04-01 16:48:56",
          "index": 42,
          "start": "2003-04-01 16:48:51"
         },
         {
          "end": "2003-04-01 17:04:47",
          "index": 48,
          "start": "2003-04-01 17:04:42"
         },
         {
          "end": "2003-04-01 06:39:10",
          "index": 61,
          "start": "2003-04-01 06:39:05"
         },
         {
          "end": "2003-04-02 17:00:47",
          "index": 98,
          "start": "2003-04-02 17:00:27"
         },
         {
          "end": "2003-04-02 17:09:10",
          "index": 102,
          "start": "2003-04-02 17:09:01"
         },
         {
          "end": "2003-04-02 17:38:36",
          "index": 104,
          "start": "2003-04-02 17:09:28"
         },
         {
          "end": "2003-04-02 08:06:35",
          "index": 137,
          "start": "2003-04-02 08:06:14"
         },
         {
          "end": "2003-04-02 11:22:19",
          "index": 140,
          "start": "2003-04-02 08:06:58"
         },
         {
          "end": "2003-04-02 11:38:01",
          "index": 159,
          "start": "2003-04-02 11:37:58"
         },
         {
          "end": "2003-04-02 12:02:01",
          "index": 203,
          "start": "2003-04-02 12:01:51"
         },
         {
          "end": "2003-04-02 12:02:40",
          "index": 204,
          "start": "2003-04-02 12:02:30"
         },
         {
          "end": "2003-04-02 11:38:01",
          "index": 233,
          "start": "2003-04-02 11:37:58"
         },
         {
          "end": "2003-04-02 11:23:38",
          "index": 242,
          "start": "2003-04-02 11:23:31"
         },
         {
          "end": "2003-04-02 20:49:48",
          "index": 267,
          "start": "2003-04-02 20:49:04"
         },
         {
          "end": "2003-04-03 09:14:45",
          "index": 335,
          "start": "2003-04-03 09:14:25"
         },
         {
          "end": "2003-04-03 13:22:11",
          "index": 356,
          "start": "2003-04-03 13:21:56"
         },
         {
          "end": "2003-04-03 13:42:08",
          "index": 362,
          "start": "2003-04-03 13:42:03"
         },
         {
          "end": "2003-04-03 19:02:08",
          "index": 364,
          "start": "2003-04-03 13:42:16"
         },
         {
          "end": "2003-04-03 19:02:26",
          "index": 381,
          "start": "2003-04-03 19:02:18"
         },
         {
          "end": "2003-04-03 19:03:11",
          "index": 384,
          "start": "2003-04-03 19:03:03"
         },
         {
          "end": "2003-04-03 19:03:24",
          "index": 386,
          "start": "2003-04-03 19:03:19"
         },
         {
          "end": "2003-04-03 19:45:39",
          "index": 391,
          "start": "2003-04-03 19:11:21"
         },
         {
          "end": "2003-04-03 19:57:47",
          "index": 400,
          "start": "2003-04-03 19:46:19"
         },
         {
          "end": "2003-04-04 11:29:32",
          "index": 454,
          "start": "2003-04-04 11:26:13"
         },
         {
          "end": "2003-04-04 16:44:19",
          "index": 553,
          "start": "2003-04-04 14:52:39"
         },
         {
          "end": "2003-04-05 11:53:29",
          "index": 591,
          "start": "2003-04-05 11:53:28"
         },
         {
          "end": "2003-04-05 12:17:59",
          "index": 592,
          "start": "2003-04-05 11:54:04"
         },
         {
          "end": "2003-04-05 12:40:20",
          "index": 594,
          "start": "2003-04-05 12:36:03"
         },
         {
          "end": "2003-04-05 12:49:34",
          "index": 599,
          "start": "2003-04-05 12:40:59"
         },
         {
          "end": "2003-04-05 17:07:01",
          "index": 630,
          "start": "2003-04-05 17:06:47"
         },
         {
          "end": "2003-04-05 14:57:23",
          "index": 679,
          "start": "2003-04-05 14:57:01"
         },
         {
          "end": "2003-04-05 14:57:56",
          "index": 681,
          "start": "2003-04-05 14:57:52"
         },
         {
          "end": "2003-04-05 14:58:34",
          "index": 683,
          "start": "2003-04-05 14:58:21"
         },
         {
          "end": "2003-04-05 15:02:48",
          "index": 686,
          "start": "2003-04-05 15:02:42"
         },
         {
          "end": "2003-04-05 11:00:24",
          "index": 705,
          "start": "2003-04-05 10:59:51"
         },
         {
          "end": "2003-04-05 11:01:58",
          "index": 708,
          "start": "2003-04-05 11:01:07"
         },
         {
          "end": "2003-04-05 11:02:10",
          "index": 710,
          "start": "2003-04-05 11:02:00"
         },
         {
          "end": "2003-04-05 11:02:24",
          "index": 711,
          "start": "2003-04-05 11:02:12"
         },
         {
          "end": "2003-04-05 11:22:26",
          "index": 714,
          "start": "2003-04-05 11:02:40"
         },
         {
          "end": "2003-04-05 22:15:09",
          "index": 743,
          "start": "2003-04-05 18:00:40"
         },
         {
          "end": "2003-04-05 16:10:42",
          "index": 752,
          "start": "2003-04-05 16:10:02"
         },
         {
          "end": "2003-04-06 14:52:39",
          "index": 829,
          "start": "2003-04-06 14:49:57"
         },
         {
          "end": "2003-04-06 09:00:53",
          "index": 855,
          "start": "2003-04-06 08:56:28"
         },
         {
          "end": "2003-04-06 09:10:00",
          "index": 862,
          "start": "2003-04-06 09:09:49"
         },
         {
          "end": "2003-04-06 13:12:36",
          "index": 865,
          "start": "2003-04-06 09:12:42"
         },
         {
          "end": "2003-04-06 13:20:58",
          "index": 904,
          "start": "2003-04-06 13:18:01"
         },
         {
          "end": "2003-04-06 13:21:07",
          "index": 909,
          "start": "2003-04-06 13:21:01"
         },
         {
          "end": "2003-04-06 13:51:38",
          "index": 931,
          "start": "2003-04-06 13:43:11"
         },
         {
          "end": "2003-04-06 13:53:11",
          "index": 941,
          "start": "2003-04-06 13:52:15"
         },
         {
          "end": "2003-04-07 09:52:03",
          "index": 1045,
          "start": "2003-04-07 07:31:48"
         },
         {
          "end": "2003-04-07 16:47:03",
          "index": 1072,
          "start": "2003-04-07 13:17:32"
         },
         {
          "end": "2003-04-07 12:58:22",
          "index": 1087,
          "start": "2003-04-07 12:54:11"
         },
         {
          "end": "2003-04-08 10:51:47",
          "index": 1152,
          "start": "2003-04-08 10:42:12"
         },
         {
          "end": "2003-04-08 14:02:23",
          "index": 1159,
          "start": "2003-04-08 10:51:56"
         },
         {
          "end": "2003-04-08 14:04:05",
          "index": 1162,
          "start": "2003-04-08 14:02:47"
         },
         {
          "end": "2003-04-08 06:47:05",
          "index": 1173,
          "start": "2003-04-08 06:37:55"
         },
         {
          "end": "2003-04-08 20:52:26",
          "index": 1207,
          "start": "2003-04-08 20:52:19"
         },
         {
          "end": "2003-04-08 20:53:39",
          "index": 1211,
          "start": "2003-04-08 20:53:33"
         },
         {
          "end": "2003-04-08 20:55:03",
          "index": 1216,
          "start": "2003-04-08 20:55:00"
         },
         {
          "end": "2003-04-08 21:02:03",
          "index": 1218,
          "start": "2003-04-08 21:02:01"
         },
         {
          "end": "2003-04-08 21:02:37",
          "index": 1219,
          "start": "2003-04-08 21:02:35"
         },
         {
          "end": "2003-04-09 13:06:02",
          "index": 1280,
          "start": "2003-04-09 13:01:31"
         },
         {
          "end": "2003-04-09 13:08:56",
          "index": 1289,
          "start": "2003-04-09 13:06:59"
         },
         {
          "end": "2003-04-09 13:22:53",
          "index": 1294,
          "start": "2003-04-09 13:09:20"
         },
         {
          "end": "2003-04-09 13:23:35",
          "index": 1299,
          "start": "2003-04-09 13:22:57"
         },
         {
          "end": "2003-04-09 18:48:05",
          "index": 1301,
          "start": "2003-04-09 13:23:37"
         },
         {
          "end": "2003-04-09 13:00:54",
          "index": 1367,
          "start": "2003-04-09 09:39:36"
         },
         {
          "end": "2003-04-09 19:31:59",
          "index": 1394,
          "start": "2003-04-09 18:48:18"
         },
         {
          "end": "2003-04-09 19:32:41",
          "index": 1398,
          "start": "2003-04-09 19:32:02"
         },
         {
          "end": "2003-04-09 19:36:11",
          "index": 1401,
          "start": "2003-04-09 19:36:00"
         },
         {
          "end": "2003-04-10 11:07:21",
          "index": 1432,
          "start": "2003-04-10 09:29:09"
         },
         {
          "end": "2003-04-10 12:03:08",
          "index": 1499,
          "start": "2003-04-10 12:03:04"
         },
         {
          "end": "2003-04-10 12:39:33",
          "index": 1574,
          "start": "2003-04-10 12:38:58"
         },
         {
          "end": "2003-04-10 12:40:26",
          "index": 1579,
          "start": "2003-04-10 12:40:11"
         },
         {
          "end": "2003-04-10 18:38:56",
          "index": 1610,
          "start": "2003-04-10 18:38:41"
         },
         {
          "end": "2003-04-10 18:42:58",
          "index": 1616,
          "start": "2003-04-10 18:42:10"
         },
         {
          "end": "2003-04-11 12:19:02",
          "index": 1677,
          "start": "2003-04-11 12:19:01"
         },
         {
          "end": "2003-04-11 12:23:35",
          "index": 1679,
          "start": "2003-04-11 12:19:06"
         },
         {
          "end": "2003-04-11 15:20:09",
          "index": 1770,
          "start": "2003-04-11 15:19:46"
         },
         {
          "end": "2003-04-11 10:01:41",
          "index": 1785,
          "start": "2003-04-11 09:51:44"
         },
         {
          "end": "2003-04-11 10:16:39",
          "index": 1801,
          "start": "2003-04-11 10:02:07"
         },
         {
          "end": "2003-04-11 14:23:25",
          "index": 1819,
          "start": "2003-04-11 14:21:53"
         },
         {
          "end": "2003-04-11 14:24:59",
          "index": 1826,
          "start": "2003-04-11 14:24:39"
         },
         {
          "end": "2003-04-11 19:51:34",
          "index": 1859,
          "start": "2003-04-11 19:34:57"
         },
         {
          "end": "2003-03-27 11:36:21",
          "index": 1921,
          "start": "2003-03-27 11:36:15"
         },
         {
          "end": "2003-03-27 11:45:24",
          "index": 1932,
          "start": "2003-03-27 11:45:03"
         },
         {
          "end": "2003-03-27 11:45:47",
          "index": 1934,
          "start": "2003-03-27 11:45:44"
         },
         {
          "end": "2003-03-27 11:55:36",
          "index": 1938,
          "start": "2003-03-27 11:55:08"
         },
         {
          "end": "2003-03-27 16:35:46",
          "index": 1943,
          "start": "2003-03-27 11:57:22"
         },
         {
          "end": "2003-03-27 19:39:31",
          "index": 1965,
          "start": "2003-03-27 19:38:50"
         },
         {
          "end": "2003-03-27 19:49:33",
          "index": 1967,
          "start": "2003-03-27 19:44:44"
         },
         {
          "end": "2003-03-28 12:32:16",
          "index": 1983,
          "start": "2003-03-28 12:32:09"
         },
         {
          "end": "2003-03-28 12:32:16",
          "index": 1992,
          "start": "2003-03-28 12:32:09"
         },
         {
          "end": "2003-03-28 16:35:41",
          "index": 1998,
          "start": "2003-03-28 16:35:13"
         },
         {
          "end": "2003-03-28 17:39:37",
          "index": 1999,
          "start": "2003-03-28 17:39:34"
         },
         {
          "end": "2003-03-28 19:07:58",
          "index": 2001,
          "start": "2003-03-28 17:39:40"
         },
         {
          "end": "2003-03-28 19:45:13",
          "index": 2025,
          "start": "2003-03-28 19:08:03"
         },
         {
          "end": "2003-03-28 19:50:38",
          "index": 2036,
          "start": "2003-03-28 19:46:21"
         },
         {
          "end": "2003-03-28 19:53:22",
          "index": 2043,
          "start": "2003-03-28 19:51:43"
         },
         {
          "end": "2003-03-29 11:59:18",
          "index": 2086,
          "start": "2003-03-29 11:59:12"
         },
         {
          "end": "2003-03-29 12:56:59",
          "index": 2088,
          "start": "2003-03-29 11:59:27"
         },
         {
          "end": "2003-03-29 13:55:49",
          "index": 2116,
          "start": "2003-03-29 13:49:53"
         },
         {
          "end": "2003-03-29 14:00:08",
          "index": 2128,
          "start": "2003-03-29 13:57:46"
         },
         {
          "end": "2003-03-29 14:08:47",
          "index": 2131,
          "start": "2003-03-29 14:00:11"
         },
         {
          "end": "2003-03-29 14:22:32",
          "index": 2137,
          "start": "2003-03-29 14:10:58"
         },
         {
          "end": "2003-03-29 13:49:49",
          "index": 2225,
          "start": "2003-03-29 13:31:25"
         },
         {
          "end": "2003-03-29 13:22:13",
          "index": 2239,
          "start": "2003-03-29 13:17:13"
         },
         {
          "end": "2003-03-29 14:23:06",
          "index": 2254,
          "start": "2003-03-29 14:22:54"
         },
         {
          "end": "2003-03-29 14:23:48",
          "index": 2255,
          "start": "2003-03-29 14:23:10"
         },
         {
          "end": "2003-03-29 11:40:12",
          "index": 2277,
          "start": "2003-03-29 09:52:14"
         },
         {
          "end": "2003-03-29 14:54:47",
          "index": 2310,
          "start": "2003-03-29 14:43:57"
         },
         {
          "end": "2003-03-29 14:54:50",
          "index": 2321,
          "start": "2003-03-29 14:54:49"
         },
         {
          "end": "2003-03-29 14:54:55",
          "index": 2323,
          "start": "2003-03-29 14:54:54"
         },
         {
          "end": "2003-03-29 14:55:37",
          "index": 2324,
          "start": "2003-03-29 14:55:01"
         },
         {
          "end": "2003-03-29 15:09:11",
          "index": 2326,
          "start": "2003-03-29 14:55:39"
         },
         {
          "end": "2003-03-29 15:09:34",
          "index": 2356,
          "start": "2003-03-29 15:09:13"
         },
         {
          "end": "2003-03-29 15:26:11",
          "index": 2386,
          "start": "2003-03-29 15:14:26"
         },
         {
          "end": "2003-03-29 16:18:59",
          "index": 2539,
          "start": "2003-03-29 16:18:54"
         },
         {
          "end": "2003-03-29 17:03:32",
          "index": 2541,
          "start": "2003-03-29 16:19:30"
         },
         {
          "end": "2003-03-30 13:15:53",
          "index": 2578,
          "start": "2003-03-30 13:15:51"
         },
         {
          "end": "2003-03-30 13:34:25",
          "index": 2584,
          "start": "2003-03-30 13:20:35"
         },
         {
          "end": "2003-03-30 13:37:05",
          "index": 2596,
          "start": "2003-03-30 13:36:39"
         },
         {
          "end": "2003-03-30 13:37:22",
          "index": 2597,
          "start": "2003-03-30 13:37:17"
         },
         {
          "end": "2003-03-30 13:38:22",
          "index": 2601,
          "start": "2003-03-30 13:38:03"
         },
         {
          "end": "2003-03-31 16:15:18",
          "index": 2720,
          "start": "2003-03-31 16:15:09"
         },
         {
          "end": "2003-03-31 15:06:37",
          "index": 2740,
          "start": "2003-03-31 07:42:48"
         }
        ]
       },
       "encoding": {
        "detail": {
         "field": "index",
         "type": "quantitative"
        },
        "x": {
         "field": "start",
         "timeUnit": "hoursminutes",
         "type": "temporal"
        },
        "x2": {
         "field": "end",
         "timeUnit": "hoursminutes"
        },
        "y": {
         "field": "start",
         "timeUnit": "date",
         "type": "ordinal"
        }
       },
       "mark": "bar",
       "selection": {
        "selector010": {
         "bind": "scales",
         "encodings": [
          "x",
          "y"
         ],
         "type": "interval"
        }
       },
       "width": 750
      },
      "image/png": "[encoded data removed]",
      "text/plain": [
       "<VegaLite 3 object>\n",
       "\n",
       "If you see this message, it means the renderer has not been properly enabled\n",
       "for the frontend that you are using. For more information, see\n",
       "https://altair-viz.github.io/user_guide/troubleshooting.html\n"
      ]
     },
     "execution_count": 109,
     "metadata": {},
     "output_type": "execute_result"
    }
   ],
   "source": [
    "dsCheck = ds[ds['subActNum']==137]\n",
    "\n",
    "df = pd.DataFrame({ \n",
    "    'start': dsCheck.start, \n",
    "    'end': dsCheck.end,})\n",
    "\n",
    "alt.Chart(df.reset_index()).mark_bar().encode(\n",
    "    y='date(start):O',\n",
    "    x='hoursminutes(start)',\n",
    "    x2='hoursminutes(end)',\n",
    "    detail='index'\n",
    ").properties(width=750).interactive()"
   ]
  },
  {
   "cell_type": "code",
   "execution_count": 99,
   "metadata": {},
   "outputs": [
    {
     "data": {
      "application/vnd.vegalite.v3+json": {
       "$schema": "https://vega.github.io/schema/vega-lite/v3.2.1.json",
       "config": {
        "mark": {
         "tooltip": null
        },
        "view": {
         "height": 300,
         "width": 400
        }
       },
       "data": {
        "name": "data-f18f12ed0af0a16631dabe3b3948be55"
       },
       "datasets": {
        "data-f18f12ed0af0a16631dabe3b3948be55": [
         {
          "end": "2003-04-01 21:05:45",
          "index": 7,
          "start": "2003-04-01 21:05:23"
         },
         {
          "end": "2003-04-01 21:20:37",
          "index": 11,
          "start": "2003-04-01 21:18:55"
         },
         {
          "end": "2003-04-01 06:09:48",
          "index": 71,
          "start": "2003-04-01 06:09:47"
         },
         {
          "end": "2003-04-01 06:55:35",
          "index": 79,
          "start": "2003-04-01 06:53:29"
         },
         {
          "end": "2003-04-01 06:57:13",
          "index": 84,
          "start": "2003-04-01 06:56:12"
         },
         {
          "end": "2003-04-02 07:59:20",
          "index": 130,
          "start": "2003-04-02 07:58:58"
         },
         {
          "end": "2003-04-02 08:21:06",
          "index": 146,
          "start": "2003-04-02 08:19:46"
         },
         {
          "end": "2003-04-02 08:24:49",
          "index": 149,
          "start": "2003-04-02 08:22:34"
         },
         {
          "end": "2003-04-02 16:45:42",
          "index": 245,
          "start": "2003-04-02 16:45:09"
         },
         {
          "end": "2003-04-02 16:45:42",
          "index": 252,
          "start": "2003-04-02 16:45:09"
         },
         {
          "end": "2003-04-02 21:46:26",
          "index": 280,
          "start": "2003-04-02 21:45:11"
         },
         {
          "end": "2003-04-02 21:27:24",
          "index": 290,
          "start": "2003-04-02 21:25:34"
         },
         {
          "end": "2003-04-03 09:28:10",
          "index": 348,
          "start": "2003-04-03 09:26:57"
         },
         {
          "end": "2003-04-03 13:58:21",
          "index": 371,
          "start": "2003-04-03 13:58:03"
         },
         {
          "end": "2003-04-03 20:49:35",
          "index": 406,
          "start": "2003-04-03 20:48:13"
         },
         {
          "end": "2003-04-04 06:12:35",
          "index": 487,
          "start": "2003-04-04 06:12:34"
         },
         {
          "end": "2003-04-04 07:22:43",
          "index": 515,
          "start": "2003-04-04 07:21:37"
         },
         {
          "end": "2003-04-04 07:22:43",
          "index": 520,
          "start": "2003-04-04 07:21:37"
         },
         {
          "end": "2003-04-04 17:48:02",
          "index": 567,
          "start": "2003-04-04 17:47:49"
         },
         {
          "end": "2003-04-04 17:48:02",
          "index": 575,
          "start": "2003-04-04 17:47:49"
         },
         {
          "end": "2003-04-05 19:46:01",
          "index": 636,
          "start": "2003-04-05 19:44:19"
         },
         {
          "end": "2003-04-05 22:45:13",
          "index": 645,
          "start": "2003-04-05 22:43:56"
         },
         {
          "end": "2003-04-06 01:00:28",
          "index": 785,
          "start": "2003-04-06 00:58:44"
         },
         {
          "end": "2003-04-06 20:56:53",
          "index": 819,
          "start": "2003-04-06 20:54:23"
         },
         {
          "end": "2003-04-06 09:41:15",
          "index": 874,
          "start": "2003-04-06 09:40:59"
         },
         {
          "end": "2003-04-06 09:45:08",
          "index": 877,
          "start": "2003-04-06 09:43:05"
         },
         {
          "end": "2003-04-06 13:10:17",
          "index": 891,
          "start": "2003-04-06 13:10:16"
         },
         {
          "end": "2003-04-06 18:30:30",
          "index": 970,
          "start": "2003-04-06 18:30:16"
         },
         {
          "end": "2003-04-06 18:41:52",
          "index": 974,
          "start": "2003-04-06 18:41:12"
         },
         {
          "end": "2003-04-07 04:40:12",
          "index": 985,
          "start": "2003-04-07 04:40:09"
         },
         {
          "end": "2003-04-07 07:46:34",
          "index": 990,
          "start": "2003-04-07 07:45:28"
         },
         {
          "end": "2003-04-07 07:49:53",
          "index": 995,
          "start": "2003-04-07 07:49:43"
         },
         {
          "end": "2003-04-07 16:32:22",
          "index": 1010,
          "start": "2003-04-07 16:32:19"
         },
         {
          "end": "2003-04-07 20:37:13",
          "index": 1024,
          "start": "2003-04-07 20:34:48"
         },
         {
          "end": "2003-04-07 20:38:40",
          "index": 1029,
          "start": "2003-04-07 20:38:15"
         },
         {
          "end": "2003-04-07 07:29:32",
          "index": 1061,
          "start": "2003-04-07 07:29:12"
         },
         {
          "end": "2003-04-08 15:50:45",
          "index": 1131,
          "start": "2003-04-08 15:50:43"
         },
         {
          "end": "2003-04-08 21:30:41",
          "index": 1142,
          "start": "2003-04-08 21:28:47"
         },
         {
          "end": "2003-04-08 06:37:03",
          "index": 1171,
          "start": "2003-04-08 06:36:28"
         },
         {
          "end": "2003-04-08 07:00:27",
          "index": 1183,
          "start": "2003-04-08 06:58:59"
         },
         {
          "end": "2003-04-09 00:34:11",
          "index": 1230,
          "start": "2003-04-09 00:28:57"
         },
         {
          "end": "2003-04-09 15:41:27",
          "index": 1259,
          "start": "2003-04-09 15:41:04"
         },
         {
          "end": "2003-04-09 15:42:50",
          "index": 1260,
          "start": "2003-04-09 15:42:11"
         },
         {
          "end": "2003-04-09 20:09:14",
          "index": 1264,
          "start": "2003-04-09 20:08:54"
         },
         {
          "end": "2003-04-09 20:10:47",
          "index": 1266,
          "start": "2003-04-09 20:09:33"
         },
         {
          "end": "2003-04-09 20:09:14",
          "index": 1330,
          "start": "2003-04-09 20:08:54"
         },
         {
          "end": "2003-04-09 20:10:47",
          "index": 1332,
          "start": "2003-04-09 20:09:33"
         },
         {
          "end": "2003-04-09 16:11:36",
          "index": 1373,
          "start": "2003-04-09 16:10:11"
         },
         {
          "end": "2003-04-10 17:31:28",
          "index": 1413,
          "start": "2003-04-10 17:31:27"
         },
         {
          "end": "2003-04-10 10:14:17",
          "index": 1458,
          "start": "2003-04-10 10:11:40"
         },
         {
          "end": "2003-04-10 13:14:00",
          "index": 1482,
          "start": "2003-04-10 13:13:32"
         },
         {
          "end": "2003-04-10 11:22:47",
          "index": 1545,
          "start": "2003-04-10 11:22:40"
         },
         {
          "end": "2003-04-10 12:24:56",
          "index": 1556,
          "start": "2003-04-10 12:24:22"
         },
         {
          "end": "2003-04-10 20:58:53",
          "index": 1643,
          "start": "2003-04-10 20:57:45"
         },
         {
          "end": "2003-04-11 22:21:07",
          "index": 1729,
          "start": "2003-04-11 22:17:39"
         },
         {
          "end": "2003-04-11 11:22:09",
          "index": 1742,
          "start": "2003-04-11 11:21:13"
         },
         {
          "end": "2003-04-11 11:25:39",
          "index": 1746,
          "start": "2003-04-11 11:24:08"
         },
         {
          "end": "2003-04-11 14:40:28",
          "index": 1757,
          "start": "2003-04-11 14:39:40"
         },
         {
          "end": "2003-04-11 15:12:15",
          "index": 1762,
          "start": "2003-04-11 15:11:41"
         },
         {
          "end": "2003-04-11 09:47:00",
          "index": 1776,
          "start": "2003-04-11 09:46:46"
         },
         {
          "end": "2003-04-11 19:49:38",
          "index": 1873,
          "start": "2003-04-11 19:32:39"
         },
         {
          "end": "2003-03-27 06:44:48",
          "index": 1890,
          "start": "2003-03-27 06:44:36"
         },
         {
          "end": "2003-03-27 07:43:52",
          "index": 1902,
          "start": "2003-03-27 07:42:38"
         },
         {
          "end": "2003-03-27 07:43:52",
          "index": 1915,
          "start": "2003-03-27 07:42:38"
         },
         {
          "end": "2003-03-27 18:41:33",
          "index": 1955,
          "start": "2003-03-27 18:41:17"
         },
         {
          "end": "2003-03-28 18:36:16",
          "index": 2015,
          "start": "2003-03-28 18:36:08"
         },
         {
          "end": "2003-03-28 19:02:18",
          "index": 2020,
          "start": "2003-03-28 19:01:52"
         },
         {
          "end": "2003-03-28 19:07:13",
          "index": 2024,
          "start": "2003-03-28 19:06:41"
         },
         {
          "end": "2003-03-28 22:15:36",
          "index": 2071,
          "start": "2003-03-28 22:13:46"
         },
         {
          "end": "2003-03-28 22:29:32",
          "index": 2075,
          "start": "2003-03-28 22:27:22"
         },
         {
          "end": "2003-03-29 12:00:09",
          "index": 2089,
          "start": "2003-03-29 11:59:36"
         },
         {
          "end": "2003-03-29 23:09:25",
          "index": 2105,
          "start": "2003-03-29 23:07:46"
         },
         {
          "end": "2003-03-29 18:34:35",
          "index": 2262,
          "start": "2003-03-29 18:34:20"
         },
         {
          "end": "2003-03-29 09:12:02",
          "index": 2272,
          "start": "2003-03-29 09:10:28"
         },
         {
          "end": "2003-03-29 09:44:25",
          "index": 2283,
          "start": "2003-03-29 09:44:05"
         },
         {
          "end": "2003-03-29 16:01:46",
          "index": 2501,
          "start": "2003-03-29 16:01:24"
         },
         {
          "end": "2003-03-29 18:24:59",
          "index": 2552,
          "start": "2003-03-29 18:23:32"
         },
         {
          "end": "2003-03-30 15:53:05",
          "index": 2686,
          "start": "2003-03-30 15:52:57"
         },
         {
          "end": "2003-03-30 16:23:54",
          "index": 2687,
          "start": "2003-03-30 16:22:19"
         },
         {
          "end": "2003-03-30 22:58:38",
          "index": 2695,
          "start": "2003-03-30 22:57:16"
         },
         {
          "end": "2003-03-31 12:18:48",
          "index": 2704,
          "start": "2003-03-31 12:18:26"
         },
         {
          "end": "2003-03-31 19:42:58",
          "index": 2714,
          "start": "2003-03-31 19:41:37"
         },
         {
          "end": "2003-03-31 07:36:51",
          "index": 2738,
          "start": "2003-03-31 07:36:50"
         },
         {
          "end": "2003-03-31 09:12:06",
          "index": 2760,
          "start": "2003-03-31 09:11:39"
         },
         {
          "end": "2003-03-31 09:35:09",
          "index": 2768,
          "start": "2003-03-31 09:34:04"
         }
        ]
       },
       "encoding": {
        "detail": {
         "field": "index",
         "type": "quantitative"
        },
        "x": {
         "field": "start",
         "timeUnit": "hoursminutes",
         "type": "temporal"
        },
        "x2": {
         "field": "end",
         "timeUnit": "hoursminutes"
        },
        "y": {
         "field": "start",
         "timeUnit": "date",
         "type": "ordinal"
        }
       },
       "mark": "bar",
       "selection": {
        "selector001": {
         "bind": "scales",
         "encodings": [
          "x",
          "y"
         ],
         "type": "interval"
        }
       },
       "width": 750
      },
      "image/png": "[encoded data removed]",
      "text/plain": [
       "<VegaLite 3 object>\n",
       "\n",
       "If you see this message, it means the renderer has not been properly enabled\n",
       "for the frontend that you are using. For more information, see\n",
       "https://altair-viz.github.io/user_guide/troubleshooting.html\n"
      ]
     },
     "execution_count": 99,
     "metadata": {},
     "output_type": "execute_result"
    }
   ],
   "source": [
    "dsCheck = ds[ds['subActNum']==58]\n",
    "\n",
    "df = pd.DataFrame({ \n",
    "    'start': dsCheck.start, \n",
    "    'end': dsCheck.end,})\n",
    "\n",
    "alt.Chart(df.reset_index()).mark_bar().encode(\n",
    "    y='date(start):O',\n",
    "    x='hoursminutes(start)',\n",
    "    x2='hoursminutes(end)',\n",
    "    detail='index'\n",
    ").properties(width=750).interactive()"
   ]
  },
  {
   "cell_type": "code",
   "execution_count": 108,
   "metadata": {},
   "outputs": [],
   "source": [
    "#https://stackoverflow.com/questions/50164001/multiple-column-row-facet-wrap-in-altair?rq=1"
   ]
  },
  {
   "cell_type": "markdown",
   "metadata": {},
   "source": [
    "---"
   ]
  },
  {
   "cell_type": "code",
   "execution_count": null,
   "metadata": {},
   "outputs": [],
   "source": []
  },
  {
   "cell_type": "code",
   "execution_count": null,
   "metadata": {},
   "outputs": [],
   "source": [
    "charts = []\n",
    "for value in unique_list:\n",
    "    dsValue = ds[ds['subActNum'] == value]\n",
    "    \n",
    "    df = pd.DataFrame({ \n",
    "    'start': dsValue.start, \n",
    "    'end': dsValue.end,})\n",
    "\n",
    "    alt.Chart(df.reset_index()).mark_bar().encode(\n",
    "        y='date(start):O',\n",
    "        x='hoursminutes(start)',\n",
    "        x2='hoursminutes(end)',\n",
    "        detail='index') \n",
    "    \n",
    "    for i in range(len(unique_list)):\n",
    "        charts.append(alt.Chart(df).mark_point())\n",
    "    alt.vconcat(*charts)\n"
   ]
  }
 ],
 "metadata": {
  "kernelspec": {
   "display_name": "Python 3",
   "language": "python",
   "name": "python3"
  },
  "language_info": {
   "codemirror_mode": {
    "name": "ipython",
    "version": 3
   },
   "file_extension": ".py",
   "mimetype": "text/x-python",
   "name": "python",
   "nbconvert_exporter": "python",
   "pygments_lexer": "ipython3",
   "version": "3.7.4"
  }
 },
 "nbformat": 4,
 "nbformat_minor": 4
}
